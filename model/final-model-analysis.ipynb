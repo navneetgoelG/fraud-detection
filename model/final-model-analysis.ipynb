{
 "cells": [
  {
   "cell_type": "code",
   "execution_count": 1,
   "metadata": {
    "_cell_guid": "79c7e3d0-c299-4dcb-8224-4455121ee9b0",
    "_uuid": "d629ff2d2480ee46fbb7e2d37f6b5fab8052498a",
    "execution": {
     "iopub.execute_input": "2020-12-13T14:32:23.247730Z",
     "iopub.status.busy": "2020-12-13T14:32:23.246904Z",
     "iopub.status.idle": "2020-12-13T14:32:25.474535Z",
     "shell.execute_reply": "2020-12-13T14:32:25.473749Z"
    },
    "papermill": {
     "duration": 2.300548,
     "end_time": "2020-12-13T14:32:25.474678",
     "exception": false,
     "start_time": "2020-12-13T14:32:23.174130",
     "status": "completed"
    },
    "tags": []
   },
   "outputs": [],
   "source": [
    "# importing useful libraries\n",
    "\n",
    "import numpy as np\n",
    "import pandas as pd\n",
    "import matplotlib.pyplot as plt\n",
    "import seaborn as sns\n",
    "\n",
    "from sklearn.model_selection import StratifiedKFold, cross_validate, train_test_split\n",
    "from sklearn.preprocessing import StandardScaler\n",
    "from sklearn.metrics import f1_score\n",
    "from sklearn.pipeline import Pipeline\n",
    "from sklearn.base import BaseEstimator, TransformerMixin\n",
    "\n",
    "from xgboost import XGBClassifier\n",
    "\n",
    "import warnings\n",
    "warnings.filterwarnings('ignore')\n",
    "\n",
    "%matplotlib inline"
   ]
  },
  {
   "cell_type": "code",
   "execution_count": 2,
   "metadata": {
    "execution": {
     "iopub.execute_input": "2020-12-13T14:32:25.596530Z",
     "iopub.status.busy": "2020-12-13T14:32:25.595730Z",
     "iopub.status.idle": "2020-12-13T14:32:30.105606Z",
     "shell.execute_reply": "2020-12-13T14:32:30.104943Z"
    },
    "papermill": {
     "duration": 4.575434,
     "end_time": "2020-12-13T14:32:30.105738",
     "exception": false,
     "start_time": "2020-12-13T14:32:25.530304",
     "status": "completed"
    },
    "tags": []
   },
   "outputs": [
    {
     "name": "stdout",
     "output_type": "stream",
     "text": [
      "(284807, 31)\n"
     ]
    },
    {
     "data": {
      "text/html": [
       "<div>\n",
       "<style scoped>\n",
       "    .dataframe tbody tr th:only-of-type {\n",
       "        vertical-align: middle;\n",
       "    }\n",
       "\n",
       "    .dataframe tbody tr th {\n",
       "        vertical-align: top;\n",
       "    }\n",
       "\n",
       "    .dataframe thead th {\n",
       "        text-align: right;\n",
       "    }\n",
       "</style>\n",
       "<table border=\"1\" class=\"dataframe\">\n",
       "  <thead>\n",
       "    <tr style=\"text-align: right;\">\n",
       "      <th></th>\n",
       "      <th>Time</th>\n",
       "      <th>V1</th>\n",
       "      <th>V2</th>\n",
       "      <th>V3</th>\n",
       "      <th>V4</th>\n",
       "      <th>V5</th>\n",
       "      <th>V6</th>\n",
       "      <th>V7</th>\n",
       "      <th>V8</th>\n",
       "      <th>V9</th>\n",
       "      <th>...</th>\n",
       "      <th>V21</th>\n",
       "      <th>V22</th>\n",
       "      <th>V23</th>\n",
       "      <th>V24</th>\n",
       "      <th>V25</th>\n",
       "      <th>V26</th>\n",
       "      <th>V27</th>\n",
       "      <th>V28</th>\n",
       "      <th>Amount</th>\n",
       "      <th>Class</th>\n",
       "    </tr>\n",
       "  </thead>\n",
       "  <tbody>\n",
       "    <tr>\n",
       "      <th>0</th>\n",
       "      <td>0.0</td>\n",
       "      <td>-1.359807</td>\n",
       "      <td>-0.072781</td>\n",
       "      <td>2.536347</td>\n",
       "      <td>1.378155</td>\n",
       "      <td>-0.338321</td>\n",
       "      <td>0.462388</td>\n",
       "      <td>0.239599</td>\n",
       "      <td>0.098698</td>\n",
       "      <td>0.363787</td>\n",
       "      <td>...</td>\n",
       "      <td>-0.018307</td>\n",
       "      <td>0.277838</td>\n",
       "      <td>-0.110474</td>\n",
       "      <td>0.066928</td>\n",
       "      <td>0.128539</td>\n",
       "      <td>-0.189115</td>\n",
       "      <td>0.133558</td>\n",
       "      <td>-0.021053</td>\n",
       "      <td>149.62</td>\n",
       "      <td>0</td>\n",
       "    </tr>\n",
       "    <tr>\n",
       "      <th>1</th>\n",
       "      <td>0.0</td>\n",
       "      <td>1.191857</td>\n",
       "      <td>0.266151</td>\n",
       "      <td>0.166480</td>\n",
       "      <td>0.448154</td>\n",
       "      <td>0.060018</td>\n",
       "      <td>-0.082361</td>\n",
       "      <td>-0.078803</td>\n",
       "      <td>0.085102</td>\n",
       "      <td>-0.255425</td>\n",
       "      <td>...</td>\n",
       "      <td>-0.225775</td>\n",
       "      <td>-0.638672</td>\n",
       "      <td>0.101288</td>\n",
       "      <td>-0.339846</td>\n",
       "      <td>0.167170</td>\n",
       "      <td>0.125895</td>\n",
       "      <td>-0.008983</td>\n",
       "      <td>0.014724</td>\n",
       "      <td>2.69</td>\n",
       "      <td>0</td>\n",
       "    </tr>\n",
       "    <tr>\n",
       "      <th>2</th>\n",
       "      <td>1.0</td>\n",
       "      <td>-1.358354</td>\n",
       "      <td>-1.340163</td>\n",
       "      <td>1.773209</td>\n",
       "      <td>0.379780</td>\n",
       "      <td>-0.503198</td>\n",
       "      <td>1.800499</td>\n",
       "      <td>0.791461</td>\n",
       "      <td>0.247676</td>\n",
       "      <td>-1.514654</td>\n",
       "      <td>...</td>\n",
       "      <td>0.247998</td>\n",
       "      <td>0.771679</td>\n",
       "      <td>0.909412</td>\n",
       "      <td>-0.689281</td>\n",
       "      <td>-0.327642</td>\n",
       "      <td>-0.139097</td>\n",
       "      <td>-0.055353</td>\n",
       "      <td>-0.059752</td>\n",
       "      <td>378.66</td>\n",
       "      <td>0</td>\n",
       "    </tr>\n",
       "    <tr>\n",
       "      <th>3</th>\n",
       "      <td>1.0</td>\n",
       "      <td>-0.966272</td>\n",
       "      <td>-0.185226</td>\n",
       "      <td>1.792993</td>\n",
       "      <td>-0.863291</td>\n",
       "      <td>-0.010309</td>\n",
       "      <td>1.247203</td>\n",
       "      <td>0.237609</td>\n",
       "      <td>0.377436</td>\n",
       "      <td>-1.387024</td>\n",
       "      <td>...</td>\n",
       "      <td>-0.108300</td>\n",
       "      <td>0.005274</td>\n",
       "      <td>-0.190321</td>\n",
       "      <td>-1.175575</td>\n",
       "      <td>0.647376</td>\n",
       "      <td>-0.221929</td>\n",
       "      <td>0.062723</td>\n",
       "      <td>0.061458</td>\n",
       "      <td>123.50</td>\n",
       "      <td>0</td>\n",
       "    </tr>\n",
       "    <tr>\n",
       "      <th>4</th>\n",
       "      <td>2.0</td>\n",
       "      <td>-1.158233</td>\n",
       "      <td>0.877737</td>\n",
       "      <td>1.548718</td>\n",
       "      <td>0.403034</td>\n",
       "      <td>-0.407193</td>\n",
       "      <td>0.095921</td>\n",
       "      <td>0.592941</td>\n",
       "      <td>-0.270533</td>\n",
       "      <td>0.817739</td>\n",
       "      <td>...</td>\n",
       "      <td>-0.009431</td>\n",
       "      <td>0.798278</td>\n",
       "      <td>-0.137458</td>\n",
       "      <td>0.141267</td>\n",
       "      <td>-0.206010</td>\n",
       "      <td>0.502292</td>\n",
       "      <td>0.219422</td>\n",
       "      <td>0.215153</td>\n",
       "      <td>69.99</td>\n",
       "      <td>0</td>\n",
       "    </tr>\n",
       "  </tbody>\n",
       "</table>\n",
       "<p>5 rows × 31 columns</p>\n",
       "</div>"
      ],
      "text/plain": [
       "   Time        V1        V2        V3        V4        V5        V6        V7  \\\n",
       "0   0.0 -1.359807 -0.072781  2.536347  1.378155 -0.338321  0.462388  0.239599   \n",
       "1   0.0  1.191857  0.266151  0.166480  0.448154  0.060018 -0.082361 -0.078803   \n",
       "2   1.0 -1.358354 -1.340163  1.773209  0.379780 -0.503198  1.800499  0.791461   \n",
       "3   1.0 -0.966272 -0.185226  1.792993 -0.863291 -0.010309  1.247203  0.237609   \n",
       "4   2.0 -1.158233  0.877737  1.548718  0.403034 -0.407193  0.095921  0.592941   \n",
       "\n",
       "         V8        V9  ...       V21       V22       V23       V24       V25  \\\n",
       "0  0.098698  0.363787  ... -0.018307  0.277838 -0.110474  0.066928  0.128539   \n",
       "1  0.085102 -0.255425  ... -0.225775 -0.638672  0.101288 -0.339846  0.167170   \n",
       "2  0.247676 -1.514654  ...  0.247998  0.771679  0.909412 -0.689281 -0.327642   \n",
       "3  0.377436 -1.387024  ... -0.108300  0.005274 -0.190321 -1.175575  0.647376   \n",
       "4 -0.270533  0.817739  ... -0.009431  0.798278 -0.137458  0.141267 -0.206010   \n",
       "\n",
       "        V26       V27       V28  Amount  Class  \n",
       "0 -0.189115  0.133558 -0.021053  149.62      0  \n",
       "1  0.125895 -0.008983  0.014724    2.69      0  \n",
       "2 -0.139097 -0.055353 -0.059752  378.66      0  \n",
       "3 -0.221929  0.062723  0.061458  123.50      0  \n",
       "4  0.502292  0.219422  0.215153   69.99      0  \n",
       "\n",
       "[5 rows x 31 columns]"
      ]
     },
     "execution_count": 2,
     "metadata": {},
     "output_type": "execute_result"
    }
   ],
   "source": [
    "# loading in the dataset\n",
    "credit_card_df = pd.read_csv('../input/creditcardfraud/creditcard.csv')\n",
    "print(credit_card_df.shape)\n",
    "credit_card_df.head()"
   ]
  },
  {
   "cell_type": "code",
   "execution_count": 3,
   "metadata": {
    "execution": {
     "iopub.execute_input": "2020-12-13T14:32:30.225962Z",
     "iopub.status.busy": "2020-12-13T14:32:30.225100Z",
     "iopub.status.idle": "2020-12-13T14:32:30.228766Z",
     "shell.execute_reply": "2020-12-13T14:32:30.229369Z"
    },
    "papermill": {
     "duration": 0.066411,
     "end_time": "2020-12-13T14:32:30.229523",
     "exception": false,
     "start_time": "2020-12-13T14:32:30.163112",
     "status": "completed"
    },
    "tags": []
   },
   "outputs": [
    {
     "name": "stdout",
     "output_type": "stream",
     "text": [
      "['V1', 'V2', 'V3', 'V4', 'V5', 'V6', 'V7', 'V8', 'V9', 'V10', 'V11', 'V12', 'V13', 'V14', 'V15', 'V16', 'V17', 'V18', 'V19', 'V20', 'V21', 'V22', 'V23', 'V24', 'V26', 'V27', 'V28']\n"
     ]
    }
   ],
   "source": [
    "# 27 most important features according to our EDA\n",
    "cols = ['V'+str(i) for i in range(1, 29) if i != 25]\n",
    "print(cols)"
   ]
  },
  {
   "cell_type": "code",
   "execution_count": 4,
   "metadata": {
    "execution": {
     "iopub.execute_input": "2020-12-13T14:32:30.349973Z",
     "iopub.status.busy": "2020-12-13T14:32:30.348718Z",
     "iopub.status.idle": "2020-12-13T14:32:30.398993Z",
     "shell.execute_reply": "2020-12-13T14:32:30.398353Z"
    },
    "papermill": {
     "duration": 0.112595,
     "end_time": "2020-12-13T14:32:30.399147",
     "exception": false,
     "start_time": "2020-12-13T14:32:30.286552",
     "status": "completed"
    },
    "tags": []
   },
   "outputs": [
    {
     "data": {
      "text/plain": [
       "(284807, 30)"
      ]
     },
     "execution_count": 4,
     "metadata": {},
     "output_type": "execute_result"
    }
   ],
   "source": [
    "# selecting the 27 most important features according to our EDA \n",
    "df = credit_card_df.copy()\n",
    "\n",
    "y = df.pop('Class') # selecting the target variable\n",
    "\n",
    "X = df\n",
    "X.shape"
   ]
  },
  {
   "cell_type": "code",
   "execution_count": 5,
   "metadata": {
    "execution": {
     "iopub.execute_input": "2020-12-13T14:32:30.519627Z",
     "iopub.status.busy": "2020-12-13T14:32:30.518542Z",
     "iopub.status.idle": "2020-12-13T14:32:30.530622Z",
     "shell.execute_reply": "2020-12-13T14:32:30.529810Z"
    },
    "papermill": {
     "duration": 0.0744,
     "end_time": "2020-12-13T14:32:30.530748",
     "exception": false,
     "start_time": "2020-12-13T14:32:30.456348",
     "status": "completed"
    },
    "tags": []
   },
   "outputs": [
    {
     "data": {
      "text/plain": [
       "{0: 3.51722561243691e-06, 1: 0.0020325203252032522}"
      ]
     },
     "execution_count": 5,
     "metadata": {},
     "output_type": "execute_result"
    }
   ],
   "source": [
    "val_count = y.value_counts()\n",
    "weights = dict(1 / val_count) # to be used as class weights\n",
    "weights"
   ]
  },
  {
   "cell_type": "code",
   "execution_count": 6,
   "metadata": {
    "execution": {
     "iopub.execute_input": "2020-12-13T14:32:30.655384Z",
     "iopub.status.busy": "2020-12-13T14:32:30.654513Z",
     "iopub.status.idle": "2020-12-13T14:32:30.658426Z",
     "shell.execute_reply": "2020-12-13T14:32:30.659053Z"
    },
    "papermill": {
     "duration": 0.069886,
     "end_time": "2020-12-13T14:32:30.659253",
     "exception": false,
     "start_time": "2020-12-13T14:32:30.589367",
     "status": "completed"
    },
    "tags": []
   },
   "outputs": [
    {
     "data": {
      "text/plain": [
       "0    577.876016\n",
       "1      1.000000\n",
       "Name: Class, dtype: float64"
      ]
     },
     "execution_count": 6,
     "metadata": {},
     "output_type": "execute_result"
    }
   ],
   "source": [
    "scale_pos_weight = val_count / val_count[1]\n",
    "scale_pos_weight"
   ]
  },
  {
   "cell_type": "code",
   "execution_count": null,
   "metadata": {
    "papermill": {
     "duration": 0.058695,
     "end_time": "2020-12-13T14:32:30.777094",
     "exception": false,
     "start_time": "2020-12-13T14:32:30.718399",
     "status": "completed"
    },
    "tags": []
   },
   "outputs": [],
   "source": []
  },
  {
   "cell_type": "markdown",
   "metadata": {
    "papermill": {
     "duration": 0.058973,
     "end_time": "2020-12-13T14:32:30.895092",
     "exception": false,
     "start_time": "2020-12-13T14:32:30.836119",
     "status": "completed"
    },
    "tags": []
   },
   "source": [
    "## <center>Cost matrix for fraud detection</center>\n",
    "\n",
    "||Actual Positive|Actual Negative|\n",
    "|:-:|:-:|:-:|\n",
    "|**Predicted Positive**|administrative cost|administrative cost|\n",
    "|**Predicted Negative**|transactional cost|0|"
   ]
  },
  {
   "cell_type": "markdown",
   "metadata": {
    "papermill": {
     "duration": 0.059368,
     "end_time": "2020-12-13T14:32:31.013857",
     "exception": false,
     "start_time": "2020-12-13T14:32:30.954489",
     "status": "completed"
    },
    "tags": []
   },
   "source": [
    "### *see [this article](https://towardsdatascience.com/fraud-detection-with-cost-sensitive-machine-learning-24b8760d35d9) for more about cost sensitive machine learning for fraud detection*"
   ]
  },
  {
   "cell_type": "code",
   "execution_count": 7,
   "metadata": {
    "execution": {
     "iopub.execute_input": "2020-12-13T14:32:31.137690Z",
     "iopub.status.busy": "2020-12-13T14:32:31.136589Z",
     "iopub.status.idle": "2020-12-13T14:32:31.140066Z",
     "shell.execute_reply": "2020-12-13T14:32:31.139344Z"
    },
    "papermill": {
     "duration": 0.06768,
     "end_time": "2020-12-13T14:32:31.140195",
     "exception": false,
     "start_time": "2020-12-13T14:32:31.072515",
     "status": "completed"
    },
    "tags": []
   },
   "outputs": [],
   "source": [
    "admin_cost = 2.5"
   ]
  },
  {
   "cell_type": "markdown",
   "metadata": {
    "papermill": {
     "duration": 0.058722,
     "end_time": "2020-12-13T14:32:31.259363",
     "exception": false,
     "start_time": "2020-12-13T14:32:31.200641",
     "status": "completed"
    },
    "tags": []
   },
   "source": [
    "### our choice of using 2.5euros as the administartive cost because it seems to be the best for our problem as suggested by [this paper](https://www.researchgate.net/publication/262390835_Cost_Sensitive_Credit_Card_Fraud_Detection_Using_Bayes_Minimum_Risk)"
   ]
  },
  {
   "cell_type": "markdown",
   "metadata": {
    "papermill": {
     "duration": 0.059747,
     "end_time": "2020-12-13T14:32:31.378241",
     "exception": false,
     "start_time": "2020-12-13T14:32:31.318494",
     "status": "completed"
    },
    "tags": []
   },
   "source": [
    "## Also, implementing cost sensitive models for sklearn's classifier is challenging. It is as good as creating a new model from the scratch. For simplicity, we will not penalize our model of True Positives (although, the cost matrix suggests we should penalize it for true positives). This will mean that we are only penalizing MISCLASSIFICATIONS (trying to minimize costs due to misclassification and not cost in general)."
   ]
  },
  {
   "cell_type": "code",
   "execution_count": 8,
   "metadata": {
    "execution": {
     "iopub.execute_input": "2020-12-13T14:32:31.505826Z",
     "iopub.status.busy": "2020-12-13T14:32:31.504975Z",
     "iopub.status.idle": "2020-12-13T14:32:31.508487Z",
     "shell.execute_reply": "2020-12-13T14:32:31.507746Z"
    },
    "papermill": {
     "duration": 0.071077,
     "end_time": "2020-12-13T14:32:31.508609",
     "exception": false,
     "start_time": "2020-12-13T14:32:31.437532",
     "status": "completed"
    },
    "tags": []
   },
   "outputs": [],
   "source": [
    "# defining a function to calculate cost savings\n",
    "def cost_saving(ytrue, ypred, amount):\n",
    "    fp = np.sum((ytrue == 0) & (ypred == 1))\n",
    "    cost = np.sum(fp*admin_cost) + np.sum((amount[(ytrue == 1) & (ypred == 0)]))\n",
    "    max_cost = np.sum((amount[(ytrue == 1)]))\n",
    "    savings = 1 - (cost/max_cost)\n",
    "    \n",
    "    return savings"
   ]
  },
  {
   "cell_type": "code",
   "execution_count": 9,
   "metadata": {
    "execution": {
     "iopub.execute_input": "2020-12-13T14:32:31.633282Z",
     "iopub.status.busy": "2020-12-13T14:32:31.632235Z",
     "iopub.status.idle": "2020-12-13T14:32:31.635483Z",
     "shell.execute_reply": "2020-12-13T14:32:31.634863Z"
    },
    "papermill": {
     "duration": 0.067684,
     "end_time": "2020-12-13T14:32:31.635613",
     "exception": false,
     "start_time": "2020-12-13T14:32:31.567929",
     "status": "completed"
    },
    "tags": []
   },
   "outputs": [],
   "source": [
    "cv = StratifiedKFold(n_splits=4, shuffle=True, random_state=1)"
   ]
  },
  {
   "cell_type": "code",
   "execution_count": 10,
   "metadata": {
    "execution": {
     "iopub.execute_input": "2020-12-13T14:32:31.763497Z",
     "iopub.status.busy": "2020-12-13T14:32:31.762516Z",
     "iopub.status.idle": "2020-12-13T14:32:31.765597Z",
     "shell.execute_reply": "2020-12-13T14:32:31.765003Z"
    },
    "papermill": {
     "duration": 0.070719,
     "end_time": "2020-12-13T14:32:31.765730",
     "exception": false,
     "start_time": "2020-12-13T14:32:31.695011",
     "status": "completed"
    },
    "tags": []
   },
   "outputs": [],
   "source": [
    "# defining a function to calculate cost saving per fold (splits) of our cv\n",
    "def cost_saving_per_split(scores, x, y, cv_object):\n",
    "    results = []\n",
    "    for i, (_, test_ind) in zip(range(cv_object.n_splits), cv_object.split(x, y)):\n",
    "        ypred = scores['estimator'][i].predict(x[test_ind])\n",
    "        ytrue = y[test_ind]\n",
    "        amount = df['Amount'].values[test_ind]\n",
    "        results.append(cost_saving(ytrue, ypred, amount))\n",
    "        \n",
    "    return results"
   ]
  },
  {
   "cell_type": "code",
   "execution_count": 11,
   "metadata": {
    "execution": {
     "iopub.execute_input": "2020-12-13T14:32:31.898654Z",
     "iopub.status.busy": "2020-12-13T14:32:31.897661Z",
     "iopub.status.idle": "2020-12-13T14:32:31.900342Z",
     "shell.execute_reply": "2020-12-13T14:32:31.900870Z"
    },
    "papermill": {
     "duration": 0.076019,
     "end_time": "2020-12-13T14:32:31.901102",
     "exception": false,
     "start_time": "2020-12-13T14:32:31.825083",
     "status": "completed"
    },
    "tags": []
   },
   "outputs": [],
   "source": [
    "# defining a function to return a dataframe of metrics results for each fold in our cv\n",
    "def get_metric_scores(scores, x, y=y, cv_object=cv):\n",
    "    ind = ['split_'+str(n) for n in range(1, cv_object.n_splits+1)]\n",
    "    \n",
    "    scores_df = pd.DataFrame(index=ind)\n",
    "    \n",
    "    scores_df['f1_score'] = scores['test_f1']\n",
    "    scores_df['auc_pr'] = scores['test_average_precision']\n",
    "    scores_df['cost_savings'] = cost_saving_per_split(scores, x, y, cv_object)\n",
    "\n",
    "    return scores_df"
   ]
  },
  {
   "cell_type": "code",
   "execution_count": null,
   "metadata": {
    "papermill": {
     "duration": 0.059916,
     "end_time": "2020-12-13T14:32:32.021227",
     "exception": false,
     "start_time": "2020-12-13T14:32:31.961311",
     "status": "completed"
    },
    "tags": []
   },
   "outputs": [],
   "source": []
  },
  {
   "cell_type": "code",
   "execution_count": 12,
   "metadata": {
    "_cell_guid": "79c7e3d0-c299-4dcb-8224-4455121ee9b0",
    "_uuid": "d629ff2d2480ee46fbb7e2d37f6b5fab8052498a",
    "execution": {
     "iopub.execute_input": "2020-12-13T14:32:32.154162Z",
     "iopub.status.busy": "2020-12-13T14:32:32.149671Z",
     "iopub.status.idle": "2020-12-13T14:32:32.157466Z",
     "shell.execute_reply": "2020-12-13T14:32:32.156702Z"
    },
    "papermill": {
     "duration": 0.07665,
     "end_time": "2020-12-13T14:32:32.157594",
     "exception": false,
     "start_time": "2020-12-13T14:32:32.080944",
     "status": "completed"
    },
    "tags": []
   },
   "outputs": [],
   "source": [
    "class ColumnSelector(BaseEstimator, TransformerMixin):\n",
    "    def __init__(self, cols=cols):\n",
    "        self.cols = cols\n",
    "\n",
    "    def fit(self, X, y=None):\n",
    "        return self\n",
    "\n",
    "    def transform(self, X):\n",
    "        if isinstance(X, pd.DataFrame):\n",
    "            return np.array(X[self.cols])\n",
    "\n",
    "        elif isinstance(X, pd.Series):\n",
    "            return np.array(X[self.cols]).reshape(1, -1)\n",
    "\n",
    "        elif isinstance(X, np.ndarray):\n",
    "            self.cols_ind = [int(col[1:]) for col in self.cols]\n",
    "            if len(X.shape) == 1: # if one dimensional array\n",
    "                return X[self.cols_ind].reshape(1, -1)\n",
    "            return X[:, self.cols_ind]\n",
    "\n",
    "        else:\n",
    "            raise TypeError('expected input type to be any of pd.Series, pd.DataFrame or np.ndarray but got {}'.format(type(X)))"
   ]
  },
  {
   "cell_type": "code",
   "execution_count": 13,
   "metadata": {
    "execution": {
     "iopub.execute_input": "2020-12-13T14:32:32.286135Z",
     "iopub.status.busy": "2020-12-13T14:32:32.285352Z",
     "iopub.status.idle": "2020-12-13T14:35:12.204268Z",
     "shell.execute_reply": "2020-12-13T14:35:12.203433Z"
    },
    "papermill": {
     "duration": 159.986991,
     "end_time": "2020-12-13T14:35:12.204454",
     "exception": false,
     "start_time": "2020-12-13T14:32:32.217463",
     "status": "completed"
    },
    "tags": []
   },
   "outputs": [
    {
     "name": "stderr",
     "output_type": "stream",
     "text": [
      "[Parallel(n_jobs=-1)]: Using backend LokyBackend with 4 concurrent workers.\n",
      "[Parallel(n_jobs=-1)]: Done   2 out of   4 | elapsed:  2.6min remaining:  2.6min\n",
      "[Parallel(n_jobs=-1)]: Done   4 out of   4 | elapsed:  2.7min finished\n"
     ]
    }
   ],
   "source": [
    "fraud_sensitive_model = XGBClassifier(random_state=1)\n",
    "scaler = StandardScaler()\n",
    "col_select = ColumnSelector()\n",
    "\n",
    "fraud_sensitive_pipe = Pipeline([('col_seclect', col_select), ('scaler', scaler), \\\n",
    "                                  ('model', fraud_sensitive_model)])\n",
    "\n",
    "fraud_sensitive_scores = cross_validate(fraud_sensitive_pipe, np.array(X), y, \\\n",
    "                            scoring=['f1', 'average_precision'], cv=cv, n_jobs=-1, verbose=1, \\\n",
    "                                        return_estimator=True, error_score='raise')"
   ]
  },
  {
   "cell_type": "code",
   "execution_count": 14,
   "metadata": {
    "execution": {
     "iopub.execute_input": "2020-12-13T14:35:12.340216Z",
     "iopub.status.busy": "2020-12-13T14:35:12.338761Z",
     "iopub.status.idle": "2020-12-13T14:35:13.391981Z",
     "shell.execute_reply": "2020-12-13T14:35:13.393171Z"
    },
    "papermill": {
     "duration": 1.12144,
     "end_time": "2020-12-13T14:35:13.393357",
     "exception": false,
     "start_time": "2020-12-13T14:35:12.271917",
     "status": "completed"
    },
    "tags": []
   },
   "outputs": [
    {
     "data": {
      "text/html": [
       "<div>\n",
       "<style scoped>\n",
       "    .dataframe tbody tr th:only-of-type {\n",
       "        vertical-align: middle;\n",
       "    }\n",
       "\n",
       "    .dataframe tbody tr th {\n",
       "        vertical-align: top;\n",
       "    }\n",
       "\n",
       "    .dataframe thead th {\n",
       "        text-align: right;\n",
       "    }\n",
       "</style>\n",
       "<table border=\"1\" class=\"dataframe\">\n",
       "  <thead>\n",
       "    <tr style=\"text-align: right;\">\n",
       "      <th></th>\n",
       "      <th>f1_score</th>\n",
       "      <th>auc_pr</th>\n",
       "      <th>cost_savings</th>\n",
       "    </tr>\n",
       "  </thead>\n",
       "  <tbody>\n",
       "    <tr>\n",
       "      <th>split_1</th>\n",
       "      <td>0.854626</td>\n",
       "      <td>0.814355</td>\n",
       "      <td>0.727503</td>\n",
       "    </tr>\n",
       "    <tr>\n",
       "      <th>split_2</th>\n",
       "      <td>0.877193</td>\n",
       "      <td>0.869953</td>\n",
       "      <td>0.755890</td>\n",
       "    </tr>\n",
       "    <tr>\n",
       "      <th>split_3</th>\n",
       "      <td>0.888889</td>\n",
       "      <td>0.893029</td>\n",
       "      <td>0.726574</td>\n",
       "    </tr>\n",
       "    <tr>\n",
       "      <th>split_4</th>\n",
       "      <td>0.837838</td>\n",
       "      <td>0.840851</td>\n",
       "      <td>0.567046</td>\n",
       "    </tr>\n",
       "  </tbody>\n",
       "</table>\n",
       "</div>"
      ],
      "text/plain": [
       "         f1_score    auc_pr  cost_savings\n",
       "split_1  0.854626  0.814355      0.727503\n",
       "split_2  0.877193  0.869953      0.755890\n",
       "split_3  0.888889  0.893029      0.726574\n",
       "split_4  0.837838  0.840851      0.567046"
      ]
     },
     "execution_count": 14,
     "metadata": {},
     "output_type": "execute_result"
    }
   ],
   "source": [
    "fraud_sensitive_results = get_metric_scores(fraud_sensitive_scores, np.array(X))\n",
    "fraud_sensitive_results"
   ]
  },
  {
   "cell_type": "code",
   "execution_count": 15,
   "metadata": {
    "execution": {
     "iopub.execute_input": "2020-12-13T14:35:13.551908Z",
     "iopub.status.busy": "2020-12-13T14:35:13.551087Z",
     "iopub.status.idle": "2020-12-13T14:35:13.556540Z",
     "shell.execute_reply": "2020-12-13T14:35:13.557161Z"
    },
    "papermill": {
     "duration": 0.089265,
     "end_time": "2020-12-13T14:35:13.557342",
     "exception": false,
     "start_time": "2020-12-13T14:35:13.468077",
     "status": "completed"
    },
    "tags": []
   },
   "outputs": [
    {
     "data": {
      "text/plain": [
       "f1_score        0.864636\n",
       "auc_pr          0.854547\n",
       "cost_savings    0.694253\n",
       "dtype: float64"
      ]
     },
     "execution_count": 15,
     "metadata": {},
     "output_type": "execute_result"
    }
   ],
   "source": [
    "fraud_sensitive_results.mean()"
   ]
  },
  {
   "cell_type": "code",
   "execution_count": null,
   "metadata": {
    "papermill": {
     "duration": 0.061556,
     "end_time": "2020-12-13T14:35:13.682330",
     "exception": false,
     "start_time": "2020-12-13T14:35:13.620774",
     "status": "completed"
    },
    "tags": []
   },
   "outputs": [],
   "source": []
  },
  {
   "cell_type": "code",
   "execution_count": 16,
   "metadata": {
    "execution": {
     "iopub.execute_input": "2020-12-13T14:35:13.817001Z",
     "iopub.status.busy": "2020-12-13T14:35:13.816219Z",
     "iopub.status.idle": "2020-12-13T14:38:04.197272Z",
     "shell.execute_reply": "2020-12-13T14:38:04.196447Z"
    },
    "papermill": {
     "duration": 170.452355,
     "end_time": "2020-12-13T14:38:04.197413",
     "exception": false,
     "start_time": "2020-12-13T14:35:13.745058",
     "status": "completed"
    },
    "tags": []
   },
   "outputs": [
    {
     "name": "stderr",
     "output_type": "stream",
     "text": [
      "[Parallel(n_jobs=-1)]: Using backend LokyBackend with 4 concurrent workers.\n",
      "[Parallel(n_jobs=-1)]: Done   2 out of   4 | elapsed:  2.8min remaining:  2.8min\n",
      "[Parallel(n_jobs=-1)]: Done   4 out of   4 | elapsed:  2.8min finished\n"
     ]
    }
   ],
   "source": [
    "# setting class weight\n",
    "fraud_sensitive_model2 = XGBClassifier(random_state=1, scale_pos_weight=scale_pos_weight[0])\n",
    "scaler2 = StandardScaler()\n",
    "col_select2 = ColumnSelector()\n",
    "\n",
    "fraud_sensitive_pipe2 = Pipeline([('col_seclect', col_select2), ('scaler', scaler2), \\\n",
    "                                  ('model', fraud_sensitive_model2)])\n",
    "\n",
    "fraud_sensitive_scores2 = cross_validate(fraud_sensitive_pipe2, np.array(X), y, \\\n",
    "                            scoring=['f1', 'average_precision'], cv=cv, n_jobs=-1, verbose=1, \\\n",
    "                                        return_estimator=True, error_score='raise')"
   ]
  },
  {
   "cell_type": "code",
   "execution_count": 17,
   "metadata": {
    "execution": {
     "iopub.execute_input": "2020-12-13T14:38:04.339865Z",
     "iopub.status.busy": "2020-12-13T14:38:04.338678Z",
     "iopub.status.idle": "2020-12-13T14:38:06.150919Z",
     "shell.execute_reply": "2020-12-13T14:38:06.152125Z"
    },
    "papermill": {
     "duration": 1.886483,
     "end_time": "2020-12-13T14:38:06.152348",
     "exception": false,
     "start_time": "2020-12-13T14:38:04.265865",
     "status": "completed"
    },
    "tags": []
   },
   "outputs": [
    {
     "data": {
      "text/html": [
       "<div>\n",
       "<style scoped>\n",
       "    .dataframe tbody tr th:only-of-type {\n",
       "        vertical-align: middle;\n",
       "    }\n",
       "\n",
       "    .dataframe tbody tr th {\n",
       "        vertical-align: top;\n",
       "    }\n",
       "\n",
       "    .dataframe thead th {\n",
       "        text-align: right;\n",
       "    }\n",
       "</style>\n",
       "<table border=\"1\" class=\"dataframe\">\n",
       "  <thead>\n",
       "    <tr style=\"text-align: right;\">\n",
       "      <th></th>\n",
       "      <th>f1_score</th>\n",
       "      <th>auc_pr</th>\n",
       "      <th>cost_savings</th>\n",
       "    </tr>\n",
       "  </thead>\n",
       "  <tbody>\n",
       "    <tr>\n",
       "      <th>split_1</th>\n",
       "      <td>0.815126</td>\n",
       "      <td>0.820556</td>\n",
       "      <td>0.725581</td>\n",
       "    </tr>\n",
       "    <tr>\n",
       "      <th>split_2</th>\n",
       "      <td>0.884120</td>\n",
       "      <td>0.873954</td>\n",
       "      <td>0.757186</td>\n",
       "    </tr>\n",
       "    <tr>\n",
       "      <th>split_3</th>\n",
       "      <td>0.882096</td>\n",
       "      <td>0.885420</td>\n",
       "      <td>0.708944</td>\n",
       "    </tr>\n",
       "    <tr>\n",
       "      <th>split_4</th>\n",
       "      <td>0.858407</td>\n",
       "      <td>0.841433</td>\n",
       "      <td>0.590109</td>\n",
       "    </tr>\n",
       "  </tbody>\n",
       "</table>\n",
       "</div>"
      ],
      "text/plain": [
       "         f1_score    auc_pr  cost_savings\n",
       "split_1  0.815126  0.820556      0.725581\n",
       "split_2  0.884120  0.873954      0.757186\n",
       "split_3  0.882096  0.885420      0.708944\n",
       "split_4  0.858407  0.841433      0.590109"
      ]
     },
     "execution_count": 17,
     "metadata": {},
     "output_type": "execute_result"
    }
   ],
   "source": [
    "fraud_sensitive_results2 = get_metric_scores(fraud_sensitive_scores2, np.array(X))\n",
    "fraud_sensitive_results2"
   ]
  },
  {
   "cell_type": "code",
   "execution_count": 18,
   "metadata": {
    "execution": {
     "iopub.execute_input": "2020-12-13T14:38:06.406952Z",
     "iopub.status.busy": "2020-12-13T14:38:06.405835Z",
     "iopub.status.idle": "2020-12-13T14:38:06.410489Z",
     "shell.execute_reply": "2020-12-13T14:38:06.409893Z"
    },
    "papermill": {
     "duration": 0.098704,
     "end_time": "2020-12-13T14:38:06.410616",
     "exception": false,
     "start_time": "2020-12-13T14:38:06.311912",
     "status": "completed"
    },
    "tags": []
   },
   "outputs": [
    {
     "data": {
      "text/plain": [
       "f1_score        0.859937\n",
       "auc_pr          0.855341\n",
       "cost_savings    0.695455\n",
       "dtype: float64"
      ]
     },
     "execution_count": 18,
     "metadata": {},
     "output_type": "execute_result"
    }
   ],
   "source": [
    "fraud_sensitive_results2.mean()"
   ]
  },
  {
   "cell_type": "code",
   "execution_count": null,
   "metadata": {
    "papermill": {
     "duration": 0.065658,
     "end_time": "2020-12-13T14:38:06.542429",
     "exception": false,
     "start_time": "2020-12-13T14:38:06.476771",
     "status": "completed"
    },
    "tags": []
   },
   "outputs": [],
   "source": []
  },
  {
   "cell_type": "code",
   "execution_count": 19,
   "metadata": {
    "execution": {
     "iopub.execute_input": "2020-12-13T14:38:06.704199Z",
     "iopub.status.busy": "2020-12-13T14:38:06.688646Z",
     "iopub.status.idle": "2020-12-13T14:38:06.813790Z",
     "shell.execute_reply": "2020-12-13T14:38:06.812725Z"
    },
    "papermill": {
     "duration": 0.205119,
     "end_time": "2020-12-13T14:38:06.813960",
     "exception": false,
     "start_time": "2020-12-13T14:38:06.608841",
     "status": "completed"
    },
    "tags": []
   },
   "outputs": [],
   "source": [
    "sample_weights = np.array([df['Amount'][ind] if fraud else admin_cost for ind, fraud in enumerate(y)])"
   ]
  },
  {
   "cell_type": "code",
   "execution_count": 20,
   "metadata": {
    "execution": {
     "iopub.execute_input": "2020-12-13T14:38:06.963573Z",
     "iopub.status.busy": "2020-12-13T14:38:06.962545Z",
     "iopub.status.idle": "2020-12-13T14:40:52.158413Z",
     "shell.execute_reply": "2020-12-13T14:40:52.157499Z"
    },
    "papermill": {
     "duration": 165.273284,
     "end_time": "2020-12-13T14:40:52.158553",
     "exception": false,
     "start_time": "2020-12-13T14:38:06.885269",
     "status": "completed"
    },
    "tags": []
   },
   "outputs": [
    {
     "name": "stderr",
     "output_type": "stream",
     "text": [
      "[Parallel(n_jobs=-1)]: Using backend LokyBackend with 4 concurrent workers.\n",
      "[Parallel(n_jobs=-1)]: Done   2 out of   4 | elapsed:  2.7min remaining:  2.7min\n",
      "[Parallel(n_jobs=-1)]: Done   4 out of   4 | elapsed:  2.8min finished\n"
     ]
    }
   ],
   "source": [
    "scaler3 = StandardScaler()\n",
    "col_select3 = ColumnSelector()\n",
    "cost_sensitive_model = XGBClassifier(random_state=1)\n",
    "\n",
    "cost_sensitive_pipe = Pipeline([('col_select', col_select3), ('scaler', scaler3), \\\n",
    "                                ('model', cost_sensitive_model)])\n",
    "\n",
    "cost_sensitive_scores = cross_validate(cost_sensitive_pipe, X, y, verbose=1, \\\n",
    "                        scoring=['f1', 'average_precision'], cv=cv, n_jobs=-1, return_estimator=True, \\\n",
    "                          fit_params={'model__sample_weight': sample_weights}, error_score='raise')"
   ]
  },
  {
   "cell_type": "code",
   "execution_count": 21,
   "metadata": {
    "execution": {
     "iopub.execute_input": "2020-12-13T14:40:52.297443Z",
     "iopub.status.busy": "2020-12-13T14:40:52.296689Z",
     "iopub.status.idle": "2020-12-13T14:40:53.369703Z",
     "shell.execute_reply": "2020-12-13T14:40:53.370755Z"
    },
    "papermill": {
     "duration": 1.145558,
     "end_time": "2020-12-13T14:40:53.370948",
     "exception": false,
     "start_time": "2020-12-13T14:40:52.225390",
     "status": "completed"
    },
    "tags": []
   },
   "outputs": [
    {
     "data": {
      "text/html": [
       "<div>\n",
       "<style scoped>\n",
       "    .dataframe tbody tr th:only-of-type {\n",
       "        vertical-align: middle;\n",
       "    }\n",
       "\n",
       "    .dataframe tbody tr th {\n",
       "        vertical-align: top;\n",
       "    }\n",
       "\n",
       "    .dataframe thead th {\n",
       "        text-align: right;\n",
       "    }\n",
       "</style>\n",
       "<table border=\"1\" class=\"dataframe\">\n",
       "  <thead>\n",
       "    <tr style=\"text-align: right;\">\n",
       "      <th></th>\n",
       "      <th>f1_score</th>\n",
       "      <th>auc_pr</th>\n",
       "      <th>cost_savings</th>\n",
       "    </tr>\n",
       "  </thead>\n",
       "  <tbody>\n",
       "    <tr>\n",
       "      <th>split_1</th>\n",
       "      <td>0.838428</td>\n",
       "      <td>0.804608</td>\n",
       "      <td>0.724814</td>\n",
       "    </tr>\n",
       "    <tr>\n",
       "      <th>split_2</th>\n",
       "      <td>0.884120</td>\n",
       "      <td>0.874974</td>\n",
       "      <td>0.757186</td>\n",
       "    </tr>\n",
       "    <tr>\n",
       "      <th>split_3</th>\n",
       "      <td>0.871111</td>\n",
       "      <td>0.900661</td>\n",
       "      <td>0.817148</td>\n",
       "    </tr>\n",
       "    <tr>\n",
       "      <th>split_4</th>\n",
       "      <td>0.849558</td>\n",
       "      <td>0.829047</td>\n",
       "      <td>0.713988</td>\n",
       "    </tr>\n",
       "  </tbody>\n",
       "</table>\n",
       "</div>"
      ],
      "text/plain": [
       "         f1_score    auc_pr  cost_savings\n",
       "split_1  0.838428  0.804608      0.724814\n",
       "split_2  0.884120  0.874974      0.757186\n",
       "split_3  0.871111  0.900661      0.817148\n",
       "split_4  0.849558  0.829047      0.713988"
      ]
     },
     "execution_count": 21,
     "metadata": {},
     "output_type": "execute_result"
    }
   ],
   "source": [
    "cost_sensitive_results = get_metric_scores(cost_sensitive_scores, np.array(X))\n",
    "cost_sensitive_results"
   ]
  },
  {
   "cell_type": "code",
   "execution_count": 22,
   "metadata": {
    "execution": {
     "iopub.execute_input": "2020-12-13T14:40:53.546808Z",
     "iopub.status.busy": "2020-12-13T14:40:53.545799Z",
     "iopub.status.idle": "2020-12-13T14:40:53.552192Z",
     "shell.execute_reply": "2020-12-13T14:40:53.551401Z"
    },
    "papermill": {
     "duration": 0.100579,
     "end_time": "2020-12-13T14:40:53.552326",
     "exception": false,
     "start_time": "2020-12-13T14:40:53.451747",
     "status": "completed"
    },
    "tags": []
   },
   "outputs": [
    {
     "data": {
      "text/plain": [
       "f1_score        0.860804\n",
       "auc_pr          0.852323\n",
       "cost_savings    0.753284\n",
       "dtype: float64"
      ]
     },
     "execution_count": 22,
     "metadata": {},
     "output_type": "execute_result"
    }
   ],
   "source": [
    "cost_sensitive_results.mean()"
   ]
  },
  {
   "cell_type": "markdown",
   "metadata": {
    "papermill": {
     "duration": 0.067919,
     "end_time": "2020-12-13T14:40:53.689486",
     "exception": false,
     "start_time": "2020-12-13T14:40:53.621567",
     "status": "completed"
    },
    "tags": []
   },
   "source": [
    "### we now see that cost sensitive example dependent XGBoost model is the best for our dataset."
   ]
  },
  {
   "cell_type": "code",
   "execution_count": null,
   "metadata": {
    "papermill": {
     "duration": 0.067979,
     "end_time": "2020-12-13T14:40:53.826082",
     "exception": false,
     "start_time": "2020-12-13T14:40:53.758103",
     "status": "completed"
    },
    "tags": []
   },
   "outputs": [],
   "source": []
  },
  {
   "cell_type": "markdown",
   "metadata": {
    "papermill": {
     "duration": 0.068094,
     "end_time": "2020-12-13T14:40:53.962611",
     "exception": false,
     "start_time": "2020-12-13T14:40:53.894517",
     "status": "completed"
    },
    "tags": []
   },
   "source": [
    "## Calibration"
   ]
  },
  {
   "cell_type": "markdown",
   "metadata": {
    "papermill": {
     "duration": 0.076695,
     "end_time": "2020-12-13T14:40:54.107093",
     "exception": false,
     "start_time": "2020-12-13T14:40:54.030398",
     "status": "completed"
    },
    "tags": []
   },
   "source": [
    "### Since we wish to report probabilities also, we need to calibrate it and maybe it can also improve results. XGBoost's probability is often not calibrated, we will now move to calibrating ours."
   ]
  },
  {
   "cell_type": "code",
   "execution_count": 23,
   "metadata": {
    "execution": {
     "iopub.execute_input": "2020-12-13T14:40:54.270814Z",
     "iopub.status.busy": "2020-12-13T14:40:54.269753Z",
     "iopub.status.idle": "2020-12-13T14:40:54.548014Z",
     "shell.execute_reply": "2020-12-13T14:40:54.547390Z"
    },
    "papermill": {
     "duration": 0.360042,
     "end_time": "2020-12-13T14:40:54.548173",
     "exception": false,
     "start_time": "2020-12-13T14:40:54.188131",
     "status": "completed"
    },
    "tags": []
   },
   "outputs": [],
   "source": [
    "X_train, X_test, y_train, y_test = train_test_split(X, y, test_size=0.25, stratify=y, random_state=1)"
   ]
  },
  {
   "cell_type": "code",
   "execution_count": 24,
   "metadata": {
    "execution": {
     "iopub.execute_input": "2020-12-13T14:40:54.723963Z",
     "iopub.status.busy": "2020-12-13T14:40:54.718939Z",
     "iopub.status.idle": "2020-12-13T14:40:54.790650Z",
     "shell.execute_reply": "2020-12-13T14:40:54.789817Z"
    },
    "papermill": {
     "duration": 0.173059,
     "end_time": "2020-12-13T14:40:54.790777",
     "exception": false,
     "start_time": "2020-12-13T14:40:54.617718",
     "status": "completed"
    },
    "tags": []
   },
   "outputs": [],
   "source": [
    "sample_weights2 = np.array([X_train['Amount'].iloc[ind] if fraud else admin_cost for ind, fraud in \\\n",
    "                            enumerate(y_train)])"
   ]
  },
  {
   "cell_type": "code",
   "execution_count": 25,
   "metadata": {
    "execution": {
     "iopub.execute_input": "2020-12-13T14:40:54.934636Z",
     "iopub.status.busy": "2020-12-13T14:40:54.933899Z",
     "iopub.status.idle": "2020-12-13T14:40:55.043914Z",
     "shell.execute_reply": "2020-12-13T14:40:55.043121Z"
    },
    "papermill": {
     "duration": 0.184283,
     "end_time": "2020-12-13T14:40:55.044073",
     "exception": false,
     "start_time": "2020-12-13T14:40:54.859790",
     "status": "completed"
    },
    "tags": []
   },
   "outputs": [],
   "source": [
    "from sklearn.calibration import calibration_curve"
   ]
  },
  {
   "cell_type": "code",
   "execution_count": 26,
   "metadata": {
    "execution": {
     "iopub.execute_input": "2020-12-13T14:40:55.195101Z",
     "iopub.status.busy": "2020-12-13T14:40:55.194272Z",
     "iopub.status.idle": "2020-12-13T14:40:55.197431Z",
     "shell.execute_reply": "2020-12-13T14:40:55.198090Z"
    },
    "papermill": {
     "duration": 0.08374,
     "end_time": "2020-12-13T14:40:55.198292",
     "exception": false,
     "start_time": "2020-12-13T14:40:55.114552",
     "status": "completed"
    },
    "tags": []
   },
   "outputs": [],
   "source": [
    "def reliability_plot(model, x, y):\n",
    "    # predict probabilities\n",
    "    probs = model.predict_proba(x)[:, 1]\n",
    "    # reliability diagram\n",
    "    fop, mpp = calibration_curve(y, probs, normalize=True)\n",
    "    # plot perfectly calibrated\n",
    "    plt.plot([0, 1], [0, 1], linestyle='--')\n",
    "    # plot calibrated reliability\n",
    "    plt.plot(mpp, fop, marker='.')\n",
    "    plt.title('reliability plot')\n",
    "    plt.xlabel('mean_predicted_probability')\n",
    "    plt.ylabel('frequency_of_positives')\n",
    "    plt.show()"
   ]
  },
  {
   "cell_type": "code",
   "execution_count": 27,
   "metadata": {
    "execution": {
     "iopub.execute_input": "2020-12-13T14:40:55.363869Z",
     "iopub.status.busy": "2020-12-13T14:40:55.363090Z",
     "iopub.status.idle": "2020-12-13T14:41:36.694113Z",
     "shell.execute_reply": "2020-12-13T14:41:36.695256Z"
    },
    "papermill": {
     "duration": 41.42691,
     "end_time": "2020-12-13T14:41:36.695440",
     "exception": false,
     "start_time": "2020-12-13T14:40:55.268530",
     "status": "completed"
    },
    "tags": []
   },
   "outputs": [],
   "source": [
    "scaler4 = StandardScaler()\n",
    "col_select4 = ColumnSelector()\n",
    "cost_sensitive_model2 = XGBClassifier(random_state=1)\n",
    "\n",
    "cost_sensitive_pipe2 = Pipeline([('col_select', col_select4), ('scaler', scaler4), \\\n",
    "                                ('model', cost_sensitive_model2)])\n",
    "\n",
    "cost_sensitive_pipe2.fit(X_train, y_train, model__sample_weight=sample_weights2);"
   ]
  },
  {
   "cell_type": "code",
   "execution_count": 28,
   "metadata": {
    "execution": {
     "iopub.execute_input": "2020-12-13T14:41:36.873375Z",
     "iopub.status.busy": "2020-12-13T14:41:36.872493Z",
     "iopub.status.idle": "2020-12-13T14:41:37.333277Z",
     "shell.execute_reply": "2020-12-13T14:41:37.332488Z"
    },
    "papermill": {
     "duration": 0.554264,
     "end_time": "2020-12-13T14:41:37.333470",
     "exception": false,
     "start_time": "2020-12-13T14:41:36.779206",
     "status": "completed"
    },
    "tags": []
   },
   "outputs": [
    {
     "data": {
      "image/png": "[encoded data removed]",
      "text/plain": [
       "<Figure size 432x288 with 1 Axes>"
      ]
     },
     "metadata": {
      "needs_background": "light"
     },
     "output_type": "display_data"
    }
   ],
   "source": [
    "reliability_plot(cost_sensitive_pipe2, X_test, y_test)"
   ]
  },
  {
   "cell_type": "markdown",
   "metadata": {
    "papermill": {
     "duration": 0.07036,
     "end_time": "2020-12-13T14:41:37.475333",
     "exception": false,
     "start_time": "2020-12-13T14:41:37.404973",
     "status": "completed"
    },
    "tags": []
   },
   "source": [
    "### we see that our model is not well calibrated"
   ]
  },
  {
   "cell_type": "code",
   "execution_count": 29,
   "metadata": {
    "execution": {
     "iopub.execute_input": "2020-12-13T14:41:37.622580Z",
     "iopub.status.busy": "2020-12-13T14:41:37.621748Z",
     "iopub.status.idle": "2020-12-13T14:41:37.625399Z",
     "shell.execute_reply": "2020-12-13T14:41:37.624647Z"
    },
    "papermill": {
     "duration": 0.079973,
     "end_time": "2020-12-13T14:41:37.625522",
     "exception": false,
     "start_time": "2020-12-13T14:41:37.545549",
     "status": "completed"
    },
    "tags": []
   },
   "outputs": [],
   "source": [
    "from sklearn.calibration import CalibratedClassifierCV"
   ]
  },
  {
   "cell_type": "markdown",
   "metadata": {
    "papermill": {
     "duration": 0.069791,
     "end_time": "2020-12-13T14:41:37.765970",
     "exception": false,
     "start_time": "2020-12-13T14:41:37.696179",
     "status": "completed"
    },
    "tags": []
   },
   "source": [
    "### calibrating using sigmoid method"
   ]
  },
  {
   "cell_type": "code",
   "execution_count": 30,
   "metadata": {
    "execution": {
     "iopub.execute_input": "2020-12-13T14:41:37.934453Z",
     "iopub.status.busy": "2020-12-13T14:41:37.933642Z",
     "iopub.status.idle": "2020-12-13T14:42:20.429410Z",
     "shell.execute_reply": "2020-12-13T14:42:20.428208Z"
    },
    "papermill": {
     "duration": 42.593295,
     "end_time": "2020-12-13T14:42:20.429579",
     "exception": false,
     "start_time": "2020-12-13T14:41:37.836284",
     "status": "completed"
    },
    "tags": []
   },
   "outputs": [],
   "source": [
    "scaler5 = StandardScaler()\n",
    "col_select5 = ColumnSelector()\n",
    "cost_sensitive_model3 = XGBClassifier(random_state=1)\n",
    "\n",
    "cost_sensitive_pipe3 = Pipeline([('col_select', col_select5), ('scaler', scaler5), \\\n",
    "                                ('model', cost_sensitive_model3)])\n",
    "\n",
    "cost_sensitive_pipe3.fit(X_train, y_train, model__sample_weight=sample_weights2)\n",
    "\n",
    "calibrated = CalibratedClassifierCV(cost_sensitive_pipe3, method='sigmoid', cv='prefit')\n",
    "\n",
    "calibrated.fit(X_train, y_train);"
   ]
  },
  {
   "cell_type": "code",
   "execution_count": 31,
   "metadata": {
    "execution": {
     "iopub.execute_input": "2020-12-13T14:42:20.581793Z",
     "iopub.status.busy": "2020-12-13T14:42:20.580920Z",
     "iopub.status.idle": "2020-12-13T14:42:20.987673Z",
     "shell.execute_reply": "2020-12-13T14:42:20.986955Z"
    },
    "papermill": {
     "duration": 0.484496,
     "end_time": "2020-12-13T14:42:20.987797",
     "exception": false,
     "start_time": "2020-12-13T14:42:20.503301",
     "status": "completed"
    },
    "tags": []
   },
   "outputs": [
    {
     "data": {
      "image/png": "[encoded data removed]",
      "text/plain": [
       "<Figure size 432x288 with 1 Axes>"
      ]
     },
     "metadata": {
      "needs_background": "light"
     },
     "output_type": "display_data"
    }
   ],
   "source": [
    "reliability_plot(calibrated, X_test, y_test)"
   ]
  },
  {
   "cell_type": "markdown",
   "metadata": {
    "papermill": {
     "duration": 0.072182,
     "end_time": "2020-12-13T14:42:21.135232",
     "exception": false,
     "start_time": "2020-12-13T14:42:21.063050",
     "status": "completed"
    },
    "tags": []
   },
   "source": [
    "### calibrating using isotonic method"
   ]
  },
  {
   "cell_type": "code",
   "execution_count": 32,
   "metadata": {
    "execution": {
     "iopub.execute_input": "2020-12-13T14:42:21.309474Z",
     "iopub.status.busy": "2020-12-13T14:42:21.307912Z",
     "iopub.status.idle": "2020-12-13T14:43:02.872673Z",
     "shell.execute_reply": "2020-12-13T14:43:02.873485Z"
    },
    "papermill": {
     "duration": 41.665459,
     "end_time": "2020-12-13T14:43:02.873693",
     "exception": false,
     "start_time": "2020-12-13T14:42:21.208234",
     "status": "completed"
    },
    "tags": []
   },
   "outputs": [],
   "source": [
    "scaler6 = StandardScaler()\n",
    "col_select6 = ColumnSelector()\n",
    "cost_sensitive_model4 = XGBClassifier(random_state=1)\n",
    "\n",
    "cost_sensitive_pipe4 = Pipeline([('col_select', col_select6), ('scaler', scaler6), \\\n",
    "                                ('model', cost_sensitive_model4)])\n",
    "\n",
    "cost_sensitive_pipe4.fit(X_train, y_train, model__sample_weight=sample_weights2)\n",
    "\n",
    "calibrated2 = CalibratedClassifierCV(cost_sensitive_pipe4, method='isotonic', cv='prefit')\n",
    "calibrated2.fit(X_train, y_train);"
   ]
  },
  {
   "cell_type": "code",
   "execution_count": 33,
   "metadata": {
    "execution": {
     "iopub.execute_input": "2020-12-13T14:43:03.050632Z",
     "iopub.status.busy": "2020-12-13T14:43:03.048762Z",
     "iopub.status.idle": "2020-12-13T14:43:03.466069Z",
     "shell.execute_reply": "2020-12-13T14:43:03.465300Z"
    },
    "papermill": {
     "duration": 0.505669,
     "end_time": "2020-12-13T14:43:03.466199",
     "exception": false,
     "start_time": "2020-12-13T14:43:02.960530",
     "status": "completed"
    },
    "tags": []
   },
   "outputs": [
    {
     "data": {
      "image/png": "[encoded data removed]",
      "text/plain": [
       "<Figure size 432x288 with 1 Axes>"
      ]
     },
     "metadata": {
      "needs_background": "light"
     },
     "output_type": "display_data"
    }
   ],
   "source": [
    "reliability_plot(calibrated2, X_test, y_test)"
   ]
  },
  {
   "cell_type": "markdown",
   "metadata": {
    "papermill": {
     "duration": 0.079022,
     "end_time": "2020-12-13T14:43:03.618505",
     "exception": false,
     "start_time": "2020-12-13T14:43:03.539483",
     "status": "completed"
    },
    "tags": []
   },
   "source": [
    "### We now see that isotonic calibration is the best for our model."
   ]
  },
  {
   "cell_type": "markdown",
   "metadata": {
    "papermill": {
     "duration": 0.072863,
     "end_time": "2020-12-13T14:43:03.765655",
     "exception": false,
     "start_time": "2020-12-13T14:43:03.692792",
     "status": "completed"
    },
    "tags": []
   },
   "source": [
    "## Checking for best threshold"
   ]
  },
  {
   "cell_type": "markdown",
   "metadata": {
    "papermill": {
     "duration": 0.072751,
     "end_time": "2020-12-13T14:43:03.911438",
     "exception": false,
     "start_time": "2020-12-13T14:43:03.838687",
     "status": "completed"
    },
    "tags": []
   },
   "source": [
    "## Evaluating calibrated cost sensitive xgboost"
   ]
  },
  {
   "cell_type": "code",
   "execution_count": 34,
   "metadata": {
    "execution": {
     "iopub.execute_input": "2020-12-13T14:43:04.063645Z",
     "iopub.status.busy": "2020-12-13T14:43:04.062817Z",
     "iopub.status.idle": "2020-12-13T14:43:04.066298Z",
     "shell.execute_reply": "2020-12-13T14:43:04.065667Z"
    },
    "papermill": {
     "duration": 0.081262,
     "end_time": "2020-12-13T14:43:04.066422",
     "exception": false,
     "start_time": "2020-12-13T14:43:03.985160",
     "status": "completed"
    },
    "tags": []
   },
   "outputs": [],
   "source": [
    "from sklearn.metrics import precision_recall_curve"
   ]
  },
  {
   "cell_type": "code",
   "execution_count": 35,
   "metadata": {
    "execution": {
     "iopub.execute_input": "2020-12-13T14:43:04.245953Z",
     "iopub.status.busy": "2020-12-13T14:43:04.244359Z",
     "iopub.status.idle": "2020-12-13T14:43:45.439131Z",
     "shell.execute_reply": "2020-12-13T14:43:45.439833Z"
    },
    "papermill": {
     "duration": 41.299859,
     "end_time": "2020-12-13T14:43:45.440016",
     "exception": false,
     "start_time": "2020-12-13T14:43:04.140157",
     "status": "completed"
    },
    "tags": []
   },
   "outputs": [],
   "source": [
    "scaler7 = StandardScaler()\n",
    "col_select7 = ColumnSelector()\n",
    "cost_sensitive_model5 = XGBClassifier(random_state=1)\n",
    "\n",
    "cost_sensitive_pipe5 = Pipeline([('col_select', col_select7), ('scaler', scaler7), \\\n",
    "                                ('model', cost_sensitive_model5)])\n",
    "\n",
    "cost_sensitive_pipe5.fit(X_train, y_train, model__sample_weight=sample_weights2)\n",
    "\n",
    "calibrate3 = CalibratedClassifierCV(cost_sensitive_pipe5, method='isotonic', cv='prefit')\n",
    "calibrate3.fit(X_train, y_train)\n",
    "\n",
    "# predict probabilities\n",
    "probs = calibrate3.predict_proba(X_test)[:, 1]\n",
    "\n",
    "precision, recall, threshold = precision_recall_curve(y_test, probs)"
   ]
  },
  {
   "cell_type": "code",
   "execution_count": 36,
   "metadata": {
    "execution": {
     "iopub.execute_input": "2020-12-13T14:43:45.625942Z",
     "iopub.status.busy": "2020-12-13T14:43:45.624892Z",
     "iopub.status.idle": "2020-12-13T14:43:45.630044Z",
     "shell.execute_reply": "2020-12-13T14:43:45.630609Z"
    },
    "papermill": {
     "duration": 0.102132,
     "end_time": "2020-12-13T14:43:45.630758",
     "exception": false,
     "start_time": "2020-12-13T14:43:45.528626",
     "status": "completed"
    },
    "tags": []
   },
   "outputs": [
    {
     "name": "stdout",
     "output_type": "stream",
     "text": [
      "best f1_score is 0.896265560165975\n"
     ]
    },
    {
     "data": {
      "text/plain": [
       "0.46393975615501404"
      ]
     },
     "execution_count": 36,
     "metadata": {},
     "output_type": "execute_result"
    }
   ],
   "source": [
    "f1 = (2*precision*recall) / (precision+recall)\n",
    "best_ind = np.argmax(f1)\n",
    "print('best f1_score is {}'.format(f1[best_ind]))\n",
    "best_threshold = threshold[best_ind]\n",
    "best_threshold"
   ]
  },
  {
   "cell_type": "code",
   "execution_count": 37,
   "metadata": {
    "execution": {
     "iopub.execute_input": "2020-12-13T14:43:45.789214Z",
     "iopub.status.busy": "2020-12-13T14:43:45.788275Z",
     "iopub.status.idle": "2020-12-13T14:43:45.793105Z",
     "shell.execute_reply": "2020-12-13T14:43:45.792380Z"
    },
    "papermill": {
     "duration": 0.085953,
     "end_time": "2020-12-13T14:43:45.793228",
     "exception": false,
     "start_time": "2020-12-13T14:43:45.707275",
     "status": "completed"
    },
    "tags": []
   },
   "outputs": [
    {
     "data": {
      "text/plain": [
       "0.4930618107318878"
      ]
     },
     "execution_count": 37,
     "metadata": {},
     "output_type": "execute_result"
    }
   ],
   "source": [
    "threshold0_5 = threshold[threshold <= 0.5][-1]\n",
    "threshold0_5"
   ]
  },
  {
   "cell_type": "code",
   "execution_count": 38,
   "metadata": {
    "execution": {
     "iopub.execute_input": "2020-12-13T14:43:45.958930Z",
     "iopub.status.busy": "2020-12-13T14:43:45.958017Z",
     "iopub.status.idle": "2020-12-13T14:43:45.963356Z",
     "shell.execute_reply": "2020-12-13T14:43:45.962585Z"
    },
    "papermill": {
     "duration": 0.090276,
     "end_time": "2020-12-13T14:43:45.963490",
     "exception": false,
     "start_time": "2020-12-13T14:43:45.873214",
     "status": "completed"
    },
    "tags": []
   },
   "outputs": [
    {
     "data": {
      "text/plain": [
       "12"
      ]
     },
     "execution_count": 38,
     "metadata": {},
     "output_type": "execute_result"
    }
   ],
   "source": [
    "ind_0_5 = len(threshold[threshold <= 0.5])\n",
    "ind_0_5"
   ]
  },
  {
   "cell_type": "code",
   "execution_count": 39,
   "metadata": {
    "execution": {
     "iopub.execute_input": "2020-12-13T14:43:46.129126Z",
     "iopub.status.busy": "2020-12-13T14:43:46.127953Z",
     "iopub.status.idle": "2020-12-13T14:43:46.365537Z",
     "shell.execute_reply": "2020-12-13T14:43:46.364817Z"
    },
    "papermill": {
     "duration": 0.32527,
     "end_time": "2020-12-13T14:43:46.365674",
     "exception": false,
     "start_time": "2020-12-13T14:43:46.040404",
     "status": "completed"
    },
    "tags": []
   },
   "outputs": [
    {
     "data": {
      "image/png": "[encoded data removed]",
      "text/plain": [
       "<Figure size 432x288 with 1 Axes>"
      ]
     },
     "metadata": {
      "needs_background": "light"
     },
     "output_type": "display_data"
    }
   ],
   "source": [
    "plt.plot([0, 1], [1, 0], linestyle='--')\n",
    "plt.plot(recall, precision, marker='.')\n",
    "plt.scatter(recall[best_ind], precision[best_ind])\n",
    "plt.scatter(recall[ind_0_5], precision[ind_0_5], color='g')\n",
    "plt.legend(['No_Skill', 'model', 'best_threshold', '0.5 threshold'])\n",
    "plt.xlabel('recall')\n",
    "plt.ylabel('precision')\n",
    "plt.title('precision-recall curve')\n",
    "plt.show()"
   ]
  },
  {
   "cell_type": "markdown",
   "metadata": {
    "papermill": {
     "duration": 0.076614,
     "end_time": "2020-12-13T14:43:46.520573",
     "exception": false,
     "start_time": "2020-12-13T14:43:46.443959",
     "status": "completed"
    },
    "tags": []
   },
   "source": [
    "### We now see that threshold of 0.5 is a good approximation."
   ]
  },
  {
   "cell_type": "markdown",
   "metadata": {
    "papermill": {
     "duration": 0.089267,
     "end_time": "2020-12-13T14:43:46.691013",
     "exception": false,
     "start_time": "2020-12-13T14:43:46.601746",
     "status": "completed"
    },
    "tags": []
   },
   "source": [
    "## Business Analysis"
   ]
  },
  {
   "cell_type": "code",
   "execution_count": 40,
   "metadata": {
    "execution": {
     "iopub.execute_input": "2020-12-13T14:43:46.867407Z",
     "iopub.status.busy": "2020-12-13T14:43:46.866415Z",
     "iopub.status.idle": "2020-12-13T14:43:46.871639Z",
     "shell.execute_reply": "2020-12-13T14:43:46.870695Z"
    },
    "papermill": {
     "duration": 0.09761,
     "end_time": "2020-12-13T14:43:46.871796",
     "exception": false,
     "start_time": "2020-12-13T14:43:46.774186",
     "status": "completed"
    },
    "tags": []
   },
   "outputs": [],
   "source": [
    "from sklearn.metrics import average_precision_score, recall_score, accuracy_score, precision_score"
   ]
  },
  {
   "cell_type": "code",
   "execution_count": 41,
   "metadata": {
    "execution": {
     "iopub.execute_input": "2020-12-13T14:43:47.054961Z",
     "iopub.status.busy": "2020-12-13T14:43:47.053906Z",
     "iopub.status.idle": "2020-12-13T14:43:47.057794Z",
     "shell.execute_reply": "2020-12-13T14:43:47.057185Z"
    },
    "papermill": {
     "duration": 0.099475,
     "end_time": "2020-12-13T14:43:47.057922",
     "exception": false,
     "start_time": "2020-12-13T14:43:46.958447",
     "status": "completed"
    },
    "tags": []
   },
   "outputs": [],
   "source": [
    "import time\n",
    "\n",
    "# defining a function to return a dataframe of metrics results for each fold in our cv\n",
    "def get_calibrated_metric_scores(model_pipe, x, y=y, cv_object=cv):\n",
    "    probs = []\n",
    "    ytests = []\n",
    "    amounts = []\n",
    "    \n",
    "    for i, (train_ind, test_ind) in zip(range(cv_object.n_splits), cv_object.split(x, y)):\n",
    "        to = time.time()\n",
    "        \n",
    "        xtrain = x.loc[train_ind]\n",
    "        xtest = x.loc[test_ind]\n",
    "        ytrain = y[train_ind]\n",
    "        ytest = y[test_ind]\n",
    "\n",
    "        sample_weights = np.array([xtrain['Amount'][ind] if fraud else admin_cost for ind, fraud \\\n",
    "                                   in ytrain.items()])\n",
    "        \n",
    "        amount = xtest['Amount'].values\n",
    "        \n",
    "        model_pipe.fit(xtrain, ytrain, model__sample_weight=sample_weights)\n",
    "        \n",
    "        calibrate = CalibratedClassifierCV(model_pipe, method='isotonic', cv='prefit')\n",
    "        calibrate.fit(xtrain, ytrain)\n",
    "\n",
    "        prob = calibrate.predict_proba(xtest)[:, 1]\n",
    "        \n",
    "        probs.append(prob)\n",
    "        ytests.append(ytest.values)\n",
    "        amounts.append(amount)\n",
    "        \n",
    "        print('Done {} of {} =================={}mins'.format(i+1, len(range(cv_object.n_splits)), \\\n",
    "             round((time.time() - to)/60, 1)))\n",
    "        \n",
    "    return np.array(ytests), np.array(probs), np.array(amounts)"
   ]
  },
  {
   "cell_type": "code",
   "execution_count": 42,
   "metadata": {
    "execution": {
     "iopub.execute_input": "2020-12-13T14:43:47.232063Z",
     "iopub.status.busy": "2020-12-13T14:43:47.230778Z",
     "iopub.status.idle": "2020-12-13T14:43:47.234524Z",
     "shell.execute_reply": "2020-12-13T14:43:47.233761Z"
    },
    "papermill": {
     "duration": 0.09883,
     "end_time": "2020-12-13T14:43:47.234664",
     "exception": false,
     "start_time": "2020-12-13T14:43:47.135834",
     "status": "completed"
    },
    "tags": []
   },
   "outputs": [],
   "source": [
    "scaler8 = StandardScaler()\n",
    "col_select8 = ColumnSelector()\n",
    "cost_sensitive_model6 = XGBClassifier(random_state=1)\n",
    "\n",
    "cost_sensitive_pipe6 = Pipeline([('col_select', col_select8), ('scaler', scaler8), \\\n",
    "                                ('model', cost_sensitive_model6)])"
   ]
  },
  {
   "cell_type": "code",
   "execution_count": 43,
   "metadata": {
    "execution": {
     "iopub.execute_input": "2020-12-13T14:43:47.402401Z",
     "iopub.status.busy": "2020-12-13T14:43:47.401318Z",
     "iopub.status.idle": "2020-12-13T14:46:31.569984Z",
     "shell.execute_reply": "2020-12-13T14:46:31.570765Z"
    },
    "papermill": {
     "duration": 164.258143,
     "end_time": "2020-12-13T14:46:31.570969",
     "exception": false,
     "start_time": "2020-12-13T14:43:47.312826",
     "status": "completed"
    },
    "tags": []
   },
   "outputs": [
    {
     "name": "stdout",
     "output_type": "stream",
     "text": [
      "Done 1 of 4 ==================0.7mins\n",
      "Done 2 of 4 ==================0.7mins\n",
      "Done 3 of 4 ==================0.7mins\n",
      "Done 4 of 4 ==================0.7mins\n"
     ]
    }
   ],
   "source": [
    "ytests, probs, amounts = get_calibrated_metric_scores(cost_sensitive_pipe6, X)"
   ]
  },
  {
   "cell_type": "code",
   "execution_count": 44,
   "metadata": {
    "execution": {
     "iopub.execute_input": "2020-12-13T14:46:31.753163Z",
     "iopub.status.busy": "2020-12-13T14:46:31.752397Z",
     "iopub.status.idle": "2020-12-13T14:46:31.757137Z",
     "shell.execute_reply": "2020-12-13T14:46:31.756519Z"
    },
    "papermill": {
     "duration": 0.09129,
     "end_time": "2020-12-13T14:46:31.757269",
     "exception": false,
     "start_time": "2020-12-13T14:46:31.665979",
     "status": "completed"
    },
    "tags": []
   },
   "outputs": [],
   "source": [
    "ypreds = np.array([(probs[i] >= 0.5).astype(np.int64) for i in range(ytests.shape[0])])"
   ]
  },
  {
   "cell_type": "code",
   "execution_count": 45,
   "metadata": {
    "execution": {
     "iopub.execute_input": "2020-12-13T14:46:31.923988Z",
     "iopub.status.busy": "2020-12-13T14:46:31.922942Z",
     "iopub.status.idle": "2020-12-13T14:46:31.949830Z",
     "shell.execute_reply": "2020-12-13T14:46:31.949064Z"
    },
    "papermill": {
     "duration": 0.113081,
     "end_time": "2020-12-13T14:46:31.949955",
     "exception": false,
     "start_time": "2020-12-13T14:46:31.836874",
     "status": "completed"
    },
    "tags": []
   },
   "outputs": [
    {
     "name": "stdout",
     "output_type": "stream",
     "text": [
      "accuracy_score per split are [0.99945226 0.99960675 0.99966293 0.99957866]\n"
     ]
    },
    {
     "data": {
      "text/plain": [
       "0.999575150903969"
      ]
     },
     "execution_count": 45,
     "metadata": {},
     "output_type": "execute_result"
    }
   ],
   "source": [
    "accuracies = np.array([accuracy_score(ytests[i], ypreds[i]) for i in range(ytests.shape[0])])\n",
    "print('accuracy_score per split are {}'.format(accuracies))\n",
    "accuracies.mean()"
   ]
  },
  {
   "cell_type": "code",
   "execution_count": 46,
   "metadata": {
    "execution": {
     "iopub.execute_input": "2020-12-13T14:46:32.120771Z",
     "iopub.status.busy": "2020-12-13T14:46:32.119541Z",
     "iopub.status.idle": "2020-12-13T14:46:32.207767Z",
     "shell.execute_reply": "2020-12-13T14:46:32.208484Z"
    },
    "papermill": {
     "duration": 0.177183,
     "end_time": "2020-12-13T14:46:32.208685",
     "exception": false,
     "start_time": "2020-12-13T14:46:32.031502",
     "status": "completed"
    },
    "tags": []
   },
   "outputs": [
    {
     "name": "stdout",
     "output_type": "stream",
     "text": [
      "precision_score per split are [0.86842105 0.92035398 0.95412844 0.93457944]\n"
     ]
    },
    {
     "data": {
      "text/plain": [
       "0.9193707286379432"
      ]
     },
     "execution_count": 46,
     "metadata": {},
     "output_type": "execute_result"
    }
   ],
   "source": [
    "precisions = np.array([precision_score(ytests[i], ypreds[i]) for i in range(ytests.shape[0])])\n",
    "print('precision_score per split are {}'.format(precisions))\n",
    "precisions.mean()"
   ]
  },
  {
   "cell_type": "code",
   "execution_count": 47,
   "metadata": {
    "execution": {
     "iopub.execute_input": "2020-12-13T14:46:32.429161Z",
     "iopub.status.busy": "2020-12-13T14:46:32.427971Z",
     "iopub.status.idle": "2020-12-13T14:46:32.516528Z",
     "shell.execute_reply": "2020-12-13T14:46:32.515776Z"
    },
    "papermill": {
     "duration": 0.177027,
     "end_time": "2020-12-13T14:46:32.516659",
     "exception": false,
     "start_time": "2020-12-13T14:46:32.339632",
     "status": "completed"
    },
    "tags": []
   },
   "outputs": [
    {
     "name": "stdout",
     "output_type": "stream",
     "text": [
      "f1_score per split are [0.83544304 0.88135593 0.89655172 0.86956522]\n"
     ]
    },
    {
     "data": {
      "text/plain": [
       "0.8707289779268271"
      ]
     },
     "execution_count": 47,
     "metadata": {},
     "output_type": "execute_result"
    }
   ],
   "source": [
    "f1s = np.array([f1_score(ytests[i], ypreds[i]) for i in range(ytests.shape[0])])\n",
    "print('f1_score per split are {}'.format(f1s))\n",
    "f1s.mean()"
   ]
  },
  {
   "cell_type": "code",
   "execution_count": 48,
   "metadata": {
    "execution": {
     "iopub.execute_input": "2020-12-13T14:46:32.690339Z",
     "iopub.status.busy": "2020-12-13T14:46:32.689563Z",
     "iopub.status.idle": "2020-12-13T14:46:32.731195Z",
     "shell.execute_reply": "2020-12-13T14:46:32.730612Z"
    },
    "papermill": {
     "duration": 0.13131,
     "end_time": "2020-12-13T14:46:32.731407",
     "exception": false,
     "start_time": "2020-12-13T14:46:32.600097",
     "status": "completed"
    },
    "tags": []
   },
   "outputs": [
    {
     "name": "stdout",
     "output_type": "stream",
     "text": [
      "auc_pr per split are [0.69977079 0.80805466 0.81074358 0.7764121 ]\n"
     ]
    },
    {
     "data": {
      "text/plain": [
       "0.7737452824683015"
      ]
     },
     "execution_count": 48,
     "metadata": {},
     "output_type": "execute_result"
    }
   ],
   "source": [
    "auc_prs = np.array([average_precision_score(ytests[i], probs[i]) for i in range(ytests.shape[0])])\n",
    "print('auc_pr per split are {}'.format(auc_prs))\n",
    "auc_prs.mean()"
   ]
  },
  {
   "cell_type": "code",
   "execution_count": 49,
   "metadata": {
    "execution": {
     "iopub.execute_input": "2020-12-13T14:46:32.906959Z",
     "iopub.status.busy": "2020-12-13T14:46:32.905771Z",
     "iopub.status.idle": "2020-12-13T14:46:32.915975Z",
     "shell.execute_reply": "2020-12-13T14:46:32.915328Z"
    },
    "papermill": {
     "duration": 0.101057,
     "end_time": "2020-12-13T14:46:32.916126",
     "exception": false,
     "start_time": "2020-12-13T14:46:32.815069",
     "status": "completed"
    },
    "tags": []
   },
   "outputs": [
    {
     "name": "stdout",
     "output_type": "stream",
     "text": [
      "cost saved per split are [0.72665202 0.7568327  0.81861841 0.72151261]\n"
     ]
    },
    {
     "data": {
      "text/plain": [
       "0.7559039341041671"
      ]
     },
     "execution_count": 49,
     "metadata": {},
     "output_type": "execute_result"
    }
   ],
   "source": [
    "cost_saved = np.array([cost_saving(ytests[i], ypreds[i], amounts[i]) for i in range(ytests.shape[0])])\n",
    "print('cost saved per split are {}'.format(cost_saved))\n",
    "cost_saved.mean() # benefit of using our model"
   ]
  },
  {
   "cell_type": "code",
   "execution_count": 50,
   "metadata": {
    "execution": {
     "iopub.execute_input": "2020-12-13T14:46:33.095727Z",
     "iopub.status.busy": "2020-12-13T14:46:33.094909Z",
     "iopub.status.idle": "2020-12-13T14:46:33.184603Z",
     "shell.execute_reply": "2020-12-13T14:46:33.183963Z"
    },
    "papermill": {
     "duration": 0.181508,
     "end_time": "2020-12-13T14:46:33.184738",
     "exception": false,
     "start_time": "2020-12-13T14:46:33.003230",
     "status": "completed"
    },
    "tags": []
   },
   "outputs": [
    {
     "name": "stdout",
     "output_type": "stream",
     "text": [
      "recall per split are [0.80487805 0.84552846 0.84552846 0.81300813]\n"
     ]
    },
    {
     "data": {
      "text/plain": [
       "0.8272357723577236"
      ]
     },
     "execution_count": 50,
     "metadata": {},
     "output_type": "execute_result"
    }
   ],
   "source": [
    "recalls = np.array([recall_score(ytests[i], ypreds[i]) for i in range(ytests.shape[0])])\n",
    "print('recall per split are {}'.format(recalls))\n",
    "recalls.mean()"
   ]
  },
  {
   "cell_type": "code",
   "execution_count": 51,
   "metadata": {
    "execution": {
     "iopub.execute_input": "2020-12-13T14:46:33.364421Z",
     "iopub.status.busy": "2020-12-13T14:46:33.363599Z",
     "iopub.status.idle": "2020-12-13T14:46:33.451776Z",
     "shell.execute_reply": "2020-12-13T14:46:33.451107Z"
    },
    "papermill": {
     "duration": 0.181467,
     "end_time": "2020-12-13T14:46:33.451913",
     "exception": false,
     "start_time": "2020-12-13T14:46:33.270446",
     "status": "completed"
    },
    "tags": []
   },
   "outputs": [
    {
     "name": "stdout",
     "output_type": "stream",
     "text": [
      "specificity per split are [0.99978897 0.99987338 0.99992966 0.99990152]\n"
     ]
    },
    {
     "data": {
      "text/plain": [
       "0.9998733799769153"
      ]
     },
     "execution_count": 51,
     "metadata": {},
     "output_type": "execute_result"
    }
   ],
   "source": [
    "specificity = np.array([recall_score(ytests[i], ypreds[i], pos_label=0) for i in \\\n",
    "               range(ytests.shape[0])])\n",
    "print('specificity per split are {}'.format(specificity))\n",
    "specificity.mean()"
   ]
  },
  {
   "cell_type": "code",
   "execution_count": 52,
   "metadata": {
    "execution": {
     "iopub.execute_input": "2020-12-13T14:46:33.632939Z",
     "iopub.status.busy": "2020-12-13T14:46:33.631884Z",
     "iopub.status.idle": "2020-12-13T14:46:33.641412Z",
     "shell.execute_reply": "2020-12-13T14:46:33.640772Z"
    },
    "papermill": {
     "duration": 0.103094,
     "end_time": "2020-12-13T14:46:33.641535",
     "exception": false,
     "start_time": "2020-12-13T14:46:33.538441",
     "status": "completed"
    },
    "tags": []
   },
   "outputs": [
    {
     "name": "stdout",
     "output_type": "stream",
     "text": [
      "volume per split in euros are [6322617.22 6351475.49 6212989.53 6275507.77]\n"
     ]
    },
    {
     "data": {
      "text/plain": [
       "6290647.5025"
      ]
     },
     "execution_count": 52,
     "metadata": {},
     "output_type": "execute_result"
    }
   ],
   "source": [
    "volumes = np.array([amounts[i].sum() for i in range(ytests.shape[0])] )\n",
    "print('volume per split in euros are {}'.format(volumes))\n",
    "volumes.mean()"
   ]
  },
  {
   "cell_type": "code",
   "execution_count": 53,
   "metadata": {
    "execution": {
     "iopub.execute_input": "2020-12-13T14:46:33.826607Z",
     "iopub.status.busy": "2020-12-13T14:46:33.825574Z",
     "iopub.status.idle": "2020-12-13T14:46:33.828152Z",
     "shell.execute_reply": "2020-12-13T14:46:33.828848Z"
    },
    "papermill": {
     "duration": 0.099314,
     "end_time": "2020-12-13T14:46:33.828999",
     "exception": false,
     "start_time": "2020-12-13T14:46:33.729685",
     "status": "completed"
    },
    "tags": []
   },
   "outputs": [],
   "source": [
    "tp = recalls.mean() * (val_count[1] / 4) \n",
    "fn = (1 - recalls.mean()) * (val_count[1] / 4) \n",
    "fp = (1 - specificity.mean()) * round(val_count[0] / 4) \n",
    "tn = specificity.mean() * round(val_count[0] / 4) "
   ]
  },
  {
   "cell_type": "code",
   "execution_count": 54,
   "metadata": {
    "execution": {
     "iopub.execute_input": "2020-12-13T14:46:34.013301Z",
     "iopub.status.busy": "2020-12-13T14:46:34.012221Z",
     "iopub.status.idle": "2020-12-13T14:46:34.015954Z",
     "shell.execute_reply": "2020-12-13T14:46:34.015225Z"
    },
    "papermill": {
     "duration": 0.099152,
     "end_time": "2020-12-13T14:46:34.016100",
     "exception": false,
     "start_time": "2020-12-13T14:46:33.916948",
     "status": "completed"
    },
    "tags": []
   },
   "outputs": [],
   "source": [
    "assert tp + tn + fp + fn == len(ytests[0])"
   ]
  },
  {
   "cell_type": "code",
   "execution_count": 55,
   "metadata": {
    "execution": {
     "iopub.execute_input": "2020-12-13T14:46:34.203603Z",
     "iopub.status.busy": "2020-12-13T14:46:34.202659Z",
     "iopub.status.idle": "2020-12-13T14:46:34.206303Z",
     "shell.execute_reply": "2020-12-13T14:46:34.206853Z"
    },
    "papermill": {
     "duration": 0.101345,
     "end_time": "2020-12-13T14:46:34.207015",
     "exception": false,
     "start_time": "2020-12-13T14:46:34.105670",
     "status": "completed"
    },
    "tags": []
   },
   "outputs": [
    {
     "name": "stdout",
     "output_type": "stream",
     "text": [
      "average tp is 102.0\n",
      "average fp is 9.0\n",
      "average tn is 71070.0\n",
      "average fn is 21.0\n"
     ]
    }
   ],
   "source": [
    "print('average tp is {}'.format(round(tp)))\n",
    "print('average fp is {}'.format(round(fp)))\n",
    "print('average tn is {}'.format(round(tn)))\n",
    "print('average fn is {}'.format(round(fn)))"
   ]
  },
  {
   "cell_type": "code",
   "execution_count": 56,
   "metadata": {
    "execution": {
     "iopub.execute_input": "2020-12-13T14:46:34.395614Z",
     "iopub.status.busy": "2020-12-13T14:46:34.394741Z",
     "iopub.status.idle": "2020-12-13T14:46:34.399380Z",
     "shell.execute_reply": "2020-12-13T14:46:34.398630Z"
    },
    "papermill": {
     "duration": 0.103679,
     "end_time": "2020-12-13T14:46:34.399514",
     "exception": false,
     "start_time": "2020-12-13T14:46:34.295835",
     "status": "completed"
    },
    "tags": []
   },
   "outputs": [
    {
     "name": "stdout",
     "output_type": "stream",
     "text": [
      "percentage of declined transaction is 0.15554341819167858 which is equivalent to 9784.68815177796euros\n",
      "\n",
      "percentage of approved transaction is 99.84445658180833 which is equivalent to 6280862.814348223euros\n"
     ]
    }
   ],
   "source": [
    "declined_transactions =  (tp+fp) / len(ytests[0])\n",
    "approved_transactions = (fn+tn) / len(ytests[0])\n",
    "print('percentage of declined transaction is {} which is equivalent to {}euros'.format(\\\n",
    "       100*declined_transactions, declined_transactions*volumes.mean()))\n",
    "print()\n",
    "print('percentage of approved transaction is {} which is equivalent to {}euros'.format(\\\n",
    "       100*approved_transactions, approved_transactions*volumes.mean()))"
   ]
  },
  {
   "cell_type": "code",
   "execution_count": 57,
   "metadata": {
    "execution": {
     "iopub.execute_input": "2020-12-13T14:46:34.587948Z",
     "iopub.status.busy": "2020-12-13T14:46:34.586995Z",
     "iopub.status.idle": "2020-12-13T14:46:34.592512Z",
     "shell.execute_reply": "2020-12-13T14:46:34.591906Z"
    },
    "papermill": {
     "duration": 0.102843,
     "end_time": "2020-12-13T14:46:34.592642",
     "exception": false,
     "start_time": "2020-12-13T14:46:34.489799",
     "status": "completed"
    },
    "tags": []
   },
   "outputs": [
    {
     "name": "stdout",
     "output_type": "stream",
     "text": [
      "91.8735687403671 percentage of declined transaction were actually fraudulent which is equivalent to 8989.542195154281euros\n",
      "\n",
      "99.97010883898179 percentage of approved transaction were actually not fraudulent which is equivalent to 6278985.391531053euros\n"
     ]
    }
   ],
   "source": [
    "print('{} percentage of declined transaction were actually fraudulent which is equivalent to {}euros'.format(\\\n",
    "        100*tp/(tp+fp), (volumes.mean()*tp/len(ytests[0]))))\n",
    "print()\n",
    "print('{} percentage of approved transaction were actually not fraudulent which is equivalent to {}euros'.format(\\\n",
    "        100*tn/(tn+fn), (volumes.mean()*tn/len(ytests[0]))))"
   ]
  },
  {
   "cell_type": "code",
   "execution_count": 58,
   "metadata": {
    "execution": {
     "iopub.execute_input": "2020-12-13T14:46:34.779982Z",
     "iopub.status.busy": "2020-12-13T14:46:34.778842Z",
     "iopub.status.idle": "2020-12-13T14:46:34.783210Z",
     "shell.execute_reply": "2020-12-13T14:46:34.783747Z"
    },
    "papermill": {
     "duration": 0.100706,
     "end_time": "2020-12-13T14:46:34.783913",
     "exception": false,
     "start_time": "2020-12-13T14:46:34.683207",
     "status": "completed"
    },
    "tags": []
   },
   "outputs": [
    {
     "data": {
      "text/plain": [
       "(71202,)"
      ]
     },
     "execution_count": 58,
     "metadata": {},
     "output_type": "execute_result"
    }
   ],
   "source": [
    "ytests[0].shape"
   ]
  },
  {
   "cell_type": "markdown",
   "metadata": {
    "papermill": {
     "duration": 0.091246,
     "end_time": "2020-12-13T14:46:34.965987",
     "exception": false,
     "start_time": "2020-12-13T14:46:34.874741",
     "status": "completed"
    },
    "tags": []
   },
   "source": [
    "### All of these metrics are cross validated and they are for 71202 transactions which is the size of 1 fold of our splits."
   ]
  }
 ],
 "metadata": {
  "kernelspec": {
   "display_name": "Python 3",
   "language": "python",
   "name": "python3"
  },
  "language_info": {
   "codemirror_mode": {
    "name": "ipython",
    "version": 3
   },
   "file_extension": ".py",
   "mimetype": "text/x-python",
   "name": "python",
   "nbconvert_exporter": "python",
   "pygments_lexer": "ipython3",
   "version": "3.7.6"
  },
  "papermill": {
   "duration": 857.290836,
   "end_time": "2020-12-13T14:46:35.170642",
   "environment_variables": {},
   "exception": null,
   "input_path": "__notebook__.ipynb",
   "output_path": "__notebook__.ipynb",
   "parameters": {},
   "start_time": "2020-12-13T14:32:17.879806",
   "version": "2.1.0"
  }
 },
 "nbformat": 4,
 "nbformat_minor": 4
}
