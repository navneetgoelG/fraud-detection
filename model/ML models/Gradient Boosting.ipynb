{
  "nbformat": 4,
  "nbformat_minor": 0,
  "metadata": {
    "colab": {
      "name": "GradientBoosting.ipynb",
      "provenance": []
    },
    "kernelspec": {
      "display_name": "Python 3",
      "name": "python3"
    }
  },
  "cells": [
    {
      "cell_type": "code",
      "metadata": {
        "colab": {
          "base_uri": "https://localhost:8080/"
        },
        "id": "xB2itreYGzJl",
        "outputId": "bd9a21ae-d508-46f1-cc03-3881a1f3af46"
      },
      "source": [
        "from google.colab import drive\n",
        "drive.mount('/content/gdrive')"
      ],
      "execution_count": 1,
      "outputs": [
        {
          "output_type": "stream",
          "text": [
            "Drive already mounted at /content/gdrive; to attempt to forcibly remount, call drive.mount(\"/content/gdrive\", force_remount=True).\n"
          ],
          "name": "stdout"
        }
      ]
    },
    {
      "cell_type": "code",
      "metadata": {
        "id": "1jp7EdtqIDa2"
      },
      "source": [
        "import os\n",
        "#os.environ['KAGGLE_CONFIG_DIR'] = \"/content/gdrive/My Drive/kaggle\""
      ],
      "execution_count": 2,
      "outputs": []
    },
    {
      "cell_type": "code",
      "metadata": {
        "id": "QpFV5ELIIWj8"
      },
      "source": [
        "#changing the working directory\n",
        "#%cd /content/gdrive/My Drive/kaggle"
      ],
      "execution_count": 3,
      "outputs": []
    },
    {
      "cell_type": "code",
      "metadata": {
        "id": "dPj-MuMVIbKn"
      },
      "source": [
        "#!kaggle datasets download -d mlg-ulb/creditcardfraud"
      ],
      "execution_count": 4,
      "outputs": []
    },
    {
      "cell_type": "code",
      "metadata": {
        "id": "FCWV4BNwIo1e"
      },
      "source": [
        "#unzipping the zip files and deleting the zip files\n",
        "#!unzip \\*.zip  && rm *.zip"
      ],
      "execution_count": 5,
      "outputs": []
    },
    {
      "cell_type": "code",
      "metadata": {
        "colab": {
          "base_uri": "https://localhost:8080/"
        },
        "id": "-JHT_r0cJy8X",
        "outputId": "e84ca56e-fb3b-4638-da29-76202473a2b2"
      },
      "source": [
        "!pwd"
      ],
      "execution_count": 6,
      "outputs": [
        {
          "output_type": "stream",
          "text": [
            "/content\n"
          ],
          "name": "stdout"
        }
      ]
    },
    {
      "cell_type": "code",
      "metadata": {
        "id": "kJOajGIoKJCn"
      },
      "source": [
        "#Import necessary libraries\n",
        "import numpy as np\n",
        "import pandas as pd\n",
        "import matplotlib.pyplot as plt\n",
        "import seaborn as sns\n",
        "\n",
        "import warnings\n",
        "warnings.filterwarnings('ignore')"
      ],
      "execution_count": 7,
      "outputs": []
    },
    {
      "cell_type": "code",
      "metadata": {
        "colab": {
          "base_uri": "https://localhost:8080/",
          "height": 224
        },
        "id": "YybBvJuRIztt",
        "outputId": "1a55c3b8-b225-4960-94e3-e40a5a52fc8c"
      },
      "source": [
        "credit = pd.read_csv('/content/gdrive/My Drive/kaggle/creditcard.csv')\n",
        "credit.head()"
      ],
      "execution_count": 8,
      "outputs": [
        {
          "output_type": "execute_result",
          "data": {
            "text/html": [
              "<div>\n",
              "<style scoped>\n",
              "    .dataframe tbody tr th:only-of-type {\n",
              "        vertical-align: middle;\n",
              "    }\n",
              "\n",
              "    .dataframe tbody tr th {\n",
              "        vertical-align: top;\n",
              "    }\n",
              "\n",
              "    .dataframe thead th {\n",
              "        text-align: right;\n",
              "    }\n",
              "</style>\n",
              "<table border=\"1\" class=\"dataframe\">\n",
              "  <thead>\n",
              "    <tr style=\"text-align: right;\">\n",
              "      <th></th>\n",
              "      <th>Time</th>\n",
              "      <th>V1</th>\n",
              "      <th>V2</th>\n",
              "      <th>V3</th>\n",
              "      <th>V4</th>\n",
              "      <th>V5</th>\n",
              "      <th>V6</th>\n",
              "      <th>V7</th>\n",
              "      <th>V8</th>\n",
              "      <th>V9</th>\n",
              "      <th>V10</th>\n",
              "      <th>V11</th>\n",
              "      <th>V12</th>\n",
              "      <th>V13</th>\n",
              "      <th>V14</th>\n",
              "      <th>V15</th>\n",
              "      <th>V16</th>\n",
              "      <th>V17</th>\n",
              "      <th>V18</th>\n",
              "      <th>V19</th>\n",
              "      <th>V20</th>\n",
              "      <th>V21</th>\n",
              "      <th>V22</th>\n",
              "      <th>V23</th>\n",
              "      <th>V24</th>\n",
              "      <th>V25</th>\n",
              "      <th>V26</th>\n",
              "      <th>V27</th>\n",
              "      <th>V28</th>\n",
              "      <th>Amount</th>\n",
              "      <th>Class</th>\n",
              "    </tr>\n",
              "  </thead>\n",
              "  <tbody>\n",
              "    <tr>\n",
              "      <th>0</th>\n",
              "      <td>0.0</td>\n",
              "      <td>-1.359807</td>\n",
              "      <td>-0.072781</td>\n",
              "      <td>2.536347</td>\n",
              "      <td>1.378155</td>\n",
              "      <td>-0.338321</td>\n",
              "      <td>0.462388</td>\n",
              "      <td>0.239599</td>\n",
              "      <td>0.098698</td>\n",
              "      <td>0.363787</td>\n",
              "      <td>0.090794</td>\n",
              "      <td>-0.551600</td>\n",
              "      <td>-0.617801</td>\n",
              "      <td>-0.991390</td>\n",
              "      <td>-0.311169</td>\n",
              "      <td>1.468177</td>\n",
              "      <td>-0.470401</td>\n",
              "      <td>0.207971</td>\n",
              "      <td>0.025791</td>\n",
              "      <td>0.403993</td>\n",
              "      <td>0.251412</td>\n",
              "      <td>-0.018307</td>\n",
              "      <td>0.277838</td>\n",
              "      <td>-0.110474</td>\n",
              "      <td>0.066928</td>\n",
              "      <td>0.128539</td>\n",
              "      <td>-0.189115</td>\n",
              "      <td>0.133558</td>\n",
              "      <td>-0.021053</td>\n",
              "      <td>149.62</td>\n",
              "      <td>0</td>\n",
              "    </tr>\n",
              "    <tr>\n",
              "      <th>1</th>\n",
              "      <td>0.0</td>\n",
              "      <td>1.191857</td>\n",
              "      <td>0.266151</td>\n",
              "      <td>0.166480</td>\n",
              "      <td>0.448154</td>\n",
              "      <td>0.060018</td>\n",
              "      <td>-0.082361</td>\n",
              "      <td>-0.078803</td>\n",
              "      <td>0.085102</td>\n",
              "      <td>-0.255425</td>\n",
              "      <td>-0.166974</td>\n",
              "      <td>1.612727</td>\n",
              "      <td>1.065235</td>\n",
              "      <td>0.489095</td>\n",
              "      <td>-0.143772</td>\n",
              "      <td>0.635558</td>\n",
              "      <td>0.463917</td>\n",
              "      <td>-0.114805</td>\n",
              "      <td>-0.183361</td>\n",
              "      <td>-0.145783</td>\n",
              "      <td>-0.069083</td>\n",
              "      <td>-0.225775</td>\n",
              "      <td>-0.638672</td>\n",
              "      <td>0.101288</td>\n",
              "      <td>-0.339846</td>\n",
              "      <td>0.167170</td>\n",
              "      <td>0.125895</td>\n",
              "      <td>-0.008983</td>\n",
              "      <td>0.014724</td>\n",
              "      <td>2.69</td>\n",
              "      <td>0</td>\n",
              "    </tr>\n",
              "    <tr>\n",
              "      <th>2</th>\n",
              "      <td>1.0</td>\n",
              "      <td>-1.358354</td>\n",
              "      <td>-1.340163</td>\n",
              "      <td>1.773209</td>\n",
              "      <td>0.379780</td>\n",
              "      <td>-0.503198</td>\n",
              "      <td>1.800499</td>\n",
              "      <td>0.791461</td>\n",
              "      <td>0.247676</td>\n",
              "      <td>-1.514654</td>\n",
              "      <td>0.207643</td>\n",
              "      <td>0.624501</td>\n",
              "      <td>0.066084</td>\n",
              "      <td>0.717293</td>\n",
              "      <td>-0.165946</td>\n",
              "      <td>2.345865</td>\n",
              "      <td>-2.890083</td>\n",
              "      <td>1.109969</td>\n",
              "      <td>-0.121359</td>\n",
              "      <td>-2.261857</td>\n",
              "      <td>0.524980</td>\n",
              "      <td>0.247998</td>\n",
              "      <td>0.771679</td>\n",
              "      <td>0.909412</td>\n",
              "      <td>-0.689281</td>\n",
              "      <td>-0.327642</td>\n",
              "      <td>-0.139097</td>\n",
              "      <td>-0.055353</td>\n",
              "      <td>-0.059752</td>\n",
              "      <td>378.66</td>\n",
              "      <td>0</td>\n",
              "    </tr>\n",
              "    <tr>\n",
              "      <th>3</th>\n",
              "      <td>1.0</td>\n",
              "      <td>-0.966272</td>\n",
              "      <td>-0.185226</td>\n",
              "      <td>1.792993</td>\n",
              "      <td>-0.863291</td>\n",
              "      <td>-0.010309</td>\n",
              "      <td>1.247203</td>\n",
              "      <td>0.237609</td>\n",
              "      <td>0.377436</td>\n",
              "      <td>-1.387024</td>\n",
              "      <td>-0.054952</td>\n",
              "      <td>-0.226487</td>\n",
              "      <td>0.178228</td>\n",
              "      <td>0.507757</td>\n",
              "      <td>-0.287924</td>\n",
              "      <td>-0.631418</td>\n",
              "      <td>-1.059647</td>\n",
              "      <td>-0.684093</td>\n",
              "      <td>1.965775</td>\n",
              "      <td>-1.232622</td>\n",
              "      <td>-0.208038</td>\n",
              "      <td>-0.108300</td>\n",
              "      <td>0.005274</td>\n",
              "      <td>-0.190321</td>\n",
              "      <td>-1.175575</td>\n",
              "      <td>0.647376</td>\n",
              "      <td>-0.221929</td>\n",
              "      <td>0.062723</td>\n",
              "      <td>0.061458</td>\n",
              "      <td>123.50</td>\n",
              "      <td>0</td>\n",
              "    </tr>\n",
              "    <tr>\n",
              "      <th>4</th>\n",
              "      <td>2.0</td>\n",
              "      <td>-1.158233</td>\n",
              "      <td>0.877737</td>\n",
              "      <td>1.548718</td>\n",
              "      <td>0.403034</td>\n",
              "      <td>-0.407193</td>\n",
              "      <td>0.095921</td>\n",
              "      <td>0.592941</td>\n",
              "      <td>-0.270533</td>\n",
              "      <td>0.817739</td>\n",
              "      <td>0.753074</td>\n",
              "      <td>-0.822843</td>\n",
              "      <td>0.538196</td>\n",
              "      <td>1.345852</td>\n",
              "      <td>-1.119670</td>\n",
              "      <td>0.175121</td>\n",
              "      <td>-0.451449</td>\n",
              "      <td>-0.237033</td>\n",
              "      <td>-0.038195</td>\n",
              "      <td>0.803487</td>\n",
              "      <td>0.408542</td>\n",
              "      <td>-0.009431</td>\n",
              "      <td>0.798278</td>\n",
              "      <td>-0.137458</td>\n",
              "      <td>0.141267</td>\n",
              "      <td>-0.206010</td>\n",
              "      <td>0.502292</td>\n",
              "      <td>0.219422</td>\n",
              "      <td>0.215153</td>\n",
              "      <td>69.99</td>\n",
              "      <td>0</td>\n",
              "    </tr>\n",
              "  </tbody>\n",
              "</table>\n",
              "</div>"
            ],
            "text/plain": [
              "   Time        V1        V2        V3  ...       V27       V28  Amount  Class\n",
              "0   0.0 -1.359807 -0.072781  2.536347  ...  0.133558 -0.021053  149.62      0\n",
              "1   0.0  1.191857  0.266151  0.166480  ... -0.008983  0.014724    2.69      0\n",
              "2   1.0 -1.358354 -1.340163  1.773209  ... -0.055353 -0.059752  378.66      0\n",
              "3   1.0 -0.966272 -0.185226  1.792993  ...  0.062723  0.061458  123.50      0\n",
              "4   2.0 -1.158233  0.877737  1.548718  ...  0.219422  0.215153   69.99      0\n",
              "\n",
              "[5 rows x 31 columns]"
            ]
          },
          "metadata": {
            "tags": []
          },
          "execution_count": 8
        }
      ]
    },
    {
      "cell_type": "code",
      "metadata": {
        "colab": {
          "base_uri": "https://localhost:8080/"
        },
        "id": "rtGNSg89Jxqu",
        "outputId": "d9145688-7637-4d2c-9743-eceb6a9b1fbf"
      },
      "source": [
        "credit.info()"
      ],
      "execution_count": 9,
      "outputs": [
        {
          "output_type": "stream",
          "text": [
            "<class 'pandas.core.frame.DataFrame'>\n",
            "RangeIndex: 284807 entries, 0 to 284806\n",
            "Data columns (total 31 columns):\n",
            " #   Column  Non-Null Count   Dtype  \n",
            "---  ------  --------------   -----  \n",
            " 0   Time    284807 non-null  float64\n",
            " 1   V1      284807 non-null  float64\n",
            " 2   V2      284807 non-null  float64\n",
            " 3   V3      284807 non-null  float64\n",
            " 4   V4      284807 non-null  float64\n",
            " 5   V5      284807 non-null  float64\n",
            " 6   V6      284807 non-null  float64\n",
            " 7   V7      284807 non-null  float64\n",
            " 8   V8      284807 non-null  float64\n",
            " 9   V9      284807 non-null  float64\n",
            " 10  V10     284807 non-null  float64\n",
            " 11  V11     284807 non-null  float64\n",
            " 12  V12     284807 non-null  float64\n",
            " 13  V13     284807 non-null  float64\n",
            " 14  V14     284807 non-null  float64\n",
            " 15  V15     284807 non-null  float64\n",
            " 16  V16     284807 non-null  float64\n",
            " 17  V17     284807 non-null  float64\n",
            " 18  V18     284807 non-null  float64\n",
            " 19  V19     284807 non-null  float64\n",
            " 20  V20     284807 non-null  float64\n",
            " 21  V21     284807 non-null  float64\n",
            " 22  V22     284807 non-null  float64\n",
            " 23  V23     284807 non-null  float64\n",
            " 24  V24     284807 non-null  float64\n",
            " 25  V25     284807 non-null  float64\n",
            " 26  V26     284807 non-null  float64\n",
            " 27  V27     284807 non-null  float64\n",
            " 28  V28     284807 non-null  float64\n",
            " 29  Amount  284807 non-null  float64\n",
            " 30  Class   284807 non-null  int64  \n",
            "dtypes: float64(30), int64(1)\n",
            "memory usage: 67.4 MB\n"
          ],
          "name": "stdout"
        }
      ]
    },
    {
      "cell_type": "code",
      "metadata": {
        "colab": {
          "base_uri": "https://localhost:8080/"
        },
        "id": "meSydXncLWIx",
        "outputId": "708ae6b6-de12-4cec-b5a4-7ad384302e0d"
      },
      "source": [
        "credit.isnull().sum()"
      ],
      "execution_count": 10,
      "outputs": [
        {
          "output_type": "execute_result",
          "data": {
            "text/plain": [
              "Time      0\n",
              "V1        0\n",
              "V2        0\n",
              "V3        0\n",
              "V4        0\n",
              "V5        0\n",
              "V6        0\n",
              "V7        0\n",
              "V8        0\n",
              "V9        0\n",
              "V10       0\n",
              "V11       0\n",
              "V12       0\n",
              "V13       0\n",
              "V14       0\n",
              "V15       0\n",
              "V16       0\n",
              "V17       0\n",
              "V18       0\n",
              "V19       0\n",
              "V20       0\n",
              "V21       0\n",
              "V22       0\n",
              "V23       0\n",
              "V24       0\n",
              "V25       0\n",
              "V26       0\n",
              "V27       0\n",
              "V28       0\n",
              "Amount    0\n",
              "Class     0\n",
              "dtype: int64"
            ]
          },
          "metadata": {
            "tags": []
          },
          "execution_count": 10
        }
      ]
    },
    {
      "cell_type": "code",
      "metadata": {
        "id": "eQ4WbNbHodb6"
      },
      "source": [
        "from sklearn.model_selection import StratifiedKFold, cross_validate\n",
        "from sklearn.preprocessing import StandardScaler\n",
        "from sklearn.metrics import f1_score"
      ],
      "execution_count": 11,
      "outputs": []
    },
    {
      "cell_type": "code",
      "metadata": {
        "id": "714TqShRMJkn"
      },
      "source": [
        "# selecting the 19 most important features according to our EDA \n",
        "X = credit[['V1', 'V2', 'V3', 'V4', 'V5', 'V6', 'V7', 'V8', 'V9', 'V10', 'V11', \n",
        "        'V12', 'V13', 'V14', 'V16', 'V17', 'V21', 'V23', 'V27']]\n",
        "\n",
        "# scaling the features\n",
        "scaler = StandardScaler()\n",
        "scaled_X = scaler.fit_transform(X)\n",
        "\n",
        "y = credit['Class'] # selecting the target variable"
      ],
      "execution_count": 12,
      "outputs": []
    },
    {
      "cell_type": "code",
      "metadata": {
        "colab": {
          "base_uri": "https://localhost:8080/"
        },
        "id": "qMEZ4k4CmdS-",
        "outputId": "891bc8dd-3623-46b7-fe32-e089df3d770c"
      },
      "source": [
        "# computing the class weight\n",
        "\n",
        "val_count = credit['Class'].value_counts()\n",
        "weights = dict(1 / val_count)\n",
        "weights"
      ],
      "execution_count": 13,
      "outputs": [
        {
          "output_type": "execute_result",
          "data": {
            "text/plain": [
              "{0: 3.51722561243691e-06, 1: 0.0020325203252032522}"
            ]
          },
          "metadata": {
            "tags": []
          },
          "execution_count": 13
        }
      ]
    },
    {
      "cell_type": "code",
      "metadata": {
        "id": "rZZrRjEDqQ8d"
      },
      "source": [
        "# adminstrative cost\n",
        "admin_cost = 2.5"
      ],
      "execution_count": 14,
      "outputs": []
    },
    {
      "cell_type": "code",
      "metadata": {
        "id": "L8yr_ikoo76E"
      },
      "source": [
        "# defining a function to calculate cost savings\n",
        "def cost_saving(ytrue, ypred, amount):\n",
        "    fp = np.sum((ytrue == 0) & (ypred == 1))\n",
        "    cost = np.sum(fp*admin_cost) + np.sum((amount[(ytrue == 1) & (ypred == 0)]))\n",
        "    max_cost = np.sum((amount[(ytrue == 1)]))\n",
        "    savings = 1 - (cost/max_cost)\n",
        "    \n",
        "    return savings"
      ],
      "execution_count": 15,
      "outputs": []
    },
    {
      "cell_type": "code",
      "metadata": {
        "id": "QlQAchcdp6CS"
      },
      "source": [
        "cv = StratifiedKFold(n_splits=4, random_state=1, shuffle=True)"
      ],
      "execution_count": 16,
      "outputs": []
    },
    {
      "cell_type": "code",
      "metadata": {
        "id": "T8XaHfkRqcvp"
      },
      "source": [
        "# defining a function to calculate cost saving per fold (splits) of our cv\n",
        "def cost_saving_per_split(scores, x, y, cv_object):\n",
        "    results = []\n",
        "    for i, (_, test_ind) in zip(range(cv_object.n_splits), cv_object.split(x, y)):\n",
        "        ypred = scores['estimator'][i].predict(x[test_ind])\n",
        "        ytrue = y[test_ind]\n",
        "        amount = credit['Amount'].values[test_ind]\n",
        "        results.append(cost_saving(ytrue, ypred, amount))\n",
        "        \n",
        "    return results"
      ],
      "execution_count": 17,
      "outputs": []
    },
    {
      "cell_type": "markdown",
      "metadata": {
        "id": "Wt4rwOW7u1xG"
      },
      "source": [
        ""
      ]
    },
    {
      "cell_type": "code",
      "metadata": {
        "id": "Nl_cfpcVqvZ8"
      },
      "source": [
        "# defining a function to return a dataframe of metrics results for each fold in our cv\n",
        "def get_metric_scores(scores, x, y=y, cv_object=cv):\n",
        "    ind = ['split_'+str(n) for n in range(1, cv_object.n_splits+1)]\n",
        "    \n",
        "    scores_credit = pd.DataFrame(index=ind)\n",
        "    \n",
        "    scores_credit['f1_score'] = scores['test_f1']\n",
        "    scores_credit['auc_pr'] = scores['test_average_precision']\n",
        "    scores_credit['cost_savings'] = cost_saving_per_split(scores, x, y, cv_object)\n",
        "\n",
        "    return scores_credit"
      ],
      "execution_count": 67,
      "outputs": []
    },
    {
      "cell_type": "markdown",
      "metadata": {
        "id": "0vBpA5S62L44"
      },
      "source": [
        "**Fraud Sensitive model (Not cost sensitive)**"
      ]
    },
    {
      "cell_type": "code",
      "metadata": {
        "id": "5fdflIfFrfS6"
      },
      "source": [
        "from sklearn.ensemble import GradientBoostingClassifier\n",
        "\n",
        "#GradientBoosting = GradientBoostingClassifier()"
      ],
      "execution_count": 19,
      "outputs": []
    },
    {
      "cell_type": "code",
      "metadata": {
        "id": "f_fzElz72UwQ"
      },
      "source": [
        "fraud_sensitive_model = GradientBoostingClassifier()\n",
        "fraud_sensitive_scores = cross_validate(fraud_sensitive_model, scaled_X, y, \n",
        "                                        scoring=['f1', 'average_precision'], \n",
        "                                        cv=cv, n_jobs=4, return_estimator=True)"
      ],
      "execution_count": null,
      "outputs": []
    },
    {
      "cell_type": "code",
      "metadata": {
        "id": "yNMB8GamsqkL",
        "colab": {
          "base_uri": "https://localhost:8080/",
          "height": 173
        },
        "outputId": "1c639363-0606-4eaa-c66c-65e786aa2a24"
      },
      "source": [
        "fraud_sensitive_results = get_metric_scores(fraud_sensitive_scores, scaled_X)\n",
        "fraud_sensitive_results"
      ],
      "execution_count": 21,
      "outputs": [
        {
          "output_type": "execute_result",
          "data": {
            "text/html": [
              "<div>\n",
              "<style scoped>\n",
              "    .dataframe tbody tr th:only-of-type {\n",
              "        vertical-align: middle;\n",
              "    }\n",
              "\n",
              "    .dataframe tbody tr th {\n",
              "        vertical-align: top;\n",
              "    }\n",
              "\n",
              "    .dataframe thead th {\n",
              "        text-align: right;\n",
              "    }\n",
              "</style>\n",
              "<table border=\"1\" class=\"dataframe\">\n",
              "  <thead>\n",
              "    <tr style=\"text-align: right;\">\n",
              "      <th></th>\n",
              "      <th>f1_score</th>\n",
              "      <th>auc_pr</th>\n",
              "      <th>cost_savings</th>\n",
              "    </tr>\n",
              "  </thead>\n",
              "  <tbody>\n",
              "    <tr>\n",
              "      <th>split_1</th>\n",
              "      <td>0.463277</td>\n",
              "      <td>0.371886</td>\n",
              "      <td>0.495092</td>\n",
              "    </tr>\n",
              "    <tr>\n",
              "      <th>split_2</th>\n",
              "      <td>0.660194</td>\n",
              "      <td>0.418952</td>\n",
              "      <td>0.537342</td>\n",
              "    </tr>\n",
              "    <tr>\n",
              "      <th>split_3</th>\n",
              "      <td>0.767123</td>\n",
              "      <td>0.631065</td>\n",
              "      <td>0.678380</td>\n",
              "    </tr>\n",
              "    <tr>\n",
              "      <th>split_4</th>\n",
              "      <td>0.697674</td>\n",
              "      <td>0.514382</td>\n",
              "      <td>0.592574</td>\n",
              "    </tr>\n",
              "  </tbody>\n",
              "</table>\n",
              "</div>"
            ],
            "text/plain": [
              "         f1_score    auc_pr  cost_savings\n",
              "split_1  0.463277  0.371886      0.495092\n",
              "split_2  0.660194  0.418952      0.537342\n",
              "split_3  0.767123  0.631065      0.678380\n",
              "split_4  0.697674  0.514382      0.592574"
            ]
          },
          "metadata": {
            "tags": []
          },
          "execution_count": 21
        }
      ]
    },
    {
      "cell_type": "code",
      "metadata": {
        "id": "iFOmXPhRyNDk",
        "colab": {
          "base_uri": "https://localhost:8080/"
        },
        "outputId": "20c819c2-218f-4f8c-a1df-34c8a0c4cbf5"
      },
      "source": [
        "fraud_sensitive_results.mean()"
      ],
      "execution_count": 22,
      "outputs": [
        {
          "output_type": "execute_result",
          "data": {
            "text/plain": [
              "f1_score        0.647067\n",
              "auc_pr          0.484071\n",
              "cost_savings    0.575847\n",
              "dtype: float64"
            ]
          },
          "metadata": {
            "tags": []
          },
          "execution_count": 22
        }
      ]
    },
    {
      "cell_type": "markdown",
      "metadata": {
        "id": "bj0iq2B7rBDC"
      },
      "source": [
        "**Cost Sensitive model**"
      ]
    },
    {
      "cell_type": "code",
      "metadata": {
        "id": "PY0n_Ad81ff7"
      },
      "source": [
        "sample_weights = np.array([credit['Amount'][ind] if fraud else admin_cost for ind, fraud in enumerate(y)])"
      ],
      "execution_count": 23,
      "outputs": []
    },
    {
      "cell_type": "code",
      "metadata": {
        "id": "pqxmAG__sDDr"
      },
      "source": [
        "cost_sensitive_model = GradientBoostingClassifier()\n",
        "cost_sensitive_scores = cross_validate(cost_sensitive_model, scaled_X, y, \n",
        "                                       scoring=['f1', 'average_precision'], \n",
        "                                       cv=cv, n_jobs=4, return_estimator=True, \n",
        "                                       fit_params={'sample_weight': sample_weights})"
      ],
      "execution_count": 24,
      "outputs": []
    },
    {
      "cell_type": "code",
      "metadata": {
        "id": "j382_MRgyP5C",
        "colab": {
          "base_uri": "https://localhost:8080/",
          "height": 173
        },
        "outputId": "c3743a0c-06e3-4b9e-b92d-452c0fba51eb"
      },
      "source": [
        "cost_sensitive_results = get_metric_scores(cost_sensitive_scores, scaled_X)\n",
        "cost_sensitive_results"
      ],
      "execution_count": 25,
      "outputs": [
        {
          "output_type": "execute_result",
          "data": {
            "text/html": [
              "<div>\n",
              "<style scoped>\n",
              "    .dataframe tbody tr th:only-of-type {\n",
              "        vertical-align: middle;\n",
              "    }\n",
              "\n",
              "    .dataframe tbody tr th {\n",
              "        vertical-align: top;\n",
              "    }\n",
              "\n",
              "    .dataframe thead th {\n",
              "        text-align: right;\n",
              "    }\n",
              "</style>\n",
              "<table border=\"1\" class=\"dataframe\">\n",
              "  <thead>\n",
              "    <tr style=\"text-align: right;\">\n",
              "      <th></th>\n",
              "      <th>f1_score</th>\n",
              "      <th>auc_pr</th>\n",
              "      <th>cost_savings</th>\n",
              "    </tr>\n",
              "  </thead>\n",
              "  <tbody>\n",
              "    <tr>\n",
              "      <th>split_1</th>\n",
              "      <td>0.745098</td>\n",
              "      <td>0.685282</td>\n",
              "      <td>0.723597</td>\n",
              "    </tr>\n",
              "    <tr>\n",
              "      <th>split_2</th>\n",
              "      <td>0.782609</td>\n",
              "      <td>0.754540</td>\n",
              "      <td>0.751653</td>\n",
              "    </tr>\n",
              "    <tr>\n",
              "      <th>split_3</th>\n",
              "      <td>0.808163</td>\n",
              "      <td>0.754870</td>\n",
              "      <td>0.813925</td>\n",
              "    </tr>\n",
              "    <tr>\n",
              "      <th>split_4</th>\n",
              "      <td>0.804979</td>\n",
              "      <td>0.746105</td>\n",
              "      <td>0.735220</td>\n",
              "    </tr>\n",
              "  </tbody>\n",
              "</table>\n",
              "</div>"
            ],
            "text/plain": [
              "         f1_score    auc_pr  cost_savings\n",
              "split_1  0.745098  0.685282      0.723597\n",
              "split_2  0.782609  0.754540      0.751653\n",
              "split_3  0.808163  0.754870      0.813925\n",
              "split_4  0.804979  0.746105      0.735220"
            ]
          },
          "metadata": {
            "tags": []
          },
          "execution_count": 25
        }
      ]
    },
    {
      "cell_type": "code",
      "metadata": {
        "id": "owQPoDkV2qEy",
        "colab": {
          "base_uri": "https://localhost:8080/"
        },
        "outputId": "b4249bcc-5478-4363-e2d2-5c4cb0acd56c"
      },
      "source": [
        "cost_sensitive_results.mean()"
      ],
      "execution_count": 26,
      "outputs": [
        {
          "output_type": "execute_result",
          "data": {
            "text/plain": [
              "f1_score        0.785212\n",
              "auc_pr          0.735199\n",
              "cost_savings    0.756099\n",
              "dtype: float64"
            ]
          },
          "metadata": {
            "tags": []
          },
          "execution_count": 26
        }
      ]
    },
    {
      "cell_type": "markdown",
      "metadata": {
        "id": "dT98742pw44f"
      },
      "source": [
        "**Cost Sensitive Model - SMOTE**"
      ]
    },
    {
      "cell_type": "code",
      "metadata": {
        "id": "RuwiDU5XPx7U"
      },
      "source": [
        "# selecting the 19 most important features according to our EDA \n",
        "X_new = credit[['V1', 'V2', 'V3', 'V4', 'V5', 'V6', 'V7', 'V8', 'V9', 'V10', 'V11', \n",
        "        'V12', 'V13', 'V14', 'V16', 'V17', 'V21', 'V23', 'V27', 'Amount']]\n",
        "\n"
      ],
      "execution_count": 53,
      "outputs": []
    },
    {
      "cell_type": "code",
      "metadata": {
        "id": "D1fUlYsF2uAs"
      },
      "source": [
        "from imblearn.over_sampling import SMOTE\n",
        "\n",
        "smote = SMOTE()\n",
        "X_oversampled, y_oversampled = smote.fit_sample(X_new, y)"
      ],
      "execution_count": 55,
      "outputs": []
    },
    {
      "cell_type": "code",
      "metadata": {
        "colab": {
          "base_uri": "https://localhost:8080/",
          "height": 439
        },
        "id": "-xx2fQgkOGsG",
        "outputId": "8d9bdb66-89c5-4772-ce43-99b67ef99984"
      },
      "source": [
        "X_oversampled = pd.DataFrame(X_oversampled, columns=X_new.columns)\n",
        "X_oversampled"
      ],
      "execution_count": 56,
      "outputs": [
        {
          "output_type": "execute_result",
          "data": {
            "text/html": [
              "<div>\n",
              "<style scoped>\n",
              "    .dataframe tbody tr th:only-of-type {\n",
              "        vertical-align: middle;\n",
              "    }\n",
              "\n",
              "    .dataframe tbody tr th {\n",
              "        vertical-align: top;\n",
              "    }\n",
              "\n",
              "    .dataframe thead th {\n",
              "        text-align: right;\n",
              "    }\n",
              "</style>\n",
              "<table border=\"1\" class=\"dataframe\">\n",
              "  <thead>\n",
              "    <tr style=\"text-align: right;\">\n",
              "      <th></th>\n",
              "      <th>V1</th>\n",
              "      <th>V2</th>\n",
              "      <th>V3</th>\n",
              "      <th>V4</th>\n",
              "      <th>V5</th>\n",
              "      <th>V6</th>\n",
              "      <th>V7</th>\n",
              "      <th>V8</th>\n",
              "      <th>V9</th>\n",
              "      <th>V10</th>\n",
              "      <th>V11</th>\n",
              "      <th>V12</th>\n",
              "      <th>V13</th>\n",
              "      <th>V14</th>\n",
              "      <th>V16</th>\n",
              "      <th>V17</th>\n",
              "      <th>V21</th>\n",
              "      <th>V23</th>\n",
              "      <th>V27</th>\n",
              "      <th>Amount</th>\n",
              "    </tr>\n",
              "  </thead>\n",
              "  <tbody>\n",
              "    <tr>\n",
              "      <th>0</th>\n",
              "      <td>-1.359807</td>\n",
              "      <td>-0.072781</td>\n",
              "      <td>2.536347</td>\n",
              "      <td>1.378155</td>\n",
              "      <td>-0.338321</td>\n",
              "      <td>0.462388</td>\n",
              "      <td>0.239599</td>\n",
              "      <td>0.098698</td>\n",
              "      <td>0.363787</td>\n",
              "      <td>0.090794</td>\n",
              "      <td>-0.551600</td>\n",
              "      <td>-0.617801</td>\n",
              "      <td>-0.991390</td>\n",
              "      <td>-0.311169</td>\n",
              "      <td>-0.470401</td>\n",
              "      <td>0.207971</td>\n",
              "      <td>-0.018307</td>\n",
              "      <td>-0.110474</td>\n",
              "      <td>0.133558</td>\n",
              "      <td>149.620000</td>\n",
              "    </tr>\n",
              "    <tr>\n",
              "      <th>1</th>\n",
              "      <td>1.191857</td>\n",
              "      <td>0.266151</td>\n",
              "      <td>0.166480</td>\n",
              "      <td>0.448154</td>\n",
              "      <td>0.060018</td>\n",
              "      <td>-0.082361</td>\n",
              "      <td>-0.078803</td>\n",
              "      <td>0.085102</td>\n",
              "      <td>-0.255425</td>\n",
              "      <td>-0.166974</td>\n",
              "      <td>1.612727</td>\n",
              "      <td>1.065235</td>\n",
              "      <td>0.489095</td>\n",
              "      <td>-0.143772</td>\n",
              "      <td>0.463917</td>\n",
              "      <td>-0.114805</td>\n",
              "      <td>-0.225775</td>\n",
              "      <td>0.101288</td>\n",
              "      <td>-0.008983</td>\n",
              "      <td>2.690000</td>\n",
              "    </tr>\n",
              "    <tr>\n",
              "      <th>2</th>\n",
              "      <td>-1.358354</td>\n",
              "      <td>-1.340163</td>\n",
              "      <td>1.773209</td>\n",
              "      <td>0.379780</td>\n",
              "      <td>-0.503198</td>\n",
              "      <td>1.800499</td>\n",
              "      <td>0.791461</td>\n",
              "      <td>0.247676</td>\n",
              "      <td>-1.514654</td>\n",
              "      <td>0.207643</td>\n",
              "      <td>0.624501</td>\n",
              "      <td>0.066084</td>\n",
              "      <td>0.717293</td>\n",
              "      <td>-0.165946</td>\n",
              "      <td>-2.890083</td>\n",
              "      <td>1.109969</td>\n",
              "      <td>0.247998</td>\n",
              "      <td>0.909412</td>\n",
              "      <td>-0.055353</td>\n",
              "      <td>378.660000</td>\n",
              "    </tr>\n",
              "    <tr>\n",
              "      <th>3</th>\n",
              "      <td>-0.966272</td>\n",
              "      <td>-0.185226</td>\n",
              "      <td>1.792993</td>\n",
              "      <td>-0.863291</td>\n",
              "      <td>-0.010309</td>\n",
              "      <td>1.247203</td>\n",
              "      <td>0.237609</td>\n",
              "      <td>0.377436</td>\n",
              "      <td>-1.387024</td>\n",
              "      <td>-0.054952</td>\n",
              "      <td>-0.226487</td>\n",
              "      <td>0.178228</td>\n",
              "      <td>0.507757</td>\n",
              "      <td>-0.287924</td>\n",
              "      <td>-1.059647</td>\n",
              "      <td>-0.684093</td>\n",
              "      <td>-0.108300</td>\n",
              "      <td>-0.190321</td>\n",
              "      <td>0.062723</td>\n",
              "      <td>123.500000</td>\n",
              "    </tr>\n",
              "    <tr>\n",
              "      <th>4</th>\n",
              "      <td>-1.158233</td>\n",
              "      <td>0.877737</td>\n",
              "      <td>1.548718</td>\n",
              "      <td>0.403034</td>\n",
              "      <td>-0.407193</td>\n",
              "      <td>0.095921</td>\n",
              "      <td>0.592941</td>\n",
              "      <td>-0.270533</td>\n",
              "      <td>0.817739</td>\n",
              "      <td>0.753074</td>\n",
              "      <td>-0.822843</td>\n",
              "      <td>0.538196</td>\n",
              "      <td>1.345852</td>\n",
              "      <td>-1.119670</td>\n",
              "      <td>-0.451449</td>\n",
              "      <td>-0.237033</td>\n",
              "      <td>-0.009431</td>\n",
              "      <td>-0.137458</td>\n",
              "      <td>0.219422</td>\n",
              "      <td>69.990000</td>\n",
              "    </tr>\n",
              "    <tr>\n",
              "      <th>...</th>\n",
              "      <td>...</td>\n",
              "      <td>...</td>\n",
              "      <td>...</td>\n",
              "      <td>...</td>\n",
              "      <td>...</td>\n",
              "      <td>...</td>\n",
              "      <td>...</td>\n",
              "      <td>...</td>\n",
              "      <td>...</td>\n",
              "      <td>...</td>\n",
              "      <td>...</td>\n",
              "      <td>...</td>\n",
              "      <td>...</td>\n",
              "      <td>...</td>\n",
              "      <td>...</td>\n",
              "      <td>...</td>\n",
              "      <td>...</td>\n",
              "      <td>...</td>\n",
              "      <td>...</td>\n",
              "      <td>...</td>\n",
              "    </tr>\n",
              "    <tr>\n",
              "      <th>568625</th>\n",
              "      <td>-3.155616</td>\n",
              "      <td>1.767081</td>\n",
              "      <td>-3.398502</td>\n",
              "      <td>0.989428</td>\n",
              "      <td>-1.510791</td>\n",
              "      <td>-1.278360</td>\n",
              "      <td>-2.724025</td>\n",
              "      <td>0.724164</td>\n",
              "      <td>-1.656033</td>\n",
              "      <td>-3.849590</td>\n",
              "      <td>3.283952</td>\n",
              "      <td>-3.922658</td>\n",
              "      <td>0.952560</td>\n",
              "      <td>-4.893009</td>\n",
              "      <td>-4.781659</td>\n",
              "      <td>-9.324699</td>\n",
              "      <td>1.119009</td>\n",
              "      <td>-0.614580</td>\n",
              "      <td>-0.232642</td>\n",
              "      <td>84.260671</td>\n",
              "    </tr>\n",
              "    <tr>\n",
              "      <th>568626</th>\n",
              "      <td>-4.608251</td>\n",
              "      <td>3.662118</td>\n",
              "      <td>-5.293763</td>\n",
              "      <td>3.881100</td>\n",
              "      <td>-3.258690</td>\n",
              "      <td>-0.918828</td>\n",
              "      <td>-5.710748</td>\n",
              "      <td>0.833389</td>\n",
              "      <td>-2.459734</td>\n",
              "      <td>-5.728383</td>\n",
              "      <td>3.528937</td>\n",
              "      <td>-6.489639</td>\n",
              "      <td>-1.009931</td>\n",
              "      <td>-7.057308</td>\n",
              "      <td>-6.771309</td>\n",
              "      <td>-8.590487</td>\n",
              "      <td>2.692423</td>\n",
              "      <td>0.364411</td>\n",
              "      <td>-0.179450</td>\n",
              "      <td>1.000000</td>\n",
              "    </tr>\n",
              "    <tr>\n",
              "      <th>568627</th>\n",
              "      <td>1.172874</td>\n",
              "      <td>2.876345</td>\n",
              "      <td>-4.096471</td>\n",
              "      <td>4.769603</td>\n",
              "      <td>3.070751</td>\n",
              "      <td>-1.892667</td>\n",
              "      <td>1.738560</td>\n",
              "      <td>-0.425809</td>\n",
              "      <td>-2.239678</td>\n",
              "      <td>-2.115261</td>\n",
              "      <td>1.890486</td>\n",
              "      <td>-2.819744</td>\n",
              "      <td>-1.034476</td>\n",
              "      <td>-7.004710</td>\n",
              "      <td>2.412547</td>\n",
              "      <td>6.496868</td>\n",
              "      <td>-0.213065</td>\n",
              "      <td>-0.552313</td>\n",
              "      <td>0.006373</td>\n",
              "      <td>1.000000</td>\n",
              "    </tr>\n",
              "    <tr>\n",
              "      <th>568628</th>\n",
              "      <td>-11.384120</td>\n",
              "      <td>7.075869</td>\n",
              "      <td>-13.879024</td>\n",
              "      <td>8.660994</td>\n",
              "      <td>-10.843674</td>\n",
              "      <td>-2.356901</td>\n",
              "      <td>-13.033113</td>\n",
              "      <td>5.447322</td>\n",
              "      <td>-7.893342</td>\n",
              "      <td>-12.830543</td>\n",
              "      <td>6.196877</td>\n",
              "      <td>-12.400593</td>\n",
              "      <td>1.080001</td>\n",
              "      <td>-11.196340</td>\n",
              "      <td>-11.478495</td>\n",
              "      <td>-21.210056</td>\n",
              "      <td>1.646852</td>\n",
              "      <td>-1.327453</td>\n",
              "      <td>-0.215869</td>\n",
              "      <td>353.811171</td>\n",
              "    </tr>\n",
              "    <tr>\n",
              "      <th>568629</th>\n",
              "      <td>-0.024872</td>\n",
              "      <td>1.149216</td>\n",
              "      <td>-3.285873</td>\n",
              "      <td>2.114677</td>\n",
              "      <td>6.145791</td>\n",
              "      <td>-3.570669</td>\n",
              "      <td>-4.379658</td>\n",
              "      <td>-2.171927</td>\n",
              "      <td>0.270128</td>\n",
              "      <td>-1.326400</td>\n",
              "      <td>2.017038</td>\n",
              "      <td>-0.664032</td>\n",
              "      <td>-1.428752</td>\n",
              "      <td>-3.626602</td>\n",
              "      <td>0.883057</td>\n",
              "      <td>4.547220</td>\n",
              "      <td>-0.771054</td>\n",
              "      <td>-6.872610</td>\n",
              "      <td>0.456570</td>\n",
              "      <td>0.980718</td>\n",
              "    </tr>\n",
              "  </tbody>\n",
              "</table>\n",
              "<p>568630 rows × 20 columns</p>\n",
              "</div>"
            ],
            "text/plain": [
              "               V1        V2         V3  ...       V23       V27      Amount\n",
              "0       -1.359807 -0.072781   2.536347  ... -0.110474  0.133558  149.620000\n",
              "1        1.191857  0.266151   0.166480  ...  0.101288 -0.008983    2.690000\n",
              "2       -1.358354 -1.340163   1.773209  ...  0.909412 -0.055353  378.660000\n",
              "3       -0.966272 -0.185226   1.792993  ... -0.190321  0.062723  123.500000\n",
              "4       -1.158233  0.877737   1.548718  ... -0.137458  0.219422   69.990000\n",
              "...           ...       ...        ...  ...       ...       ...         ...\n",
              "568625  -3.155616  1.767081  -3.398502  ... -0.614580 -0.232642   84.260671\n",
              "568626  -4.608251  3.662118  -5.293763  ...  0.364411 -0.179450    1.000000\n",
              "568627   1.172874  2.876345  -4.096471  ... -0.552313  0.006373    1.000000\n",
              "568628 -11.384120  7.075869 -13.879024  ... -1.327453 -0.215869  353.811171\n",
              "568629  -0.024872  1.149216  -3.285873  ... -6.872610  0.456570    0.980718\n",
              "\n",
              "[568630 rows x 20 columns]"
            ]
          },
          "metadata": {
            "tags": []
          },
          "execution_count": 56
        }
      ]
    },
    {
      "cell_type": "code",
      "metadata": {
        "colab": {
          "base_uri": "https://localhost:8080/",
          "height": 224
        },
        "id": "E90i4FqxRB_s",
        "outputId": "c6cd8d17-129f-4b4e-83ce-a59b75e3e6ce"
      },
      "source": [
        "X_new_features = X_oversampled[['V1', 'V2', 'V3', 'V4', 'V5', 'V6', 'V7', 'V8', 'V9', 'V10', 'V11', \n",
        "        'V12', 'V13', 'V14', 'V16', 'V17', 'V21', 'V23', 'V27']]\n",
        "\n",
        "X_new_features.head()"
      ],
      "execution_count": 57,
      "outputs": [
        {
          "output_type": "execute_result",
          "data": {
            "text/html": [
              "<div>\n",
              "<style scoped>\n",
              "    .dataframe tbody tr th:only-of-type {\n",
              "        vertical-align: middle;\n",
              "    }\n",
              "\n",
              "    .dataframe tbody tr th {\n",
              "        vertical-align: top;\n",
              "    }\n",
              "\n",
              "    .dataframe thead th {\n",
              "        text-align: right;\n",
              "    }\n",
              "</style>\n",
              "<table border=\"1\" class=\"dataframe\">\n",
              "  <thead>\n",
              "    <tr style=\"text-align: right;\">\n",
              "      <th></th>\n",
              "      <th>V1</th>\n",
              "      <th>V2</th>\n",
              "      <th>V3</th>\n",
              "      <th>V4</th>\n",
              "      <th>V5</th>\n",
              "      <th>V6</th>\n",
              "      <th>V7</th>\n",
              "      <th>V8</th>\n",
              "      <th>V9</th>\n",
              "      <th>V10</th>\n",
              "      <th>V11</th>\n",
              "      <th>V12</th>\n",
              "      <th>V13</th>\n",
              "      <th>V14</th>\n",
              "      <th>V16</th>\n",
              "      <th>V17</th>\n",
              "      <th>V21</th>\n",
              "      <th>V23</th>\n",
              "      <th>V27</th>\n",
              "    </tr>\n",
              "  </thead>\n",
              "  <tbody>\n",
              "    <tr>\n",
              "      <th>0</th>\n",
              "      <td>-1.359807</td>\n",
              "      <td>-0.072781</td>\n",
              "      <td>2.536347</td>\n",
              "      <td>1.378155</td>\n",
              "      <td>-0.338321</td>\n",
              "      <td>0.462388</td>\n",
              "      <td>0.239599</td>\n",
              "      <td>0.098698</td>\n",
              "      <td>0.363787</td>\n",
              "      <td>0.090794</td>\n",
              "      <td>-0.551600</td>\n",
              "      <td>-0.617801</td>\n",
              "      <td>-0.991390</td>\n",
              "      <td>-0.311169</td>\n",
              "      <td>-0.470401</td>\n",
              "      <td>0.207971</td>\n",
              "      <td>-0.018307</td>\n",
              "      <td>-0.110474</td>\n",
              "      <td>0.133558</td>\n",
              "    </tr>\n",
              "    <tr>\n",
              "      <th>1</th>\n",
              "      <td>1.191857</td>\n",
              "      <td>0.266151</td>\n",
              "      <td>0.166480</td>\n",
              "      <td>0.448154</td>\n",
              "      <td>0.060018</td>\n",
              "      <td>-0.082361</td>\n",
              "      <td>-0.078803</td>\n",
              "      <td>0.085102</td>\n",
              "      <td>-0.255425</td>\n",
              "      <td>-0.166974</td>\n",
              "      <td>1.612727</td>\n",
              "      <td>1.065235</td>\n",
              "      <td>0.489095</td>\n",
              "      <td>-0.143772</td>\n",
              "      <td>0.463917</td>\n",
              "      <td>-0.114805</td>\n",
              "      <td>-0.225775</td>\n",
              "      <td>0.101288</td>\n",
              "      <td>-0.008983</td>\n",
              "    </tr>\n",
              "    <tr>\n",
              "      <th>2</th>\n",
              "      <td>-1.358354</td>\n",
              "      <td>-1.340163</td>\n",
              "      <td>1.773209</td>\n",
              "      <td>0.379780</td>\n",
              "      <td>-0.503198</td>\n",
              "      <td>1.800499</td>\n",
              "      <td>0.791461</td>\n",
              "      <td>0.247676</td>\n",
              "      <td>-1.514654</td>\n",
              "      <td>0.207643</td>\n",
              "      <td>0.624501</td>\n",
              "      <td>0.066084</td>\n",
              "      <td>0.717293</td>\n",
              "      <td>-0.165946</td>\n",
              "      <td>-2.890083</td>\n",
              "      <td>1.109969</td>\n",
              "      <td>0.247998</td>\n",
              "      <td>0.909412</td>\n",
              "      <td>-0.055353</td>\n",
              "    </tr>\n",
              "    <tr>\n",
              "      <th>3</th>\n",
              "      <td>-0.966272</td>\n",
              "      <td>-0.185226</td>\n",
              "      <td>1.792993</td>\n",
              "      <td>-0.863291</td>\n",
              "      <td>-0.010309</td>\n",
              "      <td>1.247203</td>\n",
              "      <td>0.237609</td>\n",
              "      <td>0.377436</td>\n",
              "      <td>-1.387024</td>\n",
              "      <td>-0.054952</td>\n",
              "      <td>-0.226487</td>\n",
              "      <td>0.178228</td>\n",
              "      <td>0.507757</td>\n",
              "      <td>-0.287924</td>\n",
              "      <td>-1.059647</td>\n",
              "      <td>-0.684093</td>\n",
              "      <td>-0.108300</td>\n",
              "      <td>-0.190321</td>\n",
              "      <td>0.062723</td>\n",
              "    </tr>\n",
              "    <tr>\n",
              "      <th>4</th>\n",
              "      <td>-1.158233</td>\n",
              "      <td>0.877737</td>\n",
              "      <td>1.548718</td>\n",
              "      <td>0.403034</td>\n",
              "      <td>-0.407193</td>\n",
              "      <td>0.095921</td>\n",
              "      <td>0.592941</td>\n",
              "      <td>-0.270533</td>\n",
              "      <td>0.817739</td>\n",
              "      <td>0.753074</td>\n",
              "      <td>-0.822843</td>\n",
              "      <td>0.538196</td>\n",
              "      <td>1.345852</td>\n",
              "      <td>-1.119670</td>\n",
              "      <td>-0.451449</td>\n",
              "      <td>-0.237033</td>\n",
              "      <td>-0.009431</td>\n",
              "      <td>-0.137458</td>\n",
              "      <td>0.219422</td>\n",
              "    </tr>\n",
              "  </tbody>\n",
              "</table>\n",
              "</div>"
            ],
            "text/plain": [
              "         V1        V2        V3  ...       V21       V23       V27\n",
              "0 -1.359807 -0.072781  2.536347  ... -0.018307 -0.110474  0.133558\n",
              "1  1.191857  0.266151  0.166480  ... -0.225775  0.101288 -0.008983\n",
              "2 -1.358354 -1.340163  1.773209  ...  0.247998  0.909412 -0.055353\n",
              "3 -0.966272 -0.185226  1.792993  ... -0.108300 -0.190321  0.062723\n",
              "4 -1.158233  0.877737  1.548718  ... -0.009431 -0.137458  0.219422\n",
              "\n",
              "[5 rows x 19 columns]"
            ]
          },
          "metadata": {
            "tags": []
          },
          "execution_count": 57
        }
      ]
    },
    {
      "cell_type": "code",
      "metadata": {
        "colab": {
          "base_uri": "https://localhost:8080/"
        },
        "id": "W5F19ydMOLnw",
        "outputId": "4166b50a-aa62-4153-974f-c1c11640bca8"
      },
      "source": [
        "y_oversampled.shape"
      ],
      "execution_count": 60,
      "outputs": [
        {
          "output_type": "execute_result",
          "data": {
            "text/plain": [
              "(568630,)"
            ]
          },
          "metadata": {
            "tags": []
          },
          "execution_count": 60
        }
      ]
    },
    {
      "cell_type": "code",
      "metadata": {
        "id": "x2XVLNpQOroW"
      },
      "source": [
        "sample_weight = np.array([X_oversampled['Amount'][ind] if fraud else admin_cost for ind, fraud in enumerate(y_oversampled)])"
      ],
      "execution_count": 61,
      "outputs": []
    },
    {
      "cell_type": "code",
      "metadata": {
        "id": "bXQoL1qYRwGf"
      },
      "source": [
        "# scaling the features\n",
        "scaler = StandardScaler()\n",
        "scaled_X_new = scaler.fit_transform(X_new_features)"
      ],
      "execution_count": 59,
      "outputs": []
    },
    {
      "cell_type": "code",
      "metadata": {
        "id": "u57UyBq5ubkO"
      },
      "source": [
        "cost_sensitive_smote = GradientBoostingClassifier()\n",
        "smote_scores = cross_validate(cost_sensitive_smote, scaled_X_new, y_oversampled, \n",
        "                                       scoring=['f1', 'average_precision'], \n",
        "                                       cv=cv, n_jobs=4, return_estimator=True, \n",
        "                                       fit_params={'sample_weight': sample_weight})"
      ],
      "execution_count": 63,
      "outputs": []
    },
    {
      "cell_type": "code",
      "metadata": {
        "id": "7A0XXNHpufI8",
        "colab": {
          "base_uri": "https://localhost:8080/",
          "height": 173
        },
        "outputId": "1cfac1f7-2183-4c3f-9982-6269cc199c4f"
      },
      "source": [
        "smote_results = get_metric_scores(smote_scores, scaled_X)\n",
        "smote_results"
      ],
      "execution_count": 73,
      "outputs": [
        {
          "output_type": "execute_result",
          "data": {
            "text/html": [
              "<div>\n",
              "<style scoped>\n",
              "    .dataframe tbody tr th:only-of-type {\n",
              "        vertical-align: middle;\n",
              "    }\n",
              "\n",
              "    .dataframe tbody tr th {\n",
              "        vertical-align: top;\n",
              "    }\n",
              "\n",
              "    .dataframe thead th {\n",
              "        text-align: right;\n",
              "    }\n",
              "</style>\n",
              "<table border=\"1\" class=\"dataframe\">\n",
              "  <thead>\n",
              "    <tr style=\"text-align: right;\">\n",
              "      <th></th>\n",
              "      <th>f1_score</th>\n",
              "      <th>auc_pr</th>\n",
              "      <th>cost_savings</th>\n",
              "    </tr>\n",
              "  </thead>\n",
              "  <tbody>\n",
              "    <tr>\n",
              "      <th>split_1</th>\n",
              "      <td>0.963101</td>\n",
              "      <td>0.994522</td>\n",
              "      <td>-3.172615</td>\n",
              "    </tr>\n",
              "    <tr>\n",
              "      <th>split_2</th>\n",
              "      <td>0.961648</td>\n",
              "      <td>0.994510</td>\n",
              "      <td>-6.322049</td>\n",
              "    </tr>\n",
              "    <tr>\n",
              "      <th>split_3</th>\n",
              "      <td>0.962278</td>\n",
              "      <td>0.994502</td>\n",
              "      <td>-4.743623</td>\n",
              "    </tr>\n",
              "    <tr>\n",
              "      <th>split_4</th>\n",
              "      <td>0.962426</td>\n",
              "      <td>0.994510</td>\n",
              "      <td>-5.091978</td>\n",
              "    </tr>\n",
              "  </tbody>\n",
              "</table>\n",
              "</div>"
            ],
            "text/plain": [
              "         f1_score    auc_pr  cost_savings\n",
              "split_1  0.963101  0.994522     -3.172615\n",
              "split_2  0.961648  0.994510     -6.322049\n",
              "split_3  0.962278  0.994502     -4.743623\n",
              "split_4  0.962426  0.994510     -5.091978"
            ]
          },
          "metadata": {
            "tags": []
          },
          "execution_count": 73
        }
      ]
    },
    {
      "cell_type": "code",
      "metadata": {
        "id": "0mtVT7ToYq2V",
        "colab": {
          "base_uri": "https://localhost:8080/"
        },
        "outputId": "92860517-0c60-45b4-d19c-cb85f0eec07f"
      },
      "source": [
        "smote_results.mean()"
      ],
      "execution_count": 74,
      "outputs": [
        {
          "output_type": "execute_result",
          "data": {
            "text/plain": [
              "f1_score        0.962363\n",
              "auc_pr          0.994511\n",
              "cost_savings   -4.832566\n",
              "dtype: float64"
            ]
          },
          "metadata": {
            "tags": []
          },
          "execution_count": 74
        }
      ]
    },
    {
      "cell_type": "markdown",
      "metadata": {
        "id": "WVpZwc96w2km"
      },
      "source": [
        "**Cost sensitive - Undersampling**"
      ]
    },
    {
      "cell_type": "code",
      "metadata": {
        "id": "uEmiirLiz5qR"
      },
      "source": [
        "from imblearn.under_sampling import RandomUnderSampler\n",
        "\n",
        "undersample = RandomUnderSampler()\n",
        "\n",
        "X_undersampled, y_undersampled = undersample.fit_resample(X_new, y)"
      ],
      "execution_count": 75,
      "outputs": []
    },
    {
      "cell_type": "code",
      "metadata": {
        "colab": {
          "base_uri": "https://localhost:8080/",
          "height": 439
        },
        "id": "lEPDnrNOSkij",
        "outputId": "1d07fbe8-3bab-4ddf-b977-2fbc18d51c6c"
      },
      "source": [
        "X_undersampled = pd.DataFrame(X_undersampled, columns=X_new.columns)\n",
        "X_undersampled"
      ],
      "execution_count": 76,
      "outputs": [
        {
          "output_type": "execute_result",
          "data": {
            "text/html": [
              "<div>\n",
              "<style scoped>\n",
              "    .dataframe tbody tr th:only-of-type {\n",
              "        vertical-align: middle;\n",
              "    }\n",
              "\n",
              "    .dataframe tbody tr th {\n",
              "        vertical-align: top;\n",
              "    }\n",
              "\n",
              "    .dataframe thead th {\n",
              "        text-align: right;\n",
              "    }\n",
              "</style>\n",
              "<table border=\"1\" class=\"dataframe\">\n",
              "  <thead>\n",
              "    <tr style=\"text-align: right;\">\n",
              "      <th></th>\n",
              "      <th>V1</th>\n",
              "      <th>V2</th>\n",
              "      <th>V3</th>\n",
              "      <th>V4</th>\n",
              "      <th>V5</th>\n",
              "      <th>V6</th>\n",
              "      <th>V7</th>\n",
              "      <th>V8</th>\n",
              "      <th>V9</th>\n",
              "      <th>V10</th>\n",
              "      <th>V11</th>\n",
              "      <th>V12</th>\n",
              "      <th>V13</th>\n",
              "      <th>V14</th>\n",
              "      <th>V16</th>\n",
              "      <th>V17</th>\n",
              "      <th>V21</th>\n",
              "      <th>V23</th>\n",
              "      <th>V27</th>\n",
              "      <th>Amount</th>\n",
              "    </tr>\n",
              "  </thead>\n",
              "  <tbody>\n",
              "    <tr>\n",
              "      <th>0</th>\n",
              "      <td>-0.226609</td>\n",
              "      <td>0.961791</td>\n",
              "      <td>0.242349</td>\n",
              "      <td>-0.731235</td>\n",
              "      <td>0.335654</td>\n",
              "      <td>-0.885546</td>\n",
              "      <td>0.863096</td>\n",
              "      <td>-0.027474</td>\n",
              "      <td>-0.046959</td>\n",
              "      <td>0.081210</td>\n",
              "      <td>0.795820</td>\n",
              "      <td>0.610708</td>\n",
              "      <td>-0.572068</td>\n",
              "      <td>0.339361</td>\n",
              "      <td>0.077092</td>\n",
              "      <td>-0.606856</td>\n",
              "      <td>-0.239714</td>\n",
              "      <td>0.089724</td>\n",
              "      <td>0.347581</td>\n",
              "      <td>0.89</td>\n",
              "    </tr>\n",
              "    <tr>\n",
              "      <th>1</th>\n",
              "      <td>1.313611</td>\n",
              "      <td>-1.477745</td>\n",
              "      <td>0.862860</td>\n",
              "      <td>-1.229934</td>\n",
              "      <td>-2.138836</td>\n",
              "      <td>-0.723148</td>\n",
              "      <td>-1.316068</td>\n",
              "      <td>-0.042157</td>\n",
              "      <td>-1.333068</td>\n",
              "      <td>1.395608</td>\n",
              "      <td>-0.722183</td>\n",
              "      <td>-1.544768</td>\n",
              "      <td>-0.678814</td>\n",
              "      <td>-0.279068</td>\n",
              "      <td>0.019309</td>\n",
              "      <td>0.428771</td>\n",
              "      <td>-0.158245</td>\n",
              "      <td>0.044272</td>\n",
              "      <td>0.034713</td>\n",
              "      <td>101.30</td>\n",
              "    </tr>\n",
              "    <tr>\n",
              "      <th>2</th>\n",
              "      <td>0.124238</td>\n",
              "      <td>1.030743</td>\n",
              "      <td>-0.516255</td>\n",
              "      <td>-0.758945</td>\n",
              "      <td>1.252213</td>\n",
              "      <td>-0.207739</td>\n",
              "      <td>0.895305</td>\n",
              "      <td>0.041307</td>\n",
              "      <td>-0.401554</td>\n",
              "      <td>-0.694262</td>\n",
              "      <td>0.868079</td>\n",
              "      <td>0.887560</td>\n",
              "      <td>0.762354</td>\n",
              "      <td>-0.992397</td>\n",
              "      <td>0.537845</td>\n",
              "      <td>-0.004218</td>\n",
              "      <td>-0.300214</td>\n",
              "      <td>0.030397</td>\n",
              "      <td>0.227124</td>\n",
              "      <td>0.89</td>\n",
              "    </tr>\n",
              "    <tr>\n",
              "      <th>3</th>\n",
              "      <td>-1.872970</td>\n",
              "      <td>2.474065</td>\n",
              "      <td>0.860039</td>\n",
              "      <td>0.538976</td>\n",
              "      <td>-0.238178</td>\n",
              "      <td>0.341203</td>\n",
              "      <td>-0.663132</td>\n",
              "      <td>-2.483350</td>\n",
              "      <td>-0.645788</td>\n",
              "      <td>0.690268</td>\n",
              "      <td>1.523021</td>\n",
              "      <td>1.118067</td>\n",
              "      <td>0.890349</td>\n",
              "      <td>-0.182752</td>\n",
              "      <td>0.051538</td>\n",
              "      <td>0.342739</td>\n",
              "      <td>-1.604163</td>\n",
              "      <td>0.069157</td>\n",
              "      <td>0.694295</td>\n",
              "      <td>5.94</td>\n",
              "    </tr>\n",
              "    <tr>\n",
              "      <th>4</th>\n",
              "      <td>2.164319</td>\n",
              "      <td>-0.395081</td>\n",
              "      <td>-2.055745</td>\n",
              "      <td>0.455904</td>\n",
              "      <td>0.464475</td>\n",
              "      <td>-0.285354</td>\n",
              "      <td>0.137421</td>\n",
              "      <td>-0.260968</td>\n",
              "      <td>-0.717682</td>\n",
              "      <td>1.071328</td>\n",
              "      <td>-1.962492</td>\n",
              "      <td>-0.595524</td>\n",
              "      <td>-0.479333</td>\n",
              "      <td>0.458278</td>\n",
              "      <td>-1.977383</td>\n",
              "      <td>-0.113491</td>\n",
              "      <td>-0.360959</td>\n",
              "      <td>0.020789</td>\n",
              "      <td>-0.002282</td>\n",
              "      <td>26.99</td>\n",
              "    </tr>\n",
              "    <tr>\n",
              "      <th>...</th>\n",
              "      <td>...</td>\n",
              "      <td>...</td>\n",
              "      <td>...</td>\n",
              "      <td>...</td>\n",
              "      <td>...</td>\n",
              "      <td>...</td>\n",
              "      <td>...</td>\n",
              "      <td>...</td>\n",
              "      <td>...</td>\n",
              "      <td>...</td>\n",
              "      <td>...</td>\n",
              "      <td>...</td>\n",
              "      <td>...</td>\n",
              "      <td>...</td>\n",
              "      <td>...</td>\n",
              "      <td>...</td>\n",
              "      <td>...</td>\n",
              "      <td>...</td>\n",
              "      <td>...</td>\n",
              "      <td>...</td>\n",
              "    </tr>\n",
              "    <tr>\n",
              "      <th>979</th>\n",
              "      <td>-1.927883</td>\n",
              "      <td>1.125653</td>\n",
              "      <td>-4.518331</td>\n",
              "      <td>1.749293</td>\n",
              "      <td>-1.566487</td>\n",
              "      <td>-2.010494</td>\n",
              "      <td>-0.882850</td>\n",
              "      <td>0.697211</td>\n",
              "      <td>-2.064945</td>\n",
              "      <td>-5.587794</td>\n",
              "      <td>2.115795</td>\n",
              "      <td>-5.417424</td>\n",
              "      <td>-1.235123</td>\n",
              "      <td>-6.665177</td>\n",
              "      <td>-2.897825</td>\n",
              "      <td>-4.570529</td>\n",
              "      <td>0.778584</td>\n",
              "      <td>0.639419</td>\n",
              "      <td>0.292680</td>\n",
              "      <td>390.00</td>\n",
              "    </tr>\n",
              "    <tr>\n",
              "      <th>980</th>\n",
              "      <td>1.378559</td>\n",
              "      <td>1.289381</td>\n",
              "      <td>-5.004247</td>\n",
              "      <td>1.411850</td>\n",
              "      <td>0.442581</td>\n",
              "      <td>-1.326536</td>\n",
              "      <td>-1.413170</td>\n",
              "      <td>0.248525</td>\n",
              "      <td>-1.127396</td>\n",
              "      <td>-3.232153</td>\n",
              "      <td>2.858466</td>\n",
              "      <td>-3.096915</td>\n",
              "      <td>-0.792532</td>\n",
              "      <td>-5.210141</td>\n",
              "      <td>-2.155297</td>\n",
              "      <td>-3.267116</td>\n",
              "      <td>0.370612</td>\n",
              "      <td>-0.145640</td>\n",
              "      <td>0.389152</td>\n",
              "      <td>0.76</td>\n",
              "    </tr>\n",
              "    <tr>\n",
              "      <th>981</th>\n",
              "      <td>-0.676143</td>\n",
              "      <td>1.126366</td>\n",
              "      <td>-2.213700</td>\n",
              "      <td>0.468308</td>\n",
              "      <td>-1.120541</td>\n",
              "      <td>-0.003346</td>\n",
              "      <td>-2.234739</td>\n",
              "      <td>1.210158</td>\n",
              "      <td>-0.652250</td>\n",
              "      <td>-3.463891</td>\n",
              "      <td>1.794969</td>\n",
              "      <td>-2.775022</td>\n",
              "      <td>-0.418950</td>\n",
              "      <td>-4.057162</td>\n",
              "      <td>-1.603015</td>\n",
              "      <td>-5.035326</td>\n",
              "      <td>0.751826</td>\n",
              "      <td>0.190944</td>\n",
              "      <td>0.385107</td>\n",
              "      <td>77.89</td>\n",
              "    </tr>\n",
              "    <tr>\n",
              "      <th>982</th>\n",
              "      <td>-3.113832</td>\n",
              "      <td>0.585864</td>\n",
              "      <td>-5.399730</td>\n",
              "      <td>1.817092</td>\n",
              "      <td>-0.840618</td>\n",
              "      <td>-2.943548</td>\n",
              "      <td>-2.208002</td>\n",
              "      <td>1.058733</td>\n",
              "      <td>-1.632333</td>\n",
              "      <td>-5.245984</td>\n",
              "      <td>1.933520</td>\n",
              "      <td>-5.030465</td>\n",
              "      <td>-1.127455</td>\n",
              "      <td>-6.416628</td>\n",
              "      <td>-2.549498</td>\n",
              "      <td>-4.614717</td>\n",
              "      <td>0.583276</td>\n",
              "      <td>-0.456108</td>\n",
              "      <td>0.884876</td>\n",
              "      <td>245.00</td>\n",
              "    </tr>\n",
              "    <tr>\n",
              "      <th>983</th>\n",
              "      <td>1.991976</td>\n",
              "      <td>0.158476</td>\n",
              "      <td>-2.583441</td>\n",
              "      <td>0.408670</td>\n",
              "      <td>1.151147</td>\n",
              "      <td>-0.096695</td>\n",
              "      <td>0.223050</td>\n",
              "      <td>-0.068384</td>\n",
              "      <td>0.577829</td>\n",
              "      <td>-0.888722</td>\n",
              "      <td>0.491140</td>\n",
              "      <td>0.728903</td>\n",
              "      <td>0.380428</td>\n",
              "      <td>-1.948883</td>\n",
              "      <td>0.519436</td>\n",
              "      <td>0.903562</td>\n",
              "      <td>-0.164350</td>\n",
              "      <td>-0.072173</td>\n",
              "      <td>0.002988</td>\n",
              "      <td>42.53</td>\n",
              "    </tr>\n",
              "  </tbody>\n",
              "</table>\n",
              "<p>984 rows × 20 columns</p>\n",
              "</div>"
            ],
            "text/plain": [
              "           V1        V2        V3  ...       V23       V27  Amount\n",
              "0   -0.226609  0.961791  0.242349  ...  0.089724  0.347581    0.89\n",
              "1    1.313611 -1.477745  0.862860  ...  0.044272  0.034713  101.30\n",
              "2    0.124238  1.030743 -0.516255  ...  0.030397  0.227124    0.89\n",
              "3   -1.872970  2.474065  0.860039  ...  0.069157  0.694295    5.94\n",
              "4    2.164319 -0.395081 -2.055745  ...  0.020789 -0.002282   26.99\n",
              "..        ...       ...       ...  ...       ...       ...     ...\n",
              "979 -1.927883  1.125653 -4.518331  ...  0.639419  0.292680  390.00\n",
              "980  1.378559  1.289381 -5.004247  ... -0.145640  0.389152    0.76\n",
              "981 -0.676143  1.126366 -2.213700  ...  0.190944  0.385107   77.89\n",
              "982 -3.113832  0.585864 -5.399730  ... -0.456108  0.884876  245.00\n",
              "983  1.991976  0.158476 -2.583441  ... -0.072173  0.002988   42.53\n",
              "\n",
              "[984 rows x 20 columns]"
            ]
          },
          "metadata": {
            "tags": []
          },
          "execution_count": 76
        }
      ]
    },
    {
      "cell_type": "code",
      "metadata": {
        "colab": {
          "base_uri": "https://localhost:8080/",
          "height": 224
        },
        "id": "zoDdft2QSdKe",
        "outputId": "e02b6c36-0b25-4f54-876c-e6c02255ee2c"
      },
      "source": [
        "X_new_feat = X_undersampled[['V1', 'V2', 'V3', 'V4', 'V5', 'V6', 'V7', 'V8', 'V9', 'V10', 'V11', \n",
        "        'V12', 'V13', 'V14', 'V16', 'V17', 'V21', 'V23', 'V27']]\n",
        "\n",
        "X_new_feat.head()"
      ],
      "execution_count": 77,
      "outputs": [
        {
          "output_type": "execute_result",
          "data": {
            "text/html": [
              "<div>\n",
              "<style scoped>\n",
              "    .dataframe tbody tr th:only-of-type {\n",
              "        vertical-align: middle;\n",
              "    }\n",
              "\n",
              "    .dataframe tbody tr th {\n",
              "        vertical-align: top;\n",
              "    }\n",
              "\n",
              "    .dataframe thead th {\n",
              "        text-align: right;\n",
              "    }\n",
              "</style>\n",
              "<table border=\"1\" class=\"dataframe\">\n",
              "  <thead>\n",
              "    <tr style=\"text-align: right;\">\n",
              "      <th></th>\n",
              "      <th>V1</th>\n",
              "      <th>V2</th>\n",
              "      <th>V3</th>\n",
              "      <th>V4</th>\n",
              "      <th>V5</th>\n",
              "      <th>V6</th>\n",
              "      <th>V7</th>\n",
              "      <th>V8</th>\n",
              "      <th>V9</th>\n",
              "      <th>V10</th>\n",
              "      <th>V11</th>\n",
              "      <th>V12</th>\n",
              "      <th>V13</th>\n",
              "      <th>V14</th>\n",
              "      <th>V16</th>\n",
              "      <th>V17</th>\n",
              "      <th>V21</th>\n",
              "      <th>V23</th>\n",
              "      <th>V27</th>\n",
              "    </tr>\n",
              "  </thead>\n",
              "  <tbody>\n",
              "    <tr>\n",
              "      <th>0</th>\n",
              "      <td>-0.226609</td>\n",
              "      <td>0.961791</td>\n",
              "      <td>0.242349</td>\n",
              "      <td>-0.731235</td>\n",
              "      <td>0.335654</td>\n",
              "      <td>-0.885546</td>\n",
              "      <td>0.863096</td>\n",
              "      <td>-0.027474</td>\n",
              "      <td>-0.046959</td>\n",
              "      <td>0.081210</td>\n",
              "      <td>0.795820</td>\n",
              "      <td>0.610708</td>\n",
              "      <td>-0.572068</td>\n",
              "      <td>0.339361</td>\n",
              "      <td>0.077092</td>\n",
              "      <td>-0.606856</td>\n",
              "      <td>-0.239714</td>\n",
              "      <td>0.089724</td>\n",
              "      <td>0.347581</td>\n",
              "    </tr>\n",
              "    <tr>\n",
              "      <th>1</th>\n",
              "      <td>1.313611</td>\n",
              "      <td>-1.477745</td>\n",
              "      <td>0.862860</td>\n",
              "      <td>-1.229934</td>\n",
              "      <td>-2.138836</td>\n",
              "      <td>-0.723148</td>\n",
              "      <td>-1.316068</td>\n",
              "      <td>-0.042157</td>\n",
              "      <td>-1.333068</td>\n",
              "      <td>1.395608</td>\n",
              "      <td>-0.722183</td>\n",
              "      <td>-1.544768</td>\n",
              "      <td>-0.678814</td>\n",
              "      <td>-0.279068</td>\n",
              "      <td>0.019309</td>\n",
              "      <td>0.428771</td>\n",
              "      <td>-0.158245</td>\n",
              "      <td>0.044272</td>\n",
              "      <td>0.034713</td>\n",
              "    </tr>\n",
              "    <tr>\n",
              "      <th>2</th>\n",
              "      <td>0.124238</td>\n",
              "      <td>1.030743</td>\n",
              "      <td>-0.516255</td>\n",
              "      <td>-0.758945</td>\n",
              "      <td>1.252213</td>\n",
              "      <td>-0.207739</td>\n",
              "      <td>0.895305</td>\n",
              "      <td>0.041307</td>\n",
              "      <td>-0.401554</td>\n",
              "      <td>-0.694262</td>\n",
              "      <td>0.868079</td>\n",
              "      <td>0.887560</td>\n",
              "      <td>0.762354</td>\n",
              "      <td>-0.992397</td>\n",
              "      <td>0.537845</td>\n",
              "      <td>-0.004218</td>\n",
              "      <td>-0.300214</td>\n",
              "      <td>0.030397</td>\n",
              "      <td>0.227124</td>\n",
              "    </tr>\n",
              "    <tr>\n",
              "      <th>3</th>\n",
              "      <td>-1.872970</td>\n",
              "      <td>2.474065</td>\n",
              "      <td>0.860039</td>\n",
              "      <td>0.538976</td>\n",
              "      <td>-0.238178</td>\n",
              "      <td>0.341203</td>\n",
              "      <td>-0.663132</td>\n",
              "      <td>-2.483350</td>\n",
              "      <td>-0.645788</td>\n",
              "      <td>0.690268</td>\n",
              "      <td>1.523021</td>\n",
              "      <td>1.118067</td>\n",
              "      <td>0.890349</td>\n",
              "      <td>-0.182752</td>\n",
              "      <td>0.051538</td>\n",
              "      <td>0.342739</td>\n",
              "      <td>-1.604163</td>\n",
              "      <td>0.069157</td>\n",
              "      <td>0.694295</td>\n",
              "    </tr>\n",
              "    <tr>\n",
              "      <th>4</th>\n",
              "      <td>2.164319</td>\n",
              "      <td>-0.395081</td>\n",
              "      <td>-2.055745</td>\n",
              "      <td>0.455904</td>\n",
              "      <td>0.464475</td>\n",
              "      <td>-0.285354</td>\n",
              "      <td>0.137421</td>\n",
              "      <td>-0.260968</td>\n",
              "      <td>-0.717682</td>\n",
              "      <td>1.071328</td>\n",
              "      <td>-1.962492</td>\n",
              "      <td>-0.595524</td>\n",
              "      <td>-0.479333</td>\n",
              "      <td>0.458278</td>\n",
              "      <td>-1.977383</td>\n",
              "      <td>-0.113491</td>\n",
              "      <td>-0.360959</td>\n",
              "      <td>0.020789</td>\n",
              "      <td>-0.002282</td>\n",
              "    </tr>\n",
              "  </tbody>\n",
              "</table>\n",
              "</div>"
            ],
            "text/plain": [
              "         V1        V2        V3  ...       V21       V23       V27\n",
              "0 -0.226609  0.961791  0.242349  ... -0.239714  0.089724  0.347581\n",
              "1  1.313611 -1.477745  0.862860  ... -0.158245  0.044272  0.034713\n",
              "2  0.124238  1.030743 -0.516255  ... -0.300214  0.030397  0.227124\n",
              "3 -1.872970  2.474065  0.860039  ... -1.604163  0.069157  0.694295\n",
              "4  2.164319 -0.395081 -2.055745  ... -0.360959  0.020789 -0.002282\n",
              "\n",
              "[5 rows x 19 columns]"
            ]
          },
          "metadata": {
            "tags": []
          },
          "execution_count": 77
        }
      ]
    },
    {
      "cell_type": "code",
      "metadata": {
        "id": "zji5aLx7S-pi"
      },
      "source": [
        "undersample_weight = np.array([X_undersampled['Amount'][ind] if fraud else admin_cost for ind, fraud in enumerate(y_undersampled)])"
      ],
      "execution_count": 78,
      "outputs": []
    },
    {
      "cell_type": "code",
      "metadata": {
        "id": "2P9-2BFEZNOo"
      },
      "source": [
        "# scaling the features\n",
        "scaler = StandardScaler()\n",
        "scaled_new_X = scaler.fit_transform(X_new_feat)"
      ],
      "execution_count": 79,
      "outputs": []
    },
    {
      "cell_type": "code",
      "metadata": {
        "id": "IaoqJ1991DAq"
      },
      "source": [
        "cost_sensitive_under = GradientBoostingClassifier()\n",
        "under_scores = cross_validate(cost_sensitive_under, scaled_new_X, y_undersampled, \n",
        "                                       scoring=['f1', 'average_precision'], \n",
        "                                       cv=cv, n_jobs=4, return_estimator=True, \n",
        "                                       fit_params={'sample_weight': undersample_weight})"
      ],
      "execution_count": 80,
      "outputs": []
    },
    {
      "cell_type": "code",
      "metadata": {
        "id": "3UhRwbHO1Ya2",
        "colab": {
          "base_uri": "https://localhost:8080/",
          "height": 173
        },
        "outputId": "e598f2b3-9d49-4849-d8cb-4aac7340503d"
      },
      "source": [
        "undersample_results = get_metric_scores(under_scores, scaled_X)\n",
        "undersample_results"
      ],
      "execution_count": 82,
      "outputs": [
        {
          "output_type": "execute_result",
          "data": {
            "text/html": [
              "<div>\n",
              "<style scoped>\n",
              "    .dataframe tbody tr th:only-of-type {\n",
              "        vertical-align: middle;\n",
              "    }\n",
              "\n",
              "    .dataframe tbody tr th {\n",
              "        vertical-align: top;\n",
              "    }\n",
              "\n",
              "    .dataframe thead th {\n",
              "        text-align: right;\n",
              "    }\n",
              "</style>\n",
              "<table border=\"1\" class=\"dataframe\">\n",
              "  <thead>\n",
              "    <tr style=\"text-align: right;\">\n",
              "      <th></th>\n",
              "      <th>f1_score</th>\n",
              "      <th>auc_pr</th>\n",
              "      <th>cost_savings</th>\n",
              "    </tr>\n",
              "  </thead>\n",
              "  <tbody>\n",
              "    <tr>\n",
              "      <th>split_1</th>\n",
              "      <td>0.918288</td>\n",
              "      <td>0.983163</td>\n",
              "      <td>-3.611872</td>\n",
              "    </tr>\n",
              "    <tr>\n",
              "      <th>split_2</th>\n",
              "      <td>0.911290</td>\n",
              "      <td>0.969172</td>\n",
              "      <td>-8.559496</td>\n",
              "    </tr>\n",
              "    <tr>\n",
              "      <th>split_3</th>\n",
              "      <td>0.896000</td>\n",
              "      <td>0.971427</td>\n",
              "      <td>-6.476781</td>\n",
              "    </tr>\n",
              "    <tr>\n",
              "      <th>split_4</th>\n",
              "      <td>0.920000</td>\n",
              "      <td>0.980632</td>\n",
              "      <td>-6.116415</td>\n",
              "    </tr>\n",
              "  </tbody>\n",
              "</table>\n",
              "</div>"
            ],
            "text/plain": [
              "         f1_score    auc_pr  cost_savings\n",
              "split_1  0.918288  0.983163     -3.611872\n",
              "split_2  0.911290  0.969172     -8.559496\n",
              "split_3  0.896000  0.971427     -6.476781\n",
              "split_4  0.920000  0.980632     -6.116415"
            ]
          },
          "metadata": {
            "tags": []
          },
          "execution_count": 82
        }
      ]
    },
    {
      "cell_type": "code",
      "metadata": {
        "id": "ml9vMH-11jn4",
        "colab": {
          "base_uri": "https://localhost:8080/"
        },
        "outputId": "cd0b05ef-5ae9-4a19-d768-680803775f27"
      },
      "source": [
        "undersample_results.mean()"
      ],
      "execution_count": 83,
      "outputs": [
        {
          "output_type": "execute_result",
          "data": {
            "text/plain": [
              "f1_score        0.911395\n",
              "auc_pr          0.976098\n",
              "cost_savings   -6.191141\n",
              "dtype: float64"
            ]
          },
          "metadata": {
            "tags": []
          },
          "execution_count": 83
        }
      ]
    },
    {
      "cell_type": "code",
      "metadata": {
        "id": "nc4Wgwm31qhm"
      },
      "source": [
        ""
      ],
      "execution_count": null,
      "outputs": []
    }
  ]
}