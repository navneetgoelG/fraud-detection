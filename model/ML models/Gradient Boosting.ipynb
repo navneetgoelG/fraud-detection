{
  "nbformat": 4,
  "nbformat_minor": 0,
  "metadata": {
    "colab": {
      "name": "Gradient Boosting.ipynb",
      "provenance": [],
      "authorship_tag": "ABX9TyNhkIKltispveejPsftndnH"
    },
    "kernelspec": {
      "display_name": "Python 3",
      "name": "python3"
    }
  },
  "cells": [
    {
      "cell_type": "code",
      "metadata": {
        "colab": {
          "base_uri": "https://localhost:8080/"
        },
        "id": "xB2itreYGzJl",
        "outputId": "f79ee6b2-0ea9-43e8-a267-60351bf32421"
      },
      "source": [
        "from google.colab import drive\n",
        "drive.mount('/content/gdrive')"
      ],
      "execution_count": 1,
      "outputs": [
        {
          "output_type": "stream",
          "text": [
            "Mounted at /content/gdrive\n"
          ],
          "name": "stdout"
        }
      ]
    },
    {
      "cell_type": "code",
      "metadata": {
        "id": "1jp7EdtqIDa2"
      },
      "source": [
        "import os\n",
        "#os.environ['KAGGLE_CONFIG_DIR'] = \"/content/gdrive/My Drive/kaggle\""
      ],
      "execution_count": 2,
      "outputs": []
    },
    {
      "cell_type": "code",
      "metadata": {
        "id": "QpFV5ELIIWj8"
      },
      "source": [
        "#changing the working directory\n",
        "#%cd /content/gdrive/My Drive/kaggle"
      ],
      "execution_count": 3,
      "outputs": []
    },
    {
      "cell_type": "code",
      "metadata": {
        "id": "dPj-MuMVIbKn"
      },
      "source": [
        "#!kaggle datasets download -d mlg-ulb/creditcardfraud"
      ],
      "execution_count": 4,
      "outputs": []
    },
    {
      "cell_type": "code",
      "metadata": {
        "id": "FCWV4BNwIo1e"
      },
      "source": [
        "#unzipping the zip files and deleting the zip files\n",
        "#!unzip \\*.zip  && rm *.zip"
      ],
      "execution_count": 5,
      "outputs": []
    },
    {
      "cell_type": "code",
      "metadata": {
        "colab": {
          "base_uri": "https://localhost:8080/"
        },
        "id": "-JHT_r0cJy8X",
        "outputId": "f5ef4187-fa6a-44dc-c5d1-e852f0e3237d"
      },
      "source": [
        "!pwd"
      ],
      "execution_count": 6,
      "outputs": [
        {
          "output_type": "stream",
          "text": [
            "/content\n"
          ],
          "name": "stdout"
        }
      ]
    },
    {
      "cell_type": "code",
      "metadata": {
        "id": "kJOajGIoKJCn"
      },
      "source": [
        "#Import necessary libraries\n",
        "import numpy as np\n",
        "import pandas as pd\n",
        "import matplotlib.pyplot as plt\n",
        "import seaborn as sns\n",
        "from imblearn.pipeline import Pipeline\n",
        "from sklearn.ensemble import GradientBoostingClassifier\n",
        "\n",
        "import warnings\n",
        "warnings.filterwarnings('ignore')"
      ],
      "execution_count": 32,
      "outputs": []
    },
    {
      "cell_type": "code",
      "metadata": {
        "colab": {
          "base_uri": "https://localhost:8080/",
          "height": 224
        },
        "id": "YybBvJuRIztt",
        "outputId": "75862950-10f1-4307-ee95-ef521dfe4688"
      },
      "source": [
        "credit = pd.read_csv('/content/gdrive/My Drive/kaggle/creditcard.csv')\n",
        "credit.head()"
      ],
      "execution_count": 33,
      "outputs": [
        {
          "output_type": "execute_result",
          "data": {
            "text/html": [
              "<div>\n",
              "<style scoped>\n",
              "    .dataframe tbody tr th:only-of-type {\n",
              "        vertical-align: middle;\n",
              "    }\n",
              "\n",
              "    .dataframe tbody tr th {\n",
              "        vertical-align: top;\n",
              "    }\n",
              "\n",
              "    .dataframe thead th {\n",
              "        text-align: right;\n",
              "    }\n",
              "</style>\n",
              "<table border=\"1\" class=\"dataframe\">\n",
              "  <thead>\n",
              "    <tr style=\"text-align: right;\">\n",
              "      <th></th>\n",
              "      <th>Time</th>\n",
              "      <th>V1</th>\n",
              "      <th>V2</th>\n",
              "      <th>V3</th>\n",
              "      <th>V4</th>\n",
              "      <th>V5</th>\n",
              "      <th>V6</th>\n",
              "      <th>V7</th>\n",
              "      <th>V8</th>\n",
              "      <th>V9</th>\n",
              "      <th>V10</th>\n",
              "      <th>V11</th>\n",
              "      <th>V12</th>\n",
              "      <th>V13</th>\n",
              "      <th>V14</th>\n",
              "      <th>V15</th>\n",
              "      <th>V16</th>\n",
              "      <th>V17</th>\n",
              "      <th>V18</th>\n",
              "      <th>V19</th>\n",
              "      <th>V20</th>\n",
              "      <th>V21</th>\n",
              "      <th>V22</th>\n",
              "      <th>V23</th>\n",
              "      <th>V24</th>\n",
              "      <th>V25</th>\n",
              "      <th>V26</th>\n",
              "      <th>V27</th>\n",
              "      <th>V28</th>\n",
              "      <th>Amount</th>\n",
              "      <th>Class</th>\n",
              "    </tr>\n",
              "  </thead>\n",
              "  <tbody>\n",
              "    <tr>\n",
              "      <th>0</th>\n",
              "      <td>0.0</td>\n",
              "      <td>-1.359807</td>\n",
              "      <td>-0.072781</td>\n",
              "      <td>2.536347</td>\n",
              "      <td>1.378155</td>\n",
              "      <td>-0.338321</td>\n",
              "      <td>0.462388</td>\n",
              "      <td>0.239599</td>\n",
              "      <td>0.098698</td>\n",
              "      <td>0.363787</td>\n",
              "      <td>0.090794</td>\n",
              "      <td>-0.551600</td>\n",
              "      <td>-0.617801</td>\n",
              "      <td>-0.991390</td>\n",
              "      <td>-0.311169</td>\n",
              "      <td>1.468177</td>\n",
              "      <td>-0.470401</td>\n",
              "      <td>0.207971</td>\n",
              "      <td>0.025791</td>\n",
              "      <td>0.403993</td>\n",
              "      <td>0.251412</td>\n",
              "      <td>-0.018307</td>\n",
              "      <td>0.277838</td>\n",
              "      <td>-0.110474</td>\n",
              "      <td>0.066928</td>\n",
              "      <td>0.128539</td>\n",
              "      <td>-0.189115</td>\n",
              "      <td>0.133558</td>\n",
              "      <td>-0.021053</td>\n",
              "      <td>149.62</td>\n",
              "      <td>0</td>\n",
              "    </tr>\n",
              "    <tr>\n",
              "      <th>1</th>\n",
              "      <td>0.0</td>\n",
              "      <td>1.191857</td>\n",
              "      <td>0.266151</td>\n",
              "      <td>0.166480</td>\n",
              "      <td>0.448154</td>\n",
              "      <td>0.060018</td>\n",
              "      <td>-0.082361</td>\n",
              "      <td>-0.078803</td>\n",
              "      <td>0.085102</td>\n",
              "      <td>-0.255425</td>\n",
              "      <td>-0.166974</td>\n",
              "      <td>1.612727</td>\n",
              "      <td>1.065235</td>\n",
              "      <td>0.489095</td>\n",
              "      <td>-0.143772</td>\n",
              "      <td>0.635558</td>\n",
              "      <td>0.463917</td>\n",
              "      <td>-0.114805</td>\n",
              "      <td>-0.183361</td>\n",
              "      <td>-0.145783</td>\n",
              "      <td>-0.069083</td>\n",
              "      <td>-0.225775</td>\n",
              "      <td>-0.638672</td>\n",
              "      <td>0.101288</td>\n",
              "      <td>-0.339846</td>\n",
              "      <td>0.167170</td>\n",
              "      <td>0.125895</td>\n",
              "      <td>-0.008983</td>\n",
              "      <td>0.014724</td>\n",
              "      <td>2.69</td>\n",
              "      <td>0</td>\n",
              "    </tr>\n",
              "    <tr>\n",
              "      <th>2</th>\n",
              "      <td>1.0</td>\n",
              "      <td>-1.358354</td>\n",
              "      <td>-1.340163</td>\n",
              "      <td>1.773209</td>\n",
              "      <td>0.379780</td>\n",
              "      <td>-0.503198</td>\n",
              "      <td>1.800499</td>\n",
              "      <td>0.791461</td>\n",
              "      <td>0.247676</td>\n",
              "      <td>-1.514654</td>\n",
              "      <td>0.207643</td>\n",
              "      <td>0.624501</td>\n",
              "      <td>0.066084</td>\n",
              "      <td>0.717293</td>\n",
              "      <td>-0.165946</td>\n",
              "      <td>2.345865</td>\n",
              "      <td>-2.890083</td>\n",
              "      <td>1.109969</td>\n",
              "      <td>-0.121359</td>\n",
              "      <td>-2.261857</td>\n",
              "      <td>0.524980</td>\n",
              "      <td>0.247998</td>\n",
              "      <td>0.771679</td>\n",
              "      <td>0.909412</td>\n",
              "      <td>-0.689281</td>\n",
              "      <td>-0.327642</td>\n",
              "      <td>-0.139097</td>\n",
              "      <td>-0.055353</td>\n",
              "      <td>-0.059752</td>\n",
              "      <td>378.66</td>\n",
              "      <td>0</td>\n",
              "    </tr>\n",
              "    <tr>\n",
              "      <th>3</th>\n",
              "      <td>1.0</td>\n",
              "      <td>-0.966272</td>\n",
              "      <td>-0.185226</td>\n",
              "      <td>1.792993</td>\n",
              "      <td>-0.863291</td>\n",
              "      <td>-0.010309</td>\n",
              "      <td>1.247203</td>\n",
              "      <td>0.237609</td>\n",
              "      <td>0.377436</td>\n",
              "      <td>-1.387024</td>\n",
              "      <td>-0.054952</td>\n",
              "      <td>-0.226487</td>\n",
              "      <td>0.178228</td>\n",
              "      <td>0.507757</td>\n",
              "      <td>-0.287924</td>\n",
              "      <td>-0.631418</td>\n",
              "      <td>-1.059647</td>\n",
              "      <td>-0.684093</td>\n",
              "      <td>1.965775</td>\n",
              "      <td>-1.232622</td>\n",
              "      <td>-0.208038</td>\n",
              "      <td>-0.108300</td>\n",
              "      <td>0.005274</td>\n",
              "      <td>-0.190321</td>\n",
              "      <td>-1.175575</td>\n",
              "      <td>0.647376</td>\n",
              "      <td>-0.221929</td>\n",
              "      <td>0.062723</td>\n",
              "      <td>0.061458</td>\n",
              "      <td>123.50</td>\n",
              "      <td>0</td>\n",
              "    </tr>\n",
              "    <tr>\n",
              "      <th>4</th>\n",
              "      <td>2.0</td>\n",
              "      <td>-1.158233</td>\n",
              "      <td>0.877737</td>\n",
              "      <td>1.548718</td>\n",
              "      <td>0.403034</td>\n",
              "      <td>-0.407193</td>\n",
              "      <td>0.095921</td>\n",
              "      <td>0.592941</td>\n",
              "      <td>-0.270533</td>\n",
              "      <td>0.817739</td>\n",
              "      <td>0.753074</td>\n",
              "      <td>-0.822843</td>\n",
              "      <td>0.538196</td>\n",
              "      <td>1.345852</td>\n",
              "      <td>-1.119670</td>\n",
              "      <td>0.175121</td>\n",
              "      <td>-0.451449</td>\n",
              "      <td>-0.237033</td>\n",
              "      <td>-0.038195</td>\n",
              "      <td>0.803487</td>\n",
              "      <td>0.408542</td>\n",
              "      <td>-0.009431</td>\n",
              "      <td>0.798278</td>\n",
              "      <td>-0.137458</td>\n",
              "      <td>0.141267</td>\n",
              "      <td>-0.206010</td>\n",
              "      <td>0.502292</td>\n",
              "      <td>0.219422</td>\n",
              "      <td>0.215153</td>\n",
              "      <td>69.99</td>\n",
              "      <td>0</td>\n",
              "    </tr>\n",
              "  </tbody>\n",
              "</table>\n",
              "</div>"
            ],
            "text/plain": [
              "   Time        V1        V2        V3  ...       V27       V28  Amount  Class\n",
              "0   0.0 -1.359807 -0.072781  2.536347  ...  0.133558 -0.021053  149.62      0\n",
              "1   0.0  1.191857  0.266151  0.166480  ... -0.008983  0.014724    2.69      0\n",
              "2   1.0 -1.358354 -1.340163  1.773209  ... -0.055353 -0.059752  378.66      0\n",
              "3   1.0 -0.966272 -0.185226  1.792993  ...  0.062723  0.061458  123.50      0\n",
              "4   2.0 -1.158233  0.877737  1.548718  ...  0.219422  0.215153   69.99      0\n",
              "\n",
              "[5 rows x 31 columns]"
            ]
          },
          "metadata": {
            "tags": []
          },
          "execution_count": 33
        }
      ]
    },
    {
      "cell_type": "code",
      "metadata": {
        "colab": {
          "base_uri": "https://localhost:8080/"
        },
        "id": "rtGNSg89Jxqu",
        "outputId": "9653d729-8b01-4220-e023-a5f1f468cca0"
      },
      "source": [
        "credit.info()"
      ],
      "execution_count": 34,
      "outputs": [
        {
          "output_type": "stream",
          "text": [
            "<class 'pandas.core.frame.DataFrame'>\n",
            "RangeIndex: 284807 entries, 0 to 284806\n",
            "Data columns (total 31 columns):\n",
            " #   Column  Non-Null Count   Dtype  \n",
            "---  ------  --------------   -----  \n",
            " 0   Time    284807 non-null  float64\n",
            " 1   V1      284807 non-null  float64\n",
            " 2   V2      284807 non-null  float64\n",
            " 3   V3      284807 non-null  float64\n",
            " 4   V4      284807 non-null  float64\n",
            " 5   V5      284807 non-null  float64\n",
            " 6   V6      284807 non-null  float64\n",
            " 7   V7      284807 non-null  float64\n",
            " 8   V8      284807 non-null  float64\n",
            " 9   V9      284807 non-null  float64\n",
            " 10  V10     284807 non-null  float64\n",
            " 11  V11     284807 non-null  float64\n",
            " 12  V12     284807 non-null  float64\n",
            " 13  V13     284807 non-null  float64\n",
            " 14  V14     284807 non-null  float64\n",
            " 15  V15     284807 non-null  float64\n",
            " 16  V16     284807 non-null  float64\n",
            " 17  V17     284807 non-null  float64\n",
            " 18  V18     284807 non-null  float64\n",
            " 19  V19     284807 non-null  float64\n",
            " 20  V20     284807 non-null  float64\n",
            " 21  V21     284807 non-null  float64\n",
            " 22  V22     284807 non-null  float64\n",
            " 23  V23     284807 non-null  float64\n",
            " 24  V24     284807 non-null  float64\n",
            " 25  V25     284807 non-null  float64\n",
            " 26  V26     284807 non-null  float64\n",
            " 27  V27     284807 non-null  float64\n",
            " 28  V28     284807 non-null  float64\n",
            " 29  Amount  284807 non-null  float64\n",
            " 30  Class   284807 non-null  int64  \n",
            "dtypes: float64(30), int64(1)\n",
            "memory usage: 67.4 MB\n"
          ],
          "name": "stdout"
        }
      ]
    },
    {
      "cell_type": "code",
      "metadata": {
        "colab": {
          "base_uri": "https://localhost:8080/"
        },
        "id": "meSydXncLWIx",
        "outputId": "3a37e92b-e611-46e2-bd55-9ed8379afab9"
      },
      "source": [
        "credit.isnull().sum()"
      ],
      "execution_count": 35,
      "outputs": [
        {
          "output_type": "execute_result",
          "data": {
            "text/plain": [
              "Time      0\n",
              "V1        0\n",
              "V2        0\n",
              "V3        0\n",
              "V4        0\n",
              "V5        0\n",
              "V6        0\n",
              "V7        0\n",
              "V8        0\n",
              "V9        0\n",
              "V10       0\n",
              "V11       0\n",
              "V12       0\n",
              "V13       0\n",
              "V14       0\n",
              "V15       0\n",
              "V16       0\n",
              "V17       0\n",
              "V18       0\n",
              "V19       0\n",
              "V20       0\n",
              "V21       0\n",
              "V22       0\n",
              "V23       0\n",
              "V24       0\n",
              "V25       0\n",
              "V26       0\n",
              "V27       0\n",
              "V28       0\n",
              "Amount    0\n",
              "Class     0\n",
              "dtype: int64"
            ]
          },
          "metadata": {
            "tags": []
          },
          "execution_count": 35
        }
      ]
    },
    {
      "cell_type": "code",
      "metadata": {
        "id": "eQ4WbNbHodb6"
      },
      "source": [
        "from sklearn.model_selection import StratifiedKFold, cross_validate\n",
        "from sklearn.preprocessing import StandardScaler\n",
        "from sklearn.metrics import f1_score"
      ],
      "execution_count": 36,
      "outputs": []
    },
    {
      "cell_type": "code",
      "metadata": {
        "colab": {
          "base_uri": "https://localhost:8080/"
        },
        "id": "sa9iHuXnb2bz",
        "outputId": "e800d74a-fcf5-4aab-b3e1-c44a796f2326"
      },
      "source": [
        "# 27 most important features according to our EDA\n",
        "cols = ['V'+str(i) for i in range(1, 29) if i != 25]\n",
        "print(cols)"
      ],
      "execution_count": 37,
      "outputs": [
        {
          "output_type": "stream",
          "text": [
            "['V1', 'V2', 'V3', 'V4', 'V5', 'V6', 'V7', 'V8', 'V9', 'V10', 'V11', 'V12', 'V13', 'V14', 'V15', 'V16', 'V17', 'V18', 'V19', 'V20', 'V21', 'V22', 'V23', 'V24', 'V26', 'V27', 'V28']\n"
          ],
          "name": "stdout"
        }
      ]
    },
    {
      "cell_type": "code",
      "metadata": {
        "id": "714TqShRMJkn",
        "colab": {
          "base_uri": "https://localhost:8080/"
        },
        "outputId": "7d99a49f-b028-4a7f-ee78-226928c523e3"
      },
      "source": [
        "# selecting the 19 most important features according to our EDA \n",
        "X = credit[cols]\n",
        "print('x', X.shape)\n",
        "y = credit['Class'] # selecting the target variable\n",
        "print('y', y.shape)"
      ],
      "execution_count": 38,
      "outputs": [
        {
          "output_type": "stream",
          "text": [
            "x (284807, 27)\n",
            "y (284807,)\n"
          ],
          "name": "stdout"
        }
      ]
    },
    {
      "cell_type": "code",
      "metadata": {
        "colab": {
          "base_uri": "https://localhost:8080/"
        },
        "id": "qMEZ4k4CmdS-",
        "outputId": "d978d144-d460-4301-d5e2-b73da391c45f"
      },
      "source": [
        "# computing the class weight\n",
        "\n",
        "val_count = credit['Class'].value_counts()\n",
        "weights = dict(1 / val_count)\n",
        "weights"
      ],
      "execution_count": 39,
      "outputs": [
        {
          "output_type": "execute_result",
          "data": {
            "text/plain": [
              "{0: 3.51722561243691e-06, 1: 0.0020325203252032522}"
            ]
          },
          "metadata": {
            "tags": []
          },
          "execution_count": 39
        }
      ]
    },
    {
      "cell_type": "code",
      "metadata": {
        "id": "rZZrRjEDqQ8d"
      },
      "source": [
        "# adminstrative cost\n",
        "admin_cost = 2.5"
      ],
      "execution_count": 40,
      "outputs": []
    },
    {
      "cell_type": "code",
      "metadata": {
        "id": "L8yr_ikoo76E"
      },
      "source": [
        "# defining a function to calculate cost savings\n",
        "def cost_saving(ytrue, ypred, amount):\n",
        "    fp = np.sum((ytrue == 0) & (ypred == 1))\n",
        "    cost = np.sum(fp*admin_cost) + np.sum((amount[(ytrue == 1) & (ypred == 0)]))\n",
        "    max_cost = np.sum((amount[(ytrue == 1)]))\n",
        "    savings = 1 - (cost/max_cost)\n",
        "    \n",
        "    return savings"
      ],
      "execution_count": 41,
      "outputs": []
    },
    {
      "cell_type": "code",
      "metadata": {
        "id": "QlQAchcdp6CS"
      },
      "source": [
        "cv = StratifiedKFold(n_splits=4, random_state=1, shuffle=True)"
      ],
      "execution_count": 42,
      "outputs": []
    },
    {
      "cell_type": "code",
      "metadata": {
        "id": "T8XaHfkRqcvp"
      },
      "source": [
        "# defining a function to calculate cost saving per fold (splits) of our cv\n",
        "def cost_saving_per_split(scores, x, y, cv_object):\n",
        "    results = []\n",
        "    for i, (_, test_ind) in zip(range(cv_object.n_splits), cv_object.split(x, y)):\n",
        "        ypred = scores['estimator'][i].predict(x[test_ind])\n",
        "        ytrue = y[test_ind]\n",
        "        amount = credit['Amount'].values[test_ind]\n",
        "        results.append(cost_saving(ytrue, ypred, amount))\n",
        "        \n",
        "    return results"
      ],
      "execution_count": 100,
      "outputs": []
    },
    {
      "cell_type": "code",
      "metadata": {
        "id": "Nl_cfpcVqvZ8"
      },
      "source": [
        "# defining a function to return a dataframe of metrics results for each fold in our cv\n",
        "def get_metric_scores(scores, x, y=y, cv_object=cv):\n",
        "    ind = ['split_'+str(n) for n in range(1, cv_object.n_splits+1)]\n",
        "    \n",
        "    scores_credit = pd.DataFrame(index=ind)\n",
        "    \n",
        "    scores_credit['f1_score'] = scores['test_f1']\n",
        "    scores_credit['auc_pr'] = scores['test_average_precision']\n",
        "    scores_credit['cost_savings'] = cost_saving_per_split(scores, x, y, cv_object)\n",
        "\n",
        "    return scores_credit"
      ],
      "execution_count": 99,
      "outputs": []
    },
    {
      "cell_type": "markdown",
      "metadata": {
        "id": "0vBpA5S62L44"
      },
      "source": [
        "**Fraud Sensitive model (Not cost sensitive)**"
      ]
    },
    {
      "cell_type": "code",
      "metadata": {
        "id": "f_fzElz72UwQ"
      },
      "source": [
        "fraud_sensitive_model = GradientBoostingClassifier()\n",
        "fraud_sensitive_scaler = StandardScaler()\n",
        "\n",
        "fraud_sensitive_pipe = Pipeline([('scaler', fraud_sensitive_scaler), ('model', fraud_sensitive_model)])\n",
        "\n",
        "fraud_sensitive_scores = cross_validate(fraud_sensitive_pipe, np.array(X), y, \n",
        "                                        scoring=['f1', 'average_precision'], cv=cv, n_jobs=4, \n",
        "                                        return_estimator=True, error_score='raise')"
      ],
      "execution_count": 46,
      "outputs": []
    },
    {
      "cell_type": "code",
      "metadata": {
        "id": "yNMB8GamsqkL",
        "colab": {
          "base_uri": "https://localhost:8080/",
          "height": 173
        },
        "outputId": "6af8d067-df2c-4215-fcf3-b2f3f6730e5f"
      },
      "source": [
        "fraud_sensitive_results = get_metric_scores(fraud_sensitive_scores, np.array(X))\n",
        "fraud_sensitive_results"
      ],
      "execution_count": 50,
      "outputs": [
        {
          "output_type": "execute_result",
          "data": {
            "text/html": [
              "<div>\n",
              "<style scoped>\n",
              "    .dataframe tbody tr th:only-of-type {\n",
              "        vertical-align: middle;\n",
              "    }\n",
              "\n",
              "    .dataframe tbody tr th {\n",
              "        vertical-align: top;\n",
              "    }\n",
              "\n",
              "    .dataframe thead th {\n",
              "        text-align: right;\n",
              "    }\n",
              "</style>\n",
              "<table border=\"1\" class=\"dataframe\">\n",
              "  <thead>\n",
              "    <tr style=\"text-align: right;\">\n",
              "      <th></th>\n",
              "      <th>f1_score</th>\n",
              "      <th>auc_pr</th>\n",
              "      <th>cost_savings</th>\n",
              "    </tr>\n",
              "  </thead>\n",
              "  <tbody>\n",
              "    <tr>\n",
              "      <th>split_1</th>\n",
              "      <td>0.694836</td>\n",
              "      <td>0.654883</td>\n",
              "      <td>0.579972</td>\n",
              "    </tr>\n",
              "    <tr>\n",
              "      <th>split_2</th>\n",
              "      <td>0.779221</td>\n",
              "      <td>0.624357</td>\n",
              "      <td>0.736572</td>\n",
              "    </tr>\n",
              "    <tr>\n",
              "      <th>split_3</th>\n",
              "      <td>0.712871</td>\n",
              "      <td>0.566435</td>\n",
              "      <td>0.547409</td>\n",
              "    </tr>\n",
              "    <tr>\n",
              "      <th>split_4</th>\n",
              "      <td>0.406977</td>\n",
              "      <td>0.208251</td>\n",
              "      <td>0.381757</td>\n",
              "    </tr>\n",
              "  </tbody>\n",
              "</table>\n",
              "</div>"
            ],
            "text/plain": [
              "         f1_score    auc_pr  cost_savings\n",
              "split_1  0.694836  0.654883      0.579972\n",
              "split_2  0.779221  0.624357      0.736572\n",
              "split_3  0.712871  0.566435      0.547409\n",
              "split_4  0.406977  0.208251      0.381757"
            ]
          },
          "metadata": {
            "tags": []
          },
          "execution_count": 50
        }
      ]
    },
    {
      "cell_type": "code",
      "metadata": {
        "id": "iFOmXPhRyNDk",
        "colab": {
          "base_uri": "https://localhost:8080/"
        },
        "outputId": "8d3749c8-2c49-494c-c906-abf5147dd7c0"
      },
      "source": [
        "fraud_sensitive_results.mean()"
      ],
      "execution_count": 51,
      "outputs": [
        {
          "output_type": "execute_result",
          "data": {
            "text/plain": [
              "f1_score        0.648476\n",
              "auc_pr          0.513481\n",
              "cost_savings    0.561427\n",
              "dtype: float64"
            ]
          },
          "metadata": {
            "tags": []
          },
          "execution_count": 51
        }
      ]
    },
    {
      "cell_type": "markdown",
      "metadata": {
        "id": "bj0iq2B7rBDC"
      },
      "source": [
        "**Cost Sensitive model**"
      ]
    },
    {
      "cell_type": "code",
      "metadata": {
        "id": "PY0n_Ad81ff7"
      },
      "source": [
        "#we will use sample weight to penalize our model accordingly. admin cost for False positive and transactional cost (amount) for False Neg.\n",
        "\n",
        "sample_weights = np.array([credit['Amount'][ind] if fraud else admin_cost for ind, fraud in enumerate(y)])"
      ],
      "execution_count": 105,
      "outputs": []
    },
    {
      "cell_type": "code",
      "metadata": {
        "id": "pqxmAG__sDDr"
      },
      "source": [
        "scaler2 = StandardScaler()\n",
        "cost_sensitive_model = GradientBoostingClassifier()\n",
        "\n",
        "cost_sensitive_pipe = Pipeline([('scaler', scaler2), ('model', cost_sensitive_model)])\n",
        "\n",
        "cost_sensitive_scores = cross_validate(cost_sensitive_pipe, np.array(X), y, \n",
        "                                       scoring=['f1', 'average_precision'], cv=cv, n_jobs=4, return_estimator=True, \n",
        "                                       fit_params={'model__sample_weight': sample_weights}, error_score='raise')"
      ],
      "execution_count": 106,
      "outputs": []
    },
    {
      "cell_type": "code",
      "metadata": {
        "id": "j382_MRgyP5C",
        "colab": {
          "base_uri": "https://localhost:8080/",
          "height": 173
        },
        "outputId": "44748e5b-3d36-4041-9814-57a20d3ca01d"
      },
      "source": [
        "cost_sensitive_results = get_metric_scores(cost_sensitive_scores, np.array(X))\n",
        "cost_sensitive_results"
      ],
      "execution_count": 107,
      "outputs": [
        {
          "output_type": "execute_result",
          "data": {
            "text/html": [
              "<div>\n",
              "<style scoped>\n",
              "    .dataframe tbody tr th:only-of-type {\n",
              "        vertical-align: middle;\n",
              "    }\n",
              "\n",
              "    .dataframe tbody tr th {\n",
              "        vertical-align: top;\n",
              "    }\n",
              "\n",
              "    .dataframe thead th {\n",
              "        text-align: right;\n",
              "    }\n",
              "</style>\n",
              "<table border=\"1\" class=\"dataframe\">\n",
              "  <thead>\n",
              "    <tr style=\"text-align: right;\">\n",
              "      <th></th>\n",
              "      <th>f1_score</th>\n",
              "      <th>auc_pr</th>\n",
              "      <th>cost_savings</th>\n",
              "    </tr>\n",
              "  </thead>\n",
              "  <tbody>\n",
              "    <tr>\n",
              "      <th>split_1</th>\n",
              "      <td>0.764940</td>\n",
              "      <td>0.684253</td>\n",
              "      <td>0.736267</td>\n",
              "    </tr>\n",
              "    <tr>\n",
              "      <th>split_2</th>\n",
              "      <td>0.776860</td>\n",
              "      <td>0.691438</td>\n",
              "      <td>0.659827</td>\n",
              "    </tr>\n",
              "    <tr>\n",
              "      <th>split_3</th>\n",
              "      <td>0.809917</td>\n",
              "      <td>0.786029</td>\n",
              "      <td>0.801796</td>\n",
              "    </tr>\n",
              "    <tr>\n",
              "      <th>split_4</th>\n",
              "      <td>0.791667</td>\n",
              "      <td>0.763994</td>\n",
              "      <td>0.712838</td>\n",
              "    </tr>\n",
              "  </tbody>\n",
              "</table>\n",
              "</div>"
            ],
            "text/plain": [
              "         f1_score    auc_pr  cost_savings\n",
              "split_1  0.764940  0.684253      0.736267\n",
              "split_2  0.776860  0.691438      0.659827\n",
              "split_3  0.809917  0.786029      0.801796\n",
              "split_4  0.791667  0.763994      0.712838"
            ]
          },
          "metadata": {
            "tags": []
          },
          "execution_count": 107
        }
      ]
    },
    {
      "cell_type": "code",
      "metadata": {
        "id": "owQPoDkV2qEy",
        "colab": {
          "base_uri": "https://localhost:8080/"
        },
        "outputId": "ec85f71d-898f-465b-f7b5-9d075d00c850"
      },
      "source": [
        "cost_sensitive_results.mean()"
      ],
      "execution_count": 108,
      "outputs": [
        {
          "output_type": "execute_result",
          "data": {
            "text/plain": [
              "f1_score        0.785846\n",
              "auc_pr          0.731429\n",
              "cost_savings    0.727682\n",
              "dtype: float64"
            ]
          },
          "metadata": {
            "tags": []
          },
          "execution_count": 108
        }
      ]
    },
    {
      "cell_type": "markdown",
      "metadata": {
        "id": "dT98742pw44f"
      },
      "source": [
        "**Cost Sensitive Model - SMOTE**"
      ]
    },
    {
      "cell_type": "code",
      "metadata": {
        "id": "KGC6Q7_ctLSp"
      },
      "source": [
        "# this custom pipeline is needed to be able to access the coef_ attribute of the logistic regressor, tree based\n",
        "# because RFECV doesn't allow pipelines that can't access the coef_ or feature_importances_ attributes\n",
        "# of the last estimator (model)\n",
        "class ImbModelPipeline(Pipeline):\n",
        "    # incase the model is a logistic based model\n",
        "    @property\n",
        "    def coef_(self):\n",
        "        return self.steps[-1][1].coef_\n",
        "    \n",
        "    # in case the model is a tree based model\n",
        "    @property\n",
        "    def feature_importances_(self):\n",
        "        return self.steps[-1][1].feature_importances_"
      ],
      "execution_count": 109,
      "outputs": []
    },
    {
      "cell_type": "code",
      "metadata": {
        "id": "u57UyBq5ubkO"
      },
      "source": [
        "from imblearn.over_sampling import SMOTE\n",
        "\n",
        "smote = SMOTE(random_state=1)\n",
        "smote_model = GradientBoostingClassifier()\n",
        "scaler3 = StandardScaler()\n",
        "\n",
        "pipe_smote = ImbModelPipeline([('scaler', scaler3), ('smote', smote), ('model', smote_model)])\n",
        "\n",
        "smote_scores = cross_validate(pipe_smote, np.array(X), y, scoring=['f1', 'average_precision'], \n",
        "                              cv=cv, n_jobs=4, return_estimator=True, error_score='raise')\n"
      ],
      "execution_count": 110,
      "outputs": []
    },
    {
      "cell_type": "code",
      "metadata": {
        "id": "7A0XXNHpufI8",
        "colab": {
          "base_uri": "https://localhost:8080/",
          "height": 173
        },
        "outputId": "cf8659c9-9184-47cd-8549-d2c8e8437b3b"
      },
      "source": [
        "smote_results = get_metric_scores(smote_scores, np.array(X))\n",
        "smote_results"
      ],
      "execution_count": 111,
      "outputs": [
        {
          "output_type": "execute_result",
          "data": {
            "text/html": [
              "<div>\n",
              "<style scoped>\n",
              "    .dataframe tbody tr th:only-of-type {\n",
              "        vertical-align: middle;\n",
              "    }\n",
              "\n",
              "    .dataframe tbody tr th {\n",
              "        vertical-align: top;\n",
              "    }\n",
              "\n",
              "    .dataframe thead th {\n",
              "        text-align: right;\n",
              "    }\n",
              "</style>\n",
              "<table border=\"1\" class=\"dataframe\">\n",
              "  <thead>\n",
              "    <tr style=\"text-align: right;\">\n",
              "      <th></th>\n",
              "      <th>f1_score</th>\n",
              "      <th>auc_pr</th>\n",
              "      <th>cost_savings</th>\n",
              "    </tr>\n",
              "  </thead>\n",
              "  <tbody>\n",
              "    <tr>\n",
              "      <th>split_1</th>\n",
              "      <td>0.199811</td>\n",
              "      <td>0.696239</td>\n",
              "      <td>0.662549</td>\n",
              "    </tr>\n",
              "    <tr>\n",
              "      <th>split_2</th>\n",
              "      <td>0.201802</td>\n",
              "      <td>0.791970</td>\n",
              "      <td>0.718173</td>\n",
              "    </tr>\n",
              "    <tr>\n",
              "      <th>split_3</th>\n",
              "      <td>0.178626</td>\n",
              "      <td>0.825165</td>\n",
              "      <td>0.753478</td>\n",
              "    </tr>\n",
              "    <tr>\n",
              "      <th>split_4</th>\n",
              "      <td>0.203422</td>\n",
              "      <td>0.722902</td>\n",
              "      <td>0.656561</td>\n",
              "    </tr>\n",
              "  </tbody>\n",
              "</table>\n",
              "</div>"
            ],
            "text/plain": [
              "         f1_score    auc_pr  cost_savings\n",
              "split_1  0.199811  0.696239      0.662549\n",
              "split_2  0.201802  0.791970      0.718173\n",
              "split_3  0.178626  0.825165      0.753478\n",
              "split_4  0.203422  0.722902      0.656561"
            ]
          },
          "metadata": {
            "tags": []
          },
          "execution_count": 111
        }
      ]
    },
    {
      "cell_type": "code",
      "metadata": {
        "id": "0mtVT7ToYq2V",
        "colab": {
          "base_uri": "https://localhost:8080/"
        },
        "outputId": "f463a153-682b-47a6-a2f9-44f037aef13f"
      },
      "source": [
        "smote_results.mean()"
      ],
      "execution_count": 112,
      "outputs": [
        {
          "output_type": "execute_result",
          "data": {
            "text/plain": [
              "f1_score        0.195915\n",
              "auc_pr          0.759069\n",
              "cost_savings    0.697690\n",
              "dtype: float64"
            ]
          },
          "metadata": {
            "tags": []
          },
          "execution_count": 112
        }
      ]
    },
    {
      "cell_type": "markdown",
      "metadata": {
        "id": "WVpZwc96w2km"
      },
      "source": [
        "**Cost sensitive - Undersampling**"
      ]
    },
    {
      "cell_type": "code",
      "metadata": {
        "id": "IaoqJ1991DAq"
      },
      "source": [
        "from imblearn.under_sampling import RandomUnderSampler\n",
        "\n",
        "undersampler = RandomUnderSampler()\n",
        "undersample_model = GradientBoostingClassifier()\n",
        "scaler4 = StandardScaler()\n",
        "\n",
        "pipe_under = Pipeline([('undersampler', undersampler),('scaler', scaler4), ('model', undersample_model)])\n",
        "\n",
        "undersample_scores = cross_validate(pipe_under, np.array(X), y, scoring=['f1', 'average_precision'], \n",
        "                                    cv=cv, n_jobs=4, return_estimator=True,)\n"
      ],
      "execution_count": 113,
      "outputs": []
    },
    {
      "cell_type": "code",
      "metadata": {
        "id": "3UhRwbHO1Ya2",
        "colab": {
          "base_uri": "https://localhost:8080/",
          "height": 173
        },
        "outputId": "ce8ddcbc-6da8-4384-a4ed-bd80a10aa15a"
      },
      "source": [
        "undersample_results = get_metric_scores(undersample_scores, np.array(X))\n",
        "undersample_results"
      ],
      "execution_count": 114,
      "outputs": [
        {
          "output_type": "execute_result",
          "data": {
            "text/html": [
              "<div>\n",
              "<style scoped>\n",
              "    .dataframe tbody tr th:only-of-type {\n",
              "        vertical-align: middle;\n",
              "    }\n",
              "\n",
              "    .dataframe tbody tr th {\n",
              "        vertical-align: top;\n",
              "    }\n",
              "\n",
              "    .dataframe thead th {\n",
              "        text-align: right;\n",
              "    }\n",
              "</style>\n",
              "<table border=\"1\" class=\"dataframe\">\n",
              "  <thead>\n",
              "    <tr style=\"text-align: right;\">\n",
              "      <th></th>\n",
              "      <th>f1_score</th>\n",
              "      <th>auc_pr</th>\n",
              "      <th>cost_savings</th>\n",
              "    </tr>\n",
              "  </thead>\n",
              "  <tbody>\n",
              "    <tr>\n",
              "      <th>split_1</th>\n",
              "      <td>0.075714</td>\n",
              "      <td>0.601562</td>\n",
              "      <td>0.416351</td>\n",
              "    </tr>\n",
              "    <tr>\n",
              "      <th>split_2</th>\n",
              "      <td>0.095358</td>\n",
              "      <td>0.714012</td>\n",
              "      <td>0.450285</td>\n",
              "    </tr>\n",
              "    <tr>\n",
              "      <th>split_3</th>\n",
              "      <td>0.078000</td>\n",
              "      <td>0.759344</td>\n",
              "      <td>0.441488</td>\n",
              "    </tr>\n",
              "    <tr>\n",
              "      <th>split_4</th>\n",
              "      <td>0.075510</td>\n",
              "      <td>0.539292</td>\n",
              "      <td>0.435264</td>\n",
              "    </tr>\n",
              "  </tbody>\n",
              "</table>\n",
              "</div>"
            ],
            "text/plain": [
              "         f1_score    auc_pr  cost_savings\n",
              "split_1  0.075714  0.601562      0.416351\n",
              "split_2  0.095358  0.714012      0.450285\n",
              "split_3  0.078000  0.759344      0.441488\n",
              "split_4  0.075510  0.539292      0.435264"
            ]
          },
          "metadata": {
            "tags": []
          },
          "execution_count": 114
        }
      ]
    },
    {
      "cell_type": "code",
      "metadata": {
        "id": "ml9vMH-11jn4",
        "colab": {
          "base_uri": "https://localhost:8080/"
        },
        "outputId": "301e6ead-1352-4112-bf81-439ab407ce34"
      },
      "source": [
        "undersample_results.mean()"
      ],
      "execution_count": 115,
      "outputs": [
        {
          "output_type": "execute_result",
          "data": {
            "text/plain": [
              "f1_score        0.081146\n",
              "auc_pr          0.653553\n",
              "cost_savings    0.435847\n",
              "dtype: float64"
            ]
          },
          "metadata": {
            "tags": []
          },
          "execution_count": 115
        }
      ]
    },
    {
      "cell_type": "code",
      "metadata": {
        "id": "nc4Wgwm31qhm"
      },
      "source": [
        ""
      ],
      "execution_count": 115,
      "outputs": []
    }
  ]
}