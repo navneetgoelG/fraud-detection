{
 "cells": [
  {
   "cell_type": "markdown",
   "metadata": {
    "papermill": {
     "duration": 0.027413,
     "end_time": "2020-11-28T17:39:31.280395",
     "exception": false,
     "start_time": "2020-11-28T17:39:31.252982",
     "status": "completed"
    },
    "tags": []
   },
   "source": [
    "## Baselin model (KNN)"
   ]
  },
  {
   "cell_type": "code",
   "execution_count": 1,
   "metadata": {
    "_cell_guid": "79c7e3d0-c299-4dcb-8224-4455121ee9b0",
    "_uuid": "d629ff2d2480ee46fbb7e2d37f6b5fab8052498a",
    "execution": {
     "iopub.execute_input": "2020-11-28T17:39:31.340343Z",
     "iopub.status.busy": "2020-11-28T17:39:31.339560Z",
     "iopub.status.idle": "2020-11-28T17:39:32.505140Z",
     "shell.execute_reply": "2020-11-28T17:39:32.504359Z"
    },
    "papermill": {
     "duration": 1.200312,
     "end_time": "2020-11-28T17:39:32.505282",
     "exception": false,
     "start_time": "2020-11-28T17:39:31.304970",
     "status": "completed"
    },
    "tags": []
   },
   "outputs": [],
   "source": [
    "# importing useful libraries\n",
    "import numpy as np\n",
    "import pandas as pd\n",
    "import matplotlib.pyplot as plt\n",
    "import seaborn as sns\n",
    "from sklearn.cluster import KMeans\n",
    "from sklearn.neighbors import KNeighborsClassifier\n",
    "from sklearn.model_selection import train_test_split\n",
    "from sklearn.model_selection import StratifiedKFold, cross_validate, cross_val_score\n",
    "from sklearn.preprocessing import StandardScaler\n",
    "from sklearn.metrics import f1_score, roc_curve, auc, confusion_matrix, accuracy_score, precision_score, recall_score\n",
    "\n",
    "import warnings\n",
    "warnings.filterwarnings('ignore')\n",
    "\n",
    "%matplotlib inline"
   ]
  },
  {
   "cell_type": "code",
   "execution_count": 2,
   "metadata": {
    "execution": {
     "iopub.execute_input": "2020-11-28T17:39:32.609208Z",
     "iopub.status.busy": "2020-11-28T17:39:32.608444Z",
     "iopub.status.idle": "2020-11-28T17:39:35.770258Z",
     "shell.execute_reply": "2020-11-28T17:39:35.770839Z"
    },
    "papermill": {
     "duration": 3.240504,
     "end_time": "2020-11-28T17:39:35.770991",
     "exception": false,
     "start_time": "2020-11-28T17:39:32.530487",
     "status": "completed"
    },
    "tags": []
   },
   "outputs": [
    {
     "name": "stdout",
     "output_type": "stream",
     "text": [
      "(284807, 31)\n"
     ]
    },
    {
     "data": {
      "text/html": [
       "<div>\n",
       "<style scoped>\n",
       "    .dataframe tbody tr th:only-of-type {\n",
       "        vertical-align: middle;\n",
       "    }\n",
       "\n",
       "    .dataframe tbody tr th {\n",
       "        vertical-align: top;\n",
       "    }\n",
       "\n",
       "    .dataframe thead th {\n",
       "        text-align: right;\n",
       "    }\n",
       "</style>\n",
       "<table border=\"1\" class=\"dataframe\">\n",
       "  <thead>\n",
       "    <tr style=\"text-align: right;\">\n",
       "      <th></th>\n",
       "      <th>Time</th>\n",
       "      <th>V1</th>\n",
       "      <th>V2</th>\n",
       "      <th>V3</th>\n",
       "      <th>V4</th>\n",
       "      <th>V5</th>\n",
       "      <th>V6</th>\n",
       "      <th>V7</th>\n",
       "      <th>V8</th>\n",
       "      <th>V9</th>\n",
       "      <th>...</th>\n",
       "      <th>V21</th>\n",
       "      <th>V22</th>\n",
       "      <th>V23</th>\n",
       "      <th>V24</th>\n",
       "      <th>V25</th>\n",
       "      <th>V26</th>\n",
       "      <th>V27</th>\n",
       "      <th>V28</th>\n",
       "      <th>Amount</th>\n",
       "      <th>Class</th>\n",
       "    </tr>\n",
       "  </thead>\n",
       "  <tbody>\n",
       "    <tr>\n",
       "      <th>0</th>\n",
       "      <td>0.0</td>\n",
       "      <td>-1.359807</td>\n",
       "      <td>-0.072781</td>\n",
       "      <td>2.536347</td>\n",
       "      <td>1.378155</td>\n",
       "      <td>-0.338321</td>\n",
       "      <td>0.462388</td>\n",
       "      <td>0.239599</td>\n",
       "      <td>0.098698</td>\n",
       "      <td>0.363787</td>\n",
       "      <td>...</td>\n",
       "      <td>-0.018307</td>\n",
       "      <td>0.277838</td>\n",
       "      <td>-0.110474</td>\n",
       "      <td>0.066928</td>\n",
       "      <td>0.128539</td>\n",
       "      <td>-0.189115</td>\n",
       "      <td>0.133558</td>\n",
       "      <td>-0.021053</td>\n",
       "      <td>149.62</td>\n",
       "      <td>0</td>\n",
       "    </tr>\n",
       "    <tr>\n",
       "      <th>1</th>\n",
       "      <td>0.0</td>\n",
       "      <td>1.191857</td>\n",
       "      <td>0.266151</td>\n",
       "      <td>0.166480</td>\n",
       "      <td>0.448154</td>\n",
       "      <td>0.060018</td>\n",
       "      <td>-0.082361</td>\n",
       "      <td>-0.078803</td>\n",
       "      <td>0.085102</td>\n",
       "      <td>-0.255425</td>\n",
       "      <td>...</td>\n",
       "      <td>-0.225775</td>\n",
       "      <td>-0.638672</td>\n",
       "      <td>0.101288</td>\n",
       "      <td>-0.339846</td>\n",
       "      <td>0.167170</td>\n",
       "      <td>0.125895</td>\n",
       "      <td>-0.008983</td>\n",
       "      <td>0.014724</td>\n",
       "      <td>2.69</td>\n",
       "      <td>0</td>\n",
       "    </tr>\n",
       "    <tr>\n",
       "      <th>2</th>\n",
       "      <td>1.0</td>\n",
       "      <td>-1.358354</td>\n",
       "      <td>-1.340163</td>\n",
       "      <td>1.773209</td>\n",
       "      <td>0.379780</td>\n",
       "      <td>-0.503198</td>\n",
       "      <td>1.800499</td>\n",
       "      <td>0.791461</td>\n",
       "      <td>0.247676</td>\n",
       "      <td>-1.514654</td>\n",
       "      <td>...</td>\n",
       "      <td>0.247998</td>\n",
       "      <td>0.771679</td>\n",
       "      <td>0.909412</td>\n",
       "      <td>-0.689281</td>\n",
       "      <td>-0.327642</td>\n",
       "      <td>-0.139097</td>\n",
       "      <td>-0.055353</td>\n",
       "      <td>-0.059752</td>\n",
       "      <td>378.66</td>\n",
       "      <td>0</td>\n",
       "    </tr>\n",
       "    <tr>\n",
       "      <th>3</th>\n",
       "      <td>1.0</td>\n",
       "      <td>-0.966272</td>\n",
       "      <td>-0.185226</td>\n",
       "      <td>1.792993</td>\n",
       "      <td>-0.863291</td>\n",
       "      <td>-0.010309</td>\n",
       "      <td>1.247203</td>\n",
       "      <td>0.237609</td>\n",
       "      <td>0.377436</td>\n",
       "      <td>-1.387024</td>\n",
       "      <td>...</td>\n",
       "      <td>-0.108300</td>\n",
       "      <td>0.005274</td>\n",
       "      <td>-0.190321</td>\n",
       "      <td>-1.175575</td>\n",
       "      <td>0.647376</td>\n",
       "      <td>-0.221929</td>\n",
       "      <td>0.062723</td>\n",
       "      <td>0.061458</td>\n",
       "      <td>123.50</td>\n",
       "      <td>0</td>\n",
       "    </tr>\n",
       "    <tr>\n",
       "      <th>4</th>\n",
       "      <td>2.0</td>\n",
       "      <td>-1.158233</td>\n",
       "      <td>0.877737</td>\n",
       "      <td>1.548718</td>\n",
       "      <td>0.403034</td>\n",
       "      <td>-0.407193</td>\n",
       "      <td>0.095921</td>\n",
       "      <td>0.592941</td>\n",
       "      <td>-0.270533</td>\n",
       "      <td>0.817739</td>\n",
       "      <td>...</td>\n",
       "      <td>-0.009431</td>\n",
       "      <td>0.798278</td>\n",
       "      <td>-0.137458</td>\n",
       "      <td>0.141267</td>\n",
       "      <td>-0.206010</td>\n",
       "      <td>0.502292</td>\n",
       "      <td>0.219422</td>\n",
       "      <td>0.215153</td>\n",
       "      <td>69.99</td>\n",
       "      <td>0</td>\n",
       "    </tr>\n",
       "  </tbody>\n",
       "</table>\n",
       "<p>5 rows × 31 columns</p>\n",
       "</div>"
      ],
      "text/plain": [
       "   Time        V1        V2        V3        V4        V5        V6        V7  \\\n",
       "0   0.0 -1.359807 -0.072781  2.536347  1.378155 -0.338321  0.462388  0.239599   \n",
       "1   0.0  1.191857  0.266151  0.166480  0.448154  0.060018 -0.082361 -0.078803   \n",
       "2   1.0 -1.358354 -1.340163  1.773209  0.379780 -0.503198  1.800499  0.791461   \n",
       "3   1.0 -0.966272 -0.185226  1.792993 -0.863291 -0.010309  1.247203  0.237609   \n",
       "4   2.0 -1.158233  0.877737  1.548718  0.403034 -0.407193  0.095921  0.592941   \n",
       "\n",
       "         V8        V9  ...       V21       V22       V23       V24       V25  \\\n",
       "0  0.098698  0.363787  ... -0.018307  0.277838 -0.110474  0.066928  0.128539   \n",
       "1  0.085102 -0.255425  ... -0.225775 -0.638672  0.101288 -0.339846  0.167170   \n",
       "2  0.247676 -1.514654  ...  0.247998  0.771679  0.909412 -0.689281 -0.327642   \n",
       "3  0.377436 -1.387024  ... -0.108300  0.005274 -0.190321 -1.175575  0.647376   \n",
       "4 -0.270533  0.817739  ... -0.009431  0.798278 -0.137458  0.141267 -0.206010   \n",
       "\n",
       "        V26       V27       V28  Amount  Class  \n",
       "0 -0.189115  0.133558 -0.021053  149.62      0  \n",
       "1  0.125895 -0.008983  0.014724    2.69      0  \n",
       "2 -0.139097 -0.055353 -0.059752  378.66      0  \n",
       "3 -0.221929  0.062723  0.061458  123.50      0  \n",
       "4  0.502292  0.219422  0.215153   69.99      0  \n",
       "\n",
       "[5 rows x 31 columns]"
      ]
     },
     "execution_count": 2,
     "metadata": {},
     "output_type": "execute_result"
    }
   ],
   "source": [
    "# loading in the dataset\n",
    "df = pd.read_csv('creditcard.csv')\n",
    "print(df.shape)\n",
    "df.head()"
   ]
  },
  {
   "cell_type": "code",
   "execution_count": 3,
   "metadata": {},
   "outputs": [
    {
     "name": "stdout",
     "output_type": "stream",
     "text": [
      "['V1', 'V2', 'V3', 'V4', 'V5', 'V6', 'V7', 'V8', 'V9', 'V10', 'V11', 'V12', 'V13', 'V14', 'V15', 'V16', 'V17', 'V18', 'V19', 'V20', 'V21', 'V22', 'V23', 'V24', 'V26', 'V27', 'V28']\n"
     ]
    }
   ],
   "source": [
    "# 27 most important features according to our EDA\n",
    "cols = ['V'+str(i) for i in range(1, 29) if i != 25]\n",
    "print(cols)"
   ]
  },
  {
   "cell_type": "code",
   "execution_count": 4,
   "metadata": {},
   "outputs": [
    {
     "data": {
      "text/plain": [
       "(284807, 27)"
      ]
     },
     "execution_count": 4,
     "metadata": {},
     "output_type": "execute_result"
    }
   ],
   "source": [
    "# selecting the 27 most important features according to our EDA \n",
    "X = df[cols]\n",
    "\n",
    "y = df['Class'] # selecting the target variable\n",
    "\n",
    "X.shape"
   ]
  },
  {
   "cell_type": "code",
   "execution_count": 5,
   "metadata": {},
   "outputs": [
    {
     "data": {
      "text/plain": [
       "{0: 3.51722561243691e-06, 1: 0.0020325203252032522}"
      ]
     },
     "execution_count": 5,
     "metadata": {},
     "output_type": "execute_result"
    }
   ],
   "source": [
    "val_count = df['Class'].value_counts()\n",
    "weights = dict(1 / val_count) # to be used as class weights\n",
    "weights"
   ]
  },
  {
   "cell_type": "markdown",
   "metadata": {
    "papermill": {
     "duration": 0.026366,
     "end_time": "2020-11-28T17:39:36.121173",
     "exception": false,
     "start_time": "2020-11-28T17:39:36.094807",
     "status": "completed"
    },
    "tags": []
   },
   "source": [
    "## <center>Cost matrix for fraud detection</center>\n",
    "\n",
    "||Actual Positive|Actual Negative|\n",
    "|:-:|:-:|:-:|\n",
    "|**Predicted Positive**|administrative cost|administrative cost|\n",
    "|**Predicted Negative**|transactional cost|0|"
   ]
  },
  {
   "cell_type": "markdown",
   "metadata": {
    "papermill": {
     "duration": 0.028266,
     "end_time": "2020-11-28T17:39:36.176550",
     "exception": false,
     "start_time": "2020-11-28T17:39:36.148284",
     "status": "completed"
    },
    "tags": []
   },
   "source": [
    "### *see [this article](https://towardsdatascience.com/fraud-detection-with-cost-sensitive-machine-learning-24b8760d35d9) for more about cost sensitive machine learning for fraud detection*"
   ]
  },
  {
   "cell_type": "code",
   "execution_count": 6,
   "metadata": {
    "execution": {
     "iopub.execute_input": "2020-11-28T17:39:36.238116Z",
     "iopub.status.busy": "2020-11-28T17:39:36.237341Z",
     "iopub.status.idle": "2020-11-28T17:39:36.240980Z",
     "shell.execute_reply": "2020-11-28T17:39:36.240371Z"
    },
    "papermill": {
     "duration": 0.036283,
     "end_time": "2020-11-28T17:39:36.241113",
     "exception": false,
     "start_time": "2020-11-28T17:39:36.204830",
     "status": "completed"
    },
    "tags": []
   },
   "outputs": [],
   "source": [
    "admin_cost = 2.5"
   ]
  },
  {
   "cell_type": "markdown",
   "metadata": {
    "papermill": {
     "duration": 0.026719,
     "end_time": "2020-11-28T17:39:36.295009",
     "exception": false,
     "start_time": "2020-11-28T17:39:36.268290",
     "status": "completed"
    },
    "tags": []
   },
   "source": [
    "### our choice of using 2.5euros as the administartive cost because it seems to be the best for our problem as suggested by [this paper](https://www.researchgate.net/publication/262390835_Cost_Sensitive_Credit_Card_Fraud_Detection_Using_Bayes_Minimum_Risk)"
   ]
  },
  {
   "cell_type": "markdown",
   "metadata": {
    "papermill": {
     "duration": 0.026553,
     "end_time": "2020-11-28T17:39:36.348443",
     "exception": false,
     "start_time": "2020-11-28T17:39:36.321890",
     "status": "completed"
    },
    "tags": []
   },
   "source": [
    "## Also, implementing cost sensitive models for sklearn's classifier is challenging. It is as good as creating a new model from the scratch. For simplicity, we will not penalize our model of True Positives (although, the cost matrix suggests we should penalize it for true positives). This will mean that we are only penalizing MISCLASSIFICATIONS (trying to minimize costs due to misclassification and not cost in general)."
   ]
  },
  {
   "cell_type": "code",
   "execution_count": 7,
   "metadata": {
    "execution": {
     "iopub.execute_input": "2020-11-28T17:39:36.419694Z",
     "iopub.status.busy": "2020-11-28T17:39:36.418480Z",
     "iopub.status.idle": "2020-11-28T17:39:36.422006Z",
     "shell.execute_reply": "2020-11-28T17:39:36.421070Z"
    },
    "papermill": {
     "duration": 0.046368,
     "end_time": "2020-11-28T17:39:36.422192",
     "exception": false,
     "start_time": "2020-11-28T17:39:36.375824",
     "status": "completed"
    },
    "tags": []
   },
   "outputs": [],
   "source": [
    "# defining a function to calculate cost savings\n",
    "def cost_saving(ytrue, ypred, amount):\n",
    "    fp = np.sum((ytrue == 0) & (ypred == 1))\n",
    "    cost = np.sum(fp*admin_cost) + np.sum((amount[(ytrue == 1) & (ypred == 0)]))\n",
    "    max_cost = np.sum((amount[(ytrue == 1)]))\n",
    "    savings = 1 - (cost/max_cost)\n",
    "    \n",
    "    return savings"
   ]
  },
  {
   "cell_type": "code",
   "execution_count": 8,
   "metadata": {
    "execution": {
     "iopub.execute_input": "2020-11-28T17:39:36.497375Z",
     "iopub.status.busy": "2020-11-28T17:39:36.496332Z",
     "iopub.status.idle": "2020-11-28T17:39:36.501091Z",
     "shell.execute_reply": "2020-11-28T17:39:36.500306Z"
    },
    "papermill": {
     "duration": 0.045797,
     "end_time": "2020-11-28T17:39:36.501262",
     "exception": false,
     "start_time": "2020-11-28T17:39:36.455465",
     "status": "completed"
    },
    "tags": []
   },
   "outputs": [],
   "source": [
    "cv = StratifiedKFold(n_splits=4, random_state=1, shuffle=True)"
   ]
  },
  {
   "cell_type": "code",
   "execution_count": 9,
   "metadata": {
    "execution": {
     "iopub.execute_input": "2020-11-28T17:39:36.572835Z",
     "iopub.status.busy": "2020-11-28T17:39:36.572041Z",
     "iopub.status.idle": "2020-11-28T17:39:36.575247Z",
     "shell.execute_reply": "2020-11-28T17:39:36.574462Z"
    },
    "papermill": {
     "duration": 0.042745,
     "end_time": "2020-11-28T17:39:36.575377",
     "exception": false,
     "start_time": "2020-11-28T17:39:36.532632",
     "status": "completed"
    },
    "tags": []
   },
   "outputs": [],
   "source": [
    "# defining a function to calculate cost saving per fold (splits) of our cv\n",
    "def cost_saving_per_split(scores, x, y, cv_object):\n",
    "    results = []\n",
    "    for i, (_, test_ind) in zip(range(cv_object.n_splits), cv_object.split(x, y)):\n",
    "        ypred = scores['estimator'][i].predict(x[test_ind])\n",
    "        ytrue = y[test_ind]\n",
    "        amount = df['Amount'].values[test_ind]\n",
    "        results.append(cost_saving(ytrue, ypred, amount))\n",
    "        \n",
    "    return results"
   ]
  },
  {
   "cell_type": "code",
   "execution_count": 10,
   "metadata": {
    "execution": {
     "iopub.execute_input": "2020-11-28T17:39:36.639531Z",
     "iopub.status.busy": "2020-11-28T17:39:36.638522Z",
     "iopub.status.idle": "2020-11-28T17:39:36.642113Z",
     "shell.execute_reply": "2020-11-28T17:39:36.641347Z"
    },
    "papermill": {
     "duration": 0.03895,
     "end_time": "2020-11-28T17:39:36.642240",
     "exception": false,
     "start_time": "2020-11-28T17:39:36.603290",
     "status": "completed"
    },
    "tags": []
   },
   "outputs": [],
   "source": [
    "# defining a function to return a dataframe of metrics results for each fold in our cv\n",
    "def get_metric_scores(scores, x, y=y, cv_object=cv):\n",
    "    ind = ['split_'+str(n) for n in range(1, cv_object.n_splits+1)]\n",
    "    \n",
    "    scores_df = pd.DataFrame(index=ind)\n",
    "    \n",
    "    scores_df['f1_score'] = scores['test_f1']\n",
    "    scores_df['auc_pr'] = scores['test_average_precision']\n",
    "    scores_df['cost_savings'] = cost_saving_per_split(scores, x, y, cv_object)\n",
    "\n",
    "    return scores_df"
   ]
  },
  {
   "cell_type": "code",
   "execution_count": 11,
   "metadata": {},
   "outputs": [],
   "source": [
    "from sklearn.pipeline import Pipeline"
   ]
  },
  {
   "cell_type": "markdown",
   "metadata": {
    "papermill": {
     "duration": 0.027254,
     "end_time": "2020-11-28T17:39:36.697974",
     "exception": false,
     "start_time": "2020-11-28T17:39:36.670720",
     "status": "completed"
    },
    "tags": []
   },
   "source": [
    "## model "
   ]
  },
  {
   "cell_type": "code",
   "execution_count": 13,
   "metadata": {},
   "outputs": [],
   "source": [
    "x_train, x_test, y_train, y_test = train_test_split(X, y,test_size=0.25, random_state=0, stratify=df['Class'])"
   ]
  },
  {
   "cell_type": "code",
   "execution_count": 14,
   "metadata": {},
   "outputs": [],
   "source": [
    "#knn\n",
    "from termcolor import colored as cl"
   ]
  },
  {
   "cell_type": "code",
   "execution_count": 24,
   "metadata": {},
   "outputs": [],
   "source": [
    "n = 5\n",
    "knn = KNeighborsClassifier(n_neighbors = n)\n",
    "knn.fit(x_train, y_train)\n",
    "knn_yhat = knn.predict(x_test)"
   ]
  },
  {
   "cell_type": "code",
   "execution_count": 25,
   "metadata": {},
   "outputs": [
    {
     "name": "stdout",
     "output_type": "stream",
     "text": [
      "\u001b[1m\u001b[32mF1 score of the KNN model is 0.81651376146789\u001b[0m\n"
     ]
    }
   ],
   "source": [
    "print(cl('F1 score of the KNN model is {}'.format(f1_score(y_test, knn_yhat)), attrs = ['bold'], color = 'green'))"
   ]
  },
  {
   "cell_type": "code",
   "execution_count": 26,
   "metadata": {},
   "outputs": [],
   "source": [
    "def plot_confusion_matrix(cm, classes, title, normalize = False, cmap = plt.cm.Blues):\n",
    "    title = 'Confusion Matrix of {}'.format(title)\n",
    "    if normalize:\n",
    "        cm = cm.astype(float) / cm.sum(axis=1)[:, np.newaxis]\n",
    "\n",
    "    plt.imshow(cm, interpolation = 'nearest', cmap = cmap)\n",
    "    plt.title(title)\n",
    "    plt.colorbar()\n",
    "    tick_marks = np.arange(len(classes))\n",
    "    plt.xticks(tick_marks, classes, rotation = 45)\n",
    "    plt.yticks(tick_marks, classes)\n",
    "\n",
    "    fmt = '.2f' if normalize else 'd'\n",
    "    thresh = cm.max() / 2.\n",
    "    for i, j in itertools.product(range(cm.shape[0]), range(cm.shape[1])):\n",
    "        plt.text(j, i, format(cm[i, j], fmt),\n",
    "                 horizontalalignment = 'center',\n",
    "                 color = 'white' if cm[i, j] > thresh else 'black')\n",
    "\n",
    "    plt.tight_layout()\n",
    "    plt.ylabel('True label')\n",
    "    plt.xlabel('Predicted label')"
   ]
  },
  {
   "cell_type": "code",
   "execution_count": 27,
   "metadata": {},
   "outputs": [
    {
     "data": {
      "text/plain": [
       "array([[71073,     6],\n",
       "       [   34,    89]], dtype=int64)"
      ]
     },
     "execution_count": 27,
     "metadata": {},
     "output_type": "execute_result"
    }
   ],
   "source": [
    "knn_matrix = confusion_matrix(y_test, knn_yhat, labels = [0, 1])\n",
    "knn_matrix"
   ]
  },
  {
   "cell_type": "code",
   "execution_count": null,
   "metadata": {},
   "outputs": [],
   "source": []
  },
  {
   "cell_type": "code",
   "execution_count": null,
   "metadata": {},
   "outputs": [],
   "source": []
  },
  {
   "cell_type": "code",
   "execution_count": null,
   "metadata": {},
   "outputs": [],
   "source": [
    "#Model two"
   ]
  },
  {
   "cell_type": "code",
   "execution_count": null,
   "metadata": {},
   "outputs": [],
   "source": [
    "myList = list(range(0,50))\n",
    "neighbors = list(filter(lambda x: x%2!=0, myList))  #This will give a list of odd numbers only ranging from 0 to 50\n",
    "\n",
    "CV_Scores = []\n",
    "\n",
    "for k in neighbors:\n",
    "    KNN = KNeighborsClassifier(n_neighbors = k, algorithm = 'kd_tree')\n",
    "    scores = cross_val_score(KNN, x_train, y_train, cv = 4, scoring='recall')\n",
    "    CV_Scores.append(scores.mean())"
   ]
  },
  {
   "cell_type": "code",
   "execution_count": null,
   "metadata": {},
   "outputs": [],
   "source": [
    "CV_Scores"
   ]
  },
  {
   "cell_type": "code",
   "execution_count": null,
   "metadata": {},
   "outputs": [],
   "source": [
    "best_k = neighbors[CV_Scores.index(max(CV_Scores))]\n",
    "best_k"
   ]
  },
  {
   "cell_type": "code",
   "execution_count": null,
   "metadata": {},
   "outputs": [],
   "source": [
    "from sklearn.metrics import recall_score\n",
    "from sklearn.metrics import f1_score"
   ]
  },
  {
   "cell_type": "code",
   "execution_count": null,
   "metadata": {},
   "outputs": [],
   "source": [
    "KNN_best = KNeighborsClassifier(n_neighbors = best_k, algorithm = 'kd_tree')\n",
    "\n",
    "KNN_best.fit(x_train, y_train)\n",
    "\n",
    "prediction = KNN_best.predict(x_test)\n",
    "\n",
    "recallTest = recall_score(y_test, prediction)\n",
    "\n",
    "F1test = f1_score(y_test, prediction)\n",
    "\n",
    "print(\"F1 score Score of the knn classifier for best k values of \"+str(best_k)+\" is: \"+str(F1test))\n",
    "      \n",
    "print(\"Recall Score of the knn classifier for best k values of \"+str(best_k)+\" is: \"+str(recallTest))\n",
    "\n",
    "#recall = recall_score(y_true, y_pred, average='binary')\n",
    "#print('Recall: %.3f' % recall)\n",
    "\n",
    "cm = confusion_matrix(y_test, prediction)\n",
    "\n",
    "print(cm)\n",
    "\n",
    "tn, fp, fn, tp = cm.ravel()\n",
    "\n",
    "(tn, fp, fn, tp)"
   ]
  },
  {
   "cell_type": "code",
   "execution_count": null,
   "metadata": {},
   "outputs": [],
   "source": []
  },
  {
   "cell_type": "code",
   "execution_count": null,
   "metadata": {},
   "outputs": [],
   "source": []
  },
  {
   "cell_type": "markdown",
   "metadata": {},
   "source": [
    "## Fraud Sensitive model (Not cost sensitive)"
   ]
  },
  {
   "cell_type": "code",
   "execution_count": 16,
   "metadata": {},
   "outputs": [],
   "source": [
    "fraud_sensitive_model = KNeighborsClassifier()\n",
    "n = 5"
   ]
  },
  {
   "cell_type": "code",
   "execution_count": 18,
   "metadata": {
    "execution": {
     "iopub.execute_input": "2020-11-28T17:39:36.760030Z",
     "iopub.status.busy": "2020-11-28T17:39:36.759197Z",
     "iopub.status.idle": "2020-11-28T17:39:39.793625Z",
     "shell.execute_reply": "2020-11-28T17:39:39.794510Z"
    },
    "papermill": {
     "duration": 3.069258,
     "end_time": "2020-11-28T17:39:39.794743",
     "exception": false,
     "start_time": "2020-11-28T17:39:36.725485",
     "status": "completed"
    },
    "tags": []
   },
   "outputs": [],
   "source": [
    "fraud_sensitive_model =  KNeighborsClassifier(n_neighbors = n, algorithm = 'kd_tree')\n",
    "fraud_sensitive_scaler = StandardScaler()\n",
    "fraud_sensitive_pipe = Pipeline([('scaler', fraud_sensitive_scaler), ('model', fraud_sensitive_model)])\n",
    "fraud_sensitive_scores = cross_validate(fraud_sensitive_pipe, np.array(X), y, \\\n",
    "                            scoring=['f1', 'average_precision'], cv=cv, n_jobs=4, \\\n",
    "                                        return_estimator=True, error_score='raise')"
   ]
  },
  {
   "cell_type": "markdown",
   "metadata": {
    "papermill": {
     "duration": 0.02736,
     "end_time": "2020-11-28T17:39:39.858101",
     "exception": false,
     "start_time": "2020-11-28T17:39:39.830741",
     "status": "completed"
    },
    "tags": []
   },
   "source": [
    "### Note: we used cross_validate because it can take more than one scoring metrics and it can also return the fitting model for each fold."
   ]
  },
  {
   "cell_type": "code",
   "execution_count": 19,
   "metadata": {
    "execution": {
     "iopub.execute_input": "2020-11-28T17:39:39.920988Z",
     "iopub.status.busy": "2020-11-28T17:39:39.920301Z",
     "iopub.status.idle": "2020-11-28T17:39:40.014688Z",
     "shell.execute_reply": "2020-11-28T17:39:40.013948Z"
    },
    "papermill": {
     "duration": 0.129243,
     "end_time": "2020-11-28T17:39:40.014813",
     "exception": false,
     "start_time": "2020-11-28T17:39:39.885570",
     "status": "completed"
    },
    "tags": []
   },
   "outputs": [
    {
     "data": {
      "text/html": [
       "<div>\n",
       "<style scoped>\n",
       "    .dataframe tbody tr th:only-of-type {\n",
       "        vertical-align: middle;\n",
       "    }\n",
       "\n",
       "    .dataframe tbody tr th {\n",
       "        vertical-align: top;\n",
       "    }\n",
       "\n",
       "    .dataframe thead th {\n",
       "        text-align: right;\n",
       "    }\n",
       "</style>\n",
       "<table border=\"1\" class=\"dataframe\">\n",
       "  <thead>\n",
       "    <tr style=\"text-align: right;\">\n",
       "      <th></th>\n",
       "      <th>f1_score</th>\n",
       "      <th>auc_pr</th>\n",
       "      <th>cost_savings</th>\n",
       "    </tr>\n",
       "  </thead>\n",
       "  <tbody>\n",
       "    <tr>\n",
       "      <th>split_1</th>\n",
       "      <td>0.805310</td>\n",
       "      <td>0.757136</td>\n",
       "      <td>0.719787</td>\n",
       "    </tr>\n",
       "    <tr>\n",
       "      <th>split_2</th>\n",
       "      <td>0.874459</td>\n",
       "      <td>0.844667</td>\n",
       "      <td>0.725883</td>\n",
       "    </tr>\n",
       "    <tr>\n",
       "      <th>split_3</th>\n",
       "      <td>0.855856</td>\n",
       "      <td>0.856481</td>\n",
       "      <td>0.777775</td>\n",
       "    </tr>\n",
       "    <tr>\n",
       "      <th>split_4</th>\n",
       "      <td>0.830357</td>\n",
       "      <td>0.776869</td>\n",
       "      <td>0.695133</td>\n",
       "    </tr>\n",
       "  </tbody>\n",
       "</table>\n",
       "</div>"
      ],
      "text/plain": [
       "         f1_score    auc_pr  cost_savings\n",
       "split_1  0.805310  0.757136      0.719787\n",
       "split_2  0.874459  0.844667      0.725883\n",
       "split_3  0.855856  0.856481      0.777775\n",
       "split_4  0.830357  0.776869      0.695133"
      ]
     },
     "execution_count": 19,
     "metadata": {},
     "output_type": "execute_result"
    }
   ],
   "source": [
    "fraud_sensitive_results = get_metric_scores(fraud_sensitive_scores, np.array(X))\n",
    "fraud_sensitive_results"
   ]
  },
  {
   "cell_type": "code",
   "execution_count": 20,
   "metadata": {
    "execution": {
     "iopub.execute_input": "2020-11-28T17:39:40.081326Z",
     "iopub.status.busy": "2020-11-28T17:39:40.080261Z",
     "iopub.status.idle": "2020-11-28T17:39:40.085076Z",
     "shell.execute_reply": "2020-11-28T17:39:40.084347Z"
    },
    "papermill": {
     "duration": 0.04136,
     "end_time": "2020-11-28T17:39:40.085197",
     "exception": false,
     "start_time": "2020-11-28T17:39:40.043837",
     "status": "completed"
    },
    "tags": []
   },
   "outputs": [
    {
     "data": {
      "text/plain": [
       "f1_score        0.841495\n",
       "auc_pr          0.808788\n",
       "cost_savings    0.729645\n",
       "dtype: float64"
      ]
     },
     "execution_count": 20,
     "metadata": {},
     "output_type": "execute_result"
    }
   ],
   "source": [
    "fraud_sensitive_results.mean()"
   ]
  },
  {
   "cell_type": "code",
   "execution_count": null,
   "metadata": {
    "papermill": {
     "duration": 0.02874,
     "end_time": "2020-11-28T17:39:40.143112",
     "exception": false,
     "start_time": "2020-11-28T17:39:40.114372",
     "status": "completed"
    },
    "tags": []
   },
   "outputs": [],
   "source": []
  },
  {
   "cell_type": "markdown",
   "metadata": {
    "papermill": {
     "duration": 0.028785,
     "end_time": "2020-11-28T17:39:40.201574",
     "exception": false,
     "start_time": "2020-11-28T17:39:40.172789",
     "status": "completed"
    },
    "tags": []
   },
   "source": [
    "## Cost sensitive model"
   ]
  },
  {
   "cell_type": "markdown",
   "metadata": {
    "papermill": {
     "duration": 0.028733,
     "end_time": "2020-11-28T17:39:40.259673",
     "exception": false,
     "start_time": "2020-11-28T17:39:40.230940",
     "status": "completed"
    },
    "tags": []
   },
   "source": [
    "### Cant implent a cost sensitive model.... cant put our sample_weights in my model."
   ]
  },
  {
   "cell_type": "code",
   "execution_count": 21,
   "metadata": {
    "execution": {
     "iopub.execute_input": "2020-11-28T17:39:40.331487Z",
     "iopub.status.busy": "2020-11-28T17:39:40.326409Z",
     "iopub.status.idle": "2020-11-28T17:39:40.447006Z",
     "shell.execute_reply": "2020-11-28T17:39:40.446173Z"
    },
    "papermill": {
     "duration": 0.158336,
     "end_time": "2020-11-28T17:39:40.447161",
     "exception": false,
     "start_time": "2020-11-28T17:39:40.288825",
     "status": "completed"
    },
    "tags": []
   },
   "outputs": [],
   "source": [
    "sample_weights = np.array([df['Amount'][ind] if fraud else admin_cost for ind, fraud in enumerate(y)])"
   ]
  },
  {
   "cell_type": "markdown",
   "metadata": {
    "papermill": {
     "duration": 0.031242,
     "end_time": "2020-11-28T17:39:42.388705",
     "exception": false,
     "start_time": "2020-11-28T17:39:42.357463",
     "status": "completed"
    },
    "tags": []
   },
   "source": [
    "## Bayes Mininmum Risk (BMR)"
   ]
  },
  {
   "cell_type": "markdown",
   "metadata": {},
   "source": [
    "### Note: cost dependent classification is also called Bayes Mininmum Risk.\n",
    "***see more about BMR [here](https://link.springer.com/article/10.1007/s42452-020-03375-w)***"
   ]
  },
  {
   "cell_type": "code",
   "execution_count": 28,
   "metadata": {},
   "outputs": [],
   "source": [
    "scaler2 = StandardScaler()\n",
    "\n",
    "bmr_model = KNeighborsClassifier(n_neighbors = n, algorithm = 'kd_tree')\n",
    "bmr_pipe = Pipeline([('scaler', scaler2), ('model', bmr_model)])\n",
    "bmr_scores = cross_validate(bmr_pipe, np.array(X), y, cv=cv, n_jobs=4, return_estimator=True, \\\n",
    "                            error_score='raise')"
   ]
  },
  {
   "cell_type": "code",
   "execution_count": 29,
   "metadata": {},
   "outputs": [],
   "source": [
    "# defining a function to predict based on the predicting that will minimize the expected cost.\n",
    "def bmr_predict(model, x, trans_cost):\n",
    "    prob = model.predict_proba(x)[:, 1]\n",
    "        \n",
    "    expected_cost_0 = prob * trans_cost\n",
    "    expected_cost_1 = (1-prob) * admin_cost\n",
    "        \n",
    "    pred = (expected_cost_1 < expected_cost_0).astype(int)\n",
    "    return pred"
   ]
  },
  {
   "cell_type": "code",
   "execution_count": 30,
   "metadata": {},
   "outputs": [],
   "source": [
    "def get_bmr_metric_scores(scores, x, y=y, cv_object=cv):\n",
    "    ind = ['split_'+str(n) for n in range(1, cv_object.n_splits+1)]\n",
    "    scores_df = pd.DataFrame(index=ind)\n",
    "\n",
    "    f1_results = []\n",
    "    cs_results = []\n",
    "    \n",
    "    for i, (_, test_ind) in zip(range(cv_object.n_splits), cv_object.split(x, y)):\n",
    "        amount = df['Amount'].values[test_ind]\n",
    "        \n",
    "        ypred = bmr_predict(scores['estimator'][i], x[test_ind], amount)\n",
    "        ytrue = y[test_ind]\n",
    "                \n",
    "        f1_results.append(f1_score(ytrue, ypred))\n",
    "        cs_results.append(cost_saving(ytrue, ypred, amount))\n",
    "        \n",
    "    scores_df['f1_score'] = f1_results\n",
    "    #scores_df['auc_pr'] = scores['test_average_precision']\n",
    "    scores_df['cost_savings'] = cs_results\n",
    "\n",
    "    return scores_df"
   ]
  },
  {
   "cell_type": "code",
   "execution_count": 31,
   "metadata": {},
   "outputs": [
    {
     "data": {
      "text/html": [
       "<div>\n",
       "<style scoped>\n",
       "    .dataframe tbody tr th:only-of-type {\n",
       "        vertical-align: middle;\n",
       "    }\n",
       "\n",
       "    .dataframe tbody tr th {\n",
       "        vertical-align: top;\n",
       "    }\n",
       "\n",
       "    .dataframe thead th {\n",
       "        text-align: right;\n",
       "    }\n",
       "</style>\n",
       "<table border=\"1\" class=\"dataframe\">\n",
       "  <thead>\n",
       "    <tr style=\"text-align: right;\">\n",
       "      <th></th>\n",
       "      <th>f1_score</th>\n",
       "      <th>cost_savings</th>\n",
       "    </tr>\n",
       "  </thead>\n",
       "  <tbody>\n",
       "    <tr>\n",
       "      <th>split_1</th>\n",
       "      <td>0.679537</td>\n",
       "      <td>0.722176</td>\n",
       "    </tr>\n",
       "    <tr>\n",
       "      <th>split_2</th>\n",
       "      <td>0.688889</td>\n",
       "      <td>0.749834</td>\n",
       "    </tr>\n",
       "    <tr>\n",
       "      <th>split_3</th>\n",
       "      <td>0.720307</td>\n",
       "      <td>0.836207</td>\n",
       "    </tr>\n",
       "    <tr>\n",
       "      <th>split_4</th>\n",
       "      <td>0.682540</td>\n",
       "      <td>0.731263</td>\n",
       "    </tr>\n",
       "  </tbody>\n",
       "</table>\n",
       "</div>"
      ],
      "text/plain": [
       "         f1_score  cost_savings\n",
       "split_1  0.679537      0.722176\n",
       "split_2  0.688889      0.749834\n",
       "split_3  0.720307      0.836207\n",
       "split_4  0.682540      0.731263"
      ]
     },
     "execution_count": 31,
     "metadata": {},
     "output_type": "execute_result"
    }
   ],
   "source": [
    "bmr_results = get_bmr_metric_scores(bmr_scores, np.array(X))\n",
    "bmr_results"
   ]
  },
  {
   "cell_type": "code",
   "execution_count": 32,
   "metadata": {},
   "outputs": [
    {
     "data": {
      "text/plain": [
       "f1_score        0.692818\n",
       "cost_savings    0.759870\n",
       "dtype: float64"
      ]
     },
     "execution_count": 32,
     "metadata": {},
     "output_type": "execute_result"
    }
   ],
   "source": [
    "bmr_results.mean()"
   ]
  },
  {
   "cell_type": "code",
   "execution_count": null,
   "metadata": {},
   "outputs": [],
   "source": []
  },
  {
   "cell_type": "code",
   "execution_count": 33,
   "metadata": {},
   "outputs": [],
   "source": [
    "from sklearn.metrics import roc_auc_score"
   ]
  },
  {
   "cell_type": "code",
   "execution_count": 34,
   "metadata": {},
   "outputs": [
    {
     "name": "stdout",
     "output_type": "stream",
     "text": [
      "roc_auc_score: 0.9179183656522337\n",
      "f-score: 0.6112759643916914\n",
      "roc_auc_score: 0.9341644594008933\n",
      "f-score: 0.6239067055393587\n",
      "roc_auc_score: 0.9423578505400553\n",
      "f-score: 0.6488095238095237\n",
      "roc_auc_score: 0.9096475828569874\n",
      "f-score: 0.5690140845070423\n"
     ]
    }
   ],
   "source": [
    "from sklearn.model_selection import KFold\n",
    "from imblearn.over_sampling import SMOTE\n",
    "from sklearn.metrics import f1_score\n",
    "\n",
    "smote = SMOTE()\n",
    "\n",
    "xx =np.array(X)\n",
    "\n",
    "for train_idx, test_idx, in cv.split(xx, y):\n",
    "    X_train, y_train = xx[train_idx], y[train_idx]\n",
    "    X_test, y_test = xx[test_idx], y[test_idx]\n",
    "    X_train_oversampled, y_train_oversampled = smote.fit_sample(X_train, y_train)\n",
    "    smote_gradient_model = KNeighborsClassifier()\n",
    "    smote_gradient_model.fit(X_train_oversampled, y_train_oversampled )  \n",
    "    pred = smote_gradient_model.predict(X_test)\n",
    "    print(f'roc_auc_score: {roc_auc_score(y_test, pred)}')\n",
    "    print(f'f-score: {f1_score(y_test, pred)}')"
   ]
  },
  {
   "cell_type": "code",
   "execution_count": 35,
   "metadata": {},
   "outputs": [
    {
     "name": "stdout",
     "output_type": "stream",
     "text": [
      "roc_auc_score: 0.9096475828569874\n",
      "f-score: 0.5690140845070423\n"
     ]
    }
   ],
   "source": [
    "print(f'roc_auc_score: {roc_auc_score(y_test, pred)}')\n",
    "print(f'f-score: {f1_score(y_test, pred)}')"
   ]
  },
  {
   "cell_type": "code",
   "execution_count": null,
   "metadata": {},
   "outputs": [],
   "source": []
  },
  {
   "cell_type": "markdown",
   "metadata": {},
   "source": [
    "## We then see that for KNN,  the fraud sensitivite seems to be the best approach."
   ]
  },
  {
   "cell_type": "code",
   "execution_count": null,
   "metadata": {},
   "outputs": [],
   "source": []
  }
 ],
 "metadata": {
  "kernelspec": {
   "display_name": "Python 3",
   "language": "python",
   "name": "python3"
  },
  "language_info": {
   "codemirror_mode": {
    "name": "ipython",
    "version": 3
   },
   "file_extension": ".py",
   "mimetype": "text/x-python",
   "name": "python",
   "nbconvert_exporter": "python",
   "pygments_lexer": "ipython3",
   "version": "3.7.6"
  },
  "papermill": {
   "duration": 18.766168,
   "end_time": "2020-11-28T17:39:45.265625",
   "environment_variables": {},
   "exception": null,
   "input_path": "__notebook__.ipynb",
   "output_path": "__notebook__.ipynb",
   "parameters": {},
   "start_time": "2020-11-28T17:39:26.499457",
   "version": "2.1.0"
  }
 },
 "nbformat": 4,
 "nbformat_minor": 4
}
