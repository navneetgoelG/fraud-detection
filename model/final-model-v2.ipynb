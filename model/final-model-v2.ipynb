{
 "cells": [
  {
   "cell_type": "markdown",
   "metadata": {
    "papermill": {
     "duration": 0.017684,
     "end_time": "2020-12-12T21:33:44.957170",
     "exception": false,
     "start_time": "2020-12-12T21:33:44.939486",
     "status": "completed"
    },
    "tags": []
   },
   "source": [
    "# Final Model V2 (for deployment)"
   ]
  },
  {
   "cell_type": "code",
   "execution_count": 1,
   "metadata": {
    "_cell_guid": "79c7e3d0-c299-4dcb-8224-4455121ee9b0",
    "_uuid": "d629ff2d2480ee46fbb7e2d37f6b5fab8052498a",
    "execution": {
     "iopub.execute_input": "2020-12-12T21:33:44.997643Z",
     "iopub.status.busy": "2020-12-12T21:33:44.996982Z",
     "iopub.status.idle": "2020-12-12T21:33:46.764771Z",
     "shell.execute_reply": "2020-12-12T21:33:46.765526Z"
    },
    "papermill": {
     "duration": 1.791515,
     "end_time": "2020-12-12T21:33:46.765681",
     "exception": false,
     "start_time": "2020-12-12T21:33:44.974166",
     "status": "completed"
    },
    "tags": []
   },
   "outputs": [],
   "source": [
    "# importing useful libraries\n",
    "\n",
    "import numpy as np\n",
    "import pandas as pd\n",
    "\n",
    "import gzip\n",
    "import dill\n",
    "\n",
    "from sklearn.model_selection import StratifiedKFold, cross_validate, train_test_split\n",
    "from sklearn.preprocessing import StandardScaler\n",
    "from sklearn.metrics import f1_score\n",
    "from sklearn.pipeline import Pipeline\n",
    "from sklearn.base import BaseEstimator, TransformerMixin\n",
    "\n",
    "from xgboost import XGBClassifier\n",
    "\n",
    "from sklearn.calibration import CalibratedClassifierCV\n",
    "\n",
    "import warnings\n",
    "warnings.filterwarnings('ignore')\n",
    "\n",
    "%matplotlib inline"
   ]
  },
  {
   "cell_type": "code",
   "execution_count": 2,
   "metadata": {
    "execution": {
     "iopub.execute_input": "2020-12-12T21:33:46.809023Z",
     "iopub.status.busy": "2020-12-12T21:33:46.808451Z",
     "iopub.status.idle": "2020-12-12T21:33:50.502019Z",
     "shell.execute_reply": "2020-12-12T21:33:50.502854Z"
    },
    "papermill": {
     "duration": 3.722526,
     "end_time": "2020-12-12T21:33:50.503027",
     "exception": false,
     "start_time": "2020-12-12T21:33:46.780501",
     "status": "completed"
    },
    "tags": []
   },
   "outputs": [
    {
     "name": "stdout",
     "output_type": "stream",
     "text": [
      "(284807, 31)\n"
     ]
    },
    {
     "data": {
      "text/html": [
       "<div>\n",
       "<style scoped>\n",
       "    .dataframe tbody tr th:only-of-type {\n",
       "        vertical-align: middle;\n",
       "    }\n",
       "\n",
       "    .dataframe tbody tr th {\n",
       "        vertical-align: top;\n",
       "    }\n",
       "\n",
       "    .dataframe thead th {\n",
       "        text-align: right;\n",
       "    }\n",
       "</style>\n",
       "<table border=\"1\" class=\"dataframe\">\n",
       "  <thead>\n",
       "    <tr style=\"text-align: right;\">\n",
       "      <th></th>\n",
       "      <th>Time</th>\n",
       "      <th>V1</th>\n",
       "      <th>V2</th>\n",
       "      <th>V3</th>\n",
       "      <th>V4</th>\n",
       "      <th>V5</th>\n",
       "      <th>V6</th>\n",
       "      <th>V7</th>\n",
       "      <th>V8</th>\n",
       "      <th>V9</th>\n",
       "      <th>...</th>\n",
       "      <th>V21</th>\n",
       "      <th>V22</th>\n",
       "      <th>V23</th>\n",
       "      <th>V24</th>\n",
       "      <th>V25</th>\n",
       "      <th>V26</th>\n",
       "      <th>V27</th>\n",
       "      <th>V28</th>\n",
       "      <th>Amount</th>\n",
       "      <th>Class</th>\n",
       "    </tr>\n",
       "  </thead>\n",
       "  <tbody>\n",
       "    <tr>\n",
       "      <th>0</th>\n",
       "      <td>0.0</td>\n",
       "      <td>-1.359807</td>\n",
       "      <td>-0.072781</td>\n",
       "      <td>2.536347</td>\n",
       "      <td>1.378155</td>\n",
       "      <td>-0.338321</td>\n",
       "      <td>0.462388</td>\n",
       "      <td>0.239599</td>\n",
       "      <td>0.098698</td>\n",
       "      <td>0.363787</td>\n",
       "      <td>...</td>\n",
       "      <td>-0.018307</td>\n",
       "      <td>0.277838</td>\n",
       "      <td>-0.110474</td>\n",
       "      <td>0.066928</td>\n",
       "      <td>0.128539</td>\n",
       "      <td>-0.189115</td>\n",
       "      <td>0.133558</td>\n",
       "      <td>-0.021053</td>\n",
       "      <td>149.62</td>\n",
       "      <td>0</td>\n",
       "    </tr>\n",
       "    <tr>\n",
       "      <th>1</th>\n",
       "      <td>0.0</td>\n",
       "      <td>1.191857</td>\n",
       "      <td>0.266151</td>\n",
       "      <td>0.166480</td>\n",
       "      <td>0.448154</td>\n",
       "      <td>0.060018</td>\n",
       "      <td>-0.082361</td>\n",
       "      <td>-0.078803</td>\n",
       "      <td>0.085102</td>\n",
       "      <td>-0.255425</td>\n",
       "      <td>...</td>\n",
       "      <td>-0.225775</td>\n",
       "      <td>-0.638672</td>\n",
       "      <td>0.101288</td>\n",
       "      <td>-0.339846</td>\n",
       "      <td>0.167170</td>\n",
       "      <td>0.125895</td>\n",
       "      <td>-0.008983</td>\n",
       "      <td>0.014724</td>\n",
       "      <td>2.69</td>\n",
       "      <td>0</td>\n",
       "    </tr>\n",
       "    <tr>\n",
       "      <th>2</th>\n",
       "      <td>1.0</td>\n",
       "      <td>-1.358354</td>\n",
       "      <td>-1.340163</td>\n",
       "      <td>1.773209</td>\n",
       "      <td>0.379780</td>\n",
       "      <td>-0.503198</td>\n",
       "      <td>1.800499</td>\n",
       "      <td>0.791461</td>\n",
       "      <td>0.247676</td>\n",
       "      <td>-1.514654</td>\n",
       "      <td>...</td>\n",
       "      <td>0.247998</td>\n",
       "      <td>0.771679</td>\n",
       "      <td>0.909412</td>\n",
       "      <td>-0.689281</td>\n",
       "      <td>-0.327642</td>\n",
       "      <td>-0.139097</td>\n",
       "      <td>-0.055353</td>\n",
       "      <td>-0.059752</td>\n",
       "      <td>378.66</td>\n",
       "      <td>0</td>\n",
       "    </tr>\n",
       "    <tr>\n",
       "      <th>3</th>\n",
       "      <td>1.0</td>\n",
       "      <td>-0.966272</td>\n",
       "      <td>-0.185226</td>\n",
       "      <td>1.792993</td>\n",
       "      <td>-0.863291</td>\n",
       "      <td>-0.010309</td>\n",
       "      <td>1.247203</td>\n",
       "      <td>0.237609</td>\n",
       "      <td>0.377436</td>\n",
       "      <td>-1.387024</td>\n",
       "      <td>...</td>\n",
       "      <td>-0.108300</td>\n",
       "      <td>0.005274</td>\n",
       "      <td>-0.190321</td>\n",
       "      <td>-1.175575</td>\n",
       "      <td>0.647376</td>\n",
       "      <td>-0.221929</td>\n",
       "      <td>0.062723</td>\n",
       "      <td>0.061458</td>\n",
       "      <td>123.50</td>\n",
       "      <td>0</td>\n",
       "    </tr>\n",
       "    <tr>\n",
       "      <th>4</th>\n",
       "      <td>2.0</td>\n",
       "      <td>-1.158233</td>\n",
       "      <td>0.877737</td>\n",
       "      <td>1.548718</td>\n",
       "      <td>0.403034</td>\n",
       "      <td>-0.407193</td>\n",
       "      <td>0.095921</td>\n",
       "      <td>0.592941</td>\n",
       "      <td>-0.270533</td>\n",
       "      <td>0.817739</td>\n",
       "      <td>...</td>\n",
       "      <td>-0.009431</td>\n",
       "      <td>0.798278</td>\n",
       "      <td>-0.137458</td>\n",
       "      <td>0.141267</td>\n",
       "      <td>-0.206010</td>\n",
       "      <td>0.502292</td>\n",
       "      <td>0.219422</td>\n",
       "      <td>0.215153</td>\n",
       "      <td>69.99</td>\n",
       "      <td>0</td>\n",
       "    </tr>\n",
       "  </tbody>\n",
       "</table>\n",
       "<p>5 rows × 31 columns</p>\n",
       "</div>"
      ],
      "text/plain": [
       "   Time        V1        V2        V3        V4        V5        V6        V7  \\\n",
       "0   0.0 -1.359807 -0.072781  2.536347  1.378155 -0.338321  0.462388  0.239599   \n",
       "1   0.0  1.191857  0.266151  0.166480  0.448154  0.060018 -0.082361 -0.078803   \n",
       "2   1.0 -1.358354 -1.340163  1.773209  0.379780 -0.503198  1.800499  0.791461   \n",
       "3   1.0 -0.966272 -0.185226  1.792993 -0.863291 -0.010309  1.247203  0.237609   \n",
       "4   2.0 -1.158233  0.877737  1.548718  0.403034 -0.407193  0.095921  0.592941   \n",
       "\n",
       "         V8        V9  ...       V21       V22       V23       V24       V25  \\\n",
       "0  0.098698  0.363787  ... -0.018307  0.277838 -0.110474  0.066928  0.128539   \n",
       "1  0.085102 -0.255425  ... -0.225775 -0.638672  0.101288 -0.339846  0.167170   \n",
       "2  0.247676 -1.514654  ...  0.247998  0.771679  0.909412 -0.689281 -0.327642   \n",
       "3  0.377436 -1.387024  ... -0.108300  0.005274 -0.190321 -1.175575  0.647376   \n",
       "4 -0.270533  0.817739  ... -0.009431  0.798278 -0.137458  0.141267 -0.206010   \n",
       "\n",
       "        V26       V27       V28  Amount  Class  \n",
       "0 -0.189115  0.133558 -0.021053  149.62      0  \n",
       "1  0.125895 -0.008983  0.014724    2.69      0  \n",
       "2 -0.139097 -0.055353 -0.059752  378.66      0  \n",
       "3 -0.221929  0.062723  0.061458  123.50      0  \n",
       "4  0.502292  0.219422  0.215153   69.99      0  \n",
       "\n",
       "[5 rows x 31 columns]"
      ]
     },
     "execution_count": 2,
     "metadata": {},
     "output_type": "execute_result"
    }
   ],
   "source": [
    "credit_card_df = pd.read_csv('../input/creditcardfraud/creditcard.csv') \n",
    "\n",
    "# alternatively you can use \n",
    "# credit_card_df = pd.read_csv('https://raw.github.com/HamoyeHQ/g01-fraud-detection/master/data/credit_card_dataset.zip')\n",
    "# to load in the dataset if you don't have it downloaded\n",
    "\n",
    "print(credit_card_df.shape)\n",
    "credit_card_df.head()"
   ]
  },
  {
   "cell_type": "code",
   "execution_count": 3,
   "metadata": {
    "execution": {
     "iopub.execute_input": "2020-12-12T21:33:50.543722Z",
     "iopub.status.busy": "2020-12-12T21:33:50.542902Z",
     "iopub.status.idle": "2020-12-12T21:33:50.545828Z",
     "shell.execute_reply": "2020-12-12T21:33:50.546362Z"
    },
    "papermill": {
     "duration": 0.026421,
     "end_time": "2020-12-12T21:33:50.546492",
     "exception": false,
     "start_time": "2020-12-12T21:33:50.520071",
     "status": "completed"
    },
    "tags": []
   },
   "outputs": [
    {
     "name": "stdout",
     "output_type": "stream",
     "text": [
      "['V1', 'V2', 'V3', 'V4', 'V5', 'V6', 'V7', 'V8', 'V9', 'V10', 'V11', 'V12', 'V13', 'V14', 'V15', 'V16', 'V17', 'V18', 'V19', 'V20', 'V21', 'V22', 'V23', 'V24', 'V26', 'V27', 'V28']\n"
     ]
    }
   ],
   "source": [
    "# 27 most important features according to our EDA\n",
    "cols = ['V'+str(i) for i in range(1, 29) if i != 25]\n",
    "print(cols)"
   ]
  },
  {
   "cell_type": "code",
   "execution_count": 4,
   "metadata": {
    "execution": {
     "iopub.execute_input": "2020-12-12T21:33:50.583717Z",
     "iopub.status.busy": "2020-12-12T21:33:50.583056Z",
     "iopub.status.idle": "2020-12-12T21:33:50.599917Z",
     "shell.execute_reply": "2020-12-12T21:33:50.599342Z"
    },
    "papermill": {
     "duration": 0.037209,
     "end_time": "2020-12-12T21:33:50.600025",
     "exception": false,
     "start_time": "2020-12-12T21:33:50.562816",
     "status": "completed"
    },
    "tags": []
   },
   "outputs": [],
   "source": [
    "df = credit_card_df.copy()"
   ]
  },
  {
   "cell_type": "code",
   "execution_count": 5,
   "metadata": {
    "execution": {
     "iopub.execute_input": "2020-12-12T21:33:50.638387Z",
     "iopub.status.busy": "2020-12-12T21:33:50.637649Z",
     "iopub.status.idle": "2020-12-12T21:33:50.641345Z",
     "shell.execute_reply": "2020-12-12T21:33:50.640823Z"
    },
    "papermill": {
     "duration": 0.024729,
     "end_time": "2020-12-12T21:33:50.641452",
     "exception": false,
     "start_time": "2020-12-12T21:33:50.616723",
     "status": "completed"
    },
    "tags": []
   },
   "outputs": [],
   "source": [
    "# selecting the features as X and target as y\n",
    "y = df.pop('Class')\n",
    "X = df"
   ]
  },
  {
   "cell_type": "code",
   "execution_count": 6,
   "metadata": {
    "execution": {
     "iopub.execute_input": "2020-12-12T21:33:50.679102Z",
     "iopub.status.busy": "2020-12-12T21:33:50.678536Z",
     "iopub.status.idle": "2020-12-12T21:33:50.681594Z",
     "shell.execute_reply": "2020-12-12T21:33:50.681053Z"
    },
    "papermill": {
     "duration": 0.023472,
     "end_time": "2020-12-12T21:33:50.681694",
     "exception": false,
     "start_time": "2020-12-12T21:33:50.658222",
     "status": "completed"
    },
    "tags": []
   },
   "outputs": [],
   "source": [
    "admin_cost = 2.5"
   ]
  },
  {
   "cell_type": "code",
   "execution_count": 7,
   "metadata": {
    "execution": {
     "iopub.execute_input": "2020-12-12T21:33:50.722472Z",
     "iopub.status.busy": "2020-12-12T21:33:50.721843Z",
     "iopub.status.idle": "2020-12-12T21:33:50.724680Z",
     "shell.execute_reply": "2020-12-12T21:33:50.724167Z"
    },
    "papermill": {
     "duration": 0.026249,
     "end_time": "2020-12-12T21:33:50.724784",
     "exception": false,
     "start_time": "2020-12-12T21:33:50.698535",
     "status": "completed"
    },
    "tags": []
   },
   "outputs": [],
   "source": [
    "# defining a function to calculate cost savings\n",
    "def cost_saving(ytrue, ypred, amount, threshold=0.5, epsilon=1e-7):\n",
    "    ypred = ypred.flatten()\n",
    "    fp = np.sum((ytrue == 0) & (ypred == 1))\n",
    "    cost = np.sum(fp*admin_cost) + np.sum((amount[(ytrue == 1) & (ypred == 0)]))\n",
    "    max_cost = np.sum((amount[(ytrue == 1)])) \n",
    "    savings = 1 - (cost/(max_cost+epsilon))\n",
    "    \n",
    "    return savings"
   ]
  },
  {
   "cell_type": "code",
   "execution_count": 8,
   "metadata": {
    "execution": {
     "iopub.execute_input": "2020-12-12T21:33:50.768998Z",
     "iopub.status.busy": "2020-12-12T21:33:50.768371Z",
     "iopub.status.idle": "2020-12-12T21:33:50.770998Z",
     "shell.execute_reply": "2020-12-12T21:33:50.771541Z"
    },
    "papermill": {
     "duration": 0.030213,
     "end_time": "2020-12-12T21:33:50.771674",
     "exception": false,
     "start_time": "2020-12-12T21:33:50.741461",
     "status": "completed"
    },
    "tags": []
   },
   "outputs": [],
   "source": [
    "class ColumnSelector(BaseEstimator, TransformerMixin):\n",
    "    def __init__(self, cols=cols):\n",
    "        self.cols = cols\n",
    "\n",
    "    def fit(self, X, y=None):\n",
    "        return self\n",
    "\n",
    "    def transform(self, X):\n",
    "        if isinstance(X, pd.DataFrame):\n",
    "            return np.array(X[self.cols])\n",
    "\n",
    "        elif isinstance(X, pd.Series):\n",
    "            return np.array(X[self.cols]).reshape(1, -1)\n",
    "\n",
    "        elif isinstance(X, np.ndarray):\n",
    "            self.cols_ind = [int(col[1:]) for col in self.cols]\n",
    "            if len(X.shape) == 1: # if one dimensional array\n",
    "                return X[self.cols_ind].reshape(1, -1)\n",
    "            return X[:, self.cols_ind]\n",
    "\n",
    "        else:\n",
    "            raise TypeError('expected input type to be any of pd.Series, pd.DataFrame or np.ndarray but got {}'.format(type(X)))"
   ]
  },
  {
   "cell_type": "markdown",
   "metadata": {
    "papermill": {
     "duration": 0.016712,
     "end_time": "2020-12-12T21:33:50.805581",
     "exception": false,
     "start_time": "2020-12-12T21:33:50.788869",
     "status": "completed"
    },
    "tags": []
   },
   "source": [
    "## Serializing model"
   ]
  },
  {
   "cell_type": "code",
   "execution_count": 9,
   "metadata": {
    "execution": {
     "iopub.execute_input": "2020-12-12T21:33:50.869669Z",
     "iopub.status.busy": "2020-12-12T21:33:50.868741Z",
     "iopub.status.idle": "2020-12-12T21:33:51.005713Z",
     "shell.execute_reply": "2020-12-12T21:33:51.005055Z"
    },
    "papermill": {
     "duration": 0.178726,
     "end_time": "2020-12-12T21:33:51.005820",
     "exception": false,
     "start_time": "2020-12-12T21:33:50.827094",
     "status": "completed"
    },
    "tags": []
   },
   "outputs": [],
   "source": [
    "cols_select = ColumnSelector()\n",
    "scaler = StandardScaler()\n",
    "\n",
    "data_prep = Pipeline([('columns', cols_select), ('scaler', scaler)]) # data preparation pipeline\n",
    "\n",
    "X_prep = data_prep.fit_transform(X, y) # fitting and transforming the data"
   ]
  },
  {
   "cell_type": "code",
   "execution_count": 10,
   "metadata": {
    "execution": {
     "iopub.execute_input": "2020-12-12T21:33:51.044816Z",
     "iopub.status.busy": "2020-12-12T21:33:51.044191Z",
     "iopub.status.idle": "2020-12-12T21:33:51.050907Z",
     "shell.execute_reply": "2020-12-12T21:33:51.051426Z"
    },
    "papermill": {
     "duration": 0.028705,
     "end_time": "2020-12-12T21:33:51.051557",
     "exception": false,
     "start_time": "2020-12-12T21:33:51.022852",
     "status": "completed"
    },
    "tags": []
   },
   "outputs": [],
   "source": [
    "# saving the data prep object\n",
    "with gzip.open('data_prep_pipe.gz.dill', 'wb') as f:\n",
    "    dill.dump(data_prep, f)"
   ]
  },
  {
   "cell_type": "code",
   "execution_count": 11,
   "metadata": {
    "execution": {
     "iopub.execute_input": "2020-12-12T21:33:51.088554Z",
     "iopub.status.busy": "2020-12-12T21:33:51.087895Z",
     "iopub.status.idle": "2020-12-12T21:34:44.188435Z",
     "shell.execute_reply": "2020-12-12T21:34:44.189009Z"
    },
    "papermill": {
     "duration": 53.120455,
     "end_time": "2020-12-12T21:34:44.189167",
     "exception": false,
     "start_time": "2020-12-12T21:33:51.068712",
     "status": "completed"
    },
    "tags": []
   },
   "outputs": [],
   "source": [
    "model = XGBClassifier(random_state=1)\n",
    "\n",
    "sample_weights = np.array([X['Amount'].iloc[ind] if fraud else admin_cost for ind, fraud in enumerate(y.values)])\n",
    "\n",
    "model.fit(X_prep, y, sample_weight=sample_weights);"
   ]
  },
  {
   "cell_type": "code",
   "execution_count": 12,
   "metadata": {
    "execution": {
     "iopub.execute_input": "2020-12-12T21:34:44.251126Z",
     "iopub.status.busy": "2020-12-12T21:34:44.250363Z",
     "iopub.status.idle": "2020-12-12T21:34:45.460028Z",
     "shell.execute_reply": "2020-12-12T21:34:45.460448Z"
    },
    "papermill": {
     "duration": 1.249412,
     "end_time": "2020-12-12T21:34:45.460570",
     "exception": false,
     "start_time": "2020-12-12T21:34:44.211158",
     "status": "completed"
    },
    "tags": []
   },
   "outputs": [],
   "source": [
    "calibration = CalibratedClassifierCV(model, method='isotonic', cv='prefit')\n",
    "calibration.fit(X_prep, y);"
   ]
  },
  {
   "cell_type": "code",
   "execution_count": 13,
   "metadata": {
    "execution": {
     "iopub.execute_input": "2020-12-12T21:34:45.496886Z",
     "iopub.status.busy": "2020-12-12T21:34:45.496302Z",
     "iopub.status.idle": "2020-12-12T21:34:45.569543Z",
     "shell.execute_reply": "2020-12-12T21:34:45.569910Z"
    },
    "papermill": {
     "duration": 0.093145,
     "end_time": "2020-12-12T21:34:45.570023",
     "exception": false,
     "start_time": "2020-12-12T21:34:45.476878",
     "status": "completed"
    },
    "tags": []
   },
   "outputs": [],
   "source": [
    "# saving the calibration object\n",
    "with gzip.open('calibration.gz.dill', 'wb') as f:\n",
    "    dill.dump(calibration, f)"
   ]
  },
  {
   "cell_type": "markdown",
   "metadata": {
    "papermill": {
     "duration": 0.012015,
     "end_time": "2020-12-12T21:34:45.594746",
     "exception": false,
     "start_time": "2020-12-12T21:34:45.582731",
     "status": "completed"
    },
    "tags": []
   },
   "source": [
    "## Prediction"
   ]
  },
  {
   "cell_type": "code",
   "execution_count": 14,
   "metadata": {
    "execution": {
     "iopub.execute_input": "2020-12-12T21:34:45.621511Z",
     "iopub.status.busy": "2020-12-12T21:34:45.620880Z",
     "iopub.status.idle": "2020-12-12T21:34:45.628883Z",
     "shell.execute_reply": "2020-12-12T21:34:45.629265Z"
    },
    "papermill": {
     "duration": 0.022518,
     "end_time": "2020-12-12T21:34:45.629368",
     "exception": false,
     "start_time": "2020-12-12T21:34:45.606850",
     "status": "completed"
    },
    "tags": []
   },
   "outputs": [],
   "source": [
    "# defining function to get predictions\n",
    "def get_predictions(X, proba=False):\n",
    "      # loading in useful objects\n",
    "    with gzip.open('data_prep_pipe.gz.dill', 'rb') as f:\n",
    "        data_prep = dill.load(f)\n",
    "\n",
    "    #model = XGBClassifier(random_state=1)\n",
    "    \n",
    "    #model.load_model('xgboost.bin')\n",
    "\n",
    "    with gzip.open('calibration.gz.dill', 'rb') as f:\n",
    "        calibration = dill.load(f)\n",
    "  \n",
    "    Xt = data_prep.transform(X) # prepare (preprocess) the user's input\n",
    "    \n",
    "    \n",
    "\n",
    "    if proba:\n",
    "        pred = calibration.predict_proba(Xt) # gets the probability of belonging to the positvie class\n",
    "\n",
    "        if len(pred.shape) > 1: # pred is 2-dim (multi-input)\n",
    "            pred = pred[:, 1]\n",
    "    \n",
    "        else: # pred is 1-dim (single-input)\n",
    "            pred = pred[1]\n",
    "\n",
    "    else: # get raw predictions\n",
    "        pred = calibration.predict(Xt) # gets the prediction\n",
    "\n",
    "    return pred"
   ]
  },
  {
   "cell_type": "code",
   "execution_count": 15,
   "metadata": {
    "execution": {
     "iopub.execute_input": "2020-12-12T21:34:45.656233Z",
     "iopub.status.busy": "2020-12-12T21:34:45.655633Z",
     "iopub.status.idle": "2020-12-12T21:34:45.884197Z",
     "shell.execute_reply": "2020-12-12T21:34:45.884899Z"
    },
    "papermill": {
     "duration": 0.243392,
     "end_time": "2020-12-12T21:34:45.885083",
     "exception": false,
     "start_time": "2020-12-12T21:34:45.641691",
     "status": "completed"
    },
    "tags": []
   },
   "outputs": [],
   "source": [
    "X_train, X_test, y_train, y_test = train_test_split(X, y, test_size=0.25, stratify=y, random_state=1)"
   ]
  },
  {
   "cell_type": "code",
   "execution_count": 16,
   "metadata": {
    "execution": {
     "iopub.execute_input": "2020-12-12T21:34:45.948155Z",
     "iopub.status.busy": "2020-12-12T21:34:45.947378Z",
     "iopub.status.idle": "2020-12-12T21:34:45.950027Z",
     "shell.execute_reply": "2020-12-12T21:34:45.950696Z"
    },
    "papermill": {
     "duration": 0.036661,
     "end_time": "2020-12-12T21:34:45.950865",
     "exception": false,
     "start_time": "2020-12-12T21:34:45.914204",
     "status": "completed"
    },
    "tags": []
   },
   "outputs": [],
   "source": [
    "def prediction_summary(user_input, ytrue=None):\n",
    "    \"\"\"\n",
    "      This function is both for testing our model when we know the true label of user's input and getting only predictions when we don't know the true labels.\n",
    "\n",
    "      Args:\n",
    "        user_input: \n",
    "          type: any of numpy array, pandas Series or dataframe. \n",
    "\n",
    "          User's input is expected to be for all features apart from 'Class' feature making them 30 in number as arranged in our dataset.\n",
    "\n",
    "        y_true:\n",
    "          type: any of numpy array or pandas Series.\n",
    "          The true labels for user_input\n",
    "\n",
    "    Return:\n",
    "        a dataframe of 'Class' and the probability of 'Class' being fraud. A 'Class' of 1 means fraud, while 0 means not fraud. If ytrue is given;\n",
    "        f1_score and cost saving are also printed out.\n",
    "    \"\"\"\n",
    "    \n",
    "    proba = get_predictions(user_input, proba=True)\n",
    "    pred = get_predictions(user_input)\n",
    "    pred_df = pd.DataFrame({'Class': pred, 'Fraud_Probabilty': proba})\n",
    "\n",
    "    if ytrue is not None: # if we know the true labels, it means we want to test the model and printing out metrics will be useful\n",
    "\n",
    "        if len(user_input.shape) > 1: # if the input has more than 1 row (multi-input)\n",
    "            print('f1_score is {}'.format(f1_score(ytrue, pred)))\n",
    "            if isinstance(user_input, np.ndarray):\n",
    "                amount = user_input[:, -1]\n",
    "            else:\n",
    "                amount = user_input.iloc[:, -1]\n",
    "            print('cost saving is {}'.format(cost_saving(ytrue, pred, amount)))\n",
    "\n",
    "        else: # a single input.\n",
    "            print('f1_score is {}'.format(f1_score(ytrue, pred)))\n",
    "            print('cost saving is {}'.format(cost_saving(ytrue, pred, user_input[-1].reshape(1))))\n",
    "\n",
    "    return pred_df # in any case, finally return the dataframe of predictions."
   ]
  },
  {
   "cell_type": "code",
   "execution_count": 17,
   "metadata": {
    "execution": {
     "iopub.execute_input": "2020-12-12T21:34:45.992626Z",
     "iopub.status.busy": "2020-12-12T21:34:45.991974Z",
     "iopub.status.idle": "2020-12-12T21:34:46.509342Z",
     "shell.execute_reply": "2020-12-12T21:34:46.510369Z"
    },
    "papermill": {
     "duration": 0.539535,
     "end_time": "2020-12-12T21:34:46.510580",
     "exception": false,
     "start_time": "2020-12-12T21:34:45.971045",
     "status": "completed"
    },
    "tags": []
   },
   "outputs": [
    {
     "name": "stdout",
     "output_type": "stream",
     "text": [
      "f1_score is 1.0\n",
      "cost saving is 1.0\n"
     ]
    },
    {
     "data": {
      "text/html": [
       "<div>\n",
       "<style scoped>\n",
       "    .dataframe tbody tr th:only-of-type {\n",
       "        vertical-align: middle;\n",
       "    }\n",
       "\n",
       "    .dataframe tbody tr th {\n",
       "        vertical-align: top;\n",
       "    }\n",
       "\n",
       "    .dataframe thead th {\n",
       "        text-align: right;\n",
       "    }\n",
       "</style>\n",
       "<table border=\"1\" class=\"dataframe\">\n",
       "  <thead>\n",
       "    <tr style=\"text-align: right;\">\n",
       "      <th></th>\n",
       "      <th>Class</th>\n",
       "      <th>Fraud_Probabilty</th>\n",
       "    </tr>\n",
       "  </thead>\n",
       "  <tbody>\n",
       "    <tr>\n",
       "      <th>0</th>\n",
       "      <td>0</td>\n",
       "      <td>0.000000</td>\n",
       "    </tr>\n",
       "    <tr>\n",
       "      <th>1</th>\n",
       "      <td>0</td>\n",
       "      <td>0.000000</td>\n",
       "    </tr>\n",
       "    <tr>\n",
       "      <th>2</th>\n",
       "      <td>0</td>\n",
       "      <td>0.000000</td>\n",
       "    </tr>\n",
       "    <tr>\n",
       "      <th>3</th>\n",
       "      <td>0</td>\n",
       "      <td>0.000000</td>\n",
       "    </tr>\n",
       "    <tr>\n",
       "      <th>4</th>\n",
       "      <td>0</td>\n",
       "      <td>0.000007</td>\n",
       "    </tr>\n",
       "  </tbody>\n",
       "</table>\n",
       "</div>"
      ],
      "text/plain": [
       "   Class  Fraud_Probabilty\n",
       "0      0          0.000000\n",
       "1      0          0.000000\n",
       "2      0          0.000000\n",
       "3      0          0.000000\n",
       "4      0          0.000007"
      ]
     },
     "execution_count": 17,
     "metadata": {},
     "output_type": "execute_result"
    }
   ],
   "source": [
    "result = prediction_summary(X_test, y_test)\n",
    "result.head()"
   ]
  },
  {
   "cell_type": "code",
   "execution_count": 18,
   "metadata": {
    "execution": {
     "iopub.execute_input": "2020-12-12T21:34:46.564398Z",
     "iopub.status.busy": "2020-12-12T21:34:46.563668Z",
     "iopub.status.idle": "2020-12-12T21:34:46.577840Z",
     "shell.execute_reply": "2020-12-12T21:34:46.578546Z"
    },
    "papermill": {
     "duration": 0.044368,
     "end_time": "2020-12-12T21:34:46.578697",
     "exception": false,
     "start_time": "2020-12-12T21:34:46.534329",
     "status": "completed"
    },
    "tags": []
   },
   "outputs": [
    {
     "data": {
      "text/html": [
       "<div>\n",
       "<style scoped>\n",
       "    .dataframe tbody tr th:only-of-type {\n",
       "        vertical-align: middle;\n",
       "    }\n",
       "\n",
       "    .dataframe tbody tr th {\n",
       "        vertical-align: top;\n",
       "    }\n",
       "\n",
       "    .dataframe thead th {\n",
       "        text-align: right;\n",
       "    }\n",
       "</style>\n",
       "<table border=\"1\" class=\"dataframe\">\n",
       "  <thead>\n",
       "    <tr style=\"text-align: right;\">\n",
       "      <th></th>\n",
       "      <th>Class</th>\n",
       "      <th>Fraud_Probabilty</th>\n",
       "    </tr>\n",
       "  </thead>\n",
       "  <tbody>\n",
       "    <tr>\n",
       "      <th>4</th>\n",
       "      <td>0</td>\n",
       "      <td>0.000007</td>\n",
       "    </tr>\n",
       "    <tr>\n",
       "      <th>5</th>\n",
       "      <td>0</td>\n",
       "      <td>0.000007</td>\n",
       "    </tr>\n",
       "    <tr>\n",
       "      <th>7</th>\n",
       "      <td>0</td>\n",
       "      <td>0.000007</td>\n",
       "    </tr>\n",
       "    <tr>\n",
       "      <th>10</th>\n",
       "      <td>0</td>\n",
       "      <td>0.000007</td>\n",
       "    </tr>\n",
       "    <tr>\n",
       "      <th>11</th>\n",
       "      <td>0</td>\n",
       "      <td>0.000007</td>\n",
       "    </tr>\n",
       "  </tbody>\n",
       "</table>\n",
       "</div>"
      ],
      "text/plain": [
       "    Class  Fraud_Probabilty\n",
       "4       0          0.000007\n",
       "5       0          0.000007\n",
       "7       0          0.000007\n",
       "10      0          0.000007\n",
       "11      0          0.000007"
      ]
     },
     "execution_count": 18,
     "metadata": {},
     "output_type": "execute_result"
    }
   ],
   "source": [
    "result[(result['Fraud_Probabilty'] > 0) & (result['Fraud_Probabilty'] < 1)].head()"
   ]
  },
  {
   "cell_type": "code",
   "execution_count": 19,
   "metadata": {
    "execution": {
     "iopub.execute_input": "2020-12-12T21:34:46.633669Z",
     "iopub.status.busy": "2020-12-12T21:34:46.632958Z",
     "iopub.status.idle": "2020-12-12T21:34:46.661843Z",
     "shell.execute_reply": "2020-12-12T21:34:46.662745Z"
    },
    "papermill": {
     "duration": 0.059749,
     "end_time": "2020-12-12T21:34:46.662949",
     "exception": false,
     "start_time": "2020-12-12T21:34:46.603200",
     "status": "completed"
    },
    "tags": []
   },
   "outputs": [
    {
     "name": "stdout",
     "output_type": "stream",
     "text": [
      "f1_score is 0.0\n",
      "cost saving is 1.0\n"
     ]
    },
    {
     "data": {
      "text/html": [
       "<div>\n",
       "<style scoped>\n",
       "    .dataframe tbody tr th:only-of-type {\n",
       "        vertical-align: middle;\n",
       "    }\n",
       "\n",
       "    .dataframe tbody tr th {\n",
       "        vertical-align: top;\n",
       "    }\n",
       "\n",
       "    .dataframe thead th {\n",
       "        text-align: right;\n",
       "    }\n",
       "</style>\n",
       "<table border=\"1\" class=\"dataframe\">\n",
       "  <thead>\n",
       "    <tr style=\"text-align: right;\">\n",
       "      <th></th>\n",
       "      <th>Class</th>\n",
       "      <th>Fraud_Probabilty</th>\n",
       "    </tr>\n",
       "  </thead>\n",
       "  <tbody>\n",
       "    <tr>\n",
       "      <th>0</th>\n",
       "      <td>0</td>\n",
       "      <td>0.0</td>\n",
       "    </tr>\n",
       "  </tbody>\n",
       "</table>\n",
       "</div>"
      ],
      "text/plain": [
       "   Class  Fraud_Probabilty\n",
       "0      0               0.0"
      ]
     },
     "execution_count": 19,
     "metadata": {},
     "output_type": "execute_result"
    }
   ],
   "source": [
    "prediction_summary(X_test.iloc[0].values, np.array([0]))"
   ]
  },
  {
   "cell_type": "markdown",
   "metadata": {
    "papermill": {
     "duration": 0.02542,
     "end_time": "2020-12-12T21:34:46.714143",
     "exception": false,
     "start_time": "2020-12-12T21:34:46.688723",
     "status": "completed"
    },
    "tags": []
   },
   "source": [
    "## The exceptionaly good results is due to the fact that we trained our whole dataset. This is for deployment and is to check if our model is predicting and it is not for model evaluation. So, don't bother about the perfect scores."
   ]
  }
 ],
 "metadata": {
  "kernelspec": {
   "display_name": "Python 3",
   "language": "python",
   "name": "python3"
  },
  "language_info": {
   "codemirror_mode": {
    "name": "ipython",
    "version": 3
   },
   "file_extension": ".py",
   "mimetype": "text/x-python",
   "name": "python",
   "nbconvert_exporter": "python",
   "pygments_lexer": "ipython3",
   "version": "3.7.6"
  },
  "papermill": {
   "duration": 66.202083,
   "end_time": "2020-12-12T21:34:46.847459",
   "environment_variables": {},
   "exception": null,
   "input_path": "__notebook__.ipynb",
   "output_path": "__notebook__.ipynb",
   "parameters": {},
   "start_time": "2020-12-12T21:33:40.645376",
   "version": "2.1.0"
  }
 },
 "nbformat": 4,
 "nbformat_minor": 4
}
