{
 "cells": [
  {
   "cell_type": "markdown",
   "metadata": {
    "papermill": {
     "duration": 0.024222,
     "end_time": "2020-12-05T10:27:14.208009",
     "exception": false,
     "start_time": "2020-12-05T10:27:14.183787",
     "status": "completed"
    },
    "tags": []
   },
   "source": [
    "## Baseline model (Logistic Regression)"
   ]
  },
  {
   "cell_type": "code",
   "execution_count": 1,
   "metadata": {
    "_cell_guid": "79c7e3d0-c299-4dcb-8224-4455121ee9b0",
    "_uuid": "d629ff2d2480ee46fbb7e2d37f6b5fab8052498a",
    "execution": {
     "iopub.execute_input": "2020-12-05T10:27:14.265819Z",
     "iopub.status.busy": "2020-12-05T10:27:14.262235Z",
     "iopub.status.idle": "2020-12-05T10:27:15.463152Z",
     "shell.execute_reply": "2020-12-05T10:27:15.462228Z"
    },
    "papermill": {
     "duration": 1.232475,
     "end_time": "2020-12-05T10:27:15.463289",
     "exception": false,
     "start_time": "2020-12-05T10:27:14.230814",
     "status": "completed"
    },
    "tags": []
   },
   "outputs": [],
   "source": [
    "# importing useful libraries\n",
    "\n",
    "import numpy as np\n",
    "import pandas as pd\n",
    "import matplotlib.pyplot as plt\n",
    "import seaborn as sns\n",
    "\n",
    "from sklearn.linear_model import LogisticRegression\n",
    "from sklearn.model_selection import StratifiedKFold, cross_validate\n",
    "from sklearn.preprocessing import StandardScaler\n",
    "from sklearn.metrics import f1_score\n",
    "\n",
    "import warnings\n",
    "warnings.filterwarnings('ignore')\n",
    "\n",
    "%matplotlib inline"
   ]
  },
  {
   "cell_type": "code",
   "execution_count": 2,
   "metadata": {
    "execution": {
     "iopub.execute_input": "2020-12-05T10:27:15.546192Z",
     "iopub.status.busy": "2020-12-05T10:27:15.545336Z",
     "iopub.status.idle": "2020-12-05T10:27:19.860937Z",
     "shell.execute_reply": "2020-12-05T10:27:19.859882Z"
    },
    "papermill": {
     "duration": 4.361245,
     "end_time": "2020-12-05T10:27:19.861086",
     "exception": false,
     "start_time": "2020-12-05T10:27:15.499841",
     "status": "completed"
    },
    "tags": []
   },
   "outputs": [
    {
     "name": "stdout",
     "output_type": "stream",
     "text": [
      "(284807, 31)\n"
     ]
    },
    {
     "data": {
      "text/html": [
       "<div>\n",
       "<style scoped>\n",
       "    .dataframe tbody tr th:only-of-type {\n",
       "        vertical-align: middle;\n",
       "    }\n",
       "\n",
       "    .dataframe tbody tr th {\n",
       "        vertical-align: top;\n",
       "    }\n",
       "\n",
       "    .dataframe thead th {\n",
       "        text-align: right;\n",
       "    }\n",
       "</style>\n",
       "<table border=\"1\" class=\"dataframe\">\n",
       "  <thead>\n",
       "    <tr style=\"text-align: right;\">\n",
       "      <th></th>\n",
       "      <th>Time</th>\n",
       "      <th>V1</th>\n",
       "      <th>V2</th>\n",
       "      <th>V3</th>\n",
       "      <th>V4</th>\n",
       "      <th>V5</th>\n",
       "      <th>V6</th>\n",
       "      <th>V7</th>\n",
       "      <th>V8</th>\n",
       "      <th>V9</th>\n",
       "      <th>...</th>\n",
       "      <th>V21</th>\n",
       "      <th>V22</th>\n",
       "      <th>V23</th>\n",
       "      <th>V24</th>\n",
       "      <th>V25</th>\n",
       "      <th>V26</th>\n",
       "      <th>V27</th>\n",
       "      <th>V28</th>\n",
       "      <th>Amount</th>\n",
       "      <th>Class</th>\n",
       "    </tr>\n",
       "  </thead>\n",
       "  <tbody>\n",
       "    <tr>\n",
       "      <th>0</th>\n",
       "      <td>0.0</td>\n",
       "      <td>-1.359807</td>\n",
       "      <td>-0.072781</td>\n",
       "      <td>2.536347</td>\n",
       "      <td>1.378155</td>\n",
       "      <td>-0.338321</td>\n",
       "      <td>0.462388</td>\n",
       "      <td>0.239599</td>\n",
       "      <td>0.098698</td>\n",
       "      <td>0.363787</td>\n",
       "      <td>...</td>\n",
       "      <td>-0.018307</td>\n",
       "      <td>0.277838</td>\n",
       "      <td>-0.110474</td>\n",
       "      <td>0.066928</td>\n",
       "      <td>0.128539</td>\n",
       "      <td>-0.189115</td>\n",
       "      <td>0.133558</td>\n",
       "      <td>-0.021053</td>\n",
       "      <td>149.62</td>\n",
       "      <td>0</td>\n",
       "    </tr>\n",
       "    <tr>\n",
       "      <th>1</th>\n",
       "      <td>0.0</td>\n",
       "      <td>1.191857</td>\n",
       "      <td>0.266151</td>\n",
       "      <td>0.166480</td>\n",
       "      <td>0.448154</td>\n",
       "      <td>0.060018</td>\n",
       "      <td>-0.082361</td>\n",
       "      <td>-0.078803</td>\n",
       "      <td>0.085102</td>\n",
       "      <td>-0.255425</td>\n",
       "      <td>...</td>\n",
       "      <td>-0.225775</td>\n",
       "      <td>-0.638672</td>\n",
       "      <td>0.101288</td>\n",
       "      <td>-0.339846</td>\n",
       "      <td>0.167170</td>\n",
       "      <td>0.125895</td>\n",
       "      <td>-0.008983</td>\n",
       "      <td>0.014724</td>\n",
       "      <td>2.69</td>\n",
       "      <td>0</td>\n",
       "    </tr>\n",
       "    <tr>\n",
       "      <th>2</th>\n",
       "      <td>1.0</td>\n",
       "      <td>-1.358354</td>\n",
       "      <td>-1.340163</td>\n",
       "      <td>1.773209</td>\n",
       "      <td>0.379780</td>\n",
       "      <td>-0.503198</td>\n",
       "      <td>1.800499</td>\n",
       "      <td>0.791461</td>\n",
       "      <td>0.247676</td>\n",
       "      <td>-1.514654</td>\n",
       "      <td>...</td>\n",
       "      <td>0.247998</td>\n",
       "      <td>0.771679</td>\n",
       "      <td>0.909412</td>\n",
       "      <td>-0.689281</td>\n",
       "      <td>-0.327642</td>\n",
       "      <td>-0.139097</td>\n",
       "      <td>-0.055353</td>\n",
       "      <td>-0.059752</td>\n",
       "      <td>378.66</td>\n",
       "      <td>0</td>\n",
       "    </tr>\n",
       "    <tr>\n",
       "      <th>3</th>\n",
       "      <td>1.0</td>\n",
       "      <td>-0.966272</td>\n",
       "      <td>-0.185226</td>\n",
       "      <td>1.792993</td>\n",
       "      <td>-0.863291</td>\n",
       "      <td>-0.010309</td>\n",
       "      <td>1.247203</td>\n",
       "      <td>0.237609</td>\n",
       "      <td>0.377436</td>\n",
       "      <td>-1.387024</td>\n",
       "      <td>...</td>\n",
       "      <td>-0.108300</td>\n",
       "      <td>0.005274</td>\n",
       "      <td>-0.190321</td>\n",
       "      <td>-1.175575</td>\n",
       "      <td>0.647376</td>\n",
       "      <td>-0.221929</td>\n",
       "      <td>0.062723</td>\n",
       "      <td>0.061458</td>\n",
       "      <td>123.50</td>\n",
       "      <td>0</td>\n",
       "    </tr>\n",
       "    <tr>\n",
       "      <th>4</th>\n",
       "      <td>2.0</td>\n",
       "      <td>-1.158233</td>\n",
       "      <td>0.877737</td>\n",
       "      <td>1.548718</td>\n",
       "      <td>0.403034</td>\n",
       "      <td>-0.407193</td>\n",
       "      <td>0.095921</td>\n",
       "      <td>0.592941</td>\n",
       "      <td>-0.270533</td>\n",
       "      <td>0.817739</td>\n",
       "      <td>...</td>\n",
       "      <td>-0.009431</td>\n",
       "      <td>0.798278</td>\n",
       "      <td>-0.137458</td>\n",
       "      <td>0.141267</td>\n",
       "      <td>-0.206010</td>\n",
       "      <td>0.502292</td>\n",
       "      <td>0.219422</td>\n",
       "      <td>0.215153</td>\n",
       "      <td>69.99</td>\n",
       "      <td>0</td>\n",
       "    </tr>\n",
       "  </tbody>\n",
       "</table>\n",
       "<p>5 rows × 31 columns</p>\n",
       "</div>"
      ],
      "text/plain": [
       "   Time        V1        V2        V3        V4        V5        V6        V7  \\\n",
       "0   0.0 -1.359807 -0.072781  2.536347  1.378155 -0.338321  0.462388  0.239599   \n",
       "1   0.0  1.191857  0.266151  0.166480  0.448154  0.060018 -0.082361 -0.078803   \n",
       "2   1.0 -1.358354 -1.340163  1.773209  0.379780 -0.503198  1.800499  0.791461   \n",
       "3   1.0 -0.966272 -0.185226  1.792993 -0.863291 -0.010309  1.247203  0.237609   \n",
       "4   2.0 -1.158233  0.877737  1.548718  0.403034 -0.407193  0.095921  0.592941   \n",
       "\n",
       "         V8        V9  ...       V21       V22       V23       V24       V25  \\\n",
       "0  0.098698  0.363787  ... -0.018307  0.277838 -0.110474  0.066928  0.128539   \n",
       "1  0.085102 -0.255425  ... -0.225775 -0.638672  0.101288 -0.339846  0.167170   \n",
       "2  0.247676 -1.514654  ...  0.247998  0.771679  0.909412 -0.689281 -0.327642   \n",
       "3  0.377436 -1.387024  ... -0.108300  0.005274 -0.190321 -1.175575  0.647376   \n",
       "4 -0.270533  0.817739  ... -0.009431  0.798278 -0.137458  0.141267 -0.206010   \n",
       "\n",
       "        V26       V27       V28  Amount  Class  \n",
       "0 -0.189115  0.133558 -0.021053  149.62      0  \n",
       "1  0.125895 -0.008983  0.014724    2.69      0  \n",
       "2 -0.139097 -0.055353 -0.059752  378.66      0  \n",
       "3 -0.221929  0.062723  0.061458  123.50      0  \n",
       "4  0.502292  0.219422  0.215153   69.99      0  \n",
       "\n",
       "[5 rows x 31 columns]"
      ]
     },
     "execution_count": 2,
     "metadata": {},
     "output_type": "execute_result"
    }
   ],
   "source": [
    "# loading in the dataset\n",
    "df = pd.read_csv('../input/creditcardfraud/creditcard.csv')\n",
    "print(df.shape)\n",
    "df.head()"
   ]
  },
  {
   "cell_type": "code",
   "execution_count": 3,
   "metadata": {
    "execution": {
     "iopub.execute_input": "2020-12-05T10:27:19.929659Z",
     "iopub.status.busy": "2020-12-05T10:27:19.928746Z",
     "iopub.status.idle": "2020-12-05T10:27:19.934370Z",
     "shell.execute_reply": "2020-12-05T10:27:19.933832Z"
    },
    "papermill": {
     "duration": 0.03637,
     "end_time": "2020-12-05T10:27:19.934469",
     "exception": false,
     "start_time": "2020-12-05T10:27:19.898099",
     "status": "completed"
    },
    "tags": []
   },
   "outputs": [
    {
     "name": "stdout",
     "output_type": "stream",
     "text": [
      "['V1', 'V2', 'V3', 'V4', 'V5', 'V6', 'V7', 'V8', 'V9', 'V10', 'V11', 'V12', 'V13', 'V14', 'V15', 'V16', 'V17', 'V18', 'V19', 'V20', 'V21', 'V22', 'V23', 'V24', 'V26', 'V27', 'V28']\n"
     ]
    }
   ],
   "source": [
    "# 27 most important features according to our EDA\n",
    "cols = ['V'+str(i) for i in range(1, 29) if i != 25]\n",
    "print(cols)"
   ]
  },
  {
   "cell_type": "code",
   "execution_count": 4,
   "metadata": {
    "execution": {
     "iopub.execute_input": "2020-12-05T10:27:20.011699Z",
     "iopub.status.busy": "2020-12-05T10:27:20.010919Z",
     "iopub.status.idle": "2020-12-05T10:27:20.017578Z",
     "shell.execute_reply": "2020-12-05T10:27:20.016900Z"
    },
    "papermill": {
     "duration": 0.059279,
     "end_time": "2020-12-05T10:27:20.017690",
     "exception": false,
     "start_time": "2020-12-05T10:27:19.958411",
     "status": "completed"
    },
    "tags": []
   },
   "outputs": [
    {
     "data": {
      "text/plain": [
       "(284807, 27)"
      ]
     },
     "execution_count": 4,
     "metadata": {},
     "output_type": "execute_result"
    }
   ],
   "source": [
    "# selecting the 27 most important features according to our EDA \n",
    "X = df[cols]\n",
    "\n",
    "y = df['Class'] # selecting the target variable\n",
    "\n",
    "X.shape"
   ]
  },
  {
   "cell_type": "code",
   "execution_count": 5,
   "metadata": {
    "execution": {
     "iopub.execute_input": "2020-12-05T10:27:20.075918Z",
     "iopub.status.busy": "2020-12-05T10:27:20.074892Z",
     "iopub.status.idle": "2020-12-05T10:27:20.105623Z",
     "shell.execute_reply": "2020-12-05T10:27:20.104776Z"
    },
    "papermill": {
     "duration": 0.062135,
     "end_time": "2020-12-05T10:27:20.105748",
     "exception": false,
     "start_time": "2020-12-05T10:27:20.043613",
     "status": "completed"
    },
    "tags": []
   },
   "outputs": [
    {
     "data": {
      "text/plain": [
       "{0: 3.51722561243691e-06, 1: 0.0020325203252032522}"
      ]
     },
     "execution_count": 5,
     "metadata": {},
     "output_type": "execute_result"
    }
   ],
   "source": [
    "val_count = df['Class'].value_counts()\n",
    "weights = dict(1 / val_count) # to be used as class weights\n",
    "weights"
   ]
  },
  {
   "cell_type": "markdown",
   "metadata": {
    "papermill": {
     "duration": 0.037852,
     "end_time": "2020-12-05T10:27:20.182002",
     "exception": false,
     "start_time": "2020-12-05T10:27:20.144150",
     "status": "completed"
    },
    "tags": []
   },
   "source": [
    "## <center>Cost matrix for fraud detection</center>\n",
    "\n",
    "||Actual Positive|Actual Negative|\n",
    "|:-:|:-:|:-:|\n",
    "|**Predicted Positive**|administrative cost|administrative cost|\n",
    "|**Predicted Negative**|transactional cost|0|"
   ]
  },
  {
   "cell_type": "markdown",
   "metadata": {
    "papermill": {
     "duration": 0.037545,
     "end_time": "2020-12-05T10:27:20.257622",
     "exception": false,
     "start_time": "2020-12-05T10:27:20.220077",
     "status": "completed"
    },
    "tags": []
   },
   "source": [
    "### *see [this article](https://towardsdatascience.com/fraud-detection-with-cost-sensitive-machine-learning-24b8760d35d9) for more about cost sensitive machine learning for fraud detection*"
   ]
  },
  {
   "cell_type": "code",
   "execution_count": 6,
   "metadata": {
    "execution": {
     "iopub.execute_input": "2020-12-05T10:27:20.340047Z",
     "iopub.status.busy": "2020-12-05T10:27:20.339049Z",
     "iopub.status.idle": "2020-12-05T10:27:20.343528Z",
     "shell.execute_reply": "2020-12-05T10:27:20.342711Z"
    },
    "papermill": {
     "duration": 0.04785,
     "end_time": "2020-12-05T10:27:20.343647",
     "exception": false,
     "start_time": "2020-12-05T10:27:20.295797",
     "status": "completed"
    },
    "tags": []
   },
   "outputs": [],
   "source": [
    "admin_cost = 2.5"
   ]
  },
  {
   "cell_type": "markdown",
   "metadata": {
    "papermill": {
     "duration": 0.038346,
     "end_time": "2020-12-05T10:27:20.420979",
     "exception": false,
     "start_time": "2020-12-05T10:27:20.382633",
     "status": "completed"
    },
    "tags": []
   },
   "source": [
    "### our choice of using 2.5euros as the administartive cost because it seems to be the best for our problem as suggested by [this paper](https://www.researchgate.net/publication/262390835_Cost_Sensitive_Credit_Card_Fraud_Detection_Using_Bayes_Minimum_Risk)"
   ]
  },
  {
   "cell_type": "markdown",
   "metadata": {
    "papermill": {
     "duration": 0.036643,
     "end_time": "2020-12-05T10:27:20.494932",
     "exception": false,
     "start_time": "2020-12-05T10:27:20.458289",
     "status": "completed"
    },
    "tags": []
   },
   "source": [
    "## Also, implementing cost sensitive models for sklearn's classifier is challenging. It is as good as creating a new model from the scratch. For simplicity, we will not penalize our model of True Positives (although, the cost matrix suggests we should penalize it for true positives). This will mean that we are only penalizing MISCLASSIFICATIONS (trying to minimize costs due to misclassification and not cost in general)."
   ]
  },
  {
   "cell_type": "code",
   "execution_count": 7,
   "metadata": {
    "execution": {
     "iopub.execute_input": "2020-12-05T10:27:20.579274Z",
     "iopub.status.busy": "2020-12-05T10:27:20.578282Z",
     "iopub.status.idle": "2020-12-05T10:27:20.583249Z",
     "shell.execute_reply": "2020-12-05T10:27:20.582394Z"
    },
    "papermill": {
     "duration": 0.050899,
     "end_time": "2020-12-05T10:27:20.583379",
     "exception": false,
     "start_time": "2020-12-05T10:27:20.532480",
     "status": "completed"
    },
    "tags": []
   },
   "outputs": [],
   "source": [
    "# defining a function to calculate cost savings\n",
    "def cost_saving(ytrue, ypred, amount):\n",
    "    fp = np.sum((ytrue == 0) & (ypred == 1))\n",
    "    cost = np.sum(fp*admin_cost) + np.sum((amount[(ytrue == 1) & (ypred == 0)]))\n",
    "    max_cost = np.sum((amount[(ytrue == 1)]))\n",
    "    savings = 1 - (cost/max_cost)\n",
    "    \n",
    "    return savings"
   ]
  },
  {
   "cell_type": "code",
   "execution_count": 8,
   "metadata": {
    "execution": {
     "iopub.execute_input": "2020-12-05T10:27:20.665980Z",
     "iopub.status.busy": "2020-12-05T10:27:20.665126Z",
     "iopub.status.idle": "2020-12-05T10:27:20.669812Z",
     "shell.execute_reply": "2020-12-05T10:27:20.668980Z"
    },
    "papermill": {
     "duration": 0.047887,
     "end_time": "2020-12-05T10:27:20.669970",
     "exception": false,
     "start_time": "2020-12-05T10:27:20.622083",
     "status": "completed"
    },
    "tags": []
   },
   "outputs": [],
   "source": [
    "cv = StratifiedKFold(n_splits=4, shuffle=True, random_state=1)"
   ]
  },
  {
   "cell_type": "code",
   "execution_count": 9,
   "metadata": {
    "execution": {
     "iopub.execute_input": "2020-12-05T10:27:20.756281Z",
     "iopub.status.busy": "2020-12-05T10:27:20.755576Z",
     "iopub.status.idle": "2020-12-05T10:27:20.759966Z",
     "shell.execute_reply": "2020-12-05T10:27:20.759125Z"
    },
    "papermill": {
     "duration": 0.050992,
     "end_time": "2020-12-05T10:27:20.760089",
     "exception": false,
     "start_time": "2020-12-05T10:27:20.709097",
     "status": "completed"
    },
    "tags": []
   },
   "outputs": [],
   "source": [
    "# defining a function to calculate cost saving per fold (splits) of our cv\n",
    "def cost_saving_per_split(scores, x, y, cv_object):\n",
    "    results = []\n",
    "    for i, (_, test_ind) in zip(range(cv_object.n_splits), cv_object.split(x, y)):\n",
    "        ypred = scores['estimator'][i].predict(x[test_ind])\n",
    "        ytrue = y[test_ind]\n",
    "        amount = df['Amount'].values[test_ind]\n",
    "        results.append(cost_saving(ytrue, ypred, amount))\n",
    "        \n",
    "    return results"
   ]
  },
  {
   "cell_type": "code",
   "execution_count": 10,
   "metadata": {
    "execution": {
     "iopub.execute_input": "2020-12-05T10:27:20.848166Z",
     "iopub.status.busy": "2020-12-05T10:27:20.847230Z",
     "iopub.status.idle": "2020-12-05T10:27:20.851459Z",
     "shell.execute_reply": "2020-12-05T10:27:20.851977Z"
    },
    "papermill": {
     "duration": 0.053171,
     "end_time": "2020-12-05T10:27:20.852124",
     "exception": false,
     "start_time": "2020-12-05T10:27:20.798953",
     "status": "completed"
    },
    "tags": []
   },
   "outputs": [],
   "source": [
    "# defining a function to return a dataframe of metrics results for each fold in our cv\n",
    "def get_metric_scores(scores, x, y=y, cv_object=cv):\n",
    "    ind = ['split_'+str(n) for n in range(1, cv_object.n_splits+1)]\n",
    "    \n",
    "    scores_df = pd.DataFrame(index=ind)\n",
    "    \n",
    "    scores_df['f1_score'] = scores['test_f1']\n",
    "    scores_df['auc_pr'] = scores['test_average_precision']\n",
    "    scores_df['cost_savings'] = cost_saving_per_split(scores, x, y, cv_object)\n",
    "\n",
    "    return scores_df"
   ]
  },
  {
   "cell_type": "code",
   "execution_count": 11,
   "metadata": {
    "execution": {
     "iopub.execute_input": "2020-12-05T10:27:20.909893Z",
     "iopub.status.busy": "2020-12-05T10:27:20.909032Z",
     "iopub.status.idle": "2020-12-05T10:27:20.914929Z",
     "shell.execute_reply": "2020-12-05T10:27:20.914204Z"
    },
    "papermill": {
     "duration": 0.036973,
     "end_time": "2020-12-05T10:27:20.915058",
     "exception": false,
     "start_time": "2020-12-05T10:27:20.878085",
     "status": "completed"
    },
    "tags": []
   },
   "outputs": [],
   "source": [
    "from sklearn.pipeline import Pipeline"
   ]
  },
  {
   "cell_type": "markdown",
   "metadata": {
    "papermill": {
     "duration": 0.038672,
     "end_time": "2020-12-05T10:27:20.992724",
     "exception": false,
     "start_time": "2020-12-05T10:27:20.954052",
     "status": "completed"
    },
    "tags": []
   },
   "source": [
    "## Fraud Sensitive model (Not cost sensitive)"
   ]
  },
  {
   "cell_type": "code",
   "execution_count": null,
   "metadata": {
    "papermill": {
     "duration": 0.038402,
     "end_time": "2020-12-05T10:27:21.070231",
     "exception": false,
     "start_time": "2020-12-05T10:27:21.031829",
     "status": "completed"
    },
    "tags": []
   },
   "outputs": [],
   "source": []
  },
  {
   "cell_type": "code",
   "execution_count": 12,
   "metadata": {
    "execution": {
     "iopub.execute_input": "2020-12-05T10:27:21.155516Z",
     "iopub.status.busy": "2020-12-05T10:27:21.154678Z",
     "iopub.status.idle": "2020-12-05T10:27:24.946109Z",
     "shell.execute_reply": "2020-12-05T10:27:24.945093Z"
    },
    "papermill": {
     "duration": 3.837355,
     "end_time": "2020-12-05T10:27:24.946287",
     "exception": false,
     "start_time": "2020-12-05T10:27:21.108932",
     "status": "completed"
    },
    "tags": []
   },
   "outputs": [],
   "source": [
    "fraud_sensitive_model = LogisticRegression(class_weight=weights)\n",
    "fraud_sensitive_scaler = StandardScaler()\n",
    "\n",
    "fraud_sensitive_pipe = Pipeline([('scaler', fraud_sensitive_scaler), ('model', fraud_sensitive_model)])\n",
    "\n",
    "fraud_sensitive_scores = cross_validate(fraud_sensitive_pipe, np.array(X), y, \\\n",
    "                            scoring=['f1', 'average_precision'], cv=cv, n_jobs=4, \\\n",
    "                                        return_estimator=True, error_score='raise')"
   ]
  },
  {
   "cell_type": "markdown",
   "metadata": {
    "papermill": {
     "duration": 0.0412,
     "end_time": "2020-12-05T10:27:25.039262",
     "exception": false,
     "start_time": "2020-12-05T10:27:24.998062",
     "status": "completed"
    },
    "tags": []
   },
   "source": [
    "### Note: we used cross_validate because it can take more than one scoring metrics and it can also return the fitting model for each fold."
   ]
  },
  {
   "cell_type": "code",
   "execution_count": 13,
   "metadata": {
    "execution": {
     "iopub.execute_input": "2020-12-05T10:27:25.125199Z",
     "iopub.status.busy": "2020-12-05T10:27:25.124086Z",
     "iopub.status.idle": "2020-12-05T10:27:25.360977Z",
     "shell.execute_reply": "2020-12-05T10:27:25.361747Z"
    },
    "papermill": {
     "duration": 0.282939,
     "end_time": "2020-12-05T10:27:25.361928",
     "exception": false,
     "start_time": "2020-12-05T10:27:25.078989",
     "status": "completed"
    },
    "tags": []
   },
   "outputs": [
    {
     "data": {
      "text/html": [
       "<div>\n",
       "<style scoped>\n",
       "    .dataframe tbody tr th:only-of-type {\n",
       "        vertical-align: middle;\n",
       "    }\n",
       "\n",
       "    .dataframe tbody tr th {\n",
       "        vertical-align: top;\n",
       "    }\n",
       "\n",
       "    .dataframe thead th {\n",
       "        text-align: right;\n",
       "    }\n",
       "</style>\n",
       "<table border=\"1\" class=\"dataframe\">\n",
       "  <thead>\n",
       "    <tr style=\"text-align: right;\">\n",
       "      <th></th>\n",
       "      <th>f1_score</th>\n",
       "      <th>auc_pr</th>\n",
       "      <th>cost_savings</th>\n",
       "    </tr>\n",
       "  </thead>\n",
       "  <tbody>\n",
       "    <tr>\n",
       "      <th>split_1</th>\n",
       "      <td>0.655844</td>\n",
       "      <td>0.679148</td>\n",
       "      <td>0.729976</td>\n",
       "    </tr>\n",
       "    <tr>\n",
       "      <th>split_2</th>\n",
       "      <td>0.710526</td>\n",
       "      <td>0.804134</td>\n",
       "      <td>0.746475</td>\n",
       "    </tr>\n",
       "    <tr>\n",
       "      <th>split_3</th>\n",
       "      <td>0.753521</td>\n",
       "      <td>0.777717</td>\n",
       "      <td>0.810251</td>\n",
       "    </tr>\n",
       "    <tr>\n",
       "      <th>split_4</th>\n",
       "      <td>0.691781</td>\n",
       "      <td>0.737701</td>\n",
       "      <td>0.727477</td>\n",
       "    </tr>\n",
       "  </tbody>\n",
       "</table>\n",
       "</div>"
      ],
      "text/plain": [
       "         f1_score    auc_pr  cost_savings\n",
       "split_1  0.655844  0.679148      0.729976\n",
       "split_2  0.710526  0.804134      0.746475\n",
       "split_3  0.753521  0.777717      0.810251\n",
       "split_4  0.691781  0.737701      0.727477"
      ]
     },
     "execution_count": 13,
     "metadata": {},
     "output_type": "execute_result"
    }
   ],
   "source": [
    "fraud_sensitive_results = get_metric_scores(fraud_sensitive_scores, np.array(X))\n",
    "fraud_sensitive_results"
   ]
  },
  {
   "cell_type": "code",
   "execution_count": 14,
   "metadata": {
    "execution": {
     "iopub.execute_input": "2020-12-05T10:27:25.454145Z",
     "iopub.status.busy": "2020-12-05T10:27:25.453163Z",
     "iopub.status.idle": "2020-12-05T10:27:25.457969Z",
     "shell.execute_reply": "2020-12-05T10:27:25.457248Z"
    },
    "papermill": {
     "duration": 0.055817,
     "end_time": "2020-12-05T10:27:25.458089",
     "exception": false,
     "start_time": "2020-12-05T10:27:25.402272",
     "status": "completed"
    },
    "tags": []
   },
   "outputs": [
    {
     "data": {
      "text/plain": [
       "f1_score        0.702918\n",
       "auc_pr          0.749675\n",
       "cost_savings    0.753544\n",
       "dtype: float64"
      ]
     },
     "execution_count": 14,
     "metadata": {},
     "output_type": "execute_result"
    }
   ],
   "source": [
    "fraud_sensitive_results.mean()"
   ]
  },
  {
   "cell_type": "code",
   "execution_count": null,
   "metadata": {
    "papermill": {
     "duration": 0.040495,
     "end_time": "2020-12-05T10:27:25.539620",
     "exception": false,
     "start_time": "2020-12-05T10:27:25.499125",
     "status": "completed"
    },
    "tags": []
   },
   "outputs": [],
   "source": []
  },
  {
   "cell_type": "markdown",
   "metadata": {
    "papermill": {
     "duration": 0.043654,
     "end_time": "2020-12-05T10:27:25.624017",
     "exception": false,
     "start_time": "2020-12-05T10:27:25.580363",
     "status": "completed"
    },
    "tags": []
   },
   "source": [
    "## Cost sensitive model"
   ]
  },
  {
   "cell_type": "markdown",
   "metadata": {
    "papermill": {
     "duration": 0.040929,
     "end_time": "2020-12-05T10:27:25.707293",
     "exception": false,
     "start_time": "2020-12-05T10:27:25.666364",
     "status": "completed"
    },
    "tags": []
   },
   "source": [
    "### we will use sample weight to penalize our model accordingly. admin cost for FP and transactional cost (amount) for FN."
   ]
  },
  {
   "cell_type": "code",
   "execution_count": 15,
   "metadata": {
    "execution": {
     "iopub.execute_input": "2020-12-05T10:27:25.808381Z",
     "iopub.status.busy": "2020-12-05T10:27:25.798086Z",
     "iopub.status.idle": "2020-12-05T10:27:25.881987Z",
     "shell.execute_reply": "2020-12-05T10:27:25.881123Z"
    },
    "papermill": {
     "duration": 0.133432,
     "end_time": "2020-12-05T10:27:25.882119",
     "exception": false,
     "start_time": "2020-12-05T10:27:25.748687",
     "status": "completed"
    },
    "tags": []
   },
   "outputs": [],
   "source": [
    "sample_weights = np.array([df['Amount'][ind] if fraud else admin_cost for ind, fraud in enumerate(y)])"
   ]
  },
  {
   "cell_type": "code",
   "execution_count": 16,
   "metadata": {
    "execution": {
     "iopub.execute_input": "2020-12-05T10:27:25.972683Z",
     "iopub.status.busy": "2020-12-05T10:27:25.971829Z",
     "iopub.status.idle": "2020-12-05T10:27:29.157980Z",
     "shell.execute_reply": "2020-12-05T10:27:29.157353Z"
    },
    "papermill": {
     "duration": 3.234865,
     "end_time": "2020-12-05T10:27:29.158088",
     "exception": false,
     "start_time": "2020-12-05T10:27:25.923223",
     "status": "completed"
    },
    "tags": []
   },
   "outputs": [],
   "source": [
    "scaler2 = StandardScaler()\n",
    "cost_sensitive_model = LogisticRegression()\n",
    "\n",
    "cost_sensitive_pipe = Pipeline([('scaler', scaler2), ('model', cost_sensitive_model)])\n",
    "\n",
    "cost_sensitive_scores = cross_validate(cost_sensitive_pipe, np.array(X), y, \\\n",
    "                        scoring=['f1', 'average_precision'], cv=cv, n_jobs=4, return_estimator=True, \\\n",
    "                          fit_params={'model__sample_weight': sample_weights}, error_score='raise')"
   ]
  },
  {
   "cell_type": "code",
   "execution_count": 17,
   "metadata": {
    "execution": {
     "iopub.execute_input": "2020-12-05T10:27:29.220522Z",
     "iopub.status.busy": "2020-12-05T10:27:29.219403Z",
     "iopub.status.idle": "2020-12-05T10:27:29.443391Z",
     "shell.execute_reply": "2020-12-05T10:27:29.442718Z"
    },
    "papermill": {
     "duration": 0.257311,
     "end_time": "2020-12-05T10:27:29.443494",
     "exception": false,
     "start_time": "2020-12-05T10:27:29.186183",
     "status": "completed"
    },
    "tags": []
   },
   "outputs": [
    {
     "data": {
      "text/html": [
       "<div>\n",
       "<style scoped>\n",
       "    .dataframe tbody tr th:only-of-type {\n",
       "        vertical-align: middle;\n",
       "    }\n",
       "\n",
       "    .dataframe tbody tr th {\n",
       "        vertical-align: top;\n",
       "    }\n",
       "\n",
       "    .dataframe thead th {\n",
       "        text-align: right;\n",
       "    }\n",
       "</style>\n",
       "<table border=\"1\" class=\"dataframe\">\n",
       "  <thead>\n",
       "    <tr style=\"text-align: right;\">\n",
       "      <th></th>\n",
       "      <th>f1_score</th>\n",
       "      <th>auc_pr</th>\n",
       "      <th>cost_savings</th>\n",
       "    </tr>\n",
       "  </thead>\n",
       "  <tbody>\n",
       "    <tr>\n",
       "      <th>split_1</th>\n",
       "      <td>0.482100</td>\n",
       "      <td>0.657054</td>\n",
       "      <td>0.715899</td>\n",
       "    </tr>\n",
       "    <tr>\n",
       "      <th>split_2</th>\n",
       "      <td>0.483871</td>\n",
       "      <td>0.704382</td>\n",
       "      <td>0.776606</td>\n",
       "    </tr>\n",
       "    <tr>\n",
       "      <th>split_3</th>\n",
       "      <td>0.519280</td>\n",
       "      <td>0.712556</td>\n",
       "      <td>0.773560</td>\n",
       "    </tr>\n",
       "    <tr>\n",
       "      <th>split_4</th>\n",
       "      <td>0.474178</td>\n",
       "      <td>0.708040</td>\n",
       "      <td>0.705032</td>\n",
       "    </tr>\n",
       "  </tbody>\n",
       "</table>\n",
       "</div>"
      ],
      "text/plain": [
       "         f1_score    auc_pr  cost_savings\n",
       "split_1  0.482100  0.657054      0.715899\n",
       "split_2  0.483871  0.704382      0.776606\n",
       "split_3  0.519280  0.712556      0.773560\n",
       "split_4  0.474178  0.708040      0.705032"
      ]
     },
     "execution_count": 17,
     "metadata": {},
     "output_type": "execute_result"
    }
   ],
   "source": [
    "cost_sensitive_results = get_metric_scores(cost_sensitive_scores, np.array(X))\n",
    "cost_sensitive_results"
   ]
  },
  {
   "cell_type": "code",
   "execution_count": 18,
   "metadata": {
    "execution": {
     "iopub.execute_input": "2020-12-05T10:27:29.510282Z",
     "iopub.status.busy": "2020-12-05T10:27:29.509530Z",
     "iopub.status.idle": "2020-12-05T10:27:29.514741Z",
     "shell.execute_reply": "2020-12-05T10:27:29.515263Z"
    },
    "papermill": {
     "duration": 0.042707,
     "end_time": "2020-12-05T10:27:29.515414",
     "exception": false,
     "start_time": "2020-12-05T10:27:29.472707",
     "status": "completed"
    },
    "tags": []
   },
   "outputs": [
    {
     "data": {
      "text/plain": [
       "f1_score        0.489857\n",
       "auc_pr          0.695508\n",
       "cost_savings    0.742774\n",
       "dtype: float64"
      ]
     },
     "execution_count": 18,
     "metadata": {},
     "output_type": "execute_result"
    }
   ],
   "source": [
    "cost_sensitive_results.mean()"
   ]
  },
  {
   "cell_type": "code",
   "execution_count": null,
   "metadata": {
    "papermill": {
     "duration": 0.028685,
     "end_time": "2020-12-05T10:27:29.573657",
     "exception": false,
     "start_time": "2020-12-05T10:27:29.544972",
     "status": "completed"
    },
    "tags": []
   },
   "outputs": [],
   "source": []
  },
  {
   "cell_type": "markdown",
   "metadata": {
    "papermill": {
     "duration": 0.028867,
     "end_time": "2020-12-05T10:27:29.631636",
     "exception": false,
     "start_time": "2020-12-05T10:27:29.602769",
     "status": "completed"
    },
    "tags": []
   },
   "source": [
    "## Bayes Mininmum Risk (BMR)"
   ]
  },
  {
   "cell_type": "markdown",
   "metadata": {
    "papermill": {
     "duration": 0.028892,
     "end_time": "2020-12-05T10:27:29.690068",
     "exception": false,
     "start_time": "2020-12-05T10:27:29.661176",
     "status": "completed"
    },
    "tags": []
   },
   "source": [
    "### Note: cost dependent classification is also called Bayes Mininmum Risk.\n",
    "***see more about BMR [here](https://link.springer.com/article/10.1007/s42452-020-03375-w)***"
   ]
  },
  {
   "cell_type": "code",
   "execution_count": 19,
   "metadata": {
    "execution": {
     "iopub.execute_input": "2020-12-05T10:27:29.757219Z",
     "iopub.status.busy": "2020-12-05T10:27:29.756540Z",
     "iopub.status.idle": "2020-12-05T10:27:33.738977Z",
     "shell.execute_reply": "2020-12-05T10:27:33.738269Z"
    },
    "papermill": {
     "duration": 4.019684,
     "end_time": "2020-12-05T10:27:33.739092",
     "exception": false,
     "start_time": "2020-12-05T10:27:29.719408",
     "status": "completed"
    },
    "tags": []
   },
   "outputs": [],
   "source": [
    "scaler3 = StandardScaler()\n",
    "bmr_model = LogisticRegression()\n",
    "\n",
    "bmr_pipe = Pipeline([('scaler', scaler3), ('model', bmr_model)])\n",
    "\n",
    "bmr_scores = cross_validate(bmr_pipe, np.array(X), y, cv=cv, n_jobs=4, return_estimator=True, \\\n",
    "                            error_score='raise')"
   ]
  },
  {
   "cell_type": "code",
   "execution_count": 20,
   "metadata": {
    "execution": {
     "iopub.execute_input": "2020-12-05T10:27:33.803745Z",
     "iopub.status.busy": "2020-12-05T10:27:33.802845Z",
     "iopub.status.idle": "2020-12-05T10:27:33.806828Z",
     "shell.execute_reply": "2020-12-05T10:27:33.806036Z"
    },
    "papermill": {
     "duration": 0.039309,
     "end_time": "2020-12-05T10:27:33.806978",
     "exception": false,
     "start_time": "2020-12-05T10:27:33.767669",
     "status": "completed"
    },
    "tags": []
   },
   "outputs": [],
   "source": [
    "# defining a function to predict based on the predicting that will minimize the expected cost.\n",
    "def bmr_predict(model, x, trans_cost):\n",
    "    prob = model.predict_proba(x)[:, 1]\n",
    "        \n",
    "    expected_cost_0 = prob * trans_cost\n",
    "    expected_cost_1 = (1-prob) * admin_cost\n",
    "        \n",
    "    pred = (expected_cost_1 < expected_cost_0).astype(int)\n",
    "    return pred"
   ]
  },
  {
   "cell_type": "markdown",
   "metadata": {
    "papermill": {
     "duration": 0.042702,
     "end_time": "2020-12-05T10:27:33.894080",
     "exception": false,
     "start_time": "2020-12-05T10:27:33.851378",
     "status": "completed"
    },
    "tags": []
   },
   "source": [
    "### Calculating AUC PR curve is not possible for BMR because predictions are based on minimum expected cost and not on probability. For this reason, we will calculate only f1_score and cost-savings for this model."
   ]
  },
  {
   "cell_type": "code",
   "execution_count": 21,
   "metadata": {
    "execution": {
     "iopub.execute_input": "2020-12-05T10:27:33.991779Z",
     "iopub.status.busy": "2020-12-05T10:27:33.990899Z",
     "iopub.status.idle": "2020-12-05T10:27:33.995825Z",
     "shell.execute_reply": "2020-12-05T10:27:33.995159Z"
    },
    "papermill": {
     "duration": 0.058579,
     "end_time": "2020-12-05T10:27:33.995962",
     "exception": false,
     "start_time": "2020-12-05T10:27:33.937383",
     "status": "completed"
    },
    "tags": []
   },
   "outputs": [],
   "source": [
    "def get_bmr_metric_scores(scores, x, y=y, cv_object=cv):\n",
    "    ind = ['split_'+str(n) for n in range(1, cv_object.n_splits+1)]\n",
    "    scores_df = pd.DataFrame(index=ind)\n",
    "\n",
    "    f1_results = []\n",
    "    cs_results = []\n",
    "    \n",
    "    for i, (_, test_ind) in zip(range(cv_object.n_splits), cv_object.split(x, y)):\n",
    "        amount = df['Amount'].values[test_ind]\n",
    "        \n",
    "        ypred = bmr_predict(scores['estimator'][i], x[test_ind], amount)\n",
    "        ytrue = y[test_ind]\n",
    "                \n",
    "        f1_results.append(f1_score(ytrue, ypred))\n",
    "        cs_results.append(cost_saving(ytrue, ypred, amount))\n",
    "        \n",
    "    scores_df['f1_score'] = f1_results\n",
    "    #scores_df['auc_pr'] = scores['test_average_precision']\n",
    "    scores_df['cost_savings'] = cs_results\n",
    "\n",
    "    return scores_df    "
   ]
  },
  {
   "cell_type": "code",
   "execution_count": 22,
   "metadata": {
    "execution": {
     "iopub.execute_input": "2020-12-05T10:27:34.061583Z",
     "iopub.status.busy": "2020-12-05T10:27:34.060730Z",
     "iopub.status.idle": "2020-12-05T10:27:34.328204Z",
     "shell.execute_reply": "2020-12-05T10:27:34.327365Z"
    },
    "papermill": {
     "duration": 0.301793,
     "end_time": "2020-12-05T10:27:34.328339",
     "exception": false,
     "start_time": "2020-12-05T10:27:34.026546",
     "status": "completed"
    },
    "tags": []
   },
   "outputs": [
    {
     "data": {
      "text/html": [
       "<div>\n",
       "<style scoped>\n",
       "    .dataframe tbody tr th:only-of-type {\n",
       "        vertical-align: middle;\n",
       "    }\n",
       "\n",
       "    .dataframe tbody tr th {\n",
       "        vertical-align: top;\n",
       "    }\n",
       "\n",
       "    .dataframe thead th {\n",
       "        text-align: right;\n",
       "    }\n",
       "</style>\n",
       "<table border=\"1\" class=\"dataframe\">\n",
       "  <thead>\n",
       "    <tr style=\"text-align: right;\">\n",
       "      <th></th>\n",
       "      <th>f1_score</th>\n",
       "      <th>cost_savings</th>\n",
       "    </tr>\n",
       "  </thead>\n",
       "  <tbody>\n",
       "    <tr>\n",
       "      <th>split_1</th>\n",
       "      <td>0.439678</td>\n",
       "      <td>0.715378</td>\n",
       "    </tr>\n",
       "    <tr>\n",
       "      <th>split_2</th>\n",
       "      <td>0.506964</td>\n",
       "      <td>0.816954</td>\n",
       "    </tr>\n",
       "    <tr>\n",
       "      <th>split_3</th>\n",
       "      <td>0.513595</td>\n",
       "      <td>0.843635</td>\n",
       "    </tr>\n",
       "    <tr>\n",
       "      <th>split_4</th>\n",
       "      <td>0.423398</td>\n",
       "      <td>0.686984</td>\n",
       "    </tr>\n",
       "  </tbody>\n",
       "</table>\n",
       "</div>"
      ],
      "text/plain": [
       "         f1_score  cost_savings\n",
       "split_1  0.439678      0.715378\n",
       "split_2  0.506964      0.816954\n",
       "split_3  0.513595      0.843635\n",
       "split_4  0.423398      0.686984"
      ]
     },
     "execution_count": 22,
     "metadata": {},
     "output_type": "execute_result"
    }
   ],
   "source": [
    "bmr_results = get_bmr_metric_scores(bmr_scores, np.array(X))\n",
    "bmr_results"
   ]
  },
  {
   "cell_type": "code",
   "execution_count": 23,
   "metadata": {
    "execution": {
     "iopub.execute_input": "2020-12-05T10:27:34.427164Z",
     "iopub.status.busy": "2020-12-05T10:27:34.426189Z",
     "iopub.status.idle": "2020-12-05T10:27:34.432545Z",
     "shell.execute_reply": "2020-12-05T10:27:34.431933Z"
    },
    "papermill": {
     "duration": 0.05883,
     "end_time": "2020-12-05T10:27:34.432650",
     "exception": false,
     "start_time": "2020-12-05T10:27:34.373820",
     "status": "completed"
    },
    "tags": []
   },
   "outputs": [
    {
     "data": {
      "text/plain": [
       "f1_score        0.470909\n",
       "cost_savings    0.765737\n",
       "dtype: float64"
      ]
     },
     "execution_count": 23,
     "metadata": {},
     "output_type": "execute_result"
    }
   ],
   "source": [
    "bmr_results.mean()"
   ]
  },
  {
   "cell_type": "markdown",
   "metadata": {
    "papermill": {
     "duration": 0.034157,
     "end_time": "2020-12-05T10:27:34.497186",
     "exception": false,
     "start_time": "2020-12-05T10:27:34.463029",
     "status": "completed"
    },
    "tags": []
   },
   "source": [
    "# We then see that for Logistic Regression, setting class weight without cost sensitivity seems to be the best approach. We will repeat these processes for other more sophisticated models and choose the best one as our final model."
   ]
  }
 ],
 "metadata": {
  "kernelspec": {
   "display_name": "Python 3",
   "language": "python",
   "name": "python3"
  },
  "language_info": {
   "codemirror_mode": {
    "name": "ipython",
    "version": 3
   },
   "file_extension": ".py",
   "mimetype": "text/x-python",
   "name": "python",
   "nbconvert_exporter": "python",
   "pygments_lexer": "ipython3",
   "version": "3.7.6"
  },
  "papermill": {
   "duration": 25.586004,
   "end_time": "2020-12-05T10:27:34.637937",
   "environment_variables": {},
   "exception": null,
   "input_path": "__notebook__.ipynb",
   "output_path": "__notebook__.ipynb",
   "parameters": {},
   "start_time": "2020-12-05T10:27:09.051933",
   "version": "2.1.0"
  }
 },
 "nbformat": 4,
 "nbformat_minor": 4
}
