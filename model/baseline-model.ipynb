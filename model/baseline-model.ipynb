{
 "cells": [
  {
   "cell_type": "markdown",
   "metadata": {
    "papermill": {
     "duration": 0.027413,
     "end_time": "2020-11-28T17:39:31.280395",
     "exception": false,
     "start_time": "2020-11-28T17:39:31.252982",
     "status": "completed"
    },
    "tags": []
   },
   "source": [
    "## Baseline model (Logistic Regression)"
   ]
  },
  {
   "cell_type": "code",
   "execution_count": 1,
   "metadata": {
    "_cell_guid": "79c7e3d0-c299-4dcb-8224-4455121ee9b0",
    "_uuid": "d629ff2d2480ee46fbb7e2d37f6b5fab8052498a",
    "execution": {
     "iopub.execute_input": "2020-11-28T17:39:31.340343Z",
     "iopub.status.busy": "2020-11-28T17:39:31.339560Z",
     "iopub.status.idle": "2020-11-28T17:39:32.505140Z",
     "shell.execute_reply": "2020-11-28T17:39:32.504359Z"
    },
    "papermill": {
     "duration": 1.200312,
     "end_time": "2020-11-28T17:39:32.505282",
     "exception": false,
     "start_time": "2020-11-28T17:39:31.304970",
     "status": "completed"
    },
    "tags": []
   },
   "outputs": [],
   "source": [
    "# importing useful libraries\n",
    "\n",
    "import numpy as np\n",
    "import pandas as pd\n",
    "import matplotlib.pyplot as plt\n",
    "import seaborn as sns\n",
    "\n",
    "from sklearn.linear_model import LogisticRegression\n",
    "from sklearn.model_selection import StratifiedKFold, cross_validate\n",
    "from sklearn.preprocessing import StandardScaler\n",
    "from sklearn.metrics import f1_score\n",
    "\n",
    "import warnings\n",
    "warnings.filterwarnings('ignore')\n",
    "\n",
    "%matplotlib inline"
   ]
  },
  {
   "cell_type": "code",
   "execution_count": 2,
   "metadata": {
    "execution": {
     "iopub.execute_input": "2020-11-28T17:39:32.609208Z",
     "iopub.status.busy": "2020-11-28T17:39:32.608444Z",
     "iopub.status.idle": "2020-11-28T17:39:35.770258Z",
     "shell.execute_reply": "2020-11-28T17:39:35.770839Z"
    },
    "papermill": {
     "duration": 3.240504,
     "end_time": "2020-11-28T17:39:35.770991",
     "exception": false,
     "start_time": "2020-11-28T17:39:32.530487",
     "status": "completed"
    },
    "tags": []
   },
   "outputs": [
    {
     "name": "stdout",
     "output_type": "stream",
     "text": [
      "(284807, 31)\n"
     ]
    },
    {
     "data": {
      "text/html": [
       "<div>\n",
       "<style scoped>\n",
       "    .dataframe tbody tr th:only-of-type {\n",
       "        vertical-align: middle;\n",
       "    }\n",
       "\n",
       "    .dataframe tbody tr th {\n",
       "        vertical-align: top;\n",
       "    }\n",
       "\n",
       "    .dataframe thead th {\n",
       "        text-align: right;\n",
       "    }\n",
       "</style>\n",
       "<table border=\"1\" class=\"dataframe\">\n",
       "  <thead>\n",
       "    <tr style=\"text-align: right;\">\n",
       "      <th></th>\n",
       "      <th>Time</th>\n",
       "      <th>V1</th>\n",
       "      <th>V2</th>\n",
       "      <th>V3</th>\n",
       "      <th>V4</th>\n",
       "      <th>V5</th>\n",
       "      <th>V6</th>\n",
       "      <th>V7</th>\n",
       "      <th>V8</th>\n",
       "      <th>V9</th>\n",
       "      <th>...</th>\n",
       "      <th>V21</th>\n",
       "      <th>V22</th>\n",
       "      <th>V23</th>\n",
       "      <th>V24</th>\n",
       "      <th>V25</th>\n",
       "      <th>V26</th>\n",
       "      <th>V27</th>\n",
       "      <th>V28</th>\n",
       "      <th>Amount</th>\n",
       "      <th>Class</th>\n",
       "    </tr>\n",
       "  </thead>\n",
       "  <tbody>\n",
       "    <tr>\n",
       "      <th>0</th>\n",
       "      <td>0.0</td>\n",
       "      <td>-1.359807</td>\n",
       "      <td>-0.072781</td>\n",
       "      <td>2.536347</td>\n",
       "      <td>1.378155</td>\n",
       "      <td>-0.338321</td>\n",
       "      <td>0.462388</td>\n",
       "      <td>0.239599</td>\n",
       "      <td>0.098698</td>\n",
       "      <td>0.363787</td>\n",
       "      <td>...</td>\n",
       "      <td>-0.018307</td>\n",
       "      <td>0.277838</td>\n",
       "      <td>-0.110474</td>\n",
       "      <td>0.066928</td>\n",
       "      <td>0.128539</td>\n",
       "      <td>-0.189115</td>\n",
       "      <td>0.133558</td>\n",
       "      <td>-0.021053</td>\n",
       "      <td>149.62</td>\n",
       "      <td>0</td>\n",
       "    </tr>\n",
       "    <tr>\n",
       "      <th>1</th>\n",
       "      <td>0.0</td>\n",
       "      <td>1.191857</td>\n",
       "      <td>0.266151</td>\n",
       "      <td>0.166480</td>\n",
       "      <td>0.448154</td>\n",
       "      <td>0.060018</td>\n",
       "      <td>-0.082361</td>\n",
       "      <td>-0.078803</td>\n",
       "      <td>0.085102</td>\n",
       "      <td>-0.255425</td>\n",
       "      <td>...</td>\n",
       "      <td>-0.225775</td>\n",
       "      <td>-0.638672</td>\n",
       "      <td>0.101288</td>\n",
       "      <td>-0.339846</td>\n",
       "      <td>0.167170</td>\n",
       "      <td>0.125895</td>\n",
       "      <td>-0.008983</td>\n",
       "      <td>0.014724</td>\n",
       "      <td>2.69</td>\n",
       "      <td>0</td>\n",
       "    </tr>\n",
       "    <tr>\n",
       "      <th>2</th>\n",
       "      <td>1.0</td>\n",
       "      <td>-1.358354</td>\n",
       "      <td>-1.340163</td>\n",
       "      <td>1.773209</td>\n",
       "      <td>0.379780</td>\n",
       "      <td>-0.503198</td>\n",
       "      <td>1.800499</td>\n",
       "      <td>0.791461</td>\n",
       "      <td>0.247676</td>\n",
       "      <td>-1.514654</td>\n",
       "      <td>...</td>\n",
       "      <td>0.247998</td>\n",
       "      <td>0.771679</td>\n",
       "      <td>0.909412</td>\n",
       "      <td>-0.689281</td>\n",
       "      <td>-0.327642</td>\n",
       "      <td>-0.139097</td>\n",
       "      <td>-0.055353</td>\n",
       "      <td>-0.059752</td>\n",
       "      <td>378.66</td>\n",
       "      <td>0</td>\n",
       "    </tr>\n",
       "    <tr>\n",
       "      <th>3</th>\n",
       "      <td>1.0</td>\n",
       "      <td>-0.966272</td>\n",
       "      <td>-0.185226</td>\n",
       "      <td>1.792993</td>\n",
       "      <td>-0.863291</td>\n",
       "      <td>-0.010309</td>\n",
       "      <td>1.247203</td>\n",
       "      <td>0.237609</td>\n",
       "      <td>0.377436</td>\n",
       "      <td>-1.387024</td>\n",
       "      <td>...</td>\n",
       "      <td>-0.108300</td>\n",
       "      <td>0.005274</td>\n",
       "      <td>-0.190321</td>\n",
       "      <td>-1.175575</td>\n",
       "      <td>0.647376</td>\n",
       "      <td>-0.221929</td>\n",
       "      <td>0.062723</td>\n",
       "      <td>0.061458</td>\n",
       "      <td>123.50</td>\n",
       "      <td>0</td>\n",
       "    </tr>\n",
       "    <tr>\n",
       "      <th>4</th>\n",
       "      <td>2.0</td>\n",
       "      <td>-1.158233</td>\n",
       "      <td>0.877737</td>\n",
       "      <td>1.548718</td>\n",
       "      <td>0.403034</td>\n",
       "      <td>-0.407193</td>\n",
       "      <td>0.095921</td>\n",
       "      <td>0.592941</td>\n",
       "      <td>-0.270533</td>\n",
       "      <td>0.817739</td>\n",
       "      <td>...</td>\n",
       "      <td>-0.009431</td>\n",
       "      <td>0.798278</td>\n",
       "      <td>-0.137458</td>\n",
       "      <td>0.141267</td>\n",
       "      <td>-0.206010</td>\n",
       "      <td>0.502292</td>\n",
       "      <td>0.219422</td>\n",
       "      <td>0.215153</td>\n",
       "      <td>69.99</td>\n",
       "      <td>0</td>\n",
       "    </tr>\n",
       "  </tbody>\n",
       "</table>\n",
       "<p>5 rows × 31 columns</p>\n",
       "</div>"
      ],
      "text/plain": [
       "   Time        V1        V2        V3        V4        V5        V6        V7  \\\n",
       "0   0.0 -1.359807 -0.072781  2.536347  1.378155 -0.338321  0.462388  0.239599   \n",
       "1   0.0  1.191857  0.266151  0.166480  0.448154  0.060018 -0.082361 -0.078803   \n",
       "2   1.0 -1.358354 -1.340163  1.773209  0.379780 -0.503198  1.800499  0.791461   \n",
       "3   1.0 -0.966272 -0.185226  1.792993 -0.863291 -0.010309  1.247203  0.237609   \n",
       "4   2.0 -1.158233  0.877737  1.548718  0.403034 -0.407193  0.095921  0.592941   \n",
       "\n",
       "         V8        V9  ...       V21       V22       V23       V24       V25  \\\n",
       "0  0.098698  0.363787  ... -0.018307  0.277838 -0.110474  0.066928  0.128539   \n",
       "1  0.085102 -0.255425  ... -0.225775 -0.638672  0.101288 -0.339846  0.167170   \n",
       "2  0.247676 -1.514654  ...  0.247998  0.771679  0.909412 -0.689281 -0.327642   \n",
       "3  0.377436 -1.387024  ... -0.108300  0.005274 -0.190321 -1.175575  0.647376   \n",
       "4 -0.270533  0.817739  ... -0.009431  0.798278 -0.137458  0.141267 -0.206010   \n",
       "\n",
       "        V26       V27       V28  Amount  Class  \n",
       "0 -0.189115  0.133558 -0.021053  149.62      0  \n",
       "1  0.125895 -0.008983  0.014724    2.69      0  \n",
       "2 -0.139097 -0.055353 -0.059752  378.66      0  \n",
       "3 -0.221929  0.062723  0.061458  123.50      0  \n",
       "4  0.502292  0.219422  0.215153   69.99      0  \n",
       "\n",
       "[5 rows x 31 columns]"
      ]
     },
     "execution_count": 2,
     "metadata": {},
     "output_type": "execute_result"
    }
   ],
   "source": [
    "# loading in the dataset\n",
    "df = pd.read_csv('../input/creditcardfraud/creditcard.csv')\n",
    "print(df.shape)\n",
    "df.head()"
   ]
  },
  {
   "cell_type": "code",
   "execution_count": 3,
   "metadata": {
    "execution": {
     "iopub.execute_input": "2020-11-28T17:39:35.843457Z",
     "iopub.status.busy": "2020-11-28T17:39:35.842163Z",
     "iopub.status.idle": "2020-11-28T17:39:35.979955Z",
     "shell.execute_reply": "2020-11-28T17:39:35.979329Z"
    },
    "papermill": {
     "duration": 0.182848,
     "end_time": "2020-11-28T17:39:35.980089",
     "exception": false,
     "start_time": "2020-11-28T17:39:35.797241",
     "status": "completed"
    },
    "tags": []
   },
   "outputs": [],
   "source": [
    "# selecting the 19 most important features according to our EDA \n",
    "X = df[['V1', 'V2', 'V3', 'V4', 'V5', 'V6', 'V7', 'V8', 'V9', 'V10', 'V11', 'V12', 'V13', 'V14', \\\n",
    "        'V16', 'V17', 'V21', 'V23', 'V27']]\n",
    "\n",
    "# scaling the features\n",
    "scaler = StandardScaler()\n",
    "scaled_X = scaler.fit_transform(X)\n",
    "\n",
    "y = df['Class'] # selecting the target variable"
   ]
  },
  {
   "cell_type": "code",
   "execution_count": 4,
   "metadata": {
    "execution": {
     "iopub.execute_input": "2020-11-28T17:39:36.038680Z",
     "iopub.status.busy": "2020-11-28T17:39:36.037892Z",
     "iopub.status.idle": "2020-11-28T17:39:36.067215Z",
     "shell.execute_reply": "2020-11-28T17:39:36.067863Z"
    },
    "papermill": {
     "duration": 0.061542,
     "end_time": "2020-11-28T17:39:36.068030",
     "exception": false,
     "start_time": "2020-11-28T17:39:36.006488",
     "status": "completed"
    },
    "tags": []
   },
   "outputs": [
    {
     "data": {
      "text/plain": [
       "{0: 3.51722561243691e-06, 1: 0.0020325203252032522}"
      ]
     },
     "execution_count": 4,
     "metadata": {},
     "output_type": "execute_result"
    }
   ],
   "source": [
    "val_count = df['Class'].value_counts()\n",
    "weights = dict(1 / val_count) # to be used as class weights\n",
    "weights"
   ]
  },
  {
   "cell_type": "markdown",
   "metadata": {
    "papermill": {
     "duration": 0.026366,
     "end_time": "2020-11-28T17:39:36.121173",
     "exception": false,
     "start_time": "2020-11-28T17:39:36.094807",
     "status": "completed"
    },
    "tags": []
   },
   "source": [
    "## <center>Cost matrix for fraud detection</center>\n",
    "\n",
    "||Actual Positive|Actual Negative|\n",
    "|:-:|:-:|:-:|\n",
    "|**Predicted Positive**|administrative cost|administrative cost|\n",
    "|**Predicted Negative**|transactional cost|0|"
   ]
  },
  {
   "cell_type": "markdown",
   "metadata": {
    "papermill": {
     "duration": 0.028266,
     "end_time": "2020-11-28T17:39:36.176550",
     "exception": false,
     "start_time": "2020-11-28T17:39:36.148284",
     "status": "completed"
    },
    "tags": []
   },
   "source": [
    "### *see [this article](https://towardsdatascience.com/fraud-detection-with-cost-sensitive-machine-learning-24b8760d35d9) for more about cost sensitive machine learning for fraud detection*"
   ]
  },
  {
   "cell_type": "code",
   "execution_count": 5,
   "metadata": {
    "execution": {
     "iopub.execute_input": "2020-11-28T17:39:36.238116Z",
     "iopub.status.busy": "2020-11-28T17:39:36.237341Z",
     "iopub.status.idle": "2020-11-28T17:39:36.240980Z",
     "shell.execute_reply": "2020-11-28T17:39:36.240371Z"
    },
    "papermill": {
     "duration": 0.036283,
     "end_time": "2020-11-28T17:39:36.241113",
     "exception": false,
     "start_time": "2020-11-28T17:39:36.204830",
     "status": "completed"
    },
    "tags": []
   },
   "outputs": [],
   "source": [
    "admin_cost = 2.5"
   ]
  },
  {
   "cell_type": "markdown",
   "metadata": {
    "papermill": {
     "duration": 0.026719,
     "end_time": "2020-11-28T17:39:36.295009",
     "exception": false,
     "start_time": "2020-11-28T17:39:36.268290",
     "status": "completed"
    },
    "tags": []
   },
   "source": [
    "### our choice of using 2.5euros as the administartive cost because it seems to be the best for our problem as suggested by [this paper](https://www.researchgate.net/publication/262390835_Cost_Sensitive_Credit_Card_Fraud_Detection_Using_Bayes_Minimum_Risk)"
   ]
  },
  {
   "cell_type": "markdown",
   "metadata": {
    "papermill": {
     "duration": 0.026553,
     "end_time": "2020-11-28T17:39:36.348443",
     "exception": false,
     "start_time": "2020-11-28T17:39:36.321890",
     "status": "completed"
    },
    "tags": []
   },
   "source": [
    "## Also, implementing cost sensitive models for sklearn's classifier is challenging. It is as good as creating a new model from the scratch. For simplicity, we will not penalize our model of True Positives (although, the cost matrix suggests we should penalize it for true positives). This will mean that we are only penalizing MISCLASSIFICATIONS (trying to minimize costs due to misclassification and not cost in general)."
   ]
  },
  {
   "cell_type": "code",
   "execution_count": 6,
   "metadata": {
    "execution": {
     "iopub.execute_input": "2020-11-28T17:39:36.419694Z",
     "iopub.status.busy": "2020-11-28T17:39:36.418480Z",
     "iopub.status.idle": "2020-11-28T17:39:36.422006Z",
     "shell.execute_reply": "2020-11-28T17:39:36.421070Z"
    },
    "papermill": {
     "duration": 0.046368,
     "end_time": "2020-11-28T17:39:36.422192",
     "exception": false,
     "start_time": "2020-11-28T17:39:36.375824",
     "status": "completed"
    },
    "tags": []
   },
   "outputs": [],
   "source": [
    "# defining a function to calculate cost savings\n",
    "def cost_saving(ytrue, ypred, amount):\n",
    "    fp = np.sum((ytrue == 0) & (ypred == 1))\n",
    "    cost = np.sum(fp*admin_cost) + np.sum((amount[(ytrue == 1) & (ypred == 0)]))\n",
    "    max_cost = np.sum((amount[(ytrue == 1)]))\n",
    "    savings = 1 - (cost/max_cost)\n",
    "    \n",
    "    return savings"
   ]
  },
  {
   "cell_type": "code",
   "execution_count": 7,
   "metadata": {
    "execution": {
     "iopub.execute_input": "2020-11-28T17:39:36.497375Z",
     "iopub.status.busy": "2020-11-28T17:39:36.496332Z",
     "iopub.status.idle": "2020-11-28T17:39:36.501091Z",
     "shell.execute_reply": "2020-11-28T17:39:36.500306Z"
    },
    "papermill": {
     "duration": 0.045797,
     "end_time": "2020-11-28T17:39:36.501262",
     "exception": false,
     "start_time": "2020-11-28T17:39:36.455465",
     "status": "completed"
    },
    "tags": []
   },
   "outputs": [],
   "source": [
    "cv = StratifiedKFold(n_splits=4, random_state=1)"
   ]
  },
  {
   "cell_type": "code",
   "execution_count": 8,
   "metadata": {
    "execution": {
     "iopub.execute_input": "2020-11-28T17:39:36.572835Z",
     "iopub.status.busy": "2020-11-28T17:39:36.572041Z",
     "iopub.status.idle": "2020-11-28T17:39:36.575247Z",
     "shell.execute_reply": "2020-11-28T17:39:36.574462Z"
    },
    "papermill": {
     "duration": 0.042745,
     "end_time": "2020-11-28T17:39:36.575377",
     "exception": false,
     "start_time": "2020-11-28T17:39:36.532632",
     "status": "completed"
    },
    "tags": []
   },
   "outputs": [],
   "source": [
    "# defining a function to calculate cost saving per fold (splits) of our cv\n",
    "def cost_saving_per_split(scores, x, y, cv_object):\n",
    "    results = []\n",
    "    for i, (_, test_ind) in zip(range(cv_object.n_splits), cv_object.split(x, y)):\n",
    "        ypred = scores['estimator'][i].predict(x[test_ind])\n",
    "        ytrue = y[test_ind]\n",
    "        amount = df['Amount'].values[test_ind]\n",
    "        results.append(cost_saving(ytrue, ypred, amount))\n",
    "        \n",
    "    return results"
   ]
  },
  {
   "cell_type": "code",
   "execution_count": 9,
   "metadata": {
    "execution": {
     "iopub.execute_input": "2020-11-28T17:39:36.639531Z",
     "iopub.status.busy": "2020-11-28T17:39:36.638522Z",
     "iopub.status.idle": "2020-11-28T17:39:36.642113Z",
     "shell.execute_reply": "2020-11-28T17:39:36.641347Z"
    },
    "papermill": {
     "duration": 0.03895,
     "end_time": "2020-11-28T17:39:36.642240",
     "exception": false,
     "start_time": "2020-11-28T17:39:36.603290",
     "status": "completed"
    },
    "tags": []
   },
   "outputs": [],
   "source": [
    "# defining a function to return a dataframe of metrics results for each fold in our cv\n",
    "def get_metric_scores(scores, x, y=y, cv_object=cv):\n",
    "    ind = ['split_'+str(n) for n in range(1, cv_object.n_splits+1)]\n",
    "    \n",
    "    scores_df = pd.DataFrame(index=ind)\n",
    "    \n",
    "    scores_df['f1_score'] = scores['test_f1']\n",
    "    scores_df['auc_pr'] = scores['test_average_precision']\n",
    "    scores_df['cost_savings'] = cost_saving_per_split(scores, x, y, cv_object)\n",
    "\n",
    "    return scores_df"
   ]
  },
  {
   "cell_type": "markdown",
   "metadata": {
    "papermill": {
     "duration": 0.027254,
     "end_time": "2020-11-28T17:39:36.697974",
     "exception": false,
     "start_time": "2020-11-28T17:39:36.670720",
     "status": "completed"
    },
    "tags": []
   },
   "source": [
    "## Fraud Sensitive model (Not cost sensitive)"
   ]
  },
  {
   "cell_type": "code",
   "execution_count": 10,
   "metadata": {
    "execution": {
     "iopub.execute_input": "2020-11-28T17:39:36.760030Z",
     "iopub.status.busy": "2020-11-28T17:39:36.759197Z",
     "iopub.status.idle": "2020-11-28T17:39:39.793625Z",
     "shell.execute_reply": "2020-11-28T17:39:39.794510Z"
    },
    "papermill": {
     "duration": 3.069258,
     "end_time": "2020-11-28T17:39:39.794743",
     "exception": false,
     "start_time": "2020-11-28T17:39:36.725485",
     "status": "completed"
    },
    "tags": []
   },
   "outputs": [],
   "source": [
    "fraud_sensitive_model = LogisticRegression(class_weight=weights)\n",
    "fraud_sensitive_scores = cross_validate(fraud_sensitive_model, scaled_X, y, \\\n",
    "                            scoring=['f1', 'average_precision'], cv=cv, n_jobs=4, return_estimator=True)"
   ]
  },
  {
   "cell_type": "markdown",
   "metadata": {
    "papermill": {
     "duration": 0.02736,
     "end_time": "2020-11-28T17:39:39.858101",
     "exception": false,
     "start_time": "2020-11-28T17:39:39.830741",
     "status": "completed"
    },
    "tags": []
   },
   "source": [
    "### Note: we used cross_validate because it can take more than one scoring metrics and it can also return the fitting model for each fold."
   ]
  },
  {
   "cell_type": "code",
   "execution_count": 11,
   "metadata": {
    "execution": {
     "iopub.execute_input": "2020-11-28T17:39:39.920988Z",
     "iopub.status.busy": "2020-11-28T17:39:39.920301Z",
     "iopub.status.idle": "2020-11-28T17:39:40.014688Z",
     "shell.execute_reply": "2020-11-28T17:39:40.013948Z"
    },
    "papermill": {
     "duration": 0.129243,
     "end_time": "2020-11-28T17:39:40.014813",
     "exception": false,
     "start_time": "2020-11-28T17:39:39.885570",
     "status": "completed"
    },
    "tags": []
   },
   "outputs": [
    {
     "data": {
      "text/html": [
       "<div>\n",
       "<style scoped>\n",
       "    .dataframe tbody tr th:only-of-type {\n",
       "        vertical-align: middle;\n",
       "    }\n",
       "\n",
       "    .dataframe tbody tr th {\n",
       "        vertical-align: top;\n",
       "    }\n",
       "\n",
       "    .dataframe thead th {\n",
       "        text-align: right;\n",
       "    }\n",
       "</style>\n",
       "<table border=\"1\" class=\"dataframe\">\n",
       "  <thead>\n",
       "    <tr style=\"text-align: right;\">\n",
       "      <th></th>\n",
       "      <th>f1_score</th>\n",
       "      <th>auc_pr</th>\n",
       "      <th>cost_savings</th>\n",
       "    </tr>\n",
       "  </thead>\n",
       "  <tbody>\n",
       "    <tr>\n",
       "      <th>split_1</th>\n",
       "      <td>0.647564</td>\n",
       "      <td>0.731073</td>\n",
       "      <td>0.850228</td>\n",
       "    </tr>\n",
       "    <tr>\n",
       "      <th>split_2</th>\n",
       "      <td>0.806584</td>\n",
       "      <td>0.785895</td>\n",
       "      <td>0.852801</td>\n",
       "    </tr>\n",
       "    <tr>\n",
       "      <th>split_3</th>\n",
       "      <td>0.670769</td>\n",
       "      <td>0.851064</td>\n",
       "      <td>0.570675</td>\n",
       "    </tr>\n",
       "    <tr>\n",
       "      <th>split_4</th>\n",
       "      <td>0.687943</td>\n",
       "      <td>0.789623</td>\n",
       "      <td>0.720068</td>\n",
       "    </tr>\n",
       "  </tbody>\n",
       "</table>\n",
       "</div>"
      ],
      "text/plain": [
       "         f1_score    auc_pr  cost_savings\n",
       "split_1  0.647564  0.731073      0.850228\n",
       "split_2  0.806584  0.785895      0.852801\n",
       "split_3  0.670769  0.851064      0.570675\n",
       "split_4  0.687943  0.789623      0.720068"
      ]
     },
     "execution_count": 11,
     "metadata": {},
     "output_type": "execute_result"
    }
   ],
   "source": [
    "fraud_sensitive_results = get_metric_scores(fraud_sensitive_scores, scaled_X)\n",
    "fraud_sensitive_results"
   ]
  },
  {
   "cell_type": "code",
   "execution_count": 12,
   "metadata": {
    "execution": {
     "iopub.execute_input": "2020-11-28T17:39:40.081326Z",
     "iopub.status.busy": "2020-11-28T17:39:40.080261Z",
     "iopub.status.idle": "2020-11-28T17:39:40.085076Z",
     "shell.execute_reply": "2020-11-28T17:39:40.084347Z"
    },
    "papermill": {
     "duration": 0.04136,
     "end_time": "2020-11-28T17:39:40.085197",
     "exception": false,
     "start_time": "2020-11-28T17:39:40.043837",
     "status": "completed"
    },
    "tags": []
   },
   "outputs": [
    {
     "data": {
      "text/plain": [
       "f1_score        0.703215\n",
       "auc_pr          0.789414\n",
       "cost_savings    0.748443\n",
       "dtype: float64"
      ]
     },
     "execution_count": 12,
     "metadata": {},
     "output_type": "execute_result"
    }
   ],
   "source": [
    "fraud_sensitive_results.mean()"
   ]
  },
  {
   "cell_type": "code",
   "execution_count": null,
   "metadata": {
    "papermill": {
     "duration": 0.02874,
     "end_time": "2020-11-28T17:39:40.143112",
     "exception": false,
     "start_time": "2020-11-28T17:39:40.114372",
     "status": "completed"
    },
    "tags": []
   },
   "outputs": [],
   "source": []
  },
  {
   "cell_type": "markdown",
   "metadata": {
    "papermill": {
     "duration": 0.028785,
     "end_time": "2020-11-28T17:39:40.201574",
     "exception": false,
     "start_time": "2020-11-28T17:39:40.172789",
     "status": "completed"
    },
    "tags": []
   },
   "source": [
    "## Cost sensitive model"
   ]
  },
  {
   "cell_type": "markdown",
   "metadata": {
    "papermill": {
     "duration": 0.028733,
     "end_time": "2020-11-28T17:39:40.259673",
     "exception": false,
     "start_time": "2020-11-28T17:39:40.230940",
     "status": "completed"
    },
    "tags": []
   },
   "source": [
    "### we will use sample weight to penalize our model accordingly. admin cost for FP and transactional cost (amount) for FN."
   ]
  },
  {
   "cell_type": "code",
   "execution_count": 13,
   "metadata": {
    "execution": {
     "iopub.execute_input": "2020-11-28T17:39:40.331487Z",
     "iopub.status.busy": "2020-11-28T17:39:40.326409Z",
     "iopub.status.idle": "2020-11-28T17:39:40.447006Z",
     "shell.execute_reply": "2020-11-28T17:39:40.446173Z"
    },
    "papermill": {
     "duration": 0.158336,
     "end_time": "2020-11-28T17:39:40.447161",
     "exception": false,
     "start_time": "2020-11-28T17:39:40.288825",
     "status": "completed"
    },
    "tags": []
   },
   "outputs": [],
   "source": [
    "sample_weights = np.array([df['Amount'][ind] if fraud else admin_cost for ind, fraud in enumerate(y)])"
   ]
  },
  {
   "cell_type": "code",
   "execution_count": 14,
   "metadata": {
    "execution": {
     "iopub.execute_input": "2020-11-28T17:39:40.513289Z",
     "iopub.status.busy": "2020-11-28T17:39:40.512536Z",
     "iopub.status.idle": "2020-11-28T17:39:42.107435Z",
     "shell.execute_reply": "2020-11-28T17:39:42.106622Z"
    },
    "papermill": {
     "duration": 1.631029,
     "end_time": "2020-11-28T17:39:42.107561",
     "exception": false,
     "start_time": "2020-11-28T17:39:40.476532",
     "status": "completed"
    },
    "tags": []
   },
   "outputs": [],
   "source": [
    "cost_sensitive_model = LogisticRegression()\n",
    "cost_sensitive_scores = cross_validate(cost_sensitive_model, scaled_X, y, \\\n",
    "                        scoring=['f1', 'average_precision'], cv=cv, n_jobs=4, return_estimator=True, \\\n",
    "                          fit_params={'sample_weight': sample_weights})"
   ]
  },
  {
   "cell_type": "code",
   "execution_count": 15,
   "metadata": {
    "execution": {
     "iopub.execute_input": "2020-11-28T17:39:42.174110Z",
     "iopub.status.busy": "2020-11-28T17:39:42.173370Z",
     "iopub.status.idle": "2020-11-28T17:39:42.253053Z",
     "shell.execute_reply": "2020-11-28T17:39:42.252414Z"
    },
    "papermill": {
     "duration": 0.115956,
     "end_time": "2020-11-28T17:39:42.253175",
     "exception": false,
     "start_time": "2020-11-28T17:39:42.137219",
     "status": "completed"
    },
    "tags": []
   },
   "outputs": [
    {
     "data": {
      "text/html": [
       "<div>\n",
       "<style scoped>\n",
       "    .dataframe tbody tr th:only-of-type {\n",
       "        vertical-align: middle;\n",
       "    }\n",
       "\n",
       "    .dataframe tbody tr th {\n",
       "        vertical-align: top;\n",
       "    }\n",
       "\n",
       "    .dataframe thead th {\n",
       "        text-align: right;\n",
       "    }\n",
       "</style>\n",
       "<table border=\"1\" class=\"dataframe\">\n",
       "  <thead>\n",
       "    <tr style=\"text-align: right;\">\n",
       "      <th></th>\n",
       "      <th>f1_score</th>\n",
       "      <th>auc_pr</th>\n",
       "      <th>cost_savings</th>\n",
       "    </tr>\n",
       "  </thead>\n",
       "  <tbody>\n",
       "    <tr>\n",
       "      <th>split_1</th>\n",
       "      <td>0.384615</td>\n",
       "      <td>0.606198</td>\n",
       "      <td>0.764231</td>\n",
       "    </tr>\n",
       "    <tr>\n",
       "      <th>split_2</th>\n",
       "      <td>0.545977</td>\n",
       "      <td>0.717824</td>\n",
       "      <td>0.818455</td>\n",
       "    </tr>\n",
       "    <tr>\n",
       "      <th>split_3</th>\n",
       "      <td>0.435897</td>\n",
       "      <td>0.767180</td>\n",
       "      <td>0.701623</td>\n",
       "    </tr>\n",
       "    <tr>\n",
       "      <th>split_4</th>\n",
       "      <td>0.454333</td>\n",
       "      <td>0.603420</td>\n",
       "      <td>0.699351</td>\n",
       "    </tr>\n",
       "  </tbody>\n",
       "</table>\n",
       "</div>"
      ],
      "text/plain": [
       "         f1_score    auc_pr  cost_savings\n",
       "split_1  0.384615  0.606198      0.764231\n",
       "split_2  0.545977  0.717824      0.818455\n",
       "split_3  0.435897  0.767180      0.701623\n",
       "split_4  0.454333  0.603420      0.699351"
      ]
     },
     "execution_count": 15,
     "metadata": {},
     "output_type": "execute_result"
    }
   ],
   "source": [
    "cost_sensitive_results = get_metric_scores(cost_sensitive_scores, scaled_X)\n",
    "cost_sensitive_results"
   ]
  },
  {
   "cell_type": "code",
   "execution_count": 16,
   "metadata": {
    "execution": {
     "iopub.execute_input": "2020-11-28T17:39:42.322326Z",
     "iopub.status.busy": "2020-11-28T17:39:42.321169Z",
     "iopub.status.idle": "2020-11-28T17:39:42.326069Z",
     "shell.execute_reply": "2020-11-28T17:39:42.325330Z"
    },
    "papermill": {
     "duration": 0.04302,
     "end_time": "2020-11-28T17:39:42.326191",
     "exception": false,
     "start_time": "2020-11-28T17:39:42.283171",
     "status": "completed"
    },
    "tags": []
   },
   "outputs": [
    {
     "data": {
      "text/plain": [
       "f1_score        0.455206\n",
       "auc_pr          0.673656\n",
       "cost_savings    0.745915\n",
       "dtype: float64"
      ]
     },
     "execution_count": 16,
     "metadata": {},
     "output_type": "execute_result"
    }
   ],
   "source": [
    "cost_sensitive_results.mean()"
   ]
  },
  {
   "cell_type": "code",
   "execution_count": null,
   "metadata": {
    "papermill": {
     "duration": 0.031242,
     "end_time": "2020-11-28T17:39:42.388705",
     "exception": false,
     "start_time": "2020-11-28T17:39:42.357463",
     "status": "completed"
    },
    "tags": []
   },
   "outputs": [],
   "source": []
  },
  {
   "cell_type": "markdown",
   "metadata": {
    "papermill": {
     "duration": 0.03054,
     "end_time": "2020-11-28T17:39:42.450438",
     "exception": false,
     "start_time": "2020-11-28T17:39:42.419898",
     "status": "completed"
    },
    "tags": []
   },
   "source": [
    "## Bayes Mininmum Risk (BMR)"
   ]
  },
  {
   "cell_type": "markdown",
   "metadata": {
    "papermill": {
     "duration": 0.030667,
     "end_time": "2020-11-28T17:39:42.511976",
     "exception": false,
     "start_time": "2020-11-28T17:39:42.481309",
     "status": "completed"
    },
    "tags": []
   },
   "source": [
    "### Note: cost dependent classification is also called Bayes Mininmum Risk.\n",
    "***see more about BMR [here](https://link.springer.com/article/10.1007/s42452-020-03375-w)***"
   ]
  },
  {
   "cell_type": "code",
   "execution_count": 17,
   "metadata": {
    "execution": {
     "iopub.execute_input": "2020-11-28T17:39:42.580143Z",
     "iopub.status.busy": "2020-11-28T17:39:42.579403Z",
     "iopub.status.idle": "2020-11-28T17:39:44.532965Z",
     "shell.execute_reply": "2020-11-28T17:39:44.532272Z"
    },
    "papermill": {
     "duration": 1.990191,
     "end_time": "2020-11-28T17:39:44.533115",
     "exception": false,
     "start_time": "2020-11-28T17:39:42.542924",
     "status": "completed"
    },
    "tags": []
   },
   "outputs": [],
   "source": [
    "bmr_model = LogisticRegression()\n",
    "bmr_scores = cross_validate(bmr_model, scaled_X, y, cv=cv, n_jobs=4, return_estimator=True)"
   ]
  },
  {
   "cell_type": "code",
   "execution_count": 18,
   "metadata": {
    "execution": {
     "iopub.execute_input": "2020-11-28T17:39:44.602984Z",
     "iopub.status.busy": "2020-11-28T17:39:44.602173Z",
     "iopub.status.idle": "2020-11-28T17:39:44.604984Z",
     "shell.execute_reply": "2020-11-28T17:39:44.605555Z"
    },
    "papermill": {
     "duration": 0.041479,
     "end_time": "2020-11-28T17:39:44.605746",
     "exception": false,
     "start_time": "2020-11-28T17:39:44.564267",
     "status": "completed"
    },
    "tags": []
   },
   "outputs": [],
   "source": [
    "# defining a function to predict based on the predicting that will minimize the expected cost.\n",
    "def bmr_predict(model, x, trans_cost):\n",
    "    prob = model.predict_proba(x)[:, 1]\n",
    "        \n",
    "    expected_cost_0 = prob * trans_cost\n",
    "    expected_cost_1 = (1-prob) * admin_cost\n",
    "        \n",
    "    pred = (expected_cost_1 < expected_cost_0).astype(int)\n",
    "    return pred"
   ]
  },
  {
   "cell_type": "markdown",
   "metadata": {
    "papermill": {
     "duration": 0.030688,
     "end_time": "2020-11-28T17:39:44.667711",
     "exception": false,
     "start_time": "2020-11-28T17:39:44.637023",
     "status": "completed"
    },
    "tags": []
   },
   "source": [
    "### Calculating AUC PR curve is not possible for BMR because predictions are based on minimum expected cost and not on probability. For this reason, we will calculate only f1_score and cost-savings for this model."
   ]
  },
  {
   "cell_type": "code",
   "execution_count": 19,
   "metadata": {
    "execution": {
     "iopub.execute_input": "2020-11-28T17:39:44.741459Z",
     "iopub.status.busy": "2020-11-28T17:39:44.738324Z",
     "iopub.status.idle": "2020-11-28T17:39:44.744344Z",
     "shell.execute_reply": "2020-11-28T17:39:44.743797Z"
    },
    "papermill": {
     "duration": 0.045693,
     "end_time": "2020-11-28T17:39:44.744476",
     "exception": false,
     "start_time": "2020-11-28T17:39:44.698783",
     "status": "completed"
    },
    "tags": []
   },
   "outputs": [],
   "source": [
    "def get_bmr_metric_scores(scores, x, y=y, cv_object=cv):\n",
    "    ind = ['split_'+str(n) for n in range(1, cv_object.n_splits+1)]\n",
    "    scores_df = pd.DataFrame(index=ind)\n",
    "\n",
    "    f1_results = []\n",
    "    cs_results = []\n",
    "    \n",
    "    for i, (_, test_ind) in zip(range(cv_object.n_splits), cv_object.split(x, y)):\n",
    "        amount = df['Amount'].values[test_ind]\n",
    "        \n",
    "        ypred = bmr_predict(scores['estimator'][i], x[test_ind], amount)\n",
    "        ytrue = y[test_ind]\n",
    "                \n",
    "        f1_results.append(f1_score(ytrue, ypred))\n",
    "        cs_results.append(cost_saving(ytrue, ypred, amount))\n",
    "        \n",
    "    scores_df['f1_score'] = f1_results\n",
    "    #scores_df['auc_pr'] = scores['test_average_precision']\n",
    "    scores_df['cost_savings'] = cs_results\n",
    "\n",
    "    return scores_df    "
   ]
  },
  {
   "cell_type": "code",
   "execution_count": 20,
   "metadata": {
    "execution": {
     "iopub.execute_input": "2020-11-28T17:39:44.812393Z",
     "iopub.status.busy": "2020-11-28T17:39:44.811600Z",
     "iopub.status.idle": "2020-11-28T17:39:44.973894Z",
     "shell.execute_reply": "2020-11-28T17:39:44.972805Z"
    },
    "papermill": {
     "duration": 0.198546,
     "end_time": "2020-11-28T17:39:44.974025",
     "exception": false,
     "start_time": "2020-11-28T17:39:44.775479",
     "status": "completed"
    },
    "tags": []
   },
   "outputs": [
    {
     "data": {
      "text/html": [
       "<div>\n",
       "<style scoped>\n",
       "    .dataframe tbody tr th:only-of-type {\n",
       "        vertical-align: middle;\n",
       "    }\n",
       "\n",
       "    .dataframe tbody tr th {\n",
       "        vertical-align: top;\n",
       "    }\n",
       "\n",
       "    .dataframe thead th {\n",
       "        text-align: right;\n",
       "    }\n",
       "</style>\n",
       "<table border=\"1\" class=\"dataframe\">\n",
       "  <thead>\n",
       "    <tr style=\"text-align: right;\">\n",
       "      <th></th>\n",
       "      <th>f1_score</th>\n",
       "      <th>cost_savings</th>\n",
       "    </tr>\n",
       "  </thead>\n",
       "  <tbody>\n",
       "    <tr>\n",
       "      <th>split_1</th>\n",
       "      <td>0.513447</td>\n",
       "      <td>0.902878</td>\n",
       "    </tr>\n",
       "    <tr>\n",
       "      <th>split_2</th>\n",
       "      <td>0.529412</td>\n",
       "      <td>0.802759</td>\n",
       "    </tr>\n",
       "    <tr>\n",
       "      <th>split_3</th>\n",
       "      <td>0.423077</td>\n",
       "      <td>0.592869</td>\n",
       "    </tr>\n",
       "    <tr>\n",
       "      <th>split_4</th>\n",
       "      <td>0.461017</td>\n",
       "      <td>0.732828</td>\n",
       "    </tr>\n",
       "  </tbody>\n",
       "</table>\n",
       "</div>"
      ],
      "text/plain": [
       "         f1_score  cost_savings\n",
       "split_1  0.513447      0.902878\n",
       "split_2  0.529412      0.802759\n",
       "split_3  0.423077      0.592869\n",
       "split_4  0.461017      0.732828"
      ]
     },
     "execution_count": 20,
     "metadata": {},
     "output_type": "execute_result"
    }
   ],
   "source": [
    "bmr_results = get_bmr_metric_scores(bmr_scores, scaled_X)\n",
    "bmr_results"
   ]
  },
  {
   "cell_type": "code",
   "execution_count": 21,
   "metadata": {
    "execution": {
     "iopub.execute_input": "2020-11-28T17:39:45.047145Z",
     "iopub.status.busy": "2020-11-28T17:39:45.046045Z",
     "iopub.status.idle": "2020-11-28T17:39:45.049964Z",
     "shell.execute_reply": "2020-11-28T17:39:45.050658Z"
    },
    "papermill": {
     "duration": 0.044573,
     "end_time": "2020-11-28T17:39:45.050814",
     "exception": false,
     "start_time": "2020-11-28T17:39:45.006241",
     "status": "completed"
    },
    "tags": []
   },
   "outputs": [
    {
     "data": {
      "text/plain": [
       "f1_score        0.481738\n",
       "cost_savings    0.757833\n",
       "dtype: float64"
      ]
     },
     "execution_count": 21,
     "metadata": {},
     "output_type": "execute_result"
    }
   ],
   "source": [
    "bmr_results.mean()"
   ]
  },
  {
   "cell_type": "markdown",
   "metadata": {
    "papermill": {
     "duration": 0.032425,
     "end_time": "2020-11-28T17:39:45.115938",
     "exception": false,
     "start_time": "2020-11-28T17:39:45.083513",
     "status": "completed"
    },
    "tags": []
   },
   "source": [
    "# We then see that for Logistic Regression, setting class weight without cost sensitivity seems to be the best approach. We will repeat these processes for other more sophisticated models and choose the best one as our final model."
   ]
  }
 ],
 "metadata": {
  "kernelspec": {
   "display_name": "Python 3",
   "language": "python",
   "name": "python3"
  },
  "language_info": {
   "codemirror_mode": {
    "name": "ipython",
    "version": 3
   },
   "file_extension": ".py",
   "mimetype": "text/x-python",
   "name": "python",
   "nbconvert_exporter": "python",
   "pygments_lexer": "ipython3",
   "version": "3.7.7"
  },
  "papermill": {
   "duration": 18.766168,
   "end_time": "2020-11-28T17:39:45.265625",
   "environment_variables": {},
   "exception": null,
   "input_path": "__notebook__.ipynb",
   "output_path": "__notebook__.ipynb",
   "parameters": {},
   "start_time": "2020-11-28T17:39:26.499457",
   "version": "2.1.0"
  }
 },
 "nbformat": 4,
 "nbformat_minor": 4
}
