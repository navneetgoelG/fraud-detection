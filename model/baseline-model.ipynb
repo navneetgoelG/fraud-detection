{
 "cells": [
  {
   "cell_type": "markdown",
   "metadata": {
    "papermill": {
     "duration": 0.029168,
     "end_time": "2020-12-05T02:19:08.740424",
     "exception": false,
     "start_time": "2020-12-05T02:19:08.711256",
     "status": "completed"
    },
    "tags": []
   },
   "source": [
    "## Baseline model (Logistic Regression)"
   ]
  },
  {
   "cell_type": "code",
   "execution_count": 1,
   "metadata": {
    "_cell_guid": "79c7e3d0-c299-4dcb-8224-4455121ee9b0",
    "_uuid": "d629ff2d2480ee46fbb7e2d37f6b5fab8052498a",
    "execution": {
     "iopub.execute_input": "2020-12-05T02:19:08.803580Z",
     "iopub.status.busy": "2020-12-05T02:19:08.802826Z",
     "iopub.status.idle": "2020-12-05T02:19:10.034212Z",
     "shell.execute_reply": "2020-12-05T02:19:10.033255Z"
    },
    "papermill": {
     "duration": 1.267838,
     "end_time": "2020-12-05T02:19:10.034358",
     "exception": false,
     "start_time": "2020-12-05T02:19:08.766520",
     "status": "completed"
    },
    "tags": []
   },
   "outputs": [],
   "source": [
    "# importing useful libraries\n",
    "\n",
    "import numpy as np\n",
    "import pandas as pd\n",
    "import matplotlib.pyplot as plt\n",
    "import seaborn as sns\n",
    "\n",
    "from sklearn.linear_model import LogisticRegression\n",
    "from sklearn.model_selection import StratifiedKFold, cross_validate\n",
    "from sklearn.preprocessing import StandardScaler\n",
    "from sklearn.metrics import f1_score\n",
    "\n",
    "import warnings\n",
    "warnings.filterwarnings('ignore')\n",
    "\n",
    "%matplotlib inline"
   ]
  },
  {
   "cell_type": "code",
   "execution_count": 2,
   "metadata": {
    "execution": {
     "iopub.execute_input": "2020-12-05T02:19:10.097429Z",
     "iopub.status.busy": "2020-12-05T02:19:10.096670Z",
     "iopub.status.idle": "2020-12-05T02:19:14.422345Z",
     "shell.execute_reply": "2020-12-05T02:19:14.421642Z"
    },
    "papermill": {
     "duration": 4.361483,
     "end_time": "2020-12-05T02:19:14.422461",
     "exception": false,
     "start_time": "2020-12-05T02:19:10.060978",
     "status": "completed"
    },
    "tags": []
   },
   "outputs": [
    {
     "name": "stdout",
     "output_type": "stream",
     "text": [
      "(284807, 31)\n"
     ]
    },
    {
     "data": {
      "text/html": [
       "<div>\n",
       "<style scoped>\n",
       "    .dataframe tbody tr th:only-of-type {\n",
       "        vertical-align: middle;\n",
       "    }\n",
       "\n",
       "    .dataframe tbody tr th {\n",
       "        vertical-align: top;\n",
       "    }\n",
       "\n",
       "    .dataframe thead th {\n",
       "        text-align: right;\n",
       "    }\n",
       "</style>\n",
       "<table border=\"1\" class=\"dataframe\">\n",
       "  <thead>\n",
       "    <tr style=\"text-align: right;\">\n",
       "      <th></th>\n",
       "      <th>Time</th>\n",
       "      <th>V1</th>\n",
       "      <th>V2</th>\n",
       "      <th>V3</th>\n",
       "      <th>V4</th>\n",
       "      <th>V5</th>\n",
       "      <th>V6</th>\n",
       "      <th>V7</th>\n",
       "      <th>V8</th>\n",
       "      <th>V9</th>\n",
       "      <th>...</th>\n",
       "      <th>V21</th>\n",
       "      <th>V22</th>\n",
       "      <th>V23</th>\n",
       "      <th>V24</th>\n",
       "      <th>V25</th>\n",
       "      <th>V26</th>\n",
       "      <th>V27</th>\n",
       "      <th>V28</th>\n",
       "      <th>Amount</th>\n",
       "      <th>Class</th>\n",
       "    </tr>\n",
       "  </thead>\n",
       "  <tbody>\n",
       "    <tr>\n",
       "      <th>0</th>\n",
       "      <td>0.0</td>\n",
       "      <td>-1.359807</td>\n",
       "      <td>-0.072781</td>\n",
       "      <td>2.536347</td>\n",
       "      <td>1.378155</td>\n",
       "      <td>-0.338321</td>\n",
       "      <td>0.462388</td>\n",
       "      <td>0.239599</td>\n",
       "      <td>0.098698</td>\n",
       "      <td>0.363787</td>\n",
       "      <td>...</td>\n",
       "      <td>-0.018307</td>\n",
       "      <td>0.277838</td>\n",
       "      <td>-0.110474</td>\n",
       "      <td>0.066928</td>\n",
       "      <td>0.128539</td>\n",
       "      <td>-0.189115</td>\n",
       "      <td>0.133558</td>\n",
       "      <td>-0.021053</td>\n",
       "      <td>149.62</td>\n",
       "      <td>0</td>\n",
       "    </tr>\n",
       "    <tr>\n",
       "      <th>1</th>\n",
       "      <td>0.0</td>\n",
       "      <td>1.191857</td>\n",
       "      <td>0.266151</td>\n",
       "      <td>0.166480</td>\n",
       "      <td>0.448154</td>\n",
       "      <td>0.060018</td>\n",
       "      <td>-0.082361</td>\n",
       "      <td>-0.078803</td>\n",
       "      <td>0.085102</td>\n",
       "      <td>-0.255425</td>\n",
       "      <td>...</td>\n",
       "      <td>-0.225775</td>\n",
       "      <td>-0.638672</td>\n",
       "      <td>0.101288</td>\n",
       "      <td>-0.339846</td>\n",
       "      <td>0.167170</td>\n",
       "      <td>0.125895</td>\n",
       "      <td>-0.008983</td>\n",
       "      <td>0.014724</td>\n",
       "      <td>2.69</td>\n",
       "      <td>0</td>\n",
       "    </tr>\n",
       "    <tr>\n",
       "      <th>2</th>\n",
       "      <td>1.0</td>\n",
       "      <td>-1.358354</td>\n",
       "      <td>-1.340163</td>\n",
       "      <td>1.773209</td>\n",
       "      <td>0.379780</td>\n",
       "      <td>-0.503198</td>\n",
       "      <td>1.800499</td>\n",
       "      <td>0.791461</td>\n",
       "      <td>0.247676</td>\n",
       "      <td>-1.514654</td>\n",
       "      <td>...</td>\n",
       "      <td>0.247998</td>\n",
       "      <td>0.771679</td>\n",
       "      <td>0.909412</td>\n",
       "      <td>-0.689281</td>\n",
       "      <td>-0.327642</td>\n",
       "      <td>-0.139097</td>\n",
       "      <td>-0.055353</td>\n",
       "      <td>-0.059752</td>\n",
       "      <td>378.66</td>\n",
       "      <td>0</td>\n",
       "    </tr>\n",
       "    <tr>\n",
       "      <th>3</th>\n",
       "      <td>1.0</td>\n",
       "      <td>-0.966272</td>\n",
       "      <td>-0.185226</td>\n",
       "      <td>1.792993</td>\n",
       "      <td>-0.863291</td>\n",
       "      <td>-0.010309</td>\n",
       "      <td>1.247203</td>\n",
       "      <td>0.237609</td>\n",
       "      <td>0.377436</td>\n",
       "      <td>-1.387024</td>\n",
       "      <td>...</td>\n",
       "      <td>-0.108300</td>\n",
       "      <td>0.005274</td>\n",
       "      <td>-0.190321</td>\n",
       "      <td>-1.175575</td>\n",
       "      <td>0.647376</td>\n",
       "      <td>-0.221929</td>\n",
       "      <td>0.062723</td>\n",
       "      <td>0.061458</td>\n",
       "      <td>123.50</td>\n",
       "      <td>0</td>\n",
       "    </tr>\n",
       "    <tr>\n",
       "      <th>4</th>\n",
       "      <td>2.0</td>\n",
       "      <td>-1.158233</td>\n",
       "      <td>0.877737</td>\n",
       "      <td>1.548718</td>\n",
       "      <td>0.403034</td>\n",
       "      <td>-0.407193</td>\n",
       "      <td>0.095921</td>\n",
       "      <td>0.592941</td>\n",
       "      <td>-0.270533</td>\n",
       "      <td>0.817739</td>\n",
       "      <td>...</td>\n",
       "      <td>-0.009431</td>\n",
       "      <td>0.798278</td>\n",
       "      <td>-0.137458</td>\n",
       "      <td>0.141267</td>\n",
       "      <td>-0.206010</td>\n",
       "      <td>0.502292</td>\n",
       "      <td>0.219422</td>\n",
       "      <td>0.215153</td>\n",
       "      <td>69.99</td>\n",
       "      <td>0</td>\n",
       "    </tr>\n",
       "  </tbody>\n",
       "</table>\n",
       "<p>5 rows × 31 columns</p>\n",
       "</div>"
      ],
      "text/plain": [
       "   Time        V1        V2        V3        V4        V5        V6        V7  \\\n",
       "0   0.0 -1.359807 -0.072781  2.536347  1.378155 -0.338321  0.462388  0.239599   \n",
       "1   0.0  1.191857  0.266151  0.166480  0.448154  0.060018 -0.082361 -0.078803   \n",
       "2   1.0 -1.358354 -1.340163  1.773209  0.379780 -0.503198  1.800499  0.791461   \n",
       "3   1.0 -0.966272 -0.185226  1.792993 -0.863291 -0.010309  1.247203  0.237609   \n",
       "4   2.0 -1.158233  0.877737  1.548718  0.403034 -0.407193  0.095921  0.592941   \n",
       "\n",
       "         V8        V9  ...       V21       V22       V23       V24       V25  \\\n",
       "0  0.098698  0.363787  ... -0.018307  0.277838 -0.110474  0.066928  0.128539   \n",
       "1  0.085102 -0.255425  ... -0.225775 -0.638672  0.101288 -0.339846  0.167170   \n",
       "2  0.247676 -1.514654  ...  0.247998  0.771679  0.909412 -0.689281 -0.327642   \n",
       "3  0.377436 -1.387024  ... -0.108300  0.005274 -0.190321 -1.175575  0.647376   \n",
       "4 -0.270533  0.817739  ... -0.009431  0.798278 -0.137458  0.141267 -0.206010   \n",
       "\n",
       "        V26       V27       V28  Amount  Class  \n",
       "0 -0.189115  0.133558 -0.021053  149.62      0  \n",
       "1  0.125895 -0.008983  0.014724    2.69      0  \n",
       "2 -0.139097 -0.055353 -0.059752  378.66      0  \n",
       "3 -0.221929  0.062723  0.061458  123.50      0  \n",
       "4  0.502292  0.219422  0.215153   69.99      0  \n",
       "\n",
       "[5 rows x 31 columns]"
      ]
     },
     "execution_count": 2,
     "metadata": {},
     "output_type": "execute_result"
    }
   ],
   "source": [
    "# loading in the dataset\n",
    "df = pd.read_csv('../input/creditcardfraud/creditcard.csv')\n",
    "print(df.shape)\n",
    "df.head()"
   ]
  },
  {
   "cell_type": "code",
   "execution_count": 3,
   "metadata": {
    "execution": {
     "iopub.execute_input": "2020-12-05T02:19:14.494691Z",
     "iopub.status.busy": "2020-12-05T02:19:14.493783Z",
     "iopub.status.idle": "2020-12-05T02:19:14.496986Z",
     "shell.execute_reply": "2020-12-05T02:19:14.497498Z"
    },
    "papermill": {
     "duration": 0.047098,
     "end_time": "2020-12-05T02:19:14.497679",
     "exception": false,
     "start_time": "2020-12-05T02:19:14.450581",
     "status": "completed"
    },
    "tags": []
   },
   "outputs": [],
   "source": [
    "# selecting the 19 most important features according to our EDA \n",
    "X = df[['V1', 'V2', 'V3', 'V4', 'V5', 'V6', 'V7', 'V8', 'V9', 'V10', 'V11', 'V12', 'V13', 'V14', \\\n",
    "        'V16', 'V17', 'V21', 'V23', 'V27']]\n",
    "\n",
    "y = df['Class'] # selecting the target variable"
   ]
  },
  {
   "cell_type": "code",
   "execution_count": 4,
   "metadata": {
    "execution": {
     "iopub.execute_input": "2020-12-05T02:19:14.559531Z",
     "iopub.status.busy": "2020-12-05T02:19:14.558518Z",
     "iopub.status.idle": "2020-12-05T02:19:14.589231Z",
     "shell.execute_reply": "2020-12-05T02:19:14.588495Z"
    },
    "papermill": {
     "duration": 0.063929,
     "end_time": "2020-12-05T02:19:14.589352",
     "exception": false,
     "start_time": "2020-12-05T02:19:14.525423",
     "status": "completed"
    },
    "tags": []
   },
   "outputs": [
    {
     "data": {
      "text/plain": [
       "{0: 3.51722561243691e-06, 1: 0.0020325203252032522}"
      ]
     },
     "execution_count": 4,
     "metadata": {},
     "output_type": "execute_result"
    }
   ],
   "source": [
    "val_count = df['Class'].value_counts()\n",
    "weights = dict(1 / val_count) # to be used as class weights\n",
    "weights"
   ]
  },
  {
   "cell_type": "markdown",
   "metadata": {
    "papermill": {
     "duration": 0.027904,
     "end_time": "2020-12-05T02:19:14.645654",
     "exception": false,
     "start_time": "2020-12-05T02:19:14.617750",
     "status": "completed"
    },
    "tags": []
   },
   "source": [
    "## <center>Cost matrix for fraud detection</center>\n",
    "\n",
    "||Actual Positive|Actual Negative|\n",
    "|:-:|:-:|:-:|\n",
    "|**Predicted Positive**|administrative cost|administrative cost|\n",
    "|**Predicted Negative**|transactional cost|0|"
   ]
  },
  {
   "cell_type": "markdown",
   "metadata": {
    "papermill": {
     "duration": 0.028364,
     "end_time": "2020-12-05T02:19:14.702191",
     "exception": false,
     "start_time": "2020-12-05T02:19:14.673827",
     "status": "completed"
    },
    "tags": []
   },
   "source": [
    "### *see [this article](https://towardsdatascience.com/fraud-detection-with-cost-sensitive-machine-learning-24b8760d35d9) for more about cost sensitive machine learning for fraud detection*"
   ]
  },
  {
   "cell_type": "code",
   "execution_count": 5,
   "metadata": {
    "execution": {
     "iopub.execute_input": "2020-12-05T02:19:14.763751Z",
     "iopub.status.busy": "2020-12-05T02:19:14.762702Z",
     "iopub.status.idle": "2020-12-05T02:19:14.765966Z",
     "shell.execute_reply": "2020-12-05T02:19:14.765384Z"
    },
    "papermill": {
     "duration": 0.035689,
     "end_time": "2020-12-05T02:19:14.766097",
     "exception": false,
     "start_time": "2020-12-05T02:19:14.730408",
     "status": "completed"
    },
    "tags": []
   },
   "outputs": [],
   "source": [
    "admin_cost = 2.5"
   ]
  },
  {
   "cell_type": "markdown",
   "metadata": {
    "papermill": {
     "duration": 0.027822,
     "end_time": "2020-12-05T02:19:14.822237",
     "exception": false,
     "start_time": "2020-12-05T02:19:14.794415",
     "status": "completed"
    },
    "tags": []
   },
   "source": [
    "### our choice of using 2.5euros as the administartive cost because it seems to be the best for our problem as suggested by [this paper](https://www.researchgate.net/publication/262390835_Cost_Sensitive_Credit_Card_Fraud_Detection_Using_Bayes_Minimum_Risk)"
   ]
  },
  {
   "cell_type": "markdown",
   "metadata": {
    "papermill": {
     "duration": 0.027822,
     "end_time": "2020-12-05T02:19:14.878289",
     "exception": false,
     "start_time": "2020-12-05T02:19:14.850467",
     "status": "completed"
    },
    "tags": []
   },
   "source": [
    "## Also, implementing cost sensitive models for sklearn's classifier is challenging. It is as good as creating a new model from the scratch. For simplicity, we will not penalize our model of True Positives (although, the cost matrix suggests we should penalize it for true positives). This will mean that we are only penalizing MISCLASSIFICATIONS (trying to minimize costs due to misclassification and not cost in general)."
   ]
  },
  {
   "cell_type": "code",
   "execution_count": 6,
   "metadata": {
    "execution": {
     "iopub.execute_input": "2020-12-05T02:19:14.944370Z",
     "iopub.status.busy": "2020-12-05T02:19:14.943393Z",
     "iopub.status.idle": "2020-12-05T02:19:14.946423Z",
     "shell.execute_reply": "2020-12-05T02:19:14.945854Z"
    },
    "papermill": {
     "duration": 0.039852,
     "end_time": "2020-12-05T02:19:14.946545",
     "exception": false,
     "start_time": "2020-12-05T02:19:14.906693",
     "status": "completed"
    },
    "tags": []
   },
   "outputs": [],
   "source": [
    "# defining a function to calculate cost savings\n",
    "def cost_saving(ytrue, ypred, amount):\n",
    "    fp = np.sum((ytrue == 0) & (ypred == 1))\n",
    "    cost = np.sum(fp*admin_cost) + np.sum((amount[(ytrue == 1) & (ypred == 0)]))\n",
    "    max_cost = np.sum((amount[(ytrue == 1)]))\n",
    "    savings = 1 - (cost/max_cost)\n",
    "    \n",
    "    return savings"
   ]
  },
  {
   "cell_type": "code",
   "execution_count": 7,
   "metadata": {
    "execution": {
     "iopub.execute_input": "2020-12-05T02:19:15.010007Z",
     "iopub.status.busy": "2020-12-05T02:19:15.009077Z",
     "iopub.status.idle": "2020-12-05T02:19:15.012269Z",
     "shell.execute_reply": "2020-12-05T02:19:15.011538Z"
    },
    "papermill": {
     "duration": 0.036869,
     "end_time": "2020-12-05T02:19:15.012387",
     "exception": false,
     "start_time": "2020-12-05T02:19:14.975518",
     "status": "completed"
    },
    "tags": []
   },
   "outputs": [],
   "source": [
    "cv = StratifiedKFold(n_splits=4, shuffle=True, random_state=1)"
   ]
  },
  {
   "cell_type": "code",
   "execution_count": 8,
   "metadata": {
    "execution": {
     "iopub.execute_input": "2020-12-05T02:19:15.079036Z",
     "iopub.status.busy": "2020-12-05T02:19:15.078261Z",
     "iopub.status.idle": "2020-12-05T02:19:15.081395Z",
     "shell.execute_reply": "2020-12-05T02:19:15.080801Z"
    },
    "papermill": {
     "duration": 0.040322,
     "end_time": "2020-12-05T02:19:15.081513",
     "exception": false,
     "start_time": "2020-12-05T02:19:15.041191",
     "status": "completed"
    },
    "tags": []
   },
   "outputs": [],
   "source": [
    "# defining a function to calculate cost saving per fold (splits) of our cv\n",
    "def cost_saving_per_split(scores, x, y, cv_object):\n",
    "    results = []\n",
    "    for i, (_, test_ind) in zip(range(cv_object.n_splits), cv_object.split(x, y)):\n",
    "        ypred = scores['estimator'][i].predict(x[test_ind])\n",
    "        ytrue = y[test_ind]\n",
    "        amount = df['Amount'].values[test_ind]\n",
    "        results.append(cost_saving(ytrue, ypred, amount))\n",
    "        \n",
    "    return results"
   ]
  },
  {
   "cell_type": "code",
   "execution_count": 9,
   "metadata": {
    "execution": {
     "iopub.execute_input": "2020-12-05T02:19:15.148674Z",
     "iopub.status.busy": "2020-12-05T02:19:15.147836Z",
     "iopub.status.idle": "2020-12-05T02:19:15.150052Z",
     "shell.execute_reply": "2020-12-05T02:19:15.150751Z"
    },
    "papermill": {
     "duration": 0.040497,
     "end_time": "2020-12-05T02:19:15.150913",
     "exception": false,
     "start_time": "2020-12-05T02:19:15.110416",
     "status": "completed"
    },
    "tags": []
   },
   "outputs": [],
   "source": [
    "# defining a function to return a dataframe of metrics results for each fold in our cv\n",
    "def get_metric_scores(scores, x, y=y, cv_object=cv):\n",
    "    ind = ['split_'+str(n) for n in range(1, cv_object.n_splits+1)]\n",
    "    \n",
    "    scores_df = pd.DataFrame(index=ind)\n",
    "    \n",
    "    scores_df['f1_score'] = scores['test_f1']\n",
    "    scores_df['auc_pr'] = scores['test_average_precision']\n",
    "    scores_df['cost_savings'] = cost_saving_per_split(scores, x, y, cv_object)\n",
    "\n",
    "    return scores_df"
   ]
  },
  {
   "cell_type": "code",
   "execution_count": 10,
   "metadata": {
    "execution": {
     "iopub.execute_input": "2020-12-05T02:19:15.214462Z",
     "iopub.status.busy": "2020-12-05T02:19:15.213617Z",
     "iopub.status.idle": "2020-12-05T02:19:15.218962Z",
     "shell.execute_reply": "2020-12-05T02:19:15.218325Z"
    },
    "papermill": {
     "duration": 0.039096,
     "end_time": "2020-12-05T02:19:15.219092",
     "exception": false,
     "start_time": "2020-12-05T02:19:15.179996",
     "status": "completed"
    },
    "tags": []
   },
   "outputs": [],
   "source": [
    "from sklearn.pipeline import Pipeline"
   ]
  },
  {
   "cell_type": "markdown",
   "metadata": {
    "papermill": {
     "duration": 0.028945,
     "end_time": "2020-12-05T02:19:15.277413",
     "exception": false,
     "start_time": "2020-12-05T02:19:15.248468",
     "status": "completed"
    },
    "tags": []
   },
   "source": [
    "## Fraud Sensitive model (Not cost sensitive)"
   ]
  },
  {
   "cell_type": "code",
   "execution_count": null,
   "metadata": {
    "papermill": {
     "duration": 0.028971,
     "end_time": "2020-12-05T02:19:15.336164",
     "exception": false,
     "start_time": "2020-12-05T02:19:15.307193",
     "status": "completed"
    },
    "tags": []
   },
   "outputs": [],
   "source": []
  },
  {
   "cell_type": "code",
   "execution_count": 11,
   "metadata": {
    "execution": {
     "iopub.execute_input": "2020-12-05T02:19:15.402328Z",
     "iopub.status.busy": "2020-12-05T02:19:15.401548Z",
     "iopub.status.idle": "2020-12-05T02:19:18.719617Z",
     "shell.execute_reply": "2020-12-05T02:19:18.720488Z"
    },
    "papermill": {
     "duration": 3.35552,
     "end_time": "2020-12-05T02:19:18.720737",
     "exception": false,
     "start_time": "2020-12-05T02:19:15.365217",
     "status": "completed"
    },
    "tags": []
   },
   "outputs": [],
   "source": [
    "fraud_sensitive_model = LogisticRegression(class_weight=weights)\n",
    "fraud_sensitive_scaler = StandardScaler()\n",
    "\n",
    "fraud_sensitive_pipe = Pipeline([('scaler', fraud_sensitive_scaler), ('model', fraud_sensitive_model)])\n",
    "\n",
    "fraud_sensitive_scores = cross_validate(fraud_sensitive_pipe, np.array(X), y, \\\n",
    "                            scoring=['f1', 'average_precision'], cv=cv, n_jobs=4, \\\n",
    "                                        return_estimator=True, error_score='raise')"
   ]
  },
  {
   "cell_type": "markdown",
   "metadata": {
    "papermill": {
     "duration": 0.02898,
     "end_time": "2020-12-05T02:19:18.786994",
     "exception": false,
     "start_time": "2020-12-05T02:19:18.758014",
     "status": "completed"
    },
    "tags": []
   },
   "source": [
    "### Note: we used cross_validate because it can take more than one scoring metrics and it can also return the fitting model for each fold."
   ]
  },
  {
   "cell_type": "code",
   "execution_count": 12,
   "metadata": {
    "execution": {
     "iopub.execute_input": "2020-12-05T02:19:18.852753Z",
     "iopub.status.busy": "2020-12-05T02:19:18.851180Z",
     "iopub.status.idle": "2020-12-05T02:19:19.021368Z",
     "shell.execute_reply": "2020-12-05T02:19:19.020793Z"
    },
    "papermill": {
     "duration": 0.205337,
     "end_time": "2020-12-05T02:19:19.021492",
     "exception": false,
     "start_time": "2020-12-05T02:19:18.816155",
     "status": "completed"
    },
    "tags": []
   },
   "outputs": [
    {
     "data": {
      "text/html": [
       "<div>\n",
       "<style scoped>\n",
       "    .dataframe tbody tr th:only-of-type {\n",
       "        vertical-align: middle;\n",
       "    }\n",
       "\n",
       "    .dataframe tbody tr th {\n",
       "        vertical-align: top;\n",
       "    }\n",
       "\n",
       "    .dataframe thead th {\n",
       "        text-align: right;\n",
       "    }\n",
       "</style>\n",
       "<table border=\"1\" class=\"dataframe\">\n",
       "  <thead>\n",
       "    <tr style=\"text-align: right;\">\n",
       "      <th></th>\n",
       "      <th>f1_score</th>\n",
       "      <th>auc_pr</th>\n",
       "      <th>cost_savings</th>\n",
       "    </tr>\n",
       "  </thead>\n",
       "  <tbody>\n",
       "    <tr>\n",
       "      <th>split_1</th>\n",
       "      <td>0.651613</td>\n",
       "      <td>0.679352</td>\n",
       "      <td>0.729722</td>\n",
       "    </tr>\n",
       "    <tr>\n",
       "      <th>split_2</th>\n",
       "      <td>0.694534</td>\n",
       "      <td>0.803033</td>\n",
       "      <td>0.744930</td>\n",
       "    </tr>\n",
       "    <tr>\n",
       "      <th>split_3</th>\n",
       "      <td>0.767025</td>\n",
       "      <td>0.779043</td>\n",
       "      <td>0.811117</td>\n",
       "    </tr>\n",
       "    <tr>\n",
       "      <th>split_4</th>\n",
       "      <td>0.687075</td>\n",
       "      <td>0.740545</td>\n",
       "      <td>0.727136</td>\n",
       "    </tr>\n",
       "  </tbody>\n",
       "</table>\n",
       "</div>"
      ],
      "text/plain": [
       "         f1_score    auc_pr  cost_savings\n",
       "split_1  0.651613  0.679352      0.729722\n",
       "split_2  0.694534  0.803033      0.744930\n",
       "split_3  0.767025  0.779043      0.811117\n",
       "split_4  0.687075  0.740545      0.727136"
      ]
     },
     "execution_count": 12,
     "metadata": {},
     "output_type": "execute_result"
    }
   ],
   "source": [
    "fraud_sensitive_results = get_metric_scores(fraud_sensitive_scores, np.array(X))\n",
    "fraud_sensitive_results"
   ]
  },
  {
   "cell_type": "code",
   "execution_count": 13,
   "metadata": {
    "execution": {
     "iopub.execute_input": "2020-12-05T02:19:19.090215Z",
     "iopub.status.busy": "2020-12-05T02:19:19.089222Z",
     "iopub.status.idle": "2020-12-05T02:19:19.093910Z",
     "shell.execute_reply": "2020-12-05T02:19:19.093269Z"
    },
    "papermill": {
     "duration": 0.042186,
     "end_time": "2020-12-05T02:19:19.094036",
     "exception": false,
     "start_time": "2020-12-05T02:19:19.051850",
     "status": "completed"
    },
    "tags": []
   },
   "outputs": [
    {
     "data": {
      "text/plain": [
       "f1_score        0.700062\n",
       "auc_pr          0.750493\n",
       "cost_savings    0.753226\n",
       "dtype: float64"
      ]
     },
     "execution_count": 13,
     "metadata": {},
     "output_type": "execute_result"
    }
   ],
   "source": [
    "fraud_sensitive_results.mean()"
   ]
  },
  {
   "cell_type": "code",
   "execution_count": null,
   "metadata": {
    "papermill": {
     "duration": 0.032042,
     "end_time": "2020-12-05T02:19:19.157265",
     "exception": false,
     "start_time": "2020-12-05T02:19:19.125223",
     "status": "completed"
    },
    "tags": []
   },
   "outputs": [],
   "source": []
  },
  {
   "cell_type": "markdown",
   "metadata": {
    "papermill": {
     "duration": 0.031068,
     "end_time": "2020-12-05T02:19:19.219363",
     "exception": false,
     "start_time": "2020-12-05T02:19:19.188295",
     "status": "completed"
    },
    "tags": []
   },
   "source": [
    "## Cost sensitive model"
   ]
  },
  {
   "cell_type": "markdown",
   "metadata": {
    "papermill": {
     "duration": 0.030545,
     "end_time": "2020-12-05T02:19:19.280777",
     "exception": false,
     "start_time": "2020-12-05T02:19:19.250232",
     "status": "completed"
    },
    "tags": []
   },
   "source": [
    "### we will use sample weight to penalize our model accordingly. admin cost for FP and transactional cost (amount) for FN."
   ]
  },
  {
   "cell_type": "code",
   "execution_count": 14,
   "metadata": {
    "execution": {
     "iopub.execute_input": "2020-12-05T02:19:19.360867Z",
     "iopub.status.busy": "2020-12-05T02:19:19.355915Z",
     "iopub.status.idle": "2020-12-05T02:19:19.470856Z",
     "shell.execute_reply": "2020-12-05T02:19:19.470199Z"
    },
    "papermill": {
     "duration": 0.159565,
     "end_time": "2020-12-05T02:19:19.470978",
     "exception": false,
     "start_time": "2020-12-05T02:19:19.311413",
     "status": "completed"
    },
    "tags": []
   },
   "outputs": [],
   "source": [
    "sample_weights = np.array([df['Amount'][ind] if fraud else admin_cost for ind, fraud in enumerate(y)])"
   ]
  },
  {
   "cell_type": "code",
   "execution_count": 15,
   "metadata": {
    "execution": {
     "iopub.execute_input": "2020-12-05T02:19:19.541694Z",
     "iopub.status.busy": "2020-12-05T02:19:19.540905Z",
     "iopub.status.idle": "2020-12-05T02:19:21.354003Z",
     "shell.execute_reply": "2020-12-05T02:19:21.353141Z"
    },
    "papermill": {
     "duration": 1.851852,
     "end_time": "2020-12-05T02:19:21.354174",
     "exception": false,
     "start_time": "2020-12-05T02:19:19.502322",
     "status": "completed"
    },
    "tags": []
   },
   "outputs": [],
   "source": [
    "scaler2 = StandardScaler()\n",
    "cost_sensitive_model = LogisticRegression()\n",
    "\n",
    "cost_sensitive_pipe = Pipeline([('scaler', scaler2), ('model', cost_sensitive_model)])\n",
    "\n",
    "cost_sensitive_scores = cross_validate(cost_sensitive_pipe, np.array(X), y, \\\n",
    "                        scoring=['f1', 'average_precision'], cv=cv, n_jobs=4, return_estimator=True, \\\n",
    "                          fit_params={'model__sample_weight': sample_weights}, error_score='raise')"
   ]
  },
  {
   "cell_type": "code",
   "execution_count": 16,
   "metadata": {
    "execution": {
     "iopub.execute_input": "2020-12-05T02:19:21.422110Z",
     "iopub.status.busy": "2020-12-05T02:19:21.421300Z",
     "iopub.status.idle": "2020-12-05T02:19:21.574314Z",
     "shell.execute_reply": "2020-12-05T02:19:21.573482Z"
    },
    "papermill": {
     "duration": 0.188965,
     "end_time": "2020-12-05T02:19:21.574457",
     "exception": false,
     "start_time": "2020-12-05T02:19:21.385492",
     "status": "completed"
    },
    "tags": []
   },
   "outputs": [
    {
     "data": {
      "text/html": [
       "<div>\n",
       "<style scoped>\n",
       "    .dataframe tbody tr th:only-of-type {\n",
       "        vertical-align: middle;\n",
       "    }\n",
       "\n",
       "    .dataframe tbody tr th {\n",
       "        vertical-align: top;\n",
       "    }\n",
       "\n",
       "    .dataframe thead th {\n",
       "        text-align: right;\n",
       "    }\n",
       "</style>\n",
       "<table border=\"1\" class=\"dataframe\">\n",
       "  <thead>\n",
       "    <tr style=\"text-align: right;\">\n",
       "      <th></th>\n",
       "      <th>f1_score</th>\n",
       "      <th>auc_pr</th>\n",
       "      <th>cost_savings</th>\n",
       "    </tr>\n",
       "  </thead>\n",
       "  <tbody>\n",
       "    <tr>\n",
       "      <th>split_1</th>\n",
       "      <td>0.491484</td>\n",
       "      <td>0.663981</td>\n",
       "      <td>0.716914</td>\n",
       "    </tr>\n",
       "    <tr>\n",
       "      <th>split_2</th>\n",
       "      <td>0.496487</td>\n",
       "      <td>0.693650</td>\n",
       "      <td>0.778460</td>\n",
       "    </tr>\n",
       "    <tr>\n",
       "      <th>split_3</th>\n",
       "      <td>0.515152</td>\n",
       "      <td>0.710068</td>\n",
       "      <td>0.767576</td>\n",
       "    </tr>\n",
       "    <tr>\n",
       "      <th>split_4</th>\n",
       "      <td>0.493947</td>\n",
       "      <td>0.710257</td>\n",
       "      <td>0.707488</td>\n",
       "    </tr>\n",
       "  </tbody>\n",
       "</table>\n",
       "</div>"
      ],
      "text/plain": [
       "         f1_score    auc_pr  cost_savings\n",
       "split_1  0.491484  0.663981      0.716914\n",
       "split_2  0.496487  0.693650      0.778460\n",
       "split_3  0.515152  0.710068      0.767576\n",
       "split_4  0.493947  0.710257      0.707488"
      ]
     },
     "execution_count": 16,
     "metadata": {},
     "output_type": "execute_result"
    }
   ],
   "source": [
    "cost_sensitive_results = get_metric_scores(cost_sensitive_scores, np.array(X))\n",
    "cost_sensitive_results"
   ]
  },
  {
   "cell_type": "code",
   "execution_count": 17,
   "metadata": {
    "execution": {
     "iopub.execute_input": "2020-12-05T02:19:21.648841Z",
     "iopub.status.busy": "2020-12-05T02:19:21.647801Z",
     "iopub.status.idle": "2020-12-05T02:19:21.652673Z",
     "shell.execute_reply": "2020-12-05T02:19:21.651937Z"
    },
    "papermill": {
     "duration": 0.044013,
     "end_time": "2020-12-05T02:19:21.652796",
     "exception": false,
     "start_time": "2020-12-05T02:19:21.608783",
     "status": "completed"
    },
    "tags": []
   },
   "outputs": [
    {
     "data": {
      "text/plain": [
       "f1_score        0.499267\n",
       "auc_pr          0.694489\n",
       "cost_savings    0.742609\n",
       "dtype: float64"
      ]
     },
     "execution_count": 17,
     "metadata": {},
     "output_type": "execute_result"
    }
   ],
   "source": [
    "cost_sensitive_results.mean()"
   ]
  },
  {
   "cell_type": "code",
   "execution_count": null,
   "metadata": {
    "papermill": {
     "duration": 0.03261,
     "end_time": "2020-12-05T02:19:21.717793",
     "exception": false,
     "start_time": "2020-12-05T02:19:21.685183",
     "status": "completed"
    },
    "tags": []
   },
   "outputs": [],
   "source": []
  },
  {
   "cell_type": "markdown",
   "metadata": {
    "papermill": {
     "duration": 0.03191,
     "end_time": "2020-12-05T02:19:21.782009",
     "exception": false,
     "start_time": "2020-12-05T02:19:21.750099",
     "status": "completed"
    },
    "tags": []
   },
   "source": [
    "## Bayes Mininmum Risk (BMR)"
   ]
  },
  {
   "cell_type": "markdown",
   "metadata": {
    "papermill": {
     "duration": 0.031841,
     "end_time": "2020-12-05T02:19:21.846277",
     "exception": false,
     "start_time": "2020-12-05T02:19:21.814436",
     "status": "completed"
    },
    "tags": []
   },
   "source": [
    "### Note: cost dependent classification is also called Bayes Mininmum Risk.\n",
    "***see more about BMR [here](https://link.springer.com/article/10.1007/s42452-020-03375-w)***"
   ]
  },
  {
   "cell_type": "code",
   "execution_count": 18,
   "metadata": {
    "execution": {
     "iopub.execute_input": "2020-12-05T02:19:21.918615Z",
     "iopub.status.busy": "2020-12-05T02:19:21.917867Z",
     "iopub.status.idle": "2020-12-05T02:19:23.849116Z",
     "shell.execute_reply": "2020-12-05T02:19:23.848027Z"
    },
    "papermill": {
     "duration": 1.97057,
     "end_time": "2020-12-05T02:19:23.849285",
     "exception": false,
     "start_time": "2020-12-05T02:19:21.878715",
     "status": "completed"
    },
    "tags": []
   },
   "outputs": [],
   "source": [
    "scaler3 = StandardScaler()\n",
    "bmr_model = LogisticRegression()\n",
    "\n",
    "bmr_pipe = Pipeline([('scaler', scaler3), ('model', bmr_model)])\n",
    "\n",
    "bmr_scores = cross_validate(bmr_pipe, np.array(X), y, cv=cv, n_jobs=4, return_estimator=True, \\\n",
    "                            error_score='raise')"
   ]
  },
  {
   "cell_type": "code",
   "execution_count": 19,
   "metadata": {
    "execution": {
     "iopub.execute_input": "2020-12-05T02:19:23.925275Z",
     "iopub.status.busy": "2020-12-05T02:19:23.924209Z",
     "iopub.status.idle": "2020-12-05T02:19:23.927978Z",
     "shell.execute_reply": "2020-12-05T02:19:23.927018Z"
    },
    "papermill": {
     "duration": 0.045314,
     "end_time": "2020-12-05T02:19:23.928145",
     "exception": false,
     "start_time": "2020-12-05T02:19:23.882831",
     "status": "completed"
    },
    "tags": []
   },
   "outputs": [],
   "source": [
    "# defining a function to predict based on the predicting that will minimize the expected cost.\n",
    "def bmr_predict(model, x, trans_cost):\n",
    "    prob = model.predict_proba(x)[:, 1]\n",
    "        \n",
    "    expected_cost_0 = prob * trans_cost\n",
    "    expected_cost_1 = (1-prob) * admin_cost\n",
    "        \n",
    "    pred = (expected_cost_1 < expected_cost_0).astype(int)\n",
    "    return pred"
   ]
  },
  {
   "cell_type": "markdown",
   "metadata": {
    "papermill": {
     "duration": 0.04664,
     "end_time": "2020-12-05T02:19:24.015938",
     "exception": false,
     "start_time": "2020-12-05T02:19:23.969298",
     "status": "completed"
    },
    "tags": []
   },
   "source": [
    "### Calculating AUC PR curve is not possible for BMR because predictions are based on minimum expected cost and not on probability. For this reason, we will calculate only f1_score and cost-savings for this model."
   ]
  },
  {
   "cell_type": "code",
   "execution_count": 20,
   "metadata": {
    "execution": {
     "iopub.execute_input": "2020-12-05T02:19:24.111985Z",
     "iopub.status.busy": "2020-12-05T02:19:24.110774Z",
     "iopub.status.idle": "2020-12-05T02:19:24.114269Z",
     "shell.execute_reply": "2020-12-05T02:19:24.113683Z"
    },
    "papermill": {
     "duration": 0.053364,
     "end_time": "2020-12-05T02:19:24.114395",
     "exception": false,
     "start_time": "2020-12-05T02:19:24.061031",
     "status": "completed"
    },
    "tags": []
   },
   "outputs": [],
   "source": [
    "def get_bmr_metric_scores(scores, x, y=y, cv_object=cv):\n",
    "    ind = ['split_'+str(n) for n in range(1, cv_object.n_splits+1)]\n",
    "    scores_df = pd.DataFrame(index=ind)\n",
    "\n",
    "    f1_results = []\n",
    "    cs_results = []\n",
    "    \n",
    "    for i, (_, test_ind) in zip(range(cv_object.n_splits), cv_object.split(x, y)):\n",
    "        amount = df['Amount'].values[test_ind]\n",
    "        \n",
    "        ypred = bmr_predict(scores['estimator'][i], x[test_ind], amount)\n",
    "        ytrue = y[test_ind]\n",
    "                \n",
    "        f1_results.append(f1_score(ytrue, ypred))\n",
    "        cs_results.append(cost_saving(ytrue, ypred, amount))\n",
    "        \n",
    "    scores_df['f1_score'] = f1_results\n",
    "    #scores_df['auc_pr'] = scores['test_average_precision']\n",
    "    scores_df['cost_savings'] = cs_results\n",
    "\n",
    "    return scores_df    "
   ]
  },
  {
   "cell_type": "code",
   "execution_count": 21,
   "metadata": {
    "execution": {
     "iopub.execute_input": "2020-12-05T02:19:24.188231Z",
     "iopub.status.busy": "2020-12-05T02:19:24.186635Z",
     "iopub.status.idle": "2020-12-05T02:19:24.428179Z",
     "shell.execute_reply": "2020-12-05T02:19:24.427355Z"
    },
    "papermill": {
     "duration": 0.280647,
     "end_time": "2020-12-05T02:19:24.428312",
     "exception": false,
     "start_time": "2020-12-05T02:19:24.147665",
     "status": "completed"
    },
    "tags": []
   },
   "outputs": [
    {
     "data": {
      "text/html": [
       "<div>\n",
       "<style scoped>\n",
       "    .dataframe tbody tr th:only-of-type {\n",
       "        vertical-align: middle;\n",
       "    }\n",
       "\n",
       "    .dataframe tbody tr th {\n",
       "        vertical-align: top;\n",
       "    }\n",
       "\n",
       "    .dataframe thead th {\n",
       "        text-align: right;\n",
       "    }\n",
       "</style>\n",
       "<table border=\"1\" class=\"dataframe\">\n",
       "  <thead>\n",
       "    <tr style=\"text-align: right;\">\n",
       "      <th></th>\n",
       "      <th>f1_score</th>\n",
       "      <th>cost_savings</th>\n",
       "    </tr>\n",
       "  </thead>\n",
       "  <tbody>\n",
       "    <tr>\n",
       "      <th>split_1</th>\n",
       "      <td>0.482558</td>\n",
       "      <td>0.710444</td>\n",
       "    </tr>\n",
       "    <tr>\n",
       "      <th>split_2</th>\n",
       "      <td>0.524217</td>\n",
       "      <td>0.866836</td>\n",
       "    </tr>\n",
       "    <tr>\n",
       "      <th>split_3</th>\n",
       "      <td>0.543131</td>\n",
       "      <td>0.846964</td>\n",
       "    </tr>\n",
       "    <tr>\n",
       "      <th>split_4</th>\n",
       "      <td>0.457478</td>\n",
       "      <td>0.692986</td>\n",
       "    </tr>\n",
       "  </tbody>\n",
       "</table>\n",
       "</div>"
      ],
      "text/plain": [
       "         f1_score  cost_savings\n",
       "split_1  0.482558      0.710444\n",
       "split_2  0.524217      0.866836\n",
       "split_3  0.543131      0.846964\n",
       "split_4  0.457478      0.692986"
      ]
     },
     "execution_count": 21,
     "metadata": {},
     "output_type": "execute_result"
    }
   ],
   "source": [
    "bmr_results = get_bmr_metric_scores(bmr_scores, np.array(X))\n",
    "bmr_results"
   ]
  },
  {
   "cell_type": "code",
   "execution_count": 22,
   "metadata": {
    "execution": {
     "iopub.execute_input": "2020-12-05T02:19:24.504116Z",
     "iopub.status.busy": "2020-12-05T02:19:24.501293Z",
     "iopub.status.idle": "2020-12-05T02:19:24.508744Z",
     "shell.execute_reply": "2020-12-05T02:19:24.508076Z"
    },
    "papermill": {
     "duration": 0.046484,
     "end_time": "2020-12-05T02:19:24.508871",
     "exception": false,
     "start_time": "2020-12-05T02:19:24.462387",
     "status": "completed"
    },
    "tags": []
   },
   "outputs": [
    {
     "data": {
      "text/plain": [
       "f1_score        0.501846\n",
       "cost_savings    0.779307\n",
       "dtype: float64"
      ]
     },
     "execution_count": 22,
     "metadata": {},
     "output_type": "execute_result"
    }
   ],
   "source": [
    "bmr_results.mean()"
   ]
  },
  {
   "cell_type": "markdown",
   "metadata": {
    "papermill": {
     "duration": 0.035142,
     "end_time": "2020-12-05T02:19:24.579997",
     "exception": false,
     "start_time": "2020-12-05T02:19:24.544855",
     "status": "completed"
    },
    "tags": []
   },
   "source": [
    "# We then see that for Logistic Regression, setting class weight without cost sensitivity seems to be the best approach. We will repeat these processes for other more sophisticated models and choose the best one as our final model."
   ]
  }
 ],
 "metadata": {
  "kernelspec": {
   "display_name": "Python 3",
   "language": "python",
   "name": "python3"
  },
  "language_info": {
   "codemirror_mode": {
    "name": "ipython",
    "version": 3
   },
   "file_extension": ".py",
   "mimetype": "text/x-python",
   "name": "python",
   "nbconvert_exporter": "python",
   "pygments_lexer": "ipython3",
   "version": "3.7.6"
  },
  "papermill": {
   "duration": 21.983039,
   "end_time": "2020-12-05T02:19:25.714492",
   "environment_variables": {},
   "exception": null,
   "input_path": "__notebook__.ipynb",
   "output_path": "__notebook__.ipynb",
   "parameters": {},
   "start_time": "2020-12-05T02:19:03.731453",
   "version": "2.1.0"
  }
 },
 "nbformat": 4,
 "nbformat_minor": 4
}
