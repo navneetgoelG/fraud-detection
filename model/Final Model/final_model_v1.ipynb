{
  "nbformat": 4,
  "nbformat_minor": 0,
  "metadata": {
    "colab": {
      "name": "Final_model_v1.ipynb",
      "provenance": [],
      "collapsed_sections": []
    },
    "kernelspec": {
      "name": "python3",
      "display_name": "Python 3"
    },
    "accelerator": "GPU"
  },
  "cells": [
    {
      "cell_type": "markdown",
      "metadata": {
        "id": "Y-LRozSqhhb6"
      },
      "source": [
        "# Final Model V1 (for deployment)"
      ]
    },
    {
      "cell_type": "code",
      "metadata": {
        "id": "HLsrQzRkOvuC"
      },
      "source": [
        "# importing useful libraries\n",
        "import numpy as np\n",
        "import tensorflow as tf\n",
        "import random as python_random\n",
        " \n",
        "# setting random seed for result reproducibility\n",
        "np.random.seed(1)\n",
        "python_random.seed(12)\n",
        "tf.random.set_seed(123)\n",
        " \n",
        "from tensorflow.keras.models import Sequential, load_model\n",
        "from tensorflow.keras.layers import Dense, Dropout\n",
        "from tensorflow.keras.optimizers import Adam\n",
        "from tensorflow.keras.metrics import Metric\n",
        "from keras.wrappers.scikit_learn import KerasClassifier\n",
        "\n",
        "import dill\n",
        "import gzip\n",
        " \n",
        "import pandas as pd\n",
        "import matplotlib.pyplot as plt\n",
        "import seaborn as sns\n",
        " \n",
        "from sklearn.neighbors import KNeighborsClassifier\n",
        "from sklearn.ensemble import VotingClassifier, StackingClassifier\n",
        "from sklearn.linear_model import LogisticRegression\n",
        "from sklearn.model_selection import StratifiedKFold, cross_validate, train_test_split\n",
        "from sklearn.preprocessing import StandardScaler\n",
        "from sklearn.metrics import f1_score, average_precision_score\n",
        "from sklearn.pipeline import Pipeline, FeatureUnion\n",
        "from sklearn.base import BaseEstimator, TransformerMixin, ClassifierMixin\n",
        " \n",
        "from tensorflow.keras.models import Sequential\n",
        "from tensorflow.keras.layers import Dense, Dropout\n",
        "from tensorflow.keras.callbacks import EarlyStopping\n",
        " \n",
        "import warnings\n",
        "warnings.filterwarnings('ignore')\n",
        " \n",
        "%matplotlib inline"
      ],
      "execution_count": 1,
      "outputs": []
    },
    {
      "cell_type": "code",
      "metadata": {
        "colab": {
          "base_uri": "https://localhost:8080/",
          "height": 241
        },
        "id": "IriOT9IsQTJR",
        "outputId": "e9394ed5-bd3d-4eab-b983-7b0d8a472816"
      },
      "source": [
        "credit_card_df = pd.read_csv('/content/drive/MyDrive/credit_card_dataset.zip') \n",
        "\n",
        "# alternatively you can use \n",
        "# credit_card_df = pd.read_csv('https://raw.github.com/HamoyeHQ/g01-fraud-detection/master/data/credit_card_dataset.zip')\n",
        "# to load in the dataset if you don't have it downloaded\n",
        "\n",
        "print(credit_card_df.shape)\n",
        "credit_card_df.head()"
      ],
      "execution_count": 2,
      "outputs": [
        {
          "output_type": "stream",
          "text": [
            "(284807, 31)\n"
          ],
          "name": "stdout"
        },
        {
          "output_type": "execute_result",
          "data": {
            "text/html": [
              "<div>\n",
              "<style scoped>\n",
              "    .dataframe tbody tr th:only-of-type {\n",
              "        vertical-align: middle;\n",
              "    }\n",
              "\n",
              "    .dataframe tbody tr th {\n",
              "        vertical-align: top;\n",
              "    }\n",
              "\n",
              "    .dataframe thead th {\n",
              "        text-align: right;\n",
              "    }\n",
              "</style>\n",
              "<table border=\"1\" class=\"dataframe\">\n",
              "  <thead>\n",
              "    <tr style=\"text-align: right;\">\n",
              "      <th></th>\n",
              "      <th>Time</th>\n",
              "      <th>V1</th>\n",
              "      <th>V2</th>\n",
              "      <th>V3</th>\n",
              "      <th>V4</th>\n",
              "      <th>V5</th>\n",
              "      <th>V6</th>\n",
              "      <th>V7</th>\n",
              "      <th>V8</th>\n",
              "      <th>V9</th>\n",
              "      <th>V10</th>\n",
              "      <th>V11</th>\n",
              "      <th>V12</th>\n",
              "      <th>V13</th>\n",
              "      <th>V14</th>\n",
              "      <th>V15</th>\n",
              "      <th>V16</th>\n",
              "      <th>V17</th>\n",
              "      <th>V18</th>\n",
              "      <th>V19</th>\n",
              "      <th>V20</th>\n",
              "      <th>V21</th>\n",
              "      <th>V22</th>\n",
              "      <th>V23</th>\n",
              "      <th>V24</th>\n",
              "      <th>V25</th>\n",
              "      <th>V26</th>\n",
              "      <th>V27</th>\n",
              "      <th>V28</th>\n",
              "      <th>Amount</th>\n",
              "      <th>Class</th>\n",
              "    </tr>\n",
              "  </thead>\n",
              "  <tbody>\n",
              "    <tr>\n",
              "      <th>0</th>\n",
              "      <td>0.0</td>\n",
              "      <td>-1.359807</td>\n",
              "      <td>-0.072781</td>\n",
              "      <td>2.536347</td>\n",
              "      <td>1.378155</td>\n",
              "      <td>-0.338321</td>\n",
              "      <td>0.462388</td>\n",
              "      <td>0.239599</td>\n",
              "      <td>0.098698</td>\n",
              "      <td>0.363787</td>\n",
              "      <td>0.090794</td>\n",
              "      <td>-0.551600</td>\n",
              "      <td>-0.617801</td>\n",
              "      <td>-0.991390</td>\n",
              "      <td>-0.311169</td>\n",
              "      <td>1.468177</td>\n",
              "      <td>-0.470401</td>\n",
              "      <td>0.207971</td>\n",
              "      <td>0.025791</td>\n",
              "      <td>0.403993</td>\n",
              "      <td>0.251412</td>\n",
              "      <td>-0.018307</td>\n",
              "      <td>0.277838</td>\n",
              "      <td>-0.110474</td>\n",
              "      <td>0.066928</td>\n",
              "      <td>0.128539</td>\n",
              "      <td>-0.189115</td>\n",
              "      <td>0.133558</td>\n",
              "      <td>-0.021053</td>\n",
              "      <td>149.62</td>\n",
              "      <td>0</td>\n",
              "    </tr>\n",
              "    <tr>\n",
              "      <th>1</th>\n",
              "      <td>0.0</td>\n",
              "      <td>1.191857</td>\n",
              "      <td>0.266151</td>\n",
              "      <td>0.166480</td>\n",
              "      <td>0.448154</td>\n",
              "      <td>0.060018</td>\n",
              "      <td>-0.082361</td>\n",
              "      <td>-0.078803</td>\n",
              "      <td>0.085102</td>\n",
              "      <td>-0.255425</td>\n",
              "      <td>-0.166974</td>\n",
              "      <td>1.612727</td>\n",
              "      <td>1.065235</td>\n",
              "      <td>0.489095</td>\n",
              "      <td>-0.143772</td>\n",
              "      <td>0.635558</td>\n",
              "      <td>0.463917</td>\n",
              "      <td>-0.114805</td>\n",
              "      <td>-0.183361</td>\n",
              "      <td>-0.145783</td>\n",
              "      <td>-0.069083</td>\n",
              "      <td>-0.225775</td>\n",
              "      <td>-0.638672</td>\n",
              "      <td>0.101288</td>\n",
              "      <td>-0.339846</td>\n",
              "      <td>0.167170</td>\n",
              "      <td>0.125895</td>\n",
              "      <td>-0.008983</td>\n",
              "      <td>0.014724</td>\n",
              "      <td>2.69</td>\n",
              "      <td>0</td>\n",
              "    </tr>\n",
              "    <tr>\n",
              "      <th>2</th>\n",
              "      <td>1.0</td>\n",
              "      <td>-1.358354</td>\n",
              "      <td>-1.340163</td>\n",
              "      <td>1.773209</td>\n",
              "      <td>0.379780</td>\n",
              "      <td>-0.503198</td>\n",
              "      <td>1.800499</td>\n",
              "      <td>0.791461</td>\n",
              "      <td>0.247676</td>\n",
              "      <td>-1.514654</td>\n",
              "      <td>0.207643</td>\n",
              "      <td>0.624501</td>\n",
              "      <td>0.066084</td>\n",
              "      <td>0.717293</td>\n",
              "      <td>-0.165946</td>\n",
              "      <td>2.345865</td>\n",
              "      <td>-2.890083</td>\n",
              "      <td>1.109969</td>\n",
              "      <td>-0.121359</td>\n",
              "      <td>-2.261857</td>\n",
              "      <td>0.524980</td>\n",
              "      <td>0.247998</td>\n",
              "      <td>0.771679</td>\n",
              "      <td>0.909412</td>\n",
              "      <td>-0.689281</td>\n",
              "      <td>-0.327642</td>\n",
              "      <td>-0.139097</td>\n",
              "      <td>-0.055353</td>\n",
              "      <td>-0.059752</td>\n",
              "      <td>378.66</td>\n",
              "      <td>0</td>\n",
              "    </tr>\n",
              "    <tr>\n",
              "      <th>3</th>\n",
              "      <td>1.0</td>\n",
              "      <td>-0.966272</td>\n",
              "      <td>-0.185226</td>\n",
              "      <td>1.792993</td>\n",
              "      <td>-0.863291</td>\n",
              "      <td>-0.010309</td>\n",
              "      <td>1.247203</td>\n",
              "      <td>0.237609</td>\n",
              "      <td>0.377436</td>\n",
              "      <td>-1.387024</td>\n",
              "      <td>-0.054952</td>\n",
              "      <td>-0.226487</td>\n",
              "      <td>0.178228</td>\n",
              "      <td>0.507757</td>\n",
              "      <td>-0.287924</td>\n",
              "      <td>-0.631418</td>\n",
              "      <td>-1.059647</td>\n",
              "      <td>-0.684093</td>\n",
              "      <td>1.965775</td>\n",
              "      <td>-1.232622</td>\n",
              "      <td>-0.208038</td>\n",
              "      <td>-0.108300</td>\n",
              "      <td>0.005274</td>\n",
              "      <td>-0.190321</td>\n",
              "      <td>-1.175575</td>\n",
              "      <td>0.647376</td>\n",
              "      <td>-0.221929</td>\n",
              "      <td>0.062723</td>\n",
              "      <td>0.061458</td>\n",
              "      <td>123.50</td>\n",
              "      <td>0</td>\n",
              "    </tr>\n",
              "    <tr>\n",
              "      <th>4</th>\n",
              "      <td>2.0</td>\n",
              "      <td>-1.158233</td>\n",
              "      <td>0.877737</td>\n",
              "      <td>1.548718</td>\n",
              "      <td>0.403034</td>\n",
              "      <td>-0.407193</td>\n",
              "      <td>0.095921</td>\n",
              "      <td>0.592941</td>\n",
              "      <td>-0.270533</td>\n",
              "      <td>0.817739</td>\n",
              "      <td>0.753074</td>\n",
              "      <td>-0.822843</td>\n",
              "      <td>0.538196</td>\n",
              "      <td>1.345852</td>\n",
              "      <td>-1.119670</td>\n",
              "      <td>0.175121</td>\n",
              "      <td>-0.451449</td>\n",
              "      <td>-0.237033</td>\n",
              "      <td>-0.038195</td>\n",
              "      <td>0.803487</td>\n",
              "      <td>0.408542</td>\n",
              "      <td>-0.009431</td>\n",
              "      <td>0.798278</td>\n",
              "      <td>-0.137458</td>\n",
              "      <td>0.141267</td>\n",
              "      <td>-0.206010</td>\n",
              "      <td>0.502292</td>\n",
              "      <td>0.219422</td>\n",
              "      <td>0.215153</td>\n",
              "      <td>69.99</td>\n",
              "      <td>0</td>\n",
              "    </tr>\n",
              "  </tbody>\n",
              "</table>\n",
              "</div>"
            ],
            "text/plain": [
              "   Time        V1        V2        V3  ...       V27       V28  Amount  Class\n",
              "0   0.0 -1.359807 -0.072781  2.536347  ...  0.133558 -0.021053  149.62      0\n",
              "1   0.0  1.191857  0.266151  0.166480  ... -0.008983  0.014724    2.69      0\n",
              "2   1.0 -1.358354 -1.340163  1.773209  ... -0.055353 -0.059752  378.66      0\n",
              "3   1.0 -0.966272 -0.185226  1.792993  ...  0.062723  0.061458  123.50      0\n",
              "4   2.0 -1.158233  0.877737  1.548718  ...  0.219422  0.215153   69.99      0\n",
              "\n",
              "[5 rows x 31 columns]"
            ]
          },
          "metadata": {
            "tags": []
          },
          "execution_count": 2
        }
      ]
    },
    {
      "cell_type": "code",
      "metadata": {
        "colab": {
          "base_uri": "https://localhost:8080/"
        },
        "id": "leGa5_pDQZaz",
        "outputId": "30b09d56-2746-455d-bb54-e2c37d5126c5"
      },
      "source": [
        "# 27 most important features according to our EDA\n",
        "cols = ['V'+str(i) for i in range(1, 29) if i != 25]\n",
        "print(cols)"
      ],
      "execution_count": 3,
      "outputs": [
        {
          "output_type": "stream",
          "text": [
            "['V1', 'V2', 'V3', 'V4', 'V5', 'V6', 'V7', 'V8', 'V9', 'V10', 'V11', 'V12', 'V13', 'V14', 'V15', 'V16', 'V17', 'V18', 'V19', 'V20', 'V21', 'V22', 'V23', 'V24', 'V26', 'V27', 'V28']\n"
          ],
          "name": "stdout"
        }
      ]
    },
    {
      "cell_type": "code",
      "metadata": {
        "id": "W2ChCvVNQb_6"
      },
      "source": [
        "df = credit_card_df.copy()"
      ],
      "execution_count": 4,
      "outputs": []
    },
    {
      "cell_type": "code",
      "metadata": {
        "id": "eL1zRPGtS9ss"
      },
      "source": [
        "# selecting the features as X and target as y\n",
        "y = df.pop('Class')\n",
        "X = df"
      ],
      "execution_count": 5,
      "outputs": []
    },
    {
      "cell_type": "code",
      "metadata": {
        "id": "tkXB_It3TAs9"
      },
      "source": [
        "admin_cost = 2.5"
      ],
      "execution_count": 6,
      "outputs": []
    },
    {
      "cell_type": "code",
      "metadata": {
        "id": "DU35H4BDTH0Z"
      },
      "source": [
        "# defining a function to calculate cost savings\n",
        "def cost_saving(ytrue, ypred, amount, threshold=0.5, epsilon=1e-7):\n",
        "    ypred = ypred.flatten()\n",
        "    fp = np.sum((ytrue == 0) & (ypred == 1))\n",
        "    cost = np.sum(fp*admin_cost) + np.sum((amount[(ytrue == 1) & (ypred == 0)]))\n",
        "    max_cost = np.sum((amount[(ytrue == 1)])) \n",
        "    savings = 1 - (cost/(max_cost+epsilon))\n",
        "    \n",
        "    return savings"
      ],
      "execution_count": 7,
      "outputs": []
    },
    {
      "cell_type": "code",
      "metadata": {
        "id": "8jazdoO9Tlqr"
      },
      "source": [
        "stopper = EarlyStopping(monitor='val_stateful_binary_fbeta', patience=10, mode='max',\n",
        "    restore_best_weights=True)"
      ],
      "execution_count": 8,
      "outputs": []
    },
    {
      "cell_type": "code",
      "metadata": {
        "id": "is0MNKvOTqQG"
      },
      "source": [
        "neg, pos = np.bincount(y)\n",
        "#print('negative class is {} in number, while positive is {}'.format(neg, pos))\n",
        "initial_bias = np.log([pos/neg])"
      ],
      "execution_count": 9,
      "outputs": []
    },
    {
      "cell_type": "code",
      "metadata": {
        "id": "xTz7WuhDTs1X"
      },
      "source": [
        "def build_model():\n",
        "    model = Sequential()\n",
        "\n",
        "    model.add(Dense(16, kernel_initializer='uniform', activation='relu'))\n",
        "    \n",
        "    model.add(Dropout(0.2))\n",
        "    \n",
        "    output_bias = tf.keras.initializers.Constant(initial_bias) \n",
        "    \n",
        "    model.add(Dense(1, activation='sigmoid', bias_initializer=output_bias))\n",
        "    \n",
        "    #binary_fbeta = StatefulBinaryFBeta()\n",
        "    \n",
        "    # compling model\n",
        "    model.compile(loss='binary_crossentropy', optimizer='adam')\n",
        "    \n",
        "    return model"
      ],
      "execution_count": 10,
      "outputs": []
    },
    {
      "cell_type": "code",
      "metadata": {
        "id": "A4osR8SvkYnt"
      },
      "source": [
        "class ColumnSelector(BaseEstimator, TransformerMixin):\r\n",
        "  def __init__(self, cols=cols):\r\n",
        "    self.cols = cols\r\n",
        "\r\n",
        "  def fit(self, X, y=None):\r\n",
        "    return self\r\n",
        "\r\n",
        "  def transform(self, X):\r\n",
        "    if isinstance(X, pd.DataFrame):\r\n",
        "      return np.array(X[self.cols])\r\n",
        "\r\n",
        "    elif isinstance(X, pd.Series):\r\n",
        "      return np.array(X[self.cols]).reshape(1, -1)\r\n",
        "\r\n",
        "    elif isinstance(X, np.ndarray):\r\n",
        "      self.cols_ind = [int(col[1:]) for col in self.cols]\r\n",
        "      if len(X.shape) == 1: # if one dimensional array\r\n",
        "        return X[self.cols_ind].reshape(1, -1)\r\n",
        "      return X[:, self.cols_ind]\r\n",
        "\r\n",
        "    else:\r\n",
        "      raise TypeError('expected input type to be any of pd.Series, pd.DataFrame or np.ndarray but got {}'.format(type(X)))"
      ],
      "execution_count": 11,
      "outputs": []
    },
    {
      "cell_type": "code",
      "metadata": {
        "id": "8YS46AtaTyKn"
      },
      "source": [
        "class ClipOutliers(BaseEstimator, TransformerMixin):\n",
        "    def __init__(self, lower_percentile=1, upper_percentile=99):\n",
        "        self.lower_percentile = lower_percentile\n",
        "        self.upper_percentile = upper_percentile\n",
        "        \n",
        "    def fit(self, X, y=None):\n",
        "        self.a = np.percentile(X, self.lower_percentile, axis=0)\n",
        "        self.b = np.percentile(X, self.upper_percentile, axis=0)\n",
        "        \n",
        "        return self\n",
        "    \n",
        "    def transform(self, X):\n",
        "        self.Xt = np.clip(X, self.a, self.b)\n",
        "        \n",
        "        return self.Xt"
      ],
      "execution_count": 12,
      "outputs": []
    },
    {
      "cell_type": "markdown",
      "metadata": {
        "id": "dJGtQARKUHKV"
      },
      "source": [
        "## Fraud Sensitive model (Not cost sensitive)"
      ]
    },
    {
      "cell_type": "markdown",
      "metadata": {
        "id": "THAZgmJlUMsr"
      },
      "source": [
        "### Using Majority Voting as our Ensembling strategy."
      ]
    },
    {
      "cell_type": "code",
      "metadata": {
        "id": "mlUPxMKYT20G"
      },
      "source": [
        "epochs = 4\n",
        "n_neighbors = 5"
      ],
      "execution_count": 13,
      "outputs": []
    },
    {
      "cell_type": "code",
      "metadata": {
        "id": "vVAyyxu2UTXv"
      },
      "source": [
        "# setting _estimator_type atrribute of sklearn's pipeline to 'classifier' to avoid errors when using\n",
        "# VotingClassifier.\n",
        "class ClassifierPipeline(Pipeline):\n",
        "    @property\n",
        "    def _estimator_type(self):\n",
        "        return 'classifier'"
      ],
      "execution_count": 14,
      "outputs": []
    },
    {
      "cell_type": "code",
      "metadata": {
        "id": "fYK57UDLUYQf"
      },
      "source": [
        "cols_select = ColumnSelector()\n",
        "scaler = StandardScaler()\n",
        "\n",
        "data_prep = Pipeline([('columns', cols_select), ('scaler', scaler)]) # data preparation pipeline\n",
        "\n",
        "clipper = ClipOutliers()\n",
        "\n",
        "mlp = KerasClassifier(build_fn=build_model, epochs=epochs, batch_size=512, verbose=0) # model 1\n",
        "knn =  KNeighborsClassifier(n_neighbors=n_neighbors, algorithm='kd_tree', n_jobs=4) # model 2\n",
        "\n",
        "clip_mlp = ClassifierPipeline([('clipper', clipper), ('mlp', mlp)]) # model 1 requires clipping, so it is encapsulated in a pipeline with a clipper\n",
        "\n",
        "vote_ensemble = VotingClassifier(estimators=[('knn', knn), ('mlp', clip_mlp)], voting='soft') # voting ensemble"
      ],
      "execution_count": 15,
      "outputs": []
    },
    {
      "cell_type": "code",
      "metadata": {
        "id": "NlhrBXQI5e9l"
      },
      "source": [
        "X_prep = data_prep.fit_transform(X, y) # fitting and transforming the data"
      ],
      "execution_count": 16,
      "outputs": []
    },
    {
      "cell_type": "code",
      "metadata": {
        "id": "--EDGE12CsrM"
      },
      "source": [
        "# saving the data prep object\r\n",
        "with gzip.open('data_prep_pipe.gz.dill', 'wb') as f:\r\n",
        "  dill.dump(data_prep, f)"
      ],
      "execution_count": 17,
      "outputs": []
    },
    {
      "cell_type": "code",
      "metadata": {
        "id": "z9ufiBTiC8jl"
      },
      "source": [
        "vote_ensemble.fit(X_prep, y); # fitting the voting ensemble"
      ],
      "execution_count": 18,
      "outputs": []
    },
    {
      "cell_type": "code",
      "metadata": {
        "id": "LwrQBDnnDlRS"
      },
      "source": [
        "# saving the transformed training set\r\n",
        "with gzip.open('X_prep.gz.dill', 'wb') as f:\r\n",
        "  dill.dump(X_prep, f)"
      ],
      "execution_count": 19,
      "outputs": []
    },
    {
      "cell_type": "code",
      "metadata": {
        "id": "qdvX58RCWkHb"
      },
      "source": [
        "# saving the y labels array\r\n",
        "with gzip.open('y_labels.gz.dill', 'wb') as f:\r\n",
        "  dill.dump(y, f)"
      ],
      "execution_count": 20,
      "outputs": []
    },
    {
      "cell_type": "code",
      "metadata": {
        "id": "MvwAEnphCeQp"
      },
      "source": [
        ""
      ],
      "execution_count": 20,
      "outputs": []
    },
    {
      "cell_type": "code",
      "metadata": {
        "id": "Vxvg8v0UD8nv"
      },
      "source": [
        "# saving the clipper object\r\n",
        "with gzip.open('clipper.gz.dill', 'wb') as f:\r\n",
        "  dill.dump(vote_ensemble.estimators_[1][0], f)"
      ],
      "execution_count": 21,
      "outputs": []
    },
    {
      "cell_type": "code",
      "metadata": {
        "id": "dx0cteSmPBeS"
      },
      "source": [
        "# saving the label encoder object of the voting ensemble\r\n",
        "with gzip.open('label_encoder.gz.dill', 'wb') as f:\r\n",
        "  dill.dump(vote_ensemble.le_, f)"
      ],
      "execution_count": 22,
      "outputs": []
    },
    {
      "cell_type": "code",
      "metadata": {
        "id": "f-3zUTS49d4W"
      },
      "source": [
        "vote_ensemble.estimators_[1][1].model.save('mlp.h5') # saving the mlp model"
      ],
      "execution_count": 23,
      "outputs": []
    },
    {
      "cell_type": "code",
      "metadata": {
        "id": "eMxOntpv-4Vo"
      },
      "source": [
        "# defining function to get predictions\r\n",
        "def get_predictions(X, proba=False):\r\n",
        "  # loading in useful objects\r\n",
        "  with gzip.open('data_prep_pipe.gz.dill', 'rb') as f:\r\n",
        "    data_prep = dill.load(f)\r\n",
        "\r\n",
        "  # setting useful atrributes and parameters\r\n",
        "  n_neighbors = 5\r\n",
        "  classes = np.array([0, 1])\r\n",
        "  epochs = 4\r\n",
        "  batch_size = 512\r\n",
        "\r\n",
        "  # due to the large file size of the serialized knn classifier, we serialized the transformed (preprocessed) training dataset instead.\r\n",
        "  # this dataset will be fitted on the knn classifier since it doesn't take time to fit knn classifiers. \r\n",
        "  # be sure to import KNeighborsClassifier when running this function outside of this notebook.\r\n",
        "  knn = KNeighborsClassifier(n_neighbors=n_neighbors, algorithm='kd_tree', n_jobs=4)\r\n",
        "  with gzip.open('X_prep.gz.dill', 'rb') as f:\r\n",
        "    X_prep = dill.load(f)\r\n",
        "\r\n",
        "  with gzip.open('y_labels.gz.dill', 'rb') as f:\r\n",
        "    y = dill.load(f)\r\n",
        "\r\n",
        "  knn.fit(X_prep, y)\r\n",
        "\r\n",
        "  with gzip.open('clipper.gz.dill', 'rb') as f:\r\n",
        "    clipper = dill.load(f)\r\n",
        "\r\n",
        "  with gzip.open('label_encoder.gz.dill', 'rb') as f:\r\n",
        "    le = dill.load(f)\r\n",
        "\r\n",
        "  build_model = lambda: load_model('mlp.h5') # loading in the mlp model\r\n",
        "\r\n",
        "  # initializes the mlp model\r\n",
        "  mlp = KerasClassifier(build_fn=build_model, epochs=epochs, batch_size=batch_size, verbose=0)\r\n",
        "  mlp.model = build_model() # rebuilding the mlp model\r\n",
        "  mlp.classes_ = classes # setting the classes_ attribute of the mlp model\r\n",
        "\r\n",
        "  clip_mlp = ClassifierPipeline([('clipper', clipper), ('mlp', mlp)]) # clipping pipeline\r\n",
        "\r\n",
        "  # reconstructing the voting classifier\r\n",
        "  vote_ensemble = VotingClassifier(estimators=[('knn', knn), ('mlp', clip_mlp)], voting='soft')\r\n",
        "  vote_ensemble.classes_ = classes\r\n",
        "  vote_ensemble.estimators_ = [knn, clip_mlp]\r\n",
        "  vote_ensemble.le_ = le\r\n",
        "  \r\n",
        "  Xt = data_prep.transform(X) # prepare (preprocess) the user's input\r\n",
        "\r\n",
        "  if proba:\r\n",
        "    pred = vote_ensemble.predict_proba(Xt) # gets the probability of belonging to the positvie class\r\n",
        "\r\n",
        "    if len(pred.shape) > 1: # pred is 2-dim (multi-input)\r\n",
        "      pred = pred[:, 1]\r\n",
        "    \r\n",
        "    else: # pred is 1-dim (single-input)\r\n",
        "      pred = pred[1]\r\n",
        "\r\n",
        "  else: # get raw predictions\r\n",
        "    pred = vote_ensemble.predict(Xt) # gets the prediction\r\n",
        "\r\n",
        "  return pred"
      ],
      "execution_count": 24,
      "outputs": []
    },
    {
      "cell_type": "markdown",
      "metadata": {
        "id": "AzTsocAuSA7H"
      },
      "source": [
        "### Testing our model's prediction on X_test (multi-input)"
      ]
    },
    {
      "cell_type": "code",
      "metadata": {
        "id": "rc7etouaS9t9"
      },
      "source": [
        "X_train, X_test, y_train, y_test = train_test_split(X, y, test_size=0.25, stratify=y, random_state=1)"
      ],
      "execution_count": 25,
      "outputs": []
    },
    {
      "cell_type": "code",
      "metadata": {
        "id": "cz4Z3v1RorgB"
      },
      "source": [
        "def prediction_summary(user_input, ytrue=None):\r\n",
        "  \"\"\"\r\n",
        "  This function is both for testing our model when we know the true label of user's input and getting only predictions when we don't know the true labels.\r\n",
        "\r\n",
        "  Args:\r\n",
        "    user_input: \r\n",
        "      type: any of numpy array, pandas Series or dataframe. \r\n",
        "\r\n",
        "      User's input is expected to be for all features apart from 'Class' feature making them 30 in number as arranged in our dataset.\r\n",
        "\r\n",
        "    y_true:\r\n",
        "      type: any of numpy array or pandas Series.\r\n",
        "      The true labels for user_input\r\n",
        "\r\n",
        "  Return:\r\n",
        "    a dataframe of 'Class' and the probability of 'Class' being fraud. A 'Class' of 1 means fraud, while 0 means not fraud. If ytrue is given;\r\n",
        "    f1_score and cost saving are also printed out.\r\n",
        "  \"\"\"\r\n",
        "  pred = get_predictions(user_input, proba=True)\r\n",
        "  is_fraud = (pred >= 0.5).astype(np.int64)\r\n",
        "  pred_df = pd.DataFrame({'Class': is_fraud, 'Fraud_Probabilty': pred})\r\n",
        "\r\n",
        "  if ytrue is not None: # if we know the true labels, it means we want to test the model and printing out metrics will be useful\r\n",
        "\r\n",
        "    if len(user_input.shape) > 1: # if the input has more than 1 row (multi-input)\r\n",
        "      print('f1_score is {}'.format(f1_score(ytrue, is_fraud)))\r\n",
        "      if isinstance(user_input, np.ndarray):\r\n",
        "        amount = user_input[:, -1]\r\n",
        "      else:\r\n",
        "        amount = user_input.iloc[:, -1]\r\n",
        "      print('cost saving is {}'.format(cost_saving(ytrue, is_fraud, amount)))\r\n",
        "\r\n",
        "    else: # a single input.\r\n",
        "      print('f1_score is {}'.format(f1_score(ytrue, is_fraud)))\r\n",
        "      print('cost saving is {}'.format(cost_saving(ytrue, is_fraud, user_input[-1].reshape(1))))\r\n",
        "\r\n",
        "  return pred_df # in any case, finally return the dataframe of predictions."
      ],
      "execution_count": 26,
      "outputs": []
    },
    {
      "cell_type": "markdown",
      "metadata": {
        "id": "Pfw6QUJjI2HE"
      },
      "source": [
        "### Multi-output testing"
      ]
    },
    {
      "cell_type": "code",
      "metadata": {
        "colab": {
          "base_uri": "https://localhost:8080/",
          "height": 309
        },
        "id": "4oJIOxTvuLdh",
        "outputId": "5bc47b1e-f17d-4620-dc9d-b0be6e18c483"
      },
      "source": [
        "result = prediction_summary(X_test, y_test)\r\n",
        "result.head()"
      ],
      "execution_count": 27,
      "outputs": [
        {
          "output_type": "stream",
          "text": [
            "WARNING:tensorflow:From /usr/local/lib/python3.6/dist-packages/tensorflow/python/keras/wrappers/scikit_learn.py:264: Sequential.predict_proba (from tensorflow.python.keras.engine.sequential) is deprecated and will be removed after 2021-01-01.\n",
            "Instructions for updating:\n",
            "Please use `model.predict()` instead.\n",
            "f1_score is 0.8945147679324894\n",
            "cost saving is 0.7310398178640722\n"
          ],
          "name": "stdout"
        },
        {
          "output_type": "execute_result",
          "data": {
            "text/html": [
              "<div>\n",
              "<style scoped>\n",
              "    .dataframe tbody tr th:only-of-type {\n",
              "        vertical-align: middle;\n",
              "    }\n",
              "\n",
              "    .dataframe tbody tr th {\n",
              "        vertical-align: top;\n",
              "    }\n",
              "\n",
              "    .dataframe thead th {\n",
              "        text-align: right;\n",
              "    }\n",
              "</style>\n",
              "<table border=\"1\" class=\"dataframe\">\n",
              "  <thead>\n",
              "    <tr style=\"text-align: right;\">\n",
              "      <th></th>\n",
              "      <th>Class</th>\n",
              "      <th>Fraud_Probabilty</th>\n",
              "    </tr>\n",
              "  </thead>\n",
              "  <tbody>\n",
              "    <tr>\n",
              "      <th>0</th>\n",
              "      <td>0</td>\n",
              "      <td>0.000037</td>\n",
              "    </tr>\n",
              "    <tr>\n",
              "      <th>1</th>\n",
              "      <td>0</td>\n",
              "      <td>0.000278</td>\n",
              "    </tr>\n",
              "    <tr>\n",
              "      <th>2</th>\n",
              "      <td>0</td>\n",
              "      <td>0.000022</td>\n",
              "    </tr>\n",
              "    <tr>\n",
              "      <th>3</th>\n",
              "      <td>0</td>\n",
              "      <td>0.000044</td>\n",
              "    </tr>\n",
              "    <tr>\n",
              "      <th>4</th>\n",
              "      <td>0</td>\n",
              "      <td>0.000017</td>\n",
              "    </tr>\n",
              "  </tbody>\n",
              "</table>\n",
              "</div>"
            ],
            "text/plain": [
              "   Class  Fraud_Probabilty\n",
              "0      0          0.000037\n",
              "1      0          0.000278\n",
              "2      0          0.000022\n",
              "3      0          0.000044\n",
              "4      0          0.000017"
            ]
          },
          "metadata": {
            "tags": []
          },
          "execution_count": 27
        }
      ]
    },
    {
      "cell_type": "code",
      "metadata": {
        "colab": {
          "base_uri": "https://localhost:8080/",
          "height": 204
        },
        "id": "L7QxJBYhDJQz",
        "outputId": "3e3a6adc-7652-4edf-9315-4149a4de2bad"
      },
      "source": [
        "# having a view of how the fraudulent predictions look like.\r\n",
        "result[result['Class'] == 1].head()"
      ],
      "execution_count": 28,
      "outputs": [
        {
          "output_type": "execute_result",
          "data": {
            "text/html": [
              "<div>\n",
              "<style scoped>\n",
              "    .dataframe tbody tr th:only-of-type {\n",
              "        vertical-align: middle;\n",
              "    }\n",
              "\n",
              "    .dataframe tbody tr th {\n",
              "        vertical-align: top;\n",
              "    }\n",
              "\n",
              "    .dataframe thead th {\n",
              "        text-align: right;\n",
              "    }\n",
              "</style>\n",
              "<table border=\"1\" class=\"dataframe\">\n",
              "  <thead>\n",
              "    <tr style=\"text-align: right;\">\n",
              "      <th></th>\n",
              "      <th>Class</th>\n",
              "      <th>Fraud_Probabilty</th>\n",
              "    </tr>\n",
              "  </thead>\n",
              "  <tbody>\n",
              "    <tr>\n",
              "      <th>38</th>\n",
              "      <td>1</td>\n",
              "      <td>0.695852</td>\n",
              "    </tr>\n",
              "    <tr>\n",
              "      <th>317</th>\n",
              "      <td>1</td>\n",
              "      <td>0.955653</td>\n",
              "    </tr>\n",
              "    <tr>\n",
              "      <th>2399</th>\n",
              "      <td>1</td>\n",
              "      <td>0.917699</td>\n",
              "    </tr>\n",
              "    <tr>\n",
              "      <th>2471</th>\n",
              "      <td>1</td>\n",
              "      <td>0.796549</td>\n",
              "    </tr>\n",
              "    <tr>\n",
              "      <th>2851</th>\n",
              "      <td>1</td>\n",
              "      <td>0.997961</td>\n",
              "    </tr>\n",
              "  </tbody>\n",
              "</table>\n",
              "</div>"
            ],
            "text/plain": [
              "      Class  Fraud_Probabilty\n",
              "38        1          0.695852\n",
              "317       1          0.955653\n",
              "2399      1          0.917699\n",
              "2471      1          0.796549\n",
              "2851      1          0.997961"
            ]
          },
          "metadata": {
            "tags": []
          },
          "execution_count": 28
        }
      ]
    },
    {
      "cell_type": "markdown",
      "metadata": {
        "id": "Xgfyin2AI9hJ"
      },
      "source": [
        "### Single input-output testing"
      ]
    },
    {
      "cell_type": "code",
      "metadata": {
        "colab": {
          "base_uri": "https://localhost:8080/",
          "height": 114
        },
        "id": "INA_yfeJEiJ_",
        "outputId": "464d3789-a058-4ef5-9322-d8c8eaeb0fcc"
      },
      "source": [
        "prediction_summary(X_test.iloc[0].values, np.array([0]))"
      ],
      "execution_count": 29,
      "outputs": [
        {
          "output_type": "stream",
          "text": [
            "f1_score is 0.0\n",
            "cost saving is 1.0\n"
          ],
          "name": "stdout"
        },
        {
          "output_type": "execute_result",
          "data": {
            "text/html": [
              "<div>\n",
              "<style scoped>\n",
              "    .dataframe tbody tr th:only-of-type {\n",
              "        vertical-align: middle;\n",
              "    }\n",
              "\n",
              "    .dataframe tbody tr th {\n",
              "        vertical-align: top;\n",
              "    }\n",
              "\n",
              "    .dataframe thead th {\n",
              "        text-align: right;\n",
              "    }\n",
              "</style>\n",
              "<table border=\"1\" class=\"dataframe\">\n",
              "  <thead>\n",
              "    <tr style=\"text-align: right;\">\n",
              "      <th></th>\n",
              "      <th>Class</th>\n",
              "      <th>Fraud_Probabilty</th>\n",
              "    </tr>\n",
              "  </thead>\n",
              "  <tbody>\n",
              "    <tr>\n",
              "      <th>0</th>\n",
              "      <td>0</td>\n",
              "      <td>0.000037</td>\n",
              "    </tr>\n",
              "  </tbody>\n",
              "</table>\n",
              "</div>"
            ],
            "text/plain": [
              "   Class  Fraud_Probabilty\n",
              "0      0          0.000037"
            ]
          },
          "metadata": {
            "tags": []
          },
          "execution_count": 29
        }
      ]
    }
  ]
}