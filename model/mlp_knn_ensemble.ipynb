{
 "cells": [
  {
   "cell_type": "markdown",
   "metadata": {
    "papermill": {
     "duration": 0.043378,
     "end_time": "2020-12-08T13:58:54.251329",
     "exception": false,
     "start_time": "2020-12-08T13:58:54.207951",
     "status": "completed"
    },
    "tags": []
   },
   "source": [
    "## Blended MLP and KNN"
   ]
  },
  {
   "cell_type": "markdown",
   "metadata": {},
   "source": [
    "### Choosing the best ensemble method. WARNING! This notebook takes about 7hrs to completely run."
   ]
  },
  {
   "cell_type": "code",
   "execution_count": 1,
   "metadata": {
    "_cell_guid": "79c7e3d0-c299-4dcb-8224-4455121ee9b0",
    "_uuid": "d629ff2d2480ee46fbb7e2d37f6b5fab8052498a",
    "execution": {
     "iopub.execute_input": "2020-12-08T13:58:54.330844Z",
     "iopub.status.busy": "2020-12-08T13:58:54.329891Z",
     "iopub.status.idle": "2020-12-08T13:59:00.495201Z",
     "shell.execute_reply": "2020-12-08T13:59:00.494077Z"
    },
    "papermill": {
     "duration": 6.213812,
     "end_time": "2020-12-08T13:59:00.495352",
     "exception": false,
     "start_time": "2020-12-08T13:58:54.281540",
     "status": "completed"
    },
    "tags": []
   },
   "outputs": [],
   "source": [
    "# importing useful libraries\n",
    "import numpy as np\n",
    "import tensorflow as tf\n",
    "import random as python_random\n",
    "\n",
    "# setting random seed for result reproducibility\n",
    "np.random.seed(1)\n",
    "python_random.seed(12)\n",
    "tf.random.set_seed(123)\n",
    "\n",
    "from tensorflow.keras.models import Sequential\n",
    "from tensorflow.keras.layers import Dense, Dropout\n",
    "from tensorflow.keras.optimizers import Adam\n",
    "from tensorflow.keras.metrics import Metric\n",
    "from keras.wrappers.scikit_learn import KerasClassifier\n",
    "\n",
    "import pandas as pd\n",
    "import matplotlib.pyplot as plt\n",
    "import seaborn as sns\n",
    "\n",
    "from sklearn.neighbors import KNeighborsClassifier\n",
    "from sklearn.ensemble import VotingClassifier, StackingClassifier\n",
    "from sklearn.linear_model import LogisticRegression\n",
    "from sklearn.model_selection import StratifiedKFold, cross_validate, train_test_split\n",
    "from sklearn.preprocessing import StandardScaler\n",
    "from sklearn.metrics import f1_score\n",
    "from sklearn.pipeline import Pipeline, FeatureUnion\n",
    "from sklearn.base import BaseEstimator, TransformerMixin, ClassifierMixin\n",
    "\n",
    "from tensorflow.keras.models import Sequential\n",
    "from tensorflow.keras.layers import Dense, Dropout\n",
    "from tensorflow.keras.callbacks import EarlyStopping\n",
    "\n",
    "import warnings\n",
    "warnings.filterwarnings('ignore')\n",
    "\n",
    "%matplotlib inline"
   ]
  },
  {
   "cell_type": "code",
   "execution_count": 2,
   "metadata": {
    "execution": {
     "iopub.execute_input": "2020-12-08T13:59:00.557432Z",
     "iopub.status.busy": "2020-12-08T13:59:00.556761Z",
     "iopub.status.idle": "2020-12-08T13:59:04.580821Z",
     "shell.execute_reply": "2020-12-08T13:59:04.580265Z"
    },
    "papermill": {
     "duration": 4.058936,
     "end_time": "2020-12-08T13:59:04.580957",
     "exception": false,
     "start_time": "2020-12-08T13:59:00.522021",
     "status": "completed"
    },
    "tags": []
   },
   "outputs": [
    {
     "name": "stdout",
     "output_type": "stream",
     "text": [
      "(284807, 31)\n"
     ]
    },
    {
     "data": {
      "text/html": [
       "<div>\n",
       "<style scoped>\n",
       "    .dataframe tbody tr th:only-of-type {\n",
       "        vertical-align: middle;\n",
       "    }\n",
       "\n",
       "    .dataframe tbody tr th {\n",
       "        vertical-align: top;\n",
       "    }\n",
       "\n",
       "    .dataframe thead th {\n",
       "        text-align: right;\n",
       "    }\n",
       "</style>\n",
       "<table border=\"1\" class=\"dataframe\">\n",
       "  <thead>\n",
       "    <tr style=\"text-align: right;\">\n",
       "      <th></th>\n",
       "      <th>Time</th>\n",
       "      <th>V1</th>\n",
       "      <th>V2</th>\n",
       "      <th>V3</th>\n",
       "      <th>V4</th>\n",
       "      <th>V5</th>\n",
       "      <th>V6</th>\n",
       "      <th>V7</th>\n",
       "      <th>V8</th>\n",
       "      <th>V9</th>\n",
       "      <th>...</th>\n",
       "      <th>V21</th>\n",
       "      <th>V22</th>\n",
       "      <th>V23</th>\n",
       "      <th>V24</th>\n",
       "      <th>V25</th>\n",
       "      <th>V26</th>\n",
       "      <th>V27</th>\n",
       "      <th>V28</th>\n",
       "      <th>Amount</th>\n",
       "      <th>Class</th>\n",
       "    </tr>\n",
       "  </thead>\n",
       "  <tbody>\n",
       "    <tr>\n",
       "      <th>0</th>\n",
       "      <td>0.0</td>\n",
       "      <td>-1.359807</td>\n",
       "      <td>-0.072781</td>\n",
       "      <td>2.536347</td>\n",
       "      <td>1.378155</td>\n",
       "      <td>-0.338321</td>\n",
       "      <td>0.462388</td>\n",
       "      <td>0.239599</td>\n",
       "      <td>0.098698</td>\n",
       "      <td>0.363787</td>\n",
       "      <td>...</td>\n",
       "      <td>-0.018307</td>\n",
       "      <td>0.277838</td>\n",
       "      <td>-0.110474</td>\n",
       "      <td>0.066928</td>\n",
       "      <td>0.128539</td>\n",
       "      <td>-0.189115</td>\n",
       "      <td>0.133558</td>\n",
       "      <td>-0.021053</td>\n",
       "      <td>149.62</td>\n",
       "      <td>0</td>\n",
       "    </tr>\n",
       "    <tr>\n",
       "      <th>1</th>\n",
       "      <td>0.0</td>\n",
       "      <td>1.191857</td>\n",
       "      <td>0.266151</td>\n",
       "      <td>0.166480</td>\n",
       "      <td>0.448154</td>\n",
       "      <td>0.060018</td>\n",
       "      <td>-0.082361</td>\n",
       "      <td>-0.078803</td>\n",
       "      <td>0.085102</td>\n",
       "      <td>-0.255425</td>\n",
       "      <td>...</td>\n",
       "      <td>-0.225775</td>\n",
       "      <td>-0.638672</td>\n",
       "      <td>0.101288</td>\n",
       "      <td>-0.339846</td>\n",
       "      <td>0.167170</td>\n",
       "      <td>0.125895</td>\n",
       "      <td>-0.008983</td>\n",
       "      <td>0.014724</td>\n",
       "      <td>2.69</td>\n",
       "      <td>0</td>\n",
       "    </tr>\n",
       "    <tr>\n",
       "      <th>2</th>\n",
       "      <td>1.0</td>\n",
       "      <td>-1.358354</td>\n",
       "      <td>-1.340163</td>\n",
       "      <td>1.773209</td>\n",
       "      <td>0.379780</td>\n",
       "      <td>-0.503198</td>\n",
       "      <td>1.800499</td>\n",
       "      <td>0.791461</td>\n",
       "      <td>0.247676</td>\n",
       "      <td>-1.514654</td>\n",
       "      <td>...</td>\n",
       "      <td>0.247998</td>\n",
       "      <td>0.771679</td>\n",
       "      <td>0.909412</td>\n",
       "      <td>-0.689281</td>\n",
       "      <td>-0.327642</td>\n",
       "      <td>-0.139097</td>\n",
       "      <td>-0.055353</td>\n",
       "      <td>-0.059752</td>\n",
       "      <td>378.66</td>\n",
       "      <td>0</td>\n",
       "    </tr>\n",
       "    <tr>\n",
       "      <th>3</th>\n",
       "      <td>1.0</td>\n",
       "      <td>-0.966272</td>\n",
       "      <td>-0.185226</td>\n",
       "      <td>1.792993</td>\n",
       "      <td>-0.863291</td>\n",
       "      <td>-0.010309</td>\n",
       "      <td>1.247203</td>\n",
       "      <td>0.237609</td>\n",
       "      <td>0.377436</td>\n",
       "      <td>-1.387024</td>\n",
       "      <td>...</td>\n",
       "      <td>-0.108300</td>\n",
       "      <td>0.005274</td>\n",
       "      <td>-0.190321</td>\n",
       "      <td>-1.175575</td>\n",
       "      <td>0.647376</td>\n",
       "      <td>-0.221929</td>\n",
       "      <td>0.062723</td>\n",
       "      <td>0.061458</td>\n",
       "      <td>123.50</td>\n",
       "      <td>0</td>\n",
       "    </tr>\n",
       "    <tr>\n",
       "      <th>4</th>\n",
       "      <td>2.0</td>\n",
       "      <td>-1.158233</td>\n",
       "      <td>0.877737</td>\n",
       "      <td>1.548718</td>\n",
       "      <td>0.403034</td>\n",
       "      <td>-0.407193</td>\n",
       "      <td>0.095921</td>\n",
       "      <td>0.592941</td>\n",
       "      <td>-0.270533</td>\n",
       "      <td>0.817739</td>\n",
       "      <td>...</td>\n",
       "      <td>-0.009431</td>\n",
       "      <td>0.798278</td>\n",
       "      <td>-0.137458</td>\n",
       "      <td>0.141267</td>\n",
       "      <td>-0.206010</td>\n",
       "      <td>0.502292</td>\n",
       "      <td>0.219422</td>\n",
       "      <td>0.215153</td>\n",
       "      <td>69.99</td>\n",
       "      <td>0</td>\n",
       "    </tr>\n",
       "  </tbody>\n",
       "</table>\n",
       "<p>5 rows × 31 columns</p>\n",
       "</div>"
      ],
      "text/plain": [
       "   Time        V1        V2        V3        V4        V5        V6        V7  \\\n",
       "0   0.0 -1.359807 -0.072781  2.536347  1.378155 -0.338321  0.462388  0.239599   \n",
       "1   0.0  1.191857  0.266151  0.166480  0.448154  0.060018 -0.082361 -0.078803   \n",
       "2   1.0 -1.358354 -1.340163  1.773209  0.379780 -0.503198  1.800499  0.791461   \n",
       "3   1.0 -0.966272 -0.185226  1.792993 -0.863291 -0.010309  1.247203  0.237609   \n",
       "4   2.0 -1.158233  0.877737  1.548718  0.403034 -0.407193  0.095921  0.592941   \n",
       "\n",
       "         V8        V9  ...       V21       V22       V23       V24       V25  \\\n",
       "0  0.098698  0.363787  ... -0.018307  0.277838 -0.110474  0.066928  0.128539   \n",
       "1  0.085102 -0.255425  ... -0.225775 -0.638672  0.101288 -0.339846  0.167170   \n",
       "2  0.247676 -1.514654  ...  0.247998  0.771679  0.909412 -0.689281 -0.327642   \n",
       "3  0.377436 -1.387024  ... -0.108300  0.005274 -0.190321 -1.175575  0.647376   \n",
       "4 -0.270533  0.817739  ... -0.009431  0.798278 -0.137458  0.141267 -0.206010   \n",
       "\n",
       "        V26       V27       V28  Amount  Class  \n",
       "0 -0.189115  0.133558 -0.021053  149.62      0  \n",
       "1  0.125895 -0.008983  0.014724    2.69      0  \n",
       "2 -0.139097 -0.055353 -0.059752  378.66      0  \n",
       "3 -0.221929  0.062723  0.061458  123.50      0  \n",
       "4  0.502292  0.219422  0.215153   69.99      0  \n",
       "\n",
       "[5 rows x 31 columns]"
      ]
     },
     "execution_count": 2,
     "metadata": {},
     "output_type": "execute_result"
    }
   ],
   "source": [
    "credit_card_df = pd.read_csv('../input/creditcardfraud/creditcard.csv')\n",
    "print(credit_card_df.shape)\n",
    "credit_card_df.head()"
   ]
  },
  {
   "cell_type": "code",
   "execution_count": 3,
   "metadata": {
    "execution": {
     "iopub.execute_input": "2020-12-08T13:59:04.640000Z",
     "iopub.status.busy": "2020-12-08T13:59:04.639321Z",
     "iopub.status.idle": "2020-12-08T13:59:04.644814Z",
     "shell.execute_reply": "2020-12-08T13:59:04.645241Z"
    },
    "papermill": {
     "duration": 0.036315,
     "end_time": "2020-12-08T13:59:04.645360",
     "exception": false,
     "start_time": "2020-12-08T13:59:04.609045",
     "status": "completed"
    },
    "tags": []
   },
   "outputs": [
    {
     "name": "stdout",
     "output_type": "stream",
     "text": [
      "['V1', 'V2', 'V3', 'V4', 'V5', 'V6', 'V7', 'V8', 'V9', 'V10', 'V11', 'V12', 'V13', 'V14', 'V15', 'V16', 'V17', 'V18', 'V19', 'V20', 'V21', 'V22', 'V23', 'V24', 'V26', 'V27', 'V28']\n"
     ]
    }
   ],
   "source": [
    "# 27 most important features according to our EDA\n",
    "cols = ['V'+str(i) for i in range(1, 29) if i != 25]\n",
    "print(cols)"
   ]
  },
  {
   "cell_type": "code",
   "execution_count": 4,
   "metadata": {
    "execution": {
     "iopub.execute_input": "2020-12-08T13:59:04.702635Z",
     "iopub.status.busy": "2020-12-08T13:59:04.701454Z",
     "iopub.status.idle": "2020-12-08T13:59:04.731737Z",
     "shell.execute_reply": "2020-12-08T13:59:04.732322Z"
    },
    "papermill": {
     "duration": 0.060574,
     "end_time": "2020-12-08T13:59:04.732471",
     "exception": false,
     "start_time": "2020-12-08T13:59:04.671897",
     "status": "completed"
    },
    "tags": []
   },
   "outputs": [],
   "source": [
    "df = credit_card_df.copy()"
   ]
  },
  {
   "cell_type": "code",
   "execution_count": 5,
   "metadata": {
    "execution": {
     "iopub.execute_input": "2020-12-08T13:59:04.811572Z",
     "iopub.status.busy": "2020-12-08T13:59:04.810649Z",
     "iopub.status.idle": "2020-12-08T13:59:04.814301Z",
     "shell.execute_reply": "2020-12-08T13:59:04.813758Z"
    },
    "papermill": {
     "duration": 0.055203,
     "end_time": "2020-12-08T13:59:04.814444",
     "exception": false,
     "start_time": "2020-12-08T13:59:04.759241",
     "status": "completed"
    },
    "tags": []
   },
   "outputs": [],
   "source": [
    "# selecting the 19 most important features according to our EDA \n",
    "X = df[cols]\n",
    "\n",
    "y = df['Class'] # selecting the target variable"
   ]
  },
  {
   "cell_type": "code",
   "execution_count": null,
   "metadata": {
    "papermill": {
     "duration": 0.027301,
     "end_time": "2020-12-08T13:59:04.868149",
     "exception": false,
     "start_time": "2020-12-08T13:59:04.840848",
     "status": "completed"
    },
    "tags": []
   },
   "outputs": [],
   "source": []
  },
  {
   "cell_type": "code",
   "execution_count": 6,
   "metadata": {
    "execution": {
     "iopub.execute_input": "2020-12-08T13:59:04.924742Z",
     "iopub.status.busy": "2020-12-08T13:59:04.924026Z",
     "iopub.status.idle": "2020-12-08T13:59:04.929068Z",
     "shell.execute_reply": "2020-12-08T13:59:04.928597Z"
    },
    "papermill": {
     "duration": 0.034659,
     "end_time": "2020-12-08T13:59:04.929167",
     "exception": false,
     "start_time": "2020-12-08T13:59:04.894508",
     "status": "completed"
    },
    "tags": []
   },
   "outputs": [
    {
     "data": {
      "text/plain": [
       "(284807,)"
      ]
     },
     "execution_count": 6,
     "metadata": {},
     "output_type": "execute_result"
    }
   ],
   "source": [
    "y.shape"
   ]
  },
  {
   "cell_type": "code",
   "execution_count": 7,
   "metadata": {
    "execution": {
     "iopub.execute_input": "2020-12-08T13:59:05.019824Z",
     "iopub.status.busy": "2020-12-08T13:59:05.019194Z",
     "iopub.status.idle": "2020-12-08T13:59:05.023260Z",
     "shell.execute_reply": "2020-12-08T13:59:05.022794Z"
    },
    "papermill": {
     "duration": 0.03482,
     "end_time": "2020-12-08T13:59:05.023356",
     "exception": false,
     "start_time": "2020-12-08T13:59:04.988536",
     "status": "completed"
    },
    "tags": []
   },
   "outputs": [],
   "source": [
    "admin_cost = 2.5"
   ]
  },
  {
   "cell_type": "code",
   "execution_count": 8,
   "metadata": {
    "execution": {
     "iopub.execute_input": "2020-12-08T13:59:05.082286Z",
     "iopub.status.busy": "2020-12-08T13:59:05.081710Z",
     "iopub.status.idle": "2020-12-08T13:59:05.085911Z",
     "shell.execute_reply": "2020-12-08T13:59:05.085200Z"
    },
    "papermill": {
     "duration": 0.035567,
     "end_time": "2020-12-08T13:59:05.086032",
     "exception": false,
     "start_time": "2020-12-08T13:59:05.050465",
     "status": "completed"
    },
    "tags": []
   },
   "outputs": [],
   "source": [
    "cv = StratifiedKFold(n_splits=4, shuffle=True, random_state=1)"
   ]
  },
  {
   "cell_type": "code",
   "execution_count": 9,
   "metadata": {
    "execution": {
     "iopub.execute_input": "2020-12-08T13:59:05.150577Z",
     "iopub.status.busy": "2020-12-08T13:59:05.148811Z",
     "iopub.status.idle": "2020-12-08T13:59:05.151318Z",
     "shell.execute_reply": "2020-12-08T13:59:05.151943Z"
    },
    "papermill": {
     "duration": 0.038108,
     "end_time": "2020-12-08T13:59:05.152078",
     "exception": false,
     "start_time": "2020-12-08T13:59:05.113970",
     "status": "completed"
    },
    "tags": []
   },
   "outputs": [],
   "source": [
    "# defining a function to calculate cost savings\n",
    "def cost_saving(ytrue, ypred, amount, threshold=0.5):\n",
    "    ypred = ypred.flatten()\n",
    "    fp = np.sum((ytrue == 0) & (ypred == 1))\n",
    "    cost = np.sum(fp*admin_cost) + np.sum((amount[(ytrue == 1) & (ypred == 0)]))\n",
    "    max_cost = np.sum((amount[(ytrue == 1)]))\n",
    "    savings = 1 - (cost/max_cost)\n",
    "    \n",
    "    return savings"
   ]
  },
  {
   "cell_type": "code",
   "execution_count": 10,
   "metadata": {
    "execution": {
     "iopub.execute_input": "2020-12-08T13:59:05.214644Z",
     "iopub.status.busy": "2020-12-08T13:59:05.213860Z",
     "iopub.status.idle": "2020-12-08T13:59:05.217109Z",
     "shell.execute_reply": "2020-12-08T13:59:05.216611Z"
    },
    "papermill": {
     "duration": 0.037307,
     "end_time": "2020-12-08T13:59:05.217198",
     "exception": false,
     "start_time": "2020-12-08T13:59:05.179891",
     "status": "completed"
    },
    "tags": []
   },
   "outputs": [],
   "source": [
    "# defining a function to calculate cost saving per fold (splits) of our cv\n",
    "def cost_saving_per_split(scores, x, y, cv_object):\n",
    "    results = []\n",
    "    for i, (_, test_ind) in zip(range(cv_object.n_splits), cv_object.split(x, y)):\n",
    "        ypred = scores['estimator'][i].predict(x[test_ind])\n",
    "        ytrue = y[test_ind]\n",
    "        amount = df['Amount'].values[test_ind]\n",
    "        results.append(cost_saving(ytrue, ypred, amount))\n",
    "        \n",
    "    return results"
   ]
  },
  {
   "cell_type": "code",
   "execution_count": 11,
   "metadata": {
    "execution": {
     "iopub.execute_input": "2020-12-08T13:59:05.281293Z",
     "iopub.status.busy": "2020-12-08T13:59:05.280711Z",
     "iopub.status.idle": "2020-12-08T13:59:05.284868Z",
     "shell.execute_reply": "2020-12-08T13:59:05.284361Z"
    },
    "papermill": {
     "duration": 0.039796,
     "end_time": "2020-12-08T13:59:05.284957",
     "exception": false,
     "start_time": "2020-12-08T13:59:05.245161",
     "status": "completed"
    },
    "tags": []
   },
   "outputs": [],
   "source": [
    "# defining a function to return a dataframe of metrics results for each fold in our cv\n",
    "def get_metric_scores(scores, x, y=y, cv_object=cv):\n",
    "    ind = ['split_'+str(n) for n in range(1, cv_object.n_splits+1)]\n",
    "    \n",
    "    scores_df = pd.DataFrame(index=ind)\n",
    "    \n",
    "    scores_df['f1_score'] = scores['test_f1']\n",
    "    scores_df['auc_pr'] = scores['test_average_precision']\n",
    "    scores_df['cost_savings'] = cost_saving_per_split(scores, x, y, cv_object)\n",
    "\n",
    "    return scores_df"
   ]
  },
  {
   "cell_type": "code",
   "execution_count": 12,
   "metadata": {
    "execution": {
     "iopub.execute_input": "2020-12-08T13:59:05.348166Z",
     "iopub.status.busy": "2020-12-08T13:59:05.347606Z",
     "iopub.status.idle": "2020-12-08T13:59:05.351553Z",
     "shell.execute_reply": "2020-12-08T13:59:05.350967Z"
    },
    "papermill": {
     "duration": 0.037175,
     "end_time": "2020-12-08T13:59:05.351653",
     "exception": false,
     "start_time": "2020-12-08T13:59:05.314478",
     "status": "completed"
    },
    "tags": []
   },
   "outputs": [],
   "source": [
    "threshold = 0.5"
   ]
  },
  {
   "cell_type": "code",
   "execution_count": 14,
   "metadata": {
    "execution": {
     "iopub.execute_input": "2020-12-08T13:59:05.487005Z",
     "iopub.status.busy": "2020-12-08T13:59:05.486310Z",
     "iopub.status.idle": "2020-12-08T13:59:05.490101Z",
     "shell.execute_reply": "2020-12-08T13:59:05.489589Z"
    },
    "papermill": {
     "duration": 0.034641,
     "end_time": "2020-12-08T13:59:05.490187",
     "exception": false,
     "start_time": "2020-12-08T13:59:05.455546",
     "status": "completed"
    },
    "tags": []
   },
   "outputs": [],
   "source": [
    "stopper = EarlyStopping(monitor='val_stateful_binary_fbeta', patience=10, mode='max',\n",
    "    restore_best_weights=True)"
   ]
  },
  {
   "cell_type": "code",
   "execution_count": 15,
   "metadata": {
    "execution": {
     "iopub.execute_input": "2020-12-08T13:59:05.552254Z",
     "iopub.status.busy": "2020-12-08T13:59:05.551031Z",
     "iopub.status.idle": "2020-12-08T13:59:05.561711Z",
     "shell.execute_reply": "2020-12-08T13:59:05.560851Z"
    },
    "papermill": {
     "duration": 0.043656,
     "end_time": "2020-12-08T13:59:05.561834",
     "exception": false,
     "start_time": "2020-12-08T13:59:05.518178",
     "status": "completed"
    },
    "tags": []
   },
   "outputs": [
    {
     "name": "stdout",
     "output_type": "stream",
     "text": [
      "negative class is 284315 in number, while positive is 492\n"
     ]
    },
    {
     "data": {
      "text/plain": [
       "array([-6.35935934])"
      ]
     },
     "execution_count": 15,
     "metadata": {},
     "output_type": "execute_result"
    }
   ],
   "source": [
    "neg, pos = np.bincount(y)\n",
    "print('negative class is {} in number, while positive is {}'.format(neg, pos))\n",
    "initial_bias = np.log([pos/neg])\n",
    "initial_bias"
   ]
  },
  {
   "cell_type": "code",
   "execution_count": 16,
   "metadata": {
    "execution": {
     "iopub.execute_input": "2020-12-08T13:59:05.627766Z",
     "iopub.status.busy": "2020-12-08T13:59:05.627008Z",
     "iopub.status.idle": "2020-12-08T13:59:05.630588Z",
     "shell.execute_reply": "2020-12-08T13:59:05.631054Z"
    },
    "papermill": {
     "duration": 0.040713,
     "end_time": "2020-12-08T13:59:05.631181",
     "exception": false,
     "start_time": "2020-12-08T13:59:05.590468",
     "status": "completed"
    },
    "tags": []
   },
   "outputs": [],
   "source": [
    "def build_model():\n",
    "    model = Sequential()\n",
    "\n",
    "    model.add(Dense(16, kernel_initializer='uniform', activation='relu'))\n",
    "    \n",
    "    model.add(Dropout(0.2))\n",
    "    \n",
    "    output_bias = tf.keras.initializers.Constant(initial_bias) \n",
    "    \n",
    "    model.add(Dense(1, activation='sigmoid', bias_initializer=output_bias))\n",
    "    \n",
    "    #binary_fbeta = StatefulBinaryFBeta()\n",
    "    \n",
    "    # compling model\n",
    "    model.compile(loss='binary_crossentropy', optimizer='adam')\n",
    "    \n",
    "    return model"
   ]
  },
  {
   "cell_type": "code",
   "execution_count": 17,
   "metadata": {
    "execution": {
     "iopub.execute_input": "2020-12-08T13:59:05.698287Z",
     "iopub.status.busy": "2020-12-08T13:59:05.696647Z",
     "iopub.status.idle": "2020-12-08T13:59:05.699026Z",
     "shell.execute_reply": "2020-12-08T13:59:05.699499Z"
    },
    "papermill": {
     "duration": 0.039638,
     "end_time": "2020-12-08T13:59:05.699608",
     "exception": false,
     "start_time": "2020-12-08T13:59:05.659970",
     "status": "completed"
    },
    "tags": []
   },
   "outputs": [],
   "source": [
    "class ClipOutliers(BaseEstimator, TransformerMixin):\n",
    "    def __init__(self, lower_percentile=1, upper_percentile=99):\n",
    "        self.lower_percentile = lower_percentile\n",
    "        self.upper_percentile = upper_percentile\n",
    "        \n",
    "    def fit(self, X, y=None):\n",
    "        self.a = np.percentile(X, self.lower_percentile, axis=0)\n",
    "        self.b = np.percentile(X, self.upper_percentile, axis=0)\n",
    "        \n",
    "        return self\n",
    "    \n",
    "    def transform(self, X):\n",
    "        self.Xt = np.clip(X, self.a, self.b)\n",
    "        \n",
    "        return self.Xt"
   ]
  },
  {
   "cell_type": "markdown",
   "metadata": {
    "papermill": {
     "duration": 0.029724,
     "end_time": "2020-12-08T13:59:05.758977",
     "exception": false,
     "start_time": "2020-12-08T13:59:05.729253",
     "status": "completed"
    },
    "tags": []
   },
   "source": [
    "## Fraud Sensitive model (Not cost sensitive)"
   ]
  },
  {
   "cell_type": "markdown",
   "metadata": {
    "papermill": {
     "duration": 0.028566,
     "end_time": "2020-12-08T13:59:05.815860",
     "exception": false,
     "start_time": "2020-12-08T13:59:05.787294",
     "status": "completed"
    },
    "tags": []
   },
   "source": [
    "### (I) Using Majority Voting as our Ensembling strategy."
   ]
  },
  {
   "cell_type": "code",
   "execution_count": 18,
   "metadata": {
    "execution": {
     "iopub.execute_input": "2020-12-08T13:59:05.877369Z",
     "iopub.status.busy": "2020-12-08T13:59:05.876804Z",
     "iopub.status.idle": "2020-12-08T13:59:05.880825Z",
     "shell.execute_reply": "2020-12-08T13:59:05.880345Z"
    },
    "papermill": {
     "duration": 0.036,
     "end_time": "2020-12-08T13:59:05.880918",
     "exception": false,
     "start_time": "2020-12-08T13:59:05.844918",
     "status": "completed"
    },
    "tags": []
   },
   "outputs": [],
   "source": [
    "epochs = 4\n",
    "n_neighbors = 5"
   ]
  },
  {
   "cell_type": "code",
   "execution_count": 19,
   "metadata": {
    "execution": {
     "iopub.execute_input": "2020-12-08T13:59:05.945083Z",
     "iopub.status.busy": "2020-12-08T13:59:05.944306Z",
     "iopub.status.idle": "2020-12-08T13:59:05.947184Z",
     "shell.execute_reply": "2020-12-08T13:59:05.946677Z"
    },
    "papermill": {
     "duration": 0.037234,
     "end_time": "2020-12-08T13:59:05.947280",
     "exception": false,
     "start_time": "2020-12-08T13:59:05.910046",
     "status": "completed"
    },
    "tags": []
   },
   "outputs": [],
   "source": [
    "# setting _estimator_type atrribute of sklearn's pipeline to 'classifier' to avoid errors when using\n",
    "# VotingClassifier.\n",
    "class ClassifierPipeline(Pipeline):\n",
    "    @property\n",
    "    def _estimator_type(self):\n",
    "        return 'classifier'"
   ]
  },
  {
   "cell_type": "code",
   "execution_count": 20,
   "metadata": {
    "execution": {
     "iopub.execute_input": "2020-12-08T13:59:06.017189Z",
     "iopub.status.busy": "2020-12-08T13:59:06.014955Z",
     "iopub.status.idle": "2020-12-08T14:52:15.210587Z",
     "shell.execute_reply": "2020-12-08T14:52:15.211144Z"
    },
    "papermill": {
     "duration": 3189.233815,
     "end_time": "2020-12-08T14:52:15.211295",
     "exception": false,
     "start_time": "2020-12-08T13:59:05.977480",
     "status": "completed"
    },
    "tags": []
   },
   "outputs": [
    {
     "name": "stderr",
     "output_type": "stream",
     "text": [
      "[Parallel(n_jobs=1)]: Using backend SequentialBackend with 1 concurrent workers.\n",
      "[Parallel(n_jobs=1)]: Done   4 out of   4 | elapsed: 53.2min finished\n"
     ]
    }
   ],
   "source": [
    "scaler = StandardScaler()\n",
    "clipper = ClipOutliers()\n",
    "\n",
    "mlp = KerasClassifier(build_fn=build_model, epochs=epochs, batch_size=512, verbose=0)\n",
    "knn =  KNeighborsClassifier(n_neighbors=n_neighbors, algorithm='kd_tree')\n",
    "\n",
    "clip_mlp = ClassifierPipeline([('clipper', clipper), ('mlp', mlp)])\n",
    "\n",
    "vote_ensemble = VotingClassifier(estimators=[('knn', knn), ('mlp', clip_mlp)], voting='soft')\n",
    "\n",
    "vote_pipe = Pipeline([('scaler', scaler), ('ensemble', vote_ensemble)])\n",
    "\n",
    "vote_scores = cross_validate(vote_pipe, np.array(X), y, verbose=1, \\\n",
    "                         scoring=['f1', 'average_precision'], cv=cv, return_estimator=True, \\\n",
    "                         error_score='raise') # setting n_jobs greater than one seems not to work when using \n",
    "                                              # deep learning models"
   ]
  },
  {
   "cell_type": "code",
   "execution_count": 21,
   "metadata": {
    "execution": {
     "iopub.execute_input": "2020-12-08T14:52:15.276850Z",
     "iopub.status.busy": "2020-12-08T14:52:15.275575Z",
     "iopub.status.idle": "2020-12-08T15:18:29.667946Z",
     "shell.execute_reply": "2020-12-08T15:18:29.668559Z"
    },
    "papermill": {
     "duration": 1574.42727,
     "end_time": "2020-12-08T15:18:29.668706",
     "exception": false,
     "start_time": "2020-12-08T14:52:15.241436",
     "status": "completed"
    },
    "tags": []
   },
   "outputs": [
    {
     "data": {
      "text/html": [
       "<div>\n",
       "<style scoped>\n",
       "    .dataframe tbody tr th:only-of-type {\n",
       "        vertical-align: middle;\n",
       "    }\n",
       "\n",
       "    .dataframe tbody tr th {\n",
       "        vertical-align: top;\n",
       "    }\n",
       "\n",
       "    .dataframe thead th {\n",
       "        text-align: right;\n",
       "    }\n",
       "</style>\n",
       "<table border=\"1\" class=\"dataframe\">\n",
       "  <thead>\n",
       "    <tr style=\"text-align: right;\">\n",
       "      <th></th>\n",
       "      <th>f1_score</th>\n",
       "      <th>auc_pr</th>\n",
       "      <th>cost_savings</th>\n",
       "    </tr>\n",
       "  </thead>\n",
       "  <tbody>\n",
       "    <tr>\n",
       "      <th>split_1</th>\n",
       "      <td>0.826087</td>\n",
       "      <td>0.810348</td>\n",
       "      <td>0.726768</td>\n",
       "    </tr>\n",
       "    <tr>\n",
       "      <th>split_2</th>\n",
       "      <td>0.858369</td>\n",
       "      <td>0.870847</td>\n",
       "      <td>0.728030</td>\n",
       "    </tr>\n",
       "    <tr>\n",
       "      <th>split_3</th>\n",
       "      <td>0.857143</td>\n",
       "      <td>0.900577</td>\n",
       "      <td>0.794781</td>\n",
       "    </tr>\n",
       "    <tr>\n",
       "      <th>split_4</th>\n",
       "      <td>0.828194</td>\n",
       "      <td>0.826006</td>\n",
       "      <td>0.696086</td>\n",
       "    </tr>\n",
       "  </tbody>\n",
       "</table>\n",
       "</div>"
      ],
      "text/plain": [
       "         f1_score    auc_pr  cost_savings\n",
       "split_1  0.826087  0.810348      0.726768\n",
       "split_2  0.858369  0.870847      0.728030\n",
       "split_3  0.857143  0.900577      0.794781\n",
       "split_4  0.828194  0.826006      0.696086"
      ]
     },
     "execution_count": 21,
     "metadata": {},
     "output_type": "execute_result"
    }
   ],
   "source": [
    "vote_results = get_metric_scores(vote_scores, np.array(X))\n",
    "vote_results"
   ]
  },
  {
   "cell_type": "code",
   "execution_count": 22,
   "metadata": {
    "execution": {
     "iopub.execute_input": "2020-12-08T15:18:29.740165Z",
     "iopub.status.busy": "2020-12-08T15:18:29.739210Z",
     "iopub.status.idle": "2020-12-08T15:18:29.743683Z",
     "shell.execute_reply": "2020-12-08T15:18:29.744302Z"
    },
    "papermill": {
     "duration": 0.043219,
     "end_time": "2020-12-08T15:18:29.744466",
     "exception": false,
     "start_time": "2020-12-08T15:18:29.701247",
     "status": "completed"
    },
    "tags": []
   },
   "outputs": [
    {
     "data": {
      "text/plain": [
       "f1_score        0.842448\n",
       "auc_pr          0.851945\n",
       "cost_savings    0.736416\n",
       "dtype: float64"
      ]
     },
     "execution_count": 22,
     "metadata": {},
     "output_type": "execute_result"
    }
   ],
   "source": [
    "vote_results.mean()"
   ]
  },
  {
   "cell_type": "markdown",
   "metadata": {
    "papermill": {
     "duration": 0.030202,
     "end_time": "2020-12-08T15:18:29.808269",
     "exception": false,
     "start_time": "2020-12-08T15:18:29.778067",
     "status": "completed"
    },
    "tags": []
   },
   "source": [
    "### (II) Stacking Ensemble"
   ]
  },
  {
   "cell_type": "code",
   "execution_count": 23,
   "metadata": {
    "execution": {
     "iopub.execute_input": "2020-12-08T15:18:29.879844Z",
     "iopub.status.busy": "2020-12-08T15:18:29.878631Z",
     "iopub.status.idle": "2020-12-08T17:18:31.323280Z",
     "shell.execute_reply": "2020-12-08T17:18:31.323868Z"
    },
    "papermill": {
     "duration": 7201.485355,
     "end_time": "2020-12-08T17:18:31.324018",
     "exception": false,
     "start_time": "2020-12-08T15:18:29.838663",
     "status": "completed"
    },
    "tags": []
   },
   "outputs": [
    {
     "name": "stderr",
     "output_type": "stream",
     "text": [
      "[Parallel(n_jobs=1)]: Using backend SequentialBackend with 1 concurrent workers.\n",
      "[Parallel(n_jobs=1)]: Using backend SequentialBackend with 1 concurrent workers.\n",
      "[Parallel(n_jobs=1)]: Done   5 out of   5 | elapsed: 16.4min finished\n",
      "[Parallel(n_jobs=1)]: Using backend SequentialBackend with 1 concurrent workers.\n",
      "[Parallel(n_jobs=1)]: Done   5 out of   5 | elapsed:   14.6s finished\n",
      "[Parallel(n_jobs=1)]: Using backend SequentialBackend with 1 concurrent workers.\n",
      "[Parallel(n_jobs=1)]: Done   5 out of   5 | elapsed: 16.0min finished\n",
      "[Parallel(n_jobs=1)]: Using backend SequentialBackend with 1 concurrent workers.\n",
      "[Parallel(n_jobs=1)]: Done   5 out of   5 | elapsed:   15.1s finished\n",
      "[Parallel(n_jobs=1)]: Using backend SequentialBackend with 1 concurrent workers.\n",
      "[Parallel(n_jobs=1)]: Done   5 out of   5 | elapsed: 17.6min finished\n",
      "[Parallel(n_jobs=1)]: Using backend SequentialBackend with 1 concurrent workers.\n",
      "[Parallel(n_jobs=1)]: Done   5 out of   5 | elapsed:   15.8s finished\n",
      "[Parallel(n_jobs=1)]: Using backend SequentialBackend with 1 concurrent workers.\n",
      "[Parallel(n_jobs=1)]: Done   5 out of   5 | elapsed: 18.8min finished\n",
      "[Parallel(n_jobs=1)]: Using backend SequentialBackend with 1 concurrent workers.\n",
      "[Parallel(n_jobs=1)]: Done   5 out of   5 | elapsed:   16.0s finished\n",
      "[Parallel(n_jobs=1)]: Done   4 out of   4 | elapsed: 120.0min finished\n"
     ]
    }
   ],
   "source": [
    "scaler3 = StandardScaler()\n",
    "clipper3 = ClipOutliers()\n",
    "\n",
    "mlp3 = KerasClassifier(build_fn=build_model, epochs=epochs, batch_size=512, verbose=0)\n",
    "knn3 =  KNeighborsClassifier(n_neighbors=n_neighbors, algorithm='kd_tree')\n",
    "\n",
    "clip_mlp3 = ClassifierPipeline([('clipper', clipper3), ('mlp', mlp3)])\n",
    "\n",
    "blender3 = LogisticRegression()\n",
    "\n",
    "stack_ensemble3 = StackingClassifier(estimators=[('knn', knn3), ('mlp', clip_mlp3)], \\\n",
    "                                   final_estimator=blender3, verbose=1)\n",
    "\n",
    "stack_pipe3 = Pipeline([('scaler', scaler3), ('ensemble', stack_ensemble3)])\n",
    "\n",
    "stack_scores3 = cross_validate(stack_pipe3, np.array(X), y, verbose=1, \\\n",
    "                         scoring=['f1', 'average_precision'], cv=cv, return_estimator=True, \\\n",
    "                         error_score='raise')"
   ]
  },
  {
   "cell_type": "code",
   "execution_count": 25,
   "metadata": {
    "execution": {
     "iopub.execute_input": "2020-12-08T17:18:31.682327Z",
     "iopub.status.busy": "2020-12-08T17:18:31.681127Z",
     "iopub.status.idle": "2020-12-08T17:45:32.961975Z",
     "shell.execute_reply": "2020-12-08T17:45:32.962547Z"
    },
    "papermill": {
     "duration": 1621.323614,
     "end_time": "2020-12-08T17:45:32.962714",
     "exception": false,
     "start_time": "2020-12-08T17:18:31.639100",
     "status": "completed"
    },
    "tags": []
   },
   "outputs": [
    {
     "data": {
      "text/html": [
       "<div>\n",
       "<style scoped>\n",
       "    .dataframe tbody tr th:only-of-type {\n",
       "        vertical-align: middle;\n",
       "    }\n",
       "\n",
       "    .dataframe tbody tr th {\n",
       "        vertical-align: top;\n",
       "    }\n",
       "\n",
       "    .dataframe thead th {\n",
       "        text-align: right;\n",
       "    }\n",
       "</style>\n",
       "<table border=\"1\" class=\"dataframe\">\n",
       "  <thead>\n",
       "    <tr style=\"text-align: right;\">\n",
       "      <th></th>\n",
       "      <th>f1_score</th>\n",
       "      <th>auc_pr</th>\n",
       "      <th>cost_savings</th>\n",
       "    </tr>\n",
       "  </thead>\n",
       "  <tbody>\n",
       "    <tr>\n",
       "      <th>split_1</th>\n",
       "      <td>0.801762</td>\n",
       "      <td>0.804730</td>\n",
       "      <td>0.707262</td>\n",
       "    </tr>\n",
       "    <tr>\n",
       "      <th>split_2</th>\n",
       "      <td>0.845455</td>\n",
       "      <td>0.866117</td>\n",
       "      <td>0.498718</td>\n",
       "    </tr>\n",
       "    <tr>\n",
       "      <th>split_3</th>\n",
       "      <td>0.841629</td>\n",
       "      <td>0.900262</td>\n",
       "      <td>0.755974</td>\n",
       "    </tr>\n",
       "    <tr>\n",
       "      <th>split_4</th>\n",
       "      <td>0.838710</td>\n",
       "      <td>0.825492</td>\n",
       "      <td>0.565301</td>\n",
       "    </tr>\n",
       "  </tbody>\n",
       "</table>\n",
       "</div>"
      ],
      "text/plain": [
       "         f1_score    auc_pr  cost_savings\n",
       "split_1  0.801762  0.804730      0.707262\n",
       "split_2  0.845455  0.866117      0.498718\n",
       "split_3  0.841629  0.900262      0.755974\n",
       "split_4  0.838710  0.825492      0.565301"
      ]
     },
     "execution_count": 25,
     "metadata": {},
     "output_type": "execute_result"
    }
   ],
   "source": [
    "stack_results3 = get_metric_scores(stack_scores3, np.array(X))\n",
    "stack_results3"
   ]
  },
  {
   "cell_type": "code",
   "execution_count": 26,
   "metadata": {
    "execution": {
     "iopub.execute_input": "2020-12-08T17:45:33.045713Z",
     "iopub.status.busy": "2020-12-08T17:45:33.044880Z",
     "iopub.status.idle": "2020-12-08T17:45:33.048596Z",
     "shell.execute_reply": "2020-12-08T17:45:33.049097Z"
    },
    "papermill": {
     "duration": 0.048789,
     "end_time": "2020-12-08T17:45:33.049231",
     "exception": false,
     "start_time": "2020-12-08T17:45:33.000442",
     "status": "completed"
    },
    "tags": []
   },
   "outputs": [
    {
     "data": {
      "text/plain": [
       "f1_score        0.831889\n",
       "auc_pr          0.849150\n",
       "cost_savings    0.631813\n",
       "dtype: float64"
      ]
     },
     "execution_count": 26,
     "metadata": {},
     "output_type": "execute_result"
    }
   ],
   "source": [
    "stack_results3.mean()"
   ]
  },
  {
   "cell_type": "markdown",
   "metadata": {
    "papermill": {
     "duration": 0.036957,
     "end_time": "2020-12-08T17:45:33.124469",
     "exception": false,
     "start_time": "2020-12-08T17:45:33.087512",
     "status": "completed"
    },
    "tags": []
   },
   "source": [
    "## (III) Custom stacking ensemble (without using cross validation for each stratified split)"
   ]
  },
  {
   "cell_type": "code",
   "execution_count": 27,
   "metadata": {
    "execution": {
     "iopub.execute_input": "2020-12-08T17:45:33.209505Z",
     "iopub.status.busy": "2020-12-08T17:45:33.207661Z",
     "iopub.status.idle": "2020-12-08T17:45:33.210139Z",
     "shell.execute_reply": "2020-12-08T17:45:33.210684Z"
    },
    "papermill": {
     "duration": 0.048188,
     "end_time": "2020-12-08T17:45:33.210810",
     "exception": false,
     "start_time": "2020-12-08T17:45:33.162622",
     "status": "completed"
    },
    "tags": []
   },
   "outputs": [],
   "source": [
    "# creating a custom transformer to disguise our models as scikit-learn transformer \n",
    "class TransformerModel(BaseEstimator, TransformerMixin):\n",
    "    def __init__(self, model):\n",
    "        self.model = model\n",
    "        \n",
    "    def fit(self, X, y):\n",
    "        self.model.fit(X, y)\n",
    "        return self\n",
    "    \n",
    "    def transform(self, X):\n",
    "        self.pred = self.model.predict_proba(X)[:, 1].reshape(-1, 1)\n",
    "        return self.pred"
   ]
  },
  {
   "cell_type": "code",
   "execution_count": 28,
   "metadata": {
    "execution": {
     "iopub.execute_input": "2020-12-08T17:45:33.296766Z",
     "iopub.status.busy": "2020-12-08T17:45:33.295523Z",
     "iopub.status.idle": "2020-12-08T19:47:23.553413Z",
     "shell.execute_reply": "2020-12-08T19:47:23.554087Z"
    },
    "papermill": {
     "duration": 7310.30624,
     "end_time": "2020-12-08T19:47:23.554280",
     "exception": false,
     "start_time": "2020-12-08T17:45:33.248040",
     "status": "completed"
    },
    "tags": []
   },
   "outputs": [
    {
     "name": "stderr",
     "output_type": "stream",
     "text": [
      "[Parallel(n_jobs=1)]: Using backend SequentialBackend with 1 concurrent workers.\n",
      "[Parallel(n_jobs=1)]: Done   4 out of   4 | elapsed: 121.8min finished\n"
     ]
    }
   ],
   "source": [
    "scaler2 = StandardScaler()\n",
    "clipper2 = ClipOutliers()\n",
    "\n",
    "mlp2 = KerasClassifier(build_fn=build_model, epochs=epochs, batch_size=512, verbose=0)\n",
    "knn2 =  KNeighborsClassifier(n_neighbors=n_neighbors, algorithm='kd_tree')\n",
    "\n",
    "mlp_trans = TransformerModel(mlp2)\n",
    "knn_trans = TransformerModel(knn2)\n",
    "\n",
    "clip_mlp2 = Pipeline([('clipper', clipper2), ('mlp', mlp_trans)])\n",
    "\n",
    "union = FeatureUnion([('mlp', clip_mlp2), ('knn', knn_trans)])\n",
    "\n",
    "blender = LogisticRegression()\n",
    "\n",
    "stack_pipe = Pipeline([('scaler', scaler2), ('union', union), ('blender', blender)])\n",
    "\n",
    "stack_scores = cross_validate(stack_pipe, np.array(X), y, verbose=1, \\\n",
    "                         scoring=['f1', 'average_precision'], cv=cv, return_estimator=True, \\\n",
    "                         error_score='raise')"
   ]
  },
  {
   "cell_type": "code",
   "execution_count": 30,
   "metadata": {
    "execution": {
     "iopub.execute_input": "2020-12-08T19:47:24.052129Z",
     "iopub.status.busy": "2020-12-08T19:47:24.050821Z",
     "iopub.status.idle": "2020-12-08T20:11:50.471270Z",
     "shell.execute_reply": "2020-12-08T20:11:50.471768Z"
    },
    "papermill": {
     "duration": 1466.463783,
     "end_time": "2020-12-08T20:11:50.471907",
     "exception": false,
     "start_time": "2020-12-08T19:47:24.008124",
     "status": "completed"
    },
    "tags": []
   },
   "outputs": [
    {
     "data": {
      "text/html": [
       "<div>\n",
       "<style scoped>\n",
       "    .dataframe tbody tr th:only-of-type {\n",
       "        vertical-align: middle;\n",
       "    }\n",
       "\n",
       "    .dataframe tbody tr th {\n",
       "        vertical-align: top;\n",
       "    }\n",
       "\n",
       "    .dataframe thead th {\n",
       "        text-align: right;\n",
       "    }\n",
       "</style>\n",
       "<table border=\"1\" class=\"dataframe\">\n",
       "  <thead>\n",
       "    <tr style=\"text-align: right;\">\n",
       "      <th></th>\n",
       "      <th>f1_score</th>\n",
       "      <th>auc_pr</th>\n",
       "      <th>cost_savings</th>\n",
       "    </tr>\n",
       "  </thead>\n",
       "  <tbody>\n",
       "    <tr>\n",
       "      <th>split_1</th>\n",
       "      <td>0.808889</td>\n",
       "      <td>0.812319</td>\n",
       "      <td>0.719914</td>\n",
       "    </tr>\n",
       "    <tr>\n",
       "      <th>split_2</th>\n",
       "      <td>0.869565</td>\n",
       "      <td>0.875511</td>\n",
       "      <td>0.725794</td>\n",
       "    </tr>\n",
       "    <tr>\n",
       "      <th>split_3</th>\n",
       "      <td>0.850679</td>\n",
       "      <td>0.905657</td>\n",
       "      <td>0.777706</td>\n",
       "    </tr>\n",
       "    <tr>\n",
       "      <th>split_4</th>\n",
       "      <td>0.830357</td>\n",
       "      <td>0.824731</td>\n",
       "      <td>0.695133</td>\n",
       "    </tr>\n",
       "  </tbody>\n",
       "</table>\n",
       "</div>"
      ],
      "text/plain": [
       "         f1_score    auc_pr  cost_savings\n",
       "split_1  0.808889  0.812319      0.719914\n",
       "split_2  0.869565  0.875511      0.725794\n",
       "split_3  0.850679  0.905657      0.777706\n",
       "split_4  0.830357  0.824731      0.695133"
      ]
     },
     "execution_count": 30,
     "metadata": {},
     "output_type": "execute_result"
    }
   ],
   "source": [
    "stack_results = get_metric_scores(stack_scores, np.array(X))\n",
    "stack_results"
   ]
  },
  {
   "cell_type": "code",
   "execution_count": 31,
   "metadata": {
    "execution": {
     "iopub.execute_input": "2020-12-08T20:11:50.557016Z",
     "iopub.status.busy": "2020-12-08T20:11:50.556126Z",
     "iopub.status.idle": "2020-12-08T20:11:50.560260Z",
     "shell.execute_reply": "2020-12-08T20:11:50.559829Z"
    },
    "papermill": {
     "duration": 0.049004,
     "end_time": "2020-12-08T20:11:50.560351",
     "exception": false,
     "start_time": "2020-12-08T20:11:50.511347",
     "status": "completed"
    },
    "tags": []
   },
   "outputs": [
    {
     "data": {
      "text/plain": [
       "f1_score        0.839872\n",
       "auc_pr          0.854554\n",
       "cost_savings    0.729637\n",
       "dtype: float64"
      ]
     },
     "execution_count": 31,
     "metadata": {},
     "output_type": "execute_result"
    }
   ],
   "source": [
    "stack_results.mean()"
   ]
  },
  {
   "cell_type": "code",
   "execution_count": null,
   "metadata": {
    "papermill": {
     "duration": 0.038979,
     "end_time": "2020-12-08T20:11:50.638761",
     "exception": false,
     "start_time": "2020-12-08T20:11:50.599782",
     "status": "completed"
    },
    "tags": []
   },
   "outputs": [],
   "source": []
  },
  {
   "cell_type": "markdown",
   "metadata": {
    "papermill": {
     "duration": 0.038813,
     "end_time": "2020-12-08T20:11:50.716945",
     "exception": false,
     "start_time": "2020-12-08T20:11:50.678132",
     "status": "completed"
    },
    "tags": []
   },
   "source": [
    "# We now see that Voting ensemble is the best ensemble strategy and it improved KNN's f1_score by 0.01, auc by 0.05 and cost savings by 0.01. It also reduced overfitting."
   ]
  },
  {
   "cell_type": "code",
   "execution_count": null,
   "metadata": {},
   "outputs": [],
   "source": []
  }
 ],
 "metadata": {
  "kernelspec": {
   "display_name": "Python 3",
   "language": "python",
   "name": "python3"
  },
  "language_info": {
   "codemirror_mode": {
    "name": "ipython",
    "version": 3
   },
   "file_extension": ".py",
   "mimetype": "text/x-python",
   "name": "python",
   "nbconvert_exporter": "python",
   "pygments_lexer": "ipython3",
   "version": "3.7.7"
  },
  "papermill": {
   "duration": 22382.867752,
   "end_time": "2020-12-08T20:11:52.492503",
   "environment_variables": {},
   "exception": null,
   "input_path": "__notebook__.ipynb",
   "output_path": "__notebook__.ipynb",
   "parameters": {},
   "start_time": "2020-12-08T13:58:49.624751",
   "version": "2.1.0"
  }
 },
 "nbformat": 4,
 "nbformat_minor": 4
}
