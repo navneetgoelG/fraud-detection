{
 "cells": [
  {
   "cell_type": "markdown",
   "metadata": {
    "papermill": {
     "duration": 0.053586,
     "end_time": "2020-12-05T14:42:56.896953",
     "exception": false,
     "start_time": "2020-12-05T14:42:56.843367",
     "status": "completed"
    },
    "tags": []
   },
   "source": [
    "## MLP Model"
   ]
  },
  {
   "cell_type": "code",
   "execution_count": 1,
   "metadata": {
    "_cell_guid": "79c7e3d0-c299-4dcb-8224-4455121ee9b0",
    "_uuid": "d629ff2d2480ee46fbb7e2d37f6b5fab8052498a",
    "execution": {
     "iopub.execute_input": "2020-12-05T14:42:57.021257Z",
     "iopub.status.busy": "2020-12-05T14:42:57.020439Z",
     "iopub.status.idle": "2020-12-05T14:43:04.294376Z",
     "shell.execute_reply": "2020-12-05T14:43:04.293352Z"
    },
    "papermill": {
     "duration": 7.345427,
     "end_time": "2020-12-05T14:43:04.294581",
     "exception": false,
     "start_time": "2020-12-05T14:42:56.949154",
     "status": "completed"
    },
    "tags": []
   },
   "outputs": [],
   "source": [
    "# importing useful libraries\n",
    "import numpy as np\n",
    "import tensorflow as tf\n",
    "import random as python_random\n",
    "\n",
    "# setting random seed for result reproducibility\n",
    "np.random.seed(1)\n",
    "python_random.seed(12)\n",
    "tf.random.set_seed(123)\n",
    "\n",
    "from tensorflow.keras.models import Sequential\n",
    "from tensorflow.keras.layers import Dense, Dropout\n",
    "from tensorflow.keras.optimizers import Adam\n",
    "from tensorflow.keras.metrics import Metric, AUC\n",
    "from keras.wrappers.scikit_learn import KerasClassifier\n",
    "\n",
    "import pandas as pd\n",
    "import matplotlib.pyplot as plt\n",
    "import seaborn as sns\n",
    "\n",
    "from sklearn.model_selection import StratifiedKFold, cross_validate, train_test_split\n",
    "from sklearn.preprocessing import StandardScaler\n",
    "from sklearn.metrics import f1_score\n",
    "from sklearn.feature_selection import RFECV\n",
    "from sklearn.pipeline import Pipeline\n",
    "from sklearn.base import BaseEstimator, TransformerMixin\n",
    "\n",
    "from tensorflow.keras.models import Sequential\n",
    "from tensorflow.keras.layers import Dense, Dropout\n",
    "from tensorflow.keras.callbacks import EarlyStopping\n",
    "\n",
    "import warnings\n",
    "warnings.filterwarnings('ignore')\n",
    "\n",
    "%matplotlib inline"
   ]
  },
  {
   "cell_type": "code",
   "execution_count": 2,
   "metadata": {
    "execution": {
     "iopub.execute_input": "2020-12-05T14:43:04.405682Z",
     "iopub.status.busy": "2020-12-05T14:43:04.404918Z",
     "iopub.status.idle": "2020-12-05T14:43:06.950126Z",
     "shell.execute_reply": "2020-12-05T14:43:06.950829Z"
    },
    "papermill": {
     "duration": 2.604654,
     "end_time": "2020-12-05T14:43:06.950995",
     "exception": false,
     "start_time": "2020-12-05T14:43:04.346341",
     "status": "completed"
    },
    "tags": []
   },
   "outputs": [
    {
     "name": "stdout",
     "output_type": "stream",
     "text": [
      "(284807, 31)\n"
     ]
    },
    {
     "data": {
      "text/html": [
       "<div>\n",
       "<style scoped>\n",
       "    .dataframe tbody tr th:only-of-type {\n",
       "        vertical-align: middle;\n",
       "    }\n",
       "\n",
       "    .dataframe tbody tr th {\n",
       "        vertical-align: top;\n",
       "    }\n",
       "\n",
       "    .dataframe thead th {\n",
       "        text-align: right;\n",
       "    }\n",
       "</style>\n",
       "<table border=\"1\" class=\"dataframe\">\n",
       "  <thead>\n",
       "    <tr style=\"text-align: right;\">\n",
       "      <th></th>\n",
       "      <th>Time</th>\n",
       "      <th>V1</th>\n",
       "      <th>V2</th>\n",
       "      <th>V3</th>\n",
       "      <th>V4</th>\n",
       "      <th>V5</th>\n",
       "      <th>V6</th>\n",
       "      <th>V7</th>\n",
       "      <th>V8</th>\n",
       "      <th>V9</th>\n",
       "      <th>...</th>\n",
       "      <th>V21</th>\n",
       "      <th>V22</th>\n",
       "      <th>V23</th>\n",
       "      <th>V24</th>\n",
       "      <th>V25</th>\n",
       "      <th>V26</th>\n",
       "      <th>V27</th>\n",
       "      <th>V28</th>\n",
       "      <th>Amount</th>\n",
       "      <th>Class</th>\n",
       "    </tr>\n",
       "  </thead>\n",
       "  <tbody>\n",
       "    <tr>\n",
       "      <th>0</th>\n",
       "      <td>0.0</td>\n",
       "      <td>-1.359807</td>\n",
       "      <td>-0.072781</td>\n",
       "      <td>2.536347</td>\n",
       "      <td>1.378155</td>\n",
       "      <td>-0.338321</td>\n",
       "      <td>0.462388</td>\n",
       "      <td>0.239599</td>\n",
       "      <td>0.098698</td>\n",
       "      <td>0.363787</td>\n",
       "      <td>...</td>\n",
       "      <td>-0.018307</td>\n",
       "      <td>0.277838</td>\n",
       "      <td>-0.110474</td>\n",
       "      <td>0.066928</td>\n",
       "      <td>0.128539</td>\n",
       "      <td>-0.189115</td>\n",
       "      <td>0.133558</td>\n",
       "      <td>-0.021053</td>\n",
       "      <td>149.62</td>\n",
       "      <td>0</td>\n",
       "    </tr>\n",
       "    <tr>\n",
       "      <th>1</th>\n",
       "      <td>0.0</td>\n",
       "      <td>1.191857</td>\n",
       "      <td>0.266151</td>\n",
       "      <td>0.166480</td>\n",
       "      <td>0.448154</td>\n",
       "      <td>0.060018</td>\n",
       "      <td>-0.082361</td>\n",
       "      <td>-0.078803</td>\n",
       "      <td>0.085102</td>\n",
       "      <td>-0.255425</td>\n",
       "      <td>...</td>\n",
       "      <td>-0.225775</td>\n",
       "      <td>-0.638672</td>\n",
       "      <td>0.101288</td>\n",
       "      <td>-0.339846</td>\n",
       "      <td>0.167170</td>\n",
       "      <td>0.125895</td>\n",
       "      <td>-0.008983</td>\n",
       "      <td>0.014724</td>\n",
       "      <td>2.69</td>\n",
       "      <td>0</td>\n",
       "    </tr>\n",
       "    <tr>\n",
       "      <th>2</th>\n",
       "      <td>1.0</td>\n",
       "      <td>-1.358354</td>\n",
       "      <td>-1.340163</td>\n",
       "      <td>1.773209</td>\n",
       "      <td>0.379780</td>\n",
       "      <td>-0.503198</td>\n",
       "      <td>1.800499</td>\n",
       "      <td>0.791461</td>\n",
       "      <td>0.247676</td>\n",
       "      <td>-1.514654</td>\n",
       "      <td>...</td>\n",
       "      <td>0.247998</td>\n",
       "      <td>0.771679</td>\n",
       "      <td>0.909412</td>\n",
       "      <td>-0.689281</td>\n",
       "      <td>-0.327642</td>\n",
       "      <td>-0.139097</td>\n",
       "      <td>-0.055353</td>\n",
       "      <td>-0.059752</td>\n",
       "      <td>378.66</td>\n",
       "      <td>0</td>\n",
       "    </tr>\n",
       "    <tr>\n",
       "      <th>3</th>\n",
       "      <td>1.0</td>\n",
       "      <td>-0.966272</td>\n",
       "      <td>-0.185226</td>\n",
       "      <td>1.792993</td>\n",
       "      <td>-0.863291</td>\n",
       "      <td>-0.010309</td>\n",
       "      <td>1.247203</td>\n",
       "      <td>0.237609</td>\n",
       "      <td>0.377436</td>\n",
       "      <td>-1.387024</td>\n",
       "      <td>...</td>\n",
       "      <td>-0.108300</td>\n",
       "      <td>0.005274</td>\n",
       "      <td>-0.190321</td>\n",
       "      <td>-1.175575</td>\n",
       "      <td>0.647376</td>\n",
       "      <td>-0.221929</td>\n",
       "      <td>0.062723</td>\n",
       "      <td>0.061458</td>\n",
       "      <td>123.50</td>\n",
       "      <td>0</td>\n",
       "    </tr>\n",
       "    <tr>\n",
       "      <th>4</th>\n",
       "      <td>2.0</td>\n",
       "      <td>-1.158233</td>\n",
       "      <td>0.877737</td>\n",
       "      <td>1.548718</td>\n",
       "      <td>0.403034</td>\n",
       "      <td>-0.407193</td>\n",
       "      <td>0.095921</td>\n",
       "      <td>0.592941</td>\n",
       "      <td>-0.270533</td>\n",
       "      <td>0.817739</td>\n",
       "      <td>...</td>\n",
       "      <td>-0.009431</td>\n",
       "      <td>0.798278</td>\n",
       "      <td>-0.137458</td>\n",
       "      <td>0.141267</td>\n",
       "      <td>-0.206010</td>\n",
       "      <td>0.502292</td>\n",
       "      <td>0.219422</td>\n",
       "      <td>0.215153</td>\n",
       "      <td>69.99</td>\n",
       "      <td>0</td>\n",
       "    </tr>\n",
       "  </tbody>\n",
       "</table>\n",
       "<p>5 rows × 31 columns</p>\n",
       "</div>"
      ],
      "text/plain": [
       "   Time        V1        V2        V3        V4        V5        V6        V7  \\\n",
       "0   0.0 -1.359807 -0.072781  2.536347  1.378155 -0.338321  0.462388  0.239599   \n",
       "1   0.0  1.191857  0.266151  0.166480  0.448154  0.060018 -0.082361 -0.078803   \n",
       "2   1.0 -1.358354 -1.340163  1.773209  0.379780 -0.503198  1.800499  0.791461   \n",
       "3   1.0 -0.966272 -0.185226  1.792993 -0.863291 -0.010309  1.247203  0.237609   \n",
       "4   2.0 -1.158233  0.877737  1.548718  0.403034 -0.407193  0.095921  0.592941   \n",
       "\n",
       "         V8        V9  ...       V21       V22       V23       V24       V25  \\\n",
       "0  0.098698  0.363787  ... -0.018307  0.277838 -0.110474  0.066928  0.128539   \n",
       "1  0.085102 -0.255425  ... -0.225775 -0.638672  0.101288 -0.339846  0.167170   \n",
       "2  0.247676 -1.514654  ...  0.247998  0.771679  0.909412 -0.689281 -0.327642   \n",
       "3  0.377436 -1.387024  ... -0.108300  0.005274 -0.190321 -1.175575  0.647376   \n",
       "4 -0.270533  0.817739  ... -0.009431  0.798278 -0.137458  0.141267 -0.206010   \n",
       "\n",
       "        V26       V27       V28  Amount  Class  \n",
       "0 -0.189115  0.133558 -0.021053  149.62      0  \n",
       "1  0.125895 -0.008983  0.014724    2.69      0  \n",
       "2 -0.139097 -0.055353 -0.059752  378.66      0  \n",
       "3 -0.221929  0.062723  0.061458  123.50      0  \n",
       "4  0.502292  0.219422  0.215153   69.99      0  \n",
       "\n",
       "[5 rows x 31 columns]"
      ]
     },
     "execution_count": 2,
     "metadata": {},
     "output_type": "execute_result"
    }
   ],
   "source": [
    "# loading in the dataset\n",
    "df = pd.read_csv('../input/creditcardfraud/creditcard.csv')\n",
    "print(df.shape)\n",
    "df.head()"
   ]
  },
  {
   "cell_type": "code",
   "execution_count": 3,
   "metadata": {
    "execution": {
     "iopub.execute_input": "2020-12-05T14:43:07.063127Z",
     "iopub.status.busy": "2020-12-05T14:43:07.062268Z",
     "iopub.status.idle": "2020-12-05T14:43:07.067872Z",
     "shell.execute_reply": "2020-12-05T14:43:07.068418Z"
    },
    "papermill": {
     "duration": 0.064309,
     "end_time": "2020-12-05T14:43:07.068576",
     "exception": false,
     "start_time": "2020-12-05T14:43:07.004267",
     "status": "completed"
    },
    "tags": []
   },
   "outputs": [
    {
     "name": "stdout",
     "output_type": "stream",
     "text": [
      "['V1', 'V2', 'V3', 'V4', 'V5', 'V6', 'V7', 'V8', 'V9', 'V10', 'V11', 'V12', 'V13', 'V14', 'V15', 'V16', 'V17', 'V18', 'V19', 'V20', 'V21', 'V22', 'V23', 'V24', 'V26', 'V27', 'V28']\n"
     ]
    }
   ],
   "source": [
    "# 27 most important features according to our EDA\n",
    "cols = ['V'+str(i) for i in range(1, 29) if i != 25]\n",
    "print(cols)"
   ]
  },
  {
   "cell_type": "code",
   "execution_count": 4,
   "metadata": {
    "execution": {
     "iopub.execute_input": "2020-12-05T14:43:07.204105Z",
     "iopub.status.busy": "2020-12-05T14:43:07.202921Z",
     "iopub.status.idle": "2020-12-05T14:43:07.205763Z",
     "shell.execute_reply": "2020-12-05T14:43:07.206264Z"
    },
    "papermill": {
     "duration": 0.083735,
     "end_time": "2020-12-05T14:43:07.206428",
     "exception": false,
     "start_time": "2020-12-05T14:43:07.122693",
     "status": "completed"
    },
    "tags": []
   },
   "outputs": [],
   "source": [
    "# selecting the 19 most important features according to our EDA \n",
    "X = df[cols]\n",
    "\n",
    "y = df['Class'] # selecting the target variable"
   ]
  },
  {
   "cell_type": "code",
   "execution_count": 5,
   "metadata": {
    "execution": {
     "iopub.execute_input": "2020-12-05T14:43:07.319365Z",
     "iopub.status.busy": "2020-12-05T14:43:07.318337Z",
     "iopub.status.idle": "2020-12-05T14:43:07.353768Z",
     "shell.execute_reply": "2020-12-05T14:43:07.353184Z"
    },
    "papermill": {
     "duration": 0.09392,
     "end_time": "2020-12-05T14:43:07.353892",
     "exception": false,
     "start_time": "2020-12-05T14:43:07.259972",
     "status": "completed"
    },
    "tags": []
   },
   "outputs": [
    {
     "data": {
      "text/plain": [
       "{0: 3.51722561243691e-06, 1: 0.0020325203252032522}"
      ]
     },
     "execution_count": 5,
     "metadata": {},
     "output_type": "execute_result"
    }
   ],
   "source": [
    "val_count = df['Class'].value_counts()\n",
    "weights = dict(1 / val_count) # to be used as class weights\n",
    "weights"
   ]
  },
  {
   "cell_type": "markdown",
   "metadata": {
    "papermill": {
     "duration": 0.061288,
     "end_time": "2020-12-05T14:43:07.469619",
     "exception": false,
     "start_time": "2020-12-05T14:43:07.408331",
     "status": "completed"
    },
    "tags": []
   },
   "source": [
    "### Not using classw weight performed better than using class weight for the neural network. So, we would use class weight in for our neural network. "
   ]
  },
  {
   "cell_type": "markdown",
   "metadata": {
    "papermill": {
     "duration": 0.053927,
     "end_time": "2020-12-05T14:43:07.578015",
     "exception": false,
     "start_time": "2020-12-05T14:43:07.524088",
     "status": "completed"
    },
    "tags": []
   },
   "source": [
    "## <center>Cost matrix for fraud detection</center>\n",
    "\n",
    "||Actual Positive|Actual Negative|\n",
    "|:-:|:-:|:-:|\n",
    "|**Predicted Positive**|administrative cost|administrative cost|\n",
    "|**Predicted Negative**|transactional cost|0|"
   ]
  },
  {
   "cell_type": "markdown",
   "metadata": {
    "papermill": {
     "duration": 0.053503,
     "end_time": "2020-12-05T14:43:07.685896",
     "exception": false,
     "start_time": "2020-12-05T14:43:07.632393",
     "status": "completed"
    },
    "tags": []
   },
   "source": [
    "### *see [this article](https://towardsdatascience.com/fraud-detection-with-cost-sensitive-machine-learning-24b8760d35d9) for more about cost sensitive machine learning for fraud detection*"
   ]
  },
  {
   "cell_type": "code",
   "execution_count": 6,
   "metadata": {
    "execution": {
     "iopub.execute_input": "2020-12-05T14:43:07.798765Z",
     "iopub.status.busy": "2020-12-05T14:43:07.797681Z",
     "iopub.status.idle": "2020-12-05T14:43:07.799889Z",
     "shell.execute_reply": "2020-12-05T14:43:07.800463Z"
    },
    "papermill": {
     "duration": 0.06121,
     "end_time": "2020-12-05T14:43:07.800628",
     "exception": false,
     "start_time": "2020-12-05T14:43:07.739418",
     "status": "completed"
    },
    "tags": []
   },
   "outputs": [],
   "source": [
    "admin_cost = 2.5"
   ]
  },
  {
   "cell_type": "markdown",
   "metadata": {
    "papermill": {
     "duration": 0.054606,
     "end_time": "2020-12-05T14:43:07.910711",
     "exception": false,
     "start_time": "2020-12-05T14:43:07.856105",
     "status": "completed"
    },
    "tags": []
   },
   "source": [
    "### our choice of using 2.5euros as the administartive cost because it seems to be the best for our problem as suggested by [this paper](https://www.researchgate.net/publication/262390835_Cost_Sensitive_Credit_Card_Fraud_Detection_Using_Bayes_Minimum_Risk)"
   ]
  },
  {
   "cell_type": "markdown",
   "metadata": {
    "papermill": {
     "duration": 0.054176,
     "end_time": "2020-12-05T14:43:08.019042",
     "exception": false,
     "start_time": "2020-12-05T14:43:07.964866",
     "status": "completed"
    },
    "tags": []
   },
   "source": [
    "## Also, implementing cost sensitive models for sklearn's classifier is challenging. It is as good as creating a new model from the scratch. For simplicity, we will not penalize our model of True Positives (although, the cost matrix suggests we should penalize it for true positives). This will mean that we are only penalizing MISCLASSIFICATIONS (trying to minimize costs due to misclassification and not cost in general)."
   ]
  },
  {
   "cell_type": "code",
   "execution_count": 7,
   "metadata": {
    "execution": {
     "iopub.execute_input": "2020-12-05T14:43:08.132872Z",
     "iopub.status.busy": "2020-12-05T14:43:08.132143Z",
     "iopub.status.idle": "2020-12-05T14:43:08.136634Z",
     "shell.execute_reply": "2020-12-05T14:43:08.136088Z"
    },
    "papermill": {
     "duration": 0.063356,
     "end_time": "2020-12-05T14:43:08.136755",
     "exception": false,
     "start_time": "2020-12-05T14:43:08.073399",
     "status": "completed"
    },
    "tags": []
   },
   "outputs": [],
   "source": [
    "cv = StratifiedKFold(n_splits=4, shuffle=True, random_state=1)"
   ]
  },
  {
   "cell_type": "code",
   "execution_count": 8,
   "metadata": {
    "execution": {
     "iopub.execute_input": "2020-12-05T14:43:08.255660Z",
     "iopub.status.busy": "2020-12-05T14:43:08.254627Z",
     "iopub.status.idle": "2020-12-05T14:43:08.258043Z",
     "shell.execute_reply": "2020-12-05T14:43:08.257470Z"
    },
    "papermill": {
     "duration": 0.066655,
     "end_time": "2020-12-05T14:43:08.258160",
     "exception": false,
     "start_time": "2020-12-05T14:43:08.191505",
     "status": "completed"
    },
    "tags": []
   },
   "outputs": [],
   "source": [
    "# defining a function to calculate cost savings\n",
    "def cost_saving(ytrue, ypred, amount, threshold=0.5):\n",
    "    ypred = ypred.flatten()\n",
    "    fp = np.sum((ytrue == 0) & (ypred == 1))\n",
    "    cost = np.sum(fp*admin_cost) + np.sum((amount[(ytrue == 1) & (ypred == 0)]))\n",
    "    max_cost = np.sum((amount[(ytrue == 1)]))\n",
    "    savings = 1 - (cost/max_cost)\n",
    "    \n",
    "    return savings"
   ]
  },
  {
   "cell_type": "code",
   "execution_count": 9,
   "metadata": {
    "execution": {
     "iopub.execute_input": "2020-12-05T14:43:08.373993Z",
     "iopub.status.busy": "2020-12-05T14:43:08.373237Z",
     "iopub.status.idle": "2020-12-05T14:43:08.377932Z",
     "shell.execute_reply": "2020-12-05T14:43:08.377367Z"
    },
    "papermill": {
     "duration": 0.06634,
     "end_time": "2020-12-05T14:43:08.378050",
     "exception": false,
     "start_time": "2020-12-05T14:43:08.311710",
     "status": "completed"
    },
    "tags": []
   },
   "outputs": [],
   "source": [
    "# defining a function to calculate cost saving per fold (splits) of our cv\n",
    "def cost_saving_per_split(scores, x, y, cv_object):\n",
    "    results = []\n",
    "    for i, (_, test_ind) in zip(range(cv_object.n_splits), cv_object.split(x, y)):\n",
    "        ypred = scores['estimator'][i].predict(x[test_ind])\n",
    "        ytrue = y[test_ind]\n",
    "        amount = df['Amount'].values[test_ind]\n",
    "        results.append(cost_saving(ytrue, ypred, amount))\n",
    "        \n",
    "    return results"
   ]
  },
  {
   "cell_type": "code",
   "execution_count": 10,
   "metadata": {
    "execution": {
     "iopub.execute_input": "2020-12-05T14:43:08.494103Z",
     "iopub.status.busy": "2020-12-05T14:43:08.493159Z",
     "iopub.status.idle": "2020-12-05T14:43:08.497163Z",
     "shell.execute_reply": "2020-12-05T14:43:08.496570Z"
    },
    "papermill": {
     "duration": 0.064993,
     "end_time": "2020-12-05T14:43:08.497273",
     "exception": false,
     "start_time": "2020-12-05T14:43:08.432280",
     "status": "completed"
    },
    "tags": []
   },
   "outputs": [],
   "source": [
    "# defining a function to return a dataframe of metrics results for each fold in our cv\n",
    "def get_metric_scores(scores, x, y=y, cv_object=cv):\n",
    "    ind = ['split_'+str(n) for n in range(1, cv_object.n_splits+1)]\n",
    "    \n",
    "    scores_df = pd.DataFrame(index=ind)\n",
    "    \n",
    "    scores_df['f1_score'] = scores['test_f1']\n",
    "    scores_df['auc_pr'] = scores['test_average_precision']\n",
    "    scores_df['cost_savings'] = cost_saving_per_split(scores, x, y, cv_object)\n",
    "\n",
    "    return scores_df"
   ]
  },
  {
   "cell_type": "markdown",
   "metadata": {
    "papermill": {
     "duration": 0.054584,
     "end_time": "2020-12-05T14:43:08.606707",
     "exception": false,
     "start_time": "2020-12-05T14:43:08.552123",
     "status": "completed"
    },
    "tags": []
   },
   "source": [
    "## Fraud Sensitive model (Not cost sensitive)"
   ]
  },
  {
   "cell_type": "code",
   "execution_count": 11,
   "metadata": {
    "execution": {
     "iopub.execute_input": "2020-12-05T14:43:08.722248Z",
     "iopub.status.busy": "2020-12-05T14:43:08.721109Z",
     "iopub.status.idle": "2020-12-05T14:43:09.037915Z",
     "shell.execute_reply": "2020-12-05T14:43:09.036499Z"
    },
    "papermill": {
     "duration": 0.376498,
     "end_time": "2020-12-05T14:43:09.038057",
     "exception": false,
     "start_time": "2020-12-05T14:43:08.661559",
     "status": "completed"
    },
    "tags": []
   },
   "outputs": [],
   "source": [
    "X['Amount'] = df['Amount']\n",
    "X_train, X_test, y_train, y_test = train_test_split(X, y, stratify=y, test_size=0.25, \\\n",
    "                                                    random_state=1)"
   ]
  },
  {
   "cell_type": "code",
   "execution_count": 12,
   "metadata": {
    "execution": {
     "iopub.execute_input": "2020-12-05T14:43:09.156356Z",
     "iopub.status.busy": "2020-12-05T14:43:09.154876Z",
     "iopub.status.idle": "2020-12-05T14:43:09.179263Z",
     "shell.execute_reply": "2020-12-05T14:43:09.178647Z"
    },
    "papermill": {
     "duration": 0.085251,
     "end_time": "2020-12-05T14:43:09.179391",
     "exception": false,
     "start_time": "2020-12-05T14:43:09.094140",
     "status": "completed"
    },
    "tags": []
   },
   "outputs": [],
   "source": [
    "train_amount = X_train.pop('Amount')\n",
    "test_amount = X_test.pop('Amount')"
   ]
  },
  {
   "cell_type": "markdown",
   "metadata": {
    "papermill": {
     "duration": 0.055158,
     "end_time": "2020-12-05T14:43:09.289541",
     "exception": false,
     "start_time": "2020-12-05T14:43:09.234383",
     "status": "completed"
    },
    "tags": []
   },
   "source": [
    "### we will use sample weight to penalize our model accordingly. admin cost for FP and transactional cost (amount) for FN."
   ]
  },
  {
   "cell_type": "code",
   "execution_count": 13,
   "metadata": {
    "execution": {
     "iopub.execute_input": "2020-12-05T14:43:09.408745Z",
     "iopub.status.busy": "2020-12-05T14:43:09.407704Z",
     "iopub.status.idle": "2020-12-05T14:43:09.671681Z",
     "shell.execute_reply": "2020-12-05T14:43:09.671063Z"
    },
    "papermill": {
     "duration": 0.326813,
     "end_time": "2020-12-05T14:43:09.671817",
     "exception": false,
     "start_time": "2020-12-05T14:43:09.345004",
     "status": "completed"
    },
    "tags": []
   },
   "outputs": [],
   "source": [
    "# train_sample_weights to be used for training set of cost sensitive-example dependent model to choose \n",
    "# best number of epoch\n",
    "train_sample_weights = np.array([train_amount[ind] if fraud else admin_cost for ind, fraud in \\\n",
    "                                 y_train.items()])\n",
    "\n",
    "# sample_weights to be used for cross validation of cost sensitive-example dependent model\n",
    "sample_weights = np.array([df['Amount'][ind] if fraud else admin_cost for ind, fraud in enumerate(y)])"
   ]
  },
  {
   "cell_type": "markdown",
   "metadata": {
    "papermill": {
     "duration": 0.05477,
     "end_time": "2020-12-05T14:43:09.782517",
     "exception": false,
     "start_time": "2020-12-05T14:43:09.727747",
     "status": "completed"
    },
    "tags": []
   },
   "source": [
    "### We will **fit** our scaler on only the training set and not the testing set. However, we will use it to transform both training and testing set. This is the standard and will mimic what will happen when our model has been deployed for production.  "
   ]
  },
  {
   "cell_type": "code",
   "execution_count": 14,
   "metadata": {
    "execution": {
     "iopub.execute_input": "2020-12-05T14:43:09.903884Z",
     "iopub.status.busy": "2020-12-05T14:43:09.902588Z",
     "iopub.status.idle": "2020-12-05T14:43:10.049710Z",
     "shell.execute_reply": "2020-12-05T14:43:10.049076Z"
    },
    "papermill": {
     "duration": 0.211471,
     "end_time": "2020-12-05T14:43:10.049841",
     "exception": false,
     "start_time": "2020-12-05T14:43:09.838370",
     "status": "completed"
    },
    "tags": []
   },
   "outputs": [],
   "source": [
    "scaler = StandardScaler()\n",
    "X_train = scaler.fit_transform(X_train)\n",
    "X_test = scaler.transform(X_test)"
   ]
  },
  {
   "cell_type": "markdown",
   "metadata": {
    "papermill": {
     "duration": 0.054878,
     "end_time": "2020-12-05T14:43:10.160308",
     "exception": false,
     "start_time": "2020-12-05T14:43:10.105430",
     "status": "completed"
    },
    "tags": []
   },
   "source": [
    "### confirming that our train test split was stratified."
   ]
  },
  {
   "cell_type": "code",
   "execution_count": 15,
   "metadata": {
    "execution": {
     "iopub.execute_input": "2020-12-05T14:43:10.276656Z",
     "iopub.status.busy": "2020-12-05T14:43:10.275754Z",
     "iopub.status.idle": "2020-12-05T14:43:10.288421Z",
     "shell.execute_reply": "2020-12-05T14:43:10.287888Z"
    },
    "papermill": {
     "duration": 0.073282,
     "end_time": "2020-12-05T14:43:10.288536",
     "exception": false,
     "start_time": "2020-12-05T14:43:10.215254",
     "status": "completed"
    },
    "tags": []
   },
   "outputs": [
    {
     "data": {
      "text/plain": [
       "0    577.875339\n",
       "1      1.000000\n",
       "Name: Class, dtype: float64"
      ]
     },
     "execution_count": 15,
     "metadata": {},
     "output_type": "execute_result"
    }
   ],
   "source": [
    "y_train.value_counts() / y_train.value_counts()[1]"
   ]
  },
  {
   "cell_type": "code",
   "execution_count": 16,
   "metadata": {
    "execution": {
     "iopub.execute_input": "2020-12-05T14:43:10.406906Z",
     "iopub.status.busy": "2020-12-05T14:43:10.405878Z",
     "iopub.status.idle": "2020-12-05T14:43:10.416103Z",
     "shell.execute_reply": "2020-12-05T14:43:10.415490Z"
    },
    "papermill": {
     "duration": 0.071477,
     "end_time": "2020-12-05T14:43:10.416223",
     "exception": false,
     "start_time": "2020-12-05T14:43:10.344746",
     "status": "completed"
    },
    "tags": []
   },
   "outputs": [
    {
     "data": {
      "text/plain": [
       "0    577.878049\n",
       "1      1.000000\n",
       "Name: Class, dtype: float64"
      ]
     },
     "execution_count": 16,
     "metadata": {},
     "output_type": "execute_result"
    }
   ],
   "source": [
    "y_test.value_counts() / y_test.value_counts()[1]"
   ]
  },
  {
   "cell_type": "markdown",
   "metadata": {
    "papermill": {
     "duration": 0.108186,
     "end_time": "2020-12-05T14:43:10.600151",
     "exception": false,
     "start_time": "2020-12-05T14:43:10.491965",
     "status": "completed"
    },
    "tags": []
   },
   "source": [
    "### we will be using the stateful f1score to monitor the training process due to the class imbalance."
   ]
  },
  {
   "cell_type": "code",
   "execution_count": 17,
   "metadata": {
    "execution": {
     "iopub.execute_input": "2020-12-05T14:43:11.026298Z",
     "iopub.status.busy": "2020-12-05T14:43:11.022518Z",
     "iopub.status.idle": "2020-12-05T14:43:11.037423Z",
     "shell.execute_reply": "2020-12-05T14:43:11.036465Z"
    },
    "papermill": {
     "duration": 0.211717,
     "end_time": "2020-12-05T14:43:11.037628",
     "exception": false,
     "start_time": "2020-12-05T14:43:10.825911",
     "status": "completed"
    },
    "tags": []
   },
   "outputs": [],
   "source": [
    "threshold = 0.5"
   ]
  },
  {
   "cell_type": "code",
   "execution_count": 18,
   "metadata": {
    "execution": {
     "iopub.execute_input": "2020-12-05T14:43:11.285723Z",
     "iopub.status.busy": "2020-12-05T14:43:11.284668Z",
     "iopub.status.idle": "2020-12-05T14:43:11.327338Z",
     "shell.execute_reply": "2020-12-05T14:43:11.326497Z"
    },
    "papermill": {
     "duration": 0.175605,
     "end_time": "2020-12-05T14:43:11.327505",
     "exception": false,
     "start_time": "2020-12-05T14:43:11.151900",
     "status": "completed"
    },
    "tags": []
   },
   "outputs": [],
   "source": [
    "class StatefulBinaryFBeta(Metric):\n",
    "    def __init__(self, name='stateful_binary_fbeta', beta=1, threshold=threshold, \\\n",
    "                 epsilon=1e-7, **kwargs):\n",
    "        # initializing an object of the super class\n",
    "        super(StatefulBinaryFBeta, self).__init__(name=name, **kwargs)\n",
    "\n",
    "        # initializing state variables\n",
    "        self.tp = self.add_weight(name='tp', initializer='zeros') # initializing true positives \n",
    "        \n",
    "        # initializing actual positives\n",
    "        self.actual_positive = self.add_weight(name='fp', initializer='zeros') \n",
    "        \n",
    "        # initializing predicted positives\n",
    "        self.predicted_positive = self.add_weight(name='fn', initializer='zeros') \n",
    "\n",
    "        # initializing other atrributes that wouldn't be changed for every object of this class\n",
    "        self.beta_squared = beta**2 \n",
    "        self.threshold = threshold\n",
    "        self.epsilon = epsilon\n",
    "\n",
    "    def update_state(self, ytrue, ypred, sample_weight=None):\n",
    "        # casting ytrue and ypred as float dtype\n",
    "        ytrue = tf.cast(ytrue, tf.float32)\n",
    "        ypred = tf.cast(ypred, tf.float32)\n",
    "\n",
    "        # setting values of ypred greater than the set threshold to 1 while those lesser to 0\n",
    "        ypred = tf.cast(tf.greater_equal(ypred, tf.constant(self.threshold)), tf.float32)\n",
    "        \n",
    "        self.tp.assign_add(tf.reduce_sum(ytrue*ypred)) # updating true positives \n",
    "        self.predicted_positive.assign_add(tf.reduce_sum(ypred)) # updating predicted positive \n",
    "        self.actual_positive.assign_add(tf.reduce_sum(ytrue)) # updating actual positive \n",
    "    \n",
    "    def result(self):\n",
    "        self.precision = self.tp/(self.predicted_positive+self.epsilon) # calculates precision\n",
    "        self.recall = self.tp/(self.actual_positive+self.epsilon) # calculates recall\n",
    "\n",
    "        # calculating fbeta\n",
    "        self.fb = (1+self.beta_squared)*self.precision*self.recall / (\\\n",
    "                                    self.beta_squared*self.precision + self.recall + self.epsilon)\n",
    "    \n",
    "        return self.fb\n",
    "\n",
    "    def reset_states(self):\n",
    "        self.tp.assign(0) # resets true positives to zero\n",
    "        self.predicted_positive.assign(0) # resets predicted positives to zero\n",
    "        self.actual_positive.assign(0) # resets actual positives to zero"
   ]
  },
  {
   "cell_type": "code",
   "execution_count": 19,
   "metadata": {
    "execution": {
     "iopub.execute_input": "2020-12-05T14:43:11.668510Z",
     "iopub.status.busy": "2020-12-05T14:43:11.667392Z",
     "iopub.status.idle": "2020-12-05T14:43:11.672482Z",
     "shell.execute_reply": "2020-12-05T14:43:11.671863Z"
    },
    "papermill": {
     "duration": 0.158461,
     "end_time": "2020-12-05T14:43:11.672614",
     "exception": false,
     "start_time": "2020-12-05T14:43:11.514153",
     "status": "completed"
    },
    "tags": []
   },
   "outputs": [],
   "source": [
    "stopper = EarlyStopping(monitor='val_stateful_binary_fbeta', patience=10, mode='max',\n",
    "    restore_best_weights=True)"
   ]
  },
  {
   "cell_type": "markdown",
   "metadata": {
    "papermill": {
     "duration": 0.073837,
     "end_time": "2020-12-05T14:43:11.831295",
     "exception": false,
     "start_time": "2020-12-05T14:43:11.757458",
     "status": "completed"
    },
    "tags": []
   },
   "source": [
    "### we will initialize the output bias to reduce the number of epochs required to reach the best result. The value is obtained by the formula: $$b_{0} = log(pos/neg)$$\n",
    "### See more about initial bias [here](http://karpathy.github.io/2019/04/25/recipe/#2-set-up-the-end-to-end-trainingevaluation-skeleton--get-dumb-baselines) on how to *initialize well*."
   ]
  },
  {
   "cell_type": "code",
   "execution_count": 20,
   "metadata": {
    "execution": {
     "iopub.execute_input": "2020-12-05T14:43:11.991530Z",
     "iopub.status.busy": "2020-12-05T14:43:11.990434Z",
     "iopub.status.idle": "2020-12-05T14:43:12.001657Z",
     "shell.execute_reply": "2020-12-05T14:43:12.002672Z"
    },
    "papermill": {
     "duration": 0.081619,
     "end_time": "2020-12-05T14:43:12.002864",
     "exception": false,
     "start_time": "2020-12-05T14:43:11.921245",
     "status": "completed"
    },
    "tags": []
   },
   "outputs": [
    {
     "name": "stdout",
     "output_type": "stream",
     "text": [
      "negative class is 284315 in number, while positive is 492\n"
     ]
    },
    {
     "data": {
      "text/plain": [
       "array([-6.35935934])"
      ]
     },
     "execution_count": 20,
     "metadata": {},
     "output_type": "execute_result"
    }
   ],
   "source": [
    "neg, pos = np.bincount(y)\n",
    "print('negative class is {} in number, while positive is {}'.format(neg, pos))\n",
    "initial_bias = np.log([pos/neg])\n",
    "initial_bias"
   ]
  },
  {
   "cell_type": "code",
   "execution_count": 21,
   "metadata": {
    "execution": {
     "iopub.execute_input": "2020-12-05T14:43:12.167126Z",
     "iopub.status.busy": "2020-12-05T14:43:12.166190Z",
     "iopub.status.idle": "2020-12-05T14:43:12.171704Z",
     "shell.execute_reply": "2020-12-05T14:43:12.172854Z"
    },
    "papermill": {
     "duration": 0.094407,
     "end_time": "2020-12-05T14:43:12.173042",
     "exception": false,
     "start_time": "2020-12-05T14:43:12.078635",
     "status": "completed"
    },
    "tags": []
   },
   "outputs": [],
   "source": [
    "def build_model():\n",
    "    model = Sequential()\n",
    "\n",
    "    model.add(Dense(16, kernel_initializer='uniform', activation='relu'))\n",
    "    \n",
    "    model.add(Dropout(0.2))\n",
    "    \n",
    "    output_bias = tf.keras.initializers.Constant(initial_bias) \n",
    "    \n",
    "    model.add(Dense(1, activation='sigmoid', bias_initializer=output_bias))\n",
    "    \n",
    "    binary_fbeta = StatefulBinaryFBeta()\n",
    "    \n",
    "    # compling model\n",
    "    model.compile(loss='binary_crossentropy', metrics=[binary_fbeta], optimizer='adam')\n",
    "    \n",
    "    return model"
   ]
  },
  {
   "cell_type": "code",
   "execution_count": 22,
   "metadata": {
    "execution": {
     "iopub.execute_input": "2020-12-05T14:43:12.373064Z",
     "iopub.status.busy": "2020-12-05T14:43:12.371964Z",
     "iopub.status.idle": "2020-12-05T14:43:12.729702Z",
     "shell.execute_reply": "2020-12-05T14:43:12.730867Z"
    },
    "papermill": {
     "duration": 0.479331,
     "end_time": "2020-12-05T14:43:12.731066",
     "exception": false,
     "start_time": "2020-12-05T14:43:12.251735",
     "status": "completed"
    },
    "tags": []
   },
   "outputs": [
    {
     "data": {
      "text/html": [
       "<div>\n",
       "<style scoped>\n",
       "    .dataframe tbody tr th:only-of-type {\n",
       "        vertical-align: middle;\n",
       "    }\n",
       "\n",
       "    .dataframe tbody tr th {\n",
       "        vertical-align: top;\n",
       "    }\n",
       "\n",
       "    .dataframe thead th {\n",
       "        text-align: right;\n",
       "    }\n",
       "</style>\n",
       "<table border=\"1\" class=\"dataframe\">\n",
       "  <thead>\n",
       "    <tr style=\"text-align: right;\">\n",
       "      <th></th>\n",
       "      <th>0</th>\n",
       "      <th>1</th>\n",
       "      <th>2</th>\n",
       "      <th>3</th>\n",
       "      <th>4</th>\n",
       "      <th>5</th>\n",
       "      <th>6</th>\n",
       "      <th>7</th>\n",
       "      <th>8</th>\n",
       "      <th>9</th>\n",
       "      <th>...</th>\n",
       "      <th>17</th>\n",
       "      <th>18</th>\n",
       "      <th>19</th>\n",
       "      <th>20</th>\n",
       "      <th>21</th>\n",
       "      <th>22</th>\n",
       "      <th>23</th>\n",
       "      <th>24</th>\n",
       "      <th>25</th>\n",
       "      <th>26</th>\n",
       "    </tr>\n",
       "  </thead>\n",
       "  <tbody>\n",
       "    <tr>\n",
       "      <th>count</th>\n",
       "      <td>2.136050e+05</td>\n",
       "      <td>2.136050e+05</td>\n",
       "      <td>2.136050e+05</td>\n",
       "      <td>2.136050e+05</td>\n",
       "      <td>2.136050e+05</td>\n",
       "      <td>2.136050e+05</td>\n",
       "      <td>2.136050e+05</td>\n",
       "      <td>2.136050e+05</td>\n",
       "      <td>2.136050e+05</td>\n",
       "      <td>2.136050e+05</td>\n",
       "      <td>...</td>\n",
       "      <td>2.136050e+05</td>\n",
       "      <td>2.136050e+05</td>\n",
       "      <td>2.136050e+05</td>\n",
       "      <td>2.136050e+05</td>\n",
       "      <td>2.136050e+05</td>\n",
       "      <td>2.136050e+05</td>\n",
       "      <td>2.136050e+05</td>\n",
       "      <td>2.136050e+05</td>\n",
       "      <td>2.136050e+05</td>\n",
       "      <td>2.136050e+05</td>\n",
       "    </tr>\n",
       "    <tr>\n",
       "      <th>mean</th>\n",
       "      <td>-5.940957e-17</td>\n",
       "      <td>3.308696e-18</td>\n",
       "      <td>6.897645e-17</td>\n",
       "      <td>1.529951e-17</td>\n",
       "      <td>3.043342e-17</td>\n",
       "      <td>-1.889232e-17</td>\n",
       "      <td>-8.010986e-18</td>\n",
       "      <td>1.612683e-17</td>\n",
       "      <td>-3.156265e-17</td>\n",
       "      <td>8.410808e-18</td>\n",
       "      <td>...</td>\n",
       "      <td>-9.054135e-19</td>\n",
       "      <td>-5.238612e-18</td>\n",
       "      <td>-2.113350e-17</td>\n",
       "      <td>2.396591e-17</td>\n",
       "      <td>1.661657e-17</td>\n",
       "      <td>1.572363e-17</td>\n",
       "      <td>-1.202713e-17</td>\n",
       "      <td>-1.088575e-17</td>\n",
       "      <td>2.766176e-17</td>\n",
       "      <td>6.428637e-17</td>\n",
       "    </tr>\n",
       "    <tr>\n",
       "      <th>std</th>\n",
       "      <td>1.000002e+00</td>\n",
       "      <td>1.000002e+00</td>\n",
       "      <td>1.000002e+00</td>\n",
       "      <td>1.000002e+00</td>\n",
       "      <td>1.000002e+00</td>\n",
       "      <td>1.000002e+00</td>\n",
       "      <td>1.000002e+00</td>\n",
       "      <td>1.000002e+00</td>\n",
       "      <td>1.000002e+00</td>\n",
       "      <td>1.000002e+00</td>\n",
       "      <td>...</td>\n",
       "      <td>1.000002e+00</td>\n",
       "      <td>1.000002e+00</td>\n",
       "      <td>1.000002e+00</td>\n",
       "      <td>1.000002e+00</td>\n",
       "      <td>1.000002e+00</td>\n",
       "      <td>1.000002e+00</td>\n",
       "      <td>1.000002e+00</td>\n",
       "      <td>1.000002e+00</td>\n",
       "      <td>1.000002e+00</td>\n",
       "      <td>1.000002e+00</td>\n",
       "    </tr>\n",
       "    <tr>\n",
       "      <th>min</th>\n",
       "      <td>-2.894088e+01</td>\n",
       "      <td>-4.456820e+01</td>\n",
       "      <td>-3.193523e+01</td>\n",
       "      <td>-4.014707e+00</td>\n",
       "      <td>-8.223626e+01</td>\n",
       "      <td>-1.960776e+01</td>\n",
       "      <td>-3.506962e+01</td>\n",
       "      <td>-6.075432e+01</td>\n",
       "      <td>-1.225143e+01</td>\n",
       "      <td>-2.270814e+01</td>\n",
       "      <td>...</td>\n",
       "      <td>-1.114273e+01</td>\n",
       "      <td>-8.850321e+00</td>\n",
       "      <td>-7.157312e+01</td>\n",
       "      <td>-4.736572e+01</td>\n",
       "      <td>-1.507635e+01</td>\n",
       "      <td>-5.929492e+01</td>\n",
       "      <td>-4.681387e+00</td>\n",
       "      <td>-5.257815e+00</td>\n",
       "      <td>-5.589815e+01</td>\n",
       "      <td>-4.679943e+01</td>\n",
       "    </tr>\n",
       "    <tr>\n",
       "      <th>25%</th>\n",
       "      <td>-4.733905e-01</td>\n",
       "      <td>-3.681522e-01</td>\n",
       "      <td>-5.882749e-01</td>\n",
       "      <td>-5.987030e-01</td>\n",
       "      <td>-4.994077e-01</td>\n",
       "      <td>-5.759849e-01</td>\n",
       "      <td>-4.468419e-01</td>\n",
       "      <td>-1.724718e-01</td>\n",
       "      <td>-5.861799e-01</td>\n",
       "      <td>-4.937656e-01</td>\n",
       "      <td>...</td>\n",
       "      <td>-5.956755e-01</td>\n",
       "      <td>-5.603550e-01</td>\n",
       "      <td>-2.776918e-01</td>\n",
       "      <td>-3.095466e-01</td>\n",
       "      <td>-7.473996e-01</td>\n",
       "      <td>-2.634583e-01</td>\n",
       "      <td>-5.840125e-01</td>\n",
       "      <td>-6.787620e-01</td>\n",
       "      <td>-1.751815e-01</td>\n",
       "      <td>-1.606299e-01</td>\n",
       "    </tr>\n",
       "    <tr>\n",
       "      <th>50%</th>\n",
       "      <td>8.788754e-03</td>\n",
       "      <td>3.926317e-02</td>\n",
       "      <td>1.176945e-01</td>\n",
       "      <td>-1.491895e-02</td>\n",
       "      <td>-3.816713e-02</td>\n",
       "      <td>-2.054283e-01</td>\n",
       "      <td>3.156398e-02</td>\n",
       "      <td>1.888879e-02</td>\n",
       "      <td>-4.746015e-02</td>\n",
       "      <td>-8.456047e-02</td>\n",
       "      <td>...</td>\n",
       "      <td>-4.188847e-03</td>\n",
       "      <td>4.986193e-03</td>\n",
       "      <td>-8.184843e-02</td>\n",
       "      <td>-3.955578e-02</td>\n",
       "      <td>8.856053e-03</td>\n",
       "      <td>-1.960514e-02</td>\n",
       "      <td>6.810582e-02</td>\n",
       "      <td>-1.083539e-01</td>\n",
       "      <td>3.687607e-03</td>\n",
       "      <td>3.438213e-02</td>\n",
       "    </tr>\n",
       "    <tr>\n",
       "      <th>75%</th>\n",
       "      <td>6.738880e-01</td>\n",
       "      <td>4.913846e-01</td>\n",
       "      <td>6.773872e-01</td>\n",
       "      <td>5.247305e-01</td>\n",
       "      <td>4.434481e-01</td>\n",
       "      <td>2.984683e-01</td>\n",
       "      <td>4.577876e-01</td>\n",
       "      <td>2.719350e-01</td>\n",
       "      <td>5.433963e-01</td>\n",
       "      <td>4.211409e-01</td>\n",
       "      <td>...</td>\n",
       "      <td>5.963905e-01</td>\n",
       "      <td>5.636453e-01</td>\n",
       "      <td>1.749705e-01</td>\n",
       "      <td>2.535179e-01</td>\n",
       "      <td>7.285323e-01</td>\n",
       "      <td>2.373485e-01</td>\n",
       "      <td>7.244469e-01</td>\n",
       "      <td>4.999686e-01</td>\n",
       "      <td>2.257340e-01</td>\n",
       "      <td>2.377424e-01</td>\n",
       "    </tr>\n",
       "    <tr>\n",
       "      <th>max</th>\n",
       "      <td>1.257145e+00</td>\n",
       "      <td>1.351940e+01</td>\n",
       "      <td>6.198642e+00</td>\n",
       "      <td>1.179914e+01</td>\n",
       "      <td>2.516451e+01</td>\n",
       "      <td>5.493438e+01</td>\n",
       "      <td>9.709075e+01</td>\n",
       "      <td>1.660173e+01</td>\n",
       "      <td>1.422236e+01</td>\n",
       "      <td>2.192944e+01</td>\n",
       "      <td>...</td>\n",
       "      <td>6.015147e+00</td>\n",
       "      <td>6.861089e+00</td>\n",
       "      <td>5.177360e+01</td>\n",
       "      <td>3.699255e+01</td>\n",
       "      <td>1.447872e+01</td>\n",
       "      <td>3.571100e+01</td>\n",
       "      <td>7.568174e+00</td>\n",
       "      <td>7.299527e+00</td>\n",
       "      <td>7.830721e+01</td>\n",
       "      <td>1.026601e+02</td>\n",
       "    </tr>\n",
       "  </tbody>\n",
       "</table>\n",
       "<p>8 rows × 27 columns</p>\n",
       "</div>"
      ],
      "text/plain": [
       "                 0             1             2             3             4   \\\n",
       "count  2.136050e+05  2.136050e+05  2.136050e+05  2.136050e+05  2.136050e+05   \n",
       "mean  -5.940957e-17  3.308696e-18  6.897645e-17  1.529951e-17  3.043342e-17   \n",
       "std    1.000002e+00  1.000002e+00  1.000002e+00  1.000002e+00  1.000002e+00   \n",
       "min   -2.894088e+01 -4.456820e+01 -3.193523e+01 -4.014707e+00 -8.223626e+01   \n",
       "25%   -4.733905e-01 -3.681522e-01 -5.882749e-01 -5.987030e-01 -4.994077e-01   \n",
       "50%    8.788754e-03  3.926317e-02  1.176945e-01 -1.491895e-02 -3.816713e-02   \n",
       "75%    6.738880e-01  4.913846e-01  6.773872e-01  5.247305e-01  4.434481e-01   \n",
       "max    1.257145e+00  1.351940e+01  6.198642e+00  1.179914e+01  2.516451e+01   \n",
       "\n",
       "                 5             6             7             8             9   \\\n",
       "count  2.136050e+05  2.136050e+05  2.136050e+05  2.136050e+05  2.136050e+05   \n",
       "mean  -1.889232e-17 -8.010986e-18  1.612683e-17 -3.156265e-17  8.410808e-18   \n",
       "std    1.000002e+00  1.000002e+00  1.000002e+00  1.000002e+00  1.000002e+00   \n",
       "min   -1.960776e+01 -3.506962e+01 -6.075432e+01 -1.225143e+01 -2.270814e+01   \n",
       "25%   -5.759849e-01 -4.468419e-01 -1.724718e-01 -5.861799e-01 -4.937656e-01   \n",
       "50%   -2.054283e-01  3.156398e-02  1.888879e-02 -4.746015e-02 -8.456047e-02   \n",
       "75%    2.984683e-01  4.577876e-01  2.719350e-01  5.433963e-01  4.211409e-01   \n",
       "max    5.493438e+01  9.709075e+01  1.660173e+01  1.422236e+01  2.192944e+01   \n",
       "\n",
       "       ...            17            18            19            20  \\\n",
       "count  ...  2.136050e+05  2.136050e+05  2.136050e+05  2.136050e+05   \n",
       "mean   ... -9.054135e-19 -5.238612e-18 -2.113350e-17  2.396591e-17   \n",
       "std    ...  1.000002e+00  1.000002e+00  1.000002e+00  1.000002e+00   \n",
       "min    ... -1.114273e+01 -8.850321e+00 -7.157312e+01 -4.736572e+01   \n",
       "25%    ... -5.956755e-01 -5.603550e-01 -2.776918e-01 -3.095466e-01   \n",
       "50%    ... -4.188847e-03  4.986193e-03 -8.184843e-02 -3.955578e-02   \n",
       "75%    ...  5.963905e-01  5.636453e-01  1.749705e-01  2.535179e-01   \n",
       "max    ...  6.015147e+00  6.861089e+00  5.177360e+01  3.699255e+01   \n",
       "\n",
       "                 21            22            23            24            25  \\\n",
       "count  2.136050e+05  2.136050e+05  2.136050e+05  2.136050e+05  2.136050e+05   \n",
       "mean   1.661657e-17  1.572363e-17 -1.202713e-17 -1.088575e-17  2.766176e-17   \n",
       "std    1.000002e+00  1.000002e+00  1.000002e+00  1.000002e+00  1.000002e+00   \n",
       "min   -1.507635e+01 -5.929492e+01 -4.681387e+00 -5.257815e+00 -5.589815e+01   \n",
       "25%   -7.473996e-01 -2.634583e-01 -5.840125e-01 -6.787620e-01 -1.751815e-01   \n",
       "50%    8.856053e-03 -1.960514e-02  6.810582e-02 -1.083539e-01  3.687607e-03   \n",
       "75%    7.285323e-01  2.373485e-01  7.244469e-01  4.999686e-01  2.257340e-01   \n",
       "max    1.447872e+01  3.571100e+01  7.568174e+00  7.299527e+00  7.830721e+01   \n",
       "\n",
       "                 26  \n",
       "count  2.136050e+05  \n",
       "mean   6.428637e-17  \n",
       "std    1.000002e+00  \n",
       "min   -4.679943e+01  \n",
       "25%   -1.606299e-01  \n",
       "50%    3.438213e-02  \n",
       "75%    2.377424e-01  \n",
       "max    1.026601e+02  \n",
       "\n",
       "[8 rows x 27 columns]"
      ]
     },
     "execution_count": 22,
     "metadata": {},
     "output_type": "execute_result"
    }
   ],
   "source": [
    "pd.DataFrame(X_train).describe() # checking summary statistics of the training set"
   ]
  },
  {
   "cell_type": "markdown",
   "metadata": {
    "papermill": {
     "duration": 0.087961,
     "end_time": "2020-12-05T14:43:12.907118",
     "exception": false,
     "start_time": "2020-12-05T14:43:12.819157",
     "status": "completed"
    },
    "tags": []
   },
   "source": [
    "### There seems to be outliers in the features. We will clip the outliers. We will arbitrarily define outliers as observations outside of 1st and 99th percentile. "
   ]
  },
  {
   "cell_type": "code",
   "execution_count": 23,
   "metadata": {
    "execution": {
     "iopub.execute_input": "2020-12-05T14:43:13.090810Z",
     "iopub.status.busy": "2020-12-05T14:43:13.089888Z",
     "iopub.status.idle": "2020-12-05T14:43:13.307585Z",
     "shell.execute_reply": "2020-12-05T14:43:13.308810Z"
    },
    "papermill": {
     "duration": 0.317659,
     "end_time": "2020-12-05T14:43:13.308999",
     "exception": false,
     "start_time": "2020-12-05T14:43:12.991340",
     "status": "completed"
    },
    "tags": []
   },
   "outputs": [
    {
     "name": "stdout",
     "output_type": "stream",
     "text": [
      "[-3.35598442 -3.04460642 -2.62121913 -2.20963993 -2.21329592 -1.59186443\n",
      " -2.4109432  -3.34728305 -2.23750133 -1.93404082 -2.05630581 -3.06949683\n",
      " -2.29228219 -2.92859939 -2.603519   -2.71920018 -1.5947911  -2.56010235\n",
      " -2.55195133 -2.05767956 -1.99254328 -2.2846169  -1.92864716 -2.73646004\n",
      " -2.09039498 -3.08719829 -2.64782724]\n"
     ]
    }
   ],
   "source": [
    "a = np.percentile(X_train, 1, axis=0) # gets the first percentile for each feature\n",
    "print(a)"
   ]
  },
  {
   "cell_type": "code",
   "execution_count": 24,
   "metadata": {
    "execution": {
     "iopub.execute_input": "2020-12-05T14:43:13.455695Z",
     "iopub.status.busy": "2020-12-05T14:43:13.454531Z",
     "iopub.status.idle": "2020-12-05T14:43:13.625162Z",
     "shell.execute_reply": "2020-12-05T14:43:13.625753Z"
    },
    "papermill": {
     "duration": 0.239153,
     "end_time": "2020-12-05T14:43:13.625900",
     "exception": false,
     "start_time": "2020-12-05T14:43:13.386747",
     "status": "completed"
    },
    "tags": []
   },
   "outputs": [
    {
     "name": "stdout",
     "output_type": "stream",
     "text": [
      "[1.14628284 2.32478379 1.80515679 3.00697944 2.46673385 3.14627676\n",
      " 2.18638956 1.72372554 2.7168256  2.97689188 2.24576384 1.70334366\n",
      " 2.52683632 2.24922413 2.1011149  2.14034939 2.72789116 2.46887937\n",
      " 2.7897677  3.17114874 2.59954424 2.1093771  2.45618108 1.75797563\n",
      " 2.40431567 2.29949433 1.62894844]\n"
     ]
    }
   ],
   "source": [
    "b = np.percentile(X_train, 99, axis=0) # gets the 99th percentile for each feature\n",
    "print(b)"
   ]
  },
  {
   "cell_type": "code",
   "execution_count": 25,
   "metadata": {
    "execution": {
     "iopub.execute_input": "2020-12-05T14:43:13.751046Z",
     "iopub.status.busy": "2020-12-05T14:43:13.749936Z",
     "iopub.status.idle": "2020-12-05T14:43:13.780567Z",
     "shell.execute_reply": "2020-12-05T14:43:13.779969Z"
    },
    "papermill": {
     "duration": 0.094265,
     "end_time": "2020-12-05T14:43:13.780722",
     "exception": false,
     "start_time": "2020-12-05T14:43:13.686457",
     "status": "completed"
    },
    "tags": []
   },
   "outputs": [],
   "source": [
    "# clipping\n",
    "X_train = np.clip(X_train, a, b)\n",
    "X_test = np.clip(X_test, a, b)"
   ]
  },
  {
   "cell_type": "code",
   "execution_count": 26,
   "metadata": {
    "execution": {
     "iopub.execute_input": "2020-12-05T14:43:13.908466Z",
     "iopub.status.busy": "2020-12-05T14:43:13.907459Z",
     "iopub.status.idle": "2020-12-05T14:43:13.922132Z",
     "shell.execute_reply": "2020-12-05T14:43:13.921528Z"
    },
    "papermill": {
     "duration": 0.080229,
     "end_time": "2020-12-05T14:43:13.922247",
     "exception": false,
     "start_time": "2020-12-05T14:43:13.842018",
     "status": "completed"
    },
    "tags": []
   },
   "outputs": [
    {
     "name": "stdout",
     "output_type": "stream",
     "text": [
      "[-3.35598442 -3.04460642 -2.62121913 -2.20963993 -2.21329592 -1.59186443\n",
      " -2.4109432  -3.34728305 -2.23750133 -1.93404082 -2.05630581 -3.06949683\n",
      " -2.29228219 -2.92859939 -2.603519   -2.71920018 -1.5947911  -2.56010235\n",
      " -2.55195133 -2.05767956 -1.99254328 -2.2846169  -1.92864716 -2.73646004\n",
      " -2.09039498 -3.08719829 -2.64782724]\n",
      "\n",
      "[1.14628284 2.32478379 1.80515679 3.00697944 2.46673385 3.14627676\n",
      " 2.18638956 1.72372554 2.7168256  2.97689188 2.24576384 1.70334366\n",
      " 2.52683632 2.24922413 2.1011149  2.14034939 2.72789116 2.46887937\n",
      " 2.7897677  3.17114874 2.59954424 2.1093771  2.45618108 1.75797563\n",
      " 2.40431567 2.29949433 1.62894844]\n"
     ]
    }
   ],
   "source": [
    "print(X_train.min(axis=0)) # confirming the new minimum values are now the 1st percentile\n",
    "print()\n",
    "print(X_train.max(axis=0)) # confirming the new maximum values are now the 99th percentile"
   ]
  },
  {
   "cell_type": "markdown",
   "metadata": {
    "papermill": {
     "duration": 0.061428,
     "end_time": "2020-12-05T14:43:14.045787",
     "exception": false,
     "start_time": "2020-12-05T14:43:13.984359",
     "status": "completed"
    },
    "tags": []
   },
   "source": [
    "### The arrays above are same as 1st and 99th percentile respectively."
   ]
  },
  {
   "cell_type": "markdown",
   "metadata": {
    "papermill": {
     "duration": 0.061808,
     "end_time": "2020-12-05T14:43:14.169686",
     "exception": false,
     "start_time": "2020-12-05T14:43:14.107878",
     "status": "completed"
    },
    "tags": []
   },
   "source": [
    "### Now, we will use train test split to get the best number of epochs "
   ]
  },
  {
   "cell_type": "code",
   "execution_count": 27,
   "metadata": {
    "execution": {
     "iopub.execute_input": "2020-12-05T14:43:14.301277Z",
     "iopub.status.busy": "2020-12-05T14:43:14.300491Z",
     "iopub.status.idle": "2020-12-05T14:43:39.000928Z",
     "shell.execute_reply": "2020-12-05T14:43:39.000205Z"
    },
    "papermill": {
     "duration": 24.769592,
     "end_time": "2020-12-05T14:43:39.001064",
     "exception": false,
     "start_time": "2020-12-05T14:43:14.231472",
     "status": "completed"
    },
    "tags": []
   },
   "outputs": [
    {
     "name": "stdout",
     "output_type": "stream",
     "text": [
      "Epoch 1/30\n",
      "418/418 [==============================] - 2s 4ms/step - loss: 0.0060 - stateful_binary_fbeta: 0.5663 - val_loss: 0.0026 - val_stateful_binary_fbeta: 0.8692\n",
      "Epoch 2/30\n",
      "418/418 [==============================] - 2s 4ms/step - loss: 0.0037 - stateful_binary_fbeta: 0.7447 - val_loss: 0.0023 - val_stateful_binary_fbeta: 0.8776\n",
      "Epoch 3/30\n",
      "418/418 [==============================] - 1s 3ms/step - loss: 0.0035 - stateful_binary_fbeta: 0.7470 - val_loss: 0.0022 - val_stateful_binary_fbeta: 0.8833\n",
      "Epoch 4/30\n",
      "418/418 [==============================] - 1s 3ms/step - loss: 0.0034 - stateful_binary_fbeta: 0.7669 - val_loss: 0.0021 - val_stateful_binary_fbeta: 0.8852\n",
      "Epoch 5/30\n",
      "418/418 [==============================] - 1s 3ms/step - loss: 0.0034 - stateful_binary_fbeta: 0.7504 - val_loss: 0.0022 - val_stateful_binary_fbeta: 0.8571\n",
      "Epoch 6/30\n",
      "418/418 [==============================] - 1s 3ms/step - loss: 0.0033 - stateful_binary_fbeta: 0.7504 - val_loss: 0.0021 - val_stateful_binary_fbeta: 0.8807\n",
      "Epoch 7/30\n",
      "418/418 [==============================] - 1s 3ms/step - loss: 0.0033 - stateful_binary_fbeta: 0.7718 - val_loss: 0.0021 - val_stateful_binary_fbeta: 0.8852\n",
      "Epoch 8/30\n",
      "418/418 [==============================] - 1s 3ms/step - loss: 0.0032 - stateful_binary_fbeta: 0.7811 - val_loss: 0.0021 - val_stateful_binary_fbeta: 0.8807\n",
      "Epoch 9/30\n",
      "418/418 [==============================] - 1s 3ms/step - loss: 0.0032 - stateful_binary_fbeta: 0.7774 - val_loss: 0.0021 - val_stateful_binary_fbeta: 0.8658\n",
      "Epoch 10/30\n",
      "418/418 [==============================] - 2s 4ms/step - loss: 0.0033 - stateful_binary_fbeta: 0.7821 - val_loss: 0.0021 - val_stateful_binary_fbeta: 0.8609\n",
      "Epoch 11/30\n",
      "418/418 [==============================] - 1s 3ms/step - loss: 0.0031 - stateful_binary_fbeta: 0.7822 - val_loss: 0.0021 - val_stateful_binary_fbeta: 0.8609\n",
      "Epoch 12/30\n",
      "418/418 [==============================] - 1s 3ms/step - loss: 0.0031 - stateful_binary_fbeta: 0.7864 - val_loss: 0.0021 - val_stateful_binary_fbeta: 0.8609\n",
      "Epoch 13/30\n",
      "418/418 [==============================] - 1s 3ms/step - loss: 0.0032 - stateful_binary_fbeta: 0.7899 - val_loss: 0.0021 - val_stateful_binary_fbeta: 0.8584\n",
      "Epoch 14/30\n",
      "418/418 [==============================] - 1s 3ms/step - loss: 0.0030 - stateful_binary_fbeta: 0.7893 - val_loss: 0.0022 - val_stateful_binary_fbeta: 0.8407\n"
     ]
    }
   ],
   "source": [
    "model = build_model()\n",
    "history = model.fit(X_train, y_train, epochs=30, batch_size=512, callbacks=[stopper], \\\n",
    "                validation_data=(X_test, y_test), verbose=1)"
   ]
  },
  {
   "cell_type": "markdown",
   "metadata": {
    "papermill": {
     "duration": 0.188978,
     "end_time": "2020-12-05T14:43:39.385029",
     "exception": false,
     "start_time": "2020-12-05T14:43:39.196051",
     "status": "completed"
    },
    "tags": []
   },
   "source": [
    "### Let's check the best f1 score and confirm it using sklearn's f1score."
   ]
  },
  {
   "cell_type": "code",
   "execution_count": 28,
   "metadata": {
    "execution": {
     "iopub.execute_input": "2020-12-05T14:43:39.774566Z",
     "iopub.status.busy": "2020-12-05T14:43:39.773676Z",
     "iopub.status.idle": "2020-12-05T14:43:41.287689Z",
     "shell.execute_reply": "2020-12-05T14:43:41.288517Z"
    },
    "papermill": {
     "duration": 1.711402,
     "end_time": "2020-12-05T14:43:41.288706",
     "exception": false,
     "start_time": "2020-12-05T14:43:39.577304",
     "status": "completed"
    },
    "tags": []
   },
   "outputs": [
    {
     "data": {
      "text/plain": [
       "array([[8.6634034e-05],\n",
       "       [6.0438667e-04],\n",
       "       [4.0634779e-05],\n",
       "       [1.8541870e-04],\n",
       "       [4.5138164e-05]], dtype=float32)"
      ]
     },
     "execution_count": 28,
     "metadata": {},
     "output_type": "execute_result"
    }
   ],
   "source": [
    "p = model.predict(X_test)\n",
    "p[:5]"
   ]
  },
  {
   "cell_type": "code",
   "execution_count": 29,
   "metadata": {
    "execution": {
     "iopub.execute_input": "2020-12-05T14:43:41.679636Z",
     "iopub.status.busy": "2020-12-05T14:43:41.676842Z",
     "iopub.status.idle": "2020-12-05T14:43:41.683597Z",
     "shell.execute_reply": "2020-12-05T14:43:41.683032Z"
    },
    "papermill": {
     "duration": 0.204309,
     "end_time": "2020-12-05T14:43:41.683732",
     "exception": false,
     "start_time": "2020-12-05T14:43:41.479423",
     "status": "completed"
    },
    "tags": []
   },
   "outputs": [
    {
     "data": {
      "text/plain": [
       "array([0, 0, 0, 0, 0])"
      ]
     },
     "execution_count": 29,
     "metadata": {},
     "output_type": "execute_result"
    }
   ],
   "source": [
    "q = (p > threshold).astype(int).flatten()\n",
    "q[:5]"
   ]
  },
  {
   "cell_type": "code",
   "execution_count": 30,
   "metadata": {
    "execution": {
     "iopub.execute_input": "2020-12-05T14:43:42.075743Z",
     "iopub.status.busy": "2020-12-05T14:43:42.074543Z",
     "iopub.status.idle": "2020-12-05T14:43:42.080092Z",
     "shell.execute_reply": "2020-12-05T14:43:42.079531Z"
    },
    "papermill": {
     "duration": 0.204024,
     "end_time": "2020-12-05T14:43:42.080209",
     "exception": false,
     "start_time": "2020-12-05T14:43:41.876185",
     "status": "completed"
    },
    "tags": []
   },
   "outputs": [
    {
     "data": {
      "text/plain": [
       "array([8.6634034e-05, 6.0438667e-04, 4.0634779e-05, 1.8541870e-04,\n",
       "       4.5138164e-05], dtype=float32)"
      ]
     },
     "execution_count": 30,
     "metadata": {},
     "output_type": "execute_result"
    }
   ],
   "source": [
    "p.flatten()[:5]"
   ]
  },
  {
   "cell_type": "code",
   "execution_count": 31,
   "metadata": {
    "execution": {
     "iopub.execute_input": "2020-12-05T14:43:42.479199Z",
     "iopub.status.busy": "2020-12-05T14:43:42.478082Z",
     "iopub.status.idle": "2020-12-05T14:43:42.494716Z",
     "shell.execute_reply": "2020-12-05T14:43:42.494118Z"
    },
    "papermill": {
     "duration": 0.220096,
     "end_time": "2020-12-05T14:43:42.494842",
     "exception": false,
     "start_time": "2020-12-05T14:43:42.274746",
     "status": "completed"
    },
    "tags": []
   },
   "outputs": [
    {
     "data": {
      "text/plain": [
       "0.8852458"
      ]
     },
     "execution_count": 31,
     "metadata": {},
     "output_type": "execute_result"
    }
   ],
   "source": [
    "binary_fbeta2 = StatefulBinaryFBeta()\n",
    "binary_fbeta2.update_state(y_test.values.reshape(-1, 1), p)\n",
    "binary_fbeta2.result().numpy() #/ y_test.shape[0]"
   ]
  },
  {
   "cell_type": "code",
   "execution_count": 32,
   "metadata": {
    "execution": {
     "iopub.execute_input": "2020-12-05T14:43:42.890797Z",
     "iopub.status.busy": "2020-12-05T14:43:42.889762Z",
     "iopub.status.idle": "2020-12-05T14:43:42.915520Z",
     "shell.execute_reply": "2020-12-05T14:43:42.916166Z"
    },
    "papermill": {
     "duration": 0.225775,
     "end_time": "2020-12-05T14:43:42.916319",
     "exception": false,
     "start_time": "2020-12-05T14:43:42.690544",
     "status": "completed"
    },
    "tags": []
   },
   "outputs": [
    {
     "data": {
      "text/plain": [
       "0.8852459016393442"
      ]
     },
     "execution_count": 32,
     "metadata": {},
     "output_type": "execute_result"
    }
   ],
   "source": [
    "f1_score(y_test.values.reshape(-1, 1), q)"
   ]
  },
  {
   "cell_type": "markdown",
   "metadata": {
    "papermill": {
     "duration": 0.194077,
     "end_time": "2020-12-05T14:43:43.305251",
     "exception": false,
     "start_time": "2020-12-05T14:43:43.111174",
     "status": "completed"
    },
    "tags": []
   },
   "source": [
    "## Learning Curve"
   ]
  },
  {
   "cell_type": "code",
   "execution_count": 33,
   "metadata": {
    "execution": {
     "iopub.execute_input": "2020-12-05T14:43:43.851708Z",
     "iopub.status.busy": "2020-12-05T14:43:43.841588Z",
     "iopub.status.idle": "2020-12-05T14:43:43.864825Z",
     "shell.execute_reply": "2020-12-05T14:43:43.863949Z"
    },
    "papermill": {
     "duration": 0.32658,
     "end_time": "2020-12-05T14:43:43.864992",
     "exception": false,
     "start_time": "2020-12-05T14:43:43.538412",
     "status": "completed"
    },
    "tags": []
   },
   "outputs": [],
   "source": [
    "plt.style.use('ggplot')\n",
    "\n",
    "def plot_history(history):\n",
    "    \n",
    "    fbeta = history.history['stateful_binary_fbeta']\n",
    "    val_fbeta = history.history['val_stateful_binary_fbeta']\n",
    "    loss = history.history['loss']\n",
    "    val_loss = history.history['val_loss']\n",
    "    epochs = range(1, len(loss) + 1)\n",
    "\n",
    "    metrics = {'loss': (loss, val_loss), 'fbeta': (fbeta, val_fbeta)}\n",
    "    \n",
    "    plt.figure(figsize=(18, 5))\n",
    "    \n",
    "    for i, metric in zip(range(1, len(metrics)+1), list(metrics.keys())):\n",
    "        plt.subplot(1, 2, i)\n",
    "        plt.plot(epochs, metrics[metric][0], 'b', label='Training ' + metric)\n",
    "        plt.plot(epochs, metrics[metric][1], 'r', label='Validation ' + metric)\n",
    "        plt.title('Training and validation ' + metric)\n",
    "        plt.legend()"
   ]
  },
  {
   "cell_type": "code",
   "execution_count": 34,
   "metadata": {
    "execution": {
     "iopub.execute_input": "2020-12-05T14:43:44.369995Z",
     "iopub.status.busy": "2020-12-05T14:43:44.368999Z",
     "iopub.status.idle": "2020-12-05T14:43:44.854655Z",
     "shell.execute_reply": "2020-12-05T14:43:44.855285Z"
    },
    "papermill": {
     "duration": 0.695791,
     "end_time": "2020-12-05T14:43:44.855478",
     "exception": false,
     "start_time": "2020-12-05T14:43:44.159687",
     "status": "completed"
    },
    "tags": []
   },
   "outputs": [
    {
     "data": {
      "image/png": "[encoded data removed]",
      "text/plain": [
       "<Figure size 1296x360 with 2 Axes>"
      ]
     },
     "metadata": {},
     "output_type": "display_data"
    }
   ],
   "source": [
    "plot_history(history)"
   ]
  },
  {
   "cell_type": "markdown",
   "metadata": {
    "papermill": {
     "duration": 0.200937,
     "end_time": "2020-12-05T14:43:45.279151",
     "exception": false,
     "start_time": "2020-12-05T14:43:45.078214",
     "status": "completed"
    },
    "tags": []
   },
   "source": [
    "### After much tuning, this is the best learning curve we can get. Although it is strange that validation set has better metrics than training set. It appears that it is due to the nature of our data."
   ]
  },
  {
   "cell_type": "code",
   "execution_count": 35,
   "metadata": {
    "execution": {
     "iopub.execute_input": "2020-12-05T14:43:45.682160Z",
     "iopub.status.busy": "2020-12-05T14:43:45.680827Z",
     "iopub.status.idle": "2020-12-05T14:43:45.684767Z",
     "shell.execute_reply": "2020-12-05T14:43:45.685349Z"
    },
    "papermill": {
     "duration": 0.209391,
     "end_time": "2020-12-05T14:43:45.685485",
     "exception": false,
     "start_time": "2020-12-05T14:43:45.476094",
     "status": "completed"
    },
    "tags": []
   },
   "outputs": [
    {
     "data": {
      "text/plain": [
       "4"
      ]
     },
     "execution_count": 35,
     "metadata": {},
     "output_type": "execute_result"
    }
   ],
   "source": [
    "# retrieving the best number of epochs\n",
    "best_n_epochs = int(np.array(history.history['val_stateful_binary_fbeta']).argmax() + 1)\n",
    "best_n_epochs"
   ]
  },
  {
   "cell_type": "markdown",
   "metadata": {
    "papermill": {
     "duration": 0.197974,
     "end_time": "2020-12-05T14:43:46.080861",
     "exception": false,
     "start_time": "2020-12-05T14:43:45.882887",
     "status": "completed"
    },
    "tags": []
   },
   "source": [
    "## Now, we will do our cross validation using the best number of  epochs. We will create a custom transformer to clip outliers and encapsulate the preprocessing steps together with our model in a scikit-learn pipeline."
   ]
  },
  {
   "cell_type": "code",
   "execution_count": 36,
   "metadata": {
    "execution": {
     "iopub.execute_input": "2020-12-05T14:43:46.488491Z",
     "iopub.status.busy": "2020-12-05T14:43:46.486308Z",
     "iopub.status.idle": "2020-12-05T14:43:46.489308Z",
     "shell.execute_reply": "2020-12-05T14:43:46.489970Z"
    },
    "papermill": {
     "duration": 0.212379,
     "end_time": "2020-12-05T14:43:46.490138",
     "exception": false,
     "start_time": "2020-12-05T14:43:46.277759",
     "status": "completed"
    },
    "tags": []
   },
   "outputs": [],
   "source": [
    "class ClipOutliers(BaseEstimator, TransformerMixin):\n",
    "    def __init__(self, lower_percentile=1, upper_percentile=99):\n",
    "        self.lower_percentile = lower_percentile\n",
    "        self.upper_percentile = upper_percentile\n",
    "        \n",
    "    def fit(self, X, y=None):\n",
    "        self.a = np.percentile(X, self.lower_percentile, axis=0)\n",
    "        self.b = np.percentile(X, self.upper_percentile, axis=0)\n",
    "        \n",
    "        return self\n",
    "    \n",
    "    def transform(self, X):\n",
    "        self.Xt = np.clip(X, self.a, self.b)\n",
    "        \n",
    "        return self.Xt"
   ]
  },
  {
   "cell_type": "markdown",
   "metadata": {
    "papermill": {
     "duration": 0.197487,
     "end_time": "2020-12-05T14:43:46.887329",
     "exception": false,
     "start_time": "2020-12-05T14:43:46.689842",
     "status": "completed"
    },
    "tags": []
   },
   "source": [
    "### Fraud sensitive model"
   ]
  },
  {
   "cell_type": "code",
   "execution_count": 37,
   "metadata": {
    "execution": {
     "iopub.execute_input": "2020-12-05T14:43:47.295742Z",
     "iopub.status.busy": "2020-12-05T14:43:47.294223Z",
     "iopub.status.idle": "2020-12-05T14:44:19.820263Z",
     "shell.execute_reply": "2020-12-05T14:44:19.821122Z"
    },
    "papermill": {
     "duration": 32.734366,
     "end_time": "2020-12-05T14:44:19.821322",
     "exception": false,
     "start_time": "2020-12-05T14:43:47.086956",
     "status": "completed"
    },
    "tags": []
   },
   "outputs": [
    {
     "name": "stderr",
     "output_type": "stream",
     "text": [
      "[Parallel(n_jobs=1)]: Using backend SequentialBackend with 1 concurrent workers.\n",
      "[Parallel(n_jobs=1)]: Done   4 out of   4 | elapsed:   32.3s finished\n"
     ]
    }
   ],
   "source": [
    "fraud_sensitive_model = KerasClassifier(build_fn=build_model)\n",
    "fraud_sensitive_scaler = StandardScaler()\n",
    "fraud_sensitive_clipper = ClipOutliers()\n",
    "\n",
    "fraud_sensitive_pipe = Pipeline([('scaler', fraud_sensitive_scaler), \\\n",
    "                                 ('clipper', fraud_sensitive_clipper), ('model', fraud_sensitive_model)])\n",
    "\n",
    "fraud_sensitive_scores = cross_validate(fraud_sensitive_pipe, np.array(X), y, verbose=1, \\\n",
    "                         scoring=['f1', 'average_precision'], cv=cv, return_estimator=True, \\\n",
    "                         error_score='raise', fit_params={'model__epochs': int(best_n_epochs), \\\n",
    "                         'model__batch_size': 512, 'model__verbose': 0})"
   ]
  },
  {
   "cell_type": "markdown",
   "metadata": {
    "papermill": {
     "duration": 0.198306,
     "end_time": "2020-12-05T14:44:20.228950",
     "exception": false,
     "start_time": "2020-12-05T14:44:20.030644",
     "status": "completed"
    },
    "tags": []
   },
   "source": [
    "### Note: we used cross_validate because it can take more than one scoring metrics and it can also return the fitting model for each fold."
   ]
  },
  {
   "cell_type": "code",
   "execution_count": 38,
   "metadata": {
    "execution": {
     "iopub.execute_input": "2020-12-05T14:44:20.633320Z",
     "iopub.status.busy": "2020-12-05T14:44:20.631922Z",
     "iopub.status.idle": "2020-12-05T14:44:27.554454Z",
     "shell.execute_reply": "2020-12-05T14:44:27.555305Z"
    },
    "papermill": {
     "duration": 7.126704,
     "end_time": "2020-12-05T14:44:27.555559",
     "exception": false,
     "start_time": "2020-12-05T14:44:20.428855",
     "status": "completed"
    },
    "tags": []
   },
   "outputs": [
    {
     "data": {
      "text/html": [
       "<div>\n",
       "<style scoped>\n",
       "    .dataframe tbody tr th:only-of-type {\n",
       "        vertical-align: middle;\n",
       "    }\n",
       "\n",
       "    .dataframe tbody tr th {\n",
       "        vertical-align: top;\n",
       "    }\n",
       "\n",
       "    .dataframe thead th {\n",
       "        text-align: right;\n",
       "    }\n",
       "</style>\n",
       "<table border=\"1\" class=\"dataframe\">\n",
       "  <thead>\n",
       "    <tr style=\"text-align: right;\">\n",
       "      <th></th>\n",
       "      <th>f1_score</th>\n",
       "      <th>auc_pr</th>\n",
       "      <th>cost_savings</th>\n",
       "    </tr>\n",
       "  </thead>\n",
       "  <tbody>\n",
       "    <tr>\n",
       "      <th>split_1</th>\n",
       "      <td>0.791667</td>\n",
       "      <td>0.770626</td>\n",
       "      <td>0.725500</td>\n",
       "    </tr>\n",
       "    <tr>\n",
       "      <th>split_2</th>\n",
       "      <td>0.845188</td>\n",
       "      <td>0.851539</td>\n",
       "      <td>0.758706</td>\n",
       "    </tr>\n",
       "    <tr>\n",
       "      <th>split_3</th>\n",
       "      <td>0.836207</td>\n",
       "      <td>0.850878</td>\n",
       "      <td>0.794888</td>\n",
       "    </tr>\n",
       "    <tr>\n",
       "      <th>split_4</th>\n",
       "      <td>0.817021</td>\n",
       "      <td>0.804436</td>\n",
       "      <td>0.719705</td>\n",
       "    </tr>\n",
       "  </tbody>\n",
       "</table>\n",
       "</div>"
      ],
      "text/plain": [
       "         f1_score    auc_pr  cost_savings\n",
       "split_1  0.791667  0.770626      0.725500\n",
       "split_2  0.845188  0.851539      0.758706\n",
       "split_3  0.836207  0.850878      0.794888\n",
       "split_4  0.817021  0.804436      0.719705"
      ]
     },
     "execution_count": 38,
     "metadata": {},
     "output_type": "execute_result"
    }
   ],
   "source": [
    "fraud_sensitive_results = get_metric_scores(fraud_sensitive_scores, np.array(X))\n",
    "fraud_sensitive_results"
   ]
  },
  {
   "cell_type": "code",
   "execution_count": 39,
   "metadata": {
    "execution": {
     "iopub.execute_input": "2020-12-05T14:44:28.151479Z",
     "iopub.status.busy": "2020-12-05T14:44:28.150595Z",
     "iopub.status.idle": "2020-12-05T14:44:28.158059Z",
     "shell.execute_reply": "2020-12-05T14:44:28.158780Z"
    },
    "papermill": {
     "duration": 0.302309,
     "end_time": "2020-12-05T14:44:28.158995",
     "exception": false,
     "start_time": "2020-12-05T14:44:27.856686",
     "status": "completed"
    },
    "tags": []
   },
   "outputs": [
    {
     "data": {
      "text/plain": [
       "f1_score        0.822521\n",
       "auc_pr          0.819370\n",
       "cost_savings    0.749700\n",
       "dtype: float64"
      ]
     },
     "execution_count": 39,
     "metadata": {},
     "output_type": "execute_result"
    }
   ],
   "source": [
    "fraud_sensitive_results.mean()"
   ]
  },
  {
   "cell_type": "code",
   "execution_count": null,
   "metadata": {
    "papermill": {
     "duration": 0.196816,
     "end_time": "2020-12-05T14:44:28.576363",
     "exception": false,
     "start_time": "2020-12-05T14:44:28.379547",
     "status": "completed"
    },
    "tags": []
   },
   "outputs": [],
   "source": []
  },
  {
   "cell_type": "markdown",
   "metadata": {
    "papermill": {
     "duration": 0.20146,
     "end_time": "2020-12-05T14:44:28.975664",
     "exception": false,
     "start_time": "2020-12-05T14:44:28.774204",
     "status": "completed"
    },
    "tags": []
   },
   "source": [
    "## Cost sensitive model"
   ]
  },
  {
   "cell_type": "markdown",
   "metadata": {
    "papermill": {
     "duration": 0.195306,
     "end_time": "2020-12-05T14:44:29.373768",
     "exception": false,
     "start_time": "2020-12-05T14:44:29.178462",
     "status": "completed"
    },
    "tags": []
   },
   "source": [
    "### We will now look for the best epoch that best minimize the loss function (cost sensitive binary cross-entropy loss)"
   ]
  },
  {
   "cell_type": "code",
   "execution_count": 40,
   "metadata": {
    "execution": {
     "iopub.execute_input": "2020-12-05T14:44:29.779355Z",
     "iopub.status.busy": "2020-12-05T14:44:29.777924Z",
     "iopub.status.idle": "2020-12-05T14:44:29.780100Z",
     "shell.execute_reply": "2020-12-05T14:44:29.780667Z"
    },
    "papermill": {
     "duration": 0.208272,
     "end_time": "2020-12-05T14:44:29.780804",
     "exception": false,
     "start_time": "2020-12-05T14:44:29.572532",
     "status": "completed"
    },
    "tags": []
   },
   "outputs": [],
   "source": [
    "stopper2 = EarlyStopping(monitor='val_loss', patience=10, mode='min', restore_best_weights=True)"
   ]
  },
  {
   "cell_type": "code",
   "execution_count": 41,
   "metadata": {
    "execution": {
     "iopub.execute_input": "2020-12-05T14:44:30.191993Z",
     "iopub.status.busy": "2020-12-05T14:44:30.190619Z",
     "iopub.status.idle": "2020-12-05T14:51:30.519200Z",
     "shell.execute_reply": "2020-12-05T14:51:30.518642Z"
    },
    "papermill": {
     "duration": 420.53806,
     "end_time": "2020-12-05T14:51:30.519350",
     "exception": false,
     "start_time": "2020-12-05T14:44:29.981290",
     "status": "completed"
    },
    "tags": []
   },
   "outputs": [
    {
     "name": "stdout",
     "output_type": "stream",
     "text": [
      "Epoch 1/30\n",
      "6676/6676 [==============================] - 23s 3ms/step - loss: 0.5467 - stateful_binary_fbeta: 0.6098 - val_loss: 0.0076 - val_stateful_binary_fbeta: 0.8372\n",
      "Epoch 2/30\n",
      "6676/6676 [==============================] - 23s 3ms/step - loss: 0.2282 - stateful_binary_fbeta: 0.5088 - val_loss: 0.0181 - val_stateful_binary_fbeta: 0.4857\n",
      "Epoch 3/30\n",
      "6676/6676 [==============================] - 22s 3ms/step - loss: 0.1658 - stateful_binary_fbeta: 0.4482 - val_loss: 0.0123 - val_stateful_binary_fbeta: 0.6606\n",
      "Epoch 4/30\n",
      "6676/6676 [==============================] - 23s 3ms/step - loss: 0.2037 - stateful_binary_fbeta: 0.4288 - val_loss: 0.0089 - val_stateful_binary_fbeta: 0.7039\n",
      "Epoch 5/30\n",
      "6676/6676 [==============================] - 22s 3ms/step - loss: 0.1626 - stateful_binary_fbeta: 0.4110 - val_loss: 0.0091 - val_stateful_binary_fbeta: 0.7200\n",
      "Epoch 6/30\n",
      "6676/6676 [==============================] - 23s 4ms/step - loss: 0.1353 - stateful_binary_fbeta: 0.4590 - val_loss: 0.0107 - val_stateful_binary_fbeta: 0.6412\n",
      "Epoch 7/30\n",
      "6676/6676 [==============================] - 22s 3ms/step - loss: 0.1421 - stateful_binary_fbeta: 0.3905 - val_loss: 0.0049 - val_stateful_binary_fbeta: 0.8504\n",
      "Epoch 8/30\n",
      "6676/6676 [==============================] - 22s 3ms/step - loss: 0.1188 - stateful_binary_fbeta: 0.4388 - val_loss: 0.0064 - val_stateful_binary_fbeta: 0.7643\n",
      "Epoch 9/30\n",
      "6676/6676 [==============================] - 25s 4ms/step - loss: 0.1069 - stateful_binary_fbeta: 0.4251 - val_loss: 0.0088 - val_stateful_binary_fbeta: 0.6102\n",
      "Epoch 10/30\n",
      "6676/6676 [==============================] - 22s 3ms/step - loss: 0.1317 - stateful_binary_fbeta: 0.4502 - val_loss: 0.0059 - val_stateful_binary_fbeta: 0.7698\n",
      "Epoch 11/30\n",
      "6676/6676 [==============================] - 23s 3ms/step - loss: 0.0834 - stateful_binary_fbeta: 0.4574 - val_loss: 0.0064 - val_stateful_binary_fbeta: 0.7855\n",
      "Epoch 12/30\n",
      "6676/6676 [==============================] - 25s 4ms/step - loss: 0.1091 - stateful_binary_fbeta: 0.4822 - val_loss: 0.0061 - val_stateful_binary_fbeta: 0.7285\n",
      "Epoch 13/30\n",
      "6676/6676 [==============================] - 22s 3ms/step - loss: 0.0957 - stateful_binary_fbeta: 0.4663 - val_loss: 0.0068 - val_stateful_binary_fbeta: 0.7365\n",
      "Epoch 14/30\n",
      "6676/6676 [==============================] - 25s 4ms/step - loss: 0.1179 - stateful_binary_fbeta: 0.4839 - val_loss: 0.0078 - val_stateful_binary_fbeta: 0.6708\n",
      "Epoch 15/30\n",
      "6676/6676 [==============================] - 23s 3ms/step - loss: 0.1168 - stateful_binary_fbeta: 0.4234 - val_loss: 0.0109 - val_stateful_binary_fbeta: 0.5387\n",
      "Epoch 16/30\n",
      "6676/6676 [==============================] - 22s 3ms/step - loss: 0.0869 - stateful_binary_fbeta: 0.4648 - val_loss: 0.0060 - val_stateful_binary_fbeta: 0.7649\n",
      "Epoch 17/30\n",
      "6676/6676 [==============================] - 25s 4ms/step - loss: 0.0912 - stateful_binary_fbeta: 0.4905 - val_loss: 0.0064 - val_stateful_binary_fbeta: 0.7456\n"
     ]
    }
   ],
   "source": [
    "model2 = build_model()\n",
    "history2 = model2.fit(X_train, y_train, epochs=30, batch_size=32, callbacks=[stopper2], \\\n",
    "                validation_data=(X_test, y_test), sample_weight=train_sample_weights, verbose=1)"
   ]
  },
  {
   "cell_type": "code",
   "execution_count": 42,
   "metadata": {
    "execution": {
     "iopub.execute_input": "2020-12-05T14:51:35.983500Z",
     "iopub.status.busy": "2020-12-05T14:51:35.982385Z",
     "iopub.status.idle": "2020-12-05T14:51:35.987469Z",
     "shell.execute_reply": "2020-12-05T14:51:35.987988Z"
    },
    "papermill": {
     "duration": 2.710858,
     "end_time": "2020-12-05T14:51:35.988133",
     "exception": false,
     "start_time": "2020-12-05T14:51:33.277275",
     "status": "completed"
    },
    "tags": []
   },
   "outputs": [
    {
     "data": {
      "text/plain": [
       "7"
      ]
     },
     "execution_count": 42,
     "metadata": {},
     "output_type": "execute_result"
    }
   ],
   "source": [
    "# retrieving the best number of epochs\n",
    "best_n_epochs2 = int(np.array(history2.history['val_loss']).argmin() + 1)\n",
    "best_n_epochs2"
   ]
  },
  {
   "cell_type": "markdown",
   "metadata": {
    "papermill": {
     "duration": 2.749697,
     "end_time": "2020-12-05T14:51:41.792325",
     "exception": false,
     "start_time": "2020-12-05T14:51:39.042628",
     "status": "completed"
    },
    "tags": []
   },
   "source": [
    "## Now, we will do our cross validation using the best number of  epochs."
   ]
  },
  {
   "cell_type": "code",
   "execution_count": 43,
   "metadata": {
    "execution": {
     "iopub.execute_input": "2020-12-05T14:51:47.197750Z",
     "iopub.status.busy": "2020-12-05T14:51:47.196254Z",
     "iopub.status.idle": "2020-12-05T15:00:20.723285Z",
     "shell.execute_reply": "2020-12-05T15:00:20.724156Z"
    },
    "papermill": {
     "duration": 516.235102,
     "end_time": "2020-12-05T15:00:20.724389",
     "exception": false,
     "start_time": "2020-12-05T14:51:44.489287",
     "status": "completed"
    },
    "tags": []
   },
   "outputs": [
    {
     "name": "stderr",
     "output_type": "stream",
     "text": [
      "[Parallel(n_jobs=1)]: Using backend SequentialBackend with 1 concurrent workers.\n",
      "[Parallel(n_jobs=1)]: Done   4 out of   4 | elapsed:  8.5min finished\n"
     ]
    }
   ],
   "source": [
    "cost_sensitive_model = KerasClassifier(build_fn=build_model)\n",
    "cost_sensitive_scaler = StandardScaler()\n",
    "cost_sensitive_clipper = ClipOutliers()\n",
    "\n",
    "cost_sensitive_pipe = Pipeline([('scaler', cost_sensitive_scaler), \\\n",
    "                                 ('clipper', cost_sensitive_clipper), ('model', cost_sensitive_model)])\n",
    "\n",
    "cost_sensitive_scores = cross_validate(cost_sensitive_pipe, np.array(X), y, verbose=1, \\\n",
    "                         scoring=['f1', 'average_precision'], cv=cv, return_estimator=True, \\\n",
    "                         error_score='raise', fit_params={'model__epochs': best_n_epochs2, \\\n",
    "                         'model__batch_size': 32, 'model__verbose': 0, \\\n",
    "                         'model__sample_weight': sample_weights})"
   ]
  },
  {
   "cell_type": "code",
   "execution_count": 44,
   "metadata": {
    "execution": {
     "iopub.execute_input": "2020-12-05T15:00:27.165514Z",
     "iopub.status.busy": "2020-12-05T15:00:27.164038Z",
     "iopub.status.idle": "2020-12-05T15:00:33.101150Z",
     "shell.execute_reply": "2020-12-05T15:00:33.100574Z"
    },
    "papermill": {
     "duration": 9.539557,
     "end_time": "2020-12-05T15:00:33.101268",
     "exception": false,
     "start_time": "2020-12-05T15:00:23.561711",
     "status": "completed"
    },
    "tags": []
   },
   "outputs": [
    {
     "data": {
      "text/html": [
       "<div>\n",
       "<style scoped>\n",
       "    .dataframe tbody tr th:only-of-type {\n",
       "        vertical-align: middle;\n",
       "    }\n",
       "\n",
       "    .dataframe tbody tr th {\n",
       "        vertical-align: top;\n",
       "    }\n",
       "\n",
       "    .dataframe thead th {\n",
       "        text-align: right;\n",
       "    }\n",
       "</style>\n",
       "<table border=\"1\" class=\"dataframe\">\n",
       "  <thead>\n",
       "    <tr style=\"text-align: right;\">\n",
       "      <th></th>\n",
       "      <th>f1_score</th>\n",
       "      <th>auc_pr</th>\n",
       "      <th>cost_savings</th>\n",
       "    </tr>\n",
       "  </thead>\n",
       "  <tbody>\n",
       "    <tr>\n",
       "      <th>split_1</th>\n",
       "      <td>0.501292</td>\n",
       "      <td>0.671125</td>\n",
       "      <td>0.745981</td>\n",
       "    </tr>\n",
       "    <tr>\n",
       "      <th>split_2</th>\n",
       "      <td>0.640000</td>\n",
       "      <td>0.746174</td>\n",
       "      <td>0.859478</td>\n",
       "    </tr>\n",
       "    <tr>\n",
       "      <th>split_3</th>\n",
       "      <td>0.510101</td>\n",
       "      <td>0.757450</td>\n",
       "      <td>0.833368</td>\n",
       "    </tr>\n",
       "    <tr>\n",
       "      <th>split_4</th>\n",
       "      <td>0.592145</td>\n",
       "      <td>0.675804</td>\n",
       "      <td>0.720109</td>\n",
       "    </tr>\n",
       "  </tbody>\n",
       "</table>\n",
       "</div>"
      ],
      "text/plain": [
       "         f1_score    auc_pr  cost_savings\n",
       "split_1  0.501292  0.671125      0.745981\n",
       "split_2  0.640000  0.746174      0.859478\n",
       "split_3  0.510101  0.757450      0.833368\n",
       "split_4  0.592145  0.675804      0.720109"
      ]
     },
     "execution_count": 44,
     "metadata": {},
     "output_type": "execute_result"
    }
   ],
   "source": [
    "cost_sensitive_results = get_metric_scores(cost_sensitive_scores, np.array(X))\n",
    "cost_sensitive_results"
   ]
  },
  {
   "cell_type": "code",
   "execution_count": 45,
   "metadata": {
    "execution": {
     "iopub.execute_input": "2020-12-05T15:00:38.791723Z",
     "iopub.status.busy": "2020-12-05T15:00:38.790511Z",
     "iopub.status.idle": "2020-12-05T15:00:38.796499Z",
     "shell.execute_reply": "2020-12-05T15:00:38.795559Z"
    },
    "papermill": {
     "duration": 2.793939,
     "end_time": "2020-12-05T15:00:38.796703",
     "exception": false,
     "start_time": "2020-12-05T15:00:36.002764",
     "status": "completed"
    },
    "tags": []
   },
   "outputs": [
    {
     "data": {
      "text/plain": [
       "f1_score        0.560885\n",
       "auc_pr          0.712638\n",
       "cost_savings    0.789734\n",
       "dtype: float64"
      ]
     },
     "execution_count": 45,
     "metadata": {},
     "output_type": "execute_result"
    }
   ],
   "source": [
    "cost_sensitive_results.mean()"
   ]
  },
  {
   "cell_type": "markdown",
   "metadata": {
    "papermill": {
     "duration": 2.681763,
     "end_time": "2020-12-05T15:00:44.155900",
     "exception": false,
     "start_time": "2020-12-05T15:00:41.474137",
     "status": "completed"
    },
    "tags": []
   },
   "source": [
    "## Bayes Mininmum Risk (BMR)"
   ]
  },
  {
   "cell_type": "markdown",
   "metadata": {
    "papermill": {
     "duration": 2.768676,
     "end_time": "2020-12-05T15:00:49.870673",
     "exception": false,
     "start_time": "2020-12-05T15:00:47.101997",
     "status": "completed"
    },
    "tags": []
   },
   "source": [
    "### Note: cost dependent classification is also called Bayes Mininmum Risk.\n",
    "***see more about BMR [here](https://link.springer.com/article/10.1007/s42452-020-03375-w)***"
   ]
  },
  {
   "cell_type": "code",
   "execution_count": 46,
   "metadata": {
    "execution": {
     "iopub.execute_input": "2020-12-05T15:00:55.308161Z",
     "iopub.status.busy": "2020-12-05T15:00:55.307203Z",
     "iopub.status.idle": "2020-12-05T15:00:55.310305Z",
     "shell.execute_reply": "2020-12-05T15:00:55.310839Z"
    },
    "papermill": {
     "duration": 2.74367,
     "end_time": "2020-12-05T15:00:55.310989",
     "exception": false,
     "start_time": "2020-12-05T15:00:52.567319",
     "status": "completed"
    },
    "tags": []
   },
   "outputs": [],
   "source": [
    "# defining a function to predict based on the predicting that will minimize the expected cost.\n",
    "def bmr_predict(model, x, trans_cost):\n",
    "    prob = model.predict_proba(x)[:, 1]\n",
    "        \n",
    "    expected_cost_0 = prob * trans_cost\n",
    "    expected_cost_1 = (1-prob) * admin_cost\n",
    "        \n",
    "    pred = (expected_cost_1 < expected_cost_0).astype(int)\n",
    "    return pred"
   ]
  },
  {
   "cell_type": "markdown",
   "metadata": {
    "papermill": {
     "duration": 2.815659,
     "end_time": "2020-12-05T15:01:01.574421",
     "exception": false,
     "start_time": "2020-12-05T15:00:58.758762",
     "status": "completed"
    },
    "tags": []
   },
   "source": [
    "### Calculating AUC PR curve is not possible for BMR because predictions are based on minimum expected cost and not on probability. For this reason, we will calculate only f1_score and cost-savings for this model."
   ]
  },
  {
   "cell_type": "code",
   "execution_count": 47,
   "metadata": {
    "execution": {
     "iopub.execute_input": "2020-12-05T15:01:06.995398Z",
     "iopub.status.busy": "2020-12-05T15:01:06.994277Z",
     "iopub.status.idle": "2020-12-05T15:01:06.997770Z",
     "shell.execute_reply": "2020-12-05T15:01:06.997167Z"
    },
    "papermill": {
     "duration": 2.732939,
     "end_time": "2020-12-05T15:01:06.997893",
     "exception": false,
     "start_time": "2020-12-05T15:01:04.264954",
     "status": "completed"
    },
    "tags": []
   },
   "outputs": [],
   "source": [
    "def get_bmr_metric_scores(scores, x, y=y, cv_object=cv):\n",
    "    ind = ['split_'+str(n) for n in range(1, cv_object.n_splits+1)]\n",
    "    scores_df = pd.DataFrame(index=ind)\n",
    "\n",
    "    f1_results = []\n",
    "    cs_results = []\n",
    "    \n",
    "    for i, (_, test_ind) in zip(range(cv_object.n_splits), cv_object.split(x, y)):\n",
    "        amount = df['Amount'].values[test_ind]\n",
    "        \n",
    "        ypred = bmr_predict(scores['estimator'][i], x[test_ind], amount)\n",
    "        ytrue = y[test_ind]\n",
    "                \n",
    "        f1_results.append(f1_score(ytrue, ypred))\n",
    "        cs_results.append(cost_saving(ytrue, ypred, amount))\n",
    "        \n",
    "    scores_df['f1_score'] = f1_results\n",
    "    #scores_df['auc_pr'] = scores['test_average_precision']\n",
    "    scores_df['cost_savings'] = cs_results\n",
    "\n",
    "    return scores_df    "
   ]
  },
  {
   "cell_type": "code",
   "execution_count": 48,
   "metadata": {
    "execution": {
     "iopub.execute_input": "2020-12-05T15:01:13.102392Z",
     "iopub.status.busy": "2020-12-05T15:01:13.100989Z",
     "iopub.status.idle": "2020-12-05T15:01:20.059157Z",
     "shell.execute_reply": "2020-12-05T15:01:20.060634Z"
    },
    "papermill": {
     "duration": 10.097743,
     "end_time": "2020-12-05T15:01:20.060835",
     "exception": false,
     "start_time": "2020-12-05T15:01:09.963092",
     "status": "completed"
    },
    "tags": []
   },
   "outputs": [
    {
     "data": {
      "text/html": [
       "<div>\n",
       "<style scoped>\n",
       "    .dataframe tbody tr th:only-of-type {\n",
       "        vertical-align: middle;\n",
       "    }\n",
       "\n",
       "    .dataframe tbody tr th {\n",
       "        vertical-align: top;\n",
       "    }\n",
       "\n",
       "    .dataframe thead th {\n",
       "        text-align: right;\n",
       "    }\n",
       "</style>\n",
       "<table border=\"1\" class=\"dataframe\">\n",
       "  <thead>\n",
       "    <tr style=\"text-align: right;\">\n",
       "      <th></th>\n",
       "      <th>f1_score</th>\n",
       "      <th>cost_savings</th>\n",
       "    </tr>\n",
       "  </thead>\n",
       "  <tbody>\n",
       "    <tr>\n",
       "      <th>split_1</th>\n",
       "      <td>0.429952</td>\n",
       "      <td>0.714708</td>\n",
       "    </tr>\n",
       "    <tr>\n",
       "      <th>split_2</th>\n",
       "      <td>0.420601</td>\n",
       "      <td>0.855550</td>\n",
       "    </tr>\n",
       "    <tr>\n",
       "      <th>split_3</th>\n",
       "      <td>0.501377</td>\n",
       "      <td>0.843274</td>\n",
       "    </tr>\n",
       "    <tr>\n",
       "      <th>split_4</th>\n",
       "      <td>0.415704</td>\n",
       "      <td>0.788582</td>\n",
       "    </tr>\n",
       "  </tbody>\n",
       "</table>\n",
       "</div>"
      ],
      "text/plain": [
       "         f1_score  cost_savings\n",
       "split_1  0.429952      0.714708\n",
       "split_2  0.420601      0.855550\n",
       "split_3  0.501377      0.843274\n",
       "split_4  0.415704      0.788582"
      ]
     },
     "execution_count": 48,
     "metadata": {},
     "output_type": "execute_result"
    }
   ],
   "source": [
    "bmr_results = get_bmr_metric_scores(fraud_sensitive_scores, np.array(X))\n",
    "bmr_results"
   ]
  },
  {
   "cell_type": "code",
   "execution_count": 49,
   "metadata": {
    "execution": {
     "iopub.execute_input": "2020-12-05T15:01:25.774900Z",
     "iopub.status.busy": "2020-12-05T15:01:25.773335Z",
     "iopub.status.idle": "2020-12-05T15:01:25.777556Z",
     "shell.execute_reply": "2020-12-05T15:01:25.778099Z"
    },
    "papermill": {
     "duration": 2.791458,
     "end_time": "2020-12-05T15:01:25.778261",
     "exception": false,
     "start_time": "2020-12-05T15:01:22.986803",
     "status": "completed"
    },
    "tags": []
   },
   "outputs": [
    {
     "data": {
      "text/plain": [
       "f1_score        0.441909\n",
       "cost_savings    0.800528\n",
       "dtype: float64"
      ]
     },
     "execution_count": 49,
     "metadata": {},
     "output_type": "execute_result"
    }
   ],
   "source": [
    "bmr_results.mean()"
   ]
  },
  {
   "cell_type": "markdown",
   "metadata": {
    "_cell_guid": "79c7e3d0-c299-4dcb-8224-4455121ee9b0",
    "_uuid": "d629ff2d2480ee46fbb7e2d37f6b5fab8052498a",
    "collapsed": true,
    "papermill": {
     "duration": 3.299993,
     "end_time": "2020-12-05T15:01:32.158768",
     "exception": false,
     "start_time": "2020-12-05T15:01:28.858775",
     "status": "completed"
    },
    "tags": []
   },
   "source": [
    "## We now see that as we make our model more cost sensitive, f1score drops. Overall, fraud sensitive model seems to be the best for MLP since all of the three metrics are pretty good."
   ]
  }
 ],
 "metadata": {
  "kernelspec": {
   "display_name": "Python 3",
   "language": "python",
   "name": "python3"
  },
  "language_info": {
   "codemirror_mode": {
    "name": "ipython",
    "version": 3
   },
   "file_extension": ".py",
   "mimetype": "text/x-python",
   "name": "python",
   "nbconvert_exporter": "python",
   "pygments_lexer": "ipython3",
   "version": "3.7.6"
  },
  "papermill": {
   "duration": 1124.544391,
   "end_time": "2020-12-05T15:01:36.361262",
   "environment_variables": {},
   "exception": null,
   "input_path": "__notebook__.ipynb",
   "output_path": "__notebook__.ipynb",
   "parameters": {},
   "start_time": "2020-12-05T14:42:51.816871",
   "version": "2.1.0"
  }
 },
 "nbformat": 4,
 "nbformat_minor": 4
}
