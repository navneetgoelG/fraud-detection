{
 "cells": [
  {
   "cell_type": "markdown",
   "metadata": {
    "papermill": {
     "duration": 0.046366,
     "end_time": "2020-12-04T15:09:40.026434",
     "exception": false,
     "start_time": "2020-12-04T15:09:39.980068",
     "status": "completed"
    },
    "tags": []
   },
   "source": [
    "## MLP Model"
   ]
  },
  {
   "cell_type": "code",
   "execution_count": 1,
   "metadata": {
    "_cell_guid": "79c7e3d0-c299-4dcb-8224-4455121ee9b0",
    "_uuid": "d629ff2d2480ee46fbb7e2d37f6b5fab8052498a",
    "execution": {
     "iopub.execute_input": "2020-12-04T15:09:40.129765Z",
     "iopub.status.busy": "2020-12-04T15:09:40.128977Z",
     "iopub.status.idle": "2020-12-04T15:09:46.069440Z",
     "shell.execute_reply": "2020-12-04T15:09:46.068511Z"
    },
    "papermill": {
     "duration": 5.999928,
     "end_time": "2020-12-04T15:09:46.069581",
     "exception": false,
     "start_time": "2020-12-04T15:09:40.069653",
     "status": "completed"
    },
    "tags": []
   },
   "outputs": [],
   "source": [
    "# importing useful libraries\n",
    "import numpy as np\n",
    "import tensorflow as tf\n",
    "import random as python_random\n",
    "\n",
    "# setting random seed for result reproducibility\n",
    "np.random.seed(1)\n",
    "python_random.seed(12)\n",
    "tf.random.set_seed(123)\n",
    "\n",
    "from tensorflow.keras.models import Sequential\n",
    "from tensorflow.keras.layers import Dense, Dropout\n",
    "from tensorflow.keras.optimizers import Adam\n",
    "from tensorflow.keras.metrics import Metric, AUC\n",
    "from keras.wrappers.scikit_learn import KerasClassifier\n",
    "\n",
    "import pandas as pd\n",
    "import matplotlib.pyplot as plt\n",
    "import seaborn as sns\n",
    "\n",
    "from sklearn.model_selection import StratifiedKFold, cross_validate, train_test_split\n",
    "from sklearn.preprocessing import StandardScaler\n",
    "from sklearn.metrics import f1_score\n",
    "from sklearn.feature_selection import RFECV\n",
    "from sklearn.pipeline import Pipeline\n",
    "from sklearn.base import BaseEstimator, TransformerMixin\n",
    "\n",
    "from tensorflow.keras.models import Sequential\n",
    "from tensorflow.keras.layers import Dense, Dropout\n",
    "from tensorflow.keras.callbacks import EarlyStopping\n",
    "\n",
    "import warnings\n",
    "warnings.filterwarnings('ignore')\n",
    "\n",
    "%matplotlib inline"
   ]
  },
  {
   "cell_type": "code",
   "execution_count": 2,
   "metadata": {
    "execution": {
     "iopub.execute_input": "2020-12-04T15:09:46.204885Z",
     "iopub.status.busy": "2020-12-04T15:09:46.204061Z",
     "iopub.status.idle": "2020-12-04T15:09:49.621675Z",
     "shell.execute_reply": "2020-12-04T15:09:49.622351Z"
    },
    "papermill": {
     "duration": 3.490735,
     "end_time": "2020-12-04T15:09:49.622500",
     "exception": false,
     "start_time": "2020-12-04T15:09:46.131765",
     "status": "completed"
    },
    "tags": []
   },
   "outputs": [
    {
     "name": "stdout",
     "output_type": "stream",
     "text": [
      "(284807, 31)\n"
     ]
    },
    {
     "data": {
      "text/html": [
       "<div>\n",
       "<style scoped>\n",
       "    .dataframe tbody tr th:only-of-type {\n",
       "        vertical-align: middle;\n",
       "    }\n",
       "\n",
       "    .dataframe tbody tr th {\n",
       "        vertical-align: top;\n",
       "    }\n",
       "\n",
       "    .dataframe thead th {\n",
       "        text-align: right;\n",
       "    }\n",
       "</style>\n",
       "<table border=\"1\" class=\"dataframe\">\n",
       "  <thead>\n",
       "    <tr style=\"text-align: right;\">\n",
       "      <th></th>\n",
       "      <th>Time</th>\n",
       "      <th>V1</th>\n",
       "      <th>V2</th>\n",
       "      <th>V3</th>\n",
       "      <th>V4</th>\n",
       "      <th>V5</th>\n",
       "      <th>V6</th>\n",
       "      <th>V7</th>\n",
       "      <th>V8</th>\n",
       "      <th>V9</th>\n",
       "      <th>...</th>\n",
       "      <th>V21</th>\n",
       "      <th>V22</th>\n",
       "      <th>V23</th>\n",
       "      <th>V24</th>\n",
       "      <th>V25</th>\n",
       "      <th>V26</th>\n",
       "      <th>V27</th>\n",
       "      <th>V28</th>\n",
       "      <th>Amount</th>\n",
       "      <th>Class</th>\n",
       "    </tr>\n",
       "  </thead>\n",
       "  <tbody>\n",
       "    <tr>\n",
       "      <th>0</th>\n",
       "      <td>0.0</td>\n",
       "      <td>-1.359807</td>\n",
       "      <td>-0.072781</td>\n",
       "      <td>2.536347</td>\n",
       "      <td>1.378155</td>\n",
       "      <td>-0.338321</td>\n",
       "      <td>0.462388</td>\n",
       "      <td>0.239599</td>\n",
       "      <td>0.098698</td>\n",
       "      <td>0.363787</td>\n",
       "      <td>...</td>\n",
       "      <td>-0.018307</td>\n",
       "      <td>0.277838</td>\n",
       "      <td>-0.110474</td>\n",
       "      <td>0.066928</td>\n",
       "      <td>0.128539</td>\n",
       "      <td>-0.189115</td>\n",
       "      <td>0.133558</td>\n",
       "      <td>-0.021053</td>\n",
       "      <td>149.62</td>\n",
       "      <td>0</td>\n",
       "    </tr>\n",
       "    <tr>\n",
       "      <th>1</th>\n",
       "      <td>0.0</td>\n",
       "      <td>1.191857</td>\n",
       "      <td>0.266151</td>\n",
       "      <td>0.166480</td>\n",
       "      <td>0.448154</td>\n",
       "      <td>0.060018</td>\n",
       "      <td>-0.082361</td>\n",
       "      <td>-0.078803</td>\n",
       "      <td>0.085102</td>\n",
       "      <td>-0.255425</td>\n",
       "      <td>...</td>\n",
       "      <td>-0.225775</td>\n",
       "      <td>-0.638672</td>\n",
       "      <td>0.101288</td>\n",
       "      <td>-0.339846</td>\n",
       "      <td>0.167170</td>\n",
       "      <td>0.125895</td>\n",
       "      <td>-0.008983</td>\n",
       "      <td>0.014724</td>\n",
       "      <td>2.69</td>\n",
       "      <td>0</td>\n",
       "    </tr>\n",
       "    <tr>\n",
       "      <th>2</th>\n",
       "      <td>1.0</td>\n",
       "      <td>-1.358354</td>\n",
       "      <td>-1.340163</td>\n",
       "      <td>1.773209</td>\n",
       "      <td>0.379780</td>\n",
       "      <td>-0.503198</td>\n",
       "      <td>1.800499</td>\n",
       "      <td>0.791461</td>\n",
       "      <td>0.247676</td>\n",
       "      <td>-1.514654</td>\n",
       "      <td>...</td>\n",
       "      <td>0.247998</td>\n",
       "      <td>0.771679</td>\n",
       "      <td>0.909412</td>\n",
       "      <td>-0.689281</td>\n",
       "      <td>-0.327642</td>\n",
       "      <td>-0.139097</td>\n",
       "      <td>-0.055353</td>\n",
       "      <td>-0.059752</td>\n",
       "      <td>378.66</td>\n",
       "      <td>0</td>\n",
       "    </tr>\n",
       "    <tr>\n",
       "      <th>3</th>\n",
       "      <td>1.0</td>\n",
       "      <td>-0.966272</td>\n",
       "      <td>-0.185226</td>\n",
       "      <td>1.792993</td>\n",
       "      <td>-0.863291</td>\n",
       "      <td>-0.010309</td>\n",
       "      <td>1.247203</td>\n",
       "      <td>0.237609</td>\n",
       "      <td>0.377436</td>\n",
       "      <td>-1.387024</td>\n",
       "      <td>...</td>\n",
       "      <td>-0.108300</td>\n",
       "      <td>0.005274</td>\n",
       "      <td>-0.190321</td>\n",
       "      <td>-1.175575</td>\n",
       "      <td>0.647376</td>\n",
       "      <td>-0.221929</td>\n",
       "      <td>0.062723</td>\n",
       "      <td>0.061458</td>\n",
       "      <td>123.50</td>\n",
       "      <td>0</td>\n",
       "    </tr>\n",
       "    <tr>\n",
       "      <th>4</th>\n",
       "      <td>2.0</td>\n",
       "      <td>-1.158233</td>\n",
       "      <td>0.877737</td>\n",
       "      <td>1.548718</td>\n",
       "      <td>0.403034</td>\n",
       "      <td>-0.407193</td>\n",
       "      <td>0.095921</td>\n",
       "      <td>0.592941</td>\n",
       "      <td>-0.270533</td>\n",
       "      <td>0.817739</td>\n",
       "      <td>...</td>\n",
       "      <td>-0.009431</td>\n",
       "      <td>0.798278</td>\n",
       "      <td>-0.137458</td>\n",
       "      <td>0.141267</td>\n",
       "      <td>-0.206010</td>\n",
       "      <td>0.502292</td>\n",
       "      <td>0.219422</td>\n",
       "      <td>0.215153</td>\n",
       "      <td>69.99</td>\n",
       "      <td>0</td>\n",
       "    </tr>\n",
       "  </tbody>\n",
       "</table>\n",
       "<p>5 rows × 31 columns</p>\n",
       "</div>"
      ],
      "text/plain": [
       "   Time        V1        V2        V3        V4        V5        V6        V7  \\\n",
       "0   0.0 -1.359807 -0.072781  2.536347  1.378155 -0.338321  0.462388  0.239599   \n",
       "1   0.0  1.191857  0.266151  0.166480  0.448154  0.060018 -0.082361 -0.078803   \n",
       "2   1.0 -1.358354 -1.340163  1.773209  0.379780 -0.503198  1.800499  0.791461   \n",
       "3   1.0 -0.966272 -0.185226  1.792993 -0.863291 -0.010309  1.247203  0.237609   \n",
       "4   2.0 -1.158233  0.877737  1.548718  0.403034 -0.407193  0.095921  0.592941   \n",
       "\n",
       "         V8        V9  ...       V21       V22       V23       V24       V25  \\\n",
       "0  0.098698  0.363787  ... -0.018307  0.277838 -0.110474  0.066928  0.128539   \n",
       "1  0.085102 -0.255425  ... -0.225775 -0.638672  0.101288 -0.339846  0.167170   \n",
       "2  0.247676 -1.514654  ...  0.247998  0.771679  0.909412 -0.689281 -0.327642   \n",
       "3  0.377436 -1.387024  ... -0.108300  0.005274 -0.190321 -1.175575  0.647376   \n",
       "4 -0.270533  0.817739  ... -0.009431  0.798278 -0.137458  0.141267 -0.206010   \n",
       "\n",
       "        V26       V27       V28  Amount  Class  \n",
       "0 -0.189115  0.133558 -0.021053  149.62      0  \n",
       "1  0.125895 -0.008983  0.014724    2.69      0  \n",
       "2 -0.139097 -0.055353 -0.059752  378.66      0  \n",
       "3 -0.221929  0.062723  0.061458  123.50      0  \n",
       "4  0.502292  0.219422  0.215153   69.99      0  \n",
       "\n",
       "[5 rows x 31 columns]"
      ]
     },
     "execution_count": 2,
     "metadata": {},
     "output_type": "execute_result"
    }
   ],
   "source": [
    "# loading in the dataset\n",
    "df = pd.read_csv('../input/creditcardfraud/creditcard.csv')\n",
    "print(df.shape)\n",
    "df.head()"
   ]
  },
  {
   "cell_type": "code",
   "execution_count": 3,
   "metadata": {
    "execution": {
     "iopub.execute_input": "2020-12-04T15:09:49.730059Z",
     "iopub.status.busy": "2020-12-04T15:09:49.728429Z",
     "iopub.status.idle": "2020-12-04T15:09:49.731062Z",
     "shell.execute_reply": "2020-12-04T15:09:49.731565Z"
    },
    "papermill": {
     "duration": 0.062648,
     "end_time": "2020-12-04T15:09:49.731691",
     "exception": false,
     "start_time": "2020-12-04T15:09:49.669043",
     "status": "completed"
    },
    "tags": []
   },
   "outputs": [],
   "source": [
    "# selecting the 19 most important features according to our EDA \n",
    "X = df[['V1', 'V2', 'V3', 'V4', 'V5', 'V6', 'V7', 'V8', 'V9', 'V10', 'V11', 'V12', 'V13', 'V14', \\\n",
    "        'V16', 'V17', 'V21', 'V23', 'V27']]\n",
    "\n",
    "y = df['Class'] # selecting the target variable"
   ]
  },
  {
   "cell_type": "code",
   "execution_count": 4,
   "metadata": {
    "execution": {
     "iopub.execute_input": "2020-12-04T15:09:49.825045Z",
     "iopub.status.busy": "2020-12-04T15:09:49.824260Z",
     "iopub.status.idle": "2020-12-04T15:09:49.850038Z",
     "shell.execute_reply": "2020-12-04T15:09:49.849132Z"
    },
    "papermill": {
     "duration": 0.074197,
     "end_time": "2020-12-04T15:09:49.850167",
     "exception": false,
     "start_time": "2020-12-04T15:09:49.775970",
     "status": "completed"
    },
    "tags": []
   },
   "outputs": [
    {
     "data": {
      "text/plain": [
       "{0: 3.51722561243691e-06, 1: 0.0020325203252032522}"
      ]
     },
     "execution_count": 4,
     "metadata": {},
     "output_type": "execute_result"
    }
   ],
   "source": [
    "val_count = df['Class'].value_counts()\n",
    "weights = dict(1 / val_count) # to be used as class weights\n",
    "weights"
   ]
  },
  {
   "cell_type": "markdown",
   "metadata": {
    "papermill": {
     "duration": 0.044465,
     "end_time": "2020-12-04T15:09:49.939693",
     "exception": false,
     "start_time": "2020-12-04T15:09:49.895228",
     "status": "completed"
    },
    "tags": []
   },
   "source": [
    "### Not using class weight performed better than using class weight for the neural network. So, we WOULDN'T use class weight for our neural network. "
   ]
  },
  {
   "cell_type": "markdown",
   "metadata": {
    "papermill": {
     "duration": 0.044374,
     "end_time": "2020-12-04T15:09:50.031011",
     "exception": false,
     "start_time": "2020-12-04T15:09:49.986637",
     "status": "completed"
    },
    "tags": []
   },
   "source": [
    "## <center>Cost matrix for fraud detection</center>\n",
    "\n",
    "||Actual Positive|Actual Negative|\n",
    "|:-:|:-:|:-:|\n",
    "|**Predicted Positive**|administrative cost|administrative cost|\n",
    "|**Predicted Negative**|transactional cost|0|"
   ]
  },
  {
   "cell_type": "markdown",
   "metadata": {
    "papermill": {
     "duration": 0.044996,
     "end_time": "2020-12-04T15:09:50.120493",
     "exception": false,
     "start_time": "2020-12-04T15:09:50.075497",
     "status": "completed"
    },
    "tags": []
   },
   "source": [
    "### *see [this article](https://towardsdatascience.com/fraud-detection-with-cost-sensitive-machine-learning-24b8760d35d9) for more about cost sensitive machine learning for fraud detection*"
   ]
  },
  {
   "cell_type": "code",
   "execution_count": 5,
   "metadata": {
    "execution": {
     "iopub.execute_input": "2020-12-04T15:09:50.216208Z",
     "iopub.status.busy": "2020-12-04T15:09:50.215449Z",
     "iopub.status.idle": "2020-12-04T15:09:50.218287Z",
     "shell.execute_reply": "2020-12-04T15:09:50.217770Z"
    },
    "papermill": {
     "duration": 0.05287,
     "end_time": "2020-12-04T15:09:50.218392",
     "exception": false,
     "start_time": "2020-12-04T15:09:50.165522",
     "status": "completed"
    },
    "tags": []
   },
   "outputs": [],
   "source": [
    "admin_cost = 2.5"
   ]
  },
  {
   "cell_type": "markdown",
   "metadata": {
    "papermill": {
     "duration": 0.044422,
     "end_time": "2020-12-04T15:09:50.307863",
     "exception": false,
     "start_time": "2020-12-04T15:09:50.263441",
     "status": "completed"
    },
    "tags": []
   },
   "source": [
    "### our choice of using 2.5euros as the administartive cost because it seems to be the best for our problem as suggested by [this paper](https://www.researchgate.net/publication/262390835_Cost_Sensitive_Credit_Card_Fraud_Detection_Using_Bayes_Minimum_Risk)"
   ]
  },
  {
   "cell_type": "markdown",
   "metadata": {
    "papermill": {
     "duration": 0.044594,
     "end_time": "2020-12-04T15:09:50.397186",
     "exception": false,
     "start_time": "2020-12-04T15:09:50.352592",
     "status": "completed"
    },
    "tags": []
   },
   "source": [
    "## Also, implementing cost sensitive models for sklearn's classifier is challenging. It is as good as creating a new model from the scratch. For simplicity, we will not penalize our model of True Positives (although, the cost matrix suggests we should penalize it for true positives). This will mean that we are only penalizing MISCLASSIFICATIONS (trying to minimize costs due to misclassification and not cost in general)."
   ]
  },
  {
   "cell_type": "code",
   "execution_count": 6,
   "metadata": {
    "execution": {
     "iopub.execute_input": "2020-12-04T15:09:50.491000Z",
     "iopub.status.busy": "2020-12-04T15:09:50.490410Z",
     "iopub.status.idle": "2020-12-04T15:09:50.494637Z",
     "shell.execute_reply": "2020-12-04T15:09:50.494166Z"
    },
    "papermill": {
     "duration": 0.053009,
     "end_time": "2020-12-04T15:09:50.494745",
     "exception": false,
     "start_time": "2020-12-04T15:09:50.441736",
     "status": "completed"
    },
    "tags": []
   },
   "outputs": [],
   "source": [
    "cv = StratifiedKFold(n_splits=4, shuffle=True, random_state=1)"
   ]
  },
  {
   "cell_type": "code",
   "execution_count": 7,
   "metadata": {
    "execution": {
     "iopub.execute_input": "2020-12-04T15:09:50.593660Z",
     "iopub.status.busy": "2020-12-04T15:09:50.591828Z",
     "iopub.status.idle": "2020-12-04T15:09:50.594315Z",
     "shell.execute_reply": "2020-12-04T15:09:50.594787Z"
    },
    "papermill": {
     "duration": 0.055599,
     "end_time": "2020-12-04T15:09:50.594903",
     "exception": false,
     "start_time": "2020-12-04T15:09:50.539304",
     "status": "completed"
    },
    "tags": []
   },
   "outputs": [],
   "source": [
    "# defining a function to calculate cost savings\n",
    "def cost_saving(ytrue, ypred, amount, threshold=0.5):\n",
    "    ypred = ypred.flatten()\n",
    "    fp = np.sum((ytrue == 0) & (ypred == 1))\n",
    "    cost = np.sum(fp*admin_cost) + np.sum((amount[(ytrue == 1) & (ypred == 0)]))\n",
    "    max_cost = np.sum((amount[(ytrue == 1)]))\n",
    "    savings = 1 - (cost/max_cost)\n",
    "    \n",
    "    return savings"
   ]
  },
  {
   "cell_type": "code",
   "execution_count": 8,
   "metadata": {
    "execution": {
     "iopub.execute_input": "2020-12-04T15:09:50.694362Z",
     "iopub.status.busy": "2020-12-04T15:09:50.693678Z",
     "iopub.status.idle": "2020-12-04T15:09:50.697880Z",
     "shell.execute_reply": "2020-12-04T15:09:50.697349Z"
    },
    "papermill": {
     "duration": 0.057531,
     "end_time": "2020-12-04T15:09:50.698025",
     "exception": false,
     "start_time": "2020-12-04T15:09:50.640494",
     "status": "completed"
    },
    "tags": []
   },
   "outputs": [],
   "source": [
    "# defining a function to calculate cost saving per fold (splits) of our cv\n",
    "def cost_saving_per_split(scores, x, y, cv_object):\n",
    "    results = []\n",
    "    for i, (_, test_ind) in zip(range(cv_object.n_splits), cv_object.split(x, y)):\n",
    "        ypred = scores['estimator'][i].predict(x[test_ind])\n",
    "        ytrue = y[test_ind]\n",
    "        amount = df['Amount'].values[test_ind]\n",
    "        results.append(cost_saving(ytrue, ypred, amount))\n",
    "        \n",
    "    return results"
   ]
  },
  {
   "cell_type": "code",
   "execution_count": 9,
   "metadata": {
    "execution": {
     "iopub.execute_input": "2020-12-04T15:09:50.797639Z",
     "iopub.status.busy": "2020-12-04T15:09:50.795824Z",
     "iopub.status.idle": "2020-12-04T15:09:50.798305Z",
     "shell.execute_reply": "2020-12-04T15:09:50.798767Z"
    },
    "papermill": {
     "duration": 0.055414,
     "end_time": "2020-12-04T15:09:50.798881",
     "exception": false,
     "start_time": "2020-12-04T15:09:50.743467",
     "status": "completed"
    },
    "tags": []
   },
   "outputs": [],
   "source": [
    "# defining a function to return a dataframe of metrics results for each fold in our cv\n",
    "def get_metric_scores(scores, x, y=y, cv_object=cv):\n",
    "    ind = ['split_'+str(n) for n in range(1, cv_object.n_splits+1)]\n",
    "    \n",
    "    scores_df = pd.DataFrame(index=ind)\n",
    "    \n",
    "    scores_df['f1_score'] = scores['test_f1']\n",
    "    scores_df['auc_pr'] = scores['test_average_precision']\n",
    "    scores_df['cost_savings'] = cost_saving_per_split(scores, x, y, cv_object)\n",
    "\n",
    "    return scores_df"
   ]
  },
  {
   "cell_type": "markdown",
   "metadata": {
    "papermill": {
     "duration": 0.046924,
     "end_time": "2020-12-04T15:09:50.900565",
     "exception": false,
     "start_time": "2020-12-04T15:09:50.853641",
     "status": "completed"
    },
    "tags": []
   },
   "source": [
    "## Fraud Sensitive model (Not cost sensitive)"
   ]
  },
  {
   "cell_type": "code",
   "execution_count": 10,
   "metadata": {
    "execution": {
     "iopub.execute_input": "2020-12-04T15:09:50.996883Z",
     "iopub.status.busy": "2020-12-04T15:09:50.995945Z",
     "iopub.status.idle": "2020-12-04T15:09:51.244141Z",
     "shell.execute_reply": "2020-12-04T15:09:51.243604Z"
    },
    "papermill": {
     "duration": 0.298508,
     "end_time": "2020-12-04T15:09:51.244273",
     "exception": false,
     "start_time": "2020-12-04T15:09:50.945765",
     "status": "completed"
    },
    "tags": []
   },
   "outputs": [],
   "source": [
    "X['Amount'] = df['Amount']\n",
    "X_train, X_test, y_train, y_test = train_test_split(X, y, stratify=y, test_size=0.25, \\\n",
    "                                                    random_state=1)"
   ]
  },
  {
   "cell_type": "code",
   "execution_count": 11,
   "metadata": {
    "execution": {
     "iopub.execute_input": "2020-12-04T15:09:51.342136Z",
     "iopub.status.busy": "2020-12-04T15:09:51.340845Z",
     "iopub.status.idle": "2020-12-04T15:09:51.358707Z",
     "shell.execute_reply": "2020-12-04T15:09:51.358214Z"
    },
    "papermill": {
     "duration": 0.068895,
     "end_time": "2020-12-04T15:09:51.358811",
     "exception": false,
     "start_time": "2020-12-04T15:09:51.289916",
     "status": "completed"
    },
    "tags": []
   },
   "outputs": [],
   "source": [
    "train_amount = X_train.pop('Amount')\n",
    "test_amount = X_test.pop('Amount')"
   ]
  },
  {
   "cell_type": "markdown",
   "metadata": {
    "papermill": {
     "duration": 0.050237,
     "end_time": "2020-12-04T15:09:51.454718",
     "exception": false,
     "start_time": "2020-12-04T15:09:51.404481",
     "status": "completed"
    },
    "tags": []
   },
   "source": [
    "### we will use sample weight to penalize our model accordingly. admin cost for FP and transactional cost (amount) for FN."
   ]
  },
  {
   "cell_type": "code",
   "execution_count": 12,
   "metadata": {
    "execution": {
     "iopub.execute_input": "2020-12-04T15:09:51.555289Z",
     "iopub.status.busy": "2020-12-04T15:09:51.554509Z",
     "iopub.status.idle": "2020-12-04T15:09:51.785281Z",
     "shell.execute_reply": "2020-12-04T15:09:51.784268Z"
    },
    "papermill": {
     "duration": 0.282461,
     "end_time": "2020-12-04T15:09:51.785397",
     "exception": false,
     "start_time": "2020-12-04T15:09:51.502936",
     "status": "completed"
    },
    "tags": []
   },
   "outputs": [],
   "source": [
    "# train_sample_weights to be used for training set of cost sensitive-example dependent model to choose \n",
    "# best number of epoch\n",
    "train_sample_weights = np.array([train_amount[ind] if fraud else admin_cost for ind, fraud in \\\n",
    "                                 y_train.items()])\n",
    "\n",
    "# sample_weights to be used for cross validation of cost sensitive-example dependent model\n",
    "sample_weights = np.array([df['Amount'][ind] if fraud else admin_cost for ind, fraud in enumerate(y)])"
   ]
  },
  {
   "cell_type": "markdown",
   "metadata": {
    "papermill": {
     "duration": 0.046094,
     "end_time": "2020-12-04T15:09:51.878021",
     "exception": false,
     "start_time": "2020-12-04T15:09:51.831927",
     "status": "completed"
    },
    "tags": []
   },
   "source": [
    "### We will **fit** our scaler on only the training set and not the testing set. However, we will use it to transform both training and testing set. This is the standard and will mimic what will happen when our model has been deployed for production.  "
   ]
  },
  {
   "cell_type": "code",
   "execution_count": 13,
   "metadata": {
    "execution": {
     "iopub.execute_input": "2020-12-04T15:09:51.978718Z",
     "iopub.status.busy": "2020-12-04T15:09:51.977658Z",
     "iopub.status.idle": "2020-12-04T15:09:52.073990Z",
     "shell.execute_reply": "2020-12-04T15:09:52.073469Z"
    },
    "papermill": {
     "duration": 0.149705,
     "end_time": "2020-12-04T15:09:52.074099",
     "exception": false,
     "start_time": "2020-12-04T15:09:51.924394",
     "status": "completed"
    },
    "tags": []
   },
   "outputs": [],
   "source": [
    "scaler = StandardScaler()\n",
    "X_train = scaler.fit_transform(X_train)\n",
    "X_test = scaler.transform(X_test)"
   ]
  },
  {
   "cell_type": "markdown",
   "metadata": {
    "papermill": {
     "duration": 0.047416,
     "end_time": "2020-12-04T15:09:52.168178",
     "exception": false,
     "start_time": "2020-12-04T15:09:52.120762",
     "status": "completed"
    },
    "tags": []
   },
   "source": [
    "### confirming that our train test split was stratified."
   ]
  },
  {
   "cell_type": "code",
   "execution_count": 14,
   "metadata": {
    "execution": {
     "iopub.execute_input": "2020-12-04T15:09:52.268280Z",
     "iopub.status.busy": "2020-12-04T15:09:52.267311Z",
     "iopub.status.idle": "2020-12-04T15:09:52.278651Z",
     "shell.execute_reply": "2020-12-04T15:09:52.278179Z"
    },
    "papermill": {
     "duration": 0.062479,
     "end_time": "2020-12-04T15:09:52.278748",
     "exception": false,
     "start_time": "2020-12-04T15:09:52.216269",
     "status": "completed"
    },
    "tags": []
   },
   "outputs": [
    {
     "data": {
      "text/plain": [
       "0    577.875339\n",
       "1      1.000000\n",
       "Name: Class, dtype: float64"
      ]
     },
     "execution_count": 14,
     "metadata": {},
     "output_type": "execute_result"
    }
   ],
   "source": [
    "y_train.value_counts() / y_train.value_counts()[1]"
   ]
  },
  {
   "cell_type": "code",
   "execution_count": 15,
   "metadata": {
    "execution": {
     "iopub.execute_input": "2020-12-04T15:09:52.377476Z",
     "iopub.status.busy": "2020-12-04T15:09:52.376607Z",
     "iopub.status.idle": "2020-12-04T15:09:52.385302Z",
     "shell.execute_reply": "2020-12-04T15:09:52.384668Z"
    },
    "papermill": {
     "duration": 0.059672,
     "end_time": "2020-12-04T15:09:52.385394",
     "exception": false,
     "start_time": "2020-12-04T15:09:52.325722",
     "status": "completed"
    },
    "tags": []
   },
   "outputs": [
    {
     "data": {
      "text/plain": [
       "0    577.878049\n",
       "1      1.000000\n",
       "Name: Class, dtype: float64"
      ]
     },
     "execution_count": 15,
     "metadata": {},
     "output_type": "execute_result"
    }
   ],
   "source": [
    "y_test.value_counts() / y_test.value_counts()[1]"
   ]
  },
  {
   "cell_type": "markdown",
   "metadata": {
    "papermill": {
     "duration": 0.052662,
     "end_time": "2020-12-04T15:09:52.485470",
     "exception": false,
     "start_time": "2020-12-04T15:09:52.432808",
     "status": "completed"
    },
    "tags": []
   },
   "source": [
    "### we will be using the stateful f1score to monitor the training process due to the class imbalance."
   ]
  },
  {
   "cell_type": "code",
   "execution_count": 16,
   "metadata": {
    "execution": {
     "iopub.execute_input": "2020-12-04T15:09:52.586632Z",
     "iopub.status.busy": "2020-12-04T15:09:52.584925Z",
     "iopub.status.idle": "2020-12-04T15:09:52.587288Z",
     "shell.execute_reply": "2020-12-04T15:09:52.587806Z"
    },
    "papermill": {
     "duration": 0.054587,
     "end_time": "2020-12-04T15:09:52.587934",
     "exception": false,
     "start_time": "2020-12-04T15:09:52.533347",
     "status": "completed"
    },
    "tags": []
   },
   "outputs": [],
   "source": [
    "threshold = 0.5"
   ]
  },
  {
   "cell_type": "code",
   "execution_count": 17,
   "metadata": {
    "execution": {
     "iopub.execute_input": "2020-12-04T15:09:52.702269Z",
     "iopub.status.busy": "2020-12-04T15:09:52.701288Z",
     "iopub.status.idle": "2020-12-04T15:09:52.704130Z",
     "shell.execute_reply": "2020-12-04T15:09:52.703557Z"
    },
    "papermill": {
     "duration": 0.067688,
     "end_time": "2020-12-04T15:09:52.704245",
     "exception": false,
     "start_time": "2020-12-04T15:09:52.636557",
     "status": "completed"
    },
    "tags": []
   },
   "outputs": [],
   "source": [
    "class StatefulBinaryFBeta(Metric):\n",
    "    def __init__(self, name='stateful_binary_fbeta', beta=1, threshold=threshold, \\\n",
    "                 epsilon=1e-7, **kwargs):\n",
    "        # initializing an object of the super class\n",
    "        super(StatefulBinaryFBeta, self).__init__(name=name, **kwargs)\n",
    "\n",
    "        # initializing state variables\n",
    "        self.tp = self.add_weight(name='tp', initializer='zeros') # initializing true positives \n",
    "        \n",
    "        # initializing actual positives\n",
    "        self.actual_positive = self.add_weight(name='fp', initializer='zeros') \n",
    "        \n",
    "        # initializing predicted positives\n",
    "        self.predicted_positive = self.add_weight(name='fn', initializer='zeros') \n",
    "\n",
    "        # initializing other atrributes that wouldn't be changed for every object of this class\n",
    "        self.beta_squared = beta**2 \n",
    "        self.threshold = threshold\n",
    "        self.epsilon = epsilon\n",
    "\n",
    "    def update_state(self, ytrue, ypred, sample_weight=None):\n",
    "        # casting ytrue and ypred as float dtype\n",
    "        ytrue = tf.cast(ytrue, tf.float32)\n",
    "        ypred = tf.cast(ypred, tf.float32)\n",
    "\n",
    "        # setting values of ypred greater than the set threshold to 1 while those lesser to 0\n",
    "        ypred = tf.cast(tf.greater_equal(ypred, tf.constant(self.threshold)), tf.float32)\n",
    "        \n",
    "        self.tp.assign_add(tf.reduce_sum(ytrue*ypred)) # updating true positives \n",
    "        self.predicted_positive.assign_add(tf.reduce_sum(ypred)) # updating predicted positive \n",
    "        self.actual_positive.assign_add(tf.reduce_sum(ytrue)) # updating actual positive \n",
    "    \n",
    "    def result(self):\n",
    "        self.precision = self.tp/(self.predicted_positive+self.epsilon) # calculates precision\n",
    "        self.recall = self.tp/(self.actual_positive+self.epsilon) # calculates recall\n",
    "\n",
    "        # calculating fbeta\n",
    "        self.fb = (1+self.beta_squared)*self.precision*self.recall / (\\\n",
    "                                    self.beta_squared*self.precision + self.recall + self.epsilon)\n",
    "    \n",
    "        return self.fb\n",
    "\n",
    "    def reset_states(self):\n",
    "        self.tp.assign(0) # resets true positives to zero\n",
    "        self.predicted_positive.assign(0) # resets predicted positives to zero\n",
    "        self.actual_positive.assign(0) # resets actual positives to zero"
   ]
  },
  {
   "cell_type": "code",
   "execution_count": 18,
   "metadata": {
    "execution": {
     "iopub.execute_input": "2020-12-04T15:09:52.804804Z",
     "iopub.status.busy": "2020-12-04T15:09:52.804131Z",
     "iopub.status.idle": "2020-12-04T15:09:52.808821Z",
     "shell.execute_reply": "2020-12-04T15:09:52.808222Z"
    },
    "papermill": {
     "duration": 0.056254,
     "end_time": "2020-12-04T15:09:52.808919",
     "exception": false,
     "start_time": "2020-12-04T15:09:52.752665",
     "status": "completed"
    },
    "tags": []
   },
   "outputs": [],
   "source": [
    "stopper = EarlyStopping(monitor='val_stateful_binary_fbeta', patience=10, mode='max',\n",
    "    restore_best_weights=True)"
   ]
  },
  {
   "cell_type": "markdown",
   "metadata": {
    "papermill": {
     "duration": 0.047745,
     "end_time": "2020-12-04T15:09:52.904882",
     "exception": false,
     "start_time": "2020-12-04T15:09:52.857137",
     "status": "completed"
    },
    "tags": []
   },
   "source": [
    "### we will initialize the output bias to reduce the number of epochs required to reach the best result. The value is obtained by the formula: $$b_{0} = log(pos/neg)$$\n",
    "### See more about initial bias [here](http://karpathy.github.io/2019/04/25/recipe/#2-set-up-the-end-to-end-trainingevaluation-skeleton--get-dumb-baselines) on how to *initialize well*."
   ]
  },
  {
   "cell_type": "code",
   "execution_count": 19,
   "metadata": {
    "execution": {
     "iopub.execute_input": "2020-12-04T15:09:53.007480Z",
     "iopub.status.busy": "2020-12-04T15:09:53.006498Z",
     "iopub.status.idle": "2020-12-04T15:09:53.014259Z",
     "shell.execute_reply": "2020-12-04T15:09:53.014730Z"
    },
    "papermill": {
     "duration": 0.061345,
     "end_time": "2020-12-04T15:09:53.014846",
     "exception": false,
     "start_time": "2020-12-04T15:09:52.953501",
     "status": "completed"
    },
    "tags": []
   },
   "outputs": [
    {
     "name": "stdout",
     "output_type": "stream",
     "text": [
      "284315 492\n"
     ]
    },
    {
     "data": {
      "text/plain": [
       "array([-6.35935934])"
      ]
     },
     "execution_count": 19,
     "metadata": {},
     "output_type": "execute_result"
    }
   ],
   "source": [
    "neg, pos = np.bincount(y)\n",
    "print(neg, pos)\n",
    "initial_bias = np.log([pos/neg])\n",
    "initial_bias"
   ]
  },
  {
   "cell_type": "code",
   "execution_count": 20,
   "metadata": {
    "execution": {
     "iopub.execute_input": "2020-12-04T15:09:53.119526Z",
     "iopub.status.busy": "2020-12-04T15:09:53.118819Z",
     "iopub.status.idle": "2020-12-04T15:09:53.122671Z",
     "shell.execute_reply": "2020-12-04T15:09:53.122203Z"
    },
    "papermill": {
     "duration": 0.059163,
     "end_time": "2020-12-04T15:09:53.122765",
     "exception": false,
     "start_time": "2020-12-04T15:09:53.063602",
     "status": "completed"
    },
    "tags": []
   },
   "outputs": [],
   "source": [
    "def build_model():\n",
    "    model = Sequential()\n",
    "\n",
    "    model.add(Dense(16, kernel_initializer='uniform', activation='relu'))\n",
    "    \n",
    "    model.add(Dropout(0.2))\n",
    "    \n",
    "    output_bias = tf.keras.initializers.Constant(initial_bias) \n",
    "    \n",
    "    model.add(Dense(1, activation='sigmoid', bias_initializer=output_bias))\n",
    "    \n",
    "    binary_fbeta = StatefulBinaryFBeta()\n",
    "    \n",
    "    # compling model\n",
    "    model.compile(loss='binary_crossentropy', metrics=[binary_fbeta], optimizer='adam')\n",
    "    \n",
    "    return model"
   ]
  },
  {
   "cell_type": "code",
   "execution_count": 21,
   "metadata": {
    "execution": {
     "iopub.execute_input": "2020-12-04T15:09:53.240405Z",
     "iopub.status.busy": "2020-12-04T15:09:53.239476Z",
     "iopub.status.idle": "2020-12-04T15:09:53.415987Z",
     "shell.execute_reply": "2020-12-04T15:09:53.416513Z"
    },
    "papermill": {
     "duration": 0.244243,
     "end_time": "2020-12-04T15:09:53.416651",
     "exception": false,
     "start_time": "2020-12-04T15:09:53.172408",
     "status": "completed"
    },
    "tags": []
   },
   "outputs": [
    {
     "data": {
      "text/html": [
       "<div>\n",
       "<style scoped>\n",
       "    .dataframe tbody tr th:only-of-type {\n",
       "        vertical-align: middle;\n",
       "    }\n",
       "\n",
       "    .dataframe tbody tr th {\n",
       "        vertical-align: top;\n",
       "    }\n",
       "\n",
       "    .dataframe thead th {\n",
       "        text-align: right;\n",
       "    }\n",
       "</style>\n",
       "<table border=\"1\" class=\"dataframe\">\n",
       "  <thead>\n",
       "    <tr style=\"text-align: right;\">\n",
       "      <th></th>\n",
       "      <th>0</th>\n",
       "      <th>1</th>\n",
       "      <th>2</th>\n",
       "      <th>3</th>\n",
       "      <th>4</th>\n",
       "      <th>5</th>\n",
       "      <th>6</th>\n",
       "      <th>7</th>\n",
       "      <th>8</th>\n",
       "      <th>9</th>\n",
       "      <th>10</th>\n",
       "      <th>11</th>\n",
       "      <th>12</th>\n",
       "      <th>13</th>\n",
       "      <th>14</th>\n",
       "      <th>15</th>\n",
       "      <th>16</th>\n",
       "      <th>17</th>\n",
       "      <th>18</th>\n",
       "    </tr>\n",
       "  </thead>\n",
       "  <tbody>\n",
       "    <tr>\n",
       "      <th>count</th>\n",
       "      <td>2.136050e+05</td>\n",
       "      <td>2.136050e+05</td>\n",
       "      <td>2.136050e+05</td>\n",
       "      <td>2.136050e+05</td>\n",
       "      <td>2.136050e+05</td>\n",
       "      <td>2.136050e+05</td>\n",
       "      <td>2.136050e+05</td>\n",
       "      <td>2.136050e+05</td>\n",
       "      <td>2.136050e+05</td>\n",
       "      <td>2.136050e+05</td>\n",
       "      <td>2.136050e+05</td>\n",
       "      <td>2.136050e+05</td>\n",
       "      <td>2.136050e+05</td>\n",
       "      <td>2.136050e+05</td>\n",
       "      <td>2.136050e+05</td>\n",
       "      <td>2.136050e+05</td>\n",
       "      <td>2.136050e+05</td>\n",
       "      <td>2.136050e+05</td>\n",
       "      <td>2.136050e+05</td>\n",
       "    </tr>\n",
       "    <tr>\n",
       "      <th>mean</th>\n",
       "      <td>-5.940957e-17</td>\n",
       "      <td>3.308696e-18</td>\n",
       "      <td>6.897645e-17</td>\n",
       "      <td>1.529951e-17</td>\n",
       "      <td>3.043342e-17</td>\n",
       "      <td>-1.889232e-17</td>\n",
       "      <td>-8.010986e-18</td>\n",
       "      <td>1.612683e-17</td>\n",
       "      <td>-3.156265e-17</td>\n",
       "      <td>8.410808e-18</td>\n",
       "      <td>4.604459e-17</td>\n",
       "      <td>-2.154905e-17</td>\n",
       "      <td>-2.229789e-17</td>\n",
       "      <td>8.875079e-18</td>\n",
       "      <td>2.818268e-17</td>\n",
       "      <td>-3.487947e-17</td>\n",
       "      <td>2.396591e-17</td>\n",
       "      <td>1.572363e-17</td>\n",
       "      <td>2.766176e-17</td>\n",
       "    </tr>\n",
       "    <tr>\n",
       "      <th>std</th>\n",
       "      <td>1.000002e+00</td>\n",
       "      <td>1.000002e+00</td>\n",
       "      <td>1.000002e+00</td>\n",
       "      <td>1.000002e+00</td>\n",
       "      <td>1.000002e+00</td>\n",
       "      <td>1.000002e+00</td>\n",
       "      <td>1.000002e+00</td>\n",
       "      <td>1.000002e+00</td>\n",
       "      <td>1.000002e+00</td>\n",
       "      <td>1.000002e+00</td>\n",
       "      <td>1.000002e+00</td>\n",
       "      <td>1.000002e+00</td>\n",
       "      <td>1.000002e+00</td>\n",
       "      <td>1.000002e+00</td>\n",
       "      <td>1.000002e+00</td>\n",
       "      <td>1.000002e+00</td>\n",
       "      <td>1.000002e+00</td>\n",
       "      <td>1.000002e+00</td>\n",
       "      <td>1.000002e+00</td>\n",
       "    </tr>\n",
       "    <tr>\n",
       "      <th>min</th>\n",
       "      <td>-2.894088e+01</td>\n",
       "      <td>-4.456820e+01</td>\n",
       "      <td>-3.193523e+01</td>\n",
       "      <td>-4.014707e+00</td>\n",
       "      <td>-8.223626e+01</td>\n",
       "      <td>-1.960776e+01</td>\n",
       "      <td>-3.506962e+01</td>\n",
       "      <td>-6.075432e+01</td>\n",
       "      <td>-1.225143e+01</td>\n",
       "      <td>-2.270814e+01</td>\n",
       "      <td>-4.700114e+00</td>\n",
       "      <td>-1.843830e+01</td>\n",
       "      <td>-5.809749e+00</td>\n",
       "      <td>-2.008829e+01</td>\n",
       "      <td>-1.611236e+01</td>\n",
       "      <td>-2.979875e+01</td>\n",
       "      <td>-4.736572e+01</td>\n",
       "      <td>-5.929492e+01</td>\n",
       "      <td>-5.589815e+01</td>\n",
       "    </tr>\n",
       "    <tr>\n",
       "      <th>25%</th>\n",
       "      <td>-4.733905e-01</td>\n",
       "      <td>-3.681522e-01</td>\n",
       "      <td>-5.882749e-01</td>\n",
       "      <td>-5.987030e-01</td>\n",
       "      <td>-4.994077e-01</td>\n",
       "      <td>-5.759849e-01</td>\n",
       "      <td>-4.468419e-01</td>\n",
       "      <td>-1.724718e-01</td>\n",
       "      <td>-5.861799e-01</td>\n",
       "      <td>-4.937656e-01</td>\n",
       "      <td>-7.465216e-01</td>\n",
       "      <td>-4.057765e-01</td>\n",
       "      <td>-6.514172e-01</td>\n",
       "      <td>-4.450402e-01</td>\n",
       "      <td>-5.358654e-01</td>\n",
       "      <td>-5.740300e-01</td>\n",
       "      <td>-3.095466e-01</td>\n",
       "      <td>-2.634583e-01</td>\n",
       "      <td>-1.751815e-01</td>\n",
       "    </tr>\n",
       "    <tr>\n",
       "      <th>50%</th>\n",
       "      <td>8.788754e-03</td>\n",
       "      <td>3.926317e-02</td>\n",
       "      <td>1.176945e-01</td>\n",
       "      <td>-1.491895e-02</td>\n",
       "      <td>-3.816713e-02</td>\n",
       "      <td>-2.054283e-01</td>\n",
       "      <td>3.156398e-02</td>\n",
       "      <td>1.888879e-02</td>\n",
       "      <td>-4.746015e-02</td>\n",
       "      <td>-8.456047e-02</td>\n",
       "      <td>-3.187601e-02</td>\n",
       "      <td>1.423529e-01</td>\n",
       "      <td>-1.443718e-02</td>\n",
       "      <td>5.154903e-02</td>\n",
       "      <td>7.556603e-02</td>\n",
       "      <td>-7.917477e-02</td>\n",
       "      <td>-3.955578e-02</td>\n",
       "      <td>-1.960514e-02</td>\n",
       "      <td>3.687607e-03</td>\n",
       "    </tr>\n",
       "    <tr>\n",
       "      <th>75%</th>\n",
       "      <td>6.738880e-01</td>\n",
       "      <td>4.913846e-01</td>\n",
       "      <td>6.773872e-01</td>\n",
       "      <td>5.247305e-01</td>\n",
       "      <td>4.434481e-01</td>\n",
       "      <td>2.984683e-01</td>\n",
       "      <td>4.577876e-01</td>\n",
       "      <td>2.719350e-01</td>\n",
       "      <td>5.433963e-01</td>\n",
       "      <td>4.211409e-01</td>\n",
       "      <td>7.255326e-01</td>\n",
       "      <td>6.187009e-01</td>\n",
       "      <td>6.665734e-01</td>\n",
       "      <td>5.149620e-01</td>\n",
       "      <td>5.966500e-01</td>\n",
       "      <td>4.736056e-01</td>\n",
       "      <td>2.535179e-01</td>\n",
       "      <td>2.373485e-01</td>\n",
       "      <td>2.257340e-01</td>\n",
       "    </tr>\n",
       "    <tr>\n",
       "      <th>max</th>\n",
       "      <td>1.257145e+00</td>\n",
       "      <td>1.351940e+01</td>\n",
       "      <td>6.198642e+00</td>\n",
       "      <td>1.179914e+01</td>\n",
       "      <td>2.516451e+01</td>\n",
       "      <td>5.493438e+01</td>\n",
       "      <td>9.709075e+01</td>\n",
       "      <td>1.660173e+01</td>\n",
       "      <td>1.422236e+01</td>\n",
       "      <td>2.192944e+01</td>\n",
       "      <td>1.177179e+01</td>\n",
       "      <td>7.852190e+00</td>\n",
       "      <td>7.149965e+00</td>\n",
       "      <td>1.100072e+01</td>\n",
       "      <td>1.974641e+01</td>\n",
       "      <td>1.090179e+01</td>\n",
       "      <td>3.699255e+01</td>\n",
       "      <td>3.571100e+01</td>\n",
       "      <td>7.830721e+01</td>\n",
       "    </tr>\n",
       "  </tbody>\n",
       "</table>\n",
       "</div>"
      ],
      "text/plain": [
       "                 0             1             2             3             4   \\\n",
       "count  2.136050e+05  2.136050e+05  2.136050e+05  2.136050e+05  2.136050e+05   \n",
       "mean  -5.940957e-17  3.308696e-18  6.897645e-17  1.529951e-17  3.043342e-17   \n",
       "std    1.000002e+00  1.000002e+00  1.000002e+00  1.000002e+00  1.000002e+00   \n",
       "min   -2.894088e+01 -4.456820e+01 -3.193523e+01 -4.014707e+00 -8.223626e+01   \n",
       "25%   -4.733905e-01 -3.681522e-01 -5.882749e-01 -5.987030e-01 -4.994077e-01   \n",
       "50%    8.788754e-03  3.926317e-02  1.176945e-01 -1.491895e-02 -3.816713e-02   \n",
       "75%    6.738880e-01  4.913846e-01  6.773872e-01  5.247305e-01  4.434481e-01   \n",
       "max    1.257145e+00  1.351940e+01  6.198642e+00  1.179914e+01  2.516451e+01   \n",
       "\n",
       "                 5             6             7             8             9   \\\n",
       "count  2.136050e+05  2.136050e+05  2.136050e+05  2.136050e+05  2.136050e+05   \n",
       "mean  -1.889232e-17 -8.010986e-18  1.612683e-17 -3.156265e-17  8.410808e-18   \n",
       "std    1.000002e+00  1.000002e+00  1.000002e+00  1.000002e+00  1.000002e+00   \n",
       "min   -1.960776e+01 -3.506962e+01 -6.075432e+01 -1.225143e+01 -2.270814e+01   \n",
       "25%   -5.759849e-01 -4.468419e-01 -1.724718e-01 -5.861799e-01 -4.937656e-01   \n",
       "50%   -2.054283e-01  3.156398e-02  1.888879e-02 -4.746015e-02 -8.456047e-02   \n",
       "75%    2.984683e-01  4.577876e-01  2.719350e-01  5.433963e-01  4.211409e-01   \n",
       "max    5.493438e+01  9.709075e+01  1.660173e+01  1.422236e+01  2.192944e+01   \n",
       "\n",
       "                 10            11            12            13            14  \\\n",
       "count  2.136050e+05  2.136050e+05  2.136050e+05  2.136050e+05  2.136050e+05   \n",
       "mean   4.604459e-17 -2.154905e-17 -2.229789e-17  8.875079e-18  2.818268e-17   \n",
       "std    1.000002e+00  1.000002e+00  1.000002e+00  1.000002e+00  1.000002e+00   \n",
       "min   -4.700114e+00 -1.843830e+01 -5.809749e+00 -2.008829e+01 -1.611236e+01   \n",
       "25%   -7.465216e-01 -4.057765e-01 -6.514172e-01 -4.450402e-01 -5.358654e-01   \n",
       "50%   -3.187601e-02  1.423529e-01 -1.443718e-02  5.154903e-02  7.556603e-02   \n",
       "75%    7.255326e-01  6.187009e-01  6.665734e-01  5.149620e-01  5.966500e-01   \n",
       "max    1.177179e+01  7.852190e+00  7.149965e+00  1.100072e+01  1.974641e+01   \n",
       "\n",
       "                 15            16            17            18  \n",
       "count  2.136050e+05  2.136050e+05  2.136050e+05  2.136050e+05  \n",
       "mean  -3.487947e-17  2.396591e-17  1.572363e-17  2.766176e-17  \n",
       "std    1.000002e+00  1.000002e+00  1.000002e+00  1.000002e+00  \n",
       "min   -2.979875e+01 -4.736572e+01 -5.929492e+01 -5.589815e+01  \n",
       "25%   -5.740300e-01 -3.095466e-01 -2.634583e-01 -1.751815e-01  \n",
       "50%   -7.917477e-02 -3.955578e-02 -1.960514e-02  3.687607e-03  \n",
       "75%    4.736056e-01  2.535179e-01  2.373485e-01  2.257340e-01  \n",
       "max    1.090179e+01  3.699255e+01  3.571100e+01  7.830721e+01  "
      ]
     },
     "execution_count": 21,
     "metadata": {},
     "output_type": "execute_result"
    }
   ],
   "source": [
    "pd.DataFrame(X_train).describe() # checking summary statistics of the training set"
   ]
  },
  {
   "cell_type": "markdown",
   "metadata": {
    "papermill": {
     "duration": 0.052203,
     "end_time": "2020-12-04T15:09:53.518855",
     "exception": false,
     "start_time": "2020-12-04T15:09:53.466652",
     "status": "completed"
    },
    "tags": []
   },
   "source": [
    "### There seems to be outliers in the features. We will clip the outliers. We will arbitrarily define outliers as observations outside of 1st and 99th percentile. "
   ]
  },
  {
   "cell_type": "code",
   "execution_count": 22,
   "metadata": {
    "execution": {
     "iopub.execute_input": "2020-12-04T15:09:53.625627Z",
     "iopub.status.busy": "2020-12-04T15:09:53.624792Z",
     "iopub.status.idle": "2020-12-04T15:09:53.721876Z",
     "shell.execute_reply": "2020-12-04T15:09:53.722553Z"
    },
    "papermill": {
     "duration": 0.153323,
     "end_time": "2020-12-04T15:09:53.722724",
     "exception": false,
     "start_time": "2020-12-04T15:09:53.569401",
     "status": "completed"
    },
    "tags": []
   },
   "outputs": [
    {
     "name": "stdout",
     "output_type": "stream",
     "text": [
      "[-3.35598442 -3.04460642 -2.62121913 -2.20963993 -2.21329592 -1.59186443\n",
      " -2.4109432  -3.34728305 -2.23750133 -1.93404082 -2.05630581 -3.06949683\n",
      " -2.29228219 -2.92859939 -2.71920018 -1.5947911  -1.99254328 -1.92864716\n",
      " -3.08719829]\n"
     ]
    }
   ],
   "source": [
    "a = np.percentile(X_train, 1, axis=0) # gets the first percentile for each feature\n",
    "print(a)"
   ]
  },
  {
   "cell_type": "code",
   "execution_count": 23,
   "metadata": {
    "execution": {
     "iopub.execute_input": "2020-12-04T15:09:53.829623Z",
     "iopub.status.busy": "2020-12-04T15:09:53.828834Z",
     "iopub.status.idle": "2020-12-04T15:09:53.926939Z",
     "shell.execute_reply": "2020-12-04T15:09:53.927710Z"
    },
    "papermill": {
     "duration": 0.153544,
     "end_time": "2020-12-04T15:09:53.927905",
     "exception": false,
     "start_time": "2020-12-04T15:09:53.774361",
     "status": "completed"
    },
    "tags": []
   },
   "outputs": [
    {
     "name": "stdout",
     "output_type": "stream",
     "text": [
      "[1.14628284 2.32478379 1.80515679 3.00697944 2.46673385 3.14627676\n",
      " 2.18638956 1.72372554 2.7168256  2.97689188 2.24576384 1.70334366\n",
      " 2.52683632 2.24922413 2.14034939 2.72789116 2.59954424 2.45618108\n",
      " 2.29949433]\n"
     ]
    }
   ],
   "source": [
    "b = np.percentile(X_train, 99, axis=0) # gets the 99th percentile for each feature\n",
    "print(b)"
   ]
  },
  {
   "cell_type": "code",
   "execution_count": 24,
   "metadata": {
    "execution": {
     "iopub.execute_input": "2020-12-04T15:09:54.036248Z",
     "iopub.status.busy": "2020-12-04T15:09:54.035360Z",
     "iopub.status.idle": "2020-12-04T15:09:54.048519Z",
     "shell.execute_reply": "2020-12-04T15:09:54.047991Z"
    },
    "papermill": {
     "duration": 0.06878,
     "end_time": "2020-12-04T15:09:54.048614",
     "exception": false,
     "start_time": "2020-12-04T15:09:53.979834",
     "status": "completed"
    },
    "tags": []
   },
   "outputs": [],
   "source": [
    "# clipping\n",
    "X_train = np.clip(X_train, a, b)\n",
    "X_test = np.clip(X_test, a, b)"
   ]
  },
  {
   "cell_type": "code",
   "execution_count": 25,
   "metadata": {
    "execution": {
     "iopub.execute_input": "2020-12-04T15:09:54.157262Z",
     "iopub.status.busy": "2020-12-04T15:09:54.156353Z",
     "iopub.status.idle": "2020-12-04T15:09:54.167324Z",
     "shell.execute_reply": "2020-12-04T15:09:54.166723Z"
    },
    "papermill": {
     "duration": 0.067754,
     "end_time": "2020-12-04T15:09:54.167439",
     "exception": false,
     "start_time": "2020-12-04T15:09:54.099685",
     "status": "completed"
    },
    "tags": []
   },
   "outputs": [
    {
     "name": "stdout",
     "output_type": "stream",
     "text": [
      "[-3.35598442 -3.04460642 -2.62121913 -2.20963993 -2.21329592 -1.59186443\n",
      " -2.4109432  -3.34728305 -2.23750133 -1.93404082 -2.05630581 -3.06949683\n",
      " -2.29228219 -2.92859939 -2.71920018 -1.5947911  -1.99254328 -1.92864716\n",
      " -3.08719829]\n",
      "\n",
      "[1.14628284 2.32478379 1.80515679 3.00697944 2.46673385 3.14627676\n",
      " 2.18638956 1.72372554 2.7168256  2.97689188 2.24576384 1.70334366\n",
      " 2.52683632 2.24922413 2.14034939 2.72789116 2.59954424 2.45618108\n",
      " 2.29949433]\n"
     ]
    }
   ],
   "source": [
    "print(X_train.min(axis=0)) # confirming the new minimum values are now the 1st percentile\n",
    "print()\n",
    "print(X_train.max(axis=0)) # confirming the new maximum values are now the 99th percentile"
   ]
  },
  {
   "cell_type": "markdown",
   "metadata": {
    "papermill": {
     "duration": 0.051533,
     "end_time": "2020-12-04T15:09:54.270709",
     "exception": false,
     "start_time": "2020-12-04T15:09:54.219176",
     "status": "completed"
    },
    "tags": []
   },
   "source": [
    "### The arrays above are same as 1st and 99th percentile respectively."
   ]
  },
  {
   "cell_type": "markdown",
   "metadata": {
    "papermill": {
     "duration": 0.054567,
     "end_time": "2020-12-04T15:09:54.376318",
     "exception": false,
     "start_time": "2020-12-04T15:09:54.321751",
     "status": "completed"
    },
    "tags": []
   },
   "source": [
    "### Now, we will use train test split to get the best number of epochs "
   ]
  },
  {
   "cell_type": "code",
   "execution_count": 26,
   "metadata": {
    "execution": {
     "iopub.execute_input": "2020-12-04T15:09:54.499321Z",
     "iopub.status.busy": "2020-12-04T15:09:54.498664Z",
     "iopub.status.idle": "2020-12-04T15:13:55.931761Z",
     "shell.execute_reply": "2020-12-04T15:13:55.931139Z"
    },
    "papermill": {
     "duration": 241.495475,
     "end_time": "2020-12-04T15:13:55.931897",
     "exception": false,
     "start_time": "2020-12-04T15:09:54.436422",
     "status": "completed"
    },
    "tags": []
   },
   "outputs": [
    {
     "name": "stdout",
     "output_type": "stream",
     "text": [
      "Epoch 1/30\n",
      "6676/6676 [==============================] - 18s 3ms/step - loss: 0.0046 - stateful_binary_fbeta: 0.6753 - val_loss: 0.0024 - val_stateful_binary_fbeta: 0.8745\n",
      "Epoch 2/30\n",
      "6676/6676 [==============================] - 18s 3ms/step - loss: 0.0038 - stateful_binary_fbeta: 0.7306 - val_loss: 0.0022 - val_stateful_binary_fbeta: 0.8760\n",
      "Epoch 3/30\n",
      "6676/6676 [==============================] - 18s 3ms/step - loss: 0.0037 - stateful_binary_fbeta: 0.7352 - val_loss: 0.0022 - val_stateful_binary_fbeta: 0.8816\n",
      "Epoch 4/30\n",
      "6676/6676 [==============================] - 18s 3ms/step - loss: 0.0035 - stateful_binary_fbeta: 0.7440 - val_loss: 0.0023 - val_stateful_binary_fbeta: 0.8214\n",
      "Epoch 5/30\n",
      "6676/6676 [==============================] - 19s 3ms/step - loss: 0.0035 - stateful_binary_fbeta: 0.7458 - val_loss: 0.0022 - val_stateful_binary_fbeta: 0.8745\n",
      "Epoch 6/30\n",
      "6676/6676 [==============================] - 17s 3ms/step - loss: 0.0036 - stateful_binary_fbeta: 0.7343 - val_loss: 0.0022 - val_stateful_binary_fbeta: 0.8608\n",
      "Epoch 7/30\n",
      "6676/6676 [==============================] - 18s 3ms/step - loss: 0.0035 - stateful_binary_fbeta: 0.7372 - val_loss: 0.0023 - val_stateful_binary_fbeta: 0.8710\n",
      "Epoch 8/30\n",
      "6676/6676 [==============================] - 18s 3ms/step - loss: 0.0035 - stateful_binary_fbeta: 0.7348 - val_loss: 0.0022 - val_stateful_binary_fbeta: 0.8780\n",
      "Epoch 9/30\n",
      "6676/6676 [==============================] - 19s 3ms/step - loss: 0.0033 - stateful_binary_fbeta: 0.7736 - val_loss: 0.0023 - val_stateful_binary_fbeta: 0.7909\n",
      "Epoch 10/30\n",
      "6676/6676 [==============================] - 17s 3ms/step - loss: 0.0034 - stateful_binary_fbeta: 0.7639 - val_loss: 0.0022 - val_stateful_binary_fbeta: 0.8780\n",
      "Epoch 11/30\n",
      "6676/6676 [==============================] - 20s 3ms/step - loss: 0.0034 - stateful_binary_fbeta: 0.7586 - val_loss: 0.0022 - val_stateful_binary_fbeta: 0.8780\n",
      "Epoch 12/30\n",
      "6676/6676 [==============================] - 19s 3ms/step - loss: 0.0033 - stateful_binary_fbeta: 0.7715 - val_loss: 0.0022 - val_stateful_binary_fbeta: 0.8750\n",
      "Epoch 13/30\n",
      "6676/6676 [==============================] - 17s 3ms/step - loss: 0.0034 - stateful_binary_fbeta: 0.7474 - val_loss: 0.0023 - val_stateful_binary_fbeta: 0.8125\n"
     ]
    }
   ],
   "source": [
    "model = build_model()\n",
    "history = model.fit(X_train, y_train, epochs=30, batch_size=32, callbacks=[stopper], \\\n",
    "                validation_data=(X_test, y_test), verbose=1)"
   ]
  },
  {
   "cell_type": "markdown",
   "metadata": {
    "papermill": {
     "duration": 1.604806,
     "end_time": "2020-12-04T15:13:58.903802",
     "exception": false,
     "start_time": "2020-12-04T15:13:57.298996",
     "status": "completed"
    },
    "tags": []
   },
   "source": [
    "### Let's check the best f1 score and confirm it using sklearn's f1score."
   ]
  },
  {
   "cell_type": "code",
   "execution_count": 27,
   "metadata": {
    "execution": {
     "iopub.execute_input": "2020-12-04T15:14:01.693363Z",
     "iopub.status.busy": "2020-12-04T15:14:01.691986Z",
     "iopub.status.idle": "2020-12-04T15:14:04.130952Z",
     "shell.execute_reply": "2020-12-04T15:14:04.130291Z"
    },
    "papermill": {
     "duration": 3.83621,
     "end_time": "2020-12-04T15:14:04.131065",
     "exception": false,
     "start_time": "2020-12-04T15:14:00.294855",
     "status": "completed"
    },
    "tags": []
   },
   "outputs": [
    {
     "data": {
      "text/plain": [
       "array([[2.1990327e-05],\n",
       "       [3.8006314e-04],\n",
       "       [1.5151831e-05],\n",
       "       [1.6116670e-04],\n",
       "       [1.4200354e-05]], dtype=float32)"
      ]
     },
     "execution_count": 27,
     "metadata": {},
     "output_type": "execute_result"
    }
   ],
   "source": [
    "p = model.predict(X_test)\n",
    "p[:5]"
   ]
  },
  {
   "cell_type": "code",
   "execution_count": 28,
   "metadata": {
    "execution": {
     "iopub.execute_input": "2020-12-04T15:14:06.894329Z",
     "iopub.status.busy": "2020-12-04T15:14:06.893442Z",
     "iopub.status.idle": "2020-12-04T15:14:06.899797Z",
     "shell.execute_reply": "2020-12-04T15:14:06.899326Z"
    },
    "papermill": {
     "duration": 1.367948,
     "end_time": "2020-12-04T15:14:06.899899",
     "exception": false,
     "start_time": "2020-12-04T15:14:05.531951",
     "status": "completed"
    },
    "tags": []
   },
   "outputs": [
    {
     "data": {
      "text/plain": [
       "array([0, 0, 0, 0, 0])"
      ]
     },
     "execution_count": 28,
     "metadata": {},
     "output_type": "execute_result"
    }
   ],
   "source": [
    "q = (p > threshold).astype(int).flatten()\n",
    "q[:5]"
   ]
  },
  {
   "cell_type": "code",
   "execution_count": 29,
   "metadata": {
    "execution": {
     "iopub.execute_input": "2020-12-04T15:14:10.243825Z",
     "iopub.status.busy": "2020-12-04T15:14:10.242767Z",
     "iopub.status.idle": "2020-12-04T15:14:10.246516Z",
     "shell.execute_reply": "2020-12-04T15:14:10.244664Z"
    },
    "papermill": {
     "duration": 1.6799,
     "end_time": "2020-12-04T15:14:10.246622",
     "exception": false,
     "start_time": "2020-12-04T15:14:08.566722",
     "status": "completed"
    },
    "tags": []
   },
   "outputs": [
    {
     "data": {
      "text/plain": [
       "array([2.1990327e-05, 3.8006314e-04, 1.5151831e-05, 1.6116670e-04,\n",
       "       1.4200354e-05], dtype=float32)"
      ]
     },
     "execution_count": 29,
     "metadata": {},
     "output_type": "execute_result"
    }
   ],
   "source": [
    "p.flatten()[:5]"
   ]
  },
  {
   "cell_type": "code",
   "execution_count": 30,
   "metadata": {
    "execution": {
     "iopub.execute_input": "2020-12-04T15:14:13.113120Z",
     "iopub.status.busy": "2020-12-04T15:14:13.112228Z",
     "iopub.status.idle": "2020-12-04T15:14:13.126804Z",
     "shell.execute_reply": "2020-12-04T15:14:13.126321Z"
    },
    "papermill": {
     "duration": 1.454821,
     "end_time": "2020-12-04T15:14:13.126912",
     "exception": false,
     "start_time": "2020-12-04T15:14:11.672091",
     "status": "completed"
    },
    "tags": []
   },
   "outputs": [
    {
     "data": {
      "text/plain": [
       "0.88163257"
      ]
     },
     "execution_count": 30,
     "metadata": {},
     "output_type": "execute_result"
    }
   ],
   "source": [
    "binary_fbeta2 = StatefulBinaryFBeta()\n",
    "binary_fbeta2.update_state(y_test.values.reshape(-1, 1), p)\n",
    "binary_fbeta2.result().numpy() #/ y_test.shape[0]"
   ]
  },
  {
   "cell_type": "code",
   "execution_count": 31,
   "metadata": {
    "execution": {
     "iopub.execute_input": "2020-12-04T15:14:15.865534Z",
     "iopub.status.busy": "2020-12-04T15:14:15.864620Z",
     "iopub.status.idle": "2020-12-04T15:14:15.888196Z",
     "shell.execute_reply": "2020-12-04T15:14:15.887679Z"
    },
    "papermill": {
     "duration": 1.413696,
     "end_time": "2020-12-04T15:14:15.888298",
     "exception": false,
     "start_time": "2020-12-04T15:14:14.474602",
     "status": "completed"
    },
    "tags": []
   },
   "outputs": [
    {
     "data": {
      "text/plain": [
       "0.8816326530612244"
      ]
     },
     "execution_count": 31,
     "metadata": {},
     "output_type": "execute_result"
    }
   ],
   "source": [
    "f1_score(y_test.values.reshape(-1, 1), q)"
   ]
  },
  {
   "cell_type": "markdown",
   "metadata": {
    "papermill": {
     "duration": 1.344825,
     "end_time": "2020-12-04T15:14:18.598355",
     "exception": false,
     "start_time": "2020-12-04T15:14:17.253530",
     "status": "completed"
    },
    "tags": []
   },
   "source": [
    "## Learning Curve"
   ]
  },
  {
   "cell_type": "code",
   "execution_count": 32,
   "metadata": {
    "execution": {
     "iopub.execute_input": "2020-12-04T15:14:21.606981Z",
     "iopub.status.busy": "2020-12-04T15:14:21.606247Z",
     "iopub.status.idle": "2020-12-04T15:14:21.610081Z",
     "shell.execute_reply": "2020-12-04T15:14:21.609567Z"
    },
    "papermill": {
     "duration": 1.398186,
     "end_time": "2020-12-04T15:14:21.610204",
     "exception": false,
     "start_time": "2020-12-04T15:14:20.212018",
     "status": "completed"
    },
    "tags": []
   },
   "outputs": [],
   "source": [
    "plt.style.use('ggplot')\n",
    "\n",
    "def plot_history(history):\n",
    "    \n",
    "    fbeta = history.history['stateful_binary_fbeta']\n",
    "    val_fbeta = history.history['val_stateful_binary_fbeta']\n",
    "    loss = history.history['loss']\n",
    "    val_loss = history.history['val_loss']\n",
    "    epochs = range(1, len(loss) + 1)\n",
    "\n",
    "    metrics = {'loss': (loss, val_loss), 'fbeta': (fbeta, val_fbeta)}\n",
    "    \n",
    "    plt.figure(figsize=(18, 5))\n",
    "    \n",
    "    for i, metric in zip(range(1, len(metrics)+1), list(metrics.keys())):\n",
    "        plt.subplot(1, 2, i)\n",
    "        plt.plot(epochs, metrics[metric][0], 'b', label='Training ' + metric)\n",
    "        plt.plot(epochs, metrics[metric][1], 'r', label='Validation ' + metric)\n",
    "        plt.title('Training and validation ' + metric)\n",
    "        plt.legend()"
   ]
  },
  {
   "cell_type": "code",
   "execution_count": 33,
   "metadata": {
    "execution": {
     "iopub.execute_input": "2020-12-04T15:14:24.412491Z",
     "iopub.status.busy": "2020-12-04T15:14:24.411756Z",
     "iopub.status.idle": "2020-12-04T15:14:24.774037Z",
     "shell.execute_reply": "2020-12-04T15:14:24.773222Z"
    },
    "papermill": {
     "duration": 1.727655,
     "end_time": "2020-12-04T15:14:24.774144",
     "exception": false,
     "start_time": "2020-12-04T15:14:23.046489",
     "status": "completed"
    },
    "tags": []
   },
   "outputs": [
    {
     "data": {
      "image/png": "[encoded data removed]",
      "text/plain": [
       "<Figure size 1296x360 with 2 Axes>"
      ]
     },
     "metadata": {},
     "output_type": "display_data"
    }
   ],
   "source": [
    "plot_history(history)"
   ]
  },
  {
   "cell_type": "markdown",
   "metadata": {
    "papermill": {
     "duration": 1.406599,
     "end_time": "2020-12-04T15:14:27.579403",
     "exception": false,
     "start_time": "2020-12-04T15:14:26.172804",
     "status": "completed"
    },
    "tags": []
   },
   "source": [
    "### After much tuning, this is the best learning curve we can get. Although it is strange that validation set has better metrics than training set. It appears that it is due to the nature of our data."
   ]
  },
  {
   "cell_type": "code",
   "execution_count": 34,
   "metadata": {
    "execution": {
     "iopub.execute_input": "2020-12-04T15:14:30.330444Z",
     "iopub.status.busy": "2020-12-04T15:14:30.329312Z",
     "iopub.status.idle": "2020-12-04T15:14:30.334733Z",
     "shell.execute_reply": "2020-12-04T15:14:30.334033Z"
    },
    "papermill": {
     "duration": 1.372134,
     "end_time": "2020-12-04T15:14:30.334857",
     "exception": false,
     "start_time": "2020-12-04T15:14:28.962723",
     "status": "completed"
    },
    "tags": []
   },
   "outputs": [
    {
     "data": {
      "text/plain": [
       "3"
      ]
     },
     "execution_count": 34,
     "metadata": {},
     "output_type": "execute_result"
    }
   ],
   "source": [
    "# retrieving the best number of epochs\n",
    "best_n_epochs = int(np.array(history.history['val_stateful_binary_fbeta']).argmax() + 1)\n",
    "best_n_epochs"
   ]
  },
  {
   "cell_type": "markdown",
   "metadata": {
    "papermill": {
     "duration": 1.357258,
     "end_time": "2020-12-04T15:14:33.279281",
     "exception": false,
     "start_time": "2020-12-04T15:14:31.922023",
     "status": "completed"
    },
    "tags": []
   },
   "source": [
    "## Now, we will do our cross validation using the best number of  epochs. We will create a custom transformer to clip outliers and encapsulate the preprocessing steps together with our model in a scikit-learn pipeline."
   ]
  },
  {
   "cell_type": "code",
   "execution_count": 35,
   "metadata": {
    "execution": {
     "iopub.execute_input": "2020-12-04T15:14:36.354933Z",
     "iopub.status.busy": "2020-12-04T15:14:36.353073Z",
     "iopub.status.idle": "2020-12-04T15:14:36.355598Z",
     "shell.execute_reply": "2020-12-04T15:14:36.356065Z"
    },
    "papermill": {
     "duration": 1.366288,
     "end_time": "2020-12-04T15:14:36.356205",
     "exception": false,
     "start_time": "2020-12-04T15:14:34.989917",
     "status": "completed"
    },
    "tags": []
   },
   "outputs": [],
   "source": [
    "class ClipOutliers(BaseEstimator, TransformerMixin):\n",
    "    def __init__(self, lower_percentile=1, upper_percentile=99):\n",
    "        self.lower_percentile = lower_percentile\n",
    "        self.upper_percentile = upper_percentile\n",
    "        \n",
    "    def fit(self, X, y=None):\n",
    "        self.a = np.percentile(X, self.lower_percentile, axis=0)\n",
    "        self.b = np.percentile(X, self.upper_percentile, axis=0)\n",
    "        \n",
    "        return self\n",
    "    \n",
    "    def transform(self, X):\n",
    "        self.Xt = np.clip(X, self.a, self.b)\n",
    "        \n",
    "        return self.Xt"
   ]
  },
  {
   "cell_type": "markdown",
   "metadata": {
    "papermill": {
     "duration": 1.340813,
     "end_time": "2020-12-04T15:14:39.062073",
     "exception": false,
     "start_time": "2020-12-04T15:14:37.721260",
     "status": "completed"
    },
    "tags": []
   },
   "source": [
    "### Fraud sensitive model"
   ]
  },
  {
   "cell_type": "code",
   "execution_count": 36,
   "metadata": {
    "execution": {
     "iopub.execute_input": "2020-12-04T15:14:41.881404Z",
     "iopub.status.busy": "2020-12-04T15:14:41.880495Z",
     "iopub.status.idle": "2020-12-04T15:17:15.818367Z",
     "shell.execute_reply": "2020-12-04T15:17:15.819077Z"
    },
    "papermill": {
     "duration": 155.42281,
     "end_time": "2020-12-04T15:17:15.819313",
     "exception": false,
     "start_time": "2020-12-04T15:14:40.396503",
     "status": "completed"
    },
    "tags": []
   },
   "outputs": [
    {
     "name": "stderr",
     "output_type": "stream",
     "text": [
      "[Parallel(n_jobs=1)]: Using backend SequentialBackend with 1 concurrent workers.\n",
      "[Parallel(n_jobs=1)]: Done   4 out of   4 | elapsed:  2.5min finished\n"
     ]
    }
   ],
   "source": [
    "fraud_sensitive_model = KerasClassifier(build_fn=build_model)\n",
    "fraud_sensitive_scaler = StandardScaler()\n",
    "fraud_sensitive_clipper = ClipOutliers()\n",
    "\n",
    "fraud_sensitive_pipe = Pipeline([('scaler', fraud_sensitive_scaler), \\\n",
    "                                 ('clipper', fraud_sensitive_clipper), ('model', fraud_sensitive_model)])\n",
    "\n",
    "fraud_sensitive_scores = cross_validate(fraud_sensitive_pipe, np.array(X), y, verbose=1, \\\n",
    "                         scoring=['f1', 'average_precision'], cv=cv, return_estimator=True, \\\n",
    "                         error_score='raise', fit_params={'model__epochs': int(best_n_epochs), \\\n",
    "                         'model__batch_size': 32, 'model__verbose': 0})"
   ]
  },
  {
   "cell_type": "markdown",
   "metadata": {
    "papermill": {
     "duration": 1.384956,
     "end_time": "2020-12-04T15:17:18.663208",
     "exception": false,
     "start_time": "2020-12-04T15:17:17.278252",
     "status": "completed"
    },
    "tags": []
   },
   "source": [
    "### Note: we used cross_validate because it can take more than one scoring metrics and it can also return the fitting model for each fold."
   ]
  },
  {
   "cell_type": "code",
   "execution_count": 37,
   "metadata": {
    "execution": {
     "iopub.execute_input": "2020-12-04T15:17:21.388888Z",
     "iopub.status.busy": "2020-12-04T15:17:21.387621Z",
     "iopub.status.idle": "2020-12-04T15:17:27.156229Z",
     "shell.execute_reply": "2020-12-04T15:17:27.157363Z"
    },
    "papermill": {
     "duration": 7.149531,
     "end_time": "2020-12-04T15:17:27.157540",
     "exception": false,
     "start_time": "2020-12-04T15:17:20.008009",
     "status": "completed"
    },
    "tags": []
   },
   "outputs": [
    {
     "data": {
      "text/html": [
       "<div>\n",
       "<style scoped>\n",
       "    .dataframe tbody tr th:only-of-type {\n",
       "        vertical-align: middle;\n",
       "    }\n",
       "\n",
       "    .dataframe tbody tr th {\n",
       "        vertical-align: top;\n",
       "    }\n",
       "\n",
       "    .dataframe thead th {\n",
       "        text-align: right;\n",
       "    }\n",
       "</style>\n",
       "<table border=\"1\" class=\"dataframe\">\n",
       "  <thead>\n",
       "    <tr style=\"text-align: right;\">\n",
       "      <th></th>\n",
       "      <th>f1_score</th>\n",
       "      <th>auc_pr</th>\n",
       "      <th>cost_savings</th>\n",
       "    </tr>\n",
       "  </thead>\n",
       "  <tbody>\n",
       "    <tr>\n",
       "      <th>split_1</th>\n",
       "      <td>0.786325</td>\n",
       "      <td>0.768395</td>\n",
       "      <td>0.650688</td>\n",
       "    </tr>\n",
       "    <tr>\n",
       "      <th>split_2</th>\n",
       "      <td>0.838174</td>\n",
       "      <td>0.830445</td>\n",
       "      <td>0.758265</td>\n",
       "    </tr>\n",
       "    <tr>\n",
       "      <th>split_3</th>\n",
       "      <td>0.824561</td>\n",
       "      <td>0.837981</td>\n",
       "      <td>0.780184</td>\n",
       "    </tr>\n",
       "    <tr>\n",
       "      <th>split_4</th>\n",
       "      <td>0.828452</td>\n",
       "      <td>0.795502</td>\n",
       "      <td>0.736039</td>\n",
       "    </tr>\n",
       "  </tbody>\n",
       "</table>\n",
       "</div>"
      ],
      "text/plain": [
       "         f1_score    auc_pr  cost_savings\n",
       "split_1  0.786325  0.768395      0.650688\n",
       "split_2  0.838174  0.830445      0.758265\n",
       "split_3  0.824561  0.837981      0.780184\n",
       "split_4  0.828452  0.795502      0.736039"
      ]
     },
     "execution_count": 37,
     "metadata": {},
     "output_type": "execute_result"
    }
   ],
   "source": [
    "fraud_sensitive_results = get_metric_scores(fraud_sensitive_scores, np.array(X))\n",
    "fraud_sensitive_results"
   ]
  },
  {
   "cell_type": "code",
   "execution_count": 38,
   "metadata": {
    "execution": {
     "iopub.execute_input": "2020-12-04T15:17:30.008524Z",
     "iopub.status.busy": "2020-12-04T15:17:30.007825Z",
     "iopub.status.idle": "2020-12-04T15:17:30.013062Z",
     "shell.execute_reply": "2020-12-04T15:17:30.013530Z"
    },
    "papermill": {
     "duration": 1.406267,
     "end_time": "2020-12-04T15:17:30.013662",
     "exception": false,
     "start_time": "2020-12-04T15:17:28.607395",
     "status": "completed"
    },
    "tags": []
   },
   "outputs": [
    {
     "data": {
      "text/plain": [
       "f1_score        0.819378\n",
       "auc_pr          0.808080\n",
       "cost_savings    0.731294\n",
       "dtype: float64"
      ]
     },
     "execution_count": 38,
     "metadata": {},
     "output_type": "execute_result"
    }
   ],
   "source": [
    "fraud_sensitive_results.mean()"
   ]
  },
  {
   "cell_type": "code",
   "execution_count": null,
   "metadata": {
    "papermill": {
     "duration": 1.41686,
     "end_time": "2020-12-04T15:17:32.807827",
     "exception": false,
     "start_time": "2020-12-04T15:17:31.390967",
     "status": "completed"
    },
    "tags": []
   },
   "outputs": [],
   "source": []
  },
  {
   "cell_type": "markdown",
   "metadata": {
    "papermill": {
     "duration": 1.389911,
     "end_time": "2020-12-04T15:17:35.557703",
     "exception": false,
     "start_time": "2020-12-04T15:17:34.167792",
     "status": "completed"
    },
    "tags": []
   },
   "source": [
    "## Cost sensitive model"
   ]
  },
  {
   "cell_type": "markdown",
   "metadata": {
    "papermill": {
     "duration": 1.598531,
     "end_time": "2020-12-04T15:17:38.519545",
     "exception": false,
     "start_time": "2020-12-04T15:17:36.921014",
     "status": "completed"
    },
    "tags": []
   },
   "source": [
    "### We will now look for the best epoch that best minimize the loss function (cost sensitive binary cross-entropy loss)"
   ]
  },
  {
   "cell_type": "code",
   "execution_count": 39,
   "metadata": {
    "execution": {
     "iopub.execute_input": "2020-12-04T15:17:41.311254Z",
     "iopub.status.busy": "2020-12-04T15:17:41.309451Z",
     "iopub.status.idle": "2020-12-04T15:17:41.311887Z",
     "shell.execute_reply": "2020-12-04T15:17:41.312410Z"
    },
    "papermill": {
     "duration": 1.424598,
     "end_time": "2020-12-04T15:17:41.312561",
     "exception": false,
     "start_time": "2020-12-04T15:17:39.887963",
     "status": "completed"
    },
    "tags": []
   },
   "outputs": [],
   "source": [
    "stopper2 = EarlyStopping(monitor='val_loss', patience=10, mode='min', restore_best_weights=True)"
   ]
  },
  {
   "cell_type": "code",
   "execution_count": 40,
   "metadata": {
    "execution": {
     "iopub.execute_input": "2020-12-04T15:17:44.144364Z",
     "iopub.status.busy": "2020-12-04T15:17:44.143678Z",
     "iopub.status.idle": "2020-12-04T15:23:47.862005Z",
     "shell.execute_reply": "2020-12-04T15:23:47.862608Z"
    },
    "papermill": {
     "duration": 365.15234,
     "end_time": "2020-12-04T15:23:47.862750",
     "exception": false,
     "start_time": "2020-12-04T15:17:42.710410",
     "status": "completed"
    },
    "tags": []
   },
   "outputs": [
    {
     "name": "stdout",
     "output_type": "stream",
     "text": [
      "Epoch 1/30\n",
      "6676/6676 [==============================] - 21s 3ms/step - loss: 0.5128 - stateful_binary_fbeta: 0.5848 - val_loss: 0.0090 - val_stateful_binary_fbeta: 0.7340\n",
      "Epoch 2/30\n",
      "6676/6676 [==============================] - 19s 3ms/step - loss: 0.1987 - stateful_binary_fbeta: 0.4417 - val_loss: 0.0189 - val_stateful_binary_fbeta: 0.4583\n",
      "Epoch 3/30\n",
      "6676/6676 [==============================] - 20s 3ms/step - loss: 0.1686 - stateful_binary_fbeta: 0.4148 - val_loss: 0.0144 - val_stateful_binary_fbeta: 0.6006\n",
      "Epoch 4/30\n",
      "6676/6676 [==============================] - 20s 3ms/step - loss: 0.1949 - stateful_binary_fbeta: 0.4299 - val_loss: 0.0102 - val_stateful_binary_fbeta: 0.6903\n",
      "Epoch 5/30\n",
      "6676/6676 [==============================] - 18s 3ms/step - loss: 0.1756 - stateful_binary_fbeta: 0.4294 - val_loss: 0.0098 - val_stateful_binary_fbeta: 0.7248\n",
      "Epoch 6/30\n",
      "6676/6676 [==============================] - 21s 3ms/step - loss: 0.1434 - stateful_binary_fbeta: 0.4656 - val_loss: 0.0118 - val_stateful_binary_fbeta: 0.5692\n",
      "Epoch 7/30\n",
      "6676/6676 [==============================] - 19s 3ms/step - loss: 0.1492 - stateful_binary_fbeta: 0.4003 - val_loss: 0.0049 - val_stateful_binary_fbeta: 0.8203\n",
      "Epoch 8/30\n",
      "6676/6676 [==============================] - 20s 3ms/step - loss: 0.1140 - stateful_binary_fbeta: 0.4650 - val_loss: 0.0071 - val_stateful_binary_fbeta: 0.6890\n",
      "Epoch 9/30\n",
      "6676/6676 [==============================] - 19s 3ms/step - loss: 0.1137 - stateful_binary_fbeta: 0.4375 - val_loss: 0.0084 - val_stateful_binary_fbeta: 0.6303\n",
      "Epoch 10/30\n",
      "6676/6676 [==============================] - 20s 3ms/step - loss: 0.1320 - stateful_binary_fbeta: 0.4265 - val_loss: 0.0069 - val_stateful_binary_fbeta: 0.7397\n",
      "Epoch 11/30\n",
      "6676/6676 [==============================] - 19s 3ms/step - loss: 0.1187 - stateful_binary_fbeta: 0.4137 - val_loss: 0.0071 - val_stateful_binary_fbeta: 0.7248\n",
      "Epoch 12/30\n",
      "6676/6676 [==============================] - 21s 3ms/step - loss: 0.1099 - stateful_binary_fbeta: 0.4634 - val_loss: 0.0069 - val_stateful_binary_fbeta: 0.7219\n",
      "Epoch 13/30\n",
      "6676/6676 [==============================] - 20s 3ms/step - loss: 0.1173 - stateful_binary_fbeta: 0.4285 - val_loss: 0.0081 - val_stateful_binary_fbeta: 0.6646\n",
      "Epoch 14/30\n",
      "6676/6676 [==============================] - 18s 3ms/step - loss: 0.1258 - stateful_binary_fbeta: 0.4627 - val_loss: 0.0111 - val_stateful_binary_fbeta: 0.5612\n",
      "Epoch 15/30\n",
      "6676/6676 [==============================] - 22s 3ms/step - loss: 0.1239 - stateful_binary_fbeta: 0.4019 - val_loss: 0.0144 - val_stateful_binary_fbeta: 0.4545\n",
      "Epoch 16/30\n",
      "6676/6676 [==============================] - 20s 3ms/step - loss: 0.0933 - stateful_binary_fbeta: 0.4066 - val_loss: 0.0079 - val_stateful_binary_fbeta: 0.6812\n",
      "Epoch 17/30\n",
      "6676/6676 [==============================] - 23s 3ms/step - loss: 0.1110 - stateful_binary_fbeta: 0.4520 - val_loss: 0.0073 - val_stateful_binary_fbeta: 0.7152\n"
     ]
    }
   ],
   "source": [
    "model2 = build_model()\n",
    "history2 = model2.fit(X_train, y_train, epochs=30, batch_size=32, callbacks=[stopper2], \\\n",
    "                validation_data=(X_test, y_test), sample_weight=train_sample_weights, verbose=1)"
   ]
  },
  {
   "cell_type": "code",
   "execution_count": 41,
   "metadata": {
    "execution": {
     "iopub.execute_input": "2020-12-04T15:23:55.044591Z",
     "iopub.status.busy": "2020-12-04T15:23:55.043850Z",
     "iopub.status.idle": "2020-12-04T15:23:55.049511Z",
     "shell.execute_reply": "2020-12-04T15:23:55.048991Z"
    },
    "papermill": {
     "duration": 3.840814,
     "end_time": "2020-12-04T15:23:55.049612",
     "exception": false,
     "start_time": "2020-12-04T15:23:51.208798",
     "status": "completed"
    },
    "tags": []
   },
   "outputs": [
    {
     "data": {
      "text/plain": [
       "7"
      ]
     },
     "execution_count": 41,
     "metadata": {},
     "output_type": "execute_result"
    }
   ],
   "source": [
    "# retrieving the best number of epochs\n",
    "best_n_epochs2 = int(np.array(history2.history['val_loss']).argmin() + 1)\n",
    "best_n_epochs2"
   ]
  },
  {
   "cell_type": "markdown",
   "metadata": {
    "papermill": {
     "duration": 3.629786,
     "end_time": "2020-12-04T15:24:02.059454",
     "exception": false,
     "start_time": "2020-12-04T15:23:58.429668",
     "status": "completed"
    },
    "tags": []
   },
   "source": [
    "## Now, we will do our cross validation using the best number of  epochs."
   ]
  },
  {
   "cell_type": "code",
   "execution_count": 42,
   "metadata": {
    "execution": {
     "iopub.execute_input": "2020-12-04T15:24:10.331843Z",
     "iopub.status.busy": "2020-12-04T15:24:10.330941Z",
     "iopub.status.idle": "2020-12-04T15:31:34.029466Z",
     "shell.execute_reply": "2020-12-04T15:31:34.030210Z"
    },
    "papermill": {
     "duration": 447.828379,
     "end_time": "2020-12-04T15:31:34.030388",
     "exception": false,
     "start_time": "2020-12-04T15:24:06.202009",
     "status": "completed"
    },
    "tags": []
   },
   "outputs": [
    {
     "name": "stderr",
     "output_type": "stream",
     "text": [
      "[Parallel(n_jobs=1)]: Using backend SequentialBackend with 1 concurrent workers.\n",
      "[Parallel(n_jobs=1)]: Done   4 out of   4 | elapsed:  7.3min finished\n"
     ]
    }
   ],
   "source": [
    "cost_sensitive_model = KerasClassifier(build_fn=build_model)\n",
    "cost_sensitive_scaler = StandardScaler()\n",
    "cost_sensitive_clipper = ClipOutliers()\n",
    "\n",
    "cost_sensitive_pipe = Pipeline([('scaler', cost_sensitive_scaler), \\\n",
    "                                 ('clipper', cost_sensitive_clipper), ('model', cost_sensitive_model)])\n",
    "\n",
    "cost_sensitive_scores = cross_validate(cost_sensitive_pipe, np.array(X), y, verbose=1, \\\n",
    "                         scoring=['f1', 'average_precision'], cv=cv, return_estimator=True, \\\n",
    "                         error_score='raise', fit_params={'model__epochs': best_n_epochs2, \\\n",
    "                         'model__batch_size': 32, 'model__verbose': 0, \\\n",
    "                         'model__sample_weight': sample_weights})"
   ]
  },
  {
   "cell_type": "code",
   "execution_count": 43,
   "metadata": {
    "execution": {
     "iopub.execute_input": "2020-12-04T15:31:40.835748Z",
     "iopub.status.busy": "2020-12-04T15:31:40.834397Z",
     "iopub.status.idle": "2020-12-04T15:31:46.372901Z",
     "shell.execute_reply": "2020-12-04T15:31:46.371961Z"
    },
    "papermill": {
     "duration": 8.7567,
     "end_time": "2020-12-04T15:31:46.373014",
     "exception": false,
     "start_time": "2020-12-04T15:31:37.616314",
     "status": "completed"
    },
    "tags": []
   },
   "outputs": [
    {
     "data": {
      "text/html": [
       "<div>\n",
       "<style scoped>\n",
       "    .dataframe tbody tr th:only-of-type {\n",
       "        vertical-align: middle;\n",
       "    }\n",
       "\n",
       "    .dataframe tbody tr th {\n",
       "        vertical-align: top;\n",
       "    }\n",
       "\n",
       "    .dataframe thead th {\n",
       "        text-align: right;\n",
       "    }\n",
       "</style>\n",
       "<table border=\"1\" class=\"dataframe\">\n",
       "  <thead>\n",
       "    <tr style=\"text-align: right;\">\n",
       "      <th></th>\n",
       "      <th>f1_score</th>\n",
       "      <th>auc_pr</th>\n",
       "      <th>cost_savings</th>\n",
       "    </tr>\n",
       "  </thead>\n",
       "  <tbody>\n",
       "    <tr>\n",
       "      <th>split_1</th>\n",
       "      <td>0.551136</td>\n",
       "      <td>0.658969</td>\n",
       "      <td>0.750419</td>\n",
       "    </tr>\n",
       "    <tr>\n",
       "      <th>split_2</th>\n",
       "      <td>0.510949</td>\n",
       "      <td>0.777031</td>\n",
       "      <td>0.883155</td>\n",
       "    </tr>\n",
       "    <tr>\n",
       "      <th>split_3</th>\n",
       "      <td>0.647436</td>\n",
       "      <td>0.794043</td>\n",
       "      <td>0.854085</td>\n",
       "    </tr>\n",
       "    <tr>\n",
       "      <th>split_4</th>\n",
       "      <td>0.640523</td>\n",
       "      <td>0.706330</td>\n",
       "      <td>0.724373</td>\n",
       "    </tr>\n",
       "  </tbody>\n",
       "</table>\n",
       "</div>"
      ],
      "text/plain": [
       "         f1_score    auc_pr  cost_savings\n",
       "split_1  0.551136  0.658969      0.750419\n",
       "split_2  0.510949  0.777031      0.883155\n",
       "split_3  0.647436  0.794043      0.854085\n",
       "split_4  0.640523  0.706330      0.724373"
      ]
     },
     "execution_count": 43,
     "metadata": {},
     "output_type": "execute_result"
    }
   ],
   "source": [
    "cost_sensitive_results = get_metric_scores(cost_sensitive_scores, np.array(X))\n",
    "cost_sensitive_results"
   ]
  },
  {
   "cell_type": "code",
   "execution_count": 44,
   "metadata": {
    "execution": {
     "iopub.execute_input": "2020-12-04T15:31:52.786090Z",
     "iopub.status.busy": "2020-12-04T15:31:52.785088Z",
     "iopub.status.idle": "2020-12-04T15:31:52.790225Z",
     "shell.execute_reply": "2020-12-04T15:31:52.789704Z"
    },
    "papermill": {
     "duration": 3.234772,
     "end_time": "2020-12-04T15:31:52.790324",
     "exception": false,
     "start_time": "2020-12-04T15:31:49.555552",
     "status": "completed"
    },
    "tags": []
   },
   "outputs": [
    {
     "data": {
      "text/plain": [
       "f1_score        0.587511\n",
       "auc_pr          0.734093\n",
       "cost_savings    0.803008\n",
       "dtype: float64"
      ]
     },
     "execution_count": 44,
     "metadata": {},
     "output_type": "execute_result"
    }
   ],
   "source": [
    "cost_sensitive_results.mean()"
   ]
  },
  {
   "cell_type": "markdown",
   "metadata": {
    "papermill": {
     "duration": 3.169607,
     "end_time": "2020-12-04T15:31:59.366389",
     "exception": false,
     "start_time": "2020-12-04T15:31:56.196782",
     "status": "completed"
    },
    "tags": []
   },
   "source": [
    "## Bayes Mininmum Risk (BMR)"
   ]
  },
  {
   "cell_type": "markdown",
   "metadata": {
    "papermill": {
     "duration": 3.390409,
     "end_time": "2020-12-04T15:32:06.138122",
     "exception": false,
     "start_time": "2020-12-04T15:32:02.747713",
     "status": "completed"
    },
    "tags": []
   },
   "source": [
    "### Note: cost dependent classification is also called Bayes Mininmum Risk.\n",
    "***see more about BMR [here](https://link.springer.com/article/10.1007/s42452-020-03375-w)***"
   ]
  },
  {
   "cell_type": "code",
   "execution_count": 45,
   "metadata": {
    "execution": {
     "iopub.execute_input": "2020-12-04T15:32:13.733507Z",
     "iopub.status.busy": "2020-12-04T15:32:13.731572Z",
     "iopub.status.idle": "2020-12-04T15:32:13.734173Z",
     "shell.execute_reply": "2020-12-04T15:32:13.734640Z"
    },
    "papermill": {
     "duration": 3.263508,
     "end_time": "2020-12-04T15:32:13.734763",
     "exception": false,
     "start_time": "2020-12-04T15:32:10.471255",
     "status": "completed"
    },
    "tags": []
   },
   "outputs": [],
   "source": [
    "# defining a function to predict based on the predicting that will minimize the expected cost.\n",
    "def bmr_predict(model, x, trans_cost):\n",
    "    prob = model.predict_proba(x)[:, 1]\n",
    "        \n",
    "    expected_cost_0 = prob * trans_cost\n",
    "    expected_cost_1 = (1-prob) * admin_cost\n",
    "        \n",
    "    pred = (expected_cost_1 < expected_cost_0).astype(int)\n",
    "    return pred"
   ]
  },
  {
   "cell_type": "markdown",
   "metadata": {
    "papermill": {
     "duration": 3.493745,
     "end_time": "2020-12-04T15:32:20.500705",
     "exception": false,
     "start_time": "2020-12-04T15:32:17.006960",
     "status": "completed"
    },
    "tags": []
   },
   "source": [
    "### Calculating AUC PR curve is not possible for BMR because predictions are based on minimum expected cost and not on probability. For this reason, we will calculate only f1_score and cost-savings for this model."
   ]
  },
  {
   "cell_type": "code",
   "execution_count": 46,
   "metadata": {
    "execution": {
     "iopub.execute_input": "2020-12-04T15:32:26.988903Z",
     "iopub.status.busy": "2020-12-04T15:32:26.988095Z",
     "iopub.status.idle": "2020-12-04T15:32:26.992028Z",
     "shell.execute_reply": "2020-12-04T15:32:26.991522Z"
    },
    "papermill": {
     "duration": 3.274221,
     "end_time": "2020-12-04T15:32:26.992175",
     "exception": false,
     "start_time": "2020-12-04T15:32:23.717954",
     "status": "completed"
    },
    "tags": []
   },
   "outputs": [],
   "source": [
    "def get_bmr_metric_scores(scores, x, y=y, cv_object=cv):\n",
    "    ind = ['split_'+str(n) for n in range(1, cv_object.n_splits+1)]\n",
    "    scores_df = pd.DataFrame(index=ind)\n",
    "\n",
    "    f1_results = []\n",
    "    cs_results = []\n",
    "    \n",
    "    for i, (_, test_ind) in zip(range(cv_object.n_splits), cv_object.split(x, y)):\n",
    "        amount = df['Amount'].values[test_ind]\n",
    "        \n",
    "        ypred = bmr_predict(scores['estimator'][i], x[test_ind], amount)\n",
    "        ytrue = y[test_ind]\n",
    "                \n",
    "        f1_results.append(f1_score(ytrue, ypred))\n",
    "        cs_results.append(cost_saving(ytrue, ypred, amount))\n",
    "        \n",
    "    scores_df['f1_score'] = f1_results\n",
    "    #scores_df['auc_pr'] = scores['test_average_precision']\n",
    "    scores_df['cost_savings'] = cs_results\n",
    "\n",
    "    return scores_df    "
   ]
  },
  {
   "cell_type": "code",
   "execution_count": 47,
   "metadata": {
    "execution": {
     "iopub.execute_input": "2020-12-04T15:32:33.727472Z",
     "iopub.status.busy": "2020-12-04T15:32:33.726237Z",
     "iopub.status.idle": "2020-12-04T15:32:38.992384Z",
     "shell.execute_reply": "2020-12-04T15:32:38.992832Z"
    },
    "papermill": {
     "duration": 8.571731,
     "end_time": "2020-12-04T15:32:38.992965",
     "exception": false,
     "start_time": "2020-12-04T15:32:30.421234",
     "status": "completed"
    },
    "tags": []
   },
   "outputs": [
    {
     "data": {
      "text/html": [
       "<div>\n",
       "<style scoped>\n",
       "    .dataframe tbody tr th:only-of-type {\n",
       "        vertical-align: middle;\n",
       "    }\n",
       "\n",
       "    .dataframe tbody tr th {\n",
       "        vertical-align: top;\n",
       "    }\n",
       "\n",
       "    .dataframe thead th {\n",
       "        text-align: right;\n",
       "    }\n",
       "</style>\n",
       "<table border=\"1\" class=\"dataframe\">\n",
       "  <thead>\n",
       "    <tr style=\"text-align: right;\">\n",
       "      <th></th>\n",
       "      <th>f1_score</th>\n",
       "      <th>cost_savings</th>\n",
       "    </tr>\n",
       "  </thead>\n",
       "  <tbody>\n",
       "    <tr>\n",
       "      <th>split_1</th>\n",
       "      <td>0.533742</td>\n",
       "      <td>0.752231</td>\n",
       "    </tr>\n",
       "    <tr>\n",
       "      <th>split_2</th>\n",
       "      <td>0.443925</td>\n",
       "      <td>0.834571</td>\n",
       "    </tr>\n",
       "    <tr>\n",
       "      <th>split_3</th>\n",
       "      <td>0.518950</td>\n",
       "      <td>0.846255</td>\n",
       "    </tr>\n",
       "    <tr>\n",
       "      <th>split_4</th>\n",
       "      <td>0.570533</td>\n",
       "      <td>0.751748</td>\n",
       "    </tr>\n",
       "  </tbody>\n",
       "</table>\n",
       "</div>"
      ],
      "text/plain": [
       "         f1_score  cost_savings\n",
       "split_1  0.533742      0.752231\n",
       "split_2  0.443925      0.834571\n",
       "split_3  0.518950      0.846255\n",
       "split_4  0.570533      0.751748"
      ]
     },
     "execution_count": 47,
     "metadata": {},
     "output_type": "execute_result"
    }
   ],
   "source": [
    "bmr_results = get_bmr_metric_scores(fraud_sensitive_scores, np.array(X))\n",
    "bmr_results"
   ]
  },
  {
   "cell_type": "code",
   "execution_count": 48,
   "metadata": {
    "execution": {
     "iopub.execute_input": "2020-12-04T15:32:46.003316Z",
     "iopub.status.busy": "2020-12-04T15:32:46.002318Z",
     "iopub.status.idle": "2020-12-04T15:32:46.007174Z",
     "shell.execute_reply": "2020-12-04T15:32:46.006659Z"
    },
    "papermill": {
     "duration": 3.233264,
     "end_time": "2020-12-04T15:32:46.007272",
     "exception": false,
     "start_time": "2020-12-04T15:32:42.774008",
     "status": "completed"
    },
    "tags": []
   },
   "outputs": [
    {
     "data": {
      "text/plain": [
       "f1_score        0.516788\n",
       "cost_savings    0.796201\n",
       "dtype: float64"
      ]
     },
     "execution_count": 48,
     "metadata": {},
     "output_type": "execute_result"
    }
   ],
   "source": [
    "bmr_results.mean()"
   ]
  },
  {
   "cell_type": "markdown",
   "metadata": {
    "_cell_guid": "79c7e3d0-c299-4dcb-8224-4455121ee9b0",
    "_uuid": "d629ff2d2480ee46fbb7e2d37f6b5fab8052498a",
    "collapsed": true,
    "papermill": {
     "duration": 3.449248,
     "end_time": "2020-12-04T15:32:52.690112",
     "exception": false,
     "start_time": "2020-12-04T15:32:49.240864",
     "status": "completed"
    },
    "tags": []
   },
   "source": [
    "## We now see that as we make our model more cost sensitive, f1score drops. Overall, fraud sensitive model seems to be the best for MLP since all of the three metrics are pretty good."
   ]
  }
 ],
 "metadata": {
  "kernelspec": {
   "display_name": "Python 3",
   "language": "python",
   "name": "python3"
  },
  "language_info": {
   "codemirror_mode": {
    "name": "ipython",
    "version": 3
   },
   "file_extension": ".py",
   "mimetype": "text/x-python",
   "name": "python",
   "nbconvert_exporter": "python",
   "pygments_lexer": "ipython3",
   "version": "3.7.7"
  },
  "papermill": {
   "duration": 1401.289375,
   "end_time": "2020-12-04T15:32:57.140604",
   "environment_variables": {},
   "exception": null,
   "input_path": "__notebook__.ipynb",
   "output_path": "__notebook__.ipynb",
   "parameters": {},
   "start_time": "2020-12-04T15:09:35.851229",
   "version": "2.1.0"
  }
 },
 "nbformat": 4,
 "nbformat_minor": 4
}
