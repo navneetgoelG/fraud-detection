{
 "cells": [
  {
   "cell_type": "markdown",
   "metadata": {
    "papermill": {
<<<<<<< HEAD
     "duration": 0.046366,
     "end_time": "2020-12-04T15:09:40.026434",
     "exception": false,
     "start_time": "2020-12-04T15:09:39.980068",
=======
     "duration": 0.053586,
     "end_time": "2020-12-05T14:42:56.896953",
     "exception": false,
     "start_time": "2020-12-05T14:42:56.843367",
>>>>>>> 64298a656ba05506c9bd61daefa94c3a53b9dae1
     "status": "completed"
    },
    "tags": []
   },
   "source": [
    "## MLP Model"
   ]
  },
  {
   "cell_type": "code",
   "execution_count": 1,
   "metadata": {
    "_cell_guid": "79c7e3d0-c299-4dcb-8224-4455121ee9b0",
    "_uuid": "d629ff2d2480ee46fbb7e2d37f6b5fab8052498a",
    "execution": {
<<<<<<< HEAD
     "iopub.execute_input": "2020-12-04T15:09:40.129765Z",
     "iopub.status.busy": "2020-12-04T15:09:40.128977Z",
     "iopub.status.idle": "2020-12-04T15:09:46.069440Z",
     "shell.execute_reply": "2020-12-04T15:09:46.068511Z"
    },
    "papermill": {
     "duration": 5.999928,
     "end_time": "2020-12-04T15:09:46.069581",
     "exception": false,
     "start_time": "2020-12-04T15:09:40.069653",
=======
     "iopub.execute_input": "2020-12-05T14:42:57.021257Z",
     "iopub.status.busy": "2020-12-05T14:42:57.020439Z",
     "iopub.status.idle": "2020-12-05T14:43:04.294376Z",
     "shell.execute_reply": "2020-12-05T14:43:04.293352Z"
    },
    "papermill": {
     "duration": 7.345427,
     "end_time": "2020-12-05T14:43:04.294581",
     "exception": false,
     "start_time": "2020-12-05T14:42:56.949154",
>>>>>>> 64298a656ba05506c9bd61daefa94c3a53b9dae1
     "status": "completed"
    },
    "tags": []
   },
   "outputs": [],
   "source": [
    "# importing useful libraries\n",
    "import numpy as np\n",
    "import tensorflow as tf\n",
    "import random as python_random\n",
    "\n",
    "# setting random seed for result reproducibility\n",
    "np.random.seed(1)\n",
    "python_random.seed(12)\n",
    "tf.random.set_seed(123)\n",
    "\n",
    "from tensorflow.keras.models import Sequential\n",
    "from tensorflow.keras.layers import Dense, Dropout\n",
    "from tensorflow.keras.optimizers import Adam\n",
    "from tensorflow.keras.metrics import Metric, AUC\n",
    "from keras.wrappers.scikit_learn import KerasClassifier\n",
    "\n",
    "import pandas as pd\n",
    "import matplotlib.pyplot as plt\n",
    "import seaborn as sns\n",
    "\n",
    "from sklearn.model_selection import StratifiedKFold, cross_validate, train_test_split\n",
    "from sklearn.preprocessing import StandardScaler\n",
    "from sklearn.metrics import f1_score\n",
    "from sklearn.feature_selection import RFECV\n",
    "from sklearn.pipeline import Pipeline\n",
    "from sklearn.base import BaseEstimator, TransformerMixin\n",
    "\n",
    "from tensorflow.keras.models import Sequential\n",
    "from tensorflow.keras.layers import Dense, Dropout\n",
    "from tensorflow.keras.callbacks import EarlyStopping\n",
    "\n",
    "import warnings\n",
    "warnings.filterwarnings('ignore')\n",
    "\n",
    "%matplotlib inline"
   ]
  },
  {
   "cell_type": "code",
   "execution_count": 2,
   "metadata": {
    "execution": {
<<<<<<< HEAD
     "iopub.execute_input": "2020-12-04T15:09:46.204885Z",
     "iopub.status.busy": "2020-12-04T15:09:46.204061Z",
     "iopub.status.idle": "2020-12-04T15:09:49.621675Z",
     "shell.execute_reply": "2020-12-04T15:09:49.622351Z"
    },
    "papermill": {
     "duration": 3.490735,
     "end_time": "2020-12-04T15:09:49.622500",
     "exception": false,
     "start_time": "2020-12-04T15:09:46.131765",
=======
     "iopub.execute_input": "2020-12-05T14:43:04.405682Z",
     "iopub.status.busy": "2020-12-05T14:43:04.404918Z",
     "iopub.status.idle": "2020-12-05T14:43:06.950126Z",
     "shell.execute_reply": "2020-12-05T14:43:06.950829Z"
    },
    "papermill": {
     "duration": 2.604654,
     "end_time": "2020-12-05T14:43:06.950995",
     "exception": false,
     "start_time": "2020-12-05T14:43:04.346341",
>>>>>>> 64298a656ba05506c9bd61daefa94c3a53b9dae1
     "status": "completed"
    },
    "tags": []
   },
   "outputs": [
    {
     "name": "stdout",
     "output_type": "stream",
     "text": [
      "(284807, 31)\n"
     ]
    },
    {
     "data": {
      "text/html": [
       "<div>\n",
       "<style scoped>\n",
       "    .dataframe tbody tr th:only-of-type {\n",
       "        vertical-align: middle;\n",
       "    }\n",
       "\n",
       "    .dataframe tbody tr th {\n",
       "        vertical-align: top;\n",
       "    }\n",
       "\n",
       "    .dataframe thead th {\n",
       "        text-align: right;\n",
       "    }\n",
       "</style>\n",
       "<table border=\"1\" class=\"dataframe\">\n",
       "  <thead>\n",
       "    <tr style=\"text-align: right;\">\n",
       "      <th></th>\n",
       "      <th>Time</th>\n",
       "      <th>V1</th>\n",
       "      <th>V2</th>\n",
       "      <th>V3</th>\n",
       "      <th>V4</th>\n",
       "      <th>V5</th>\n",
       "      <th>V6</th>\n",
       "      <th>V7</th>\n",
       "      <th>V8</th>\n",
       "      <th>V9</th>\n",
       "      <th>...</th>\n",
       "      <th>V21</th>\n",
       "      <th>V22</th>\n",
       "      <th>V23</th>\n",
       "      <th>V24</th>\n",
       "      <th>V25</th>\n",
       "      <th>V26</th>\n",
       "      <th>V27</th>\n",
       "      <th>V28</th>\n",
       "      <th>Amount</th>\n",
       "      <th>Class</th>\n",
       "    </tr>\n",
       "  </thead>\n",
       "  <tbody>\n",
       "    <tr>\n",
       "      <th>0</th>\n",
       "      <td>0.0</td>\n",
       "      <td>-1.359807</td>\n",
       "      <td>-0.072781</td>\n",
       "      <td>2.536347</td>\n",
       "      <td>1.378155</td>\n",
       "      <td>-0.338321</td>\n",
       "      <td>0.462388</td>\n",
       "      <td>0.239599</td>\n",
       "      <td>0.098698</td>\n",
       "      <td>0.363787</td>\n",
       "      <td>...</td>\n",
       "      <td>-0.018307</td>\n",
       "      <td>0.277838</td>\n",
       "      <td>-0.110474</td>\n",
       "      <td>0.066928</td>\n",
       "      <td>0.128539</td>\n",
       "      <td>-0.189115</td>\n",
       "      <td>0.133558</td>\n",
       "      <td>-0.021053</td>\n",
       "      <td>149.62</td>\n",
       "      <td>0</td>\n",
       "    </tr>\n",
       "    <tr>\n",
       "      <th>1</th>\n",
       "      <td>0.0</td>\n",
       "      <td>1.191857</td>\n",
       "      <td>0.266151</td>\n",
       "      <td>0.166480</td>\n",
       "      <td>0.448154</td>\n",
       "      <td>0.060018</td>\n",
       "      <td>-0.082361</td>\n",
       "      <td>-0.078803</td>\n",
       "      <td>0.085102</td>\n",
       "      <td>-0.255425</td>\n",
       "      <td>...</td>\n",
       "      <td>-0.225775</td>\n",
       "      <td>-0.638672</td>\n",
       "      <td>0.101288</td>\n",
       "      <td>-0.339846</td>\n",
       "      <td>0.167170</td>\n",
       "      <td>0.125895</td>\n",
       "      <td>-0.008983</td>\n",
       "      <td>0.014724</td>\n",
       "      <td>2.69</td>\n",
       "      <td>0</td>\n",
       "    </tr>\n",
       "    <tr>\n",
       "      <th>2</th>\n",
       "      <td>1.0</td>\n",
       "      <td>-1.358354</td>\n",
       "      <td>-1.340163</td>\n",
       "      <td>1.773209</td>\n",
       "      <td>0.379780</td>\n",
       "      <td>-0.503198</td>\n",
       "      <td>1.800499</td>\n",
       "      <td>0.791461</td>\n",
       "      <td>0.247676</td>\n",
       "      <td>-1.514654</td>\n",
       "      <td>...</td>\n",
       "      <td>0.247998</td>\n",
       "      <td>0.771679</td>\n",
       "      <td>0.909412</td>\n",
       "      <td>-0.689281</td>\n",
       "      <td>-0.327642</td>\n",
       "      <td>-0.139097</td>\n",
       "      <td>-0.055353</td>\n",
       "      <td>-0.059752</td>\n",
       "      <td>378.66</td>\n",
       "      <td>0</td>\n",
       "    </tr>\n",
       "    <tr>\n",
       "      <th>3</th>\n",
       "      <td>1.0</td>\n",
       "      <td>-0.966272</td>\n",
       "      <td>-0.185226</td>\n",
       "      <td>1.792993</td>\n",
       "      <td>-0.863291</td>\n",
       "      <td>-0.010309</td>\n",
       "      <td>1.247203</td>\n",
       "      <td>0.237609</td>\n",
       "      <td>0.377436</td>\n",
       "      <td>-1.387024</td>\n",
       "      <td>...</td>\n",
       "      <td>-0.108300</td>\n",
       "      <td>0.005274</td>\n",
       "      <td>-0.190321</td>\n",
       "      <td>-1.175575</td>\n",
       "      <td>0.647376</td>\n",
       "      <td>-0.221929</td>\n",
       "      <td>0.062723</td>\n",
       "      <td>0.061458</td>\n",
       "      <td>123.50</td>\n",
       "      <td>0</td>\n",
       "    </tr>\n",
       "    <tr>\n",
       "      <th>4</th>\n",
       "      <td>2.0</td>\n",
       "      <td>-1.158233</td>\n",
       "      <td>0.877737</td>\n",
       "      <td>1.548718</td>\n",
       "      <td>0.403034</td>\n",
       "      <td>-0.407193</td>\n",
       "      <td>0.095921</td>\n",
       "      <td>0.592941</td>\n",
       "      <td>-0.270533</td>\n",
       "      <td>0.817739</td>\n",
       "      <td>...</td>\n",
       "      <td>-0.009431</td>\n",
       "      <td>0.798278</td>\n",
       "      <td>-0.137458</td>\n",
       "      <td>0.141267</td>\n",
       "      <td>-0.206010</td>\n",
       "      <td>0.502292</td>\n",
       "      <td>0.219422</td>\n",
       "      <td>0.215153</td>\n",
       "      <td>69.99</td>\n",
       "      <td>0</td>\n",
       "    </tr>\n",
       "  </tbody>\n",
       "</table>\n",
       "<p>5 rows × 31 columns</p>\n",
       "</div>"
      ],
      "text/plain": [
       "   Time        V1        V2        V3        V4        V5        V6        V7  \\\n",
       "0   0.0 -1.359807 -0.072781  2.536347  1.378155 -0.338321  0.462388  0.239599   \n",
       "1   0.0  1.191857  0.266151  0.166480  0.448154  0.060018 -0.082361 -0.078803   \n",
       "2   1.0 -1.358354 -1.340163  1.773209  0.379780 -0.503198  1.800499  0.791461   \n",
       "3   1.0 -0.966272 -0.185226  1.792993 -0.863291 -0.010309  1.247203  0.237609   \n",
       "4   2.0 -1.158233  0.877737  1.548718  0.403034 -0.407193  0.095921  0.592941   \n",
       "\n",
       "         V8        V9  ...       V21       V22       V23       V24       V25  \\\n",
       "0  0.098698  0.363787  ... -0.018307  0.277838 -0.110474  0.066928  0.128539   \n",
       "1  0.085102 -0.255425  ... -0.225775 -0.638672  0.101288 -0.339846  0.167170   \n",
       "2  0.247676 -1.514654  ...  0.247998  0.771679  0.909412 -0.689281 -0.327642   \n",
       "3  0.377436 -1.387024  ... -0.108300  0.005274 -0.190321 -1.175575  0.647376   \n",
       "4 -0.270533  0.817739  ... -0.009431  0.798278 -0.137458  0.141267 -0.206010   \n",
       "\n",
       "        V26       V27       V28  Amount  Class  \n",
       "0 -0.189115  0.133558 -0.021053  149.62      0  \n",
       "1  0.125895 -0.008983  0.014724    2.69      0  \n",
       "2 -0.139097 -0.055353 -0.059752  378.66      0  \n",
       "3 -0.221929  0.062723  0.061458  123.50      0  \n",
       "4  0.502292  0.219422  0.215153   69.99      0  \n",
       "\n",
       "[5 rows x 31 columns]"
      ]
     },
     "execution_count": 2,
     "metadata": {},
     "output_type": "execute_result"
    }
   ],
   "source": [
    "# loading in the dataset\n",
    "df = pd.read_csv('../input/creditcardfraud/creditcard.csv')\n",
    "print(df.shape)\n",
    "df.head()"
   ]
  },
  {
   "cell_type": "code",
   "execution_count": 3,
   "metadata": {
    "execution": {
<<<<<<< HEAD
     "iopub.execute_input": "2020-12-04T15:09:49.730059Z",
     "iopub.status.busy": "2020-12-04T15:09:49.728429Z",
     "iopub.status.idle": "2020-12-04T15:09:49.731062Z",
     "shell.execute_reply": "2020-12-04T15:09:49.731565Z"
    },
    "papermill": {
     "duration": 0.062648,
     "end_time": "2020-12-04T15:09:49.731691",
     "exception": false,
     "start_time": "2020-12-04T15:09:49.669043",
=======
     "iopub.execute_input": "2020-12-05T14:43:07.063127Z",
     "iopub.status.busy": "2020-12-05T14:43:07.062268Z",
     "iopub.status.idle": "2020-12-05T14:43:07.067872Z",
     "shell.execute_reply": "2020-12-05T14:43:07.068418Z"
    },
    "papermill": {
     "duration": 0.064309,
     "end_time": "2020-12-05T14:43:07.068576",
     "exception": false,
     "start_time": "2020-12-05T14:43:07.004267",
     "status": "completed"
    },
    "tags": []
   },
   "outputs": [
    {
     "name": "stdout",
     "output_type": "stream",
     "text": [
      "['V1', 'V2', 'V3', 'V4', 'V5', 'V6', 'V7', 'V8', 'V9', 'V10', 'V11', 'V12', 'V13', 'V14', 'V15', 'V16', 'V17', 'V18', 'V19', 'V20', 'V21', 'V22', 'V23', 'V24', 'V26', 'V27', 'V28']\n"
     ]
    }
   ],
   "source": [
    "# 27 most important features according to our EDA\n",
    "cols = ['V'+str(i) for i in range(1, 29) if i != 25]\n",
    "print(cols)"
   ]
  },
  {
   "cell_type": "code",
   "execution_count": 4,
   "metadata": {
    "execution": {
     "iopub.execute_input": "2020-12-05T14:43:07.204105Z",
     "iopub.status.busy": "2020-12-05T14:43:07.202921Z",
     "iopub.status.idle": "2020-12-05T14:43:07.205763Z",
     "shell.execute_reply": "2020-12-05T14:43:07.206264Z"
    },
    "papermill": {
     "duration": 0.083735,
     "end_time": "2020-12-05T14:43:07.206428",
     "exception": false,
     "start_time": "2020-12-05T14:43:07.122693",
>>>>>>> 64298a656ba05506c9bd61daefa94c3a53b9dae1
     "status": "completed"
    },
    "tags": []
   },
   "outputs": [],
   "source": [
    "# selecting the 19 most important features according to our EDA \n",
<<<<<<< HEAD
    "X = df[['V1', 'V2', 'V3', 'V4', 'V5', 'V6', 'V7', 'V8', 'V9', 'V10', 'V11', 'V12', 'V13', 'V14', \\\n",
    "        'V16', 'V17', 'V21', 'V23', 'V27']]\n",
=======
    "X = df[cols]\n",
>>>>>>> 64298a656ba05506c9bd61daefa94c3a53b9dae1
    "\n",
    "y = df['Class'] # selecting the target variable"
   ]
  },
  {
   "cell_type": "code",
<<<<<<< HEAD
   "execution_count": 4,
   "metadata": {
    "execution": {
     "iopub.execute_input": "2020-12-04T15:09:49.825045Z",
     "iopub.status.busy": "2020-12-04T15:09:49.824260Z",
     "iopub.status.idle": "2020-12-04T15:09:49.850038Z",
     "shell.execute_reply": "2020-12-04T15:09:49.849132Z"
    },
    "papermill": {
     "duration": 0.074197,
     "end_time": "2020-12-04T15:09:49.850167",
     "exception": false,
     "start_time": "2020-12-04T15:09:49.775970",
=======
   "execution_count": 5,
   "metadata": {
    "execution": {
     "iopub.execute_input": "2020-12-05T14:43:07.319365Z",
     "iopub.status.busy": "2020-12-05T14:43:07.318337Z",
     "iopub.status.idle": "2020-12-05T14:43:07.353768Z",
     "shell.execute_reply": "2020-12-05T14:43:07.353184Z"
    },
    "papermill": {
     "duration": 0.09392,
     "end_time": "2020-12-05T14:43:07.353892",
     "exception": false,
     "start_time": "2020-12-05T14:43:07.259972",
>>>>>>> 64298a656ba05506c9bd61daefa94c3a53b9dae1
     "status": "completed"
    },
    "tags": []
   },
   "outputs": [
    {
     "data": {
      "text/plain": [
       "{0: 3.51722561243691e-06, 1: 0.0020325203252032522}"
      ]
     },
<<<<<<< HEAD
     "execution_count": 4,
=======
     "execution_count": 5,
>>>>>>> 64298a656ba05506c9bd61daefa94c3a53b9dae1
     "metadata": {},
     "output_type": "execute_result"
    }
   ],
   "source": [
    "val_count = df['Class'].value_counts()\n",
    "weights = dict(1 / val_count) # to be used as class weights\n",
    "weights"
   ]
  },
  {
   "cell_type": "markdown",
   "metadata": {
    "papermill": {
<<<<<<< HEAD
     "duration": 0.044465,
     "end_time": "2020-12-04T15:09:49.939693",
     "exception": false,
     "start_time": "2020-12-04T15:09:49.895228",
=======
     "duration": 0.061288,
     "end_time": "2020-12-05T14:43:07.469619",
     "exception": false,
     "start_time": "2020-12-05T14:43:07.408331",
>>>>>>> 64298a656ba05506c9bd61daefa94c3a53b9dae1
     "status": "completed"
    },
    "tags": []
   },
   "source": [
<<<<<<< HEAD
    "### Not using class weight performed better than using class weight for the neural network. So, we WOULDN'T use class weight for our neural network. "
=======
    "### Not using classw weight performed better than using class weight for the neural network. So, we would use class weight in for our neural network. "
>>>>>>> 64298a656ba05506c9bd61daefa94c3a53b9dae1
   ]
  },
  {
   "cell_type": "markdown",
   "metadata": {
    "papermill": {
<<<<<<< HEAD
     "duration": 0.044374,
     "end_time": "2020-12-04T15:09:50.031011",
     "exception": false,
     "start_time": "2020-12-04T15:09:49.986637",
=======
     "duration": 0.053927,
     "end_time": "2020-12-05T14:43:07.578015",
     "exception": false,
     "start_time": "2020-12-05T14:43:07.524088",
>>>>>>> 64298a656ba05506c9bd61daefa94c3a53b9dae1
     "status": "completed"
    },
    "tags": []
   },
   "source": [
    "## <center>Cost matrix for fraud detection</center>\n",
    "\n",
    "||Actual Positive|Actual Negative|\n",
    "|:-:|:-:|:-:|\n",
    "|**Predicted Positive**|administrative cost|administrative cost|\n",
    "|**Predicted Negative**|transactional cost|0|"
   ]
  },
  {
   "cell_type": "markdown",
   "metadata": {
    "papermill": {
<<<<<<< HEAD
     "duration": 0.044996,
     "end_time": "2020-12-04T15:09:50.120493",
     "exception": false,
     "start_time": "2020-12-04T15:09:50.075497",
=======
     "duration": 0.053503,
     "end_time": "2020-12-05T14:43:07.685896",
     "exception": false,
     "start_time": "2020-12-05T14:43:07.632393",
>>>>>>> 64298a656ba05506c9bd61daefa94c3a53b9dae1
     "status": "completed"
    },
    "tags": []
   },
   "source": [
    "### *see [this article](https://towardsdatascience.com/fraud-detection-with-cost-sensitive-machine-learning-24b8760d35d9) for more about cost sensitive machine learning for fraud detection*"
   ]
  },
  {
   "cell_type": "code",
<<<<<<< HEAD
   "execution_count": 5,
   "metadata": {
    "execution": {
     "iopub.execute_input": "2020-12-04T15:09:50.216208Z",
     "iopub.status.busy": "2020-12-04T15:09:50.215449Z",
     "iopub.status.idle": "2020-12-04T15:09:50.218287Z",
     "shell.execute_reply": "2020-12-04T15:09:50.217770Z"
    },
    "papermill": {
     "duration": 0.05287,
     "end_time": "2020-12-04T15:09:50.218392",
     "exception": false,
     "start_time": "2020-12-04T15:09:50.165522",
=======
   "execution_count": 6,
   "metadata": {
    "execution": {
     "iopub.execute_input": "2020-12-05T14:43:07.798765Z",
     "iopub.status.busy": "2020-12-05T14:43:07.797681Z",
     "iopub.status.idle": "2020-12-05T14:43:07.799889Z",
     "shell.execute_reply": "2020-12-05T14:43:07.800463Z"
    },
    "papermill": {
     "duration": 0.06121,
     "end_time": "2020-12-05T14:43:07.800628",
     "exception": false,
     "start_time": "2020-12-05T14:43:07.739418",
>>>>>>> 64298a656ba05506c9bd61daefa94c3a53b9dae1
     "status": "completed"
    },
    "tags": []
   },
   "outputs": [],
   "source": [
    "admin_cost = 2.5"
   ]
  },
  {
   "cell_type": "markdown",
   "metadata": {
    "papermill": {
<<<<<<< HEAD
     "duration": 0.044422,
     "end_time": "2020-12-04T15:09:50.307863",
     "exception": false,
     "start_time": "2020-12-04T15:09:50.263441",
=======
     "duration": 0.054606,
     "end_time": "2020-12-05T14:43:07.910711",
     "exception": false,
     "start_time": "2020-12-05T14:43:07.856105",
>>>>>>> 64298a656ba05506c9bd61daefa94c3a53b9dae1
     "status": "completed"
    },
    "tags": []
   },
   "source": [
    "### our choice of using 2.5euros as the administartive cost because it seems to be the best for our problem as suggested by [this paper](https://www.researchgate.net/publication/262390835_Cost_Sensitive_Credit_Card_Fraud_Detection_Using_Bayes_Minimum_Risk)"
   ]
  },
  {
   "cell_type": "markdown",
   "metadata": {
    "papermill": {
<<<<<<< HEAD
     "duration": 0.044594,
     "end_time": "2020-12-04T15:09:50.397186",
     "exception": false,
     "start_time": "2020-12-04T15:09:50.352592",
=======
     "duration": 0.054176,
     "end_time": "2020-12-05T14:43:08.019042",
     "exception": false,
     "start_time": "2020-12-05T14:43:07.964866",
>>>>>>> 64298a656ba05506c9bd61daefa94c3a53b9dae1
     "status": "completed"
    },
    "tags": []
   },
   "source": [
    "## Also, implementing cost sensitive models for sklearn's classifier is challenging. It is as good as creating a new model from the scratch. For simplicity, we will not penalize our model of True Positives (although, the cost matrix suggests we should penalize it for true positives). This will mean that we are only penalizing MISCLASSIFICATIONS (trying to minimize costs due to misclassification and not cost in general)."
   ]
  },
  {
   "cell_type": "code",
<<<<<<< HEAD
   "execution_count": 6,
   "metadata": {
    "execution": {
     "iopub.execute_input": "2020-12-04T15:09:50.491000Z",
     "iopub.status.busy": "2020-12-04T15:09:50.490410Z",
     "iopub.status.idle": "2020-12-04T15:09:50.494637Z",
     "shell.execute_reply": "2020-12-04T15:09:50.494166Z"
    },
    "papermill": {
     "duration": 0.053009,
     "end_time": "2020-12-04T15:09:50.494745",
     "exception": false,
     "start_time": "2020-12-04T15:09:50.441736",
=======
   "execution_count": 7,
   "metadata": {
    "execution": {
     "iopub.execute_input": "2020-12-05T14:43:08.132872Z",
     "iopub.status.busy": "2020-12-05T14:43:08.132143Z",
     "iopub.status.idle": "2020-12-05T14:43:08.136634Z",
     "shell.execute_reply": "2020-12-05T14:43:08.136088Z"
    },
    "papermill": {
     "duration": 0.063356,
     "end_time": "2020-12-05T14:43:08.136755",
     "exception": false,
     "start_time": "2020-12-05T14:43:08.073399",
>>>>>>> 64298a656ba05506c9bd61daefa94c3a53b9dae1
     "status": "completed"
    },
    "tags": []
   },
   "outputs": [],
   "source": [
    "cv = StratifiedKFold(n_splits=4, shuffle=True, random_state=1)"
   ]
  },
  {
   "cell_type": "code",
<<<<<<< HEAD
   "execution_count": 7,
   "metadata": {
    "execution": {
     "iopub.execute_input": "2020-12-04T15:09:50.593660Z",
     "iopub.status.busy": "2020-12-04T15:09:50.591828Z",
     "iopub.status.idle": "2020-12-04T15:09:50.594315Z",
     "shell.execute_reply": "2020-12-04T15:09:50.594787Z"
    },
    "papermill": {
     "duration": 0.055599,
     "end_time": "2020-12-04T15:09:50.594903",
     "exception": false,
     "start_time": "2020-12-04T15:09:50.539304",
=======
   "execution_count": 8,
   "metadata": {
    "execution": {
     "iopub.execute_input": "2020-12-05T14:43:08.255660Z",
     "iopub.status.busy": "2020-12-05T14:43:08.254627Z",
     "iopub.status.idle": "2020-12-05T14:43:08.258043Z",
     "shell.execute_reply": "2020-12-05T14:43:08.257470Z"
    },
    "papermill": {
     "duration": 0.066655,
     "end_time": "2020-12-05T14:43:08.258160",
     "exception": false,
     "start_time": "2020-12-05T14:43:08.191505",
>>>>>>> 64298a656ba05506c9bd61daefa94c3a53b9dae1
     "status": "completed"
    },
    "tags": []
   },
   "outputs": [],
   "source": [
    "# defining a function to calculate cost savings\n",
    "def cost_saving(ytrue, ypred, amount, threshold=0.5):\n",
    "    ypred = ypred.flatten()\n",
    "    fp = np.sum((ytrue == 0) & (ypred == 1))\n",
    "    cost = np.sum(fp*admin_cost) + np.sum((amount[(ytrue == 1) & (ypred == 0)]))\n",
    "    max_cost = np.sum((amount[(ytrue == 1)]))\n",
    "    savings = 1 - (cost/max_cost)\n",
    "    \n",
    "    return savings"
   ]
  },
  {
   "cell_type": "code",
<<<<<<< HEAD
   "execution_count": 8,
   "metadata": {
    "execution": {
     "iopub.execute_input": "2020-12-04T15:09:50.694362Z",
     "iopub.status.busy": "2020-12-04T15:09:50.693678Z",
     "iopub.status.idle": "2020-12-04T15:09:50.697880Z",
     "shell.execute_reply": "2020-12-04T15:09:50.697349Z"
    },
    "papermill": {
     "duration": 0.057531,
     "end_time": "2020-12-04T15:09:50.698025",
     "exception": false,
     "start_time": "2020-12-04T15:09:50.640494",
=======
   "execution_count": 9,
   "metadata": {
    "execution": {
     "iopub.execute_input": "2020-12-05T14:43:08.373993Z",
     "iopub.status.busy": "2020-12-05T14:43:08.373237Z",
     "iopub.status.idle": "2020-12-05T14:43:08.377932Z",
     "shell.execute_reply": "2020-12-05T14:43:08.377367Z"
    },
    "papermill": {
     "duration": 0.06634,
     "end_time": "2020-12-05T14:43:08.378050",
     "exception": false,
     "start_time": "2020-12-05T14:43:08.311710",
>>>>>>> 64298a656ba05506c9bd61daefa94c3a53b9dae1
     "status": "completed"
    },
    "tags": []
   },
   "outputs": [],
   "source": [
    "# defining a function to calculate cost saving per fold (splits) of our cv\n",
    "def cost_saving_per_split(scores, x, y, cv_object):\n",
    "    results = []\n",
    "    for i, (_, test_ind) in zip(range(cv_object.n_splits), cv_object.split(x, y)):\n",
    "        ypred = scores['estimator'][i].predict(x[test_ind])\n",
    "        ytrue = y[test_ind]\n",
    "        amount = df['Amount'].values[test_ind]\n",
    "        results.append(cost_saving(ytrue, ypred, amount))\n",
    "        \n",
    "    return results"
   ]
  },
  {
   "cell_type": "code",
<<<<<<< HEAD
   "execution_count": 9,
   "metadata": {
    "execution": {
     "iopub.execute_input": "2020-12-04T15:09:50.797639Z",
     "iopub.status.busy": "2020-12-04T15:09:50.795824Z",
     "iopub.status.idle": "2020-12-04T15:09:50.798305Z",
     "shell.execute_reply": "2020-12-04T15:09:50.798767Z"
    },
    "papermill": {
     "duration": 0.055414,
     "end_time": "2020-12-04T15:09:50.798881",
     "exception": false,
     "start_time": "2020-12-04T15:09:50.743467",
=======
   "execution_count": 10,
   "metadata": {
    "execution": {
     "iopub.execute_input": "2020-12-05T14:43:08.494103Z",
     "iopub.status.busy": "2020-12-05T14:43:08.493159Z",
     "iopub.status.idle": "2020-12-05T14:43:08.497163Z",
     "shell.execute_reply": "2020-12-05T14:43:08.496570Z"
    },
    "papermill": {
     "duration": 0.064993,
     "end_time": "2020-12-05T14:43:08.497273",
     "exception": false,
     "start_time": "2020-12-05T14:43:08.432280",
>>>>>>> 64298a656ba05506c9bd61daefa94c3a53b9dae1
     "status": "completed"
    },
    "tags": []
   },
   "outputs": [],
   "source": [
    "# defining a function to return a dataframe of metrics results for each fold in our cv\n",
    "def get_metric_scores(scores, x, y=y, cv_object=cv):\n",
    "    ind = ['split_'+str(n) for n in range(1, cv_object.n_splits+1)]\n",
    "    \n",
    "    scores_df = pd.DataFrame(index=ind)\n",
    "    \n",
    "    scores_df['f1_score'] = scores['test_f1']\n",
    "    scores_df['auc_pr'] = scores['test_average_precision']\n",
    "    scores_df['cost_savings'] = cost_saving_per_split(scores, x, y, cv_object)\n",
    "\n",
    "    return scores_df"
   ]
  },
  {
   "cell_type": "markdown",
   "metadata": {
    "papermill": {
<<<<<<< HEAD
     "duration": 0.046924,
     "end_time": "2020-12-04T15:09:50.900565",
     "exception": false,
     "start_time": "2020-12-04T15:09:50.853641",
=======
     "duration": 0.054584,
     "end_time": "2020-12-05T14:43:08.606707",
     "exception": false,
     "start_time": "2020-12-05T14:43:08.552123",
>>>>>>> 64298a656ba05506c9bd61daefa94c3a53b9dae1
     "status": "completed"
    },
    "tags": []
   },
   "source": [
    "## Fraud Sensitive model (Not cost sensitive)"
   ]
  },
  {
   "cell_type": "code",
<<<<<<< HEAD
   "execution_count": 10,
   "metadata": {
    "execution": {
     "iopub.execute_input": "2020-12-04T15:09:50.996883Z",
     "iopub.status.busy": "2020-12-04T15:09:50.995945Z",
     "iopub.status.idle": "2020-12-04T15:09:51.244141Z",
     "shell.execute_reply": "2020-12-04T15:09:51.243604Z"
    },
    "papermill": {
     "duration": 0.298508,
     "end_time": "2020-12-04T15:09:51.244273",
     "exception": false,
     "start_time": "2020-12-04T15:09:50.945765",
=======
   "execution_count": 11,
   "metadata": {
    "execution": {
     "iopub.execute_input": "2020-12-05T14:43:08.722248Z",
     "iopub.status.busy": "2020-12-05T14:43:08.721109Z",
     "iopub.status.idle": "2020-12-05T14:43:09.037915Z",
     "shell.execute_reply": "2020-12-05T14:43:09.036499Z"
    },
    "papermill": {
     "duration": 0.376498,
     "end_time": "2020-12-05T14:43:09.038057",
     "exception": false,
     "start_time": "2020-12-05T14:43:08.661559",
>>>>>>> 64298a656ba05506c9bd61daefa94c3a53b9dae1
     "status": "completed"
    },
    "tags": []
   },
   "outputs": [],
   "source": [
    "X['Amount'] = df['Amount']\n",
    "X_train, X_test, y_train, y_test = train_test_split(X, y, stratify=y, test_size=0.25, \\\n",
    "                                                    random_state=1)"
   ]
  },
  {
   "cell_type": "code",
<<<<<<< HEAD
   "execution_count": 11,
   "metadata": {
    "execution": {
     "iopub.execute_input": "2020-12-04T15:09:51.342136Z",
     "iopub.status.busy": "2020-12-04T15:09:51.340845Z",
     "iopub.status.idle": "2020-12-04T15:09:51.358707Z",
     "shell.execute_reply": "2020-12-04T15:09:51.358214Z"
    },
    "papermill": {
     "duration": 0.068895,
     "end_time": "2020-12-04T15:09:51.358811",
     "exception": false,
     "start_time": "2020-12-04T15:09:51.289916",
=======
   "execution_count": 12,
   "metadata": {
    "execution": {
     "iopub.execute_input": "2020-12-05T14:43:09.156356Z",
     "iopub.status.busy": "2020-12-05T14:43:09.154876Z",
     "iopub.status.idle": "2020-12-05T14:43:09.179263Z",
     "shell.execute_reply": "2020-12-05T14:43:09.178647Z"
    },
    "papermill": {
     "duration": 0.085251,
     "end_time": "2020-12-05T14:43:09.179391",
     "exception": false,
     "start_time": "2020-12-05T14:43:09.094140",
>>>>>>> 64298a656ba05506c9bd61daefa94c3a53b9dae1
     "status": "completed"
    },
    "tags": []
   },
   "outputs": [],
   "source": [
    "train_amount = X_train.pop('Amount')\n",
    "test_amount = X_test.pop('Amount')"
   ]
  },
  {
   "cell_type": "markdown",
   "metadata": {
    "papermill": {
<<<<<<< HEAD
     "duration": 0.050237,
     "end_time": "2020-12-04T15:09:51.454718",
     "exception": false,
     "start_time": "2020-12-04T15:09:51.404481",
=======
     "duration": 0.055158,
     "end_time": "2020-12-05T14:43:09.289541",
     "exception": false,
     "start_time": "2020-12-05T14:43:09.234383",
>>>>>>> 64298a656ba05506c9bd61daefa94c3a53b9dae1
     "status": "completed"
    },
    "tags": []
   },
   "source": [
    "### we will use sample weight to penalize our model accordingly. admin cost for FP and transactional cost (amount) for FN."
   ]
  },
  {
   "cell_type": "code",
<<<<<<< HEAD
   "execution_count": 12,
   "metadata": {
    "execution": {
     "iopub.execute_input": "2020-12-04T15:09:51.555289Z",
     "iopub.status.busy": "2020-12-04T15:09:51.554509Z",
     "iopub.status.idle": "2020-12-04T15:09:51.785281Z",
     "shell.execute_reply": "2020-12-04T15:09:51.784268Z"
    },
    "papermill": {
     "duration": 0.282461,
     "end_time": "2020-12-04T15:09:51.785397",
     "exception": false,
     "start_time": "2020-12-04T15:09:51.502936",
=======
   "execution_count": 13,
   "metadata": {
    "execution": {
     "iopub.execute_input": "2020-12-05T14:43:09.408745Z",
     "iopub.status.busy": "2020-12-05T14:43:09.407704Z",
     "iopub.status.idle": "2020-12-05T14:43:09.671681Z",
     "shell.execute_reply": "2020-12-05T14:43:09.671063Z"
    },
    "papermill": {
     "duration": 0.326813,
     "end_time": "2020-12-05T14:43:09.671817",
     "exception": false,
     "start_time": "2020-12-05T14:43:09.345004",
>>>>>>> 64298a656ba05506c9bd61daefa94c3a53b9dae1
     "status": "completed"
    },
    "tags": []
   },
   "outputs": [],
   "source": [
    "# train_sample_weights to be used for training set of cost sensitive-example dependent model to choose \n",
    "# best number of epoch\n",
    "train_sample_weights = np.array([train_amount[ind] if fraud else admin_cost for ind, fraud in \\\n",
    "                                 y_train.items()])\n",
    "\n",
    "# sample_weights to be used for cross validation of cost sensitive-example dependent model\n",
    "sample_weights = np.array([df['Amount'][ind] if fraud else admin_cost for ind, fraud in enumerate(y)])"
   ]
  },
  {
   "cell_type": "markdown",
   "metadata": {
    "papermill": {
<<<<<<< HEAD
     "duration": 0.046094,
     "end_time": "2020-12-04T15:09:51.878021",
     "exception": false,
     "start_time": "2020-12-04T15:09:51.831927",
=======
     "duration": 0.05477,
     "end_time": "2020-12-05T14:43:09.782517",
     "exception": false,
     "start_time": "2020-12-05T14:43:09.727747",
>>>>>>> 64298a656ba05506c9bd61daefa94c3a53b9dae1
     "status": "completed"
    },
    "tags": []
   },
   "source": [
    "### We will **fit** our scaler on only the training set and not the testing set. However, we will use it to transform both training and testing set. This is the standard and will mimic what will happen when our model has been deployed for production.  "
   ]
  },
  {
   "cell_type": "code",
<<<<<<< HEAD
   "execution_count": 13,
   "metadata": {
    "execution": {
     "iopub.execute_input": "2020-12-04T15:09:51.978718Z",
     "iopub.status.busy": "2020-12-04T15:09:51.977658Z",
     "iopub.status.idle": "2020-12-04T15:09:52.073990Z",
     "shell.execute_reply": "2020-12-04T15:09:52.073469Z"
    },
    "papermill": {
     "duration": 0.149705,
     "end_time": "2020-12-04T15:09:52.074099",
     "exception": false,
     "start_time": "2020-12-04T15:09:51.924394",
=======
   "execution_count": 14,
   "metadata": {
    "execution": {
     "iopub.execute_input": "2020-12-05T14:43:09.903884Z",
     "iopub.status.busy": "2020-12-05T14:43:09.902588Z",
     "iopub.status.idle": "2020-12-05T14:43:10.049710Z",
     "shell.execute_reply": "2020-12-05T14:43:10.049076Z"
    },
    "papermill": {
     "duration": 0.211471,
     "end_time": "2020-12-05T14:43:10.049841",
     "exception": false,
     "start_time": "2020-12-05T14:43:09.838370",
>>>>>>> 64298a656ba05506c9bd61daefa94c3a53b9dae1
     "status": "completed"
    },
    "tags": []
   },
   "outputs": [],
   "source": [
    "scaler = StandardScaler()\n",
    "X_train = scaler.fit_transform(X_train)\n",
    "X_test = scaler.transform(X_test)"
   ]
  },
  {
   "cell_type": "markdown",
   "metadata": {
    "papermill": {
<<<<<<< HEAD
     "duration": 0.047416,
     "end_time": "2020-12-04T15:09:52.168178",
     "exception": false,
     "start_time": "2020-12-04T15:09:52.120762",
=======
     "duration": 0.054878,
     "end_time": "2020-12-05T14:43:10.160308",
     "exception": false,
     "start_time": "2020-12-05T14:43:10.105430",
>>>>>>> 64298a656ba05506c9bd61daefa94c3a53b9dae1
     "status": "completed"
    },
    "tags": []
   },
   "source": [
    "### confirming that our train test split was stratified."
   ]
  },
  {
   "cell_type": "code",
<<<<<<< HEAD
   "execution_count": 14,
   "metadata": {
    "execution": {
     "iopub.execute_input": "2020-12-04T15:09:52.268280Z",
     "iopub.status.busy": "2020-12-04T15:09:52.267311Z",
     "iopub.status.idle": "2020-12-04T15:09:52.278651Z",
     "shell.execute_reply": "2020-12-04T15:09:52.278179Z"
    },
    "papermill": {
     "duration": 0.062479,
     "end_time": "2020-12-04T15:09:52.278748",
     "exception": false,
     "start_time": "2020-12-04T15:09:52.216269",
=======
   "execution_count": 15,
   "metadata": {
    "execution": {
     "iopub.execute_input": "2020-12-05T14:43:10.276656Z",
     "iopub.status.busy": "2020-12-05T14:43:10.275754Z",
     "iopub.status.idle": "2020-12-05T14:43:10.288421Z",
     "shell.execute_reply": "2020-12-05T14:43:10.287888Z"
    },
    "papermill": {
     "duration": 0.073282,
     "end_time": "2020-12-05T14:43:10.288536",
     "exception": false,
     "start_time": "2020-12-05T14:43:10.215254",
>>>>>>> 64298a656ba05506c9bd61daefa94c3a53b9dae1
     "status": "completed"
    },
    "tags": []
   },
   "outputs": [
    {
     "data": {
      "text/plain": [
       "0    577.875339\n",
       "1      1.000000\n",
       "Name: Class, dtype: float64"
      ]
     },
<<<<<<< HEAD
     "execution_count": 14,
=======
     "execution_count": 15,
>>>>>>> 64298a656ba05506c9bd61daefa94c3a53b9dae1
     "metadata": {},
     "output_type": "execute_result"
    }
   ],
   "source": [
    "y_train.value_counts() / y_train.value_counts()[1]"
   ]
  },
  {
   "cell_type": "code",
<<<<<<< HEAD
   "execution_count": 15,
   "metadata": {
    "execution": {
     "iopub.execute_input": "2020-12-04T15:09:52.377476Z",
     "iopub.status.busy": "2020-12-04T15:09:52.376607Z",
     "iopub.status.idle": "2020-12-04T15:09:52.385302Z",
     "shell.execute_reply": "2020-12-04T15:09:52.384668Z"
    },
    "papermill": {
     "duration": 0.059672,
     "end_time": "2020-12-04T15:09:52.385394",
     "exception": false,
     "start_time": "2020-12-04T15:09:52.325722",
=======
   "execution_count": 16,
   "metadata": {
    "execution": {
     "iopub.execute_input": "2020-12-05T14:43:10.406906Z",
     "iopub.status.busy": "2020-12-05T14:43:10.405878Z",
     "iopub.status.idle": "2020-12-05T14:43:10.416103Z",
     "shell.execute_reply": "2020-12-05T14:43:10.415490Z"
    },
    "papermill": {
     "duration": 0.071477,
     "end_time": "2020-12-05T14:43:10.416223",
     "exception": false,
     "start_time": "2020-12-05T14:43:10.344746",
>>>>>>> 64298a656ba05506c9bd61daefa94c3a53b9dae1
     "status": "completed"
    },
    "tags": []
   },
   "outputs": [
    {
     "data": {
      "text/plain": [
       "0    577.878049\n",
       "1      1.000000\n",
       "Name: Class, dtype: float64"
      ]
     },
<<<<<<< HEAD
     "execution_count": 15,
=======
     "execution_count": 16,
>>>>>>> 64298a656ba05506c9bd61daefa94c3a53b9dae1
     "metadata": {},
     "output_type": "execute_result"
    }
   ],
   "source": [
    "y_test.value_counts() / y_test.value_counts()[1]"
   ]
  },
  {
   "cell_type": "markdown",
   "metadata": {
    "papermill": {
<<<<<<< HEAD
     "duration": 0.052662,
     "end_time": "2020-12-04T15:09:52.485470",
     "exception": false,
     "start_time": "2020-12-04T15:09:52.432808",
=======
     "duration": 0.108186,
     "end_time": "2020-12-05T14:43:10.600151",
     "exception": false,
     "start_time": "2020-12-05T14:43:10.491965",
>>>>>>> 64298a656ba05506c9bd61daefa94c3a53b9dae1
     "status": "completed"
    },
    "tags": []
   },
   "source": [
    "### we will be using the stateful f1score to monitor the training process due to the class imbalance."
   ]
  },
  {
   "cell_type": "code",
<<<<<<< HEAD
   "execution_count": 16,
   "metadata": {
    "execution": {
     "iopub.execute_input": "2020-12-04T15:09:52.586632Z",
     "iopub.status.busy": "2020-12-04T15:09:52.584925Z",
     "iopub.status.idle": "2020-12-04T15:09:52.587288Z",
     "shell.execute_reply": "2020-12-04T15:09:52.587806Z"
    },
    "papermill": {
     "duration": 0.054587,
     "end_time": "2020-12-04T15:09:52.587934",
     "exception": false,
     "start_time": "2020-12-04T15:09:52.533347",
=======
   "execution_count": 17,
   "metadata": {
    "execution": {
     "iopub.execute_input": "2020-12-05T14:43:11.026298Z",
     "iopub.status.busy": "2020-12-05T14:43:11.022518Z",
     "iopub.status.idle": "2020-12-05T14:43:11.037423Z",
     "shell.execute_reply": "2020-12-05T14:43:11.036465Z"
    },
    "papermill": {
     "duration": 0.211717,
     "end_time": "2020-12-05T14:43:11.037628",
     "exception": false,
     "start_time": "2020-12-05T14:43:10.825911",
>>>>>>> 64298a656ba05506c9bd61daefa94c3a53b9dae1
     "status": "completed"
    },
    "tags": []
   },
   "outputs": [],
   "source": [
    "threshold = 0.5"
   ]
  },
  {
   "cell_type": "code",
<<<<<<< HEAD
   "execution_count": 17,
   "metadata": {
    "execution": {
     "iopub.execute_input": "2020-12-04T15:09:52.702269Z",
     "iopub.status.busy": "2020-12-04T15:09:52.701288Z",
     "iopub.status.idle": "2020-12-04T15:09:52.704130Z",
     "shell.execute_reply": "2020-12-04T15:09:52.703557Z"
    },
    "papermill": {
     "duration": 0.067688,
     "end_time": "2020-12-04T15:09:52.704245",
     "exception": false,
     "start_time": "2020-12-04T15:09:52.636557",
=======
   "execution_count": 18,
   "metadata": {
    "execution": {
     "iopub.execute_input": "2020-12-05T14:43:11.285723Z",
     "iopub.status.busy": "2020-12-05T14:43:11.284668Z",
     "iopub.status.idle": "2020-12-05T14:43:11.327338Z",
     "shell.execute_reply": "2020-12-05T14:43:11.326497Z"
    },
    "papermill": {
     "duration": 0.175605,
     "end_time": "2020-12-05T14:43:11.327505",
     "exception": false,
     "start_time": "2020-12-05T14:43:11.151900",
>>>>>>> 64298a656ba05506c9bd61daefa94c3a53b9dae1
     "status": "completed"
    },
    "tags": []
   },
   "outputs": [],
   "source": [
    "class StatefulBinaryFBeta(Metric):\n",
    "    def __init__(self, name='stateful_binary_fbeta', beta=1, threshold=threshold, \\\n",
    "                 epsilon=1e-7, **kwargs):\n",
    "        # initializing an object of the super class\n",
    "        super(StatefulBinaryFBeta, self).__init__(name=name, **kwargs)\n",
    "\n",
    "        # initializing state variables\n",
    "        self.tp = self.add_weight(name='tp', initializer='zeros') # initializing true positives \n",
    "        \n",
    "        # initializing actual positives\n",
    "        self.actual_positive = self.add_weight(name='fp', initializer='zeros') \n",
    "        \n",
    "        # initializing predicted positives\n",
    "        self.predicted_positive = self.add_weight(name='fn', initializer='zeros') \n",
    "\n",
    "        # initializing other atrributes that wouldn't be changed for every object of this class\n",
    "        self.beta_squared = beta**2 \n",
    "        self.threshold = threshold\n",
    "        self.epsilon = epsilon\n",
    "\n",
    "    def update_state(self, ytrue, ypred, sample_weight=None):\n",
    "        # casting ytrue and ypred as float dtype\n",
    "        ytrue = tf.cast(ytrue, tf.float32)\n",
    "        ypred = tf.cast(ypred, tf.float32)\n",
    "\n",
    "        # setting values of ypred greater than the set threshold to 1 while those lesser to 0\n",
    "        ypred = tf.cast(tf.greater_equal(ypred, tf.constant(self.threshold)), tf.float32)\n",
    "        \n",
    "        self.tp.assign_add(tf.reduce_sum(ytrue*ypred)) # updating true positives \n",
    "        self.predicted_positive.assign_add(tf.reduce_sum(ypred)) # updating predicted positive \n",
    "        self.actual_positive.assign_add(tf.reduce_sum(ytrue)) # updating actual positive \n",
    "    \n",
    "    def result(self):\n",
    "        self.precision = self.tp/(self.predicted_positive+self.epsilon) # calculates precision\n",
    "        self.recall = self.tp/(self.actual_positive+self.epsilon) # calculates recall\n",
    "\n",
    "        # calculating fbeta\n",
    "        self.fb = (1+self.beta_squared)*self.precision*self.recall / (\\\n",
    "                                    self.beta_squared*self.precision + self.recall + self.epsilon)\n",
    "    \n",
    "        return self.fb\n",
    "\n",
    "    def reset_states(self):\n",
    "        self.tp.assign(0) # resets true positives to zero\n",
    "        self.predicted_positive.assign(0) # resets predicted positives to zero\n",
    "        self.actual_positive.assign(0) # resets actual positives to zero"
   ]
  },
  {
   "cell_type": "code",
<<<<<<< HEAD
   "execution_count": 18,
   "metadata": {
    "execution": {
     "iopub.execute_input": "2020-12-04T15:09:52.804804Z",
     "iopub.status.busy": "2020-12-04T15:09:52.804131Z",
     "iopub.status.idle": "2020-12-04T15:09:52.808821Z",
     "shell.execute_reply": "2020-12-04T15:09:52.808222Z"
    },
    "papermill": {
     "duration": 0.056254,
     "end_time": "2020-12-04T15:09:52.808919",
     "exception": false,
     "start_time": "2020-12-04T15:09:52.752665",
=======
   "execution_count": 19,
   "metadata": {
    "execution": {
     "iopub.execute_input": "2020-12-05T14:43:11.668510Z",
     "iopub.status.busy": "2020-12-05T14:43:11.667392Z",
     "iopub.status.idle": "2020-12-05T14:43:11.672482Z",
     "shell.execute_reply": "2020-12-05T14:43:11.671863Z"
    },
    "papermill": {
     "duration": 0.158461,
     "end_time": "2020-12-05T14:43:11.672614",
     "exception": false,
     "start_time": "2020-12-05T14:43:11.514153",
>>>>>>> 64298a656ba05506c9bd61daefa94c3a53b9dae1
     "status": "completed"
    },
    "tags": []
   },
   "outputs": [],
   "source": [
    "stopper = EarlyStopping(monitor='val_stateful_binary_fbeta', patience=10, mode='max',\n",
    "    restore_best_weights=True)"
   ]
  },
  {
   "cell_type": "markdown",
   "metadata": {
    "papermill": {
<<<<<<< HEAD
     "duration": 0.047745,
     "end_time": "2020-12-04T15:09:52.904882",
     "exception": false,
     "start_time": "2020-12-04T15:09:52.857137",
=======
     "duration": 0.073837,
     "end_time": "2020-12-05T14:43:11.831295",
     "exception": false,
     "start_time": "2020-12-05T14:43:11.757458",
>>>>>>> 64298a656ba05506c9bd61daefa94c3a53b9dae1
     "status": "completed"
    },
    "tags": []
   },
   "source": [
    "### we will initialize the output bias to reduce the number of epochs required to reach the best result. The value is obtained by the formula: $$b_{0} = log(pos/neg)$$\n",
    "### See more about initial bias [here](http://karpathy.github.io/2019/04/25/recipe/#2-set-up-the-end-to-end-trainingevaluation-skeleton--get-dumb-baselines) on how to *initialize well*."
   ]
  },
  {
   "cell_type": "code",
<<<<<<< HEAD
   "execution_count": 19,
   "metadata": {
    "execution": {
     "iopub.execute_input": "2020-12-04T15:09:53.007480Z",
     "iopub.status.busy": "2020-12-04T15:09:53.006498Z",
     "iopub.status.idle": "2020-12-04T15:09:53.014259Z",
     "shell.execute_reply": "2020-12-04T15:09:53.014730Z"
    },
    "papermill": {
     "duration": 0.061345,
     "end_time": "2020-12-04T15:09:53.014846",
     "exception": false,
     "start_time": "2020-12-04T15:09:52.953501",
=======
   "execution_count": 20,
   "metadata": {
    "execution": {
     "iopub.execute_input": "2020-12-05T14:43:11.991530Z",
     "iopub.status.busy": "2020-12-05T14:43:11.990434Z",
     "iopub.status.idle": "2020-12-05T14:43:12.001657Z",
     "shell.execute_reply": "2020-12-05T14:43:12.002672Z"
    },
    "papermill": {
     "duration": 0.081619,
     "end_time": "2020-12-05T14:43:12.002864",
     "exception": false,
     "start_time": "2020-12-05T14:43:11.921245",
>>>>>>> 64298a656ba05506c9bd61daefa94c3a53b9dae1
     "status": "completed"
    },
    "tags": []
   },
   "outputs": [
    {
     "name": "stdout",
     "output_type": "stream",
     "text": [
<<<<<<< HEAD
      "284315 492\n"
=======
      "negative class is 284315 in number, while positive is 492\n"
>>>>>>> 64298a656ba05506c9bd61daefa94c3a53b9dae1
     ]
    },
    {
     "data": {
      "text/plain": [
       "array([-6.35935934])"
      ]
     },
<<<<<<< HEAD
     "execution_count": 19,
=======
     "execution_count": 20,
>>>>>>> 64298a656ba05506c9bd61daefa94c3a53b9dae1
     "metadata": {},
     "output_type": "execute_result"
    }
   ],
   "source": [
    "neg, pos = np.bincount(y)\n",
<<<<<<< HEAD
    "print(neg, pos)\n",
=======
    "print('negative class is {} in number, while positive is {}'.format(neg, pos))\n",
>>>>>>> 64298a656ba05506c9bd61daefa94c3a53b9dae1
    "initial_bias = np.log([pos/neg])\n",
    "initial_bias"
   ]
  },
  {
   "cell_type": "code",
<<<<<<< HEAD
   "execution_count": 20,
   "metadata": {
    "execution": {
     "iopub.execute_input": "2020-12-04T15:09:53.119526Z",
     "iopub.status.busy": "2020-12-04T15:09:53.118819Z",
     "iopub.status.idle": "2020-12-04T15:09:53.122671Z",
     "shell.execute_reply": "2020-12-04T15:09:53.122203Z"
    },
    "papermill": {
     "duration": 0.059163,
     "end_time": "2020-12-04T15:09:53.122765",
     "exception": false,
     "start_time": "2020-12-04T15:09:53.063602",
=======
   "execution_count": 21,
   "metadata": {
    "execution": {
     "iopub.execute_input": "2020-12-05T14:43:12.167126Z",
     "iopub.status.busy": "2020-12-05T14:43:12.166190Z",
     "iopub.status.idle": "2020-12-05T14:43:12.171704Z",
     "shell.execute_reply": "2020-12-05T14:43:12.172854Z"
    },
    "papermill": {
     "duration": 0.094407,
     "end_time": "2020-12-05T14:43:12.173042",
     "exception": false,
     "start_time": "2020-12-05T14:43:12.078635",
>>>>>>> 64298a656ba05506c9bd61daefa94c3a53b9dae1
     "status": "completed"
    },
    "tags": []
   },
   "outputs": [],
   "source": [
    "def build_model():\n",
    "    model = Sequential()\n",
    "\n",
    "    model.add(Dense(16, kernel_initializer='uniform', activation='relu'))\n",
    "    \n",
    "    model.add(Dropout(0.2))\n",
    "    \n",
    "    output_bias = tf.keras.initializers.Constant(initial_bias) \n",
    "    \n",
    "    model.add(Dense(1, activation='sigmoid', bias_initializer=output_bias))\n",
    "    \n",
    "    binary_fbeta = StatefulBinaryFBeta()\n",
    "    \n",
    "    # compling model\n",
    "    model.compile(loss='binary_crossentropy', metrics=[binary_fbeta], optimizer='adam')\n",
    "    \n",
    "    return model"
   ]
  },
  {
   "cell_type": "code",
<<<<<<< HEAD
   "execution_count": 21,
   "metadata": {
    "execution": {
     "iopub.execute_input": "2020-12-04T15:09:53.240405Z",
     "iopub.status.busy": "2020-12-04T15:09:53.239476Z",
     "iopub.status.idle": "2020-12-04T15:09:53.415987Z",
     "shell.execute_reply": "2020-12-04T15:09:53.416513Z"
    },
    "papermill": {
     "duration": 0.244243,
     "end_time": "2020-12-04T15:09:53.416651",
     "exception": false,
     "start_time": "2020-12-04T15:09:53.172408",
=======
   "execution_count": 22,
   "metadata": {
    "execution": {
     "iopub.execute_input": "2020-12-05T14:43:12.373064Z",
     "iopub.status.busy": "2020-12-05T14:43:12.371964Z",
     "iopub.status.idle": "2020-12-05T14:43:12.729702Z",
     "shell.execute_reply": "2020-12-05T14:43:12.730867Z"
    },
    "papermill": {
     "duration": 0.479331,
     "end_time": "2020-12-05T14:43:12.731066",
     "exception": false,
     "start_time": "2020-12-05T14:43:12.251735",
>>>>>>> 64298a656ba05506c9bd61daefa94c3a53b9dae1
     "status": "completed"
    },
    "tags": []
   },
   "outputs": [
    {
     "data": {
      "text/html": [
       "<div>\n",
       "<style scoped>\n",
       "    .dataframe tbody tr th:only-of-type {\n",
       "        vertical-align: middle;\n",
       "    }\n",
       "\n",
       "    .dataframe tbody tr th {\n",
       "        vertical-align: top;\n",
       "    }\n",
       "\n",
       "    .dataframe thead th {\n",
       "        text-align: right;\n",
       "    }\n",
       "</style>\n",
       "<table border=\"1\" class=\"dataframe\">\n",
       "  <thead>\n",
       "    <tr style=\"text-align: right;\">\n",
       "      <th></th>\n",
       "      <th>0</th>\n",
       "      <th>1</th>\n",
       "      <th>2</th>\n",
       "      <th>3</th>\n",
       "      <th>4</th>\n",
       "      <th>5</th>\n",
       "      <th>6</th>\n",
       "      <th>7</th>\n",
       "      <th>8</th>\n",
       "      <th>9</th>\n",
<<<<<<< HEAD
       "      <th>10</th>\n",
       "      <th>11</th>\n",
       "      <th>12</th>\n",
       "      <th>13</th>\n",
       "      <th>14</th>\n",
       "      <th>15</th>\n",
       "      <th>16</th>\n",
       "      <th>17</th>\n",
       "      <th>18</th>\n",
=======
       "      <th>...</th>\n",
       "      <th>17</th>\n",
       "      <th>18</th>\n",
       "      <th>19</th>\n",
       "      <th>20</th>\n",
       "      <th>21</th>\n",
       "      <th>22</th>\n",
       "      <th>23</th>\n",
       "      <th>24</th>\n",
       "      <th>25</th>\n",
       "      <th>26</th>\n",
>>>>>>> 64298a656ba05506c9bd61daefa94c3a53b9dae1
       "    </tr>\n",
       "  </thead>\n",
       "  <tbody>\n",
       "    <tr>\n",
       "      <th>count</th>\n",
       "      <td>2.136050e+05</td>\n",
       "      <td>2.136050e+05</td>\n",
       "      <td>2.136050e+05</td>\n",
       "      <td>2.136050e+05</td>\n",
       "      <td>2.136050e+05</td>\n",
       "      <td>2.136050e+05</td>\n",
       "      <td>2.136050e+05</td>\n",
       "      <td>2.136050e+05</td>\n",
       "      <td>2.136050e+05</td>\n",
       "      <td>2.136050e+05</td>\n",
<<<<<<< HEAD
=======
       "      <td>...</td>\n",
       "      <td>2.136050e+05</td>\n",
>>>>>>> 64298a656ba05506c9bd61daefa94c3a53b9dae1
       "      <td>2.136050e+05</td>\n",
       "      <td>2.136050e+05</td>\n",
       "      <td>2.136050e+05</td>\n",
       "      <td>2.136050e+05</td>\n",
       "      <td>2.136050e+05</td>\n",
       "      <td>2.136050e+05</td>\n",
       "      <td>2.136050e+05</td>\n",
       "      <td>2.136050e+05</td>\n",
       "      <td>2.136050e+05</td>\n",
       "    </tr>\n",
       "    <tr>\n",
       "      <th>mean</th>\n",
       "      <td>-5.940957e-17</td>\n",
       "      <td>3.308696e-18</td>\n",
       "      <td>6.897645e-17</td>\n",
       "      <td>1.529951e-17</td>\n",
       "      <td>3.043342e-17</td>\n",
       "      <td>-1.889232e-17</td>\n",
       "      <td>-8.010986e-18</td>\n",
       "      <td>1.612683e-17</td>\n",
       "      <td>-3.156265e-17</td>\n",
       "      <td>8.410808e-18</td>\n",
<<<<<<< HEAD
       "      <td>4.604459e-17</td>\n",
       "      <td>-2.154905e-17</td>\n",
       "      <td>-2.229789e-17</td>\n",
       "      <td>8.875079e-18</td>\n",
       "      <td>2.818268e-17</td>\n",
       "      <td>-3.487947e-17</td>\n",
       "      <td>2.396591e-17</td>\n",
       "      <td>1.572363e-17</td>\n",
       "      <td>2.766176e-17</td>\n",
=======
       "      <td>...</td>\n",
       "      <td>-9.054135e-19</td>\n",
       "      <td>-5.238612e-18</td>\n",
       "      <td>-2.113350e-17</td>\n",
       "      <td>2.396591e-17</td>\n",
       "      <td>1.661657e-17</td>\n",
       "      <td>1.572363e-17</td>\n",
       "      <td>-1.202713e-17</td>\n",
       "      <td>-1.088575e-17</td>\n",
       "      <td>2.766176e-17</td>\n",
       "      <td>6.428637e-17</td>\n",
>>>>>>> 64298a656ba05506c9bd61daefa94c3a53b9dae1
       "    </tr>\n",
       "    <tr>\n",
       "      <th>std</th>\n",
       "      <td>1.000002e+00</td>\n",
       "      <td>1.000002e+00</td>\n",
       "      <td>1.000002e+00</td>\n",
       "      <td>1.000002e+00</td>\n",
       "      <td>1.000002e+00</td>\n",
       "      <td>1.000002e+00</td>\n",
       "      <td>1.000002e+00</td>\n",
       "      <td>1.000002e+00</td>\n",
       "      <td>1.000002e+00</td>\n",
       "      <td>1.000002e+00</td>\n",
<<<<<<< HEAD
=======
       "      <td>...</td>\n",
       "      <td>1.000002e+00</td>\n",
>>>>>>> 64298a656ba05506c9bd61daefa94c3a53b9dae1
       "      <td>1.000002e+00</td>\n",
       "      <td>1.000002e+00</td>\n",
       "      <td>1.000002e+00</td>\n",
       "      <td>1.000002e+00</td>\n",
       "      <td>1.000002e+00</td>\n",
       "      <td>1.000002e+00</td>\n",
       "      <td>1.000002e+00</td>\n",
       "      <td>1.000002e+00</td>\n",
       "      <td>1.000002e+00</td>\n",
       "    </tr>\n",
       "    <tr>\n",
       "      <th>min</th>\n",
       "      <td>-2.894088e+01</td>\n",
       "      <td>-4.456820e+01</td>\n",
       "      <td>-3.193523e+01</td>\n",
       "      <td>-4.014707e+00</td>\n",
       "      <td>-8.223626e+01</td>\n",
       "      <td>-1.960776e+01</td>\n",
       "      <td>-3.506962e+01</td>\n",
       "      <td>-6.075432e+01</td>\n",
       "      <td>-1.225143e+01</td>\n",
       "      <td>-2.270814e+01</td>\n",
<<<<<<< HEAD
       "      <td>-4.700114e+00</td>\n",
       "      <td>-1.843830e+01</td>\n",
       "      <td>-5.809749e+00</td>\n",
       "      <td>-2.008829e+01</td>\n",
       "      <td>-1.611236e+01</td>\n",
       "      <td>-2.979875e+01</td>\n",
       "      <td>-4.736572e+01</td>\n",
       "      <td>-5.929492e+01</td>\n",
       "      <td>-5.589815e+01</td>\n",
=======
       "      <td>...</td>\n",
       "      <td>-1.114273e+01</td>\n",
       "      <td>-8.850321e+00</td>\n",
       "      <td>-7.157312e+01</td>\n",
       "      <td>-4.736572e+01</td>\n",
       "      <td>-1.507635e+01</td>\n",
       "      <td>-5.929492e+01</td>\n",
       "      <td>-4.681387e+00</td>\n",
       "      <td>-5.257815e+00</td>\n",
       "      <td>-5.589815e+01</td>\n",
       "      <td>-4.679943e+01</td>\n",
>>>>>>> 64298a656ba05506c9bd61daefa94c3a53b9dae1
       "    </tr>\n",
       "    <tr>\n",
       "      <th>25%</th>\n",
       "      <td>-4.733905e-01</td>\n",
       "      <td>-3.681522e-01</td>\n",
       "      <td>-5.882749e-01</td>\n",
       "      <td>-5.987030e-01</td>\n",
       "      <td>-4.994077e-01</td>\n",
       "      <td>-5.759849e-01</td>\n",
       "      <td>-4.468419e-01</td>\n",
       "      <td>-1.724718e-01</td>\n",
       "      <td>-5.861799e-01</td>\n",
       "      <td>-4.937656e-01</td>\n",
<<<<<<< HEAD
       "      <td>-7.465216e-01</td>\n",
       "      <td>-4.057765e-01</td>\n",
       "      <td>-6.514172e-01</td>\n",
       "      <td>-4.450402e-01</td>\n",
       "      <td>-5.358654e-01</td>\n",
       "      <td>-5.740300e-01</td>\n",
       "      <td>-3.095466e-01</td>\n",
       "      <td>-2.634583e-01</td>\n",
       "      <td>-1.751815e-01</td>\n",
=======
       "      <td>...</td>\n",
       "      <td>-5.956755e-01</td>\n",
       "      <td>-5.603550e-01</td>\n",
       "      <td>-2.776918e-01</td>\n",
       "      <td>-3.095466e-01</td>\n",
       "      <td>-7.473996e-01</td>\n",
       "      <td>-2.634583e-01</td>\n",
       "      <td>-5.840125e-01</td>\n",
       "      <td>-6.787620e-01</td>\n",
       "      <td>-1.751815e-01</td>\n",
       "      <td>-1.606299e-01</td>\n",
>>>>>>> 64298a656ba05506c9bd61daefa94c3a53b9dae1
       "    </tr>\n",
       "    <tr>\n",
       "      <th>50%</th>\n",
       "      <td>8.788754e-03</td>\n",
       "      <td>3.926317e-02</td>\n",
       "      <td>1.176945e-01</td>\n",
       "      <td>-1.491895e-02</td>\n",
       "      <td>-3.816713e-02</td>\n",
       "      <td>-2.054283e-01</td>\n",
       "      <td>3.156398e-02</td>\n",
       "      <td>1.888879e-02</td>\n",
       "      <td>-4.746015e-02</td>\n",
       "      <td>-8.456047e-02</td>\n",
<<<<<<< HEAD
       "      <td>-3.187601e-02</td>\n",
       "      <td>1.423529e-01</td>\n",
       "      <td>-1.443718e-02</td>\n",
       "      <td>5.154903e-02</td>\n",
       "      <td>7.556603e-02</td>\n",
       "      <td>-7.917477e-02</td>\n",
       "      <td>-3.955578e-02</td>\n",
       "      <td>-1.960514e-02</td>\n",
       "      <td>3.687607e-03</td>\n",
=======
       "      <td>...</td>\n",
       "      <td>-4.188847e-03</td>\n",
       "      <td>4.986193e-03</td>\n",
       "      <td>-8.184843e-02</td>\n",
       "      <td>-3.955578e-02</td>\n",
       "      <td>8.856053e-03</td>\n",
       "      <td>-1.960514e-02</td>\n",
       "      <td>6.810582e-02</td>\n",
       "      <td>-1.083539e-01</td>\n",
       "      <td>3.687607e-03</td>\n",
       "      <td>3.438213e-02</td>\n",
>>>>>>> 64298a656ba05506c9bd61daefa94c3a53b9dae1
       "    </tr>\n",
       "    <tr>\n",
       "      <th>75%</th>\n",
       "      <td>6.738880e-01</td>\n",
       "      <td>4.913846e-01</td>\n",
       "      <td>6.773872e-01</td>\n",
       "      <td>5.247305e-01</td>\n",
       "      <td>4.434481e-01</td>\n",
       "      <td>2.984683e-01</td>\n",
       "      <td>4.577876e-01</td>\n",
       "      <td>2.719350e-01</td>\n",
       "      <td>5.433963e-01</td>\n",
       "      <td>4.211409e-01</td>\n",
<<<<<<< HEAD
       "      <td>7.255326e-01</td>\n",
       "      <td>6.187009e-01</td>\n",
       "      <td>6.665734e-01</td>\n",
       "      <td>5.149620e-01</td>\n",
       "      <td>5.966500e-01</td>\n",
       "      <td>4.736056e-01</td>\n",
       "      <td>2.535179e-01</td>\n",
       "      <td>2.373485e-01</td>\n",
       "      <td>2.257340e-01</td>\n",
=======
       "      <td>...</td>\n",
       "      <td>5.963905e-01</td>\n",
       "      <td>5.636453e-01</td>\n",
       "      <td>1.749705e-01</td>\n",
       "      <td>2.535179e-01</td>\n",
       "      <td>7.285323e-01</td>\n",
       "      <td>2.373485e-01</td>\n",
       "      <td>7.244469e-01</td>\n",
       "      <td>4.999686e-01</td>\n",
       "      <td>2.257340e-01</td>\n",
       "      <td>2.377424e-01</td>\n",
>>>>>>> 64298a656ba05506c9bd61daefa94c3a53b9dae1
       "    </tr>\n",
       "    <tr>\n",
       "      <th>max</th>\n",
       "      <td>1.257145e+00</td>\n",
       "      <td>1.351940e+01</td>\n",
       "      <td>6.198642e+00</td>\n",
       "      <td>1.179914e+01</td>\n",
       "      <td>2.516451e+01</td>\n",
       "      <td>5.493438e+01</td>\n",
       "      <td>9.709075e+01</td>\n",
       "      <td>1.660173e+01</td>\n",
       "      <td>1.422236e+01</td>\n",
       "      <td>2.192944e+01</td>\n",
<<<<<<< HEAD
       "      <td>1.177179e+01</td>\n",
       "      <td>7.852190e+00</td>\n",
       "      <td>7.149965e+00</td>\n",
       "      <td>1.100072e+01</td>\n",
       "      <td>1.974641e+01</td>\n",
       "      <td>1.090179e+01</td>\n",
       "      <td>3.699255e+01</td>\n",
       "      <td>3.571100e+01</td>\n",
       "      <td>7.830721e+01</td>\n",
       "    </tr>\n",
       "  </tbody>\n",
       "</table>\n",
=======
       "      <td>...</td>\n",
       "      <td>6.015147e+00</td>\n",
       "      <td>6.861089e+00</td>\n",
       "      <td>5.177360e+01</td>\n",
       "      <td>3.699255e+01</td>\n",
       "      <td>1.447872e+01</td>\n",
       "      <td>3.571100e+01</td>\n",
       "      <td>7.568174e+00</td>\n",
       "      <td>7.299527e+00</td>\n",
       "      <td>7.830721e+01</td>\n",
       "      <td>1.026601e+02</td>\n",
       "    </tr>\n",
       "  </tbody>\n",
       "</table>\n",
       "<p>8 rows × 27 columns</p>\n",
>>>>>>> 64298a656ba05506c9bd61daefa94c3a53b9dae1
       "</div>"
      ],
      "text/plain": [
       "                 0             1             2             3             4   \\\n",
       "count  2.136050e+05  2.136050e+05  2.136050e+05  2.136050e+05  2.136050e+05   \n",
       "mean  -5.940957e-17  3.308696e-18  6.897645e-17  1.529951e-17  3.043342e-17   \n",
       "std    1.000002e+00  1.000002e+00  1.000002e+00  1.000002e+00  1.000002e+00   \n",
       "min   -2.894088e+01 -4.456820e+01 -3.193523e+01 -4.014707e+00 -8.223626e+01   \n",
       "25%   -4.733905e-01 -3.681522e-01 -5.882749e-01 -5.987030e-01 -4.994077e-01   \n",
       "50%    8.788754e-03  3.926317e-02  1.176945e-01 -1.491895e-02 -3.816713e-02   \n",
       "75%    6.738880e-01  4.913846e-01  6.773872e-01  5.247305e-01  4.434481e-01   \n",
       "max    1.257145e+00  1.351940e+01  6.198642e+00  1.179914e+01  2.516451e+01   \n",
       "\n",
       "                 5             6             7             8             9   \\\n",
       "count  2.136050e+05  2.136050e+05  2.136050e+05  2.136050e+05  2.136050e+05   \n",
       "mean  -1.889232e-17 -8.010986e-18  1.612683e-17 -3.156265e-17  8.410808e-18   \n",
       "std    1.000002e+00  1.000002e+00  1.000002e+00  1.000002e+00  1.000002e+00   \n",
       "min   -1.960776e+01 -3.506962e+01 -6.075432e+01 -1.225143e+01 -2.270814e+01   \n",
       "25%   -5.759849e-01 -4.468419e-01 -1.724718e-01 -5.861799e-01 -4.937656e-01   \n",
       "50%   -2.054283e-01  3.156398e-02  1.888879e-02 -4.746015e-02 -8.456047e-02   \n",
       "75%    2.984683e-01  4.577876e-01  2.719350e-01  5.433963e-01  4.211409e-01   \n",
       "max    5.493438e+01  9.709075e+01  1.660173e+01  1.422236e+01  2.192944e+01   \n",
       "\n",
<<<<<<< HEAD
       "                 10            11            12            13            14  \\\n",
       "count  2.136050e+05  2.136050e+05  2.136050e+05  2.136050e+05  2.136050e+05   \n",
       "mean   4.604459e-17 -2.154905e-17 -2.229789e-17  8.875079e-18  2.818268e-17   \n",
       "std    1.000002e+00  1.000002e+00  1.000002e+00  1.000002e+00  1.000002e+00   \n",
       "min   -4.700114e+00 -1.843830e+01 -5.809749e+00 -2.008829e+01 -1.611236e+01   \n",
       "25%   -7.465216e-01 -4.057765e-01 -6.514172e-01 -4.450402e-01 -5.358654e-01   \n",
       "50%   -3.187601e-02  1.423529e-01 -1.443718e-02  5.154903e-02  7.556603e-02   \n",
       "75%    7.255326e-01  6.187009e-01  6.665734e-01  5.149620e-01  5.966500e-01   \n",
       "max    1.177179e+01  7.852190e+00  7.149965e+00  1.100072e+01  1.974641e+01   \n",
       "\n",
       "                 15            16            17            18  \n",
       "count  2.136050e+05  2.136050e+05  2.136050e+05  2.136050e+05  \n",
       "mean  -3.487947e-17  2.396591e-17  1.572363e-17  2.766176e-17  \n",
       "std    1.000002e+00  1.000002e+00  1.000002e+00  1.000002e+00  \n",
       "min   -2.979875e+01 -4.736572e+01 -5.929492e+01 -5.589815e+01  \n",
       "25%   -5.740300e-01 -3.095466e-01 -2.634583e-01 -1.751815e-01  \n",
       "50%   -7.917477e-02 -3.955578e-02 -1.960514e-02  3.687607e-03  \n",
       "75%    4.736056e-01  2.535179e-01  2.373485e-01  2.257340e-01  \n",
       "max    1.090179e+01  3.699255e+01  3.571100e+01  7.830721e+01  "
      ]
     },
     "execution_count": 21,
=======
       "       ...            17            18            19            20  \\\n",
       "count  ...  2.136050e+05  2.136050e+05  2.136050e+05  2.136050e+05   \n",
       "mean   ... -9.054135e-19 -5.238612e-18 -2.113350e-17  2.396591e-17   \n",
       "std    ...  1.000002e+00  1.000002e+00  1.000002e+00  1.000002e+00   \n",
       "min    ... -1.114273e+01 -8.850321e+00 -7.157312e+01 -4.736572e+01   \n",
       "25%    ... -5.956755e-01 -5.603550e-01 -2.776918e-01 -3.095466e-01   \n",
       "50%    ... -4.188847e-03  4.986193e-03 -8.184843e-02 -3.955578e-02   \n",
       "75%    ...  5.963905e-01  5.636453e-01  1.749705e-01  2.535179e-01   \n",
       "max    ...  6.015147e+00  6.861089e+00  5.177360e+01  3.699255e+01   \n",
       "\n",
       "                 21            22            23            24            25  \\\n",
       "count  2.136050e+05  2.136050e+05  2.136050e+05  2.136050e+05  2.136050e+05   \n",
       "mean   1.661657e-17  1.572363e-17 -1.202713e-17 -1.088575e-17  2.766176e-17   \n",
       "std    1.000002e+00  1.000002e+00  1.000002e+00  1.000002e+00  1.000002e+00   \n",
       "min   -1.507635e+01 -5.929492e+01 -4.681387e+00 -5.257815e+00 -5.589815e+01   \n",
       "25%   -7.473996e-01 -2.634583e-01 -5.840125e-01 -6.787620e-01 -1.751815e-01   \n",
       "50%    8.856053e-03 -1.960514e-02  6.810582e-02 -1.083539e-01  3.687607e-03   \n",
       "75%    7.285323e-01  2.373485e-01  7.244469e-01  4.999686e-01  2.257340e-01   \n",
       "max    1.447872e+01  3.571100e+01  7.568174e+00  7.299527e+00  7.830721e+01   \n",
       "\n",
       "                 26  \n",
       "count  2.136050e+05  \n",
       "mean   6.428637e-17  \n",
       "std    1.000002e+00  \n",
       "min   -4.679943e+01  \n",
       "25%   -1.606299e-01  \n",
       "50%    3.438213e-02  \n",
       "75%    2.377424e-01  \n",
       "max    1.026601e+02  \n",
       "\n",
       "[8 rows x 27 columns]"
      ]
     },
     "execution_count": 22,
>>>>>>> 64298a656ba05506c9bd61daefa94c3a53b9dae1
     "metadata": {},
     "output_type": "execute_result"
    }
   ],
   "source": [
    "pd.DataFrame(X_train).describe() # checking summary statistics of the training set"
   ]
  },
  {
   "cell_type": "markdown",
   "metadata": {
    "papermill": {
<<<<<<< HEAD
     "duration": 0.052203,
     "end_time": "2020-12-04T15:09:53.518855",
     "exception": false,
     "start_time": "2020-12-04T15:09:53.466652",
=======
     "duration": 0.087961,
     "end_time": "2020-12-05T14:43:12.907118",
     "exception": false,
     "start_time": "2020-12-05T14:43:12.819157",
>>>>>>> 64298a656ba05506c9bd61daefa94c3a53b9dae1
     "status": "completed"
    },
    "tags": []
   },
   "source": [
    "### There seems to be outliers in the features. We will clip the outliers. We will arbitrarily define outliers as observations outside of 1st and 99th percentile. "
   ]
  },
  {
   "cell_type": "code",
<<<<<<< HEAD
   "execution_count": 22,
   "metadata": {
    "execution": {
     "iopub.execute_input": "2020-12-04T15:09:53.625627Z",
     "iopub.status.busy": "2020-12-04T15:09:53.624792Z",
     "iopub.status.idle": "2020-12-04T15:09:53.721876Z",
     "shell.execute_reply": "2020-12-04T15:09:53.722553Z"
    },
    "papermill": {
     "duration": 0.153323,
     "end_time": "2020-12-04T15:09:53.722724",
     "exception": false,
     "start_time": "2020-12-04T15:09:53.569401",
=======
   "execution_count": 23,
   "metadata": {
    "execution": {
     "iopub.execute_input": "2020-12-05T14:43:13.090810Z",
     "iopub.status.busy": "2020-12-05T14:43:13.089888Z",
     "iopub.status.idle": "2020-12-05T14:43:13.307585Z",
     "shell.execute_reply": "2020-12-05T14:43:13.308810Z"
    },
    "papermill": {
     "duration": 0.317659,
     "end_time": "2020-12-05T14:43:13.308999",
     "exception": false,
     "start_time": "2020-12-05T14:43:12.991340",
>>>>>>> 64298a656ba05506c9bd61daefa94c3a53b9dae1
     "status": "completed"
    },
    "tags": []
   },
   "outputs": [
    {
     "name": "stdout",
     "output_type": "stream",
     "text": [
      "[-3.35598442 -3.04460642 -2.62121913 -2.20963993 -2.21329592 -1.59186443\n",
      " -2.4109432  -3.34728305 -2.23750133 -1.93404082 -2.05630581 -3.06949683\n",
<<<<<<< HEAD
      " -2.29228219 -2.92859939 -2.71920018 -1.5947911  -1.99254328 -1.92864716\n",
      " -3.08719829]\n"
=======
      " -2.29228219 -2.92859939 -2.603519   -2.71920018 -1.5947911  -2.56010235\n",
      " -2.55195133 -2.05767956 -1.99254328 -2.2846169  -1.92864716 -2.73646004\n",
      " -2.09039498 -3.08719829 -2.64782724]\n"
>>>>>>> 64298a656ba05506c9bd61daefa94c3a53b9dae1
     ]
    }
   ],
   "source": [
    "a = np.percentile(X_train, 1, axis=0) # gets the first percentile for each feature\n",
    "print(a)"
   ]
  },
  {
   "cell_type": "code",
<<<<<<< HEAD
   "execution_count": 23,
   "metadata": {
    "execution": {
     "iopub.execute_input": "2020-12-04T15:09:53.829623Z",
     "iopub.status.busy": "2020-12-04T15:09:53.828834Z",
     "iopub.status.idle": "2020-12-04T15:09:53.926939Z",
     "shell.execute_reply": "2020-12-04T15:09:53.927710Z"
    },
    "papermill": {
     "duration": 0.153544,
     "end_time": "2020-12-04T15:09:53.927905",
     "exception": false,
     "start_time": "2020-12-04T15:09:53.774361",
=======
   "execution_count": 24,
   "metadata": {
    "execution": {
     "iopub.execute_input": "2020-12-05T14:43:13.455695Z",
     "iopub.status.busy": "2020-12-05T14:43:13.454531Z",
     "iopub.status.idle": "2020-12-05T14:43:13.625162Z",
     "shell.execute_reply": "2020-12-05T14:43:13.625753Z"
    },
    "papermill": {
     "duration": 0.239153,
     "end_time": "2020-12-05T14:43:13.625900",
     "exception": false,
     "start_time": "2020-12-05T14:43:13.386747",
>>>>>>> 64298a656ba05506c9bd61daefa94c3a53b9dae1
     "status": "completed"
    },
    "tags": []
   },
   "outputs": [
    {
     "name": "stdout",
     "output_type": "stream",
     "text": [
      "[1.14628284 2.32478379 1.80515679 3.00697944 2.46673385 3.14627676\n",
      " 2.18638956 1.72372554 2.7168256  2.97689188 2.24576384 1.70334366\n",
<<<<<<< HEAD
      " 2.52683632 2.24922413 2.14034939 2.72789116 2.59954424 2.45618108\n",
      " 2.29949433]\n"
=======
      " 2.52683632 2.24922413 2.1011149  2.14034939 2.72789116 2.46887937\n",
      " 2.7897677  3.17114874 2.59954424 2.1093771  2.45618108 1.75797563\n",
      " 2.40431567 2.29949433 1.62894844]\n"
>>>>>>> 64298a656ba05506c9bd61daefa94c3a53b9dae1
     ]
    }
   ],
   "source": [
    "b = np.percentile(X_train, 99, axis=0) # gets the 99th percentile for each feature\n",
    "print(b)"
   ]
  },
  {
   "cell_type": "code",
<<<<<<< HEAD
   "execution_count": 24,
   "metadata": {
    "execution": {
     "iopub.execute_input": "2020-12-04T15:09:54.036248Z",
     "iopub.status.busy": "2020-12-04T15:09:54.035360Z",
     "iopub.status.idle": "2020-12-04T15:09:54.048519Z",
     "shell.execute_reply": "2020-12-04T15:09:54.047991Z"
    },
    "papermill": {
     "duration": 0.06878,
     "end_time": "2020-12-04T15:09:54.048614",
     "exception": false,
     "start_time": "2020-12-04T15:09:53.979834",
=======
   "execution_count": 25,
   "metadata": {
    "execution": {
     "iopub.execute_input": "2020-12-05T14:43:13.751046Z",
     "iopub.status.busy": "2020-12-05T14:43:13.749936Z",
     "iopub.status.idle": "2020-12-05T14:43:13.780567Z",
     "shell.execute_reply": "2020-12-05T14:43:13.779969Z"
    },
    "papermill": {
     "duration": 0.094265,
     "end_time": "2020-12-05T14:43:13.780722",
     "exception": false,
     "start_time": "2020-12-05T14:43:13.686457",
>>>>>>> 64298a656ba05506c9bd61daefa94c3a53b9dae1
     "status": "completed"
    },
    "tags": []
   },
   "outputs": [],
   "source": [
    "# clipping\n",
    "X_train = np.clip(X_train, a, b)\n",
    "X_test = np.clip(X_test, a, b)"
   ]
  },
  {
   "cell_type": "code",
<<<<<<< HEAD
   "execution_count": 25,
   "metadata": {
    "execution": {
     "iopub.execute_input": "2020-12-04T15:09:54.157262Z",
     "iopub.status.busy": "2020-12-04T15:09:54.156353Z",
     "iopub.status.idle": "2020-12-04T15:09:54.167324Z",
     "shell.execute_reply": "2020-12-04T15:09:54.166723Z"
    },
    "papermill": {
     "duration": 0.067754,
     "end_time": "2020-12-04T15:09:54.167439",
     "exception": false,
     "start_time": "2020-12-04T15:09:54.099685",
=======
   "execution_count": 26,
   "metadata": {
    "execution": {
     "iopub.execute_input": "2020-12-05T14:43:13.908466Z",
     "iopub.status.busy": "2020-12-05T14:43:13.907459Z",
     "iopub.status.idle": "2020-12-05T14:43:13.922132Z",
     "shell.execute_reply": "2020-12-05T14:43:13.921528Z"
    },
    "papermill": {
     "duration": 0.080229,
     "end_time": "2020-12-05T14:43:13.922247",
     "exception": false,
     "start_time": "2020-12-05T14:43:13.842018",
>>>>>>> 64298a656ba05506c9bd61daefa94c3a53b9dae1
     "status": "completed"
    },
    "tags": []
   },
   "outputs": [
    {
     "name": "stdout",
     "output_type": "stream",
     "text": [
      "[-3.35598442 -3.04460642 -2.62121913 -2.20963993 -2.21329592 -1.59186443\n",
      " -2.4109432  -3.34728305 -2.23750133 -1.93404082 -2.05630581 -3.06949683\n",
<<<<<<< HEAD
      " -2.29228219 -2.92859939 -2.71920018 -1.5947911  -1.99254328 -1.92864716\n",
      " -3.08719829]\n",
      "\n",
      "[1.14628284 2.32478379 1.80515679 3.00697944 2.46673385 3.14627676\n",
      " 2.18638956 1.72372554 2.7168256  2.97689188 2.24576384 1.70334366\n",
      " 2.52683632 2.24922413 2.14034939 2.72789116 2.59954424 2.45618108\n",
      " 2.29949433]\n"
=======
      " -2.29228219 -2.92859939 -2.603519   -2.71920018 -1.5947911  -2.56010235\n",
      " -2.55195133 -2.05767956 -1.99254328 -2.2846169  -1.92864716 -2.73646004\n",
      " -2.09039498 -3.08719829 -2.64782724]\n",
      "\n",
      "[1.14628284 2.32478379 1.80515679 3.00697944 2.46673385 3.14627676\n",
      " 2.18638956 1.72372554 2.7168256  2.97689188 2.24576384 1.70334366\n",
      " 2.52683632 2.24922413 2.1011149  2.14034939 2.72789116 2.46887937\n",
      " 2.7897677  3.17114874 2.59954424 2.1093771  2.45618108 1.75797563\n",
      " 2.40431567 2.29949433 1.62894844]\n"
>>>>>>> 64298a656ba05506c9bd61daefa94c3a53b9dae1
     ]
    }
   ],
   "source": [
    "print(X_train.min(axis=0)) # confirming the new minimum values are now the 1st percentile\n",
    "print()\n",
    "print(X_train.max(axis=0)) # confirming the new maximum values are now the 99th percentile"
   ]
  },
  {
   "cell_type": "markdown",
   "metadata": {
    "papermill": {
<<<<<<< HEAD
     "duration": 0.051533,
     "end_time": "2020-12-04T15:09:54.270709",
     "exception": false,
     "start_time": "2020-12-04T15:09:54.219176",
=======
     "duration": 0.061428,
     "end_time": "2020-12-05T14:43:14.045787",
     "exception": false,
     "start_time": "2020-12-05T14:43:13.984359",
>>>>>>> 64298a656ba05506c9bd61daefa94c3a53b9dae1
     "status": "completed"
    },
    "tags": []
   },
   "source": [
    "### The arrays above are same as 1st and 99th percentile respectively."
   ]
  },
  {
   "cell_type": "markdown",
   "metadata": {
    "papermill": {
<<<<<<< HEAD
     "duration": 0.054567,
     "end_time": "2020-12-04T15:09:54.376318",
     "exception": false,
     "start_time": "2020-12-04T15:09:54.321751",
=======
     "duration": 0.061808,
     "end_time": "2020-12-05T14:43:14.169686",
     "exception": false,
     "start_time": "2020-12-05T14:43:14.107878",
>>>>>>> 64298a656ba05506c9bd61daefa94c3a53b9dae1
     "status": "completed"
    },
    "tags": []
   },
   "source": [
    "### Now, we will use train test split to get the best number of epochs "
   ]
  },
  {
   "cell_type": "code",
<<<<<<< HEAD
   "execution_count": 26,
   "metadata": {
    "execution": {
     "iopub.execute_input": "2020-12-04T15:09:54.499321Z",
     "iopub.status.busy": "2020-12-04T15:09:54.498664Z",
     "iopub.status.idle": "2020-12-04T15:13:55.931761Z",
     "shell.execute_reply": "2020-12-04T15:13:55.931139Z"
    },
    "papermill": {
     "duration": 241.495475,
     "end_time": "2020-12-04T15:13:55.931897",
     "exception": false,
     "start_time": "2020-12-04T15:09:54.436422",
=======
   "execution_count": 27,
   "metadata": {
    "execution": {
     "iopub.execute_input": "2020-12-05T14:43:14.301277Z",
     "iopub.status.busy": "2020-12-05T14:43:14.300491Z",
     "iopub.status.idle": "2020-12-05T14:43:39.000928Z",
     "shell.execute_reply": "2020-12-05T14:43:39.000205Z"
    },
    "papermill": {
     "duration": 24.769592,
     "end_time": "2020-12-05T14:43:39.001064",
     "exception": false,
     "start_time": "2020-12-05T14:43:14.231472",
>>>>>>> 64298a656ba05506c9bd61daefa94c3a53b9dae1
     "status": "completed"
    },
    "tags": []
   },
   "outputs": [
    {
     "name": "stdout",
     "output_type": "stream",
     "text": [
      "Epoch 1/30\n",
<<<<<<< HEAD
      "6676/6676 [==============================] - 18s 3ms/step - loss: 0.0046 - stateful_binary_fbeta: 0.6753 - val_loss: 0.0024 - val_stateful_binary_fbeta: 0.8745\n",
      "Epoch 2/30\n",
      "6676/6676 [==============================] - 18s 3ms/step - loss: 0.0038 - stateful_binary_fbeta: 0.7306 - val_loss: 0.0022 - val_stateful_binary_fbeta: 0.8760\n",
      "Epoch 3/30\n",
      "6676/6676 [==============================] - 18s 3ms/step - loss: 0.0037 - stateful_binary_fbeta: 0.7352 - val_loss: 0.0022 - val_stateful_binary_fbeta: 0.8816\n",
      "Epoch 4/30\n",
      "6676/6676 [==============================] - 18s 3ms/step - loss: 0.0035 - stateful_binary_fbeta: 0.7440 - val_loss: 0.0023 - val_stateful_binary_fbeta: 0.8214\n",
      "Epoch 5/30\n",
      "6676/6676 [==============================] - 19s 3ms/step - loss: 0.0035 - stateful_binary_fbeta: 0.7458 - val_loss: 0.0022 - val_stateful_binary_fbeta: 0.8745\n",
      "Epoch 6/30\n",
      "6676/6676 [==============================] - 17s 3ms/step - loss: 0.0036 - stateful_binary_fbeta: 0.7343 - val_loss: 0.0022 - val_stateful_binary_fbeta: 0.8608\n",
      "Epoch 7/30\n",
      "6676/6676 [==============================] - 18s 3ms/step - loss: 0.0035 - stateful_binary_fbeta: 0.7372 - val_loss: 0.0023 - val_stateful_binary_fbeta: 0.8710\n",
      "Epoch 8/30\n",
      "6676/6676 [==============================] - 18s 3ms/step - loss: 0.0035 - stateful_binary_fbeta: 0.7348 - val_loss: 0.0022 - val_stateful_binary_fbeta: 0.8780\n",
      "Epoch 9/30\n",
      "6676/6676 [==============================] - 19s 3ms/step - loss: 0.0033 - stateful_binary_fbeta: 0.7736 - val_loss: 0.0023 - val_stateful_binary_fbeta: 0.7909\n",
      "Epoch 10/30\n",
      "6676/6676 [==============================] - 17s 3ms/step - loss: 0.0034 - stateful_binary_fbeta: 0.7639 - val_loss: 0.0022 - val_stateful_binary_fbeta: 0.8780\n",
      "Epoch 11/30\n",
      "6676/6676 [==============================] - 20s 3ms/step - loss: 0.0034 - stateful_binary_fbeta: 0.7586 - val_loss: 0.0022 - val_stateful_binary_fbeta: 0.8780\n",
      "Epoch 12/30\n",
      "6676/6676 [==============================] - 19s 3ms/step - loss: 0.0033 - stateful_binary_fbeta: 0.7715 - val_loss: 0.0022 - val_stateful_binary_fbeta: 0.8750\n",
      "Epoch 13/30\n",
      "6676/6676 [==============================] - 17s 3ms/step - loss: 0.0034 - stateful_binary_fbeta: 0.7474 - val_loss: 0.0023 - val_stateful_binary_fbeta: 0.8125\n"
=======
      "418/418 [==============================] - 2s 4ms/step - loss: 0.0060 - stateful_binary_fbeta: 0.5663 - val_loss: 0.0026 - val_stateful_binary_fbeta: 0.8692\n",
      "Epoch 2/30\n",
      "418/418 [==============================] - 2s 4ms/step - loss: 0.0037 - stateful_binary_fbeta: 0.7447 - val_loss: 0.0023 - val_stateful_binary_fbeta: 0.8776\n",
      "Epoch 3/30\n",
      "418/418 [==============================] - 1s 3ms/step - loss: 0.0035 - stateful_binary_fbeta: 0.7470 - val_loss: 0.0022 - val_stateful_binary_fbeta: 0.8833\n",
      "Epoch 4/30\n",
      "418/418 [==============================] - 1s 3ms/step - loss: 0.0034 - stateful_binary_fbeta: 0.7669 - val_loss: 0.0021 - val_stateful_binary_fbeta: 0.8852\n",
      "Epoch 5/30\n",
      "418/418 [==============================] - 1s 3ms/step - loss: 0.0034 - stateful_binary_fbeta: 0.7504 - val_loss: 0.0022 - val_stateful_binary_fbeta: 0.8571\n",
      "Epoch 6/30\n",
      "418/418 [==============================] - 1s 3ms/step - loss: 0.0033 - stateful_binary_fbeta: 0.7504 - val_loss: 0.0021 - val_stateful_binary_fbeta: 0.8807\n",
      "Epoch 7/30\n",
      "418/418 [==============================] - 1s 3ms/step - loss: 0.0033 - stateful_binary_fbeta: 0.7718 - val_loss: 0.0021 - val_stateful_binary_fbeta: 0.8852\n",
      "Epoch 8/30\n",
      "418/418 [==============================] - 1s 3ms/step - loss: 0.0032 - stateful_binary_fbeta: 0.7811 - val_loss: 0.0021 - val_stateful_binary_fbeta: 0.8807\n",
      "Epoch 9/30\n",
      "418/418 [==============================] - 1s 3ms/step - loss: 0.0032 - stateful_binary_fbeta: 0.7774 - val_loss: 0.0021 - val_stateful_binary_fbeta: 0.8658\n",
      "Epoch 10/30\n",
      "418/418 [==============================] - 2s 4ms/step - loss: 0.0033 - stateful_binary_fbeta: 0.7821 - val_loss: 0.0021 - val_stateful_binary_fbeta: 0.8609\n",
      "Epoch 11/30\n",
      "418/418 [==============================] - 1s 3ms/step - loss: 0.0031 - stateful_binary_fbeta: 0.7822 - val_loss: 0.0021 - val_stateful_binary_fbeta: 0.8609\n",
      "Epoch 12/30\n",
      "418/418 [==============================] - 1s 3ms/step - loss: 0.0031 - stateful_binary_fbeta: 0.7864 - val_loss: 0.0021 - val_stateful_binary_fbeta: 0.8609\n",
      "Epoch 13/30\n",
      "418/418 [==============================] - 1s 3ms/step - loss: 0.0032 - stateful_binary_fbeta: 0.7899 - val_loss: 0.0021 - val_stateful_binary_fbeta: 0.8584\n",
      "Epoch 14/30\n",
      "418/418 [==============================] - 1s 3ms/step - loss: 0.0030 - stateful_binary_fbeta: 0.7893 - val_loss: 0.0022 - val_stateful_binary_fbeta: 0.8407\n"
>>>>>>> 64298a656ba05506c9bd61daefa94c3a53b9dae1
     ]
    }
   ],
   "source": [
    "model = build_model()\n",
<<<<<<< HEAD
    "history = model.fit(X_train, y_train, epochs=30, batch_size=32, callbacks=[stopper], \\\n",
=======
    "history = model.fit(X_train, y_train, epochs=30, batch_size=512, callbacks=[stopper], \\\n",
>>>>>>> 64298a656ba05506c9bd61daefa94c3a53b9dae1
    "                validation_data=(X_test, y_test), verbose=1)"
   ]
  },
  {
   "cell_type": "markdown",
   "metadata": {
    "papermill": {
<<<<<<< HEAD
     "duration": 1.604806,
     "end_time": "2020-12-04T15:13:58.903802",
     "exception": false,
     "start_time": "2020-12-04T15:13:57.298996",
=======
     "duration": 0.188978,
     "end_time": "2020-12-05T14:43:39.385029",
     "exception": false,
     "start_time": "2020-12-05T14:43:39.196051",
>>>>>>> 64298a656ba05506c9bd61daefa94c3a53b9dae1
     "status": "completed"
    },
    "tags": []
   },
   "source": [
    "### Let's check the best f1 score and confirm it using sklearn's f1score."
   ]
  },
  {
   "cell_type": "code",
<<<<<<< HEAD
   "execution_count": 27,
   "metadata": {
    "execution": {
     "iopub.execute_input": "2020-12-04T15:14:01.693363Z",
     "iopub.status.busy": "2020-12-04T15:14:01.691986Z",
     "iopub.status.idle": "2020-12-04T15:14:04.130952Z",
     "shell.execute_reply": "2020-12-04T15:14:04.130291Z"
    },
    "papermill": {
     "duration": 3.83621,
     "end_time": "2020-12-04T15:14:04.131065",
     "exception": false,
     "start_time": "2020-12-04T15:14:00.294855",
=======
   "execution_count": 28,
   "metadata": {
    "execution": {
     "iopub.execute_input": "2020-12-05T14:43:39.774566Z",
     "iopub.status.busy": "2020-12-05T14:43:39.773676Z",
     "iopub.status.idle": "2020-12-05T14:43:41.287689Z",
     "shell.execute_reply": "2020-12-05T14:43:41.288517Z"
    },
    "papermill": {
     "duration": 1.711402,
     "end_time": "2020-12-05T14:43:41.288706",
     "exception": false,
     "start_time": "2020-12-05T14:43:39.577304",
>>>>>>> 64298a656ba05506c9bd61daefa94c3a53b9dae1
     "status": "completed"
    },
    "tags": []
   },
   "outputs": [
    {
     "data": {
      "text/plain": [
<<<<<<< HEAD
       "array([[2.1990327e-05],\n",
       "       [3.8006314e-04],\n",
       "       [1.5151831e-05],\n",
       "       [1.6116670e-04],\n",
       "       [1.4200354e-05]], dtype=float32)"
      ]
     },
     "execution_count": 27,
=======
       "array([[8.6634034e-05],\n",
       "       [6.0438667e-04],\n",
       "       [4.0634779e-05],\n",
       "       [1.8541870e-04],\n",
       "       [4.5138164e-05]], dtype=float32)"
      ]
     },
     "execution_count": 28,
>>>>>>> 64298a656ba05506c9bd61daefa94c3a53b9dae1
     "metadata": {},
     "output_type": "execute_result"
    }
   ],
   "source": [
    "p = model.predict(X_test)\n",
    "p[:5]"
   ]
  },
  {
   "cell_type": "code",
<<<<<<< HEAD
   "execution_count": 28,
   "metadata": {
    "execution": {
     "iopub.execute_input": "2020-12-04T15:14:06.894329Z",
     "iopub.status.busy": "2020-12-04T15:14:06.893442Z",
     "iopub.status.idle": "2020-12-04T15:14:06.899797Z",
     "shell.execute_reply": "2020-12-04T15:14:06.899326Z"
    },
    "papermill": {
     "duration": 1.367948,
     "end_time": "2020-12-04T15:14:06.899899",
     "exception": false,
     "start_time": "2020-12-04T15:14:05.531951",
=======
   "execution_count": 29,
   "metadata": {
    "execution": {
     "iopub.execute_input": "2020-12-05T14:43:41.679636Z",
     "iopub.status.busy": "2020-12-05T14:43:41.676842Z",
     "iopub.status.idle": "2020-12-05T14:43:41.683597Z",
     "shell.execute_reply": "2020-12-05T14:43:41.683032Z"
    },
    "papermill": {
     "duration": 0.204309,
     "end_time": "2020-12-05T14:43:41.683732",
     "exception": false,
     "start_time": "2020-12-05T14:43:41.479423",
>>>>>>> 64298a656ba05506c9bd61daefa94c3a53b9dae1
     "status": "completed"
    },
    "tags": []
   },
   "outputs": [
    {
     "data": {
      "text/plain": [
       "array([0, 0, 0, 0, 0])"
      ]
     },
<<<<<<< HEAD
     "execution_count": 28,
=======
     "execution_count": 29,
>>>>>>> 64298a656ba05506c9bd61daefa94c3a53b9dae1
     "metadata": {},
     "output_type": "execute_result"
    }
   ],
   "source": [
    "q = (p > threshold).astype(int).flatten()\n",
    "q[:5]"
   ]
  },
  {
   "cell_type": "code",
<<<<<<< HEAD
   "execution_count": 29,
   "metadata": {
    "execution": {
     "iopub.execute_input": "2020-12-04T15:14:10.243825Z",
     "iopub.status.busy": "2020-12-04T15:14:10.242767Z",
     "iopub.status.idle": "2020-12-04T15:14:10.246516Z",
     "shell.execute_reply": "2020-12-04T15:14:10.244664Z"
    },
    "papermill": {
     "duration": 1.6799,
     "end_time": "2020-12-04T15:14:10.246622",
     "exception": false,
     "start_time": "2020-12-04T15:14:08.566722",
=======
   "execution_count": 30,
   "metadata": {
    "execution": {
     "iopub.execute_input": "2020-12-05T14:43:42.075743Z",
     "iopub.status.busy": "2020-12-05T14:43:42.074543Z",
     "iopub.status.idle": "2020-12-05T14:43:42.080092Z",
     "shell.execute_reply": "2020-12-05T14:43:42.079531Z"
    },
    "papermill": {
     "duration": 0.204024,
     "end_time": "2020-12-05T14:43:42.080209",
     "exception": false,
     "start_time": "2020-12-05T14:43:41.876185",
>>>>>>> 64298a656ba05506c9bd61daefa94c3a53b9dae1
     "status": "completed"
    },
    "tags": []
   },
   "outputs": [
    {
     "data": {
      "text/plain": [
<<<<<<< HEAD
       "array([2.1990327e-05, 3.8006314e-04, 1.5151831e-05, 1.6116670e-04,\n",
       "       1.4200354e-05], dtype=float32)"
      ]
     },
     "execution_count": 29,
=======
       "array([8.6634034e-05, 6.0438667e-04, 4.0634779e-05, 1.8541870e-04,\n",
       "       4.5138164e-05], dtype=float32)"
      ]
     },
     "execution_count": 30,
>>>>>>> 64298a656ba05506c9bd61daefa94c3a53b9dae1
     "metadata": {},
     "output_type": "execute_result"
    }
   ],
   "source": [
    "p.flatten()[:5]"
   ]
  },
  {
   "cell_type": "code",
<<<<<<< HEAD
   "execution_count": 30,
   "metadata": {
    "execution": {
     "iopub.execute_input": "2020-12-04T15:14:13.113120Z",
     "iopub.status.busy": "2020-12-04T15:14:13.112228Z",
     "iopub.status.idle": "2020-12-04T15:14:13.126804Z",
     "shell.execute_reply": "2020-12-04T15:14:13.126321Z"
    },
    "papermill": {
     "duration": 1.454821,
     "end_time": "2020-12-04T15:14:13.126912",
     "exception": false,
     "start_time": "2020-12-04T15:14:11.672091",
=======
   "execution_count": 31,
   "metadata": {
    "execution": {
     "iopub.execute_input": "2020-12-05T14:43:42.479199Z",
     "iopub.status.busy": "2020-12-05T14:43:42.478082Z",
     "iopub.status.idle": "2020-12-05T14:43:42.494716Z",
     "shell.execute_reply": "2020-12-05T14:43:42.494118Z"
    },
    "papermill": {
     "duration": 0.220096,
     "end_time": "2020-12-05T14:43:42.494842",
     "exception": false,
     "start_time": "2020-12-05T14:43:42.274746",
>>>>>>> 64298a656ba05506c9bd61daefa94c3a53b9dae1
     "status": "completed"
    },
    "tags": []
   },
   "outputs": [
    {
     "data": {
      "text/plain": [
<<<<<<< HEAD
       "0.88163257"
      ]
     },
     "execution_count": 30,
=======
       "0.8852458"
      ]
     },
     "execution_count": 31,
>>>>>>> 64298a656ba05506c9bd61daefa94c3a53b9dae1
     "metadata": {},
     "output_type": "execute_result"
    }
   ],
   "source": [
    "binary_fbeta2 = StatefulBinaryFBeta()\n",
    "binary_fbeta2.update_state(y_test.values.reshape(-1, 1), p)\n",
    "binary_fbeta2.result().numpy() #/ y_test.shape[0]"
   ]
  },
  {
   "cell_type": "code",
<<<<<<< HEAD
   "execution_count": 31,
   "metadata": {
    "execution": {
     "iopub.execute_input": "2020-12-04T15:14:15.865534Z",
     "iopub.status.busy": "2020-12-04T15:14:15.864620Z",
     "iopub.status.idle": "2020-12-04T15:14:15.888196Z",
     "shell.execute_reply": "2020-12-04T15:14:15.887679Z"
    },
    "papermill": {
     "duration": 1.413696,
     "end_time": "2020-12-04T15:14:15.888298",
     "exception": false,
     "start_time": "2020-12-04T15:14:14.474602",
=======
   "execution_count": 32,
   "metadata": {
    "execution": {
     "iopub.execute_input": "2020-12-05T14:43:42.890797Z",
     "iopub.status.busy": "2020-12-05T14:43:42.889762Z",
     "iopub.status.idle": "2020-12-05T14:43:42.915520Z",
     "shell.execute_reply": "2020-12-05T14:43:42.916166Z"
    },
    "papermill": {
     "duration": 0.225775,
     "end_time": "2020-12-05T14:43:42.916319",
     "exception": false,
     "start_time": "2020-12-05T14:43:42.690544",
>>>>>>> 64298a656ba05506c9bd61daefa94c3a53b9dae1
     "status": "completed"
    },
    "tags": []
   },
   "outputs": [
    {
     "data": {
      "text/plain": [
<<<<<<< HEAD
       "0.8816326530612244"
      ]
     },
     "execution_count": 31,
=======
       "0.8852459016393442"
      ]
     },
     "execution_count": 32,
>>>>>>> 64298a656ba05506c9bd61daefa94c3a53b9dae1
     "metadata": {},
     "output_type": "execute_result"
    }
   ],
   "source": [
    "f1_score(y_test.values.reshape(-1, 1), q)"
   ]
  },
  {
   "cell_type": "markdown",
   "metadata": {
    "papermill": {
<<<<<<< HEAD
     "duration": 1.344825,
     "end_time": "2020-12-04T15:14:18.598355",
     "exception": false,
     "start_time": "2020-12-04T15:14:17.253530",
=======
     "duration": 0.194077,
     "end_time": "2020-12-05T14:43:43.305251",
     "exception": false,
     "start_time": "2020-12-05T14:43:43.111174",
>>>>>>> 64298a656ba05506c9bd61daefa94c3a53b9dae1
     "status": "completed"
    },
    "tags": []
   },
   "source": [
    "## Learning Curve"
   ]
  },
  {
   "cell_type": "code",
<<<<<<< HEAD
   "execution_count": 32,
   "metadata": {
    "execution": {
     "iopub.execute_input": "2020-12-04T15:14:21.606981Z",
     "iopub.status.busy": "2020-12-04T15:14:21.606247Z",
     "iopub.status.idle": "2020-12-04T15:14:21.610081Z",
     "shell.execute_reply": "2020-12-04T15:14:21.609567Z"
    },
    "papermill": {
     "duration": 1.398186,
     "end_time": "2020-12-04T15:14:21.610204",
     "exception": false,
     "start_time": "2020-12-04T15:14:20.212018",
=======
   "execution_count": 33,
   "metadata": {
    "execution": {
     "iopub.execute_input": "2020-12-05T14:43:43.851708Z",
     "iopub.status.busy": "2020-12-05T14:43:43.841588Z",
     "iopub.status.idle": "2020-12-05T14:43:43.864825Z",
     "shell.execute_reply": "2020-12-05T14:43:43.863949Z"
    },
    "papermill": {
     "duration": 0.32658,
     "end_time": "2020-12-05T14:43:43.864992",
     "exception": false,
     "start_time": "2020-12-05T14:43:43.538412",
>>>>>>> 64298a656ba05506c9bd61daefa94c3a53b9dae1
     "status": "completed"
    },
    "tags": []
   },
   "outputs": [],
   "source": [
    "plt.style.use('ggplot')\n",
    "\n",
    "def plot_history(history):\n",
    "    \n",
    "    fbeta = history.history['stateful_binary_fbeta']\n",
    "    val_fbeta = history.history['val_stateful_binary_fbeta']\n",
    "    loss = history.history['loss']\n",
    "    val_loss = history.history['val_loss']\n",
    "    epochs = range(1, len(loss) + 1)\n",
    "\n",
    "    metrics = {'loss': (loss, val_loss), 'fbeta': (fbeta, val_fbeta)}\n",
    "    \n",
    "    plt.figure(figsize=(18, 5))\n",
    "    \n",
    "    for i, metric in zip(range(1, len(metrics)+1), list(metrics.keys())):\n",
    "        plt.subplot(1, 2, i)\n",
    "        plt.plot(epochs, metrics[metric][0], 'b', label='Training ' + metric)\n",
    "        plt.plot(epochs, metrics[metric][1], 'r', label='Validation ' + metric)\n",
    "        plt.title('Training and validation ' + metric)\n",
    "        plt.legend()"
   ]
  },
  {
   "cell_type": "code",
<<<<<<< HEAD
   "execution_count": 33,
   "metadata": {
    "execution": {
     "iopub.execute_input": "2020-12-04T15:14:24.412491Z",
     "iopub.status.busy": "2020-12-04T15:14:24.411756Z",
     "iopub.status.idle": "2020-12-04T15:14:24.774037Z",
     "shell.execute_reply": "2020-12-04T15:14:24.773222Z"
    },
    "papermill": {
     "duration": 1.727655,
     "end_time": "2020-12-04T15:14:24.774144",
     "exception": false,
     "start_time": "2020-12-04T15:14:23.046489",
=======
   "execution_count": 34,
   "metadata": {
    "execution": {
     "iopub.execute_input": "2020-12-05T14:43:44.369995Z",
     "iopub.status.busy": "2020-12-05T14:43:44.368999Z",
     "iopub.status.idle": "2020-12-05T14:43:44.854655Z",
     "shell.execute_reply": "2020-12-05T14:43:44.855285Z"
    },
    "papermill": {
     "duration": 0.695791,
     "end_time": "2020-12-05T14:43:44.855478",
     "exception": false,
     "start_time": "2020-12-05T14:43:44.159687",
>>>>>>> 64298a656ba05506c9bd61daefa94c3a53b9dae1
     "status": "completed"
    },
    "tags": []
   },
   "outputs": [
    {
     "data": {
<<<<<<< HEAD
      "image/png": "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\n",
=======
      "image/png": "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\n",
>>>>>>> 64298a656ba05506c9bd61daefa94c3a53b9dae1
      "text/plain": [
       "<Figure size 1296x360 with 2 Axes>"
      ]
     },
     "metadata": {},
     "output_type": "display_data"
    }
   ],
   "source": [
    "plot_history(history)"
   ]
  },
  {
   "cell_type": "markdown",
   "metadata": {
    "papermill": {
<<<<<<< HEAD
     "duration": 1.406599,
     "end_time": "2020-12-04T15:14:27.579403",
     "exception": false,
     "start_time": "2020-12-04T15:14:26.172804",
=======
     "duration": 0.200937,
     "end_time": "2020-12-05T14:43:45.279151",
     "exception": false,
     "start_time": "2020-12-05T14:43:45.078214",
>>>>>>> 64298a656ba05506c9bd61daefa94c3a53b9dae1
     "status": "completed"
    },
    "tags": []
   },
   "source": [
    "### After much tuning, this is the best learning curve we can get. Although it is strange that validation set has better metrics than training set. It appears that it is due to the nature of our data."
   ]
  },
  {
   "cell_type": "code",
<<<<<<< HEAD
   "execution_count": 34,
   "metadata": {
    "execution": {
     "iopub.execute_input": "2020-12-04T15:14:30.330444Z",
     "iopub.status.busy": "2020-12-04T15:14:30.329312Z",
     "iopub.status.idle": "2020-12-04T15:14:30.334733Z",
     "shell.execute_reply": "2020-12-04T15:14:30.334033Z"
    },
    "papermill": {
     "duration": 1.372134,
     "end_time": "2020-12-04T15:14:30.334857",
     "exception": false,
     "start_time": "2020-12-04T15:14:28.962723",
=======
   "execution_count": 35,
   "metadata": {
    "execution": {
     "iopub.execute_input": "2020-12-05T14:43:45.682160Z",
     "iopub.status.busy": "2020-12-05T14:43:45.680827Z",
     "iopub.status.idle": "2020-12-05T14:43:45.684767Z",
     "shell.execute_reply": "2020-12-05T14:43:45.685349Z"
    },
    "papermill": {
     "duration": 0.209391,
     "end_time": "2020-12-05T14:43:45.685485",
     "exception": false,
     "start_time": "2020-12-05T14:43:45.476094",
>>>>>>> 64298a656ba05506c9bd61daefa94c3a53b9dae1
     "status": "completed"
    },
    "tags": []
   },
   "outputs": [
    {
     "data": {
      "text/plain": [
<<<<<<< HEAD
       "3"
      ]
     },
     "execution_count": 34,
=======
       "4"
      ]
     },
     "execution_count": 35,
>>>>>>> 64298a656ba05506c9bd61daefa94c3a53b9dae1
     "metadata": {},
     "output_type": "execute_result"
    }
   ],
   "source": [
    "# retrieving the best number of epochs\n",
    "best_n_epochs = int(np.array(history.history['val_stateful_binary_fbeta']).argmax() + 1)\n",
    "best_n_epochs"
   ]
  },
  {
   "cell_type": "markdown",
   "metadata": {
    "papermill": {
<<<<<<< HEAD
     "duration": 1.357258,
     "end_time": "2020-12-04T15:14:33.279281",
     "exception": false,
     "start_time": "2020-12-04T15:14:31.922023",
=======
     "duration": 0.197974,
     "end_time": "2020-12-05T14:43:46.080861",
     "exception": false,
     "start_time": "2020-12-05T14:43:45.882887",
>>>>>>> 64298a656ba05506c9bd61daefa94c3a53b9dae1
     "status": "completed"
    },
    "tags": []
   },
   "source": [
    "## Now, we will do our cross validation using the best number of  epochs. We will create a custom transformer to clip outliers and encapsulate the preprocessing steps together with our model in a scikit-learn pipeline."
   ]
  },
  {
   "cell_type": "code",
<<<<<<< HEAD
   "execution_count": 35,
   "metadata": {
    "execution": {
     "iopub.execute_input": "2020-12-04T15:14:36.354933Z",
     "iopub.status.busy": "2020-12-04T15:14:36.353073Z",
     "iopub.status.idle": "2020-12-04T15:14:36.355598Z",
     "shell.execute_reply": "2020-12-04T15:14:36.356065Z"
    },
    "papermill": {
     "duration": 1.366288,
     "end_time": "2020-12-04T15:14:36.356205",
     "exception": false,
     "start_time": "2020-12-04T15:14:34.989917",
=======
   "execution_count": 36,
   "metadata": {
    "execution": {
     "iopub.execute_input": "2020-12-05T14:43:46.488491Z",
     "iopub.status.busy": "2020-12-05T14:43:46.486308Z",
     "iopub.status.idle": "2020-12-05T14:43:46.489308Z",
     "shell.execute_reply": "2020-12-05T14:43:46.489970Z"
    },
    "papermill": {
     "duration": 0.212379,
     "end_time": "2020-12-05T14:43:46.490138",
     "exception": false,
     "start_time": "2020-12-05T14:43:46.277759",
>>>>>>> 64298a656ba05506c9bd61daefa94c3a53b9dae1
     "status": "completed"
    },
    "tags": []
   },
   "outputs": [],
   "source": [
    "class ClipOutliers(BaseEstimator, TransformerMixin):\n",
    "    def __init__(self, lower_percentile=1, upper_percentile=99):\n",
    "        self.lower_percentile = lower_percentile\n",
    "        self.upper_percentile = upper_percentile\n",
    "        \n",
    "    def fit(self, X, y=None):\n",
    "        self.a = np.percentile(X, self.lower_percentile, axis=0)\n",
    "        self.b = np.percentile(X, self.upper_percentile, axis=0)\n",
    "        \n",
    "        return self\n",
    "    \n",
    "    def transform(self, X):\n",
    "        self.Xt = np.clip(X, self.a, self.b)\n",
    "        \n",
    "        return self.Xt"
   ]
  },
  {
   "cell_type": "markdown",
   "metadata": {
    "papermill": {
<<<<<<< HEAD
     "duration": 1.340813,
     "end_time": "2020-12-04T15:14:39.062073",
     "exception": false,
     "start_time": "2020-12-04T15:14:37.721260",
=======
     "duration": 0.197487,
     "end_time": "2020-12-05T14:43:46.887329",
     "exception": false,
     "start_time": "2020-12-05T14:43:46.689842",
>>>>>>> 64298a656ba05506c9bd61daefa94c3a53b9dae1
     "status": "completed"
    },
    "tags": []
   },
   "source": [
    "### Fraud sensitive model"
   ]
  },
  {
   "cell_type": "code",
<<<<<<< HEAD
   "execution_count": 36,
   "metadata": {
    "execution": {
     "iopub.execute_input": "2020-12-04T15:14:41.881404Z",
     "iopub.status.busy": "2020-12-04T15:14:41.880495Z",
     "iopub.status.idle": "2020-12-04T15:17:15.818367Z",
     "shell.execute_reply": "2020-12-04T15:17:15.819077Z"
    },
    "papermill": {
     "duration": 155.42281,
     "end_time": "2020-12-04T15:17:15.819313",
     "exception": false,
     "start_time": "2020-12-04T15:14:40.396503",
=======
   "execution_count": 37,
   "metadata": {
    "execution": {
     "iopub.execute_input": "2020-12-05T14:43:47.295742Z",
     "iopub.status.busy": "2020-12-05T14:43:47.294223Z",
     "iopub.status.idle": "2020-12-05T14:44:19.820263Z",
     "shell.execute_reply": "2020-12-05T14:44:19.821122Z"
    },
    "papermill": {
     "duration": 32.734366,
     "end_time": "2020-12-05T14:44:19.821322",
     "exception": false,
     "start_time": "2020-12-05T14:43:47.086956",
>>>>>>> 64298a656ba05506c9bd61daefa94c3a53b9dae1
     "status": "completed"
    },
    "tags": []
   },
   "outputs": [
    {
     "name": "stderr",
     "output_type": "stream",
     "text": [
      "[Parallel(n_jobs=1)]: Using backend SequentialBackend with 1 concurrent workers.\n",
<<<<<<< HEAD
      "[Parallel(n_jobs=1)]: Done   4 out of   4 | elapsed:  2.5min finished\n"
=======
      "[Parallel(n_jobs=1)]: Done   4 out of   4 | elapsed:   32.3s finished\n"
>>>>>>> 64298a656ba05506c9bd61daefa94c3a53b9dae1
     ]
    }
   ],
   "source": [
    "fraud_sensitive_model = KerasClassifier(build_fn=build_model)\n",
    "fraud_sensitive_scaler = StandardScaler()\n",
    "fraud_sensitive_clipper = ClipOutliers()\n",
    "\n",
    "fraud_sensitive_pipe = Pipeline([('scaler', fraud_sensitive_scaler), \\\n",
    "                                 ('clipper', fraud_sensitive_clipper), ('model', fraud_sensitive_model)])\n",
    "\n",
    "fraud_sensitive_scores = cross_validate(fraud_sensitive_pipe, np.array(X), y, verbose=1, \\\n",
    "                         scoring=['f1', 'average_precision'], cv=cv, return_estimator=True, \\\n",
    "                         error_score='raise', fit_params={'model__epochs': int(best_n_epochs), \\\n",
<<<<<<< HEAD
    "                         'model__batch_size': 32, 'model__verbose': 0})"
=======
    "                         'model__batch_size': 512, 'model__verbose': 0})"
>>>>>>> 64298a656ba05506c9bd61daefa94c3a53b9dae1
   ]
  },
  {
   "cell_type": "markdown",
   "metadata": {
    "papermill": {
<<<<<<< HEAD
     "duration": 1.384956,
     "end_time": "2020-12-04T15:17:18.663208",
     "exception": false,
     "start_time": "2020-12-04T15:17:17.278252",
=======
     "duration": 0.198306,
     "end_time": "2020-12-05T14:44:20.228950",
     "exception": false,
     "start_time": "2020-12-05T14:44:20.030644",
>>>>>>> 64298a656ba05506c9bd61daefa94c3a53b9dae1
     "status": "completed"
    },
    "tags": []
   },
   "source": [
    "### Note: we used cross_validate because it can take more than one scoring metrics and it can also return the fitting model for each fold."
   ]
  },
  {
   "cell_type": "code",
<<<<<<< HEAD
   "execution_count": 37,
   "metadata": {
    "execution": {
     "iopub.execute_input": "2020-12-04T15:17:21.388888Z",
     "iopub.status.busy": "2020-12-04T15:17:21.387621Z",
     "iopub.status.idle": "2020-12-04T15:17:27.156229Z",
     "shell.execute_reply": "2020-12-04T15:17:27.157363Z"
    },
    "papermill": {
     "duration": 7.149531,
     "end_time": "2020-12-04T15:17:27.157540",
     "exception": false,
     "start_time": "2020-12-04T15:17:20.008009",
=======
   "execution_count": 38,
   "metadata": {
    "execution": {
     "iopub.execute_input": "2020-12-05T14:44:20.633320Z",
     "iopub.status.busy": "2020-12-05T14:44:20.631922Z",
     "iopub.status.idle": "2020-12-05T14:44:27.554454Z",
     "shell.execute_reply": "2020-12-05T14:44:27.555305Z"
    },
    "papermill": {
     "duration": 7.126704,
     "end_time": "2020-12-05T14:44:27.555559",
     "exception": false,
     "start_time": "2020-12-05T14:44:20.428855",
>>>>>>> 64298a656ba05506c9bd61daefa94c3a53b9dae1
     "status": "completed"
    },
    "tags": []
   },
   "outputs": [
    {
     "data": {
      "text/html": [
       "<div>\n",
       "<style scoped>\n",
       "    .dataframe tbody tr th:only-of-type {\n",
       "        vertical-align: middle;\n",
       "    }\n",
       "\n",
       "    .dataframe tbody tr th {\n",
       "        vertical-align: top;\n",
       "    }\n",
       "\n",
       "    .dataframe thead th {\n",
       "        text-align: right;\n",
       "    }\n",
       "</style>\n",
       "<table border=\"1\" class=\"dataframe\">\n",
       "  <thead>\n",
       "    <tr style=\"text-align: right;\">\n",
       "      <th></th>\n",
       "      <th>f1_score</th>\n",
       "      <th>auc_pr</th>\n",
       "      <th>cost_savings</th>\n",
       "    </tr>\n",
       "  </thead>\n",
       "  <tbody>\n",
       "    <tr>\n",
       "      <th>split_1</th>\n",
<<<<<<< HEAD
       "      <td>0.786325</td>\n",
       "      <td>0.768395</td>\n",
       "      <td>0.650688</td>\n",
       "    </tr>\n",
       "    <tr>\n",
       "      <th>split_2</th>\n",
       "      <td>0.838174</td>\n",
       "      <td>0.830445</td>\n",
       "      <td>0.758265</td>\n",
       "    </tr>\n",
       "    <tr>\n",
       "      <th>split_3</th>\n",
       "      <td>0.824561</td>\n",
       "      <td>0.837981</td>\n",
       "      <td>0.780184</td>\n",
       "    </tr>\n",
       "    <tr>\n",
       "      <th>split_4</th>\n",
       "      <td>0.828452</td>\n",
       "      <td>0.795502</td>\n",
       "      <td>0.736039</td>\n",
=======
       "      <td>0.791667</td>\n",
       "      <td>0.770626</td>\n",
       "      <td>0.725500</td>\n",
       "    </tr>\n",
       "    <tr>\n",
       "      <th>split_2</th>\n",
       "      <td>0.845188</td>\n",
       "      <td>0.851539</td>\n",
       "      <td>0.758706</td>\n",
       "    </tr>\n",
       "    <tr>\n",
       "      <th>split_3</th>\n",
       "      <td>0.836207</td>\n",
       "      <td>0.850878</td>\n",
       "      <td>0.794888</td>\n",
       "    </tr>\n",
       "    <tr>\n",
       "      <th>split_4</th>\n",
       "      <td>0.817021</td>\n",
       "      <td>0.804436</td>\n",
       "      <td>0.719705</td>\n",
>>>>>>> 64298a656ba05506c9bd61daefa94c3a53b9dae1
       "    </tr>\n",
       "  </tbody>\n",
       "</table>\n",
       "</div>"
      ],
      "text/plain": [
       "         f1_score    auc_pr  cost_savings\n",
<<<<<<< HEAD
       "split_1  0.786325  0.768395      0.650688\n",
       "split_2  0.838174  0.830445      0.758265\n",
       "split_3  0.824561  0.837981      0.780184\n",
       "split_4  0.828452  0.795502      0.736039"
      ]
     },
     "execution_count": 37,
=======
       "split_1  0.791667  0.770626      0.725500\n",
       "split_2  0.845188  0.851539      0.758706\n",
       "split_3  0.836207  0.850878      0.794888\n",
       "split_4  0.817021  0.804436      0.719705"
      ]
     },
     "execution_count": 38,
>>>>>>> 64298a656ba05506c9bd61daefa94c3a53b9dae1
     "metadata": {},
     "output_type": "execute_result"
    }
   ],
   "source": [
    "fraud_sensitive_results = get_metric_scores(fraud_sensitive_scores, np.array(X))\n",
    "fraud_sensitive_results"
   ]
  },
  {
   "cell_type": "code",
<<<<<<< HEAD
   "execution_count": 38,
   "metadata": {
    "execution": {
     "iopub.execute_input": "2020-12-04T15:17:30.008524Z",
     "iopub.status.busy": "2020-12-04T15:17:30.007825Z",
     "iopub.status.idle": "2020-12-04T15:17:30.013062Z",
     "shell.execute_reply": "2020-12-04T15:17:30.013530Z"
    },
    "papermill": {
     "duration": 1.406267,
     "end_time": "2020-12-04T15:17:30.013662",
     "exception": false,
     "start_time": "2020-12-04T15:17:28.607395",
=======
   "execution_count": 39,
   "metadata": {
    "execution": {
     "iopub.execute_input": "2020-12-05T14:44:28.151479Z",
     "iopub.status.busy": "2020-12-05T14:44:28.150595Z",
     "iopub.status.idle": "2020-12-05T14:44:28.158059Z",
     "shell.execute_reply": "2020-12-05T14:44:28.158780Z"
    },
    "papermill": {
     "duration": 0.302309,
     "end_time": "2020-12-05T14:44:28.158995",
     "exception": false,
     "start_time": "2020-12-05T14:44:27.856686",
>>>>>>> 64298a656ba05506c9bd61daefa94c3a53b9dae1
     "status": "completed"
    },
    "tags": []
   },
   "outputs": [
    {
     "data": {
      "text/plain": [
<<<<<<< HEAD
       "f1_score        0.819378\n",
       "auc_pr          0.808080\n",
       "cost_savings    0.731294\n",
       "dtype: float64"
      ]
     },
     "execution_count": 38,
=======
       "f1_score        0.822521\n",
       "auc_pr          0.819370\n",
       "cost_savings    0.749700\n",
       "dtype: float64"
      ]
     },
     "execution_count": 39,
>>>>>>> 64298a656ba05506c9bd61daefa94c3a53b9dae1
     "metadata": {},
     "output_type": "execute_result"
    }
   ],
   "source": [
    "fraud_sensitive_results.mean()"
   ]
  },
  {
   "cell_type": "code",
   "execution_count": null,
   "metadata": {
    "papermill": {
<<<<<<< HEAD
     "duration": 1.41686,
     "end_time": "2020-12-04T15:17:32.807827",
     "exception": false,
     "start_time": "2020-12-04T15:17:31.390967",
=======
     "duration": 0.196816,
     "end_time": "2020-12-05T14:44:28.576363",
     "exception": false,
     "start_time": "2020-12-05T14:44:28.379547",
>>>>>>> 64298a656ba05506c9bd61daefa94c3a53b9dae1
     "status": "completed"
    },
    "tags": []
   },
   "outputs": [],
   "source": []
  },
  {
   "cell_type": "markdown",
   "metadata": {
    "papermill": {
<<<<<<< HEAD
     "duration": 1.389911,
     "end_time": "2020-12-04T15:17:35.557703",
     "exception": false,
     "start_time": "2020-12-04T15:17:34.167792",
=======
     "duration": 0.20146,
     "end_time": "2020-12-05T14:44:28.975664",
     "exception": false,
     "start_time": "2020-12-05T14:44:28.774204",
>>>>>>> 64298a656ba05506c9bd61daefa94c3a53b9dae1
     "status": "completed"
    },
    "tags": []
   },
   "source": [
    "## Cost sensitive model"
   ]
  },
  {
   "cell_type": "markdown",
   "metadata": {
    "papermill": {
<<<<<<< HEAD
     "duration": 1.598531,
     "end_time": "2020-12-04T15:17:38.519545",
     "exception": false,
     "start_time": "2020-12-04T15:17:36.921014",
=======
     "duration": 0.195306,
     "end_time": "2020-12-05T14:44:29.373768",
     "exception": false,
     "start_time": "2020-12-05T14:44:29.178462",
>>>>>>> 64298a656ba05506c9bd61daefa94c3a53b9dae1
     "status": "completed"
    },
    "tags": []
   },
   "source": [
    "### We will now look for the best epoch that best minimize the loss function (cost sensitive binary cross-entropy loss)"
   ]
  },
  {
   "cell_type": "code",
<<<<<<< HEAD
   "execution_count": 39,
   "metadata": {
    "execution": {
     "iopub.execute_input": "2020-12-04T15:17:41.311254Z",
     "iopub.status.busy": "2020-12-04T15:17:41.309451Z",
     "iopub.status.idle": "2020-12-04T15:17:41.311887Z",
     "shell.execute_reply": "2020-12-04T15:17:41.312410Z"
    },
    "papermill": {
     "duration": 1.424598,
     "end_time": "2020-12-04T15:17:41.312561",
     "exception": false,
     "start_time": "2020-12-04T15:17:39.887963",
=======
   "execution_count": 40,
   "metadata": {
    "execution": {
     "iopub.execute_input": "2020-12-05T14:44:29.779355Z",
     "iopub.status.busy": "2020-12-05T14:44:29.777924Z",
     "iopub.status.idle": "2020-12-05T14:44:29.780100Z",
     "shell.execute_reply": "2020-12-05T14:44:29.780667Z"
    },
    "papermill": {
     "duration": 0.208272,
     "end_time": "2020-12-05T14:44:29.780804",
     "exception": false,
     "start_time": "2020-12-05T14:44:29.572532",
>>>>>>> 64298a656ba05506c9bd61daefa94c3a53b9dae1
     "status": "completed"
    },
    "tags": []
   },
   "outputs": [],
   "source": [
    "stopper2 = EarlyStopping(monitor='val_loss', patience=10, mode='min', restore_best_weights=True)"
   ]
  },
  {
   "cell_type": "code",
<<<<<<< HEAD
   "execution_count": 40,
   "metadata": {
    "execution": {
     "iopub.execute_input": "2020-12-04T15:17:44.144364Z",
     "iopub.status.busy": "2020-12-04T15:17:44.143678Z",
     "iopub.status.idle": "2020-12-04T15:23:47.862005Z",
     "shell.execute_reply": "2020-12-04T15:23:47.862608Z"
    },
    "papermill": {
     "duration": 365.15234,
     "end_time": "2020-12-04T15:23:47.862750",
     "exception": false,
     "start_time": "2020-12-04T15:17:42.710410",
=======
   "execution_count": 41,
   "metadata": {
    "execution": {
     "iopub.execute_input": "2020-12-05T14:44:30.191993Z",
     "iopub.status.busy": "2020-12-05T14:44:30.190619Z",
     "iopub.status.idle": "2020-12-05T14:51:30.519200Z",
     "shell.execute_reply": "2020-12-05T14:51:30.518642Z"
    },
    "papermill": {
     "duration": 420.53806,
     "end_time": "2020-12-05T14:51:30.519350",
     "exception": false,
     "start_time": "2020-12-05T14:44:29.981290",
>>>>>>> 64298a656ba05506c9bd61daefa94c3a53b9dae1
     "status": "completed"
    },
    "tags": []
   },
   "outputs": [
    {
     "name": "stdout",
     "output_type": "stream",
     "text": [
      "Epoch 1/30\n",
<<<<<<< HEAD
      "6676/6676 [==============================] - 21s 3ms/step - loss: 0.5128 - stateful_binary_fbeta: 0.5848 - val_loss: 0.0090 - val_stateful_binary_fbeta: 0.7340\n",
      "Epoch 2/30\n",
      "6676/6676 [==============================] - 19s 3ms/step - loss: 0.1987 - stateful_binary_fbeta: 0.4417 - val_loss: 0.0189 - val_stateful_binary_fbeta: 0.4583\n",
      "Epoch 3/30\n",
      "6676/6676 [==============================] - 20s 3ms/step - loss: 0.1686 - stateful_binary_fbeta: 0.4148 - val_loss: 0.0144 - val_stateful_binary_fbeta: 0.6006\n",
      "Epoch 4/30\n",
      "6676/6676 [==============================] - 20s 3ms/step - loss: 0.1949 - stateful_binary_fbeta: 0.4299 - val_loss: 0.0102 - val_stateful_binary_fbeta: 0.6903\n",
      "Epoch 5/30\n",
      "6676/6676 [==============================] - 18s 3ms/step - loss: 0.1756 - stateful_binary_fbeta: 0.4294 - val_loss: 0.0098 - val_stateful_binary_fbeta: 0.7248\n",
      "Epoch 6/30\n",
      "6676/6676 [==============================] - 21s 3ms/step - loss: 0.1434 - stateful_binary_fbeta: 0.4656 - val_loss: 0.0118 - val_stateful_binary_fbeta: 0.5692\n",
      "Epoch 7/30\n",
      "6676/6676 [==============================] - 19s 3ms/step - loss: 0.1492 - stateful_binary_fbeta: 0.4003 - val_loss: 0.0049 - val_stateful_binary_fbeta: 0.8203\n",
      "Epoch 8/30\n",
      "6676/6676 [==============================] - 20s 3ms/step - loss: 0.1140 - stateful_binary_fbeta: 0.4650 - val_loss: 0.0071 - val_stateful_binary_fbeta: 0.6890\n",
      "Epoch 9/30\n",
      "6676/6676 [==============================] - 19s 3ms/step - loss: 0.1137 - stateful_binary_fbeta: 0.4375 - val_loss: 0.0084 - val_stateful_binary_fbeta: 0.6303\n",
      "Epoch 10/30\n",
      "6676/6676 [==============================] - 20s 3ms/step - loss: 0.1320 - stateful_binary_fbeta: 0.4265 - val_loss: 0.0069 - val_stateful_binary_fbeta: 0.7397\n",
      "Epoch 11/30\n",
      "6676/6676 [==============================] - 19s 3ms/step - loss: 0.1187 - stateful_binary_fbeta: 0.4137 - val_loss: 0.0071 - val_stateful_binary_fbeta: 0.7248\n",
      "Epoch 12/30\n",
      "6676/6676 [==============================] - 21s 3ms/step - loss: 0.1099 - stateful_binary_fbeta: 0.4634 - val_loss: 0.0069 - val_stateful_binary_fbeta: 0.7219\n",
      "Epoch 13/30\n",
      "6676/6676 [==============================] - 20s 3ms/step - loss: 0.1173 - stateful_binary_fbeta: 0.4285 - val_loss: 0.0081 - val_stateful_binary_fbeta: 0.6646\n",
      "Epoch 14/30\n",
      "6676/6676 [==============================] - 18s 3ms/step - loss: 0.1258 - stateful_binary_fbeta: 0.4627 - val_loss: 0.0111 - val_stateful_binary_fbeta: 0.5612\n",
      "Epoch 15/30\n",
      "6676/6676 [==============================] - 22s 3ms/step - loss: 0.1239 - stateful_binary_fbeta: 0.4019 - val_loss: 0.0144 - val_stateful_binary_fbeta: 0.4545\n",
      "Epoch 16/30\n",
      "6676/6676 [==============================] - 20s 3ms/step - loss: 0.0933 - stateful_binary_fbeta: 0.4066 - val_loss: 0.0079 - val_stateful_binary_fbeta: 0.6812\n",
      "Epoch 17/30\n",
      "6676/6676 [==============================] - 23s 3ms/step - loss: 0.1110 - stateful_binary_fbeta: 0.4520 - val_loss: 0.0073 - val_stateful_binary_fbeta: 0.7152\n"
=======
      "6676/6676 [==============================] - 23s 3ms/step - loss: 0.5467 - stateful_binary_fbeta: 0.6098 - val_loss: 0.0076 - val_stateful_binary_fbeta: 0.8372\n",
      "Epoch 2/30\n",
      "6676/6676 [==============================] - 23s 3ms/step - loss: 0.2282 - stateful_binary_fbeta: 0.5088 - val_loss: 0.0181 - val_stateful_binary_fbeta: 0.4857\n",
      "Epoch 3/30\n",
      "6676/6676 [==============================] - 22s 3ms/step - loss: 0.1658 - stateful_binary_fbeta: 0.4482 - val_loss: 0.0123 - val_stateful_binary_fbeta: 0.6606\n",
      "Epoch 4/30\n",
      "6676/6676 [==============================] - 23s 3ms/step - loss: 0.2037 - stateful_binary_fbeta: 0.4288 - val_loss: 0.0089 - val_stateful_binary_fbeta: 0.7039\n",
      "Epoch 5/30\n",
      "6676/6676 [==============================] - 22s 3ms/step - loss: 0.1626 - stateful_binary_fbeta: 0.4110 - val_loss: 0.0091 - val_stateful_binary_fbeta: 0.7200\n",
      "Epoch 6/30\n",
      "6676/6676 [==============================] - 23s 4ms/step - loss: 0.1353 - stateful_binary_fbeta: 0.4590 - val_loss: 0.0107 - val_stateful_binary_fbeta: 0.6412\n",
      "Epoch 7/30\n",
      "6676/6676 [==============================] - 22s 3ms/step - loss: 0.1421 - stateful_binary_fbeta: 0.3905 - val_loss: 0.0049 - val_stateful_binary_fbeta: 0.8504\n",
      "Epoch 8/30\n",
      "6676/6676 [==============================] - 22s 3ms/step - loss: 0.1188 - stateful_binary_fbeta: 0.4388 - val_loss: 0.0064 - val_stateful_binary_fbeta: 0.7643\n",
      "Epoch 9/30\n",
      "6676/6676 [==============================] - 25s 4ms/step - loss: 0.1069 - stateful_binary_fbeta: 0.4251 - val_loss: 0.0088 - val_stateful_binary_fbeta: 0.6102\n",
      "Epoch 10/30\n",
      "6676/6676 [==============================] - 22s 3ms/step - loss: 0.1317 - stateful_binary_fbeta: 0.4502 - val_loss: 0.0059 - val_stateful_binary_fbeta: 0.7698\n",
      "Epoch 11/30\n",
      "6676/6676 [==============================] - 23s 3ms/step - loss: 0.0834 - stateful_binary_fbeta: 0.4574 - val_loss: 0.0064 - val_stateful_binary_fbeta: 0.7855\n",
      "Epoch 12/30\n",
      "6676/6676 [==============================] - 25s 4ms/step - loss: 0.1091 - stateful_binary_fbeta: 0.4822 - val_loss: 0.0061 - val_stateful_binary_fbeta: 0.7285\n",
      "Epoch 13/30\n",
      "6676/6676 [==============================] - 22s 3ms/step - loss: 0.0957 - stateful_binary_fbeta: 0.4663 - val_loss: 0.0068 - val_stateful_binary_fbeta: 0.7365\n",
      "Epoch 14/30\n",
      "6676/6676 [==============================] - 25s 4ms/step - loss: 0.1179 - stateful_binary_fbeta: 0.4839 - val_loss: 0.0078 - val_stateful_binary_fbeta: 0.6708\n",
      "Epoch 15/30\n",
      "6676/6676 [==============================] - 23s 3ms/step - loss: 0.1168 - stateful_binary_fbeta: 0.4234 - val_loss: 0.0109 - val_stateful_binary_fbeta: 0.5387\n",
      "Epoch 16/30\n",
      "6676/6676 [==============================] - 22s 3ms/step - loss: 0.0869 - stateful_binary_fbeta: 0.4648 - val_loss: 0.0060 - val_stateful_binary_fbeta: 0.7649\n",
      "Epoch 17/30\n",
      "6676/6676 [==============================] - 25s 4ms/step - loss: 0.0912 - stateful_binary_fbeta: 0.4905 - val_loss: 0.0064 - val_stateful_binary_fbeta: 0.7456\n"
>>>>>>> 64298a656ba05506c9bd61daefa94c3a53b9dae1
     ]
    }
   ],
   "source": [
    "model2 = build_model()\n",
    "history2 = model2.fit(X_train, y_train, epochs=30, batch_size=32, callbacks=[stopper2], \\\n",
    "                validation_data=(X_test, y_test), sample_weight=train_sample_weights, verbose=1)"
   ]
  },
  {
   "cell_type": "code",
<<<<<<< HEAD
   "execution_count": 41,
   "metadata": {
    "execution": {
     "iopub.execute_input": "2020-12-04T15:23:55.044591Z",
     "iopub.status.busy": "2020-12-04T15:23:55.043850Z",
     "iopub.status.idle": "2020-12-04T15:23:55.049511Z",
     "shell.execute_reply": "2020-12-04T15:23:55.048991Z"
    },
    "papermill": {
     "duration": 3.840814,
     "end_time": "2020-12-04T15:23:55.049612",
     "exception": false,
     "start_time": "2020-12-04T15:23:51.208798",
=======
   "execution_count": 42,
   "metadata": {
    "execution": {
     "iopub.execute_input": "2020-12-05T14:51:35.983500Z",
     "iopub.status.busy": "2020-12-05T14:51:35.982385Z",
     "iopub.status.idle": "2020-12-05T14:51:35.987469Z",
     "shell.execute_reply": "2020-12-05T14:51:35.987988Z"
    },
    "papermill": {
     "duration": 2.710858,
     "end_time": "2020-12-05T14:51:35.988133",
     "exception": false,
     "start_time": "2020-12-05T14:51:33.277275",
>>>>>>> 64298a656ba05506c9bd61daefa94c3a53b9dae1
     "status": "completed"
    },
    "tags": []
   },
   "outputs": [
    {
     "data": {
      "text/plain": [
       "7"
      ]
     },
<<<<<<< HEAD
     "execution_count": 41,
=======
     "execution_count": 42,
>>>>>>> 64298a656ba05506c9bd61daefa94c3a53b9dae1
     "metadata": {},
     "output_type": "execute_result"
    }
   ],
   "source": [
    "# retrieving the best number of epochs\n",
    "best_n_epochs2 = int(np.array(history2.history['val_loss']).argmin() + 1)\n",
    "best_n_epochs2"
   ]
  },
  {
   "cell_type": "markdown",
   "metadata": {
    "papermill": {
<<<<<<< HEAD
     "duration": 3.629786,
     "end_time": "2020-12-04T15:24:02.059454",
     "exception": false,
     "start_time": "2020-12-04T15:23:58.429668",
=======
     "duration": 2.749697,
     "end_time": "2020-12-05T14:51:41.792325",
     "exception": false,
     "start_time": "2020-12-05T14:51:39.042628",
>>>>>>> 64298a656ba05506c9bd61daefa94c3a53b9dae1
     "status": "completed"
    },
    "tags": []
   },
   "source": [
    "## Now, we will do our cross validation using the best number of  epochs."
   ]
  },
  {
   "cell_type": "code",
<<<<<<< HEAD
   "execution_count": 42,
   "metadata": {
    "execution": {
     "iopub.execute_input": "2020-12-04T15:24:10.331843Z",
     "iopub.status.busy": "2020-12-04T15:24:10.330941Z",
     "iopub.status.idle": "2020-12-04T15:31:34.029466Z",
     "shell.execute_reply": "2020-12-04T15:31:34.030210Z"
    },
    "papermill": {
     "duration": 447.828379,
     "end_time": "2020-12-04T15:31:34.030388",
     "exception": false,
     "start_time": "2020-12-04T15:24:06.202009",
=======
   "execution_count": 43,
   "metadata": {
    "execution": {
     "iopub.execute_input": "2020-12-05T14:51:47.197750Z",
     "iopub.status.busy": "2020-12-05T14:51:47.196254Z",
     "iopub.status.idle": "2020-12-05T15:00:20.723285Z",
     "shell.execute_reply": "2020-12-05T15:00:20.724156Z"
    },
    "papermill": {
     "duration": 516.235102,
     "end_time": "2020-12-05T15:00:20.724389",
     "exception": false,
     "start_time": "2020-12-05T14:51:44.489287",
>>>>>>> 64298a656ba05506c9bd61daefa94c3a53b9dae1
     "status": "completed"
    },
    "tags": []
   },
   "outputs": [
    {
     "name": "stderr",
     "output_type": "stream",
     "text": [
      "[Parallel(n_jobs=1)]: Using backend SequentialBackend with 1 concurrent workers.\n",
<<<<<<< HEAD
      "[Parallel(n_jobs=1)]: Done   4 out of   4 | elapsed:  7.3min finished\n"
=======
      "[Parallel(n_jobs=1)]: Done   4 out of   4 | elapsed:  8.5min finished\n"
>>>>>>> 64298a656ba05506c9bd61daefa94c3a53b9dae1
     ]
    }
   ],
   "source": [
    "cost_sensitive_model = KerasClassifier(build_fn=build_model)\n",
    "cost_sensitive_scaler = StandardScaler()\n",
    "cost_sensitive_clipper = ClipOutliers()\n",
    "\n",
    "cost_sensitive_pipe = Pipeline([('scaler', cost_sensitive_scaler), \\\n",
    "                                 ('clipper', cost_sensitive_clipper), ('model', cost_sensitive_model)])\n",
    "\n",
    "cost_sensitive_scores = cross_validate(cost_sensitive_pipe, np.array(X), y, verbose=1, \\\n",
    "                         scoring=['f1', 'average_precision'], cv=cv, return_estimator=True, \\\n",
    "                         error_score='raise', fit_params={'model__epochs': best_n_epochs2, \\\n",
    "                         'model__batch_size': 32, 'model__verbose': 0, \\\n",
    "                         'model__sample_weight': sample_weights})"
   ]
  },
  {
   "cell_type": "code",
<<<<<<< HEAD
   "execution_count": 43,
   "metadata": {
    "execution": {
     "iopub.execute_input": "2020-12-04T15:31:40.835748Z",
     "iopub.status.busy": "2020-12-04T15:31:40.834397Z",
     "iopub.status.idle": "2020-12-04T15:31:46.372901Z",
     "shell.execute_reply": "2020-12-04T15:31:46.371961Z"
    },
    "papermill": {
     "duration": 8.7567,
     "end_time": "2020-12-04T15:31:46.373014",
     "exception": false,
     "start_time": "2020-12-04T15:31:37.616314",
=======
   "execution_count": 44,
   "metadata": {
    "execution": {
     "iopub.execute_input": "2020-12-05T15:00:27.165514Z",
     "iopub.status.busy": "2020-12-05T15:00:27.164038Z",
     "iopub.status.idle": "2020-12-05T15:00:33.101150Z",
     "shell.execute_reply": "2020-12-05T15:00:33.100574Z"
    },
    "papermill": {
     "duration": 9.539557,
     "end_time": "2020-12-05T15:00:33.101268",
     "exception": false,
     "start_time": "2020-12-05T15:00:23.561711",
>>>>>>> 64298a656ba05506c9bd61daefa94c3a53b9dae1
     "status": "completed"
    },
    "tags": []
   },
   "outputs": [
    {
     "data": {
      "text/html": [
       "<div>\n",
       "<style scoped>\n",
       "    .dataframe tbody tr th:only-of-type {\n",
       "        vertical-align: middle;\n",
       "    }\n",
       "\n",
       "    .dataframe tbody tr th {\n",
       "        vertical-align: top;\n",
       "    }\n",
       "\n",
       "    .dataframe thead th {\n",
       "        text-align: right;\n",
       "    }\n",
       "</style>\n",
       "<table border=\"1\" class=\"dataframe\">\n",
       "  <thead>\n",
       "    <tr style=\"text-align: right;\">\n",
       "      <th></th>\n",
       "      <th>f1_score</th>\n",
       "      <th>auc_pr</th>\n",
       "      <th>cost_savings</th>\n",
       "    </tr>\n",
       "  </thead>\n",
       "  <tbody>\n",
       "    <tr>\n",
       "      <th>split_1</th>\n",
<<<<<<< HEAD
       "      <td>0.551136</td>\n",
       "      <td>0.658969</td>\n",
       "      <td>0.750419</td>\n",
       "    </tr>\n",
       "    <tr>\n",
       "      <th>split_2</th>\n",
       "      <td>0.510949</td>\n",
       "      <td>0.777031</td>\n",
       "      <td>0.883155</td>\n",
       "    </tr>\n",
       "    <tr>\n",
       "      <th>split_3</th>\n",
       "      <td>0.647436</td>\n",
       "      <td>0.794043</td>\n",
       "      <td>0.854085</td>\n",
       "    </tr>\n",
       "    <tr>\n",
       "      <th>split_4</th>\n",
       "      <td>0.640523</td>\n",
       "      <td>0.706330</td>\n",
       "      <td>0.724373</td>\n",
=======
       "      <td>0.501292</td>\n",
       "      <td>0.671125</td>\n",
       "      <td>0.745981</td>\n",
       "    </tr>\n",
       "    <tr>\n",
       "      <th>split_2</th>\n",
       "      <td>0.640000</td>\n",
       "      <td>0.746174</td>\n",
       "      <td>0.859478</td>\n",
       "    </tr>\n",
       "    <tr>\n",
       "      <th>split_3</th>\n",
       "      <td>0.510101</td>\n",
       "      <td>0.757450</td>\n",
       "      <td>0.833368</td>\n",
       "    </tr>\n",
       "    <tr>\n",
       "      <th>split_4</th>\n",
       "      <td>0.592145</td>\n",
       "      <td>0.675804</td>\n",
       "      <td>0.720109</td>\n",
>>>>>>> 64298a656ba05506c9bd61daefa94c3a53b9dae1
       "    </tr>\n",
       "  </tbody>\n",
       "</table>\n",
       "</div>"
      ],
      "text/plain": [
       "         f1_score    auc_pr  cost_savings\n",
<<<<<<< HEAD
       "split_1  0.551136  0.658969      0.750419\n",
       "split_2  0.510949  0.777031      0.883155\n",
       "split_3  0.647436  0.794043      0.854085\n",
       "split_4  0.640523  0.706330      0.724373"
      ]
     },
     "execution_count": 43,
=======
       "split_1  0.501292  0.671125      0.745981\n",
       "split_2  0.640000  0.746174      0.859478\n",
       "split_3  0.510101  0.757450      0.833368\n",
       "split_4  0.592145  0.675804      0.720109"
      ]
     },
     "execution_count": 44,
>>>>>>> 64298a656ba05506c9bd61daefa94c3a53b9dae1
     "metadata": {},
     "output_type": "execute_result"
    }
   ],
   "source": [
    "cost_sensitive_results = get_metric_scores(cost_sensitive_scores, np.array(X))\n",
    "cost_sensitive_results"
   ]
  },
  {
   "cell_type": "code",
<<<<<<< HEAD
   "execution_count": 44,
   "metadata": {
    "execution": {
     "iopub.execute_input": "2020-12-04T15:31:52.786090Z",
     "iopub.status.busy": "2020-12-04T15:31:52.785088Z",
     "iopub.status.idle": "2020-12-04T15:31:52.790225Z",
     "shell.execute_reply": "2020-12-04T15:31:52.789704Z"
    },
    "papermill": {
     "duration": 3.234772,
     "end_time": "2020-12-04T15:31:52.790324",
     "exception": false,
     "start_time": "2020-12-04T15:31:49.555552",
=======
   "execution_count": 45,
   "metadata": {
    "execution": {
     "iopub.execute_input": "2020-12-05T15:00:38.791723Z",
     "iopub.status.busy": "2020-12-05T15:00:38.790511Z",
     "iopub.status.idle": "2020-12-05T15:00:38.796499Z",
     "shell.execute_reply": "2020-12-05T15:00:38.795559Z"
    },
    "papermill": {
     "duration": 2.793939,
     "end_time": "2020-12-05T15:00:38.796703",
     "exception": false,
     "start_time": "2020-12-05T15:00:36.002764",
>>>>>>> 64298a656ba05506c9bd61daefa94c3a53b9dae1
     "status": "completed"
    },
    "tags": []
   },
   "outputs": [
    {
     "data": {
      "text/plain": [
<<<<<<< HEAD
       "f1_score        0.587511\n",
       "auc_pr          0.734093\n",
       "cost_savings    0.803008\n",
       "dtype: float64"
      ]
     },
     "execution_count": 44,
=======
       "f1_score        0.560885\n",
       "auc_pr          0.712638\n",
       "cost_savings    0.789734\n",
       "dtype: float64"
      ]
     },
     "execution_count": 45,
>>>>>>> 64298a656ba05506c9bd61daefa94c3a53b9dae1
     "metadata": {},
     "output_type": "execute_result"
    }
   ],
   "source": [
    "cost_sensitive_results.mean()"
   ]
  },
  {
   "cell_type": "markdown",
   "metadata": {
    "papermill": {
<<<<<<< HEAD
     "duration": 3.169607,
     "end_time": "2020-12-04T15:31:59.366389",
     "exception": false,
     "start_time": "2020-12-04T15:31:56.196782",
=======
     "duration": 2.681763,
     "end_time": "2020-12-05T15:00:44.155900",
     "exception": false,
     "start_time": "2020-12-05T15:00:41.474137",
>>>>>>> 64298a656ba05506c9bd61daefa94c3a53b9dae1
     "status": "completed"
    },
    "tags": []
   },
   "source": [
    "## Bayes Mininmum Risk (BMR)"
   ]
  },
  {
   "cell_type": "markdown",
   "metadata": {
    "papermill": {
<<<<<<< HEAD
     "duration": 3.390409,
     "end_time": "2020-12-04T15:32:06.138122",
     "exception": false,
     "start_time": "2020-12-04T15:32:02.747713",
=======
     "duration": 2.768676,
     "end_time": "2020-12-05T15:00:49.870673",
     "exception": false,
     "start_time": "2020-12-05T15:00:47.101997",
>>>>>>> 64298a656ba05506c9bd61daefa94c3a53b9dae1
     "status": "completed"
    },
    "tags": []
   },
   "source": [
    "### Note: cost dependent classification is also called Bayes Mininmum Risk.\n",
    "***see more about BMR [here](https://link.springer.com/article/10.1007/s42452-020-03375-w)***"
   ]
  },
  {
   "cell_type": "code",
<<<<<<< HEAD
   "execution_count": 45,
   "metadata": {
    "execution": {
     "iopub.execute_input": "2020-12-04T15:32:13.733507Z",
     "iopub.status.busy": "2020-12-04T15:32:13.731572Z",
     "iopub.status.idle": "2020-12-04T15:32:13.734173Z",
     "shell.execute_reply": "2020-12-04T15:32:13.734640Z"
    },
    "papermill": {
     "duration": 3.263508,
     "end_time": "2020-12-04T15:32:13.734763",
     "exception": false,
     "start_time": "2020-12-04T15:32:10.471255",
=======
   "execution_count": 46,
   "metadata": {
    "execution": {
     "iopub.execute_input": "2020-12-05T15:00:55.308161Z",
     "iopub.status.busy": "2020-12-05T15:00:55.307203Z",
     "iopub.status.idle": "2020-12-05T15:00:55.310305Z",
     "shell.execute_reply": "2020-12-05T15:00:55.310839Z"
    },
    "papermill": {
     "duration": 2.74367,
     "end_time": "2020-12-05T15:00:55.310989",
     "exception": false,
     "start_time": "2020-12-05T15:00:52.567319",
>>>>>>> 64298a656ba05506c9bd61daefa94c3a53b9dae1
     "status": "completed"
    },
    "tags": []
   },
   "outputs": [],
   "source": [
    "# defining a function to predict based on the predicting that will minimize the expected cost.\n",
    "def bmr_predict(model, x, trans_cost):\n",
    "    prob = model.predict_proba(x)[:, 1]\n",
    "        \n",
    "    expected_cost_0 = prob * trans_cost\n",
    "    expected_cost_1 = (1-prob) * admin_cost\n",
    "        \n",
    "    pred = (expected_cost_1 < expected_cost_0).astype(int)\n",
    "    return pred"
   ]
  },
  {
   "cell_type": "markdown",
   "metadata": {
    "papermill": {
<<<<<<< HEAD
     "duration": 3.493745,
     "end_time": "2020-12-04T15:32:20.500705",
     "exception": false,
     "start_time": "2020-12-04T15:32:17.006960",
=======
     "duration": 2.815659,
     "end_time": "2020-12-05T15:01:01.574421",
     "exception": false,
     "start_time": "2020-12-05T15:00:58.758762",
>>>>>>> 64298a656ba05506c9bd61daefa94c3a53b9dae1
     "status": "completed"
    },
    "tags": []
   },
   "source": [
    "### Calculating AUC PR curve is not possible for BMR because predictions are based on minimum expected cost and not on probability. For this reason, we will calculate only f1_score and cost-savings for this model."
   ]
  },
  {
   "cell_type": "code",
<<<<<<< HEAD
   "execution_count": 46,
   "metadata": {
    "execution": {
     "iopub.execute_input": "2020-12-04T15:32:26.988903Z",
     "iopub.status.busy": "2020-12-04T15:32:26.988095Z",
     "iopub.status.idle": "2020-12-04T15:32:26.992028Z",
     "shell.execute_reply": "2020-12-04T15:32:26.991522Z"
    },
    "papermill": {
     "duration": 3.274221,
     "end_time": "2020-12-04T15:32:26.992175",
     "exception": false,
     "start_time": "2020-12-04T15:32:23.717954",
=======
   "execution_count": 47,
   "metadata": {
    "execution": {
     "iopub.execute_input": "2020-12-05T15:01:06.995398Z",
     "iopub.status.busy": "2020-12-05T15:01:06.994277Z",
     "iopub.status.idle": "2020-12-05T15:01:06.997770Z",
     "shell.execute_reply": "2020-12-05T15:01:06.997167Z"
    },
    "papermill": {
     "duration": 2.732939,
     "end_time": "2020-12-05T15:01:06.997893",
     "exception": false,
     "start_time": "2020-12-05T15:01:04.264954",
>>>>>>> 64298a656ba05506c9bd61daefa94c3a53b9dae1
     "status": "completed"
    },
    "tags": []
   },
   "outputs": [],
   "source": [
    "def get_bmr_metric_scores(scores, x, y=y, cv_object=cv):\n",
    "    ind = ['split_'+str(n) for n in range(1, cv_object.n_splits+1)]\n",
    "    scores_df = pd.DataFrame(index=ind)\n",
    "\n",
    "    f1_results = []\n",
    "    cs_results = []\n",
    "    \n",
    "    for i, (_, test_ind) in zip(range(cv_object.n_splits), cv_object.split(x, y)):\n",
    "        amount = df['Amount'].values[test_ind]\n",
    "        \n",
    "        ypred = bmr_predict(scores['estimator'][i], x[test_ind], amount)\n",
    "        ytrue = y[test_ind]\n",
    "                \n",
    "        f1_results.append(f1_score(ytrue, ypred))\n",
    "        cs_results.append(cost_saving(ytrue, ypred, amount))\n",
    "        \n",
    "    scores_df['f1_score'] = f1_results\n",
    "    #scores_df['auc_pr'] = scores['test_average_precision']\n",
    "    scores_df['cost_savings'] = cs_results\n",
    "\n",
    "    return scores_df    "
   ]
  },
  {
   "cell_type": "code",
<<<<<<< HEAD
   "execution_count": 47,
   "metadata": {
    "execution": {
     "iopub.execute_input": "2020-12-04T15:32:33.727472Z",
     "iopub.status.busy": "2020-12-04T15:32:33.726237Z",
     "iopub.status.idle": "2020-12-04T15:32:38.992384Z",
     "shell.execute_reply": "2020-12-04T15:32:38.992832Z"
    },
    "papermill": {
     "duration": 8.571731,
     "end_time": "2020-12-04T15:32:38.992965",
     "exception": false,
     "start_time": "2020-12-04T15:32:30.421234",
=======
   "execution_count": 48,
   "metadata": {
    "execution": {
     "iopub.execute_input": "2020-12-05T15:01:13.102392Z",
     "iopub.status.busy": "2020-12-05T15:01:13.100989Z",
     "iopub.status.idle": "2020-12-05T15:01:20.059157Z",
     "shell.execute_reply": "2020-12-05T15:01:20.060634Z"
    },
    "papermill": {
     "duration": 10.097743,
     "end_time": "2020-12-05T15:01:20.060835",
     "exception": false,
     "start_time": "2020-12-05T15:01:09.963092",
>>>>>>> 64298a656ba05506c9bd61daefa94c3a53b9dae1
     "status": "completed"
    },
    "tags": []
   },
   "outputs": [
    {
     "data": {
      "text/html": [
       "<div>\n",
       "<style scoped>\n",
       "    .dataframe tbody tr th:only-of-type {\n",
       "        vertical-align: middle;\n",
       "    }\n",
       "\n",
       "    .dataframe tbody tr th {\n",
       "        vertical-align: top;\n",
       "    }\n",
       "\n",
       "    .dataframe thead th {\n",
       "        text-align: right;\n",
       "    }\n",
       "</style>\n",
       "<table border=\"1\" class=\"dataframe\">\n",
       "  <thead>\n",
       "    <tr style=\"text-align: right;\">\n",
       "      <th></th>\n",
       "      <th>f1_score</th>\n",
       "      <th>cost_savings</th>\n",
       "    </tr>\n",
       "  </thead>\n",
       "  <tbody>\n",
       "    <tr>\n",
       "      <th>split_1</th>\n",
<<<<<<< HEAD
       "      <td>0.533742</td>\n",
       "      <td>0.752231</td>\n",
       "    </tr>\n",
       "    <tr>\n",
       "      <th>split_2</th>\n",
       "      <td>0.443925</td>\n",
       "      <td>0.834571</td>\n",
       "    </tr>\n",
       "    <tr>\n",
       "      <th>split_3</th>\n",
       "      <td>0.518950</td>\n",
       "      <td>0.846255</td>\n",
       "    </tr>\n",
       "    <tr>\n",
       "      <th>split_4</th>\n",
       "      <td>0.570533</td>\n",
       "      <td>0.751748</td>\n",
=======
       "      <td>0.429952</td>\n",
       "      <td>0.714708</td>\n",
       "    </tr>\n",
       "    <tr>\n",
       "      <th>split_2</th>\n",
       "      <td>0.420601</td>\n",
       "      <td>0.855550</td>\n",
       "    </tr>\n",
       "    <tr>\n",
       "      <th>split_3</th>\n",
       "      <td>0.501377</td>\n",
       "      <td>0.843274</td>\n",
       "    </tr>\n",
       "    <tr>\n",
       "      <th>split_4</th>\n",
       "      <td>0.415704</td>\n",
       "      <td>0.788582</td>\n",
>>>>>>> 64298a656ba05506c9bd61daefa94c3a53b9dae1
       "    </tr>\n",
       "  </tbody>\n",
       "</table>\n",
       "</div>"
      ],
      "text/plain": [
       "         f1_score  cost_savings\n",
<<<<<<< HEAD
       "split_1  0.533742      0.752231\n",
       "split_2  0.443925      0.834571\n",
       "split_3  0.518950      0.846255\n",
       "split_4  0.570533      0.751748"
      ]
     },
     "execution_count": 47,
=======
       "split_1  0.429952      0.714708\n",
       "split_2  0.420601      0.855550\n",
       "split_3  0.501377      0.843274\n",
       "split_4  0.415704      0.788582"
      ]
     },
     "execution_count": 48,
>>>>>>> 64298a656ba05506c9bd61daefa94c3a53b9dae1
     "metadata": {},
     "output_type": "execute_result"
    }
   ],
   "source": [
    "bmr_results = get_bmr_metric_scores(fraud_sensitive_scores, np.array(X))\n",
    "bmr_results"
   ]
  },
  {
   "cell_type": "code",
<<<<<<< HEAD
   "execution_count": 48,
   "metadata": {
    "execution": {
     "iopub.execute_input": "2020-12-04T15:32:46.003316Z",
     "iopub.status.busy": "2020-12-04T15:32:46.002318Z",
     "iopub.status.idle": "2020-12-04T15:32:46.007174Z",
     "shell.execute_reply": "2020-12-04T15:32:46.006659Z"
    },
    "papermill": {
     "duration": 3.233264,
     "end_time": "2020-12-04T15:32:46.007272",
     "exception": false,
     "start_time": "2020-12-04T15:32:42.774008",
=======
   "execution_count": 49,
   "metadata": {
    "execution": {
     "iopub.execute_input": "2020-12-05T15:01:25.774900Z",
     "iopub.status.busy": "2020-12-05T15:01:25.773335Z",
     "iopub.status.idle": "2020-12-05T15:01:25.777556Z",
     "shell.execute_reply": "2020-12-05T15:01:25.778099Z"
    },
    "papermill": {
     "duration": 2.791458,
     "end_time": "2020-12-05T15:01:25.778261",
     "exception": false,
     "start_time": "2020-12-05T15:01:22.986803",
>>>>>>> 64298a656ba05506c9bd61daefa94c3a53b9dae1
     "status": "completed"
    },
    "tags": []
   },
   "outputs": [
    {
     "data": {
      "text/plain": [
<<<<<<< HEAD
       "f1_score        0.516788\n",
       "cost_savings    0.796201\n",
       "dtype: float64"
      ]
     },
     "execution_count": 48,
=======
       "f1_score        0.441909\n",
       "cost_savings    0.800528\n",
       "dtype: float64"
      ]
     },
     "execution_count": 49,
>>>>>>> 64298a656ba05506c9bd61daefa94c3a53b9dae1
     "metadata": {},
     "output_type": "execute_result"
    }
   ],
   "source": [
    "bmr_results.mean()"
   ]
  },
  {
   "cell_type": "markdown",
   "metadata": {
    "_cell_guid": "79c7e3d0-c299-4dcb-8224-4455121ee9b0",
    "_uuid": "d629ff2d2480ee46fbb7e2d37f6b5fab8052498a",
    "collapsed": true,
    "papermill": {
<<<<<<< HEAD
     "duration": 3.449248,
     "end_time": "2020-12-04T15:32:52.690112",
     "exception": false,
     "start_time": "2020-12-04T15:32:49.240864",
=======
     "duration": 3.299993,
     "end_time": "2020-12-05T15:01:32.158768",
     "exception": false,
     "start_time": "2020-12-05T15:01:28.858775",
>>>>>>> 64298a656ba05506c9bd61daefa94c3a53b9dae1
     "status": "completed"
    },
    "tags": []
   },
   "source": [
    "## We now see that as we make our model more cost sensitive, f1score drops. Overall, fraud sensitive model seems to be the best for MLP since all of the three metrics are pretty good."
   ]
  }
 ],
 "metadata": {
  "kernelspec": {
   "display_name": "Python 3",
   "language": "python",
   "name": "python3"
  },
  "language_info": {
   "codemirror_mode": {
    "name": "ipython",
    "version": 3
   },
   "file_extension": ".py",
   "mimetype": "text/x-python",
   "name": "python",
   "nbconvert_exporter": "python",
   "pygments_lexer": "ipython3",
<<<<<<< HEAD
   "version": "3.7.7"
  },
  "papermill": {
   "duration": 1401.289375,
   "end_time": "2020-12-04T15:32:57.140604",
=======
   "version": "3.7.6"
  },
  "papermill": {
   "duration": 1124.544391,
   "end_time": "2020-12-05T15:01:36.361262",
>>>>>>> 64298a656ba05506c9bd61daefa94c3a53b9dae1
   "environment_variables": {},
   "exception": null,
   "input_path": "__notebook__.ipynb",
   "output_path": "__notebook__.ipynb",
   "parameters": {},
<<<<<<< HEAD
   "start_time": "2020-12-04T15:09:35.851229",
=======
   "start_time": "2020-12-05T14:42:51.816871",
>>>>>>> 64298a656ba05506c9bd61daefa94c3a53b9dae1
   "version": "2.1.0"
  }
 },
 "nbformat": 4,
 "nbformat_minor": 4
}
