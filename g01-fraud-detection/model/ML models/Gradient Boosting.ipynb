{
  "nbformat": 4,
  "nbformat_minor": 0,
  "metadata": {
    "colab": {
      "name": "Gradient Boosting.ipynb",
      "provenance": [],
      "authorship_tag": "ABX9TyNomkyUXGWVD5+9O+acjxmU"
    },
    "kernelspec": {
      "display_name": "Python 3",
      "name": "python3"
    }
  },
  "cells": [
    {
      "cell_type": "code",
      "metadata": {
        "colab": {
          "base_uri": "https://localhost:8080/"
        },
        "id": "xB2itreYGzJl",
        "outputId": "e1d24918-b5e3-45c7-ca5c-e75b8a36b6ad"
      },
      "source": [
        "from google.colab import drive\n",
        "drive.mount('/content/gdrive')"
      ],
      "execution_count": 1,
      "outputs": [
        {
          "output_type": "stream",
          "text": [
            "Mounted at /content/gdrive\n"
          ],
          "name": "stdout"
        }
      ]
    },
    {
      "cell_type": "code",
      "metadata": {
        "id": "1jp7EdtqIDa2"
      },
      "source": [
        "import os\n",
        "#os.environ['KAGGLE_CONFIG_DIR'] = \"/content/gdrive/My Drive/kaggle\""
      ],
      "execution_count": 2,
      "outputs": []
    },
    {
      "cell_type": "code",
      "metadata": {
        "id": "QpFV5ELIIWj8"
      },
      "source": [
        "#changing the working directory\n",
        "#%cd /content/gdrive/My Drive/kaggle"
      ],
      "execution_count": 3,
      "outputs": []
    },
    {
      "cell_type": "code",
      "metadata": {
        "id": "dPj-MuMVIbKn"
      },
      "source": [
        "#!kaggle datasets download -d mlg-ulb/creditcardfraud"
      ],
      "execution_count": 4,
      "outputs": []
    },
    {
      "cell_type": "code",
      "metadata": {
        "id": "FCWV4BNwIo1e"
      },
      "source": [
        "#unzipping the zip files and deleting the zip files\n",
        "#!unzip \\*.zip  && rm *.zip"
      ],
      "execution_count": 5,
      "outputs": []
    },
    {
      "cell_type": "code",
      "metadata": {
        "colab": {
          "base_uri": "https://localhost:8080/"
        },
        "id": "-JHT_r0cJy8X",
        "outputId": "a61d2a9f-e092-438b-9598-9554aec71953"
      },
      "source": [
        "!pwd"
      ],
      "execution_count": 6,
      "outputs": [
        {
          "output_type": "stream",
          "text": [
            "/content\n"
          ],
          "name": "stdout"
        }
      ]
    },
    {
      "cell_type": "code",
      "metadata": {
        "id": "kJOajGIoKJCn"
      },
      "source": [
        "#Import necessary libraries\n",
        "import numpy as np\n",
        "import pandas as pd\n",
        "import matplotlib.pyplot as plt\n",
        "import seaborn as sns\n",
        "\n",
        "import warnings\n",
        "warnings.filterwarnings('ignore')"
      ],
      "execution_count": 7,
      "outputs": []
    },
    {
      "cell_type": "code",
      "metadata": {
        "colab": {
          "base_uri": "https://localhost:8080/",
          "height": 224
        },
        "id": "YybBvJuRIztt",
        "outputId": "5a4e845f-5097-4081-ae43-062f240d445f"
      },
      "source": [
        "credit = pd.read_csv('/content/gdrive/My Drive/kaggle/creditcard.csv')\n",
        "credit.head()"
      ],
      "execution_count": 8,
      "outputs": [
        {
          "output_type": "execute_result",
          "data": {
            "text/html": [
              "<div>\n",
              "<style scoped>\n",
              "    .dataframe tbody tr th:only-of-type {\n",
              "        vertical-align: middle;\n",
              "    }\n",
              "\n",
              "    .dataframe tbody tr th {\n",
              "        vertical-align: top;\n",
              "    }\n",
              "\n",
              "    .dataframe thead th {\n",
              "        text-align: right;\n",
              "    }\n",
              "</style>\n",
              "<table border=\"1\" class=\"dataframe\">\n",
              "  <thead>\n",
              "    <tr style=\"text-align: right;\">\n",
              "      <th></th>\n",
              "      <th>Time</th>\n",
              "      <th>V1</th>\n",
              "      <th>V2</th>\n",
              "      <th>V3</th>\n",
              "      <th>V4</th>\n",
              "      <th>V5</th>\n",
              "      <th>V6</th>\n",
              "      <th>V7</th>\n",
              "      <th>V8</th>\n",
              "      <th>V9</th>\n",
              "      <th>V10</th>\n",
              "      <th>V11</th>\n",
              "      <th>V12</th>\n",
              "      <th>V13</th>\n",
              "      <th>V14</th>\n",
              "      <th>V15</th>\n",
              "      <th>V16</th>\n",
              "      <th>V17</th>\n",
              "      <th>V18</th>\n",
              "      <th>V19</th>\n",
              "      <th>V20</th>\n",
              "      <th>V21</th>\n",
              "      <th>V22</th>\n",
              "      <th>V23</th>\n",
              "      <th>V24</th>\n",
              "      <th>V25</th>\n",
              "      <th>V26</th>\n",
              "      <th>V27</th>\n",
              "      <th>V28</th>\n",
              "      <th>Amount</th>\n",
              "      <th>Class</th>\n",
              "    </tr>\n",
              "  </thead>\n",
              "  <tbody>\n",
              "    <tr>\n",
              "      <th>0</th>\n",
              "      <td>0.0</td>\n",
              "      <td>-1.359807</td>\n",
              "      <td>-0.072781</td>\n",
              "      <td>2.536347</td>\n",
              "      <td>1.378155</td>\n",
              "      <td>-0.338321</td>\n",
              "      <td>0.462388</td>\n",
              "      <td>0.239599</td>\n",
              "      <td>0.098698</td>\n",
              "      <td>0.363787</td>\n",
              "      <td>0.090794</td>\n",
              "      <td>-0.551600</td>\n",
              "      <td>-0.617801</td>\n",
              "      <td>-0.991390</td>\n",
              "      <td>-0.311169</td>\n",
              "      <td>1.468177</td>\n",
              "      <td>-0.470401</td>\n",
              "      <td>0.207971</td>\n",
              "      <td>0.025791</td>\n",
              "      <td>0.403993</td>\n",
              "      <td>0.251412</td>\n",
              "      <td>-0.018307</td>\n",
              "      <td>0.277838</td>\n",
              "      <td>-0.110474</td>\n",
              "      <td>0.066928</td>\n",
              "      <td>0.128539</td>\n",
              "      <td>-0.189115</td>\n",
              "      <td>0.133558</td>\n",
              "      <td>-0.021053</td>\n",
              "      <td>149.62</td>\n",
              "      <td>0</td>\n",
              "    </tr>\n",
              "    <tr>\n",
              "      <th>1</th>\n",
              "      <td>0.0</td>\n",
              "      <td>1.191857</td>\n",
              "      <td>0.266151</td>\n",
              "      <td>0.166480</td>\n",
              "      <td>0.448154</td>\n",
              "      <td>0.060018</td>\n",
              "      <td>-0.082361</td>\n",
              "      <td>-0.078803</td>\n",
              "      <td>0.085102</td>\n",
              "      <td>-0.255425</td>\n",
              "      <td>-0.166974</td>\n",
              "      <td>1.612727</td>\n",
              "      <td>1.065235</td>\n",
              "      <td>0.489095</td>\n",
              "      <td>-0.143772</td>\n",
              "      <td>0.635558</td>\n",
              "      <td>0.463917</td>\n",
              "      <td>-0.114805</td>\n",
              "      <td>-0.183361</td>\n",
              "      <td>-0.145783</td>\n",
              "      <td>-0.069083</td>\n",
              "      <td>-0.225775</td>\n",
              "      <td>-0.638672</td>\n",
              "      <td>0.101288</td>\n",
              "      <td>-0.339846</td>\n",
              "      <td>0.167170</td>\n",
              "      <td>0.125895</td>\n",
              "      <td>-0.008983</td>\n",
              "      <td>0.014724</td>\n",
              "      <td>2.69</td>\n",
              "      <td>0</td>\n",
              "    </tr>\n",
              "    <tr>\n",
              "      <th>2</th>\n",
              "      <td>1.0</td>\n",
              "      <td>-1.358354</td>\n",
              "      <td>-1.340163</td>\n",
              "      <td>1.773209</td>\n",
              "      <td>0.379780</td>\n",
              "      <td>-0.503198</td>\n",
              "      <td>1.800499</td>\n",
              "      <td>0.791461</td>\n",
              "      <td>0.247676</td>\n",
              "      <td>-1.514654</td>\n",
              "      <td>0.207643</td>\n",
              "      <td>0.624501</td>\n",
              "      <td>0.066084</td>\n",
              "      <td>0.717293</td>\n",
              "      <td>-0.165946</td>\n",
              "      <td>2.345865</td>\n",
              "      <td>-2.890083</td>\n",
              "      <td>1.109969</td>\n",
              "      <td>-0.121359</td>\n",
              "      <td>-2.261857</td>\n",
              "      <td>0.524980</td>\n",
              "      <td>0.247998</td>\n",
              "      <td>0.771679</td>\n",
              "      <td>0.909412</td>\n",
              "      <td>-0.689281</td>\n",
              "      <td>-0.327642</td>\n",
              "      <td>-0.139097</td>\n",
              "      <td>-0.055353</td>\n",
              "      <td>-0.059752</td>\n",
              "      <td>378.66</td>\n",
              "      <td>0</td>\n",
              "    </tr>\n",
              "    <tr>\n",
              "      <th>3</th>\n",
              "      <td>1.0</td>\n",
              "      <td>-0.966272</td>\n",
              "      <td>-0.185226</td>\n",
              "      <td>1.792993</td>\n",
              "      <td>-0.863291</td>\n",
              "      <td>-0.010309</td>\n",
              "      <td>1.247203</td>\n",
              "      <td>0.237609</td>\n",
              "      <td>0.377436</td>\n",
              "      <td>-1.387024</td>\n",
              "      <td>-0.054952</td>\n",
              "      <td>-0.226487</td>\n",
              "      <td>0.178228</td>\n",
              "      <td>0.507757</td>\n",
              "      <td>-0.287924</td>\n",
              "      <td>-0.631418</td>\n",
              "      <td>-1.059647</td>\n",
              "      <td>-0.684093</td>\n",
              "      <td>1.965775</td>\n",
              "      <td>-1.232622</td>\n",
              "      <td>-0.208038</td>\n",
              "      <td>-0.108300</td>\n",
              "      <td>0.005274</td>\n",
              "      <td>-0.190321</td>\n",
              "      <td>-1.175575</td>\n",
              "      <td>0.647376</td>\n",
              "      <td>-0.221929</td>\n",
              "      <td>0.062723</td>\n",
              "      <td>0.061458</td>\n",
              "      <td>123.50</td>\n",
              "      <td>0</td>\n",
              "    </tr>\n",
              "    <tr>\n",
              "      <th>4</th>\n",
              "      <td>2.0</td>\n",
              "      <td>-1.158233</td>\n",
              "      <td>0.877737</td>\n",
              "      <td>1.548718</td>\n",
              "      <td>0.403034</td>\n",
              "      <td>-0.407193</td>\n",
              "      <td>0.095921</td>\n",
              "      <td>0.592941</td>\n",
              "      <td>-0.270533</td>\n",
              "      <td>0.817739</td>\n",
              "      <td>0.753074</td>\n",
              "      <td>-0.822843</td>\n",
              "      <td>0.538196</td>\n",
              "      <td>1.345852</td>\n",
              "      <td>-1.119670</td>\n",
              "      <td>0.175121</td>\n",
              "      <td>-0.451449</td>\n",
              "      <td>-0.237033</td>\n",
              "      <td>-0.038195</td>\n",
              "      <td>0.803487</td>\n",
              "      <td>0.408542</td>\n",
              "      <td>-0.009431</td>\n",
              "      <td>0.798278</td>\n",
              "      <td>-0.137458</td>\n",
              "      <td>0.141267</td>\n",
              "      <td>-0.206010</td>\n",
              "      <td>0.502292</td>\n",
              "      <td>0.219422</td>\n",
              "      <td>0.215153</td>\n",
              "      <td>69.99</td>\n",
              "      <td>0</td>\n",
              "    </tr>\n",
              "  </tbody>\n",
              "</table>\n",
              "</div>"
            ],
            "text/plain": [
              "   Time        V1        V2        V3  ...       V27       V28  Amount  Class\n",
              "0   0.0 -1.359807 -0.072781  2.536347  ...  0.133558 -0.021053  149.62      0\n",
              "1   0.0  1.191857  0.266151  0.166480  ... -0.008983  0.014724    2.69      0\n",
              "2   1.0 -1.358354 -1.340163  1.773209  ... -0.055353 -0.059752  378.66      0\n",
              "3   1.0 -0.966272 -0.185226  1.792993  ...  0.062723  0.061458  123.50      0\n",
              "4   2.0 -1.158233  0.877737  1.548718  ...  0.219422  0.215153   69.99      0\n",
              "\n",
              "[5 rows x 31 columns]"
            ]
          },
          "metadata": {
            "tags": []
          },
          "execution_count": 8
        }
      ]
    },
    {
      "cell_type": "code",
      "metadata": {
        "colab": {
          "base_uri": "https://localhost:8080/"
        },
        "id": "rtGNSg89Jxqu",
        "outputId": "ef442ca9-2405-47b3-eebd-8e105012986c"
      },
      "source": [
        "credit.info()"
      ],
      "execution_count": 9,
      "outputs": [
        {
          "output_type": "stream",
          "text": [
            "<class 'pandas.core.frame.DataFrame'>\n",
            "RangeIndex: 284807 entries, 0 to 284806\n",
            "Data columns (total 31 columns):\n",
            " #   Column  Non-Null Count   Dtype  \n",
            "---  ------  --------------   -----  \n",
            " 0   Time    284807 non-null  float64\n",
            " 1   V1      284807 non-null  float64\n",
            " 2   V2      284807 non-null  float64\n",
            " 3   V3      284807 non-null  float64\n",
            " 4   V4      284807 non-null  float64\n",
            " 5   V5      284807 non-null  float64\n",
            " 6   V6      284807 non-null  float64\n",
            " 7   V7      284807 non-null  float64\n",
            " 8   V8      284807 non-null  float64\n",
            " 9   V9      284807 non-null  float64\n",
            " 10  V10     284807 non-null  float64\n",
            " 11  V11     284807 non-null  float64\n",
            " 12  V12     284807 non-null  float64\n",
            " 13  V13     284807 non-null  float64\n",
            " 14  V14     284807 non-null  float64\n",
            " 15  V15     284807 non-null  float64\n",
            " 16  V16     284807 non-null  float64\n",
            " 17  V17     284807 non-null  float64\n",
            " 18  V18     284807 non-null  float64\n",
            " 19  V19     284807 non-null  float64\n",
            " 20  V20     284807 non-null  float64\n",
            " 21  V21     284807 non-null  float64\n",
            " 22  V22     284807 non-null  float64\n",
            " 23  V23     284807 non-null  float64\n",
            " 24  V24     284807 non-null  float64\n",
            " 25  V25     284807 non-null  float64\n",
            " 26  V26     284807 non-null  float64\n",
            " 27  V27     284807 non-null  float64\n",
            " 28  V28     284807 non-null  float64\n",
            " 29  Amount  284807 non-null  float64\n",
            " 30  Class   284807 non-null  int64  \n",
            "dtypes: float64(30), int64(1)\n",
            "memory usage: 67.4 MB\n"
          ],
          "name": "stdout"
        }
      ]
    },
    {
      "cell_type": "code",
      "metadata": {
        "colab": {
          "base_uri": "https://localhost:8080/"
        },
        "id": "meSydXncLWIx",
        "outputId": "9dedded1-b80b-4eb9-dc9c-d990ba00e044"
      },
      "source": [
        "credit.isnull().sum()"
      ],
      "execution_count": 10,
      "outputs": [
        {
          "output_type": "execute_result",
          "data": {
            "text/plain": [
              "Time      0\n",
              "V1        0\n",
              "V2        0\n",
              "V3        0\n",
              "V4        0\n",
              "V5        0\n",
              "V6        0\n",
              "V7        0\n",
              "V8        0\n",
              "V9        0\n",
              "V10       0\n",
              "V11       0\n",
              "V12       0\n",
              "V13       0\n",
              "V14       0\n",
              "V15       0\n",
              "V16       0\n",
              "V17       0\n",
              "V18       0\n",
              "V19       0\n",
              "V20       0\n",
              "V21       0\n",
              "V22       0\n",
              "V23       0\n",
              "V24       0\n",
              "V25       0\n",
              "V26       0\n",
              "V27       0\n",
              "V28       0\n",
              "Amount    0\n",
              "Class     0\n",
              "dtype: int64"
            ]
          },
          "metadata": {
            "tags": []
          },
          "execution_count": 10
        }
      ]
    },
    {
      "cell_type": "code",
      "metadata": {
        "id": "eQ4WbNbHodb6"
      },
      "source": [
        "from sklearn.model_selection import StratifiedKFold, cross_validate\n",
        "from sklearn.preprocessing import StandardScaler\n",
        "from sklearn.metrics import f1_score"
      ],
      "execution_count": 11,
      "outputs": []
    },
    {
      "cell_type": "code",
      "metadata": {
        "id": "714TqShRMJkn"
      },
      "source": [
        "# selecting the 19 most important features according to our EDA \n",
        "X = credit[['V1', 'V2', 'V3', 'V4', 'V5', 'V6', 'V7', 'V8', 'V9', 'V10', 'V11', \n",
        "        'V12', 'V13', 'V14', 'V16', 'V17', 'V21', 'V23', 'V27']]\n",
        "\n",
        "# scaling the features\n",
        "scaler = StandardScaler()\n",
        "scaled_X = scaler.fit_transform(X)\n",
        "\n",
        "y = credit['Class'] # selecting the target variable"
      ],
      "execution_count": 12,
      "outputs": []
    },
    {
      "cell_type": "code",
      "metadata": {
        "colab": {
          "base_uri": "https://localhost:8080/"
        },
        "id": "qMEZ4k4CmdS-",
        "outputId": "2025c41b-8536-40de-b93f-8fc5e82d6665"
      },
      "source": [
        "# computing the class weight\n",
        "\n",
        "val_count = credit['Class'].value_counts()\n",
        "weights = dict(1 / val_count)\n",
        "weights"
      ],
      "execution_count": 13,
      "outputs": [
        {
          "output_type": "execute_result",
          "data": {
            "text/plain": [
              "{0: 3.51722561243691e-06, 1: 0.0020325203252032522}"
            ]
          },
          "metadata": {
            "tags": []
          },
          "execution_count": 13
        }
      ]
    },
    {
      "cell_type": "code",
      "metadata": {
        "id": "rZZrRjEDqQ8d"
      },
      "source": [
        "# adminstrative cost\n",
        "admin_cost = 2.5"
      ],
      "execution_count": 14,
      "outputs": []
    },
    {
      "cell_type": "code",
      "metadata": {
        "id": "L8yr_ikoo76E"
      },
      "source": [
        "# defining a function to calculate cost savings\n",
        "def cost_saving(ytrue, ypred, amount):\n",
        "    fp = np.sum((ytrue == 0) & (ypred == 1))\n",
        "    cost = np.sum(fp*admin_cost) + np.sum((amount[(ytrue == 1) & (ypred == 0)]))\n",
        "    max_cost = np.sum((amount[(ytrue == 1)]))\n",
        "    savings = 1 - (cost/max_cost)\n",
        "    \n",
        "    return savings"
      ],
      "execution_count": 15,
      "outputs": []
    },
    {
      "cell_type": "code",
      "metadata": {
        "id": "QlQAchcdp6CS"
      },
      "source": [
        "cv = StratifiedKFold(n_splits=4, random_state=1, shuffle=True)"
      ],
      "execution_count": 16,
      "outputs": []
    },
    {
      "cell_type": "code",
      "metadata": {
        "id": "T8XaHfkRqcvp"
      },
      "source": [
        "# defining a function to calculate cost saving per fold (splits) of our cv\n",
        "def cost_saving_per_split(scores, x, y, cv_object):\n",
        "    results = []\n",
        "    for i, (_, test_ind) in zip(range(cv_object.n_splits), cv_object.split(x, y)):\n",
        "        ypred = scores['estimator'][i].predict(x[test_ind])\n",
        "        ytrue = y[test_ind]\n",
        "        amount = credit['Amount'].values[test_ind]\n",
        "        results.append(cost_saving(ytrue, ypred, amount))\n",
        "        \n",
        "    return results"
      ],
      "execution_count": 17,
      "outputs": []
    },
    {
      "cell_type": "markdown",
      "metadata": {
        "id": "Wt4rwOW7u1xG"
      },
      "source": [
        ""
      ]
    },
    {
      "cell_type": "code",
      "metadata": {
        "id": "Nl_cfpcVqvZ8"
      },
      "source": [
        "# defining a function to return a dataframe of metrics results for each fold in our cv\n",
        "def get_metric_scores(scores, x, y=y, cv_object=cv):\n",
        "    ind = ['split_'+str(n) for n in range(1, cv_object.n_splits+1)]\n",
        "    \n",
        "    scores_credit = pd.DataFrame(index=ind)\n",
        "    \n",
        "    scores_credit['f1_score'] = scores['test_f1']\n",
        "    scores_credit['auc_pr'] = scores['test_average_precision']\n",
        "    scores_credit['cost_savings'] = cost_saving_per_split(scores, x, y, cv_object)\n",
        "\n",
        "    return scores_credit"
      ],
      "execution_count": 18,
      "outputs": []
    },
    {
      "cell_type": "markdown",
      "metadata": {
        "id": "0vBpA5S62L44"
      },
      "source": [
        "**Fraud Sensitive model (Not cost sensitive)**"
      ]
    },
    {
      "cell_type": "code",
      "metadata": {
        "id": "5fdflIfFrfS6"
      },
      "source": [
        "from sklearn.ensemble import GradientBoostingClassifier\n",
        "\n",
        "#GradientBoosting = GradientBoostingClassifier()"
      ],
      "execution_count": 19,
      "outputs": []
    },
    {
      "cell_type": "code",
      "metadata": {
        "id": "f_fzElz72UwQ"
      },
      "source": [
        "fraud_sensitive_model = GradientBoostingClassifier()\n",
        "fraud_sensitive_scores = cross_validate(fraud_sensitive_model, scaled_X, y, \n",
        "                                        scoring=['f1', 'average_precision'], \n",
        "                                        cv=cv, n_jobs=4, return_estimator=True)"
      ],
      "execution_count": 20,
      "outputs": []
    },
    {
      "cell_type": "code",
      "metadata": {
        "id": "yNMB8GamsqkL",
        "colab": {
          "base_uri": "https://localhost:8080/",
          "height": 173
        },
        "outputId": "e1113deb-ec38-48a3-f370-b5cd1409b014"
      },
      "source": [
        "fraud_sensitive_results = get_metric_scores(fraud_sensitive_scores, scaled_X)\n",
        "fraud_sensitive_results"
      ],
      "execution_count": 21,
      "outputs": [
        {
          "output_type": "execute_result",
          "data": {
            "text/html": [
              "<div>\n",
              "<style scoped>\n",
              "    .dataframe tbody tr th:only-of-type {\n",
              "        vertical-align: middle;\n",
              "    }\n",
              "\n",
              "    .dataframe tbody tr th {\n",
              "        vertical-align: top;\n",
              "    }\n",
              "\n",
              "    .dataframe thead th {\n",
              "        text-align: right;\n",
              "    }\n",
              "</style>\n",
              "<table border=\"1\" class=\"dataframe\">\n",
              "  <thead>\n",
              "    <tr style=\"text-align: right;\">\n",
              "      <th></th>\n",
              "      <th>f1_score</th>\n",
              "      <th>auc_pr</th>\n",
              "      <th>cost_savings</th>\n",
              "    </tr>\n",
              "  </thead>\n",
              "  <tbody>\n",
              "    <tr>\n",
              "      <th>split_1</th>\n",
              "      <td>0.463277</td>\n",
              "      <td>0.371886</td>\n",
              "      <td>0.495092</td>\n",
              "    </tr>\n",
              "    <tr>\n",
              "      <th>split_2</th>\n",
              "      <td>0.660194</td>\n",
              "      <td>0.418952</td>\n",
              "      <td>0.537342</td>\n",
              "    </tr>\n",
              "    <tr>\n",
              "      <th>split_3</th>\n",
              "      <td>0.763636</td>\n",
              "      <td>0.626318</td>\n",
              "      <td>0.678207</td>\n",
              "    </tr>\n",
              "    <tr>\n",
              "      <th>split_4</th>\n",
              "      <td>0.697674</td>\n",
              "      <td>0.514382</td>\n",
              "      <td>0.592574</td>\n",
              "    </tr>\n",
              "  </tbody>\n",
              "</table>\n",
              "</div>"
            ],
            "text/plain": [
              "         f1_score    auc_pr  cost_savings\n",
              "split_1  0.463277  0.371886      0.495092\n",
              "split_2  0.660194  0.418952      0.537342\n",
              "split_3  0.763636  0.626318      0.678207\n",
              "split_4  0.697674  0.514382      0.592574"
            ]
          },
          "metadata": {
            "tags": []
          },
          "execution_count": 21
        }
      ]
    },
    {
      "cell_type": "code",
      "metadata": {
        "id": "iFOmXPhRyNDk",
        "colab": {
          "base_uri": "https://localhost:8080/"
        },
        "outputId": "f9be8274-836d-403a-a8a0-3042c71a3759"
      },
      "source": [
        "fraud_sensitive_results.mean()"
      ],
      "execution_count": 22,
      "outputs": [
        {
          "output_type": "execute_result",
          "data": {
            "text/plain": [
              "f1_score        0.646195\n",
              "auc_pr          0.482884\n",
              "cost_savings    0.575804\n",
              "dtype: float64"
            ]
          },
          "metadata": {
            "tags": []
          },
          "execution_count": 22
        }
      ]
    },
    {
      "cell_type": "markdown",
      "metadata": {
        "id": "bj0iq2B7rBDC"
      },
      "source": [
        "**Cost Sensitive model**"
      ]
    },
    {
      "cell_type": "code",
      "metadata": {
        "id": "PY0n_Ad81ff7"
      },
      "source": [
        "sample_weights = np.array([credit['Amount'][ind] if fraud else admin_cost for ind, fraud in enumerate(y)])"
      ],
      "execution_count": 23,
      "outputs": []
    },
    {
      "cell_type": "code",
      "metadata": {
        "id": "pqxmAG__sDDr"
      },
      "source": [
        "cost_sensitive_model = GradientBoostingClassifier()\n",
        "cost_sensitive_scores = cross_validate(cost_sensitive_model, scaled_X, y, \n",
        "                                       scoring=['f1', 'average_precision'], \n",
        "                                       cv=cv, n_jobs=4, return_estimator=True, \n",
        "                                       fit_params={'sample_weight': sample_weights})"
      ],
      "execution_count": 24,
      "outputs": []
    },
    {
      "cell_type": "code",
      "metadata": {
        "id": "j382_MRgyP5C",
        "colab": {
          "base_uri": "https://localhost:8080/",
          "height": 173
        },
        "outputId": "fb3b18b1-546c-4574-de4b-133ac4ade24c"
      },
      "source": [
        "cost_sensitive_results = get_metric_scores(cost_sensitive_scores, scaled_X)\n",
        "cost_sensitive_results"
      ],
      "execution_count": 25,
      "outputs": [
        {
          "output_type": "execute_result",
          "data": {
            "text/html": [
              "<div>\n",
              "<style scoped>\n",
              "    .dataframe tbody tr th:only-of-type {\n",
              "        vertical-align: middle;\n",
              "    }\n",
              "\n",
              "    .dataframe tbody tr th {\n",
              "        vertical-align: top;\n",
              "    }\n",
              "\n",
              "    .dataframe thead th {\n",
              "        text-align: right;\n",
              "    }\n",
              "</style>\n",
              "<table border=\"1\" class=\"dataframe\">\n",
              "  <thead>\n",
              "    <tr style=\"text-align: right;\">\n",
              "      <th></th>\n",
              "      <th>f1_score</th>\n",
              "      <th>auc_pr</th>\n",
              "      <th>cost_savings</th>\n",
              "    </tr>\n",
              "  </thead>\n",
              "  <tbody>\n",
              "    <tr>\n",
              "      <th>split_1</th>\n",
              "      <td>0.739300</td>\n",
              "      <td>0.684631</td>\n",
              "      <td>0.723344</td>\n",
              "    </tr>\n",
              "    <tr>\n",
              "      <th>split_2</th>\n",
              "      <td>0.785714</td>\n",
              "      <td>0.754631</td>\n",
              "      <td>0.751873</td>\n",
              "    </tr>\n",
              "    <tr>\n",
              "      <th>split_3</th>\n",
              "      <td>0.803279</td>\n",
              "      <td>0.754557</td>\n",
              "      <td>0.813855</td>\n",
              "    </tr>\n",
              "    <tr>\n",
              "      <th>split_4</th>\n",
              "      <td>0.804979</td>\n",
              "      <td>0.746693</td>\n",
              "      <td>0.735220</td>\n",
              "    </tr>\n",
              "  </tbody>\n",
              "</table>\n",
              "</div>"
            ],
            "text/plain": [
              "         f1_score    auc_pr  cost_savings\n",
              "split_1  0.739300  0.684631      0.723344\n",
              "split_2  0.785714  0.754631      0.751873\n",
              "split_3  0.803279  0.754557      0.813855\n",
              "split_4  0.804979  0.746693      0.735220"
            ]
          },
          "metadata": {
            "tags": []
          },
          "execution_count": 25
        }
      ]
    },
    {
      "cell_type": "code",
      "metadata": {
        "id": "owQPoDkV2qEy",
        "colab": {
          "base_uri": "https://localhost:8080/"
        },
        "outputId": "829e5c55-4e53-4c97-aed8-a03ff4e4e878"
      },
      "source": [
        "cost_sensitive_results.mean()"
      ],
      "execution_count": 26,
      "outputs": [
        {
          "output_type": "execute_result",
          "data": {
            "text/plain": [
              "f1_score        0.783318\n",
              "auc_pr          0.735128\n",
              "cost_savings    0.756073\n",
              "dtype: float64"
            ]
          },
          "metadata": {
            "tags": []
          },
          "execution_count": 26
        }
      ]
    },
    {
      "cell_type": "markdown",
      "metadata": {
        "id": "dT98742pw44f"
      },
      "source": [
        "**Cost Sensitive Model - SMOTE**"
      ]
    },
    {
      "cell_type": "code",
      "metadata": {
        "id": "u57UyBq5ubkO"
      },
      "source": [
        "\n",
        "smote = SMOTE(random_state=1)\n",
        "cost_sensitive_smote = GradientBoostingClassifier()\n",
        "\n",
        "pipe_smote = Pipeline([('smote', smote), ('model', cost_sensitive_smote)])\n",
        "\n",
        "smote_scores = cross_validate(pipe_smote, scaled_X, y, scoring=['f1', 'average_precision'], \n",
        "                              cv=cv, n_jobs=4, return_estimator=True, \n",
        "                              fit_params={'sample_weight': sample_weights})\n"
      ],
      "execution_count": 34,
      "outputs": []
    },
    {
      "cell_type": "code",
      "metadata": {
        "id": "7A0XXNHpufI8",
        "colab": {
          "base_uri": "https://localhost:8080/",
          "height": 173
        },
        "outputId": "b3c2e7e2-0709-4784-c5e2-81dca85ec9d1"
      },
      "source": [
        "smote_results = get_metric_scores(smote_scores, scaled_X)\n",
        "smote_results"
      ],
      "execution_count": 35,
      "outputs": [
        {
          "output_type": "execute_result",
          "data": {
            "text/html": [
              "<div>\n",
              "<style scoped>\n",
              "    .dataframe tbody tr th:only-of-type {\n",
              "        vertical-align: middle;\n",
              "    }\n",
              "\n",
              "    .dataframe tbody tr th {\n",
              "        vertical-align: top;\n",
              "    }\n",
              "\n",
              "    .dataframe thead th {\n",
              "        text-align: right;\n",
              "    }\n",
              "</style>\n",
              "<table border=\"1\" class=\"dataframe\">\n",
              "  <thead>\n",
              "    <tr style=\"text-align: right;\">\n",
              "      <th></th>\n",
              "      <th>f1_score</th>\n",
              "      <th>auc_pr</th>\n",
              "      <th>cost_savings</th>\n",
              "    </tr>\n",
              "  </thead>\n",
              "  <tbody>\n",
              "    <tr>\n",
              "      <th>split_1</th>\n",
              "      <td>0.962458</td>\n",
              "      <td>0.994608</td>\n",
              "      <td>-3.320568</td>\n",
              "    </tr>\n",
              "    <tr>\n",
              "      <th>split_2</th>\n",
              "      <td>0.961224</td>\n",
              "      <td>0.994380</td>\n",
              "      <td>-7.322638</td>\n",
              "    </tr>\n",
              "    <tr>\n",
              "      <th>split_3</th>\n",
              "      <td>0.961987</td>\n",
              "      <td>0.994470</td>\n",
              "      <td>-5.079398</td>\n",
              "    </tr>\n",
              "    <tr>\n",
              "      <th>split_4</th>\n",
              "      <td>0.961487</td>\n",
              "      <td>0.994560</td>\n",
              "      <td>-4.944670</td>\n",
              "    </tr>\n",
              "  </tbody>\n",
              "</table>\n",
              "</div>"
            ],
            "text/plain": [
              "         f1_score    auc_pr  cost_savings\n",
              "split_1  0.962458  0.994608     -3.320568\n",
              "split_2  0.961224  0.994380     -7.322638\n",
              "split_3  0.961987  0.994470     -5.079398\n",
              "split_4  0.961487  0.994560     -4.944670"
            ]
          },
          "metadata": {
            "tags": []
          },
          "execution_count": 35
        }
      ]
    },
    {
      "cell_type": "code",
      "metadata": {
        "id": "0mtVT7ToYq2V",
        "colab": {
          "base_uri": "https://localhost:8080/"
        },
        "outputId": "d88d3c74-37d3-4754-cfdb-62ed1012a2a2"
      },
      "source": [
        "smote_results.mean()"
      ],
      "execution_count": 36,
      "outputs": [
        {
          "output_type": "execute_result",
          "data": {
            "text/plain": [
              "f1_score        0.961789\n",
              "auc_pr          0.994504\n",
              "cost_savings   -5.166818\n",
              "dtype: float64"
            ]
          },
          "metadata": {
            "tags": []
          },
          "execution_count": 36
        }
      ]
    },
    {
      "cell_type": "markdown",
      "metadata": {
        "id": "WVpZwc96w2km"
      },
      "source": [
        "**Cost sensitive - Undersampling**"
      ]
    },
    {
      "cell_type": "code",
      "metadata": {
        "id": "IaoqJ1991DAq"
      },
      "source": [
        "from imblearn.under_sampling import RandomUnderSampler\n",
        "\n",
        "undersample = RandomUnderSampler()\n",
        "\n",
        "cost_sensitive_under = GradientBoostingClassifier()\n",
        "\n",
        "pipe_under = Pipeline([('undersampler', undersample), ('model', cost_sensitive_under)])\n",
        "\n",
        "undersample_scores = cross_validate(pipe_under, scaled_X, y, scoring=['f1', 'average_precision'], \n",
        "                                    cv=cv, n_jobs=4, return_estimator=True, \n",
        "                                    fit_params={'sample_weight': sample_weights})\n"
      ],
      "execution_count": 42,
      "outputs": []
    },
    {
      "cell_type": "code",
      "metadata": {
        "id": "3UhRwbHO1Ya2",
        "colab": {
          "base_uri": "https://localhost:8080/",
          "height": 173
        },
        "outputId": "574e1477-10f6-45ef-abf5-5fcd5d88cc80"
      },
      "source": [
        "undersample_results = get_metric_scores(undersample_scores, scaled_X)\n",
        "undersample_results"
      ],
      "execution_count": 43,
      "outputs": [
        {
          "output_type": "execute_result",
          "data": {
            "text/html": [
              "<div>\n",
              "<style scoped>\n",
              "    .dataframe tbody tr th:only-of-type {\n",
              "        vertical-align: middle;\n",
              "    }\n",
              "\n",
              "    .dataframe tbody tr th {\n",
              "        vertical-align: top;\n",
              "    }\n",
              "\n",
              "    .dataframe thead th {\n",
              "        text-align: right;\n",
              "    }\n",
              "</style>\n",
              "<table border=\"1\" class=\"dataframe\">\n",
              "  <thead>\n",
              "    <tr style=\"text-align: right;\">\n",
              "      <th></th>\n",
              "      <th>f1_score</th>\n",
              "      <th>auc_pr</th>\n",
              "      <th>cost_savings</th>\n",
              "    </tr>\n",
              "  </thead>\n",
              "  <tbody>\n",
              "    <tr>\n",
              "      <th>split_1</th>\n",
              "      <td>0.951613</td>\n",
              "      <td>0.988808</td>\n",
              "      <td>-4.883160</td>\n",
              "    </tr>\n",
              "    <tr>\n",
              "      <th>split_2</th>\n",
              "      <td>0.911290</td>\n",
              "      <td>0.971638</td>\n",
              "      <td>-8.014542</td>\n",
              "    </tr>\n",
              "    <tr>\n",
              "      <th>split_3</th>\n",
              "      <td>0.875969</td>\n",
              "      <td>0.965640</td>\n",
              "      <td>-5.271748</td>\n",
              "    </tr>\n",
              "    <tr>\n",
              "      <th>split_4</th>\n",
              "      <td>0.932806</td>\n",
              "      <td>0.980312</td>\n",
              "      <td>-6.609302</td>\n",
              "    </tr>\n",
              "  </tbody>\n",
              "</table>\n",
              "</div>"
            ],
            "text/plain": [
              "         f1_score    auc_pr  cost_savings\n",
              "split_1  0.951613  0.988808     -4.883160\n",
              "split_2  0.911290  0.971638     -8.014542\n",
              "split_3  0.875969  0.965640     -5.271748\n",
              "split_4  0.932806  0.980312     -6.609302"
            ]
          },
          "metadata": {
            "tags": []
          },
          "execution_count": 43
        }
      ]
    },
    {
      "cell_type": "code",
      "metadata": {
        "id": "ml9vMH-11jn4",
        "colab": {
          "base_uri": "https://localhost:8080/"
        },
        "outputId": "e238dfd2-bdda-4317-bc37-6588d88e8c1d"
      },
      "source": [
        "undersample_results.mean()"
      ],
      "execution_count": 44,
      "outputs": [
        {
          "output_type": "execute_result",
          "data": {
            "text/plain": [
              "f1_score        0.917920\n",
              "auc_pr          0.976600\n",
              "cost_savings   -6.194688\n",
              "dtype: float64"
            ]
          },
          "metadata": {
            "tags": []
          },
          "execution_count": 44
        }
      ]
    },
    {
      "cell_type": "code",
      "metadata": {
        "id": "nc4Wgwm31qhm"
      },
      "source": [
        ""
      ],
      "execution_count": 44,
      "outputs": []
    }
  ]
}