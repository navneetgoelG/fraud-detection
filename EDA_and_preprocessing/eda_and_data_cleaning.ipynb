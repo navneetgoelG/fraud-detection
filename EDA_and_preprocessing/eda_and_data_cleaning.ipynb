{
 "cells": [
  {
   "cell_type": "markdown",
   "metadata": {
    "papermill": {
     "duration": 0.068051,
     "end_time": "2020-12-05T10:22:08.985724",
     "exception": false,
     "start_time": "2020-12-05T10:22:08.917673",
     "status": "completed"
    },
    "tags": []
   },
   "source": [
    "# EDA and Data Cleaning"
   ]
  },
  {
   "cell_type": "code",
   "execution_count": 1,
   "metadata": {
    "_cell_guid": "79c7e3d0-c299-4dcb-8224-4455121ee9b0",
    "_uuid": "d629ff2d2480ee46fbb7e2d37f6b5fab8052498a",
    "execution": {
     "iopub.execute_input": "2020-12-05T10:22:09.132521Z",
     "iopub.status.busy": "2020-12-05T10:22:09.131677Z",
     "iopub.status.idle": "2020-12-05T10:22:10.228133Z",
     "shell.execute_reply": "2020-12-05T10:22:10.227388Z"
    },
    "papermill": {
     "duration": 1.174002,
     "end_time": "2020-12-05T10:22:10.228272",
     "exception": false,
     "start_time": "2020-12-05T10:22:09.054270",
     "status": "completed"
    },
    "tags": []
   },
   "outputs": [],
   "source": [
    "# importing useful libraries\n",
    "\n",
    "import numpy as np\n",
    "import pandas as pd\n",
    "import matplotlib.pyplot as plt\n",
    "import seaborn as sns\n",
    "\n",
    "import warnings\n",
    "warnings.filterwarnings('ignore')\n",
    "\n",
    "%matplotlib inline"
   ]
  },
  {
   "cell_type": "code",
   "execution_count": 2,
   "metadata": {
    "execution": {
     "iopub.execute_input": "2020-12-05T10:22:10.373166Z",
     "iopub.status.busy": "2020-12-05T10:22:10.372388Z",
     "iopub.status.idle": "2020-12-05T10:22:13.638626Z",
     "shell.execute_reply": "2020-12-05T10:22:13.639221Z"
    },
    "papermill": {
     "duration": 3.342832,
     "end_time": "2020-12-05T10:22:13.639373",
     "exception": false,
     "start_time": "2020-12-05T10:22:10.296541",
     "status": "completed"
    },
    "tags": []
   },
   "outputs": [
    {
     "name": "stdout",
     "output_type": "stream",
     "text": [
      "(284807, 31)\n"
     ]
    },
    {
     "data": {
      "text/html": [
       "<div>\n",
       "<style scoped>\n",
       "    .dataframe tbody tr th:only-of-type {\n",
       "        vertical-align: middle;\n",
       "    }\n",
       "\n",
       "    .dataframe tbody tr th {\n",
       "        vertical-align: top;\n",
       "    }\n",
       "\n",
       "    .dataframe thead th {\n",
       "        text-align: right;\n",
       "    }\n",
       "</style>\n",
       "<table border=\"1\" class=\"dataframe\">\n",
       "  <thead>\n",
       "    <tr style=\"text-align: right;\">\n",
       "      <th></th>\n",
       "      <th>Time</th>\n",
       "      <th>V1</th>\n",
       "      <th>V2</th>\n",
       "      <th>V3</th>\n",
       "      <th>V4</th>\n",
       "      <th>V5</th>\n",
       "      <th>V6</th>\n",
       "      <th>V7</th>\n",
       "      <th>V8</th>\n",
       "      <th>V9</th>\n",
       "      <th>...</th>\n",
       "      <th>V21</th>\n",
       "      <th>V22</th>\n",
       "      <th>V23</th>\n",
       "      <th>V24</th>\n",
       "      <th>V25</th>\n",
       "      <th>V26</th>\n",
       "      <th>V27</th>\n",
       "      <th>V28</th>\n",
       "      <th>Amount</th>\n",
       "      <th>Class</th>\n",
       "    </tr>\n",
       "  </thead>\n",
       "  <tbody>\n",
       "    <tr>\n",
       "      <th>0</th>\n",
       "      <td>0.0</td>\n",
       "      <td>-1.359807</td>\n",
       "      <td>-0.072781</td>\n",
       "      <td>2.536347</td>\n",
       "      <td>1.378155</td>\n",
       "      <td>-0.338321</td>\n",
       "      <td>0.462388</td>\n",
       "      <td>0.239599</td>\n",
       "      <td>0.098698</td>\n",
       "      <td>0.363787</td>\n",
       "      <td>...</td>\n",
       "      <td>-0.018307</td>\n",
       "      <td>0.277838</td>\n",
       "      <td>-0.110474</td>\n",
       "      <td>0.066928</td>\n",
       "      <td>0.128539</td>\n",
       "      <td>-0.189115</td>\n",
       "      <td>0.133558</td>\n",
       "      <td>-0.021053</td>\n",
       "      <td>149.62</td>\n",
       "      <td>0</td>\n",
       "    </tr>\n",
       "    <tr>\n",
       "      <th>1</th>\n",
       "      <td>0.0</td>\n",
       "      <td>1.191857</td>\n",
       "      <td>0.266151</td>\n",
       "      <td>0.166480</td>\n",
       "      <td>0.448154</td>\n",
       "      <td>0.060018</td>\n",
       "      <td>-0.082361</td>\n",
       "      <td>-0.078803</td>\n",
       "      <td>0.085102</td>\n",
       "      <td>-0.255425</td>\n",
       "      <td>...</td>\n",
       "      <td>-0.225775</td>\n",
       "      <td>-0.638672</td>\n",
       "      <td>0.101288</td>\n",
       "      <td>-0.339846</td>\n",
       "      <td>0.167170</td>\n",
       "      <td>0.125895</td>\n",
       "      <td>-0.008983</td>\n",
       "      <td>0.014724</td>\n",
       "      <td>2.69</td>\n",
       "      <td>0</td>\n",
       "    </tr>\n",
       "    <tr>\n",
       "      <th>2</th>\n",
       "      <td>1.0</td>\n",
       "      <td>-1.358354</td>\n",
       "      <td>-1.340163</td>\n",
       "      <td>1.773209</td>\n",
       "      <td>0.379780</td>\n",
       "      <td>-0.503198</td>\n",
       "      <td>1.800499</td>\n",
       "      <td>0.791461</td>\n",
       "      <td>0.247676</td>\n",
       "      <td>-1.514654</td>\n",
       "      <td>...</td>\n",
       "      <td>0.247998</td>\n",
       "      <td>0.771679</td>\n",
       "      <td>0.909412</td>\n",
       "      <td>-0.689281</td>\n",
       "      <td>-0.327642</td>\n",
       "      <td>-0.139097</td>\n",
       "      <td>-0.055353</td>\n",
       "      <td>-0.059752</td>\n",
       "      <td>378.66</td>\n",
       "      <td>0</td>\n",
       "    </tr>\n",
       "    <tr>\n",
       "      <th>3</th>\n",
       "      <td>1.0</td>\n",
       "      <td>-0.966272</td>\n",
       "      <td>-0.185226</td>\n",
       "      <td>1.792993</td>\n",
       "      <td>-0.863291</td>\n",
       "      <td>-0.010309</td>\n",
       "      <td>1.247203</td>\n",
       "      <td>0.237609</td>\n",
       "      <td>0.377436</td>\n",
       "      <td>-1.387024</td>\n",
       "      <td>...</td>\n",
       "      <td>-0.108300</td>\n",
       "      <td>0.005274</td>\n",
       "      <td>-0.190321</td>\n",
       "      <td>-1.175575</td>\n",
       "      <td>0.647376</td>\n",
       "      <td>-0.221929</td>\n",
       "      <td>0.062723</td>\n",
       "      <td>0.061458</td>\n",
       "      <td>123.50</td>\n",
       "      <td>0</td>\n",
       "    </tr>\n",
       "    <tr>\n",
       "      <th>4</th>\n",
       "      <td>2.0</td>\n",
       "      <td>-1.158233</td>\n",
       "      <td>0.877737</td>\n",
       "      <td>1.548718</td>\n",
       "      <td>0.403034</td>\n",
       "      <td>-0.407193</td>\n",
       "      <td>0.095921</td>\n",
       "      <td>0.592941</td>\n",
       "      <td>-0.270533</td>\n",
       "      <td>0.817739</td>\n",
       "      <td>...</td>\n",
       "      <td>-0.009431</td>\n",
       "      <td>0.798278</td>\n",
       "      <td>-0.137458</td>\n",
       "      <td>0.141267</td>\n",
       "      <td>-0.206010</td>\n",
       "      <td>0.502292</td>\n",
       "      <td>0.219422</td>\n",
       "      <td>0.215153</td>\n",
       "      <td>69.99</td>\n",
       "      <td>0</td>\n",
       "    </tr>\n",
       "  </tbody>\n",
       "</table>\n",
       "<p>5 rows × 31 columns</p>\n",
       "</div>"
      ],
      "text/plain": [
       "   Time        V1        V2        V3        V4        V5        V6        V7  \\\n",
       "0   0.0 -1.359807 -0.072781  2.536347  1.378155 -0.338321  0.462388  0.239599   \n",
       "1   0.0  1.191857  0.266151  0.166480  0.448154  0.060018 -0.082361 -0.078803   \n",
       "2   1.0 -1.358354 -1.340163  1.773209  0.379780 -0.503198  1.800499  0.791461   \n",
       "3   1.0 -0.966272 -0.185226  1.792993 -0.863291 -0.010309  1.247203  0.237609   \n",
       "4   2.0 -1.158233  0.877737  1.548718  0.403034 -0.407193  0.095921  0.592941   \n",
       "\n",
       "         V8        V9  ...       V21       V22       V23       V24       V25  \\\n",
       "0  0.098698  0.363787  ... -0.018307  0.277838 -0.110474  0.066928  0.128539   \n",
       "1  0.085102 -0.255425  ... -0.225775 -0.638672  0.101288 -0.339846  0.167170   \n",
       "2  0.247676 -1.514654  ...  0.247998  0.771679  0.909412 -0.689281 -0.327642   \n",
       "3  0.377436 -1.387024  ... -0.108300  0.005274 -0.190321 -1.175575  0.647376   \n",
       "4 -0.270533  0.817739  ... -0.009431  0.798278 -0.137458  0.141267 -0.206010   \n",
       "\n",
       "        V26       V27       V28  Amount  Class  \n",
       "0 -0.189115  0.133558 -0.021053  149.62      0  \n",
       "1  0.125895 -0.008983  0.014724    2.69      0  \n",
       "2 -0.139097 -0.055353 -0.059752  378.66      0  \n",
       "3 -0.221929  0.062723  0.061458  123.50      0  \n",
       "4  0.502292  0.219422  0.215153   69.99      0  \n",
       "\n",
       "[5 rows x 31 columns]"
      ]
     },
     "execution_count": 2,
     "metadata": {},
     "output_type": "execute_result"
    }
   ],
   "source": [
    "# loading in the dataset\n",
    "df = pd.read_csv('../input/creditcardfraud/creditcard.csv')\n",
    "print(df.shape)\n",
    "df.head()"
   ]
  },
  {
   "cell_type": "code",
   "execution_count": 3,
   "metadata": {
    "execution": {
     "iopub.execute_input": "2020-12-05T10:22:13.821353Z",
     "iopub.status.busy": "2020-12-05T10:22:13.820221Z",
     "iopub.status.idle": "2020-12-05T10:22:14.251437Z",
     "shell.execute_reply": "2020-12-05T10:22:14.250643Z"
    },
    "papermill": {
     "duration": 0.543826,
     "end_time": "2020-12-05T10:22:14.251578",
     "exception": false,
     "start_time": "2020-12-05T10:22:13.707752",
     "status": "completed"
    },
    "tags": []
   },
   "outputs": [
    {
     "data": {
      "text/html": [
       "<div>\n",
       "<style scoped>\n",
       "    .dataframe tbody tr th:only-of-type {\n",
       "        vertical-align: middle;\n",
       "    }\n",
       "\n",
       "    .dataframe tbody tr th {\n",
       "        vertical-align: top;\n",
       "    }\n",
       "\n",
       "    .dataframe thead th {\n",
       "        text-align: right;\n",
       "    }\n",
       "</style>\n",
       "<table border=\"1\" class=\"dataframe\">\n",
       "  <thead>\n",
       "    <tr style=\"text-align: right;\">\n",
       "      <th></th>\n",
       "      <th>Time</th>\n",
       "      <th>V1</th>\n",
       "      <th>V2</th>\n",
       "      <th>V3</th>\n",
       "      <th>V4</th>\n",
       "      <th>V5</th>\n",
       "      <th>V6</th>\n",
       "      <th>V7</th>\n",
       "      <th>V8</th>\n",
       "      <th>V9</th>\n",
       "      <th>...</th>\n",
       "      <th>V21</th>\n",
       "      <th>V22</th>\n",
       "      <th>V23</th>\n",
       "      <th>V24</th>\n",
       "      <th>V25</th>\n",
       "      <th>V26</th>\n",
       "      <th>V27</th>\n",
       "      <th>V28</th>\n",
       "      <th>Amount</th>\n",
       "      <th>Class</th>\n",
       "    </tr>\n",
       "  </thead>\n",
       "  <tbody>\n",
       "    <tr>\n",
       "      <th>count</th>\n",
       "      <td>284807.000000</td>\n",
       "      <td>2.848070e+05</td>\n",
       "      <td>2.848070e+05</td>\n",
       "      <td>2.848070e+05</td>\n",
       "      <td>2.848070e+05</td>\n",
       "      <td>2.848070e+05</td>\n",
       "      <td>2.848070e+05</td>\n",
       "      <td>2.848070e+05</td>\n",
       "      <td>2.848070e+05</td>\n",
       "      <td>2.848070e+05</td>\n",
       "      <td>...</td>\n",
       "      <td>2.848070e+05</td>\n",
       "      <td>2.848070e+05</td>\n",
       "      <td>2.848070e+05</td>\n",
       "      <td>2.848070e+05</td>\n",
       "      <td>2.848070e+05</td>\n",
       "      <td>2.848070e+05</td>\n",
       "      <td>2.848070e+05</td>\n",
       "      <td>2.848070e+05</td>\n",
       "      <td>284807.000000</td>\n",
       "      <td>284807.000000</td>\n",
       "    </tr>\n",
       "    <tr>\n",
       "      <th>mean</th>\n",
       "      <td>94813.859575</td>\n",
       "      <td>3.919560e-15</td>\n",
       "      <td>5.688174e-16</td>\n",
       "      <td>-8.769071e-15</td>\n",
       "      <td>2.782312e-15</td>\n",
       "      <td>-1.552563e-15</td>\n",
       "      <td>2.010663e-15</td>\n",
       "      <td>-1.694249e-15</td>\n",
       "      <td>-1.927028e-16</td>\n",
       "      <td>-3.137024e-15</td>\n",
       "      <td>...</td>\n",
       "      <td>1.537294e-16</td>\n",
       "      <td>7.959909e-16</td>\n",
       "      <td>5.367590e-16</td>\n",
       "      <td>4.458112e-15</td>\n",
       "      <td>1.453003e-15</td>\n",
       "      <td>1.699104e-15</td>\n",
       "      <td>-3.660161e-16</td>\n",
       "      <td>-1.206049e-16</td>\n",
       "      <td>88.349619</td>\n",
       "      <td>0.001727</td>\n",
       "    </tr>\n",
       "    <tr>\n",
       "      <th>std</th>\n",
       "      <td>47488.145955</td>\n",
       "      <td>1.958696e+00</td>\n",
       "      <td>1.651309e+00</td>\n",
       "      <td>1.516255e+00</td>\n",
       "      <td>1.415869e+00</td>\n",
       "      <td>1.380247e+00</td>\n",
       "      <td>1.332271e+00</td>\n",
       "      <td>1.237094e+00</td>\n",
       "      <td>1.194353e+00</td>\n",
       "      <td>1.098632e+00</td>\n",
       "      <td>...</td>\n",
       "      <td>7.345240e-01</td>\n",
       "      <td>7.257016e-01</td>\n",
       "      <td>6.244603e-01</td>\n",
       "      <td>6.056471e-01</td>\n",
       "      <td>5.212781e-01</td>\n",
       "      <td>4.822270e-01</td>\n",
       "      <td>4.036325e-01</td>\n",
       "      <td>3.300833e-01</td>\n",
       "      <td>250.120109</td>\n",
       "      <td>0.041527</td>\n",
       "    </tr>\n",
       "    <tr>\n",
       "      <th>min</th>\n",
       "      <td>0.000000</td>\n",
       "      <td>-5.640751e+01</td>\n",
       "      <td>-7.271573e+01</td>\n",
       "      <td>-4.832559e+01</td>\n",
       "      <td>-5.683171e+00</td>\n",
       "      <td>-1.137433e+02</td>\n",
       "      <td>-2.616051e+01</td>\n",
       "      <td>-4.355724e+01</td>\n",
       "      <td>-7.321672e+01</td>\n",
       "      <td>-1.343407e+01</td>\n",
       "      <td>...</td>\n",
       "      <td>-3.483038e+01</td>\n",
       "      <td>-1.093314e+01</td>\n",
       "      <td>-4.480774e+01</td>\n",
       "      <td>-2.836627e+00</td>\n",
       "      <td>-1.029540e+01</td>\n",
       "      <td>-2.604551e+00</td>\n",
       "      <td>-2.256568e+01</td>\n",
       "      <td>-1.543008e+01</td>\n",
       "      <td>0.000000</td>\n",
       "      <td>0.000000</td>\n",
       "    </tr>\n",
       "    <tr>\n",
       "      <th>25%</th>\n",
       "      <td>54201.500000</td>\n",
       "      <td>-9.203734e-01</td>\n",
       "      <td>-5.985499e-01</td>\n",
       "      <td>-8.903648e-01</td>\n",
       "      <td>-8.486401e-01</td>\n",
       "      <td>-6.915971e-01</td>\n",
       "      <td>-7.682956e-01</td>\n",
       "      <td>-5.540759e-01</td>\n",
       "      <td>-2.086297e-01</td>\n",
       "      <td>-6.430976e-01</td>\n",
       "      <td>...</td>\n",
       "      <td>-2.283949e-01</td>\n",
       "      <td>-5.423504e-01</td>\n",
       "      <td>-1.618463e-01</td>\n",
       "      <td>-3.545861e-01</td>\n",
       "      <td>-3.171451e-01</td>\n",
       "      <td>-3.269839e-01</td>\n",
       "      <td>-7.083953e-02</td>\n",
       "      <td>-5.295979e-02</td>\n",
       "      <td>5.600000</td>\n",
       "      <td>0.000000</td>\n",
       "    </tr>\n",
       "    <tr>\n",
       "      <th>50%</th>\n",
       "      <td>84692.000000</td>\n",
       "      <td>1.810880e-02</td>\n",
       "      <td>6.548556e-02</td>\n",
       "      <td>1.798463e-01</td>\n",
       "      <td>-1.984653e-02</td>\n",
       "      <td>-5.433583e-02</td>\n",
       "      <td>-2.741871e-01</td>\n",
       "      <td>4.010308e-02</td>\n",
       "      <td>2.235804e-02</td>\n",
       "      <td>-5.142873e-02</td>\n",
       "      <td>...</td>\n",
       "      <td>-2.945017e-02</td>\n",
       "      <td>6.781943e-03</td>\n",
       "      <td>-1.119293e-02</td>\n",
       "      <td>4.097606e-02</td>\n",
       "      <td>1.659350e-02</td>\n",
       "      <td>-5.213911e-02</td>\n",
       "      <td>1.342146e-03</td>\n",
       "      <td>1.124383e-02</td>\n",
       "      <td>22.000000</td>\n",
       "      <td>0.000000</td>\n",
       "    </tr>\n",
       "    <tr>\n",
       "      <th>75%</th>\n",
       "      <td>139320.500000</td>\n",
       "      <td>1.315642e+00</td>\n",
       "      <td>8.037239e-01</td>\n",
       "      <td>1.027196e+00</td>\n",
       "      <td>7.433413e-01</td>\n",
       "      <td>6.119264e-01</td>\n",
       "      <td>3.985649e-01</td>\n",
       "      <td>5.704361e-01</td>\n",
       "      <td>3.273459e-01</td>\n",
       "      <td>5.971390e-01</td>\n",
       "      <td>...</td>\n",
       "      <td>1.863772e-01</td>\n",
       "      <td>5.285536e-01</td>\n",
       "      <td>1.476421e-01</td>\n",
       "      <td>4.395266e-01</td>\n",
       "      <td>3.507156e-01</td>\n",
       "      <td>2.409522e-01</td>\n",
       "      <td>9.104512e-02</td>\n",
       "      <td>7.827995e-02</td>\n",
       "      <td>77.165000</td>\n",
       "      <td>0.000000</td>\n",
       "    </tr>\n",
       "    <tr>\n",
       "      <th>max</th>\n",
       "      <td>172792.000000</td>\n",
       "      <td>2.454930e+00</td>\n",
       "      <td>2.205773e+01</td>\n",
       "      <td>9.382558e+00</td>\n",
       "      <td>1.687534e+01</td>\n",
       "      <td>3.480167e+01</td>\n",
       "      <td>7.330163e+01</td>\n",
       "      <td>1.205895e+02</td>\n",
       "      <td>2.000721e+01</td>\n",
       "      <td>1.559499e+01</td>\n",
       "      <td>...</td>\n",
       "      <td>2.720284e+01</td>\n",
       "      <td>1.050309e+01</td>\n",
       "      <td>2.252841e+01</td>\n",
       "      <td>4.584549e+00</td>\n",
       "      <td>7.519589e+00</td>\n",
       "      <td>3.517346e+00</td>\n",
       "      <td>3.161220e+01</td>\n",
       "      <td>3.384781e+01</td>\n",
       "      <td>25691.160000</td>\n",
       "      <td>1.000000</td>\n",
       "    </tr>\n",
       "  </tbody>\n",
       "</table>\n",
       "<p>8 rows × 31 columns</p>\n",
       "</div>"
      ],
      "text/plain": [
       "                Time            V1            V2            V3            V4  \\\n",
       "count  284807.000000  2.848070e+05  2.848070e+05  2.848070e+05  2.848070e+05   \n",
       "mean    94813.859575  3.919560e-15  5.688174e-16 -8.769071e-15  2.782312e-15   \n",
       "std     47488.145955  1.958696e+00  1.651309e+00  1.516255e+00  1.415869e+00   \n",
       "min         0.000000 -5.640751e+01 -7.271573e+01 -4.832559e+01 -5.683171e+00   \n",
       "25%     54201.500000 -9.203734e-01 -5.985499e-01 -8.903648e-01 -8.486401e-01   \n",
       "50%     84692.000000  1.810880e-02  6.548556e-02  1.798463e-01 -1.984653e-02   \n",
       "75%    139320.500000  1.315642e+00  8.037239e-01  1.027196e+00  7.433413e-01   \n",
       "max    172792.000000  2.454930e+00  2.205773e+01  9.382558e+00  1.687534e+01   \n",
       "\n",
       "                 V5            V6            V7            V8            V9  \\\n",
       "count  2.848070e+05  2.848070e+05  2.848070e+05  2.848070e+05  2.848070e+05   \n",
       "mean  -1.552563e-15  2.010663e-15 -1.694249e-15 -1.927028e-16 -3.137024e-15   \n",
       "std    1.380247e+00  1.332271e+00  1.237094e+00  1.194353e+00  1.098632e+00   \n",
       "min   -1.137433e+02 -2.616051e+01 -4.355724e+01 -7.321672e+01 -1.343407e+01   \n",
       "25%   -6.915971e-01 -7.682956e-01 -5.540759e-01 -2.086297e-01 -6.430976e-01   \n",
       "50%   -5.433583e-02 -2.741871e-01  4.010308e-02  2.235804e-02 -5.142873e-02   \n",
       "75%    6.119264e-01  3.985649e-01  5.704361e-01  3.273459e-01  5.971390e-01   \n",
       "max    3.480167e+01  7.330163e+01  1.205895e+02  2.000721e+01  1.559499e+01   \n",
       "\n",
       "       ...           V21           V22           V23           V24  \\\n",
       "count  ...  2.848070e+05  2.848070e+05  2.848070e+05  2.848070e+05   \n",
       "mean   ...  1.537294e-16  7.959909e-16  5.367590e-16  4.458112e-15   \n",
       "std    ...  7.345240e-01  7.257016e-01  6.244603e-01  6.056471e-01   \n",
       "min    ... -3.483038e+01 -1.093314e+01 -4.480774e+01 -2.836627e+00   \n",
       "25%    ... -2.283949e-01 -5.423504e-01 -1.618463e-01 -3.545861e-01   \n",
       "50%    ... -2.945017e-02  6.781943e-03 -1.119293e-02  4.097606e-02   \n",
       "75%    ...  1.863772e-01  5.285536e-01  1.476421e-01  4.395266e-01   \n",
       "max    ...  2.720284e+01  1.050309e+01  2.252841e+01  4.584549e+00   \n",
       "\n",
       "                V25           V26           V27           V28         Amount  \\\n",
       "count  2.848070e+05  2.848070e+05  2.848070e+05  2.848070e+05  284807.000000   \n",
       "mean   1.453003e-15  1.699104e-15 -3.660161e-16 -1.206049e-16      88.349619   \n",
       "std    5.212781e-01  4.822270e-01  4.036325e-01  3.300833e-01     250.120109   \n",
       "min   -1.029540e+01 -2.604551e+00 -2.256568e+01 -1.543008e+01       0.000000   \n",
       "25%   -3.171451e-01 -3.269839e-01 -7.083953e-02 -5.295979e-02       5.600000   \n",
       "50%    1.659350e-02 -5.213911e-02  1.342146e-03  1.124383e-02      22.000000   \n",
       "75%    3.507156e-01  2.409522e-01  9.104512e-02  7.827995e-02      77.165000   \n",
       "max    7.519589e+00  3.517346e+00  3.161220e+01  3.384781e+01   25691.160000   \n",
       "\n",
       "               Class  \n",
       "count  284807.000000  \n",
       "mean        0.001727  \n",
       "std         0.041527  \n",
       "min         0.000000  \n",
       "25%         0.000000  \n",
       "50%         0.000000  \n",
       "75%         0.000000  \n",
       "max         1.000000  \n",
       "\n",
       "[8 rows x 31 columns]"
      ]
     },
     "execution_count": 3,
     "metadata": {},
     "output_type": "execute_result"
    }
   ],
   "source": [
    "df.describe() # a quick summary of the dataset"
   ]
  },
  {
   "cell_type": "code",
   "execution_count": 4,
   "metadata": {
    "execution": {
     "iopub.execute_input": "2020-12-05T10:22:14.397932Z",
     "iopub.status.busy": "2020-12-05T10:22:14.397134Z",
     "iopub.status.idle": "2020-12-05T10:22:14.424789Z",
     "shell.execute_reply": "2020-12-05T10:22:14.425351Z"
    },
    "papermill": {
     "duration": 0.103254,
     "end_time": "2020-12-05T10:22:14.425518",
     "exception": false,
     "start_time": "2020-12-05T10:22:14.322264",
     "status": "completed"
    },
    "tags": []
   },
   "outputs": [
    {
     "data": {
      "text/plain": [
       "0"
      ]
     },
     "execution_count": 4,
     "metadata": {},
     "output_type": "execute_result"
    }
   ],
   "source": [
    "df.isnull().sum().sum() # checking for Nan values"
   ]
  },
  {
   "cell_type": "code",
   "execution_count": 5,
   "metadata": {
    "execution": {
     "iopub.execute_input": "2020-12-05T10:22:14.570973Z",
     "iopub.status.busy": "2020-12-05T10:22:14.570218Z",
     "iopub.status.idle": "2020-12-05T10:22:14.580345Z",
     "shell.execute_reply": "2020-12-05T10:22:14.579577Z"
    },
    "papermill": {
     "duration": 0.084469,
     "end_time": "2020-12-05T10:22:14.580472",
     "exception": false,
     "start_time": "2020-12-05T10:22:14.496003",
     "status": "completed"
    },
    "tags": []
   },
   "outputs": [
    {
     "data": {
      "text/plain": [
       "0    284315\n",
       "1       492\n",
       "Name: Class, dtype: int64"
      ]
     },
     "execution_count": 5,
     "metadata": {},
     "output_type": "execute_result"
    }
   ],
   "source": [
    "# checking for imbalance\n",
    "val_count = df['Class'].value_counts()\n",
    "val_count"
   ]
  },
  {
   "cell_type": "code",
   "execution_count": 6,
   "metadata": {
    "execution": {
     "iopub.execute_input": "2020-12-05T10:22:14.728798Z",
     "iopub.status.busy": "2020-12-05T10:22:14.727974Z",
     "iopub.status.idle": "2020-12-05T10:22:14.755908Z",
     "shell.execute_reply": "2020-12-05T10:22:14.755078Z"
    },
    "papermill": {
     "duration": 0.104457,
     "end_time": "2020-12-05T10:22:14.756047",
     "exception": false,
     "start_time": "2020-12-05T10:22:14.651590",
     "status": "completed"
    },
    "tags": []
   },
   "outputs": [
    {
     "data": {
      "text/plain": [
       "0    577.876016\n",
       "1      1.000000\n",
       "Name: Class, dtype: float64"
      ]
     },
     "execution_count": 6,
     "metadata": {},
     "output_type": "execute_result"
    }
   ],
   "source": [
    "val_count / val_count[1] # imbalace ratio"
   ]
  },
  {
   "cell_type": "code",
   "execution_count": 7,
   "metadata": {
    "execution": {
     "iopub.execute_input": "2020-12-05T10:22:14.907855Z",
     "iopub.status.busy": "2020-12-05T10:22:14.907010Z",
     "iopub.status.idle": "2020-12-05T10:22:14.911752Z",
     "shell.execute_reply": "2020-12-05T10:22:14.911101Z"
    },
    "papermill": {
     "duration": 0.081947,
     "end_time": "2020-12-05T10:22:14.911910",
     "exception": false,
     "start_time": "2020-12-05T10:22:14.829963",
     "status": "completed"
    },
    "tags": []
   },
   "outputs": [
    {
     "data": {
      "text/plain": [
       "0.1727485630620034"
      ]
     },
     "execution_count": 7,
     "metadata": {},
     "output_type": "execute_result"
    }
   ],
   "source": [
    "100 * val_count[1] / val_count.sum() # checking percentage of minority class"
   ]
  },
  {
   "cell_type": "markdown",
   "metadata": {
    "papermill": {
     "duration": 0.072944,
     "end_time": "2020-12-05T10:22:15.059512",
     "exception": false,
     "start_time": "2020-12-05T10:22:14.986568",
     "status": "completed"
    },
    "tags": []
   },
   "source": [
    "### The dataset is heavily unbalanced."
   ]
  },
  {
   "cell_type": "markdown",
   "metadata": {
    "papermill": {
     "duration": 0.077065,
     "end_time": "2020-12-05T10:22:15.209815",
     "exception": false,
     "start_time": "2020-12-05T10:22:15.132750",
     "status": "completed"
    },
    "tags": []
   },
   "source": [
    "### Correlation check"
   ]
  },
  {
   "cell_type": "code",
   "execution_count": 8,
   "metadata": {
    "execution": {
     "iopub.execute_input": "2020-12-05T10:22:15.392093Z",
     "iopub.status.busy": "2020-12-05T10:22:15.391060Z",
     "iopub.status.idle": "2020-12-05T10:22:16.655107Z",
     "shell.execute_reply": "2020-12-05T10:22:16.654294Z"
    },
    "papermill": {
     "duration": 1.371768,
     "end_time": "2020-12-05T10:22:16.655253",
     "exception": false,
     "start_time": "2020-12-05T10:22:15.283485",
     "status": "completed"
    },
    "tags": []
   },
   "outputs": [
    {
     "data": {
      "image/png": "[encoded data removed]",
      "text/plain": [
       "<Figure size 1296x504 with 2 Axes>"
      ]
     },
     "metadata": {
      "needs_background": "light"
     },
     "output_type": "display_data"
    }
   ],
   "source": [
    "df_corr = df.iloc[:, :-1].corr() # gets the correlation matrix\n",
    "\n",
    "mask = np.triu(np.ones((30, 30))) #to mask out the upper triangular matrix of the heatmap because the\n",
    "                                  # lower triangular matrix alone contains all collinearities.\n",
    "\n",
    "plt.figure(figsize=(18, 7)) \n",
    "sns.heatmap(df_corr, mask=mask, xticklabels=True, yticklabels=True, cmap='coolwarm')\n",
    "#xticklabels and yticklabels are set to True to display all columns in the heatmap\n",
    "\n",
    "plt.show()\n"
   ]
  },
  {
   "cell_type": "markdown",
   "metadata": {
    "papermill": {
     "duration": 0.07867,
     "end_time": "2020-12-05T10:22:16.809701",
     "exception": false,
     "start_time": "2020-12-05T10:22:16.731031",
     "status": "completed"
    },
    "tags": []
   },
   "source": [
    "### We expected the little collinearity because features v1 to v28 have been transformed using PCA, so they are expected to be independent."
   ]
  },
  {
   "cell_type": "markdown",
   "metadata": {
    "papermill": {
     "duration": 0.077975,
     "end_time": "2020-12-05T10:22:16.962500",
     "exception": false,
     "start_time": "2020-12-05T10:22:16.884525",
     "status": "completed"
    },
    "tags": []
   },
   "source": [
    "## By PCA"
   ]
  },
  {
   "cell_type": "markdown",
   "metadata": {
    "papermill": {
     "duration": 0.075307,
     "end_time": "2020-12-05T10:22:17.114394",
     "exception": false,
     "start_time": "2020-12-05T10:22:17.039087",
     "status": "completed"
    },
    "tags": []
   },
   "source": [
    "### Exploring the PCA features"
   ]
  },
  {
   "cell_type": "markdown",
   "metadata": {
    "papermill": {
     "duration": 0.073726,
     "end_time": "2020-12-05T10:22:17.262180",
     "exception": false,
     "start_time": "2020-12-05T10:22:17.188454",
     "status": "completed"
    },
    "tags": []
   },
   "source": [
    "### We know that PCA results are such that the features are sorted in descending order of explained variance. Let's confirm that in our PCA features."
   ]
  },
  {
   "cell_type": "code",
   "execution_count": 9,
   "metadata": {
    "execution": {
     "iopub.execute_input": "2020-12-05T10:22:17.419295Z",
     "iopub.status.busy": "2020-12-05T10:22:17.418505Z",
     "iopub.status.idle": "2020-12-05T10:22:17.453923Z",
     "shell.execute_reply": "2020-12-05T10:22:17.453119Z"
    },
    "papermill": {
     "duration": 0.116077,
     "end_time": "2020-12-05T10:22:17.454075",
     "exception": false,
     "start_time": "2020-12-05T10:22:17.337998",
     "status": "completed"
    },
    "tags": []
   },
   "outputs": [],
   "source": [
    "# calculating the variance fraction (aka variance ratio)\n",
    "variance = []\n",
    "for vi in df.columns[1:29]:\n",
    "    variance.append(df[vi].var())\n",
    "variance = np.array(variance) / sum(variance)"
   ]
  },
  {
   "cell_type": "code",
   "execution_count": 10,
   "metadata": {
    "execution": {
     "iopub.execute_input": "2020-12-05T10:22:17.607136Z",
     "iopub.status.busy": "2020-12-05T10:22:17.606266Z",
     "iopub.status.idle": "2020-12-05T10:22:17.610916Z",
     "shell.execute_reply": "2020-12-05T10:22:17.610287Z"
    },
    "papermill": {
     "duration": 0.083388,
     "end_time": "2020-12-05T10:22:17.611058",
     "exception": false,
     "start_time": "2020-12-05T10:22:17.527670",
     "status": "completed"
    },
    "tags": []
   },
   "outputs": [
    {
     "data": {
      "text/plain": [
       "array([0.12483757, 0.08872945, 0.07480934, 0.06523148, 0.06199045,\n",
       "       0.05775592, 0.04979852, 0.04641696, 0.03927497, 0.03857867,\n",
       "       0.03390148, 0.03248758, 0.03223271, 0.02990076, 0.02726173,\n",
       "       0.02498448, 0.02347316, 0.0228603 , 0.02156271, 0.01933907,\n",
       "       0.01755591, 0.01713671, 0.01268881, 0.01193577, 0.00884199,\n",
       "       0.00756684, 0.00530131, 0.00354534])"
      ]
     },
     "execution_count": 10,
     "metadata": {},
     "output_type": "execute_result"
    }
   ],
   "source": [
    "variance"
   ]
  },
  {
   "cell_type": "markdown",
   "metadata": {
    "papermill": {
     "duration": 0.073716,
     "end_time": "2020-12-05T10:22:17.758320",
     "exception": false,
     "start_time": "2020-12-05T10:22:17.684604",
     "status": "completed"
    },
    "tags": []
   },
   "source": [
    "### We see that the PCA features are indeed sorted in descending order of explained variance."
   ]
  },
  {
   "cell_type": "code",
   "execution_count": 11,
   "metadata": {
    "execution": {
     "iopub.execute_input": "2020-12-05T10:22:17.916022Z",
     "iopub.status.busy": "2020-12-05T10:22:17.915126Z",
     "iopub.status.idle": "2020-12-05T10:22:17.919454Z",
     "shell.execute_reply": "2020-12-05T10:22:17.918589Z"
    },
    "papermill": {
     "duration": 0.085562,
     "end_time": "2020-12-05T10:22:17.919582",
     "exception": false,
     "start_time": "2020-12-05T10:22:17.834020",
     "status": "completed"
    },
    "tags": []
   },
   "outputs": [
    {
     "data": {
      "text/plain": [
       "array([0.12483757, 0.21356702, 0.28837636, 0.35360784, 0.41559829,\n",
       "       0.47335421, 0.52315273, 0.56956969, 0.60884466, 0.64742333,\n",
       "       0.68132481, 0.71381239, 0.7460451 , 0.77594586, 0.80320759,\n",
       "       0.82819207, 0.85166522, 0.87452552, 0.89608823, 0.91542731,\n",
       "       0.93298321, 0.95011992, 0.96280874, 0.97474451, 0.9835865 ,\n",
       "       0.99115334, 0.99645466, 1.        ])"
      ]
     },
     "execution_count": 11,
     "metadata": {},
     "output_type": "execute_result"
    }
   ],
   "source": [
    "# checking the cummulative sum to see how the cummulative explained variance fraction increases\n",
    "c_variance = np.cumsum(variance)\n",
    "c_variance"
   ]
  },
  {
   "cell_type": "code",
   "execution_count": 12,
   "metadata": {
    "execution": {
     "iopub.execute_input": "2020-12-05T10:22:18.082551Z",
     "iopub.status.busy": "2020-12-05T10:22:18.081793Z",
     "iopub.status.idle": "2020-12-05T10:22:18.085287Z",
     "shell.execute_reply": "2020-12-05T10:22:18.084538Z"
    },
    "papermill": {
     "duration": 0.089157,
     "end_time": "2020-12-05T10:22:18.085412",
     "exception": false,
     "start_time": "2020-12-05T10:22:17.996255",
     "status": "completed"
    },
    "tags": []
   },
   "outputs": [],
   "source": [
    "# defining a function to return the number of pca features needed to explain a given variance fraction\n",
    "def n_from_cumsum(frac):\n",
    "    res = c_variance[c_variance <= frac]\n",
    "    return len(res)"
   ]
  },
  {
   "cell_type": "code",
   "execution_count": 13,
   "metadata": {
    "execution": {
     "iopub.execute_input": "2020-12-05T10:22:18.242500Z",
     "iopub.status.busy": "2020-12-05T10:22:18.241471Z",
     "iopub.status.idle": "2020-12-05T10:22:18.245631Z",
     "shell.execute_reply": "2020-12-05T10:22:18.246211Z"
    },
    "papermill": {
     "duration": 0.085341,
     "end_time": "2020-12-05T10:22:18.246379",
     "exception": false,
     "start_time": "2020-12-05T10:22:18.161038",
     "status": "completed"
    },
    "tags": []
   },
   "outputs": [
    {
     "data": {
      "text/plain": [
       "14"
      ]
     },
     "execution_count": 13,
     "metadata": {},
     "output_type": "execute_result"
    }
   ],
   "source": [
    "n_from_cumsum(0.8)"
   ]
  },
  {
   "cell_type": "code",
   "execution_count": 14,
   "metadata": {
    "execution": {
     "iopub.execute_input": "2020-12-05T10:22:18.439092Z",
     "iopub.status.busy": "2020-12-05T10:22:18.438027Z",
     "iopub.status.idle": "2020-12-05T10:22:18.442879Z",
     "shell.execute_reply": "2020-12-05T10:22:18.441994Z"
    },
    "papermill": {
     "duration": 0.120064,
     "end_time": "2020-12-05T10:22:18.443049",
     "exception": false,
     "start_time": "2020-12-05T10:22:18.322985",
     "status": "completed"
    },
    "tags": []
   },
   "outputs": [
    {
     "data": {
      "text/plain": [
       "19"
      ]
     },
     "execution_count": 14,
     "metadata": {},
     "output_type": "execute_result"
    }
   ],
   "source": [
    "n_from_cumsum(0.9)"
   ]
  },
  {
   "cell_type": "markdown",
   "metadata": {
    "papermill": {
     "duration": 0.076123,
     "end_time": "2020-12-05T10:22:18.610390",
     "exception": false,
     "start_time": "2020-12-05T10:22:18.534267",
     "status": "completed"
    },
    "tags": []
   },
   "source": [
    "## Scattered plots of some PCA features"
   ]
  },
  {
   "cell_type": "code",
   "execution_count": 15,
   "metadata": {
    "execution": {
     "iopub.execute_input": "2020-12-05T10:22:18.779029Z",
     "iopub.status.busy": "2020-12-05T10:22:18.777882Z",
     "iopub.status.idle": "2020-12-05T10:22:18.781896Z",
     "shell.execute_reply": "2020-12-05T10:22:18.781220Z"
    },
    "papermill": {
     "duration": 0.091311,
     "end_time": "2020-12-05T10:22:18.782031",
     "exception": false,
     "start_time": "2020-12-05T10:22:18.690720",
     "status": "completed"
    },
    "tags": []
   },
   "outputs": [],
   "source": [
    "def plot_features(x, y):\n",
    "    scatter = plt.scatter(df[x], df[y], c=df['Class'])\n",
    "    plt.legend(handles=scatter.legend_elements()[0], labels=['not_fraud', 'fraud'])\n",
    "    plt.xlabel(x)\n",
    "    plt.ylabel(y)\n",
    "    plt.show()"
   ]
  },
  {
   "cell_type": "code",
   "execution_count": 16,
   "metadata": {
    "execution": {
     "iopub.execute_input": "2020-12-05T10:22:18.956318Z",
     "iopub.status.busy": "2020-12-05T10:22:18.955350Z",
     "iopub.status.idle": "2020-12-05T10:22:28.098786Z",
     "shell.execute_reply": "2020-12-05T10:22:28.097802Z"
    },
    "papermill": {
     "duration": 9.239629,
     "end_time": "2020-12-05T10:22:28.098976",
     "exception": false,
     "start_time": "2020-12-05T10:22:18.859347",
     "status": "completed"
    },
    "tags": []
   },
   "outputs": [
    {
     "data": {
      "image/png": "[encoded data removed]",
      "text/plain": [
       "<Figure size 432x288 with 1 Axes>"
      ]
     },
     "metadata": {
      "needs_background": "light"
     },
     "output_type": "display_data"
    }
   ],
   "source": [
    "plot_features('V1', 'V2')"
   ]
  },
  {
   "cell_type": "code",
   "execution_count": 17,
   "metadata": {
    "execution": {
     "iopub.execute_input": "2020-12-05T10:22:28.278566Z",
     "iopub.status.busy": "2020-12-05T10:22:28.275984Z",
     "iopub.status.idle": "2020-12-05T10:22:37.243439Z",
     "shell.execute_reply": "2020-12-05T10:22:37.242670Z"
    },
    "papermill": {
     "duration": 9.063714,
     "end_time": "2020-12-05T10:22:37.243569",
     "exception": false,
     "start_time": "2020-12-05T10:22:28.179855",
     "status": "completed"
    },
    "tags": []
   },
   "outputs": [
    {
     "data": {
      "image/png": "[encoded data removed]",
      "text/plain": [
       "<Figure size 432x288 with 1 Axes>"
      ]
     },
     "metadata": {
      "needs_background": "light"
     },
     "output_type": "display_data"
    }
   ],
   "source": [
    "plot_features('V1', 'V3')"
   ]
  },
  {
   "cell_type": "code",
   "execution_count": 18,
   "metadata": {
    "execution": {
     "iopub.execute_input": "2020-12-05T10:22:37.514589Z",
     "iopub.status.busy": "2020-12-05T10:22:37.513829Z",
     "iopub.status.idle": "2020-12-05T10:22:45.327957Z",
     "shell.execute_reply": "2020-12-05T10:22:45.327248Z"
    },
    "papermill": {
     "duration": 8.003402,
     "end_time": "2020-12-05T10:22:45.328100",
     "exception": false,
     "start_time": "2020-12-05T10:22:37.324698",
     "status": "completed"
    },
    "tags": []
   },
   "outputs": [
    {
     "data": {
      "image/png": "[encoded data removed]",
      "text/plain": [
       "<Figure size 432x288 with 1 Axes>"
      ]
     },
     "metadata": {
      "needs_background": "light"
     },
     "output_type": "display_data"
    }
   ],
   "source": [
    "plot_features('V1', 'V4')"
   ]
  },
  {
   "cell_type": "markdown",
   "metadata": {
    "papermill": {
     "duration": 0.079677,
     "end_time": "2020-12-05T10:22:45.488221",
     "exception": false,
     "start_time": "2020-12-05T10:22:45.408544",
     "status": "completed"
    },
    "tags": []
   },
   "source": [
    "## By Time"
   ]
  },
  {
   "cell_type": "code",
   "execution_count": 19,
   "metadata": {
    "execution": {
     "iopub.execute_input": "2020-12-05T10:22:45.664277Z",
     "iopub.status.busy": "2020-12-05T10:22:45.663129Z",
     "iopub.status.idle": "2020-12-05T10:22:46.361490Z",
     "shell.execute_reply": "2020-12-05T10:22:46.360805Z"
    },
    "papermill": {
     "duration": 0.793083,
     "end_time": "2020-12-05T10:22:46.361620",
     "exception": false,
     "start_time": "2020-12-05T10:22:45.568537",
     "status": "completed"
    },
    "tags": []
   },
   "outputs": [
    {
     "data": {
      "image/png": "[encoded data removed]",
      "text/plain": [
       "<Figure size 1296x288 with 1 Axes>"
      ]
     },
     "metadata": {
      "needs_background": "light"
     },
     "output_type": "display_data"
    }
   ],
   "source": [
    "plt.figure(figsize=(18, 4)) \n",
    "plt.scatter(df['Time'], df['Class'])\n",
    "plt.show()"
   ]
  },
  {
   "cell_type": "markdown",
   "metadata": {
    "papermill": {
     "duration": 0.089365,
     "end_time": "2020-12-05T10:22:46.541246",
     "exception": false,
     "start_time": "2020-12-05T10:22:46.451881",
     "status": "completed"
    },
    "tags": []
   },
   "source": [
    "### We see a constant non-fraudulent transaction throughout the duration of the dataset but some gaps in time for fraudulent activities. Those gaps tend to repeat themselves approximately in intervals."
   ]
  },
  {
   "cell_type": "code",
   "execution_count": null,
   "metadata": {
    "papermill": {
     "duration": 0.082637,
     "end_time": "2020-12-05T10:22:46.704903",
     "exception": false,
     "start_time": "2020-12-05T10:22:46.622266",
     "status": "completed"
    },
    "tags": []
   },
   "outputs": [],
   "source": []
  },
  {
   "cell_type": "code",
   "execution_count": 20,
   "metadata": {
    "execution": {
     "iopub.execute_input": "2020-12-05T10:22:46.878837Z",
     "iopub.status.busy": "2020-12-05T10:22:46.877648Z",
     "iopub.status.idle": "2020-12-05T10:22:47.048882Z",
     "shell.execute_reply": "2020-12-05T10:22:47.048131Z"
    },
    "papermill": {
     "duration": 0.262457,
     "end_time": "2020-12-05T10:22:47.049012",
     "exception": false,
     "start_time": "2020-12-05T10:22:46.786555",
     "status": "completed"
    },
    "tags": []
   },
   "outputs": [
    {
     "data": {
      "image/png": "[encoded data removed]",
      "text/plain": [
       "<Figure size 432x288 with 1 Axes>"
      ]
     },
     "metadata": {
      "needs_background": "light"
     },
     "output_type": "display_data"
    }
   ],
   "source": [
    "# using box plot to check the distribution of fraudulent and non-fraudulent transactions with time.\n",
    "sns.boxplot(y='Time', x='Class', data=df)\n",
    "plt.show()"
   ]
  },
  {
   "cell_type": "code",
   "execution_count": 21,
   "metadata": {
    "execution": {
     "iopub.execute_input": "2020-12-05T10:22:47.221301Z",
     "iopub.status.busy": "2020-12-05T10:22:47.220459Z",
     "iopub.status.idle": "2020-12-05T10:22:47.258053Z",
     "shell.execute_reply": "2020-12-05T10:22:47.257238Z"
    },
    "papermill": {
     "duration": 0.126573,
     "end_time": "2020-12-05T10:22:47.258191",
     "exception": false,
     "start_time": "2020-12-05T10:22:47.131618",
     "status": "completed"
    },
    "tags": []
   },
   "outputs": [],
   "source": [
    "fraud = df[df['Class'] == 1] # pulling out rows where transaction is fraud\n",
    "not_fraud = df[df['Class'] == 0] # pulling out rows where transaction is not fraud"
   ]
  },
  {
   "cell_type": "code",
   "execution_count": 22,
   "metadata": {
    "execution": {
     "iopub.execute_input": "2020-12-05T10:22:47.434652Z",
     "iopub.status.busy": "2020-12-05T10:22:47.433825Z",
     "iopub.status.idle": "2020-12-05T10:22:47.438426Z",
     "shell.execute_reply": "2020-12-05T10:22:47.437806Z"
    },
    "papermill": {
     "duration": 0.097091,
     "end_time": "2020-12-05T10:22:47.438549",
     "exception": false,
     "start_time": "2020-12-05T10:22:47.341458",
     "status": "completed"
    },
    "tags": []
   },
   "outputs": [
    {
     "data": {
      "text/plain": [
       "count       492.000000\n",
       "mean      80746.806911\n",
       "std       47835.365138\n",
       "min         406.000000\n",
       "25%       41241.500000\n",
       "50%       75568.500000\n",
       "75%      128483.000000\n",
       "max      170348.000000\n",
       "Name: Time, dtype: float64"
      ]
     },
     "execution_count": 22,
     "metadata": {},
     "output_type": "execute_result"
    }
   ],
   "source": [
    "fraud['Time'].describe() # quick summary "
   ]
  },
  {
   "cell_type": "code",
   "execution_count": 23,
   "metadata": {
    "execution": {
     "iopub.execute_input": "2020-12-05T10:22:47.663337Z",
     "iopub.status.busy": "2020-12-05T10:22:47.662254Z",
     "iopub.status.idle": "2020-12-05T10:22:47.676016Z",
     "shell.execute_reply": "2020-12-05T10:22:47.675395Z"
    },
    "papermill": {
     "duration": 0.154308,
     "end_time": "2020-12-05T10:22:47.676157",
     "exception": false,
     "start_time": "2020-12-05T10:22:47.521849",
     "status": "completed"
    },
    "tags": []
   },
   "outputs": [
    {
     "data": {
      "text/plain": [
       "count    284315.000000\n",
       "mean      94838.202258\n",
       "std       47484.015786\n",
       "min           0.000000\n",
       "25%       54230.000000\n",
       "50%       84711.000000\n",
       "75%      139333.000000\n",
       "max      172792.000000\n",
       "Name: Time, dtype: float64"
      ]
     },
     "execution_count": 23,
     "metadata": {},
     "output_type": "execute_result"
    }
   ],
   "source": [
    "not_fraud['Time'].describe() # quick summary"
   ]
  },
  {
   "cell_type": "markdown",
   "metadata": {
    "papermill": {
     "duration": 0.085458,
     "end_time": "2020-12-05T10:22:47.845477",
     "exception": false,
     "start_time": "2020-12-05T10:22:47.760019",
     "status": "completed"
    },
    "tags": []
   },
   "source": [
    "### There is a slight different between the elapsed time for fraudulent and non-fraudulent activities for example, the starting and ending time. "
   ]
  },
  {
   "cell_type": "markdown",
   "metadata": {
    "papermill": {
     "duration": 0.083773,
     "end_time": "2020-12-05T10:22:48.014014",
     "exception": false,
     "start_time": "2020-12-05T10:22:47.930241",
     "status": "completed"
    },
    "tags": []
   },
   "source": [
    "## By Amount"
   ]
  },
  {
   "cell_type": "code",
   "execution_count": null,
   "metadata": {
    "papermill": {
     "duration": 0.084498,
     "end_time": "2020-12-05T10:22:48.182284",
     "exception": false,
     "start_time": "2020-12-05T10:22:48.097786",
     "status": "completed"
    },
    "tags": []
   },
   "outputs": [],
   "source": []
  },
  {
   "cell_type": "code",
   "execution_count": 24,
   "metadata": {
    "execution": {
     "iopub.execute_input": "2020-12-05T10:22:48.356952Z",
     "iopub.status.busy": "2020-12-05T10:22:48.356075Z",
     "iopub.status.idle": "2020-12-05T10:22:48.530990Z",
     "shell.execute_reply": "2020-12-05T10:22:48.530208Z"
    },
    "papermill": {
     "duration": 0.265251,
     "end_time": "2020-12-05T10:22:48.531126",
     "exception": false,
     "start_time": "2020-12-05T10:22:48.265875",
     "status": "completed"
    },
    "tags": []
   },
   "outputs": [
    {
     "data": {
      "image/png": "[encoded data removed]",
      "text/plain": [
       "<Figure size 432x288 with 1 Axes>"
      ]
     },
     "metadata": {
      "needs_background": "light"
     },
     "output_type": "display_data"
    }
   ],
   "source": [
    "plt.hist(fraud['Amount']) # checking amount involved in fraud\n",
    "plt.show()"
   ]
  },
  {
   "cell_type": "markdown",
   "metadata": {
    "papermill": {
     "duration": 0.084406,
     "end_time": "2020-12-05T10:22:48.700338",
     "exception": false,
     "start_time": "2020-12-05T10:22:48.615932",
     "status": "completed"
    },
    "tags": []
   },
   "source": [
    "### Amounts associated with fraud are more of lower values (<167)"
   ]
  },
  {
   "cell_type": "code",
   "execution_count": 25,
   "metadata": {
    "execution": {
     "iopub.execute_input": "2020-12-05T10:22:48.883550Z",
     "iopub.status.busy": "2020-12-05T10:22:48.882802Z",
     "iopub.status.idle": "2020-12-05T10:22:49.577799Z",
     "shell.execute_reply": "2020-12-05T10:22:49.576986Z"
    },
    "papermill": {
     "duration": 0.792401,
     "end_time": "2020-12-05T10:22:49.577931",
     "exception": false,
     "start_time": "2020-12-05T10:22:48.785530",
     "status": "completed"
    },
    "tags": []
   },
   "outputs": [
    {
     "data": {
      "image/png": "[encoded data removed]",
      "text/plain": [
       "<Figure size 1296x288 with 1 Axes>"
      ]
     },
     "metadata": {
      "needs_background": "light"
     },
     "output_type": "display_data"
    }
   ],
   "source": [
    "plt.figure(figsize=(18, 4)) \n",
    "plt.scatter(df['Amount'], df['Class'])\n",
    "plt.show()"
   ]
  },
  {
   "cell_type": "code",
   "execution_count": null,
   "metadata": {
    "papermill": {
     "duration": 0.086161,
     "end_time": "2020-12-05T10:22:49.749713",
     "exception": false,
     "start_time": "2020-12-05T10:22:49.663552",
     "status": "completed"
    },
    "tags": []
   },
   "outputs": [],
   "source": []
  },
  {
   "cell_type": "code",
   "execution_count": 26,
   "metadata": {
    "execution": {
     "iopub.execute_input": "2020-12-05T10:22:49.930408Z",
     "iopub.status.busy": "2020-12-05T10:22:49.928880Z",
     "iopub.status.idle": "2020-12-05T10:22:50.460924Z",
     "shell.execute_reply": "2020-12-05T10:22:50.460161Z"
    },
    "papermill": {
     "duration": 0.625435,
     "end_time": "2020-12-05T10:22:50.461051",
     "exception": false,
     "start_time": "2020-12-05T10:22:49.835616",
     "status": "completed"
    },
    "tags": []
   },
   "outputs": [
    {
     "data": {
      "image/png": "[encoded data removed]",
      "text/plain": [
       "<Figure size 432x288 with 1 Axes>"
      ]
     },
     "metadata": {
      "needs_background": "light"
     },
     "output_type": "display_data"
    }
   ],
   "source": [
    "sns.boxplot(y='Amount', x=df['Class'], data=np.log(df)) # using the log of the Amount due to the \n",
    "                                                        # large skewness\n",
    "plt.show()"
   ]
  },
  {
   "cell_type": "code",
   "execution_count": 27,
   "metadata": {
    "execution": {
     "iopub.execute_input": "2020-12-05T10:22:50.645852Z",
     "iopub.status.busy": "2020-12-05T10:22:50.642399Z",
     "iopub.status.idle": "2020-12-05T10:22:50.650475Z",
     "shell.execute_reply": "2020-12-05T10:22:50.649784Z"
    },
    "papermill": {
     "duration": 0.10251,
     "end_time": "2020-12-05T10:22:50.650607",
     "exception": false,
     "start_time": "2020-12-05T10:22:50.548097",
     "status": "completed"
    },
    "tags": []
   },
   "outputs": [
    {
     "data": {
      "text/plain": [
       "count     492.000000\n",
       "mean      122.211321\n",
       "std       256.683288\n",
       "min         0.000000\n",
       "25%         1.000000\n",
       "50%         9.250000\n",
       "75%       105.890000\n",
       "max      2125.870000\n",
       "Name: Amount, dtype: float64"
      ]
     },
     "execution_count": 27,
     "metadata": {},
     "output_type": "execute_result"
    }
   ],
   "source": [
    "fraud['Amount'].describe()"
   ]
  },
  {
   "cell_type": "code",
   "execution_count": 28,
   "metadata": {
    "execution": {
     "iopub.execute_input": "2020-12-05T10:22:50.834356Z",
     "iopub.status.busy": "2020-12-05T10:22:50.833545Z",
     "iopub.status.idle": "2020-12-05T10:22:50.853636Z",
     "shell.execute_reply": "2020-12-05T10:22:50.852981Z"
    },
    "papermill": {
     "duration": 0.116097,
     "end_time": "2020-12-05T10:22:50.853778",
     "exception": false,
     "start_time": "2020-12-05T10:22:50.737681",
     "status": "completed"
    },
    "tags": []
   },
   "outputs": [
    {
     "data": {
      "text/plain": [
       "count    284315.000000\n",
       "mean         88.291022\n",
       "std         250.105092\n",
       "min           0.000000\n",
       "25%           5.650000\n",
       "50%          22.000000\n",
       "75%          77.050000\n",
       "max       25691.160000\n",
       "Name: Amount, dtype: float64"
      ]
     },
     "execution_count": 28,
     "metadata": {},
     "output_type": "execute_result"
    }
   ],
   "source": [
    "not_fraud['Amount'].describe()"
   ]
  },
  {
   "cell_type": "markdown",
   "metadata": {
    "papermill": {
     "duration": 0.088148,
     "end_time": "2020-12-05T10:22:51.029847",
     "exception": false,
     "start_time": "2020-12-05T10:22:50.941699",
     "status": "completed"
    },
    "tags": []
   },
   "source": [
    "### There is a slight different between the Amount for fraudulent and non-fraudulent activities for example, the max Amount. "
   ]
  },
  {
   "cell_type": "markdown",
   "metadata": {
    "papermill": {
     "duration": 0.08772,
     "end_time": "2020-12-05T10:22:51.208575",
     "exception": false,
     "start_time": "2020-12-05T10:22:51.120855",
     "status": "completed"
    },
    "tags": []
   },
   "source": [
    "## Feature Selection"
   ]
  },
  {
   "cell_type": "markdown",
   "metadata": {
    "papermill": {
     "duration": 0.092615,
     "end_time": "2020-12-05T10:22:51.403161",
     "exception": false,
     "start_time": "2020-12-05T10:22:51.310546",
     "status": "completed"
    },
    "tags": []
   },
   "source": [
    "### For our feature selection, we will be using Recursive Feature Elimination Cross Validation (RFECV), we will use LogisticRegression as our baseline model and all our splits will be stratified."
   ]
  },
  {
   "cell_type": "code",
   "execution_count": 29,
   "metadata": {
    "execution": {
     "iopub.execute_input": "2020-12-05T10:22:51.601371Z",
     "iopub.status.busy": "2020-12-05T10:22:51.600552Z",
     "iopub.status.idle": "2020-12-05T10:22:51.907930Z",
     "shell.execute_reply": "2020-12-05T10:22:51.907134Z"
    },
    "papermill": {
     "duration": 0.407879,
     "end_time": "2020-12-05T10:22:51.908153",
     "exception": false,
     "start_time": "2020-12-05T10:22:51.500274",
     "status": "completed"
    },
    "tags": []
   },
   "outputs": [],
   "source": [
    "from sklearn.feature_selection import RFECV\n",
    "from sklearn.linear_model import LogisticRegression\n",
    "from sklearn.model_selection import StratifiedKFold"
   ]
  },
  {
   "cell_type": "markdown",
   "metadata": {
    "papermill": {
     "duration": 0.096243,
     "end_time": "2020-12-05T10:22:52.097523",
     "exception": false,
     "start_time": "2020-12-05T10:22:52.001280",
     "status": "completed"
    },
    "tags": []
   },
   "source": [
    "## Only PCA Features"
   ]
  },
  {
   "cell_type": "markdown",
   "metadata": {
    "papermill": {
     "duration": 0.089152,
     "end_time": "2020-12-05T10:22:52.277606",
     "exception": false,
     "start_time": "2020-12-05T10:22:52.188454",
     "status": "completed"
    },
    "tags": []
   },
   "source": [
    "### Modeling using only PCA features without scaling"
   ]
  },
  {
   "cell_type": "code",
   "execution_count": 30,
   "metadata": {
    "execution": {
     "iopub.execute_input": "2020-12-05T10:22:52.487250Z",
     "iopub.status.busy": "2020-12-05T10:22:52.486288Z",
     "iopub.status.idle": "2020-12-05T10:22:52.489457Z",
     "shell.execute_reply": "2020-12-05T10:22:52.488715Z"
    },
    "papermill": {
     "duration": 0.121122,
     "end_time": "2020-12-05T10:22:52.489585",
     "exception": false,
     "start_time": "2020-12-05T10:22:52.368463",
     "status": "completed"
    },
    "tags": []
   },
   "outputs": [],
   "source": [
    "X_pca = df.iloc[:, 1:29]\n",
    "y = df.iloc[:, -1]"
   ]
  },
  {
   "cell_type": "markdown",
   "metadata": {
    "papermill": {
     "duration": 0.087964,
     "end_time": "2020-12-05T10:22:52.667698",
     "exception": false,
     "start_time": "2020-12-05T10:22:52.579734",
     "status": "completed"
    },
    "tags": []
   },
   "source": [
    "### Due to the huge class imbalance, we will be setting the class weights to penalize misclassification of the minority class more than the majority class. We could have simply set the ````class_weight```` to 'balanced' but this will result in lower f1 score because it uses the formula: $ w_{i} = \\frac{n\\_samples}{n\\_classes \\times n_{i}} $ \n",
    "### Since $\\frac{n\\_samples}{n\\_classes}$ is constant, we can think of the weight for class i as $w_{i} = K \\times \\frac{1}{n_{i}}$ which is essentially a scaling of the weight $\\frac{1}{n_{i}}$ by K. \n",
    "### Since our dataset is heavily unbalanced, using 'balanced' will make the weights to be too large and will make our model iterate more to reach the minimum gradient. Logistic Regressor default ````max_iter```` is 100 and after trying using 'balanced', the f1_score was poor because 100 iterations wasn't enough. To make our model converge faster to the minimum gradient, we will simpl use our weights as $\\frac{1}{n_{i}}$ without multiplying by K. This wouldn't change anything because the ratio of weights of each class is still preserved. This will only make our baseline model converge faster."
   ]
  },
  {
   "cell_type": "code",
   "execution_count": 31,
   "metadata": {
    "execution": {
     "iopub.execute_input": "2020-12-05T10:22:52.854320Z",
     "iopub.status.busy": "2020-12-05T10:22:52.853358Z",
     "iopub.status.idle": "2020-12-05T10:22:52.858131Z",
     "shell.execute_reply": "2020-12-05T10:22:52.857391Z"
    },
    "papermill": {
     "duration": 0.100473,
     "end_time": "2020-12-05T10:22:52.858259",
     "exception": false,
     "start_time": "2020-12-05T10:22:52.757786",
     "status": "completed"
    },
    "tags": []
   },
   "outputs": [
    {
     "data": {
      "text/plain": [
       "{0: 3.51722561243691e-06, 1: 0.0020325203252032522}"
      ]
     },
     "execution_count": 31,
     "metadata": {},
     "output_type": "execute_result"
    }
   ],
   "source": [
    "weights = 1 / val_count\n",
    "dict(weights)"
   ]
  },
  {
   "cell_type": "code",
   "execution_count": 32,
   "metadata": {
    "execution": {
     "iopub.execute_input": "2020-12-05T10:22:53.046229Z",
     "iopub.status.busy": "2020-12-05T10:22:53.045141Z",
     "iopub.status.idle": "2020-12-05T10:22:53.049308Z",
     "shell.execute_reply": "2020-12-05T10:22:53.048576Z"
    },
    "papermill": {
     "duration": 0.100744,
     "end_time": "2020-12-05T10:22:53.049433",
     "exception": false,
     "start_time": "2020-12-05T10:22:52.948689",
     "status": "completed"
    },
    "tags": []
   },
   "outputs": [
    {
     "data": {
      "text/plain": [
       "0      1.000000\n",
       "1    577.876016\n",
       "Name: Class, dtype: float64"
      ]
     },
     "execution_count": 32,
     "metadata": {},
     "output_type": "execute_result"
    }
   ],
   "source": [
    "weights / weights[0]"
   ]
  },
  {
   "cell_type": "code",
   "execution_count": 33,
   "metadata": {
    "execution": {
     "iopub.execute_input": "2020-12-05T10:22:53.236671Z",
     "iopub.status.busy": "2020-12-05T10:22:53.235941Z",
     "iopub.status.idle": "2020-12-05T10:22:53.239087Z",
     "shell.execute_reply": "2020-12-05T10:22:53.238445Z"
    },
    "papermill": {
     "duration": 0.098177,
     "end_time": "2020-12-05T10:22:53.239221",
     "exception": false,
     "start_time": "2020-12-05T10:22:53.141044",
     "status": "completed"
    },
    "tags": []
   },
   "outputs": [],
   "source": [
    "from sklearn.utils.class_weight import compute_class_weight"
   ]
  },
  {
   "cell_type": "code",
   "execution_count": 34,
   "metadata": {
    "execution": {
     "iopub.execute_input": "2020-12-05T10:22:53.426476Z",
     "iopub.status.busy": "2020-12-05T10:22:53.425651Z",
     "iopub.status.idle": "2020-12-05T10:22:53.490863Z",
     "shell.execute_reply": "2020-12-05T10:22:53.490014Z"
    },
    "papermill": {
     "duration": 0.160591,
     "end_time": "2020-12-05T10:22:53.491041",
     "exception": false,
     "start_time": "2020-12-05T10:22:53.330450",
     "status": "completed"
    },
    "tags": []
   },
   "outputs": [
    {
     "name": "stdout",
     "output_type": "stream",
     "text": [
      "[  0.50086524 289.43800813]\n"
     ]
    },
    {
     "data": {
      "text/plain": [
       "array([  1.        , 577.87601626])"
      ]
     },
     "execution_count": 34,
     "metadata": {},
     "output_type": "execute_result"
    }
   ],
   "source": [
    "ar = compute_class_weight('balanced', y.unique(), y)\n",
    "print(ar)\n",
    "ar /= ar[0]\n",
    "ar # checking class ratio"
   ]
  },
  {
   "cell_type": "code",
   "execution_count": 35,
   "metadata": {
    "execution": {
     "iopub.execute_input": "2020-12-05T10:22:53.680970Z",
     "iopub.status.busy": "2020-12-05T10:22:53.680191Z",
     "iopub.status.idle": "2020-12-05T10:22:53.682838Z",
     "shell.execute_reply": "2020-12-05T10:22:53.683424Z"
    },
    "papermill": {
     "duration": 0.099873,
     "end_time": "2020-12-05T10:22:53.683578",
     "exception": false,
     "start_time": "2020-12-05T10:22:53.583705",
     "status": "completed"
    },
    "tags": []
   },
   "outputs": [],
   "source": [
    "baseline_model = LogisticRegression(class_weight=dict(weights))\n",
    "cv = StratifiedKFold(n_splits=4, shuffle=True, random_state=1)"
   ]
  },
  {
   "cell_type": "code",
   "execution_count": 36,
   "metadata": {
    "execution": {
     "iopub.execute_input": "2020-12-05T10:22:53.875868Z",
     "iopub.status.busy": "2020-12-05T10:22:53.875071Z",
     "iopub.status.idle": "2020-12-05T10:23:21.647038Z",
     "shell.execute_reply": "2020-12-05T10:23:21.646345Z"
    },
    "papermill": {
     "duration": 27.87252,
     "end_time": "2020-12-05T10:23:21.647175",
     "exception": false,
     "start_time": "2020-12-05T10:22:53.774655",
     "status": "completed"
    },
    "tags": []
   },
   "outputs": [],
   "source": [
    "feature_elimination = RFECV(estimator=baseline_model, cv=cv, scoring='f1', n_jobs=4)\n",
    "feature_elimination.fit(X_pca, y);"
   ]
  },
  {
   "cell_type": "code",
   "execution_count": 37,
   "metadata": {
    "execution": {
     "iopub.execute_input": "2020-12-05T10:23:21.853141Z",
     "iopub.status.busy": "2020-12-05T10:23:21.852099Z",
     "iopub.status.idle": "2020-12-05T10:23:22.021421Z",
     "shell.execute_reply": "2020-12-05T10:23:22.020604Z"
    },
    "papermill": {
     "duration": 0.27964,
     "end_time": "2020-12-05T10:23:22.021565",
     "exception": false,
     "start_time": "2020-12-05T10:23:21.741925",
     "status": "completed"
    },
    "tags": []
   },
   "outputs": [
    {
     "data": {
      "image/png": "[encoded data removed]",
      "text/plain": [
       "<Figure size 432x288 with 1 Axes>"
      ]
     },
     "metadata": {
      "needs_background": "light"
     },
     "output_type": "display_data"
    }
   ],
   "source": [
    "rfecv_scores = feature_elimination.grid_scores_\n",
    "plt.plot(range(1, len(rfecv_scores)+1), rfecv_scores)\n",
    "plt.xlabel('Number of features used')\n",
    "plt.ylabel('Cross validation f1 score')\n",
    "plt.show()"
   ]
  },
  {
   "cell_type": "code",
   "execution_count": 38,
   "metadata": {
    "execution": {
     "iopub.execute_input": "2020-12-05T10:23:22.223082Z",
     "iopub.status.busy": "2020-12-05T10:23:22.221931Z",
     "iopub.status.idle": "2020-12-05T10:23:22.227350Z",
     "shell.execute_reply": "2020-12-05T10:23:22.226659Z"
    },
    "papermill": {
     "duration": 0.106695,
     "end_time": "2020-12-05T10:23:22.227484",
     "exception": false,
     "start_time": "2020-12-05T10:23:22.120789",
     "status": "completed"
    },
    "tags": []
   },
   "outputs": [
    {
     "data": {
      "text/plain": [
       "0.5803549553079325"
      ]
     },
     "execution_count": 38,
     "metadata": {},
     "output_type": "execute_result"
    }
   ],
   "source": [
    "rfecv_scores.max() # checking the best f1_score"
   ]
  },
  {
   "cell_type": "code",
   "execution_count": 39,
   "metadata": {
    "execution": {
     "iopub.execute_input": "2020-12-05T10:23:22.446105Z",
     "iopub.status.busy": "2020-12-05T10:23:22.445023Z",
     "iopub.status.idle": "2020-12-05T10:23:22.451892Z",
     "shell.execute_reply": "2020-12-05T10:23:22.452624Z"
    },
    "papermill": {
     "duration": 0.124329,
     "end_time": "2020-12-05T10:23:22.452863",
     "exception": false,
     "start_time": "2020-12-05T10:23:22.328534",
     "status": "completed"
    },
    "tags": []
   },
   "outputs": [
    {
     "data": {
      "text/plain": [
       "25"
      ]
     },
     "execution_count": 39,
     "metadata": {},
     "output_type": "execute_result"
    }
   ],
   "source": [
    "feature_elimination.n_features_ # checking the best number of features to use"
   ]
  },
  {
   "cell_type": "code",
   "execution_count": 40,
   "metadata": {
    "execution": {
     "iopub.execute_input": "2020-12-05T10:23:22.699022Z",
     "iopub.status.busy": "2020-12-05T10:23:22.697853Z",
     "iopub.status.idle": "2020-12-05T10:23:22.702054Z",
     "shell.execute_reply": "2020-12-05T10:23:22.702955Z"
    },
    "papermill": {
     "duration": 0.145145,
     "end_time": "2020-12-05T10:23:22.703187",
     "exception": false,
     "start_time": "2020-12-05T10:23:22.558042",
     "status": "completed"
    },
    "tags": []
   },
   "outputs": [
    {
     "data": {
      "text/plain": [
       "array([1, 1, 1, 1, 1, 1, 1, 1, 1, 1, 1, 1, 1, 1, 1, 1, 1, 1, 1, 2, 1, 1,\n",
       "       1, 3, 4, 1, 1, 1])"
      ]
     },
     "execution_count": 40,
     "metadata": {},
     "output_type": "execute_result"
    }
   ],
   "source": [
    "feature_elimination.ranking_ # checking the ranking of the features"
   ]
  },
  {
   "cell_type": "code",
   "execution_count": 41,
   "metadata": {
    "execution": {
     "iopub.execute_input": "2020-12-05T10:23:22.983864Z",
     "iopub.status.busy": "2020-12-05T10:23:22.982830Z",
     "iopub.status.idle": "2020-12-05T10:23:22.986599Z",
     "shell.execute_reply": "2020-12-05T10:23:22.987780Z"
    },
    "papermill": {
     "duration": 0.14595,
     "end_time": "2020-12-05T10:23:22.987987",
     "exception": false,
     "start_time": "2020-12-05T10:23:22.842037",
     "status": "completed"
    },
    "tags": []
   },
   "outputs": [
    {
     "data": {
      "text/plain": [
       "array([ True,  True,  True,  True,  True,  True,  True,  True,  True,\n",
       "        True,  True,  True,  True,  True,  True,  True,  True,  True,\n",
       "        True, False,  True,  True,  True, False, False,  True,  True,\n",
       "        True])"
      ]
     },
     "execution_count": 41,
     "metadata": {},
     "output_type": "execute_result"
    }
   ],
   "source": [
    "feature_elimination.support_ # checking the masking array to filter out the best features"
   ]
  },
  {
   "cell_type": "markdown",
   "metadata": {
    "papermill": {
     "duration": 0.096979,
     "end_time": "2020-12-05T10:23:23.185798",
     "exception": false,
     "start_time": "2020-12-05T10:23:23.088819",
     "status": "completed"
    },
    "tags": []
   },
   "source": [
    "## Using all features"
   ]
  },
  {
   "cell_type": "code",
   "execution_count": 42,
   "metadata": {
    "execution": {
     "iopub.execute_input": "2020-12-05T10:23:23.385819Z",
     "iopub.status.busy": "2020-12-05T10:23:23.385045Z",
     "iopub.status.idle": "2020-12-05T10:23:23.393111Z",
     "shell.execute_reply": "2020-12-05T10:23:23.392022Z"
    },
    "papermill": {
     "duration": 0.109175,
     "end_time": "2020-12-05T10:23:23.393292",
     "exception": false,
     "start_time": "2020-12-05T10:23:23.284117",
     "status": "completed"
    },
    "tags": []
   },
   "outputs": [],
   "source": [
    "from sklearn.preprocessing import StandardScaler\n",
    "from sklearn.pipeline import Pipeline"
   ]
  },
  {
   "cell_type": "code",
   "execution_count": 43,
   "metadata": {
    "execution": {
     "iopub.execute_input": "2020-12-05T10:23:23.604054Z",
     "iopub.status.busy": "2020-12-05T10:23:23.603228Z",
     "iopub.status.idle": "2020-12-05T10:23:23.606537Z",
     "shell.execute_reply": "2020-12-05T10:23:23.605911Z"
    },
    "papermill": {
     "duration": 0.107139,
     "end_time": "2020-12-05T10:23:23.606677",
     "exception": false,
     "start_time": "2020-12-05T10:23:23.499538",
     "status": "completed"
    },
    "tags": []
   },
   "outputs": [],
   "source": [
    "# this custom pipeline is needed to be able to access the coef_ attribute of the logistic regressor \n",
    "# because RFECV doesn't allow pipelines that can't access the coef_ or feature_importances_ attributes\n",
    "# of the last estimator (model)\n",
    "class ModelPipeline(Pipeline):\n",
    "    # incase the model is a logistic based model\n",
    "    @property\n",
    "    def coef_(self):\n",
    "        return self.steps[-1][1].coef_\n",
    "    \n",
    "    # in case the model is a tree based model\n",
    "    @property\n",
    "    def feature_importances_(self):\n",
    "        return self.steps[-1][1].feature_importances_"
   ]
  },
  {
   "cell_type": "code",
   "execution_count": null,
   "metadata": {
    "papermill": {
     "duration": 0.094457,
     "end_time": "2020-12-05T10:23:23.797084",
     "exception": false,
     "start_time": "2020-12-05T10:23:23.702627",
     "status": "completed"
    },
    "tags": []
   },
   "outputs": [],
   "source": []
  },
  {
   "cell_type": "code",
   "execution_count": 44,
   "metadata": {
    "execution": {
     "iopub.execute_input": "2020-12-05T10:23:23.996975Z",
     "iopub.status.busy": "2020-12-05T10:23:23.996002Z",
     "iopub.status.idle": "2020-12-05T10:23:23.999455Z",
     "shell.execute_reply": "2020-12-05T10:23:23.998700Z"
    },
    "papermill": {
     "duration": 0.10702,
     "end_time": "2020-12-05T10:23:23.999580",
     "exception": false,
     "start_time": "2020-12-05T10:23:23.892560",
     "status": "completed"
    },
    "tags": []
   },
   "outputs": [],
   "source": [
    "scaler = StandardScaler()\n",
    "baseline_model2 = LogisticRegression(class_weight=dict(weights))\n",
    "\n",
    "pipe = ModelPipeline(steps=[('scaler', scaler), ('model', baseline_model2)])"
   ]
  },
  {
   "cell_type": "code",
   "execution_count": 45,
   "metadata": {
    "execution": {
     "iopub.execute_input": "2020-12-05T10:23:24.223642Z",
     "iopub.status.busy": "2020-12-05T10:23:24.222517Z",
     "iopub.status.idle": "2020-12-05T10:23:24.225554Z",
     "shell.execute_reply": "2020-12-05T10:23:24.226135Z"
    },
    "papermill": {
     "duration": 0.130136,
     "end_time": "2020-12-05T10:23:24.226306",
     "exception": false,
     "start_time": "2020-12-05T10:23:24.096170",
     "status": "completed"
    },
    "tags": []
   },
   "outputs": [],
   "source": [
    "X_all = df.iloc[:, :-1]"
   ]
  },
  {
   "cell_type": "code",
   "execution_count": 46,
   "metadata": {
    "execution": {
     "iopub.execute_input": "2020-12-05T10:23:24.431006Z",
     "iopub.status.busy": "2020-12-05T10:23:24.430213Z",
     "iopub.status.idle": "2020-12-05T10:23:57.573503Z",
     "shell.execute_reply": "2020-12-05T10:23:57.572477Z"
    },
    "papermill": {
     "duration": 33.247094,
     "end_time": "2020-12-05T10:23:57.573646",
     "exception": false,
     "start_time": "2020-12-05T10:23:24.326552",
     "status": "completed"
    },
    "tags": []
   },
   "outputs": [],
   "source": [
    "feature_elimination2 = RFECV(estimator=pipe, cv=cv, scoring='f1', n_jobs=4)\n",
    "feature_elimination2.fit(X_all, y);"
   ]
  },
  {
   "cell_type": "code",
   "execution_count": 47,
   "metadata": {
    "execution": {
     "iopub.execute_input": "2020-12-05T10:23:57.782554Z",
     "iopub.status.busy": "2020-12-05T10:23:57.781670Z",
     "iopub.status.idle": "2020-12-05T10:23:57.954062Z",
     "shell.execute_reply": "2020-12-05T10:23:57.954601Z"
    },
    "papermill": {
     "duration": 0.284706,
     "end_time": "2020-12-05T10:23:57.954783",
     "exception": false,
     "start_time": "2020-12-05T10:23:57.670077",
     "status": "completed"
    },
    "tags": []
   },
   "outputs": [
    {
     "data": {
      "image/png": "[encoded data removed]",
      "text/plain": [
       "<Figure size 432x288 with 1 Axes>"
      ]
     },
     "metadata": {
      "needs_background": "light"
     },
     "output_type": "display_data"
    }
   ],
   "source": [
    "rfecv_scores2 = feature_elimination2.grid_scores_\n",
    "plt.plot(range(1, len(rfecv_scores2)+1), rfecv_scores2)\n",
    "plt.xlabel('Number of features used')\n",
    "plt.ylabel('Cross validation f1 score')\n",
    "plt.show()"
   ]
  },
  {
   "cell_type": "code",
   "execution_count": 48,
   "metadata": {
    "execution": {
     "iopub.execute_input": "2020-12-05T10:23:58.153676Z",
     "iopub.status.busy": "2020-12-05T10:23:58.152733Z",
     "iopub.status.idle": "2020-12-05T10:23:58.157533Z",
     "shell.execute_reply": "2020-12-05T10:23:58.156894Z"
    },
    "papermill": {
     "duration": 0.106341,
     "end_time": "2020-12-05T10:23:58.157659",
     "exception": false,
     "start_time": "2020-12-05T10:23:58.051318",
     "status": "completed"
    },
    "tags": []
   },
   "outputs": [
    {
     "data": {
      "text/plain": [
       "0.6919329367171915"
      ]
     },
     "execution_count": 48,
     "metadata": {},
     "output_type": "execute_result"
    }
   ],
   "source": [
    "rfecv_scores2.max() # checking the best f1_score"
   ]
  },
  {
   "cell_type": "code",
   "execution_count": 49,
   "metadata": {
    "execution": {
     "iopub.execute_input": "2020-12-05T10:23:58.359634Z",
     "iopub.status.busy": "2020-12-05T10:23:58.358569Z",
     "iopub.status.idle": "2020-12-05T10:23:58.362978Z",
     "shell.execute_reply": "2020-12-05T10:23:58.362241Z"
    },
    "papermill": {
     "duration": 0.108197,
     "end_time": "2020-12-05T10:23:58.363104",
     "exception": false,
     "start_time": "2020-12-05T10:23:58.254907",
     "status": "completed"
    },
    "tags": []
   },
   "outputs": [
    {
     "data": {
      "text/plain": [
       "25"
      ]
     },
     "execution_count": 49,
     "metadata": {},
     "output_type": "execute_result"
    }
   ],
   "source": [
    "feature_elimination2.n_features_ # checking the best number of features to use"
   ]
  },
  {
   "cell_type": "code",
   "execution_count": 50,
   "metadata": {
    "execution": {
     "iopub.execute_input": "2020-12-05T10:23:58.563338Z",
     "iopub.status.busy": "2020-12-05T10:23:58.562361Z",
     "iopub.status.idle": "2020-12-05T10:23:58.567112Z",
     "shell.execute_reply": "2020-12-05T10:23:58.566510Z"
    },
    "papermill": {
     "duration": 0.107093,
     "end_time": "2020-12-05T10:23:58.567238",
     "exception": false,
     "start_time": "2020-12-05T10:23:58.460145",
     "status": "completed"
    },
    "tags": []
   },
   "outputs": [
    {
     "data": {
      "text/plain": [
       "array([1, 1, 1, 1, 1, 1, 1, 1, 1, 1, 1, 1, 1, 1, 1, 3, 1, 1, 2, 1, 5, 1,\n",
       "       1, 1, 4, 6, 1, 1, 1, 1])"
      ]
     },
     "execution_count": 50,
     "metadata": {},
     "output_type": "execute_result"
    }
   ],
   "source": [
    "feature_elimination2.ranking_ # checking the ranking of the features"
   ]
  },
  {
   "cell_type": "code",
   "execution_count": 51,
   "metadata": {
    "execution": {
     "iopub.execute_input": "2020-12-05T10:23:58.771166Z",
     "iopub.status.busy": "2020-12-05T10:23:58.770254Z",
     "iopub.status.idle": "2020-12-05T10:23:58.774631Z",
     "shell.execute_reply": "2020-12-05T10:23:58.773923Z"
    },
    "papermill": {
     "duration": 0.109676,
     "end_time": "2020-12-05T10:23:58.774781",
     "exception": false,
     "start_time": "2020-12-05T10:23:58.665105",
     "status": "completed"
    },
    "tags": []
   },
   "outputs": [
    {
     "data": {
      "text/plain": [
       "array([ True,  True,  True,  True,  True,  True,  True,  True,  True,\n",
       "        True,  True,  True,  True,  True,  True, False,  True,  True,\n",
       "       False,  True, False,  True,  True,  True, False, False,  True,\n",
       "        True,  True,  True])"
      ]
     },
     "execution_count": 51,
     "metadata": {},
     "output_type": "execute_result"
    }
   ],
   "source": [
    "feature_elimination2.support_ # checking the masking array to filter out the best features"
   ]
  },
  {
   "cell_type": "code",
   "execution_count": null,
   "metadata": {
    "papermill": {
     "duration": 0.099207,
     "end_time": "2020-12-05T10:23:58.973055",
     "exception": false,
     "start_time": "2020-12-05T10:23:58.873848",
     "status": "completed"
    },
    "tags": []
   },
   "outputs": [],
   "source": []
  },
  {
   "cell_type": "markdown",
   "metadata": {
    "papermill": {
     "duration": 0.099427,
     "end_time": "2020-12-05T10:23:59.171413",
     "exception": false,
     "start_time": "2020-12-05T10:23:59.071986",
     "status": "completed"
    },
    "tags": []
   },
   "source": [
    "## Only scaled PCA features"
   ]
  },
  {
   "cell_type": "code",
   "execution_count": 52,
   "metadata": {
    "execution": {
     "iopub.execute_input": "2020-12-05T10:23:59.380692Z",
     "iopub.status.busy": "2020-12-05T10:23:59.379916Z",
     "iopub.status.idle": "2020-12-05T10:23:59.383780Z",
     "shell.execute_reply": "2020-12-05T10:23:59.383034Z"
    },
    "papermill": {
     "duration": 0.109267,
     "end_time": "2020-12-05T10:23:59.383905",
     "exception": false,
     "start_time": "2020-12-05T10:23:59.274638",
     "status": "completed"
    },
    "tags": []
   },
   "outputs": [],
   "source": [
    "scaler2 = StandardScaler()\n",
    "baseline_model3 = LogisticRegression(class_weight=dict(weights))\n",
    "pipe2 = ModelPipeline(steps=[('scaler', scaler2), ('model', baseline_model3)])"
   ]
  },
  {
   "cell_type": "code",
   "execution_count": 53,
   "metadata": {
    "execution": {
     "iopub.execute_input": "2020-12-05T10:23:59.591549Z",
     "iopub.status.busy": "2020-12-05T10:23:59.590718Z",
     "iopub.status.idle": "2020-12-05T10:24:31.931968Z",
     "shell.execute_reply": "2020-12-05T10:24:31.931275Z"
    },
    "papermill": {
     "duration": 32.447774,
     "end_time": "2020-12-05T10:24:31.932105",
     "exception": false,
     "start_time": "2020-12-05T10:23:59.484331",
     "status": "completed"
    },
    "tags": []
   },
   "outputs": [],
   "source": [
    "feature_elimination3 = RFECV(estimator=pipe2, cv=cv, scoring='f1', n_jobs=4)\n",
    "feature_elimination3.fit(X_pca, y);"
   ]
  },
  {
   "cell_type": "code",
   "execution_count": 54,
   "metadata": {
    "execution": {
     "iopub.execute_input": "2020-12-05T10:24:32.147499Z",
     "iopub.status.busy": "2020-12-05T10:24:32.146679Z",
     "iopub.status.idle": "2020-12-05T10:24:32.302799Z",
     "shell.execute_reply": "2020-12-05T10:24:32.302189Z"
    },
    "papermill": {
     "duration": 0.270056,
     "end_time": "2020-12-05T10:24:32.302927",
     "exception": false,
     "start_time": "2020-12-05T10:24:32.032871",
     "status": "completed"
    },
    "tags": []
   },
   "outputs": [
    {
     "data": {
      "image/png": "[encoded data removed]",
      "text/plain": [
       "<Figure size 432x288 with 1 Axes>"
      ]
     },
     "metadata": {
      "needs_background": "light"
     },
     "output_type": "display_data"
    }
   ],
   "source": [
    "rfecv_scores3 = feature_elimination3.grid_scores_\n",
    "plt.plot(range(1, len(rfecv_scores3)+1), rfecv_scores3)\n",
    "plt.xlabel('Number of features used')\n",
    "plt.ylabel('Cross validation f1 score')\n",
    "plt.show()"
   ]
  },
  {
   "cell_type": "code",
   "execution_count": 55,
   "metadata": {
    "execution": {
     "iopub.execute_input": "2020-12-05T10:24:32.511230Z",
     "iopub.status.busy": "2020-12-05T10:24:32.510119Z",
     "iopub.status.idle": "2020-12-05T10:24:32.514097Z",
     "shell.execute_reply": "2020-12-05T10:24:32.514810Z"
    },
    "papermill": {
     "duration": 0.111848,
     "end_time": "2020-12-05T10:24:32.514970",
     "exception": false,
     "start_time": "2020-12-05T10:24:32.403122",
     "status": "completed"
    },
    "tags": []
   },
   "outputs": [
    {
     "data": {
      "text/plain": [
       "0.7035043479128102"
      ]
     },
     "execution_count": 55,
     "metadata": {},
     "output_type": "execute_result"
    }
   ],
   "source": [
    "rfecv_scores3.max() # checking the best f1_score"
   ]
  },
  {
   "cell_type": "code",
   "execution_count": 56,
   "metadata": {
    "execution": {
     "iopub.execute_input": "2020-12-05T10:24:32.724153Z",
     "iopub.status.busy": "2020-12-05T10:24:32.723172Z",
     "iopub.status.idle": "2020-12-05T10:24:32.727858Z",
     "shell.execute_reply": "2020-12-05T10:24:32.727093Z"
    },
    "papermill": {
     "duration": 0.111675,
     "end_time": "2020-12-05T10:24:32.727990",
     "exception": false,
     "start_time": "2020-12-05T10:24:32.616315",
     "status": "completed"
    },
    "tags": []
   },
   "outputs": [
    {
     "data": {
      "text/plain": [
       "27"
      ]
     },
     "execution_count": 56,
     "metadata": {},
     "output_type": "execute_result"
    }
   ],
   "source": [
    "feature_elimination3.n_features_ # checking the best number of features to use"
   ]
  },
  {
   "cell_type": "code",
   "execution_count": 57,
   "metadata": {
    "execution": {
     "iopub.execute_input": "2020-12-05T10:24:32.938498Z",
     "iopub.status.busy": "2020-12-05T10:24:32.937582Z",
     "iopub.status.idle": "2020-12-05T10:24:32.941547Z",
     "shell.execute_reply": "2020-12-05T10:24:32.942088Z"
    },
    "papermill": {
     "duration": 0.112224,
     "end_time": "2020-12-05T10:24:32.942246",
     "exception": false,
     "start_time": "2020-12-05T10:24:32.830022",
     "status": "completed"
    },
    "tags": []
   },
   "outputs": [
    {
     "data": {
      "text/plain": [
       "array([1, 1, 1, 1, 1, 1, 1, 1, 1, 1, 1, 1, 1, 1, 1, 1, 1, 1, 1, 1, 1, 1,\n",
       "       1, 1, 2, 1, 1, 1])"
      ]
     },
     "execution_count": 57,
     "metadata": {},
     "output_type": "execute_result"
    }
   ],
   "source": [
    "feature_elimination3.ranking_ # checking the ranking of the features"
   ]
  },
  {
   "cell_type": "code",
   "execution_count": 58,
   "metadata": {
    "execution": {
     "iopub.execute_input": "2020-12-05T10:24:33.153070Z",
     "iopub.status.busy": "2020-12-05T10:24:33.151941Z",
     "iopub.status.idle": "2020-12-05T10:24:33.156375Z",
     "shell.execute_reply": "2020-12-05T10:24:33.155619Z"
    },
    "papermill": {
     "duration": 0.111672,
     "end_time": "2020-12-05T10:24:33.156503",
     "exception": false,
     "start_time": "2020-12-05T10:24:33.044831",
     "status": "completed"
    },
    "tags": []
   },
   "outputs": [
    {
     "data": {
      "text/plain": [
       "array([ True,  True,  True,  True,  True,  True,  True,  True,  True,\n",
       "        True,  True,  True,  True,  True,  True,  True,  True,  True,\n",
       "        True,  True,  True,  True,  True,  True, False,  True,  True,\n",
       "        True])"
      ]
     },
     "execution_count": 58,
     "metadata": {},
     "output_type": "execute_result"
    }
   ],
   "source": [
    "feature_elimination3.support_ # checking the masking array to filter out the best features"
   ]
  },
  {
   "cell_type": "markdown",
   "metadata": {
    "papermill": {
     "duration": 0.102909,
     "end_time": "2020-12-05T10:24:33.362640",
     "exception": false,
     "start_time": "2020-12-05T10:24:33.259731",
     "status": "completed"
    },
    "tags": []
   },
   "source": [
    "### Using only Scaled PCA seems to be the best."
   ]
  },
  {
   "cell_type": "markdown",
   "metadata": {
    "papermill": {
     "duration": 0.102092,
     "end_time": "2020-12-05T10:24:33.567899",
     "exception": false,
     "start_time": "2020-12-05T10:24:33.465807",
     "status": "completed"
    },
    "tags": []
   },
   "source": [
    "## Let's see the important features."
   ]
  },
  {
   "cell_type": "code",
   "execution_count": 59,
   "metadata": {
    "execution": {
     "iopub.execute_input": "2020-12-05T10:24:33.780612Z",
     "iopub.status.busy": "2020-12-05T10:24:33.779471Z",
     "iopub.status.idle": "2020-12-05T10:24:33.783112Z",
     "shell.execute_reply": "2020-12-05T10:24:33.783691Z"
    },
    "papermill": {
     "duration": 0.113628,
     "end_time": "2020-12-05T10:24:33.783864",
     "exception": false,
     "start_time": "2020-12-05T10:24:33.670236",
     "status": "completed"
    },
    "tags": []
   },
   "outputs": [
    {
     "data": {
      "text/plain": [
       "Index(['V1', 'V2', 'V3', 'V4', 'V5', 'V6', 'V7', 'V8', 'V9', 'V10', 'V11',\n",
       "       'V12', 'V13', 'V14', 'V15', 'V16', 'V17', 'V18', 'V19', 'V20', 'V21',\n",
       "       'V22', 'V23', 'V24', 'V26', 'V27', 'V28'],\n",
       "      dtype='object')"
      ]
     },
     "execution_count": 59,
     "metadata": {},
     "output_type": "execute_result"
    }
   ],
   "source": [
    "important_features = df.columns[1:29][feature_elimination3.support_]\n",
    "important_features"
   ]
  },
  {
   "cell_type": "markdown",
   "metadata": {
    "papermill": {
     "duration": 0.104343,
     "end_time": "2020-12-05T10:24:33.991601",
     "exception": false,
     "start_time": "2020-12-05T10:24:33.887258",
     "status": "completed"
    },
    "tags": []
   },
   "source": [
    "### Basically using all scaled PCA features apart from V25"
   ]
  },
  {
   "cell_type": "markdown",
   "metadata": {
    "papermill": {
     "duration": 0.103888,
     "end_time": "2020-12-05T10:24:34.198407",
     "exception": false,
     "start_time": "2020-12-05T10:24:34.094519",
     "status": "completed"
    },
    "tags": []
   },
   "source": [
    "### Using SMOTE"
   ]
  },
  {
   "cell_type": "code",
   "execution_count": 60,
   "metadata": {
    "execution": {
     "iopub.execute_input": "2020-12-05T10:24:34.449920Z",
     "iopub.status.busy": "2020-12-05T10:24:34.449088Z",
     "iopub.status.idle": "2020-12-05T10:24:34.639115Z",
     "shell.execute_reply": "2020-12-05T10:24:34.638383Z"
    },
    "papermill": {
     "duration": 0.302284,
     "end_time": "2020-12-05T10:24:34.639244",
     "exception": false,
     "start_time": "2020-12-05T10:24:34.336960",
     "status": "completed"
    },
    "tags": []
   },
   "outputs": [],
   "source": [
    "from imblearn.over_sampling import SMOTE\n",
    "from imblearn.pipeline import Pipeline as ImbPipeline\n",
    "from sklearn.model_selection import cross_val_score"
   ]
  },
  {
   "cell_type": "markdown",
   "metadata": {
    "papermill": {
     "duration": 0.102849,
     "end_time": "2020-12-05T10:24:34.845925",
     "exception": false,
     "start_time": "2020-12-05T10:24:34.743076",
     "status": "completed"
    },
    "tags": []
   },
   "source": [
    "### When using SMOTE, it is important that SMOTE be applied to the training set only, after splitting the dataset into train and test set. This is to avoid some of the oversampled data to be seen in both training and testing set. Imblearn's Pipeline will handle this for us automatically."
   ]
  },
  {
   "cell_type": "code",
   "execution_count": 61,
   "metadata": {
    "execution": {
     "iopub.execute_input": "2020-12-05T10:24:35.069182Z",
     "iopub.status.busy": "2020-12-05T10:24:35.068202Z",
     "iopub.status.idle": "2020-12-05T10:24:35.071318Z",
     "shell.execute_reply": "2020-12-05T10:24:35.070586Z"
    },
    "papermill": {
     "duration": 0.122001,
     "end_time": "2020-12-05T10:24:35.071442",
     "exception": false,
     "start_time": "2020-12-05T10:24:34.949441",
     "status": "completed"
    },
    "tags": []
   },
   "outputs": [],
   "source": [
    "# this custom pipeline is needed to be able to access the coef_ attribute of the logistic regressor \n",
    "# because RFECV doesn't allow pipelines that can't access the coef_ or feature_importances_ attributes\n",
    "# of the last estimator (model)\n",
    "class ImbModelPipeline(ImbPipeline):\n",
    "    # incase the model is a logistic based model\n",
    "    @property\n",
    "    def coef_(self):\n",
    "        return self.steps[-1][1].coef_\n",
    "    \n",
    "    # in case the model is a tree based model\n",
    "    @property\n",
    "    def feature_importances_(self):\n",
    "        return self.steps[-1][1].feature_importances_"
   ]
  },
  {
   "cell_type": "code",
   "execution_count": 62,
   "metadata": {
    "execution": {
     "iopub.execute_input": "2020-12-05T10:24:35.288468Z",
     "iopub.status.busy": "2020-12-05T10:24:35.287355Z",
     "iopub.status.idle": "2020-12-05T10:24:35.291030Z",
     "shell.execute_reply": "2020-12-05T10:24:35.290429Z"
    },
    "papermill": {
     "duration": 0.115609,
     "end_time": "2020-12-05T10:24:35.291158",
     "exception": false,
     "start_time": "2020-12-05T10:24:35.175549",
     "status": "completed"
    },
    "tags": []
   },
   "outputs": [],
   "source": [
    "baseline_model4 = LogisticRegression()\n",
    "smote = SMOTE(random_state=1)\n",
    "scaler3 = StandardScaler()\n",
    "pipe3 = ImbModelPipeline([('scaler', scaler3), ('smote', smote), ('model', baseline_model4)])"
   ]
  },
  {
   "cell_type": "code",
   "execution_count": 63,
   "metadata": {
    "execution": {
     "iopub.execute_input": "2020-12-05T10:24:35.530006Z",
     "iopub.status.busy": "2020-12-05T10:24:35.528854Z",
     "iopub.status.idle": "2020-12-05T10:24:35.532972Z",
     "shell.execute_reply": "2020-12-05T10:24:35.533502Z"
    },
    "papermill": {
     "duration": 0.137806,
     "end_time": "2020-12-05T10:24:35.533685",
     "exception": false,
     "start_time": "2020-12-05T10:24:35.395879",
     "status": "completed"
    },
    "tags": []
   },
   "outputs": [
    {
     "data": {
      "text/plain": [
       "(284807, 27)"
      ]
     },
     "execution_count": 63,
     "metadata": {},
     "output_type": "execute_result"
    }
   ],
   "source": [
    "smote_X = X_pca.iloc[:, feature_elimination3.support_] # using the 27 best features\n",
    "smote_X.shape"
   ]
  },
  {
   "cell_type": "code",
   "execution_count": 64,
   "metadata": {
    "execution": {
     "iopub.execute_input": "2020-12-05T10:24:35.749569Z",
     "iopub.status.busy": "2020-12-05T10:24:35.748754Z",
     "iopub.status.idle": "2020-12-05T10:24:40.415373Z",
     "shell.execute_reply": "2020-12-05T10:24:40.414567Z"
    },
    "papermill": {
     "duration": 4.776848,
     "end_time": "2020-12-05T10:24:40.415499",
     "exception": false,
     "start_time": "2020-12-05T10:24:35.638651",
     "status": "completed"
    },
    "tags": []
   },
   "outputs": [],
   "source": [
    "smote_scores = cross_val_score(pipe3, smote_X, y, scoring='f1', cv=cv, n_jobs=4)"
   ]
  },
  {
   "cell_type": "code",
   "execution_count": 65,
   "metadata": {
    "execution": {
     "iopub.execute_input": "2020-12-05T10:24:40.631444Z",
     "iopub.status.busy": "2020-12-05T10:24:40.630254Z",
     "iopub.status.idle": "2020-12-05T10:24:40.634813Z",
     "shell.execute_reply": "2020-12-05T10:24:40.634054Z"
    },
    "papermill": {
     "duration": 0.114428,
     "end_time": "2020-12-05T10:24:40.634954",
     "exception": false,
     "start_time": "2020-12-05T10:24:40.520526",
     "status": "completed"
    },
    "tags": []
   },
   "outputs": [
    {
     "data": {
      "text/plain": [
       "array([0.10694653, 0.1045392 , 0.11266249, 0.11232449])"
      ]
     },
     "execution_count": 65,
     "metadata": {},
     "output_type": "execute_result"
    }
   ],
   "source": [
    "smote_scores"
   ]
  },
  {
   "cell_type": "code",
   "execution_count": 66,
   "metadata": {
    "execution": {
     "iopub.execute_input": "2020-12-05T10:24:40.853502Z",
     "iopub.status.busy": "2020-12-05T10:24:40.852670Z",
     "iopub.status.idle": "2020-12-05T10:24:40.856665Z",
     "shell.execute_reply": "2020-12-05T10:24:40.856020Z"
    },
    "papermill": {
     "duration": 0.116112,
     "end_time": "2020-12-05T10:24:40.856818",
     "exception": false,
     "start_time": "2020-12-05T10:24:40.740706",
     "status": "completed"
    },
    "tags": []
   },
   "outputs": [
    {
     "data": {
      "text/plain": [
       "0.10911817897472013"
      ]
     },
     "execution_count": 66,
     "metadata": {},
     "output_type": "execute_result"
    }
   ],
   "source": [
    "smote_scores.mean()"
   ]
  },
  {
   "cell_type": "markdown",
   "metadata": {
    "papermill": {
     "duration": 0.106104,
     "end_time": "2020-12-05T10:24:41.069628",
     "exception": false,
     "start_time": "2020-12-05T10:24:40.963524",
     "status": "completed"
    },
    "tags": []
   },
   "source": [
    "## We can then conclude that using class weight performs better than SMOTE. We will build our models based on this conclusion...Using only the 27 scaled PCA features and setting class weight is the best preprocessing. "
   ]
  }
 ],
 "metadata": {
  "kernelspec": {
   "display_name": "Python 3",
   "language": "python",
   "name": "python3"
  },
  "language_info": {
   "codemirror_mode": {
    "name": "ipython",
    "version": 3
   },
   "file_extension": ".py",
   "mimetype": "text/x-python",
   "name": "python",
   "nbconvert_exporter": "python",
   "pygments_lexer": "ipython3",
   "version": "3.7.6"
  },
  "papermill": {
   "duration": 157.657186,
   "end_time": "2020-12-05T10:24:41.302543",
   "environment_variables": {},
   "exception": null,
   "input_path": "__notebook__.ipynb",
   "output_path": "__notebook__.ipynb",
   "parameters": {},
   "start_time": "2020-12-05T10:22:03.645357",
   "version": "2.1.0"
  }
 },
 "nbformat": 4,
 "nbformat_minor": 4
}
