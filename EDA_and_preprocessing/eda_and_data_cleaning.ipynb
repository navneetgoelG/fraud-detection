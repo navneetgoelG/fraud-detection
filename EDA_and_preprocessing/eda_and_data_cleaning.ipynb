{
 "cells": [
  {
   "cell_type": "markdown",
   "metadata": {
    "papermill": {
     "duration": 0.066597,
     "end_time": "2020-11-26T13:50:21.483737",
     "exception": false,
     "start_time": "2020-11-26T13:50:21.417140",
     "status": "completed"
    },
    "tags": []
   },
   "source": [
    "# EDA and Data Cleaning"
   ]
  },
  {
   "cell_type": "code",
   "execution_count": 1,
   "metadata": {
    "_cell_guid": "79c7e3d0-c299-4dcb-8224-4455121ee9b0",
    "_uuid": "d629ff2d2480ee46fbb7e2d37f6b5fab8052498a",
    "execution": {
     "iopub.execute_input": "2020-11-26T13:50:21.625959Z",
     "iopub.status.busy": "2020-11-26T13:50:21.625181Z",
     "iopub.status.idle": "2020-11-26T13:50:22.715611Z",
     "shell.execute_reply": "2020-11-26T13:50:22.714828Z"
    },
    "papermill": {
     "duration": 1.164627,
     "end_time": "2020-11-26T13:50:22.715754",
     "exception": false,
     "start_time": "2020-11-26T13:50:21.551127",
     "status": "completed"
    },
    "tags": []
   },
   "outputs": [],
   "source": [
    "# importing useful libraries\n",
    "\n",
    "import numpy as np\n",
    "import pandas as pd\n",
    "import matplotlib.pyplot as plt\n",
    "import seaborn as sns\n",
    "\n",
    "import warnings\n",
    "warnings.filterwarnings('ignore')\n",
    "\n",
    "%matplotlib inline"
   ]
  },
  {
   "cell_type": "code",
   "execution_count": 2,
   "metadata": {
    "execution": {
     "iopub.execute_input": "2020-11-26T13:50:22.864104Z",
     "iopub.status.busy": "2020-11-26T13:50:22.863272Z",
     "iopub.status.idle": "2020-11-26T13:50:27.545554Z",
     "shell.execute_reply": "2020-11-26T13:50:27.544764Z"
    },
    "papermill": {
     "duration": 4.761822,
     "end_time": "2020-11-26T13:50:27.545702",
     "exception": false,
     "start_time": "2020-11-26T13:50:22.783880",
     "status": "completed"
    },
    "tags": []
   },
   "outputs": [
    {
     "name": "stdout",
     "output_type": "stream",
     "text": [
      "(284807, 31)\n"
     ]
    },
    {
     "data": {
      "text/html": [
       "<div>\n",
       "<style scoped>\n",
       "    .dataframe tbody tr th:only-of-type {\n",
       "        vertical-align: middle;\n",
       "    }\n",
       "\n",
       "    .dataframe tbody tr th {\n",
       "        vertical-align: top;\n",
       "    }\n",
       "\n",
       "    .dataframe thead th {\n",
       "        text-align: right;\n",
       "    }\n",
       "</style>\n",
       "<table border=\"1\" class=\"dataframe\">\n",
       "  <thead>\n",
       "    <tr style=\"text-align: right;\">\n",
       "      <th></th>\n",
       "      <th>Time</th>\n",
       "      <th>V1</th>\n",
       "      <th>V2</th>\n",
       "      <th>V3</th>\n",
       "      <th>V4</th>\n",
       "      <th>V5</th>\n",
       "      <th>V6</th>\n",
       "      <th>V7</th>\n",
       "      <th>V8</th>\n",
       "      <th>V9</th>\n",
       "      <th>...</th>\n",
       "      <th>V21</th>\n",
       "      <th>V22</th>\n",
       "      <th>V23</th>\n",
       "      <th>V24</th>\n",
       "      <th>V25</th>\n",
       "      <th>V26</th>\n",
       "      <th>V27</th>\n",
       "      <th>V28</th>\n",
       "      <th>Amount</th>\n",
       "      <th>Class</th>\n",
       "    </tr>\n",
       "  </thead>\n",
       "  <tbody>\n",
       "    <tr>\n",
       "      <th>0</th>\n",
       "      <td>0.0</td>\n",
       "      <td>-1.359807</td>\n",
       "      <td>-0.072781</td>\n",
       "      <td>2.536347</td>\n",
       "      <td>1.378155</td>\n",
       "      <td>-0.338321</td>\n",
       "      <td>0.462388</td>\n",
       "      <td>0.239599</td>\n",
       "      <td>0.098698</td>\n",
       "      <td>0.363787</td>\n",
       "      <td>...</td>\n",
       "      <td>-0.018307</td>\n",
       "      <td>0.277838</td>\n",
       "      <td>-0.110474</td>\n",
       "      <td>0.066928</td>\n",
       "      <td>0.128539</td>\n",
       "      <td>-0.189115</td>\n",
       "      <td>0.133558</td>\n",
       "      <td>-0.021053</td>\n",
       "      <td>149.62</td>\n",
       "      <td>0</td>\n",
       "    </tr>\n",
       "    <tr>\n",
       "      <th>1</th>\n",
       "      <td>0.0</td>\n",
       "      <td>1.191857</td>\n",
       "      <td>0.266151</td>\n",
       "      <td>0.166480</td>\n",
       "      <td>0.448154</td>\n",
       "      <td>0.060018</td>\n",
       "      <td>-0.082361</td>\n",
       "      <td>-0.078803</td>\n",
       "      <td>0.085102</td>\n",
       "      <td>-0.255425</td>\n",
       "      <td>...</td>\n",
       "      <td>-0.225775</td>\n",
       "      <td>-0.638672</td>\n",
       "      <td>0.101288</td>\n",
       "      <td>-0.339846</td>\n",
       "      <td>0.167170</td>\n",
       "      <td>0.125895</td>\n",
       "      <td>-0.008983</td>\n",
       "      <td>0.014724</td>\n",
       "      <td>2.69</td>\n",
       "      <td>0</td>\n",
       "    </tr>\n",
       "    <tr>\n",
       "      <th>2</th>\n",
       "      <td>1.0</td>\n",
       "      <td>-1.358354</td>\n",
       "      <td>-1.340163</td>\n",
       "      <td>1.773209</td>\n",
       "      <td>0.379780</td>\n",
       "      <td>-0.503198</td>\n",
       "      <td>1.800499</td>\n",
       "      <td>0.791461</td>\n",
       "      <td>0.247676</td>\n",
       "      <td>-1.514654</td>\n",
       "      <td>...</td>\n",
       "      <td>0.247998</td>\n",
       "      <td>0.771679</td>\n",
       "      <td>0.909412</td>\n",
       "      <td>-0.689281</td>\n",
       "      <td>-0.327642</td>\n",
       "      <td>-0.139097</td>\n",
       "      <td>-0.055353</td>\n",
       "      <td>-0.059752</td>\n",
       "      <td>378.66</td>\n",
       "      <td>0</td>\n",
       "    </tr>\n",
       "    <tr>\n",
       "      <th>3</th>\n",
       "      <td>1.0</td>\n",
       "      <td>-0.966272</td>\n",
       "      <td>-0.185226</td>\n",
       "      <td>1.792993</td>\n",
       "      <td>-0.863291</td>\n",
       "      <td>-0.010309</td>\n",
       "      <td>1.247203</td>\n",
       "      <td>0.237609</td>\n",
       "      <td>0.377436</td>\n",
       "      <td>-1.387024</td>\n",
       "      <td>...</td>\n",
       "      <td>-0.108300</td>\n",
       "      <td>0.005274</td>\n",
       "      <td>-0.190321</td>\n",
       "      <td>-1.175575</td>\n",
       "      <td>0.647376</td>\n",
       "      <td>-0.221929</td>\n",
       "      <td>0.062723</td>\n",
       "      <td>0.061458</td>\n",
       "      <td>123.50</td>\n",
       "      <td>0</td>\n",
       "    </tr>\n",
       "    <tr>\n",
       "      <th>4</th>\n",
       "      <td>2.0</td>\n",
       "      <td>-1.158233</td>\n",
       "      <td>0.877737</td>\n",
       "      <td>1.548718</td>\n",
       "      <td>0.403034</td>\n",
       "      <td>-0.407193</td>\n",
       "      <td>0.095921</td>\n",
       "      <td>0.592941</td>\n",
       "      <td>-0.270533</td>\n",
       "      <td>0.817739</td>\n",
       "      <td>...</td>\n",
       "      <td>-0.009431</td>\n",
       "      <td>0.798278</td>\n",
       "      <td>-0.137458</td>\n",
       "      <td>0.141267</td>\n",
       "      <td>-0.206010</td>\n",
       "      <td>0.502292</td>\n",
       "      <td>0.219422</td>\n",
       "      <td>0.215153</td>\n",
       "      <td>69.99</td>\n",
       "      <td>0</td>\n",
       "    </tr>\n",
       "  </tbody>\n",
       "</table>\n",
       "<p>5 rows × 31 columns</p>\n",
       "</div>"
      ],
      "text/plain": [
       "   Time        V1        V2        V3        V4        V5        V6        V7  \\\n",
       "0   0.0 -1.359807 -0.072781  2.536347  1.378155 -0.338321  0.462388  0.239599   \n",
       "1   0.0  1.191857  0.266151  0.166480  0.448154  0.060018 -0.082361 -0.078803   \n",
       "2   1.0 -1.358354 -1.340163  1.773209  0.379780 -0.503198  1.800499  0.791461   \n",
       "3   1.0 -0.966272 -0.185226  1.792993 -0.863291 -0.010309  1.247203  0.237609   \n",
       "4   2.0 -1.158233  0.877737  1.548718  0.403034 -0.407193  0.095921  0.592941   \n",
       "\n",
       "         V8        V9  ...       V21       V22       V23       V24       V25  \\\n",
       "0  0.098698  0.363787  ... -0.018307  0.277838 -0.110474  0.066928  0.128539   \n",
       "1  0.085102 -0.255425  ... -0.225775 -0.638672  0.101288 -0.339846  0.167170   \n",
       "2  0.247676 -1.514654  ...  0.247998  0.771679  0.909412 -0.689281 -0.327642   \n",
       "3  0.377436 -1.387024  ... -0.108300  0.005274 -0.190321 -1.175575  0.647376   \n",
       "4 -0.270533  0.817739  ... -0.009431  0.798278 -0.137458  0.141267 -0.206010   \n",
       "\n",
       "        V26       V27       V28  Amount  Class  \n",
       "0 -0.189115  0.133558 -0.021053  149.62      0  \n",
       "1  0.125895 -0.008983  0.014724    2.69      0  \n",
       "2 -0.139097 -0.055353 -0.059752  378.66      0  \n",
       "3 -0.221929  0.062723  0.061458  123.50      0  \n",
       "4  0.502292  0.219422  0.215153   69.99      0  \n",
       "\n",
       "[5 rows x 31 columns]"
      ]
     },
     "execution_count": 2,
     "metadata": {},
     "output_type": "execute_result"
    }
   ],
   "source": [
    "# loading in the dataset\n",
    "df = pd.read_csv('../input/creditcardfraud/creditcard.csv')\n",
    "print(df.shape)\n",
    "df.head()"
   ]
  },
  {
   "cell_type": "code",
   "execution_count": 3,
   "metadata": {
    "execution": {
     "iopub.execute_input": "2020-11-26T13:50:27.724719Z",
     "iopub.status.busy": "2020-11-26T13:50:27.723898Z",
     "iopub.status.idle": "2020-11-26T13:50:28.145268Z",
     "shell.execute_reply": "2020-11-26T13:50:28.144484Z"
    },
    "papermill": {
     "duration": 0.533843,
     "end_time": "2020-11-26T13:50:28.145403",
     "exception": false,
     "start_time": "2020-11-26T13:50:27.611560",
     "status": "completed"
    },
    "tags": []
   },
   "outputs": [
    {
     "data": {
      "text/html": [
       "<div>\n",
       "<style scoped>\n",
       "    .dataframe tbody tr th:only-of-type {\n",
       "        vertical-align: middle;\n",
       "    }\n",
       "\n",
       "    .dataframe tbody tr th {\n",
       "        vertical-align: top;\n",
       "    }\n",
       "\n",
       "    .dataframe thead th {\n",
       "        text-align: right;\n",
       "    }\n",
       "</style>\n",
       "<table border=\"1\" class=\"dataframe\">\n",
       "  <thead>\n",
       "    <tr style=\"text-align: right;\">\n",
       "      <th></th>\n",
       "      <th>Time</th>\n",
       "      <th>V1</th>\n",
       "      <th>V2</th>\n",
       "      <th>V3</th>\n",
       "      <th>V4</th>\n",
       "      <th>V5</th>\n",
       "      <th>V6</th>\n",
       "      <th>V7</th>\n",
       "      <th>V8</th>\n",
       "      <th>V9</th>\n",
       "      <th>...</th>\n",
       "      <th>V21</th>\n",
       "      <th>V22</th>\n",
       "      <th>V23</th>\n",
       "      <th>V24</th>\n",
       "      <th>V25</th>\n",
       "      <th>V26</th>\n",
       "      <th>V27</th>\n",
       "      <th>V28</th>\n",
       "      <th>Amount</th>\n",
       "      <th>Class</th>\n",
       "    </tr>\n",
       "  </thead>\n",
       "  <tbody>\n",
       "    <tr>\n",
       "      <th>count</th>\n",
       "      <td>284807.000000</td>\n",
       "      <td>2.848070e+05</td>\n",
       "      <td>2.848070e+05</td>\n",
       "      <td>2.848070e+05</td>\n",
       "      <td>2.848070e+05</td>\n",
       "      <td>2.848070e+05</td>\n",
       "      <td>2.848070e+05</td>\n",
       "      <td>2.848070e+05</td>\n",
       "      <td>2.848070e+05</td>\n",
       "      <td>2.848070e+05</td>\n",
       "      <td>...</td>\n",
       "      <td>2.848070e+05</td>\n",
       "      <td>2.848070e+05</td>\n",
       "      <td>2.848070e+05</td>\n",
       "      <td>2.848070e+05</td>\n",
       "      <td>2.848070e+05</td>\n",
       "      <td>2.848070e+05</td>\n",
       "      <td>2.848070e+05</td>\n",
       "      <td>2.848070e+05</td>\n",
       "      <td>284807.000000</td>\n",
       "      <td>284807.000000</td>\n",
       "    </tr>\n",
       "    <tr>\n",
       "      <th>mean</th>\n",
       "      <td>94813.859575</td>\n",
       "      <td>3.919560e-15</td>\n",
       "      <td>5.688174e-16</td>\n",
       "      <td>-8.769071e-15</td>\n",
       "      <td>2.782312e-15</td>\n",
       "      <td>-1.552563e-15</td>\n",
       "      <td>2.010663e-15</td>\n",
       "      <td>-1.694249e-15</td>\n",
       "      <td>-1.927028e-16</td>\n",
       "      <td>-3.137024e-15</td>\n",
       "      <td>...</td>\n",
       "      <td>1.537294e-16</td>\n",
       "      <td>7.959909e-16</td>\n",
       "      <td>5.367590e-16</td>\n",
       "      <td>4.458112e-15</td>\n",
       "      <td>1.453003e-15</td>\n",
       "      <td>1.699104e-15</td>\n",
       "      <td>-3.660161e-16</td>\n",
       "      <td>-1.206049e-16</td>\n",
       "      <td>88.349619</td>\n",
       "      <td>0.001727</td>\n",
       "    </tr>\n",
       "    <tr>\n",
       "      <th>std</th>\n",
       "      <td>47488.145955</td>\n",
       "      <td>1.958696e+00</td>\n",
       "      <td>1.651309e+00</td>\n",
       "      <td>1.516255e+00</td>\n",
       "      <td>1.415869e+00</td>\n",
       "      <td>1.380247e+00</td>\n",
       "      <td>1.332271e+00</td>\n",
       "      <td>1.237094e+00</td>\n",
       "      <td>1.194353e+00</td>\n",
       "      <td>1.098632e+00</td>\n",
       "      <td>...</td>\n",
       "      <td>7.345240e-01</td>\n",
       "      <td>7.257016e-01</td>\n",
       "      <td>6.244603e-01</td>\n",
       "      <td>6.056471e-01</td>\n",
       "      <td>5.212781e-01</td>\n",
       "      <td>4.822270e-01</td>\n",
       "      <td>4.036325e-01</td>\n",
       "      <td>3.300833e-01</td>\n",
       "      <td>250.120109</td>\n",
       "      <td>0.041527</td>\n",
       "    </tr>\n",
       "    <tr>\n",
       "      <th>min</th>\n",
       "      <td>0.000000</td>\n",
       "      <td>-5.640751e+01</td>\n",
       "      <td>-7.271573e+01</td>\n",
       "      <td>-4.832559e+01</td>\n",
       "      <td>-5.683171e+00</td>\n",
       "      <td>-1.137433e+02</td>\n",
       "      <td>-2.616051e+01</td>\n",
       "      <td>-4.355724e+01</td>\n",
       "      <td>-7.321672e+01</td>\n",
       "      <td>-1.343407e+01</td>\n",
       "      <td>...</td>\n",
       "      <td>-3.483038e+01</td>\n",
       "      <td>-1.093314e+01</td>\n",
       "      <td>-4.480774e+01</td>\n",
       "      <td>-2.836627e+00</td>\n",
       "      <td>-1.029540e+01</td>\n",
       "      <td>-2.604551e+00</td>\n",
       "      <td>-2.256568e+01</td>\n",
       "      <td>-1.543008e+01</td>\n",
       "      <td>0.000000</td>\n",
       "      <td>0.000000</td>\n",
       "    </tr>\n",
       "    <tr>\n",
       "      <th>25%</th>\n",
       "      <td>54201.500000</td>\n",
       "      <td>-9.203734e-01</td>\n",
       "      <td>-5.985499e-01</td>\n",
       "      <td>-8.903648e-01</td>\n",
       "      <td>-8.486401e-01</td>\n",
       "      <td>-6.915971e-01</td>\n",
       "      <td>-7.682956e-01</td>\n",
       "      <td>-5.540759e-01</td>\n",
       "      <td>-2.086297e-01</td>\n",
       "      <td>-6.430976e-01</td>\n",
       "      <td>...</td>\n",
       "      <td>-2.283949e-01</td>\n",
       "      <td>-5.423504e-01</td>\n",
       "      <td>-1.618463e-01</td>\n",
       "      <td>-3.545861e-01</td>\n",
       "      <td>-3.171451e-01</td>\n",
       "      <td>-3.269839e-01</td>\n",
       "      <td>-7.083953e-02</td>\n",
       "      <td>-5.295979e-02</td>\n",
       "      <td>5.600000</td>\n",
       "      <td>0.000000</td>\n",
       "    </tr>\n",
       "    <tr>\n",
       "      <th>50%</th>\n",
       "      <td>84692.000000</td>\n",
       "      <td>1.810880e-02</td>\n",
       "      <td>6.548556e-02</td>\n",
       "      <td>1.798463e-01</td>\n",
       "      <td>-1.984653e-02</td>\n",
       "      <td>-5.433583e-02</td>\n",
       "      <td>-2.741871e-01</td>\n",
       "      <td>4.010308e-02</td>\n",
       "      <td>2.235804e-02</td>\n",
       "      <td>-5.142873e-02</td>\n",
       "      <td>...</td>\n",
       "      <td>-2.945017e-02</td>\n",
       "      <td>6.781943e-03</td>\n",
       "      <td>-1.119293e-02</td>\n",
       "      <td>4.097606e-02</td>\n",
       "      <td>1.659350e-02</td>\n",
       "      <td>-5.213911e-02</td>\n",
       "      <td>1.342146e-03</td>\n",
       "      <td>1.124383e-02</td>\n",
       "      <td>22.000000</td>\n",
       "      <td>0.000000</td>\n",
       "    </tr>\n",
       "    <tr>\n",
       "      <th>75%</th>\n",
       "      <td>139320.500000</td>\n",
       "      <td>1.315642e+00</td>\n",
       "      <td>8.037239e-01</td>\n",
       "      <td>1.027196e+00</td>\n",
       "      <td>7.433413e-01</td>\n",
       "      <td>6.119264e-01</td>\n",
       "      <td>3.985649e-01</td>\n",
       "      <td>5.704361e-01</td>\n",
       "      <td>3.273459e-01</td>\n",
       "      <td>5.971390e-01</td>\n",
       "      <td>...</td>\n",
       "      <td>1.863772e-01</td>\n",
       "      <td>5.285536e-01</td>\n",
       "      <td>1.476421e-01</td>\n",
       "      <td>4.395266e-01</td>\n",
       "      <td>3.507156e-01</td>\n",
       "      <td>2.409522e-01</td>\n",
       "      <td>9.104512e-02</td>\n",
       "      <td>7.827995e-02</td>\n",
       "      <td>77.165000</td>\n",
       "      <td>0.000000</td>\n",
       "    </tr>\n",
       "    <tr>\n",
       "      <th>max</th>\n",
       "      <td>172792.000000</td>\n",
       "      <td>2.454930e+00</td>\n",
       "      <td>2.205773e+01</td>\n",
       "      <td>9.382558e+00</td>\n",
       "      <td>1.687534e+01</td>\n",
       "      <td>3.480167e+01</td>\n",
       "      <td>7.330163e+01</td>\n",
       "      <td>1.205895e+02</td>\n",
       "      <td>2.000721e+01</td>\n",
       "      <td>1.559499e+01</td>\n",
       "      <td>...</td>\n",
       "      <td>2.720284e+01</td>\n",
       "      <td>1.050309e+01</td>\n",
       "      <td>2.252841e+01</td>\n",
       "      <td>4.584549e+00</td>\n",
       "      <td>7.519589e+00</td>\n",
       "      <td>3.517346e+00</td>\n",
       "      <td>3.161220e+01</td>\n",
       "      <td>3.384781e+01</td>\n",
       "      <td>25691.160000</td>\n",
       "      <td>1.000000</td>\n",
       "    </tr>\n",
       "  </tbody>\n",
       "</table>\n",
       "<p>8 rows × 31 columns</p>\n",
       "</div>"
      ],
      "text/plain": [
       "                Time            V1            V2            V3            V4  \\\n",
       "count  284807.000000  2.848070e+05  2.848070e+05  2.848070e+05  2.848070e+05   \n",
       "mean    94813.859575  3.919560e-15  5.688174e-16 -8.769071e-15  2.782312e-15   \n",
       "std     47488.145955  1.958696e+00  1.651309e+00  1.516255e+00  1.415869e+00   \n",
       "min         0.000000 -5.640751e+01 -7.271573e+01 -4.832559e+01 -5.683171e+00   \n",
       "25%     54201.500000 -9.203734e-01 -5.985499e-01 -8.903648e-01 -8.486401e-01   \n",
       "50%     84692.000000  1.810880e-02  6.548556e-02  1.798463e-01 -1.984653e-02   \n",
       "75%    139320.500000  1.315642e+00  8.037239e-01  1.027196e+00  7.433413e-01   \n",
       "max    172792.000000  2.454930e+00  2.205773e+01  9.382558e+00  1.687534e+01   \n",
       "\n",
       "                 V5            V6            V7            V8            V9  \\\n",
       "count  2.848070e+05  2.848070e+05  2.848070e+05  2.848070e+05  2.848070e+05   \n",
       "mean  -1.552563e-15  2.010663e-15 -1.694249e-15 -1.927028e-16 -3.137024e-15   \n",
       "std    1.380247e+00  1.332271e+00  1.237094e+00  1.194353e+00  1.098632e+00   \n",
       "min   -1.137433e+02 -2.616051e+01 -4.355724e+01 -7.321672e+01 -1.343407e+01   \n",
       "25%   -6.915971e-01 -7.682956e-01 -5.540759e-01 -2.086297e-01 -6.430976e-01   \n",
       "50%   -5.433583e-02 -2.741871e-01  4.010308e-02  2.235804e-02 -5.142873e-02   \n",
       "75%    6.119264e-01  3.985649e-01  5.704361e-01  3.273459e-01  5.971390e-01   \n",
       "max    3.480167e+01  7.330163e+01  1.205895e+02  2.000721e+01  1.559499e+01   \n",
       "\n",
       "       ...           V21           V22           V23           V24  \\\n",
       "count  ...  2.848070e+05  2.848070e+05  2.848070e+05  2.848070e+05   \n",
       "mean   ...  1.537294e-16  7.959909e-16  5.367590e-16  4.458112e-15   \n",
       "std    ...  7.345240e-01  7.257016e-01  6.244603e-01  6.056471e-01   \n",
       "min    ... -3.483038e+01 -1.093314e+01 -4.480774e+01 -2.836627e+00   \n",
       "25%    ... -2.283949e-01 -5.423504e-01 -1.618463e-01 -3.545861e-01   \n",
       "50%    ... -2.945017e-02  6.781943e-03 -1.119293e-02  4.097606e-02   \n",
       "75%    ...  1.863772e-01  5.285536e-01  1.476421e-01  4.395266e-01   \n",
       "max    ...  2.720284e+01  1.050309e+01  2.252841e+01  4.584549e+00   \n",
       "\n",
       "                V25           V26           V27           V28         Amount  \\\n",
       "count  2.848070e+05  2.848070e+05  2.848070e+05  2.848070e+05  284807.000000   \n",
       "mean   1.453003e-15  1.699104e-15 -3.660161e-16 -1.206049e-16      88.349619   \n",
       "std    5.212781e-01  4.822270e-01  4.036325e-01  3.300833e-01     250.120109   \n",
       "min   -1.029540e+01 -2.604551e+00 -2.256568e+01 -1.543008e+01       0.000000   \n",
       "25%   -3.171451e-01 -3.269839e-01 -7.083953e-02 -5.295979e-02       5.600000   \n",
       "50%    1.659350e-02 -5.213911e-02  1.342146e-03  1.124383e-02      22.000000   \n",
       "75%    3.507156e-01  2.409522e-01  9.104512e-02  7.827995e-02      77.165000   \n",
       "max    7.519589e+00  3.517346e+00  3.161220e+01  3.384781e+01   25691.160000   \n",
       "\n",
       "               Class  \n",
       "count  284807.000000  \n",
       "mean        0.001727  \n",
       "std         0.041527  \n",
       "min         0.000000  \n",
       "25%         0.000000  \n",
       "50%         0.000000  \n",
       "75%         0.000000  \n",
       "max         1.000000  \n",
       "\n",
       "[8 rows x 31 columns]"
      ]
     },
     "execution_count": 3,
     "metadata": {},
     "output_type": "execute_result"
    }
   ],
   "source": [
    "df.describe() # a quick summary of the dataset"
   ]
  },
  {
   "cell_type": "code",
   "execution_count": 4,
   "metadata": {
    "execution": {
     "iopub.execute_input": "2020-11-26T13:50:28.284199Z",
     "iopub.status.busy": "2020-11-26T13:50:28.283387Z",
     "iopub.status.idle": "2020-11-26T13:50:28.309900Z",
     "shell.execute_reply": "2020-11-26T13:50:28.310466Z"
    },
    "papermill": {
     "duration": 0.09893,
     "end_time": "2020-11-26T13:50:28.310629",
     "exception": false,
     "start_time": "2020-11-26T13:50:28.211699",
     "status": "completed"
    },
    "tags": []
   },
   "outputs": [
    {
     "data": {
      "text/plain": [
       "0"
      ]
     },
     "execution_count": 4,
     "metadata": {},
     "output_type": "execute_result"
    }
   ],
   "source": [
    "df.isnull().sum().sum() # checking for Nan values"
   ]
  },
  {
   "cell_type": "code",
   "execution_count": 5,
   "metadata": {
    "execution": {
     "iopub.execute_input": "2020-11-26T13:50:28.451205Z",
     "iopub.status.busy": "2020-11-26T13:50:28.450379Z",
     "iopub.status.idle": "2020-11-26T13:50:28.460747Z",
     "shell.execute_reply": "2020-11-26T13:50:28.460163Z"
    },
    "papermill": {
     "duration": 0.082626,
     "end_time": "2020-11-26T13:50:28.460875",
     "exception": false,
     "start_time": "2020-11-26T13:50:28.378249",
     "status": "completed"
    },
    "tags": []
   },
   "outputs": [
    {
     "data": {
      "text/plain": [
       "0    284315\n",
       "1       492\n",
       "Name: Class, dtype: int64"
      ]
     },
     "execution_count": 5,
     "metadata": {},
     "output_type": "execute_result"
    }
   ],
   "source": [
    "# checking for imbalance\n",
    "val_count = df['Class'].value_counts()\n",
    "val_count"
   ]
  },
  {
   "cell_type": "code",
   "execution_count": 6,
   "metadata": {
    "execution": {
     "iopub.execute_input": "2020-11-26T13:50:28.602919Z",
     "iopub.status.busy": "2020-11-26T13:50:28.602159Z",
     "iopub.status.idle": "2020-11-26T13:50:28.606905Z",
     "shell.execute_reply": "2020-11-26T13:50:28.606295Z"
    },
    "papermill": {
     "duration": 0.078551,
     "end_time": "2020-11-26T13:50:28.607027",
     "exception": false,
     "start_time": "2020-11-26T13:50:28.528476",
     "status": "completed"
    },
    "tags": []
   },
   "outputs": [
    {
     "data": {
      "text/plain": [
       "0.1727485630620034"
      ]
     },
     "execution_count": 6,
     "metadata": {},
     "output_type": "execute_result"
    }
   ],
   "source": [
    "100 * val_count[1] / val_count.sum() # checking percentage of minority class"
   ]
  },
  {
   "cell_type": "markdown",
   "metadata": {
    "papermill": {
     "duration": 0.067833,
     "end_time": "2020-11-26T13:50:28.743766",
     "exception": false,
     "start_time": "2020-11-26T13:50:28.675933",
     "status": "completed"
    },
    "tags": []
   },
   "source": [
    "### The dataset is heavily unbalanced."
   ]
  },
  {
   "cell_type": "markdown",
   "metadata": {
    "papermill": {
     "duration": 0.068688,
     "end_time": "2020-11-26T13:50:28.881135",
     "exception": false,
     "start_time": "2020-11-26T13:50:28.812447",
     "status": "completed"
    },
    "tags": []
   },
   "source": [
    "### Correlation check"
   ]
  },
  {
   "cell_type": "code",
   "execution_count": 7,
   "metadata": {
    "execution": {
     "iopub.execute_input": "2020-11-26T13:50:29.053628Z",
     "iopub.status.busy": "2020-11-26T13:50:29.052824Z",
     "iopub.status.idle": "2020-11-26T13:50:30.302126Z",
     "shell.execute_reply": "2020-11-26T13:50:30.302737Z"
    },
    "papermill": {
     "duration": 1.352764,
     "end_time": "2020-11-26T13:50:30.302892",
     "exception": false,
     "start_time": "2020-11-26T13:50:28.950128",
     "status": "completed"
    },
    "tags": []
   },
   "outputs": [
    {
     "data": {
      "image/png": "[encoded data removed]",
      "text/plain": [
       "<Figure size 1296x504 with 2 Axes>"
      ]
     },
     "metadata": {
      "needs_background": "light"
     },
     "output_type": "display_data"
    }
   ],
   "source": [
    "df_corr = df.iloc[:, :-1].corr() # gets the correlation matrix\n",
    "\n",
    "mask = np.triu(np.ones((30, 30))) #to mask out the upper triangular matrix of the heatmap because the\n",
    "                                  # lower triangular matrix alone contains all collinearities.\n",
    "\n",
    "plt.figure(figsize=(18, 7)) \n",
    "sns.heatmap(df_corr, mask=mask, xticklabels=True, yticklabels=True, cmap='coolwarm')\n",
    "#xticklabels and yticklabels are set to True to display all columns in the heatmap\n",
    "\n",
    "plt.show()\n"
   ]
  },
  {
   "cell_type": "markdown",
   "metadata": {
    "papermill": {
     "duration": 0.069827,
     "end_time": "2020-11-26T13:50:30.442787",
     "exception": false,
     "start_time": "2020-11-26T13:50:30.372960",
     "status": "completed"
    },
    "tags": []
   },
   "source": [
    "### We expected the little collinearity because features v1 to v28 have been transformed using PCA, so they are expected to be independent."
   ]
  },
  {
   "cell_type": "markdown",
   "metadata": {
    "papermill": {
     "duration": 0.068866,
     "end_time": "2020-11-26T13:50:30.581011",
     "exception": false,
     "start_time": "2020-11-26T13:50:30.512145",
     "status": "completed"
    },
    "tags": []
   },
   "source": [
    "## By PCA"
   ]
  },
  {
   "cell_type": "markdown",
   "metadata": {
    "papermill": {
     "duration": 0.069039,
     "end_time": "2020-11-26T13:50:30.719479",
     "exception": false,
     "start_time": "2020-11-26T13:50:30.650440",
     "status": "completed"
    },
    "tags": []
   },
   "source": [
    "### Exploring the PCA features"
   ]
  },
  {
   "cell_type": "markdown",
   "metadata": {
    "papermill": {
     "duration": 0.069175,
     "end_time": "2020-11-26T13:50:30.857871",
     "exception": false,
     "start_time": "2020-11-26T13:50:30.788696",
     "status": "completed"
    },
    "tags": []
   },
   "source": [
    "### We know that PCA results are such that the features are sorted in descending order of explained variance. Let's confirm that in our PCA features."
   ]
  },
  {
   "cell_type": "code",
   "execution_count": 8,
   "metadata": {
    "execution": {
     "iopub.execute_input": "2020-11-26T13:50:31.004834Z",
     "iopub.status.busy": "2020-11-26T13:50:31.004005Z",
     "iopub.status.idle": "2020-11-26T13:50:31.038918Z",
     "shell.execute_reply": "2020-11-26T13:50:31.038198Z"
    },
    "papermill": {
     "duration": 0.111891,
     "end_time": "2020-11-26T13:50:31.039061",
     "exception": false,
     "start_time": "2020-11-26T13:50:30.927170",
     "status": "completed"
    },
    "tags": []
   },
   "outputs": [],
   "source": [
    "# calculating the variance fraction (aka variance ratio)\n",
    "variance = []\n",
    "for vi in df.columns[1:29]:\n",
    "    variance.append(df[vi].var())\n",
    "variance = np.array(variance) / sum(variance)"
   ]
  },
  {
   "cell_type": "code",
   "execution_count": 9,
   "metadata": {
    "execution": {
     "iopub.execute_input": "2020-11-26T13:50:31.186815Z",
     "iopub.status.busy": "2020-11-26T13:50:31.185877Z",
     "iopub.status.idle": "2020-11-26T13:50:31.190547Z",
     "shell.execute_reply": "2020-11-26T13:50:31.189946Z"
    },
    "papermill": {
     "duration": 0.081031,
     "end_time": "2020-11-26T13:50:31.190680",
     "exception": false,
     "start_time": "2020-11-26T13:50:31.109649",
     "status": "completed"
    },
    "tags": []
   },
   "outputs": [
    {
     "data": {
      "text/plain": [
       "array([0.12483757, 0.08872945, 0.07480934, 0.06523148, 0.06199045,\n",
       "       0.05775592, 0.04979852, 0.04641696, 0.03927497, 0.03857867,\n",
       "       0.03390148, 0.03248758, 0.03223271, 0.02990076, 0.02726173,\n",
       "       0.02498448, 0.02347316, 0.0228603 , 0.02156271, 0.01933907,\n",
       "       0.01755591, 0.01713671, 0.01268881, 0.01193577, 0.00884199,\n",
       "       0.00756684, 0.00530131, 0.00354534])"
      ]
     },
     "execution_count": 9,
     "metadata": {},
     "output_type": "execute_result"
    }
   ],
   "source": [
    "variance"
   ]
  },
  {
   "cell_type": "markdown",
   "metadata": {
    "papermill": {
     "duration": 0.069829,
     "end_time": "2020-11-26T13:50:31.330845",
     "exception": false,
     "start_time": "2020-11-26T13:50:31.261016",
     "status": "completed"
    },
    "tags": []
   },
   "source": [
    "### We see that the PCA features are indeed sorted in descending order of explained variance."
   ]
  },
  {
   "cell_type": "code",
   "execution_count": 10,
   "metadata": {
    "execution": {
     "iopub.execute_input": "2020-11-26T13:50:31.478187Z",
     "iopub.status.busy": "2020-11-26T13:50:31.477305Z",
     "iopub.status.idle": "2020-11-26T13:50:31.481696Z",
     "shell.execute_reply": "2020-11-26T13:50:31.481026Z"
    },
    "papermill": {
     "duration": 0.080602,
     "end_time": "2020-11-26T13:50:31.481813",
     "exception": false,
     "start_time": "2020-11-26T13:50:31.401211",
     "status": "completed"
    },
    "tags": []
   },
   "outputs": [
    {
     "data": {
      "text/plain": [
       "array([0.12483757, 0.21356702, 0.28837636, 0.35360784, 0.41559829,\n",
       "       0.47335421, 0.52315273, 0.56956969, 0.60884466, 0.64742333,\n",
       "       0.68132481, 0.71381239, 0.7460451 , 0.77594586, 0.80320759,\n",
       "       0.82819207, 0.85166522, 0.87452552, 0.89608823, 0.91542731,\n",
       "       0.93298321, 0.95011992, 0.96280874, 0.97474451, 0.9835865 ,\n",
       "       0.99115334, 0.99645466, 1.        ])"
      ]
     },
     "execution_count": 10,
     "metadata": {},
     "output_type": "execute_result"
    }
   ],
   "source": [
    "# checking the cummulative sum to see how the cummulative explained variance fraction increases\n",
    "c_variance = np.cumsum(variance)\n",
    "c_variance"
   ]
  },
  {
   "cell_type": "code",
   "execution_count": 11,
   "metadata": {
    "execution": {
     "iopub.execute_input": "2020-11-26T13:50:31.630716Z",
     "iopub.status.busy": "2020-11-26T13:50:31.629896Z",
     "iopub.status.idle": "2020-11-26T13:50:31.633818Z",
     "shell.execute_reply": "2020-11-26T13:50:31.633169Z"
    },
    "papermill": {
     "duration": 0.08027,
     "end_time": "2020-11-26T13:50:31.633943",
     "exception": false,
     "start_time": "2020-11-26T13:50:31.553673",
     "status": "completed"
    },
    "tags": []
   },
   "outputs": [],
   "source": [
    "# defining a function to return the number of pca features needed to explain a given variance fraction\n",
    "def n_from_cumsum(frac):\n",
    "    res = c_variance[c_variance <= frac]\n",
    "    return len(res)"
   ]
  },
  {
   "cell_type": "code",
   "execution_count": 12,
   "metadata": {
    "execution": {
     "iopub.execute_input": "2020-11-26T13:50:31.784806Z",
     "iopub.status.busy": "2020-11-26T13:50:31.783935Z",
     "iopub.status.idle": "2020-11-26T13:50:31.788285Z",
     "shell.execute_reply": "2020-11-26T13:50:31.788865Z"
    },
    "papermill": {
     "duration": 0.081187,
     "end_time": "2020-11-26T13:50:31.789016",
     "exception": false,
     "start_time": "2020-11-26T13:50:31.707829",
     "status": "completed"
    },
    "tags": []
   },
   "outputs": [
    {
     "data": {
      "text/plain": [
       "14"
      ]
     },
     "execution_count": 12,
     "metadata": {},
     "output_type": "execute_result"
    }
   ],
   "source": [
    "n_from_cumsum(0.8)"
   ]
  },
  {
   "cell_type": "code",
   "execution_count": 13,
   "metadata": {
    "execution": {
     "iopub.execute_input": "2020-11-26T13:50:31.940683Z",
     "iopub.status.busy": "2020-11-26T13:50:31.939681Z",
     "iopub.status.idle": "2020-11-26T13:50:31.944643Z",
     "shell.execute_reply": "2020-11-26T13:50:31.943895Z"
    },
    "papermill": {
     "duration": 0.082218,
     "end_time": "2020-11-26T13:50:31.944779",
     "exception": false,
     "start_time": "2020-11-26T13:50:31.862561",
     "status": "completed"
    },
    "tags": []
   },
   "outputs": [
    {
     "data": {
      "text/plain": [
       "19"
      ]
     },
     "execution_count": 13,
     "metadata": {},
     "output_type": "execute_result"
    }
   ],
   "source": [
    "n_from_cumsum(0.9)"
   ]
  },
  {
   "cell_type": "markdown",
   "metadata": {
    "papermill": {
     "duration": 0.07334,
     "end_time": "2020-11-26T13:50:32.091581",
     "exception": false,
     "start_time": "2020-11-26T13:50:32.018241",
     "status": "completed"
    },
    "tags": []
   },
   "source": [
    "## Scattered plots of some PCA features"
   ]
  },
  {
   "cell_type": "code",
   "execution_count": 14,
   "metadata": {
    "execution": {
     "iopub.execute_input": "2020-11-26T13:50:32.248444Z",
     "iopub.status.busy": "2020-11-26T13:50:32.247316Z",
     "iopub.status.idle": "2020-11-26T13:50:32.250849Z",
     "shell.execute_reply": "2020-11-26T13:50:32.250274Z"
    },
    "papermill": {
     "duration": 0.08499,
     "end_time": "2020-11-26T13:50:32.250972",
     "exception": false,
     "start_time": "2020-11-26T13:50:32.165982",
     "status": "completed"
    },
    "tags": []
   },
   "outputs": [],
   "source": [
    "def plot_features(x, y):\n",
    "    scatter = plt.scatter(df[x], df[y], c=df['Class'])\n",
    "    plt.legend(handles=scatter.legend_elements()[0], labels=['not_fraud', 'fraud'])\n",
    "    plt.xlabel(x)\n",
    "    plt.ylabel(y)\n",
    "    plt.show()"
   ]
  },
  {
   "cell_type": "code",
   "execution_count": 15,
   "metadata": {
    "execution": {
     "iopub.execute_input": "2020-11-26T13:50:32.409118Z",
     "iopub.status.busy": "2020-11-26T13:50:32.408013Z",
     "iopub.status.idle": "2020-11-26T13:50:41.718399Z",
     "shell.execute_reply": "2020-11-26T13:50:41.717703Z"
    },
    "papermill": {
     "duration": 9.394743,
     "end_time": "2020-11-26T13:50:41.718529",
     "exception": false,
     "start_time": "2020-11-26T13:50:32.323786",
     "status": "completed"
    },
    "tags": []
   },
   "outputs": [
    {
     "data": {
      "image/png": "[encoded data removed]",
      "text/plain": [
       "<Figure size 432x288 with 1 Axes>"
      ]
     },
     "metadata": {
      "needs_background": "light"
     },
     "output_type": "display_data"
    }
   ],
   "source": [
    "plot_features('V1', 'V2')"
   ]
  },
  {
   "cell_type": "code",
   "execution_count": 16,
   "metadata": {
    "execution": {
     "iopub.execute_input": "2020-11-26T13:50:41.878146Z",
     "iopub.status.busy": "2020-11-26T13:50:41.872475Z",
     "iopub.status.idle": "2020-11-26T13:50:51.178646Z",
     "shell.execute_reply": "2020-11-26T13:50:51.178031Z"
    },
    "papermill": {
     "duration": 9.385647,
     "end_time": "2020-11-26T13:50:51.178771",
     "exception": false,
     "start_time": "2020-11-26T13:50:41.793124",
     "status": "completed"
    },
    "tags": []
   },
   "outputs": [
    {
     "data": {
      "image/png": "[encoded data removed]",
      "text/plain": [
       "<Figure size 432x288 with 1 Axes>"
      ]
     },
     "metadata": {
      "needs_background": "light"
     },
     "output_type": "display_data"
    }
   ],
   "source": [
    "plot_features('V1', 'V3')"
   ]
  },
  {
   "cell_type": "code",
   "execution_count": 17,
   "metadata": {
    "execution": {
     "iopub.execute_input": "2020-11-26T13:50:51.346853Z",
     "iopub.status.busy": "2020-11-26T13:50:51.345986Z",
     "iopub.status.idle": "2020-11-26T13:50:59.658680Z",
     "shell.execute_reply": "2020-11-26T13:50:59.657985Z"
    },
    "papermill": {
     "duration": 8.404635,
     "end_time": "2020-11-26T13:50:59.658808",
     "exception": false,
     "start_time": "2020-11-26T13:50:51.254173",
     "status": "completed"
    },
    "tags": []
   },
   "outputs": [
    {
     "data": {
      "image/png": "[encoded data removed]",
      "text/plain": [
       "<Figure size 432x288 with 1 Axes>"
      ]
     },
     "metadata": {
      "needs_background": "light"
     },
     "output_type": "display_data"
    }
   ],
   "source": [
    "plot_features('V1', 'V4')"
   ]
  },
  {
   "cell_type": "markdown",
   "metadata": {
    "papermill": {
     "duration": 0.077739,
     "end_time": "2020-11-26T13:50:59.814717",
     "exception": false,
     "start_time": "2020-11-26T13:50:59.736978",
     "status": "completed"
    },
    "tags": []
   },
   "source": [
    "## By Time"
   ]
  },
  {
   "cell_type": "code",
   "execution_count": 18,
   "metadata": {
    "execution": {
     "iopub.execute_input": "2020-11-26T13:51:00.083461Z",
     "iopub.status.busy": "2020-11-26T13:51:00.082678Z",
     "iopub.status.idle": "2020-11-26T13:51:00.799170Z",
     "shell.execute_reply": "2020-11-26T13:51:00.798345Z"
    },
    "papermill": {
     "duration": 0.905729,
     "end_time": "2020-11-26T13:51:00.799302",
     "exception": false,
     "start_time": "2020-11-26T13:50:59.893573",
     "status": "completed"
    },
    "tags": []
   },
   "outputs": [
    {
     "data": {
      "image/png": "[encoded data removed]",
      "text/plain": [
       "<Figure size 1296x288 with 1 Axes>"
      ]
     },
     "metadata": {
      "needs_background": "light"
     },
     "output_type": "display_data"
    }
   ],
   "source": [
    "plt.figure(figsize=(18, 4)) \n",
    "plt.scatter(df['Time'], df['Class'])\n",
    "plt.show()"
   ]
  },
  {
   "cell_type": "markdown",
   "metadata": {
    "papermill": {
     "duration": 0.083257,
     "end_time": "2020-11-26T13:51:00.962328",
     "exception": false,
     "start_time": "2020-11-26T13:51:00.879071",
     "status": "completed"
    },
    "tags": []
   },
   "source": [
    "### We see a constant non-fraudulent transaction throughout the duration of the dataset but some gaps in time for fraudulent activities. Those gaps tend to repeat themselves approximately in intervals."
   ]
  },
  {
   "cell_type": "code",
   "execution_count": null,
   "metadata": {
    "papermill": {
     "duration": 0.081028,
     "end_time": "2020-11-26T13:51:01.129033",
     "exception": false,
     "start_time": "2020-11-26T13:51:01.048005",
     "status": "completed"
    },
    "tags": []
   },
   "outputs": [],
   "source": []
  },
  {
   "cell_type": "code",
   "execution_count": 19,
   "metadata": {
    "execution": {
     "iopub.execute_input": "2020-11-26T13:51:01.302644Z",
     "iopub.status.busy": "2020-11-26T13:51:01.301740Z",
     "iopub.status.idle": "2020-11-26T13:51:01.473877Z",
     "shell.execute_reply": "2020-11-26T13:51:01.474484Z"
    },
    "papermill": {
     "duration": 0.262129,
     "end_time": "2020-11-26T13:51:01.474663",
     "exception": false,
     "start_time": "2020-11-26T13:51:01.212534",
     "status": "completed"
    },
    "tags": []
   },
   "outputs": [
    {
     "data": {
      "image/png": "[encoded data removed]",
      "text/plain": [
       "<Figure size 432x288 with 1 Axes>"
      ]
     },
     "metadata": {
      "needs_background": "light"
     },
     "output_type": "display_data"
    }
   ],
   "source": [
    "# using box plot to check the distribution of fraudulent and non-fraudulent transactions with time.\n",
    "sns.boxplot(y='Time', x='Class', data=df)\n",
    "plt.show()"
   ]
  },
  {
   "cell_type": "code",
   "execution_count": 20,
   "metadata": {
    "execution": {
     "iopub.execute_input": "2020-11-26T13:51:01.645840Z",
     "iopub.status.busy": "2020-11-26T13:51:01.644714Z",
     "iopub.status.idle": "2020-11-26T13:51:01.723563Z",
     "shell.execute_reply": "2020-11-26T13:51:01.722587Z"
    },
    "papermill": {
     "duration": 0.168278,
     "end_time": "2020-11-26T13:51:01.723713",
     "exception": false,
     "start_time": "2020-11-26T13:51:01.555435",
     "status": "completed"
    },
    "tags": []
   },
   "outputs": [],
   "source": [
    "fraud = df[df['Class'] == 1] # pulling out rows where transaction is fraud\n",
    "not_fraud = df[df['Class'] == 0] # pulling out rows where transaction is not fraud"
   ]
  },
  {
   "cell_type": "code",
   "execution_count": 21,
   "metadata": {
    "execution": {
     "iopub.execute_input": "2020-11-26T13:51:01.898445Z",
     "iopub.status.busy": "2020-11-26T13:51:01.897672Z",
     "iopub.status.idle": "2020-11-26T13:51:01.906878Z",
     "shell.execute_reply": "2020-11-26T13:51:01.906105Z"
    },
    "papermill": {
     "duration": 0.098787,
     "end_time": "2020-11-26T13:51:01.907002",
     "exception": false,
     "start_time": "2020-11-26T13:51:01.808215",
     "status": "completed"
    },
    "tags": []
   },
   "outputs": [
    {
     "data": {
      "text/plain": [
       "count       492.000000\n",
       "mean      80746.806911\n",
       "std       47835.365138\n",
       "min         406.000000\n",
       "25%       41241.500000\n",
       "50%       75568.500000\n",
       "75%      128483.000000\n",
       "max      170348.000000\n",
       "Name: Time, dtype: float64"
      ]
     },
     "execution_count": 21,
     "metadata": {},
     "output_type": "execute_result"
    }
   ],
   "source": [
    "fraud['Time'].describe() # quick summary "
   ]
  },
  {
   "cell_type": "code",
   "execution_count": 22,
   "metadata": {
    "execution": {
     "iopub.execute_input": "2020-11-26T13:51:02.082590Z",
     "iopub.status.busy": "2020-11-26T13:51:02.081719Z",
     "iopub.status.idle": "2020-11-26T13:51:02.097452Z",
     "shell.execute_reply": "2020-11-26T13:51:02.096658Z"
    },
    "papermill": {
     "duration": 0.106355,
     "end_time": "2020-11-26T13:51:02.097580",
     "exception": false,
     "start_time": "2020-11-26T13:51:01.991225",
     "status": "completed"
    },
    "tags": []
   },
   "outputs": [
    {
     "data": {
      "text/plain": [
       "count    284315.000000\n",
       "mean      94838.202258\n",
       "std       47484.015786\n",
       "min           0.000000\n",
       "25%       54230.000000\n",
       "50%       84711.000000\n",
       "75%      139333.000000\n",
       "max      172792.000000\n",
       "Name: Time, dtype: float64"
      ]
     },
     "execution_count": 22,
     "metadata": {},
     "output_type": "execute_result"
    }
   ],
   "source": [
    "not_fraud['Time'].describe() # quick summary"
   ]
  },
  {
   "cell_type": "markdown",
   "metadata": {
    "papermill": {
     "duration": 0.083926,
     "end_time": "2020-11-26T13:51:02.271459",
     "exception": false,
     "start_time": "2020-11-26T13:51:02.187533",
     "status": "completed"
    },
    "tags": []
   },
   "source": [
    "### There is a slight different between the elapsed time for fraudulent and non-fraudulent activities for example, the starting and ending time. "
   ]
  },
  {
   "cell_type": "markdown",
   "metadata": {
    "papermill": {
     "duration": 0.081953,
     "end_time": "2020-11-26T13:51:02.490930",
     "exception": false,
     "start_time": "2020-11-26T13:51:02.408977",
     "status": "completed"
    },
    "tags": []
   },
   "source": [
    "## By Amount"
   ]
  },
  {
   "cell_type": "code",
   "execution_count": null,
   "metadata": {
    "papermill": {
     "duration": 0.083866,
     "end_time": "2020-11-26T13:51:02.660286",
     "exception": false,
     "start_time": "2020-11-26T13:51:02.576420",
     "status": "completed"
    },
    "tags": []
   },
   "outputs": [],
   "source": []
  },
  {
   "cell_type": "code",
   "execution_count": 23,
   "metadata": {
    "execution": {
     "iopub.execute_input": "2020-11-26T13:51:02.856278Z",
     "iopub.status.busy": "2020-11-26T13:51:02.834978Z",
     "iopub.status.idle": "2020-11-26T13:51:03.028206Z",
     "shell.execute_reply": "2020-11-26T13:51:03.027157Z"
    },
    "papermill": {
     "duration": 0.284127,
     "end_time": "2020-11-26T13:51:03.028343",
     "exception": false,
     "start_time": "2020-11-26T13:51:02.744216",
     "status": "completed"
    },
    "tags": []
   },
   "outputs": [
    {
     "data": {
      "image/png": "[encoded data removed]",
      "text/plain": [
       "<Figure size 432x288 with 1 Axes>"
      ]
     },
     "metadata": {
      "needs_background": "light"
     },
     "output_type": "display_data"
    }
   ],
   "source": [
    "plt.hist(fraud['Amount']) # checking amount involved in fraud\n",
    "plt.show()"
   ]
  },
  {
   "cell_type": "markdown",
   "metadata": {
    "papermill": {
     "duration": 0.084851,
     "end_time": "2020-11-26T13:51:03.200314",
     "exception": false,
     "start_time": "2020-11-26T13:51:03.115463",
     "status": "completed"
    },
    "tags": []
   },
   "source": [
    "### Amounts associated with fraud are more of lower values (<167)"
   ]
  },
  {
   "cell_type": "code",
   "execution_count": 24,
   "metadata": {
    "execution": {
     "iopub.execute_input": "2020-11-26T13:51:03.391264Z",
     "iopub.status.busy": "2020-11-26T13:51:03.390452Z",
     "iopub.status.idle": "2020-11-26T13:51:04.095066Z",
     "shell.execute_reply": "2020-11-26T13:51:04.094201Z"
    },
    "papermill": {
     "duration": 0.807498,
     "end_time": "2020-11-26T13:51:04.095227",
     "exception": false,
     "start_time": "2020-11-26T13:51:03.287729",
     "status": "completed"
    },
    "tags": []
   },
   "outputs": [
    {
     "data": {
      "image/png": "[encoded data removed]",
      "text/plain": [
       "<Figure size 1296x288 with 1 Axes>"
      ]
     },
     "metadata": {
      "needs_background": "light"
     },
     "output_type": "display_data"
    }
   ],
   "source": [
    "plt.figure(figsize=(18, 4)) \n",
    "plt.scatter(df['Amount'], df['Class'])\n",
    "plt.show()"
   ]
  },
  {
   "cell_type": "code",
   "execution_count": null,
   "metadata": {
    "papermill": {
     "duration": 0.084625,
     "end_time": "2020-11-26T13:51:04.268398",
     "exception": false,
     "start_time": "2020-11-26T13:51:04.183773",
     "status": "completed"
    },
    "tags": []
   },
   "outputs": [],
   "source": []
  },
  {
   "cell_type": "code",
   "execution_count": 25,
   "metadata": {
    "execution": {
     "iopub.execute_input": "2020-11-26T13:51:04.446585Z",
     "iopub.status.busy": "2020-11-26T13:51:04.445749Z",
     "iopub.status.idle": "2020-11-26T13:51:05.014746Z",
     "shell.execute_reply": "2020-11-26T13:51:05.014005Z"
    },
    "papermill": {
     "duration": 0.660619,
     "end_time": "2020-11-26T13:51:05.014870",
     "exception": false,
     "start_time": "2020-11-26T13:51:04.354251",
     "status": "completed"
    },
    "tags": []
   },
   "outputs": [
    {
     "data": {
      "image/png": "[encoded data removed]",
      "text/plain": [
       "<Figure size 432x288 with 1 Axes>"
      ]
     },
     "metadata": {
      "needs_background": "light"
     },
     "output_type": "display_data"
    }
   ],
   "source": [
    "sns.boxplot(y='Amount', x=df['Class'], data=np.log(df)) # using the log of the Amount due to the \n",
    "                                                        # large skewness\n",
    "plt.show()"
   ]
  },
  {
   "cell_type": "code",
   "execution_count": 26,
   "metadata": {
    "execution": {
     "iopub.execute_input": "2020-11-26T13:51:05.194515Z",
     "iopub.status.busy": "2020-11-26T13:51:05.193697Z",
     "iopub.status.idle": "2020-11-26T13:51:05.202512Z",
     "shell.execute_reply": "2020-11-26T13:51:05.201865Z"
    },
    "papermill": {
     "duration": 0.101413,
     "end_time": "2020-11-26T13:51:05.202644",
     "exception": false,
     "start_time": "2020-11-26T13:51:05.101231",
     "status": "completed"
    },
    "tags": []
   },
   "outputs": [
    {
     "data": {
      "text/plain": [
       "count     492.000000\n",
       "mean      122.211321\n",
       "std       256.683288\n",
       "min         0.000000\n",
       "25%         1.000000\n",
       "50%         9.250000\n",
       "75%       105.890000\n",
       "max      2125.870000\n",
       "Name: Amount, dtype: float64"
      ]
     },
     "execution_count": 26,
     "metadata": {},
     "output_type": "execute_result"
    }
   ],
   "source": [
    "fraud['Amount'].describe()"
   ]
  },
  {
   "cell_type": "code",
   "execution_count": 27,
   "metadata": {
    "execution": {
     "iopub.execute_input": "2020-11-26T13:51:05.377980Z",
     "iopub.status.busy": "2020-11-26T13:51:05.377212Z",
     "iopub.status.idle": "2020-11-26T13:51:05.397828Z",
     "shell.execute_reply": "2020-11-26T13:51:05.396977Z"
    },
    "papermill": {
     "duration": 0.110986,
     "end_time": "2020-11-26T13:51:05.397964",
     "exception": false,
     "start_time": "2020-11-26T13:51:05.286978",
     "status": "completed"
    },
    "tags": []
   },
   "outputs": [
    {
     "data": {
      "text/plain": [
       "count    284315.000000\n",
       "mean         88.291022\n",
       "std         250.105092\n",
       "min           0.000000\n",
       "25%           5.650000\n",
       "50%          22.000000\n",
       "75%          77.050000\n",
       "max       25691.160000\n",
       "Name: Amount, dtype: float64"
      ]
     },
     "execution_count": 27,
     "metadata": {},
     "output_type": "execute_result"
    }
   ],
   "source": [
    "not_fraud['Amount'].describe()"
   ]
  },
  {
   "cell_type": "markdown",
   "metadata": {
    "papermill": {
     "duration": 0.085012,
     "end_time": "2020-11-26T13:51:05.568413",
     "exception": false,
     "start_time": "2020-11-26T13:51:05.483401",
     "status": "completed"
    },
    "tags": []
   },
   "source": [
    "### There is a slight different between the Amount for fraudulent and non-fraudulent activities for example, the max Amount. "
   ]
  },
  {
   "cell_type": "markdown",
   "metadata": {
    "papermill": {
     "duration": 0.084861,
     "end_time": "2020-11-26T13:51:05.738706",
     "exception": false,
     "start_time": "2020-11-26T13:51:05.653845",
     "status": "completed"
    },
    "tags": []
   },
   "source": [
    "## Feature Selection"
   ]
  },
  {
   "cell_type": "markdown",
   "metadata": {
    "papermill": {
     "duration": 0.083893,
     "end_time": "2020-11-26T13:51:05.907395",
     "exception": false,
     "start_time": "2020-11-26T13:51:05.823502",
     "status": "completed"
    },
    "tags": []
   },
   "source": [
    "### For our feature selection, we will be using Recursive Feature Elimination Cross Validation (RFECV), we will use LogisticRegression as our baseline model and all our splits will be stratified."
   ]
  },
  {
   "cell_type": "code",
   "execution_count": 28,
   "metadata": {
    "execution": {
     "iopub.execute_input": "2020-11-26T13:51:06.086892Z",
     "iopub.status.busy": "2020-11-26T13:51:06.086072Z",
     "iopub.status.idle": "2020-11-26T13:51:06.410157Z",
     "shell.execute_reply": "2020-11-26T13:51:06.410744Z"
    },
    "papermill": {
     "duration": 0.418185,
     "end_time": "2020-11-26T13:51:06.410982",
     "exception": false,
     "start_time": "2020-11-26T13:51:05.992797",
     "status": "completed"
    },
    "tags": []
   },
   "outputs": [],
   "source": [
    "from sklearn.feature_selection import RFECV\n",
    "from sklearn.linear_model import LogisticRegression\n",
    "from sklearn.model_selection import StratifiedKFold"
   ]
  },
  {
   "cell_type": "markdown",
   "metadata": {
    "papermill": {
     "duration": 0.086561,
     "end_time": "2020-11-26T13:51:06.583397",
     "exception": false,
     "start_time": "2020-11-26T13:51:06.496836",
     "status": "completed"
    },
    "tags": []
   },
   "source": [
    "## Only PCA Features"
   ]
  },
  {
   "cell_type": "markdown",
   "metadata": {
    "papermill": {
     "duration": 0.087397,
     "end_time": "2020-11-26T13:51:06.759157",
     "exception": false,
     "start_time": "2020-11-26T13:51:06.671760",
     "status": "completed"
    },
    "tags": []
   },
   "source": [
    "### Modeling using only PCA features without scaling"
   ]
  },
  {
   "cell_type": "code",
   "execution_count": 29,
   "metadata": {
    "execution": {
     "iopub.execute_input": "2020-11-26T13:51:06.961095Z",
     "iopub.status.busy": "2020-11-26T13:51:06.960237Z",
     "iopub.status.idle": "2020-11-26T13:51:06.963959Z",
     "shell.execute_reply": "2020-11-26T13:51:06.963266Z"
    },
    "papermill": {
     "duration": 0.118297,
     "end_time": "2020-11-26T13:51:06.964110",
     "exception": false,
     "start_time": "2020-11-26T13:51:06.845813",
     "status": "completed"
    },
    "tags": []
   },
   "outputs": [],
   "source": [
    "X = df.iloc[:, 1:29]\n",
    "y = df.iloc[:, -1]"
   ]
  },
  {
   "cell_type": "markdown",
   "metadata": {
    "papermill": {
     "duration": 0.087621,
     "end_time": "2020-11-26T13:51:07.139064",
     "exception": false,
     "start_time": "2020-11-26T13:51:07.051443",
     "status": "completed"
    },
    "tags": []
   },
   "source": [
    "### Due to the huge class imbalance, we will be setting the class weights to penalize misclassification of the minority class more than the majority class. We could have simply set the ````class_weight```` to 'balanced' but this will result in lower f1 score because it uses the formula: $ w_{i} = \\frac{n\\_samples}{n\\_classes \\times n_{i}} $ \n",
    "### Since $\\frac{n\\_samples}{n\\_classes}$ is constant, we can think of the weight for class i as $w_{i} = K \\times \\frac{1}{n_{i}}$ which is essentially a scaling of the weight $\\frac{1}{n_{i}}$ by K. \n",
    "### Since our dataset is heavily unbalanced, using 'balanced' will make the weights to be too large and will make our model iterate more to reach the minimum gradient. Logistic Regressor default ````max_iter```` is 100 and after trying using 'balanced', the f1_score was poor because 100 iterations wasn't enough. To make our model converge faster to the minimum gradient, we will simpl use our weights as $\\frac{1}{n_{i}}$ without multiplying by K. This wouldn't change anything because the ratio of weights of each class is still preserved. This will only make our baseline model converge faster."
   ]
  },
  {
   "cell_type": "code",
   "execution_count": 30,
   "metadata": {
    "execution": {
     "iopub.execute_input": "2020-11-26T13:51:07.317240Z",
     "iopub.status.busy": "2020-11-26T13:51:07.316124Z",
     "iopub.status.idle": "2020-11-26T13:51:07.321159Z",
     "shell.execute_reply": "2020-11-26T13:51:07.320427Z"
    },
    "papermill": {
     "duration": 0.096294,
     "end_time": "2020-11-26T13:51:07.321295",
     "exception": false,
     "start_time": "2020-11-26T13:51:07.225001",
     "status": "completed"
    },
    "tags": []
   },
   "outputs": [
    {
     "data": {
      "text/plain": [
       "{0: 3.51722561243691e-06, 1: 0.0020325203252032522}"
      ]
     },
     "execution_count": 30,
     "metadata": {},
     "output_type": "execute_result"
    }
   ],
   "source": [
    "weights = 1 / val_count\n",
    "dict(weights)"
   ]
  },
  {
   "cell_type": "code",
   "execution_count": 31,
   "metadata": {
    "execution": {
     "iopub.execute_input": "2020-11-26T13:51:07.501154Z",
     "iopub.status.busy": "2020-11-26T13:51:07.500079Z",
     "iopub.status.idle": "2020-11-26T13:51:07.503969Z",
     "shell.execute_reply": "2020-11-26T13:51:07.503085Z"
    },
    "papermill": {
     "duration": 0.095899,
     "end_time": "2020-11-26T13:51:07.504121",
     "exception": false,
     "start_time": "2020-11-26T13:51:07.408222",
     "status": "completed"
    },
    "tags": []
   },
   "outputs": [],
   "source": [
    "baseline_model = LogisticRegression(class_weight=dict(weights))\n",
    "cv = StratifiedKFold(n_splits=4, random_state=1)"
   ]
  },
  {
   "cell_type": "code",
   "execution_count": 32,
   "metadata": {
    "execution": {
     "iopub.execute_input": "2020-11-26T13:51:07.686011Z",
     "iopub.status.busy": "2020-11-26T13:51:07.684688Z",
     "iopub.status.idle": "2020-11-26T13:51:40.246124Z",
     "shell.execute_reply": "2020-11-26T13:51:40.245337Z"
    },
    "papermill": {
     "duration": 32.655972,
     "end_time": "2020-11-26T13:51:40.246299",
     "exception": false,
     "start_time": "2020-11-26T13:51:07.590327",
     "status": "completed"
    },
    "tags": []
   },
   "outputs": [],
   "source": [
    "feature_elimination = RFECV(estimator=baseline_model, cv=cv, scoring='f1', n_jobs=4)\n",
    "feature_elimination.fit(X, y);"
   ]
  },
  {
   "cell_type": "code",
   "execution_count": 33,
   "metadata": {
    "execution": {
     "iopub.execute_input": "2020-11-26T13:51:40.516621Z",
     "iopub.status.busy": "2020-11-26T13:51:40.515192Z",
     "iopub.status.idle": "2020-11-26T13:51:40.681827Z",
     "shell.execute_reply": "2020-11-26T13:51:40.682823Z"
    },
    "papermill": {
     "duration": 0.309664,
     "end_time": "2020-11-26T13:51:40.683085",
     "exception": false,
     "start_time": "2020-11-26T13:51:40.373421",
     "status": "completed"
    },
    "tags": []
   },
   "outputs": [
    {
     "data": {
      "image/png": "[encoded data removed]",
      "text/plain": [
       "<Figure size 432x288 with 1 Axes>"
      ]
     },
     "metadata": {
      "needs_background": "light"
     },
     "output_type": "display_data"
    }
   ],
   "source": [
    "rfecv_scores = feature_elimination.grid_scores_\n",
    "plt.plot(range(1, len(rfecv_scores)+1), rfecv_scores)\n",
    "plt.xlabel('Number of features used')\n",
    "plt.ylabel('Cross validation f1 score')\n",
    "plt.show()"
   ]
  },
  {
   "cell_type": "code",
   "execution_count": 34,
   "metadata": {
    "execution": {
     "iopub.execute_input": "2020-11-26T13:51:40.916844Z",
     "iopub.status.busy": "2020-11-26T13:51:40.915823Z",
     "iopub.status.idle": "2020-11-26T13:51:40.920423Z",
     "shell.execute_reply": "2020-11-26T13:51:40.919662Z"
    },
    "papermill": {
     "duration": 0.124577,
     "end_time": "2020-11-26T13:51:40.920555",
     "exception": false,
     "start_time": "2020-11-26T13:51:40.795978",
     "status": "completed"
    },
    "tags": []
   },
   "outputs": [
    {
     "data": {
      "text/plain": [
       "0.5691732784839253"
      ]
     },
     "execution_count": 34,
     "metadata": {},
     "output_type": "execute_result"
    }
   ],
   "source": [
    "rfecv_scores.max() # checking the best f1_score"
   ]
  },
  {
   "cell_type": "code",
   "execution_count": 35,
   "metadata": {
    "execution": {
     "iopub.execute_input": "2020-11-26T13:51:41.111852Z",
     "iopub.status.busy": "2020-11-26T13:51:41.110812Z",
     "iopub.status.idle": "2020-11-26T13:51:41.116298Z",
     "shell.execute_reply": "2020-11-26T13:51:41.115557Z"
    },
    "papermill": {
     "duration": 0.102422,
     "end_time": "2020-11-26T13:51:41.116436",
     "exception": false,
     "start_time": "2020-11-26T13:51:41.014014",
     "status": "completed"
    },
    "tags": []
   },
   "outputs": [
    {
     "data": {
      "text/plain": [
       "18"
      ]
     },
     "execution_count": 35,
     "metadata": {},
     "output_type": "execute_result"
    }
   ],
   "source": [
    "feature_elimination.n_features_ # checking the best number of features to use"
   ]
  },
  {
   "cell_type": "code",
   "execution_count": 36,
   "metadata": {
    "execution": {
     "iopub.execute_input": "2020-11-26T13:51:41.307416Z",
     "iopub.status.busy": "2020-11-26T13:51:41.306356Z",
     "iopub.status.idle": "2020-11-26T13:51:41.311530Z",
     "shell.execute_reply": "2020-11-26T13:51:41.310821Z"
    },
    "papermill": {
     "duration": 0.102876,
     "end_time": "2020-11-26T13:51:41.311666",
     "exception": false,
     "start_time": "2020-11-26T13:51:41.208790",
     "status": "completed"
    },
    "tags": []
   },
   "outputs": [
    {
     "data": {
      "text/plain": [
       "array([ 1,  1,  1,  1,  1,  1,  1,  1,  1,  1,  1,  1,  1,  1,  7,  1,  1,\n",
       "        5,  2,  9,  1,  3,  1, 10, 11,  4,  6,  8])"
      ]
     },
     "execution_count": 36,
     "metadata": {},
     "output_type": "execute_result"
    }
   ],
   "source": [
    "feature_elimination.ranking_ # checking the ranking of the features"
   ]
  },
  {
   "cell_type": "code",
   "execution_count": 37,
   "metadata": {
    "execution": {
     "iopub.execute_input": "2020-11-26T13:51:41.505346Z",
     "iopub.status.busy": "2020-11-26T13:51:41.504138Z",
     "iopub.status.idle": "2020-11-26T13:51:41.509451Z",
     "shell.execute_reply": "2020-11-26T13:51:41.508731Z"
    },
    "papermill": {
     "duration": 0.104726,
     "end_time": "2020-11-26T13:51:41.509572",
     "exception": false,
     "start_time": "2020-11-26T13:51:41.404846",
     "status": "completed"
    },
    "tags": []
   },
   "outputs": [
    {
     "data": {
      "text/plain": [
       "array([ True,  True,  True,  True,  True,  True,  True,  True,  True,\n",
       "        True,  True,  True,  True,  True, False,  True,  True, False,\n",
       "       False, False,  True, False,  True, False, False, False, False,\n",
       "       False])"
      ]
     },
     "execution_count": 37,
     "metadata": {},
     "output_type": "execute_result"
    }
   ],
   "source": [
    "feature_elimination.support_ # checking the masking array to filter out the best features"
   ]
  },
  {
   "cell_type": "markdown",
   "metadata": {
    "papermill": {
     "duration": 0.097024,
     "end_time": "2020-11-26T13:51:41.699916",
     "exception": false,
     "start_time": "2020-11-26T13:51:41.602892",
     "status": "completed"
    },
    "tags": []
   },
   "source": [
    "## Using all features"
   ]
  },
  {
   "cell_type": "code",
   "execution_count": 38,
   "metadata": {
    "execution": {
     "iopub.execute_input": "2020-11-26T13:51:41.890730Z",
     "iopub.status.busy": "2020-11-26T13:51:41.889882Z",
     "iopub.status.idle": "2020-11-26T13:51:41.893350Z",
     "shell.execute_reply": "2020-11-26T13:51:41.892584Z"
    },
    "papermill": {
     "duration": 0.099767,
     "end_time": "2020-11-26T13:51:41.893476",
     "exception": false,
     "start_time": "2020-11-26T13:51:41.793709",
     "status": "completed"
    },
    "tags": []
   },
   "outputs": [],
   "source": [
    "from sklearn.preprocessing import StandardScaler"
   ]
  },
  {
   "cell_type": "code",
   "execution_count": 39,
   "metadata": {
    "execution": {
     "iopub.execute_input": "2020-11-26T13:51:42.107963Z",
     "iopub.status.busy": "2020-11-26T13:51:42.106302Z",
     "iopub.status.idle": "2020-11-26T13:51:42.334540Z",
     "shell.execute_reply": "2020-11-26T13:51:42.333868Z"
    },
    "papermill": {
     "duration": 0.350314,
     "end_time": "2020-11-26T13:51:42.334686",
     "exception": false,
     "start_time": "2020-11-26T13:51:41.984372",
     "status": "completed"
    },
    "tags": []
   },
   "outputs": [],
   "source": [
    "scaler = StandardScaler()\n",
    "scaled_df = df.iloc[:, :-1].copy()\n",
    "scaled_df = scaler.fit_transform(scaled_df) "
   ]
  },
  {
   "cell_type": "code",
   "execution_count": null,
   "metadata": {
    "papermill": {
     "duration": 0.089485,
     "end_time": "2020-11-26T13:51:42.515385",
     "exception": false,
     "start_time": "2020-11-26T13:51:42.425900",
     "status": "completed"
    },
    "tags": []
   },
   "outputs": [],
   "source": []
  },
  {
   "cell_type": "code",
   "execution_count": 40,
   "metadata": {
    "execution": {
     "iopub.execute_input": "2020-11-26T13:51:42.701396Z",
     "iopub.status.busy": "2020-11-26T13:51:42.700646Z",
     "iopub.status.idle": "2020-11-26T13:51:42.704468Z",
     "shell.execute_reply": "2020-11-26T13:51:42.703715Z"
    },
    "papermill": {
     "duration": 0.099275,
     "end_time": "2020-11-26T13:51:42.704592",
     "exception": false,
     "start_time": "2020-11-26T13:51:42.605317",
     "status": "completed"
    },
    "tags": []
   },
   "outputs": [],
   "source": [
    "baseline_model2 = LogisticRegression(class_weight=dict(weights))"
   ]
  },
  {
   "cell_type": "code",
   "execution_count": 41,
   "metadata": {
    "execution": {
     "iopub.execute_input": "2020-11-26T13:51:42.892744Z",
     "iopub.status.busy": "2020-11-26T13:51:42.891950Z",
     "iopub.status.idle": "2020-11-26T13:52:16.465360Z",
     "shell.execute_reply": "2020-11-26T13:52:16.464645Z"
    },
    "papermill": {
     "duration": 33.670226,
     "end_time": "2020-11-26T13:52:16.465491",
     "exception": false,
     "start_time": "2020-11-26T13:51:42.795265",
     "status": "completed"
    },
    "tags": []
   },
   "outputs": [],
   "source": [
    "feature_elimination2 = RFECV(estimator=baseline_model2, cv=cv, scoring='f1', n_jobs=4)\n",
    "feature_elimination2.fit(scaled_df, y);"
   ]
  },
  {
   "cell_type": "code",
   "execution_count": 42,
   "metadata": {
    "execution": {
     "iopub.execute_input": "2020-11-26T13:52:16.658824Z",
     "iopub.status.busy": "2020-11-26T13:52:16.653586Z",
     "iopub.status.idle": "2020-11-26T13:52:16.815639Z",
     "shell.execute_reply": "2020-11-26T13:52:16.814998Z"
    },
    "papermill": {
     "duration": 0.25904,
     "end_time": "2020-11-26T13:52:16.815799",
     "exception": false,
     "start_time": "2020-11-26T13:52:16.556759",
     "status": "completed"
    },
    "tags": []
   },
   "outputs": [
    {
     "data": {
      "image/png": "[encoded data removed]",
      "text/plain": [
       "<Figure size 432x288 with 1 Axes>"
      ]
     },
     "metadata": {
      "needs_background": "light"
     },
     "output_type": "display_data"
    }
   ],
   "source": [
    "rfecv_scores2 = feature_elimination2.grid_scores_\n",
    "plt.plot(range(1, len(rfecv_scores2)+1), rfecv_scores2)\n",
    "plt.xlabel('Number of features used')\n",
    "plt.ylabel('Cross validation f1 score')\n",
    "plt.show()"
   ]
  },
  {
   "cell_type": "code",
   "execution_count": 43,
   "metadata": {
    "execution": {
     "iopub.execute_input": "2020-11-26T13:52:17.007220Z",
     "iopub.status.busy": "2020-11-26T13:52:17.006222Z",
     "iopub.status.idle": "2020-11-26T13:52:17.011363Z",
     "shell.execute_reply": "2020-11-26T13:52:17.010650Z"
    },
    "papermill": {
     "duration": 0.103378,
     "end_time": "2020-11-26T13:52:17.011492",
     "exception": false,
     "start_time": "2020-11-26T13:52:16.908114",
     "status": "completed"
    },
    "tags": []
   },
   "outputs": [
    {
     "data": {
      "text/plain": [
       "0.6807954175099398"
      ]
     },
     "execution_count": 43,
     "metadata": {},
     "output_type": "execute_result"
    }
   ],
   "source": [
    "rfecv_scores2.max() # checking the best f1_score"
   ]
  },
  {
   "cell_type": "code",
   "execution_count": 44,
   "metadata": {
    "execution": {
     "iopub.execute_input": "2020-11-26T13:52:17.208248Z",
     "iopub.status.busy": "2020-11-26T13:52:17.206954Z",
     "iopub.status.idle": "2020-11-26T13:52:17.211981Z",
     "shell.execute_reply": "2020-11-26T13:52:17.211314Z"
    },
    "papermill": {
     "duration": 0.103481,
     "end_time": "2020-11-26T13:52:17.212120",
     "exception": false,
     "start_time": "2020-11-26T13:52:17.108639",
     "status": "completed"
    },
    "tags": []
   },
   "outputs": [
    {
     "data": {
      "text/plain": [
       "19"
      ]
     },
     "execution_count": 44,
     "metadata": {},
     "output_type": "execute_result"
    }
   ],
   "source": [
    "feature_elimination2.n_features_ # checking the best number of features to use"
   ]
  },
  {
   "cell_type": "code",
   "execution_count": 45,
   "metadata": {
    "execution": {
     "iopub.execute_input": "2020-11-26T13:52:17.402327Z",
     "iopub.status.busy": "2020-11-26T13:52:17.401447Z",
     "iopub.status.idle": "2020-11-26T13:52:17.406062Z",
     "shell.execute_reply": "2020-11-26T13:52:17.405335Z"
    },
    "papermill": {
     "duration": 0.102197,
     "end_time": "2020-11-26T13:52:17.406181",
     "exception": false,
     "start_time": "2020-11-26T13:52:17.303984",
     "status": "completed"
    },
    "tags": []
   },
   "outputs": [
    {
     "data": {
      "text/plain": [
       "array([ 7,  1,  1,  1,  1,  1,  1,  1,  1,  1,  1,  1,  1,  1,  1,  9,  1,\n",
       "        1,  8,  4, 11,  1,  6,  1, 10, 12,  5,  2,  3,  1])"
      ]
     },
     "execution_count": 45,
     "metadata": {},
     "output_type": "execute_result"
    }
   ],
   "source": [
    "feature_elimination2.ranking_ # checking the ranking of the features"
   ]
  },
  {
   "cell_type": "code",
   "execution_count": 46,
   "metadata": {
    "execution": {
     "iopub.execute_input": "2020-11-26T13:52:17.597403Z",
     "iopub.status.busy": "2020-11-26T13:52:17.596276Z",
     "iopub.status.idle": "2020-11-26T13:52:17.601735Z",
     "shell.execute_reply": "2020-11-26T13:52:17.600845Z"
    },
    "papermill": {
     "duration": 0.103401,
     "end_time": "2020-11-26T13:52:17.601870",
     "exception": false,
     "start_time": "2020-11-26T13:52:17.498469",
     "status": "completed"
    },
    "tags": []
   },
   "outputs": [
    {
     "data": {
      "text/plain": [
       "array([False,  True,  True,  True,  True,  True,  True,  True,  True,\n",
       "        True,  True,  True,  True,  True,  True, False,  True,  True,\n",
       "       False, False, False,  True, False,  True, False, False, False,\n",
       "       False, False,  True])"
      ]
     },
     "execution_count": 46,
     "metadata": {},
     "output_type": "execute_result"
    }
   ],
   "source": [
    "feature_elimination2.support_ # checking the masking array to filter out the best features"
   ]
  },
  {
   "cell_type": "code",
   "execution_count": null,
   "metadata": {
    "papermill": {
     "duration": 0.096163,
     "end_time": "2020-11-26T13:52:17.792393",
     "exception": false,
     "start_time": "2020-11-26T13:52:17.696230",
     "status": "completed"
    },
    "tags": []
   },
   "outputs": [],
   "source": []
  },
  {
   "cell_type": "markdown",
   "metadata": {
    "papermill": {
     "duration": 0.095456,
     "end_time": "2020-11-26T13:52:17.984313",
     "exception": false,
     "start_time": "2020-11-26T13:52:17.888857",
     "status": "completed"
    },
    "tags": []
   },
   "source": [
    "## Only scaled PCA features"
   ]
  },
  {
   "cell_type": "code",
   "execution_count": 47,
   "metadata": {
    "execution": {
     "iopub.execute_input": "2020-11-26T13:52:18.182362Z",
     "iopub.status.busy": "2020-11-26T13:52:18.181289Z",
     "iopub.status.idle": "2020-11-26T13:52:18.184627Z",
     "shell.execute_reply": "2020-11-26T13:52:18.183889Z"
    },
    "papermill": {
     "duration": 0.10475,
     "end_time": "2020-11-26T13:52:18.184747",
     "exception": false,
     "start_time": "2020-11-26T13:52:18.079997",
     "status": "completed"
    },
    "tags": []
   },
   "outputs": [],
   "source": [
    "X3 = scaled_df[:, 1:29]"
   ]
  },
  {
   "cell_type": "code",
   "execution_count": null,
   "metadata": {
    "papermill": {
     "duration": 0.093654,
     "end_time": "2020-11-26T13:52:18.372913",
     "exception": false,
     "start_time": "2020-11-26T13:52:18.279259",
     "status": "completed"
    },
    "tags": []
   },
   "outputs": [],
   "source": []
  },
  {
   "cell_type": "code",
   "execution_count": 48,
   "metadata": {
    "execution": {
     "iopub.execute_input": "2020-11-26T13:52:18.571613Z",
     "iopub.status.busy": "2020-11-26T13:52:18.570819Z",
     "iopub.status.idle": "2020-11-26T13:52:18.574220Z",
     "shell.execute_reply": "2020-11-26T13:52:18.573428Z"
    },
    "papermill": {
     "duration": 0.105919,
     "end_time": "2020-11-26T13:52:18.574362",
     "exception": false,
     "start_time": "2020-11-26T13:52:18.468443",
     "status": "completed"
    },
    "tags": []
   },
   "outputs": [],
   "source": [
    "baseline_model3 = LogisticRegression(class_weight=dict(weights))"
   ]
  },
  {
   "cell_type": "code",
   "execution_count": 49,
   "metadata": {
    "execution": {
     "iopub.execute_input": "2020-11-26T13:52:18.770306Z",
     "iopub.status.busy": "2020-11-26T13:52:18.769490Z",
     "iopub.status.idle": "2020-11-26T13:52:48.220275Z",
     "shell.execute_reply": "2020-11-26T13:52:48.219449Z"
    },
    "papermill": {
     "duration": 29.551252,
     "end_time": "2020-11-26T13:52:48.220420",
     "exception": false,
     "start_time": "2020-11-26T13:52:18.669168",
     "status": "completed"
    },
    "tags": []
   },
   "outputs": [],
   "source": [
    "feature_elimination3 = RFECV(estimator=baseline_model3, cv=cv, scoring='f1', n_jobs=4)\n",
    "feature_elimination3.fit(X3, y);"
   ]
  },
  {
   "cell_type": "code",
   "execution_count": 50,
   "metadata": {
    "execution": {
     "iopub.execute_input": "2020-11-26T13:52:48.424725Z",
     "iopub.status.busy": "2020-11-26T13:52:48.423544Z",
     "iopub.status.idle": "2020-11-26T13:52:48.578317Z",
     "shell.execute_reply": "2020-11-26T13:52:48.577634Z"
    },
    "papermill": {
     "duration": 0.262956,
     "end_time": "2020-11-26T13:52:48.578442",
     "exception": false,
     "start_time": "2020-11-26T13:52:48.315486",
     "status": "completed"
    },
    "tags": []
   },
   "outputs": [
    {
     "data": {
      "image/png": "[encoded data removed]",
      "text/plain": [
       "<Figure size 432x288 with 1 Axes>"
      ]
     },
     "metadata": {
      "needs_background": "light"
     },
     "output_type": "display_data"
    }
   ],
   "source": [
    "rfecv_scores3 = feature_elimination3.grid_scores_\n",
    "plt.plot(range(1, len(rfecv_scores3)+1), rfecv_scores3)\n",
    "plt.xlabel('Number of features used')\n",
    "plt.ylabel('Cross validation f1 score')\n",
    "plt.show()"
   ]
  },
  {
   "cell_type": "code",
   "execution_count": 51,
   "metadata": {
    "execution": {
     "iopub.execute_input": "2020-11-26T13:52:48.792150Z",
     "iopub.status.busy": "2020-11-26T13:52:48.790741Z",
     "iopub.status.idle": "2020-11-26T13:52:48.796072Z",
     "shell.execute_reply": "2020-11-26T13:52:48.795457Z"
    },
    "papermill": {
     "duration": 0.118682,
     "end_time": "2020-11-26T13:52:48.796215",
     "exception": false,
     "start_time": "2020-11-26T13:52:48.677533",
     "status": "completed"
    },
    "tags": []
   },
   "outputs": [
    {
     "data": {
      "text/plain": [
       "0.7067929903615544"
      ]
     },
     "execution_count": 51,
     "metadata": {},
     "output_type": "execute_result"
    }
   ],
   "source": [
    "rfecv_scores3.max() # checking the best f1_score"
   ]
  },
  {
   "cell_type": "code",
   "execution_count": 52,
   "metadata": {
    "execution": {
     "iopub.execute_input": "2020-11-26T13:52:48.995752Z",
     "iopub.status.busy": "2020-11-26T13:52:48.994667Z",
     "iopub.status.idle": "2020-11-26T13:52:48.998882Z",
     "shell.execute_reply": "2020-11-26T13:52:48.998269Z"
    },
    "papermill": {
     "duration": 0.106087,
     "end_time": "2020-11-26T13:52:48.999003",
     "exception": false,
     "start_time": "2020-11-26T13:52:48.892916",
     "status": "completed"
    },
    "tags": []
   },
   "outputs": [
    {
     "data": {
      "text/plain": [
       "19"
      ]
     },
     "execution_count": 52,
     "metadata": {},
     "output_type": "execute_result"
    }
   ],
   "source": [
    "feature_elimination3.n_features_ # checking the best number of features to use"
   ]
  },
  {
   "cell_type": "code",
   "execution_count": 53,
   "metadata": {
    "execution": {
     "iopub.execute_input": "2020-11-26T13:52:49.202934Z",
     "iopub.status.busy": "2020-11-26T13:52:49.202012Z",
     "iopub.status.idle": "2020-11-26T13:52:49.206958Z",
     "shell.execute_reply": "2020-11-26T13:52:49.206233Z"
    },
    "papermill": {
     "duration": 0.110528,
     "end_time": "2020-11-26T13:52:49.207118",
     "exception": false,
     "start_time": "2020-11-26T13:52:49.096590",
     "status": "completed"
    },
    "tags": []
   },
   "outputs": [
    {
     "data": {
      "text/plain": [
       "array([ 1,  1,  1,  1,  1,  1,  1,  1,  1,  1,  1,  1,  1,  1,  7,  1,  1,\n",
       "        6,  3,  8,  1,  5,  1,  9, 10,  4,  1,  2])"
      ]
     },
     "execution_count": 53,
     "metadata": {},
     "output_type": "execute_result"
    }
   ],
   "source": [
    "feature_elimination3.ranking_ # checking the ranking of the features"
   ]
  },
  {
   "cell_type": "code",
   "execution_count": 54,
   "metadata": {
    "execution": {
     "iopub.execute_input": "2020-11-26T13:52:49.408934Z",
     "iopub.status.busy": "2020-11-26T13:52:49.407899Z",
     "iopub.status.idle": "2020-11-26T13:52:49.412918Z",
     "shell.execute_reply": "2020-11-26T13:52:49.412169Z"
    },
    "papermill": {
     "duration": 0.108087,
     "end_time": "2020-11-26T13:52:49.413068",
     "exception": false,
     "start_time": "2020-11-26T13:52:49.304981",
     "status": "completed"
    },
    "tags": []
   },
   "outputs": [
    {
     "data": {
      "text/plain": [
       "array([ True,  True,  True,  True,  True,  True,  True,  True,  True,\n",
       "        True,  True,  True,  True,  True, False,  True,  True, False,\n",
       "       False, False,  True, False,  True, False, False, False,  True,\n",
       "       False])"
      ]
     },
     "execution_count": 54,
     "metadata": {},
     "output_type": "execute_result"
    }
   ],
   "source": [
    "feature_elimination3.support_ # checking the masking array to filter out the best features"
   ]
  },
  {
   "cell_type": "markdown",
   "metadata": {
    "papermill": {
     "duration": 0.097349,
     "end_time": "2020-11-26T13:52:49.608612",
     "exception": false,
     "start_time": "2020-11-26T13:52:49.511263",
     "status": "completed"
    },
    "tags": []
   },
   "source": [
    "### Using only Scaled PCA seems to be the best."
   ]
  },
  {
   "cell_type": "markdown",
   "metadata": {
    "papermill": {
     "duration": 0.098429,
     "end_time": "2020-11-26T13:52:49.805818",
     "exception": false,
     "start_time": "2020-11-26T13:52:49.707389",
     "status": "completed"
    },
    "tags": []
   },
   "source": [
    "## Let's see the important features."
   ]
  },
  {
   "cell_type": "code",
   "execution_count": 55,
   "metadata": {
    "execution": {
     "iopub.execute_input": "2020-11-26T13:52:50.014215Z",
     "iopub.status.busy": "2020-11-26T13:52:50.013226Z",
     "iopub.status.idle": "2020-11-26T13:52:50.018135Z",
     "shell.execute_reply": "2020-11-26T13:52:50.017452Z"
    },
    "papermill": {
     "duration": 0.113272,
     "end_time": "2020-11-26T13:52:50.018259",
     "exception": false,
     "start_time": "2020-11-26T13:52:49.904987",
     "status": "completed"
    },
    "tags": []
   },
   "outputs": [
    {
     "data": {
      "text/plain": [
       "Index(['V1', 'V2', 'V3', 'V4', 'V5', 'V6', 'V7', 'V8', 'V9', 'V10', 'V11',\n",
       "       'V12', 'V13', 'V14', 'V16', 'V17', 'V21', 'V23', 'V27'],\n",
       "      dtype='object')"
      ]
     },
     "execution_count": 55,
     "metadata": {},
     "output_type": "execute_result"
    }
   ],
   "source": [
    "important_features = df.columns[1:29][feature_elimination3.support_]\n",
    "important_features"
   ]
  },
  {
   "cell_type": "markdown",
   "metadata": {
    "papermill": {
     "duration": 0.100221,
     "end_time": "2020-11-26T13:52:50.217222",
     "exception": false,
     "start_time": "2020-11-26T13:52:50.117001",
     "status": "completed"
    },
    "tags": []
   },
   "source": [
    "### Basically using all scaled PCA features apart from V15, V18, V19, V20, V22, V24, V25, V26 and V28"
   ]
  },
  {
   "cell_type": "markdown",
   "metadata": {
    "papermill": {
     "duration": 0.097608,
     "end_time": "2020-11-26T13:52:50.413214",
     "exception": false,
     "start_time": "2020-11-26T13:52:50.315606",
     "status": "completed"
    },
    "tags": []
   },
   "source": [
    "### Using SMOTE"
   ]
  },
  {
   "cell_type": "code",
   "execution_count": 56,
   "metadata": {
    "execution": {
     "iopub.execute_input": "2020-11-26T13:52:50.618667Z",
     "iopub.status.busy": "2020-11-26T13:52:50.617808Z",
     "iopub.status.idle": "2020-11-26T13:52:50.828664Z",
     "shell.execute_reply": "2020-11-26T13:52:50.827945Z"
    },
    "papermill": {
     "duration": 0.315565,
     "end_time": "2020-11-26T13:52:50.828791",
     "exception": false,
     "start_time": "2020-11-26T13:52:50.513226",
     "status": "completed"
    },
    "tags": []
   },
   "outputs": [],
   "source": [
    "from imblearn.over_sampling import SMOTE\n",
    "from imblearn.pipeline import Pipeline\n",
    "from sklearn.model_selection import cross_val_score"
   ]
  },
  {
   "cell_type": "markdown",
   "metadata": {
    "papermill": {
     "duration": 0.101275,
     "end_time": "2020-11-26T13:52:51.028604",
     "exception": false,
     "start_time": "2020-11-26T13:52:50.927329",
     "status": "completed"
    },
    "tags": []
   },
   "source": [
    "### When using SMOTE, it is important that SMOTE be applied to the training set only, after splitting the dataset into train and test set. This is to avoid some of the oversampled data to be seen in both training and testing set. Imblearn's Pipeline will handle this for us automatically."
   ]
  },
  {
   "cell_type": "code",
   "execution_count": 57,
   "metadata": {
    "execution": {
     "iopub.execute_input": "2020-11-26T13:52:51.240695Z",
     "iopub.status.busy": "2020-11-26T13:52:51.239939Z",
     "iopub.status.idle": "2020-11-26T13:52:51.243920Z",
     "shell.execute_reply": "2020-11-26T13:52:51.243294Z"
    },
    "papermill": {
     "duration": 0.112085,
     "end_time": "2020-11-26T13:52:51.244078",
     "exception": false,
     "start_time": "2020-11-26T13:52:51.131993",
     "status": "completed"
    },
    "tags": []
   },
   "outputs": [],
   "source": [
    "baseline_model4 = LogisticRegression()\n",
    "smote = SMOTE(random_state=1)\n",
    "pipe = Pipeline([('smote', smote), ('model', baseline_model4)])"
   ]
  },
  {
   "cell_type": "code",
   "execution_count": 58,
   "metadata": {
    "execution": {
     "iopub.execute_input": "2020-11-26T13:52:51.449898Z",
     "iopub.status.busy": "2020-11-26T13:52:51.448174Z",
     "iopub.status.idle": "2020-11-26T13:52:51.467071Z",
     "shell.execute_reply": "2020-11-26T13:52:51.467627Z"
    },
    "papermill": {
     "duration": 0.124404,
     "end_time": "2020-11-26T13:52:51.467787",
     "exception": false,
     "start_time": "2020-11-26T13:52:51.343383",
     "status": "completed"
    },
    "tags": []
   },
   "outputs": [
    {
     "data": {
      "text/plain": [
       "(284807, 19)"
      ]
     },
     "execution_count": 58,
     "metadata": {},
     "output_type": "execute_result"
    }
   ],
   "source": [
    "smote_X = X3[:, feature_elimination3.support_] # using the 19 best features\n",
    "smote_X.shape"
   ]
  },
  {
   "cell_type": "code",
   "execution_count": 59,
   "metadata": {
    "execution": {
     "iopub.execute_input": "2020-11-26T13:52:51.674730Z",
     "iopub.status.busy": "2020-11-26T13:52:51.673899Z",
     "iopub.status.idle": "2020-11-26T13:52:55.336078Z",
     "shell.execute_reply": "2020-11-26T13:52:55.335029Z"
    },
    "papermill": {
     "duration": 3.768441,
     "end_time": "2020-11-26T13:52:55.336222",
     "exception": false,
     "start_time": "2020-11-26T13:52:51.567781",
     "status": "completed"
    },
    "tags": []
   },
   "outputs": [],
   "source": [
    "scores = cross_val_score(pipe, smote_X, y, scoring='f1', cv=cv, n_jobs=4)"
   ]
  },
  {
   "cell_type": "code",
   "execution_count": 60,
   "metadata": {
    "execution": {
     "iopub.execute_input": "2020-11-26T13:52:55.541408Z",
     "iopub.status.busy": "2020-11-26T13:52:55.540498Z",
     "iopub.status.idle": "2020-11-26T13:52:55.545173Z",
     "shell.execute_reply": "2020-11-26T13:52:55.544380Z"
    },
    "papermill": {
     "duration": 0.109601,
     "end_time": "2020-11-26T13:52:55.545304",
     "exception": false,
     "start_time": "2020-11-26T13:52:55.435703",
     "status": "completed"
    },
    "tags": []
   },
   "outputs": [
    {
     "data": {
      "text/plain": [
       "array([0.09063444, 0.18732782, 0.06511367, 0.1233993 ])"
      ]
     },
     "execution_count": 60,
     "metadata": {},
     "output_type": "execute_result"
    }
   ],
   "source": [
    "scores"
   ]
  },
  {
   "cell_type": "code",
   "execution_count": 61,
   "metadata": {
    "execution": {
     "iopub.execute_input": "2020-11-26T13:52:55.760898Z",
     "iopub.status.busy": "2020-11-26T13:52:55.760034Z",
     "iopub.status.idle": "2020-11-26T13:52:55.765134Z",
     "shell.execute_reply": "2020-11-26T13:52:55.764438Z"
    },
    "papermill": {
     "duration": 0.117883,
     "end_time": "2020-11-26T13:52:55.765259",
     "exception": false,
     "start_time": "2020-11-26T13:52:55.647376",
     "status": "completed"
    },
    "tags": []
   },
   "outputs": [
    {
     "data": {
      "text/plain": [
       "0.11661880863738695"
      ]
     },
     "execution_count": 61,
     "metadata": {},
     "output_type": "execute_result"
    }
   ],
   "source": [
    "scores.mean()"
   ]
  },
  {
   "cell_type": "markdown",
   "metadata": {
    "papermill": {
     "duration": 0.100303,
     "end_time": "2020-11-26T13:52:55.970520",
     "exception": false,
     "start_time": "2020-11-26T13:52:55.870217",
     "status": "completed"
    },
    "tags": []
   },
   "source": [
    "## We can then conclude that using class weight performs better than SMOTE. We will build our models based on this conclusion...Using only the 19 scaled PCA features and setting class weight is the best preprocessing. "
   ]
  },
  {
   "cell_type": "code",
   "execution_count": null,
   "metadata": {
    "papermill": {
     "duration": 0.103688,
     "end_time": "2020-11-26T13:52:56.177024",
     "exception": false,
     "start_time": "2020-11-26T13:52:56.073336",
     "status": "completed"
    },
    "tags": []
   },
   "outputs": [],
   "source": []
  }
 ],
 "metadata": {
  "kernelspec": {
   "display_name": "Python 3",
   "language": "python",
   "name": "python3"
  },
  "language_info": {
   "codemirror_mode": {
    "name": "ipython",
    "version": 3
   },
   "file_extension": ".py",
   "mimetype": "text/x-python",
   "name": "python",
   "nbconvert_exporter": "python",
   "pygments_lexer": "ipython3",
   "version": "3.7.6"
  },
  "papermill": {
   "duration": 160.590244,
   "end_time": "2020-11-26T13:52:56.387881",
   "environment_variables": {},
   "exception": null,
   "input_path": "__notebook__.ipynb",
   "output_path": "__notebook__.ipynb",
   "parameters": {},
   "start_time": "2020-11-26T13:50:15.797637",
   "version": "2.1.0"
  }
 },
 "nbformat": 4,
 "nbformat_minor": 4
}
